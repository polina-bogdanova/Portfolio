{
 "cells": [
  {
   "cell_type": "markdown",
   "metadata": {},
   "source": [
    "# Исследование объявлений о продаже квартир\n",
    "\n",
    "В вашем распоряжении данные сервиса Яндекс.Недвижимость — архив объявлений о продаже квартир в Санкт-Петербурге и соседних населённых пунктов за несколько лет. Нужно научиться определять рыночную стоимость объектов недвижимости. Ваша задача — установить параметры. Это позволит построить автоматизированную систему: она отследит аномалии и мошенническую деятельность. \n",
    "\n",
    "По каждой квартире на продажу доступны два вида данных. Первые вписаны пользователем, вторые — получены автоматически на основе картографических данных. Например, расстояние до центра, аэропорта, ближайшего парка и водоёма. "
   ]
  },
  {
   "cell_type": "markdown",
   "metadata": {},
   "source": [
    "В ходе исследования проверим влияение различных факторов на конечную цену недвижимости.\\\n",
    "План работы:\n",
    "1) Провести предобработку данных: заполнить или удалить пропущенные значения, исследовать аномалии, удалить неявные дубликаты, создать новые столбцы;\n",
    "2) Изучить все параметры недвижимости путем построения гистограмм;\n",
    "3) Изучить, как быстро продавались квартиры;\n",
    "4) Выявить какие факторы влияют на стоимость квартиры;\n",
    "5) Посчитаь цену одного квадратного метра;\n",
    "6) Посчитать среднюю цену одного километра до центра города;\n",
    "7) Сделать общий вывод."
   ]
  },
  {
   "cell_type": "markdown",
   "metadata": {},
   "source": [
    "### Откройте файл с данными и изучите общую информацию. "
   ]
  },
  {
   "cell_type": "code",
   "execution_count": 1,
   "metadata": {},
   "outputs": [],
   "source": [
    "import pandas as pd\n",
    "import matplotlib.pyplot as plt"
   ]
  },
  {
   "cell_type": "code",
   "execution_count": 2,
   "metadata": {},
   "outputs": [
    {
     "name": "stdout",
     "output_type": "stream",
     "text": [
      "<class 'pandas.core.frame.DataFrame'>\n",
      "RangeIndex: 23699 entries, 0 to 23698\n",
      "Data columns (total 22 columns):\n",
      " #   Column                Non-Null Count  Dtype  \n",
      "---  ------                --------------  -----  \n",
      " 0   total_images          23699 non-null  int64  \n",
      " 1   last_price            23699 non-null  float64\n",
      " 2   total_area            23699 non-null  float64\n",
      " 3   first_day_exposition  23699 non-null  object \n",
      " 4   rooms                 23699 non-null  int64  \n",
      " 5   ceiling_height        14504 non-null  float64\n",
      " 6   floors_total          23613 non-null  float64\n",
      " 7   living_area           21796 non-null  float64\n",
      " 8   floor                 23699 non-null  int64  \n",
      " 9   is_apartment          2775 non-null   object \n",
      " 10  studio                23699 non-null  bool   \n",
      " 11  open_plan             23699 non-null  bool   \n",
      " 12  kitchen_area          21421 non-null  float64\n",
      " 13  balcony               12180 non-null  float64\n",
      " 14  locality_name         23650 non-null  object \n",
      " 15  airports_nearest      18157 non-null  float64\n",
      " 16  cityCenters_nearest   18180 non-null  float64\n",
      " 17  parks_around3000      18181 non-null  float64\n",
      " 18  parks_nearest         8079 non-null   float64\n",
      " 19  ponds_around3000      18181 non-null  float64\n",
      " 20  ponds_nearest         9110 non-null   float64\n",
      " 21  days_exposition       20518 non-null  float64\n",
      "dtypes: bool(2), float64(14), int64(3), object(3)\n",
      "memory usage: 3.7+ MB\n"
     ]
    }
   ],
   "source": [
    "data = pd.read_csv('/datasets/real_estate_data.csv', sep='\\t')\n",
    "data.info()"
   ]
  },
  {
   "cell_type": "markdown",
   "metadata": {},
   "source": [
    "Ознакомимся с исходными данными таблицы:"
   ]
  },
  {
   "cell_type": "code",
   "execution_count": 3,
   "metadata": {},
   "outputs": [
    {
     "data": {
      "text/html": [
       "<div>\n",
       "<style scoped>\n",
       "    .dataframe tbody tr th:only-of-type {\n",
       "        vertical-align: middle;\n",
       "    }\n",
       "\n",
       "    .dataframe tbody tr th {\n",
       "        vertical-align: top;\n",
       "    }\n",
       "\n",
       "    .dataframe thead th {\n",
       "        text-align: right;\n",
       "    }\n",
       "</style>\n",
       "<table border=\"1\" class=\"dataframe\">\n",
       "  <thead>\n",
       "    <tr style=\"text-align: right;\">\n",
       "      <th></th>\n",
       "      <th>total_images</th>\n",
       "      <th>last_price</th>\n",
       "      <th>total_area</th>\n",
       "      <th>first_day_exposition</th>\n",
       "      <th>rooms</th>\n",
       "      <th>ceiling_height</th>\n",
       "      <th>floors_total</th>\n",
       "      <th>living_area</th>\n",
       "      <th>floor</th>\n",
       "      <th>is_apartment</th>\n",
       "      <th>...</th>\n",
       "      <th>kitchen_area</th>\n",
       "      <th>balcony</th>\n",
       "      <th>locality_name</th>\n",
       "      <th>airports_nearest</th>\n",
       "      <th>cityCenters_nearest</th>\n",
       "      <th>parks_around3000</th>\n",
       "      <th>parks_nearest</th>\n",
       "      <th>ponds_around3000</th>\n",
       "      <th>ponds_nearest</th>\n",
       "      <th>days_exposition</th>\n",
       "    </tr>\n",
       "  </thead>\n",
       "  <tbody>\n",
       "    <tr>\n",
       "      <th>0</th>\n",
       "      <td>20</td>\n",
       "      <td>13000000.0</td>\n",
       "      <td>108.0</td>\n",
       "      <td>2019-03-07T00:00:00</td>\n",
       "      <td>3</td>\n",
       "      <td>2.70</td>\n",
       "      <td>16.0</td>\n",
       "      <td>51.0</td>\n",
       "      <td>8</td>\n",
       "      <td>NaN</td>\n",
       "      <td>...</td>\n",
       "      <td>25.0</td>\n",
       "      <td>NaN</td>\n",
       "      <td>Санкт-Петербург</td>\n",
       "      <td>18863.0</td>\n",
       "      <td>16028.0</td>\n",
       "      <td>1.0</td>\n",
       "      <td>482.0</td>\n",
       "      <td>2.0</td>\n",
       "      <td>755.0</td>\n",
       "      <td>NaN</td>\n",
       "    </tr>\n",
       "    <tr>\n",
       "      <th>1</th>\n",
       "      <td>7</td>\n",
       "      <td>3350000.0</td>\n",
       "      <td>40.4</td>\n",
       "      <td>2018-12-04T00:00:00</td>\n",
       "      <td>1</td>\n",
       "      <td>NaN</td>\n",
       "      <td>11.0</td>\n",
       "      <td>18.6</td>\n",
       "      <td>1</td>\n",
       "      <td>NaN</td>\n",
       "      <td>...</td>\n",
       "      <td>11.0</td>\n",
       "      <td>2.0</td>\n",
       "      <td>посёлок Шушары</td>\n",
       "      <td>12817.0</td>\n",
       "      <td>18603.0</td>\n",
       "      <td>0.0</td>\n",
       "      <td>NaN</td>\n",
       "      <td>0.0</td>\n",
       "      <td>NaN</td>\n",
       "      <td>81.0</td>\n",
       "    </tr>\n",
       "    <tr>\n",
       "      <th>2</th>\n",
       "      <td>10</td>\n",
       "      <td>5196000.0</td>\n",
       "      <td>56.0</td>\n",
       "      <td>2015-08-20T00:00:00</td>\n",
       "      <td>2</td>\n",
       "      <td>NaN</td>\n",
       "      <td>5.0</td>\n",
       "      <td>34.3</td>\n",
       "      <td>4</td>\n",
       "      <td>NaN</td>\n",
       "      <td>...</td>\n",
       "      <td>8.3</td>\n",
       "      <td>0.0</td>\n",
       "      <td>Санкт-Петербург</td>\n",
       "      <td>21741.0</td>\n",
       "      <td>13933.0</td>\n",
       "      <td>1.0</td>\n",
       "      <td>90.0</td>\n",
       "      <td>2.0</td>\n",
       "      <td>574.0</td>\n",
       "      <td>558.0</td>\n",
       "    </tr>\n",
       "    <tr>\n",
       "      <th>3</th>\n",
       "      <td>0</td>\n",
       "      <td>64900000.0</td>\n",
       "      <td>159.0</td>\n",
       "      <td>2015-07-24T00:00:00</td>\n",
       "      <td>3</td>\n",
       "      <td>NaN</td>\n",
       "      <td>14.0</td>\n",
       "      <td>NaN</td>\n",
       "      <td>9</td>\n",
       "      <td>NaN</td>\n",
       "      <td>...</td>\n",
       "      <td>NaN</td>\n",
       "      <td>0.0</td>\n",
       "      <td>Санкт-Петербург</td>\n",
       "      <td>28098.0</td>\n",
       "      <td>6800.0</td>\n",
       "      <td>2.0</td>\n",
       "      <td>84.0</td>\n",
       "      <td>3.0</td>\n",
       "      <td>234.0</td>\n",
       "      <td>424.0</td>\n",
       "    </tr>\n",
       "    <tr>\n",
       "      <th>4</th>\n",
       "      <td>2</td>\n",
       "      <td>10000000.0</td>\n",
       "      <td>100.0</td>\n",
       "      <td>2018-06-19T00:00:00</td>\n",
       "      <td>2</td>\n",
       "      <td>3.03</td>\n",
       "      <td>14.0</td>\n",
       "      <td>32.0</td>\n",
       "      <td>13</td>\n",
       "      <td>NaN</td>\n",
       "      <td>...</td>\n",
       "      <td>41.0</td>\n",
       "      <td>NaN</td>\n",
       "      <td>Санкт-Петербург</td>\n",
       "      <td>31856.0</td>\n",
       "      <td>8098.0</td>\n",
       "      <td>2.0</td>\n",
       "      <td>112.0</td>\n",
       "      <td>1.0</td>\n",
       "      <td>48.0</td>\n",
       "      <td>121.0</td>\n",
       "    </tr>\n",
       "  </tbody>\n",
       "</table>\n",
       "<p>5 rows × 22 columns</p>\n",
       "</div>"
      ],
      "text/plain": [
       "   total_images  last_price  total_area first_day_exposition  rooms  \\\n",
       "0            20  13000000.0       108.0  2019-03-07T00:00:00      3   \n",
       "1             7   3350000.0        40.4  2018-12-04T00:00:00      1   \n",
       "2            10   5196000.0        56.0  2015-08-20T00:00:00      2   \n",
       "3             0  64900000.0       159.0  2015-07-24T00:00:00      3   \n",
       "4             2  10000000.0       100.0  2018-06-19T00:00:00      2   \n",
       "\n",
       "   ceiling_height  floors_total  living_area  floor is_apartment  ...  \\\n",
       "0            2.70          16.0         51.0      8          NaN  ...   \n",
       "1             NaN          11.0         18.6      1          NaN  ...   \n",
       "2             NaN           5.0         34.3      4          NaN  ...   \n",
       "3             NaN          14.0          NaN      9          NaN  ...   \n",
       "4            3.03          14.0         32.0     13          NaN  ...   \n",
       "\n",
       "   kitchen_area  balcony    locality_name  airports_nearest  \\\n",
       "0          25.0      NaN  Санкт-Петербург           18863.0   \n",
       "1          11.0      2.0   посёлок Шушары           12817.0   \n",
       "2           8.3      0.0  Санкт-Петербург           21741.0   \n",
       "3           NaN      0.0  Санкт-Петербург           28098.0   \n",
       "4          41.0      NaN  Санкт-Петербург           31856.0   \n",
       "\n",
       "  cityCenters_nearest  parks_around3000  parks_nearest  ponds_around3000  \\\n",
       "0             16028.0               1.0          482.0               2.0   \n",
       "1             18603.0               0.0            NaN               0.0   \n",
       "2             13933.0               1.0           90.0               2.0   \n",
       "3              6800.0               2.0           84.0               3.0   \n",
       "4              8098.0               2.0          112.0               1.0   \n",
       "\n",
       "   ponds_nearest  days_exposition  \n",
       "0          755.0              NaN  \n",
       "1            NaN             81.0  \n",
       "2          574.0            558.0  \n",
       "3          234.0            424.0  \n",
       "4           48.0            121.0  \n",
       "\n",
       "[5 rows x 22 columns]"
      ]
     },
     "execution_count": 3,
     "metadata": {},
     "output_type": "execute_result"
    }
   ],
   "source": [
    "data.head()"
   ]
  },
  {
   "cell_type": "markdown",
   "metadata": {},
   "source": [
    "В исходных данных 23699 строк и 22 столбца. Построим общую гистограмму для всех числовых столбцов таблицы."
   ]
  },
  {
   "cell_type": "code",
   "execution_count": 4,
   "metadata": {},
   "outputs": [
    {
     "data": {
      "image/png": "[encoded data removed]",
      "text/plain": [
       "<Figure size 1080x1440 with 20 Axes>"
      ]
     },
     "metadata": {
      "needs_background": "light"
     },
     "output_type": "display_data"
    }
   ],
   "source": [
    "data.hist(figsize=(15,20));"
   ]
  },
  {
   "cell_type": "markdown",
   "metadata": {},
   "source": [
    "Не все данные понятны с первого знакомства с ними, но они дают представление о ситуации и закономерностях на рынке недивжимости, например какое количество комнат в квартирах, которые выставлены на продажу, их площадь, а также какая инфраструктура вблизи объектов."
   ]
  },
  {
   "cell_type": "markdown",
   "metadata": {},
   "source": [
    "### Предобработка данных"
   ]
  },
  {
   "cell_type": "markdown",
   "metadata": {},
   "source": [
    "**Работа с пропусками**\\\n",
    "Найдем и изучим пропущенные значения в столбцах. Для начала определим в каких столбцах есть пропуски."
   ]
  },
  {
   "cell_type": "code",
   "execution_count": 5,
   "metadata": {},
   "outputs": [
    {
     "data": {
      "text/plain": [
       "total_images                0\n",
       "last_price                  0\n",
       "total_area                  0\n",
       "first_day_exposition        0\n",
       "rooms                       0\n",
       "ceiling_height           9195\n",
       "floors_total               86\n",
       "living_area              1903\n",
       "floor                       0\n",
       "is_apartment            20924\n",
       "studio                      0\n",
       "open_plan                   0\n",
       "kitchen_area             2278\n",
       "balcony                 11519\n",
       "locality_name              49\n",
       "airports_nearest         5542\n",
       "cityCenters_nearest      5519\n",
       "parks_around3000         5518\n",
       "parks_nearest           15620\n",
       "ponds_around3000         5518\n",
       "ponds_nearest           14589\n",
       "days_exposition          3181\n",
       "dtype: int64"
      ]
     },
     "execution_count": 5,
     "metadata": {},
     "output_type": "execute_result"
    }
   ],
   "source": [
    "data.isna().sum()"
   ]
  },
  {
   "cell_type": "markdown",
   "metadata": {},
   "source": [
    "В исходных данных много пропусков. В столбце is_apartment пропусков почти столько же, сколько строк в таблице. Очень много пропусков в столбцах с расстояниями до парков и водоемов, скорее всего, эти значения не указывались из-за того, что рядом их нет. Аналогично с балконами. 9195 пропусков в столбце с высотой потолков, природа этих пропусков непонятна, их предстоить заполнить медианным значением, так как данные важны для анализа. Так же есть пропуски, но их меньше, в колонках floors_total, living_area, kitchen_area, locality_name, airports_nearest, cityCenters_nearest, parks_around3000, ponds_around3000, days_exposition. Попробуем заполнить пропущенные значения, где это возможно."
   ]
  },
  {
   "cell_type": "code",
   "execution_count": 6,
   "metadata": {},
   "outputs": [],
   "source": [
    "# check\n",
    "# пропущенные значения бары\n",
    "\n",
    "def pass_value_barh(df):\n",
    "    try:\n",
    "        (\n",
    "            (df.isna().mean()*100)\n",
    "            .to_frame()\n",
    "            .rename(columns = {0:'space'})\n",
    "            .query('space > 0')\n",
    "            .sort_values(by = 'space', ascending = True)\n",
    "            .plot(kind = 'barh', figsize = (19,6), rot = -5, legend = False, fontsize = 16)\n",
    "            .set_title('Пример' + \"\\n\", fontsize = 22, color = 'SteelBlue')    \n",
    "        );    \n",
    "    except:\n",
    "        print('пропусков не осталось :) или произошла ошибка в первой части функции ')"
   ]
  },
  {
   "cell_type": "code",
   "execution_count": 7,
   "metadata": {},
   "outputs": [
    {
     "data": {
      "image/png": "[encoded data removed]",
      "text/plain": [
       "<Figure size 1368x432 with 1 Axes>"
      ]
     },
     "metadata": {
      "needs_background": "light"
     },
     "output_type": "display_data"
    }
   ],
   "source": [
    "pass_value_barh(data)"
   ]
  },
  {
   "cell_type": "markdown",
   "metadata": {},
   "source": [
    "Удалим строки с пропущенными значениями в столбце floors_total. Их не очень много, поэтому это не повлияет на ход исследования."
   ]
  },
  {
   "cell_type": "code",
   "execution_count": 8,
   "metadata": {},
   "outputs": [],
   "source": [
    "data.dropna(subset=['floors_total'], inplace=True)"
   ]
  },
  {
   "cell_type": "code",
   "execution_count": 9,
   "metadata": {},
   "outputs": [],
   "source": [
    "data['is_apartment'] = data['is_apartment'].fillna(True)"
   ]
  },
  {
   "cell_type": "markdown",
   "metadata": {},
   "source": [
    "Так как столбец is_apartment показывает, является ли продаваемая недвижимость апартаментами, можно предположить, что пропущенные значения соответствуют значению True, то есть владелец не указывал такой тип недвижимости, потому что, возможно, и так понятно, что это квартира. Далее заполним пропуски в столбце balcony."
   ]
  },
  {
   "cell_type": "code",
   "execution_count": 10,
   "metadata": {
    "scrolled": true
   },
   "outputs": [],
   "source": [
    "data['balcony'] = data['balcony'].fillna(0)"
   ]
  },
  {
   "cell_type": "markdown",
   "metadata": {},
   "source": [
    "Пропуски в столбце balcony были заполнены значением 0, так как можно предположить, что продавцы не указывали количество балконов, в случае если их нет в квартире."
   ]
  },
  {
   "cell_type": "markdown",
   "metadata": {},
   "source": [
    "Пропуски в столбцах с расстоянием до парка или водоема заполнять некорректно, так как мы не можем с уверенностью предположить, что они есть рядом. Тогда ни нулевое, ни медианное значение не подойдет."
   ]
  },
  {
   "cell_type": "code",
   "execution_count": 11,
   "metadata": {},
   "outputs": [],
   "source": [
    "data['ceiling_height'] = data['ceiling_height'].transform(lambda x: x.fillna(x.median()))"
   ]
  },
  {
   "cell_type": "markdown",
   "metadata": {},
   "source": [
    "Заполним пропуски в столбце высоты квартиры медианным значением. В данном случае не можем сгруппировать данные по населенному пункту или чилу этажей, так как могут быть не достоверными."
   ]
  },
  {
   "cell_type": "markdown",
   "metadata": {},
   "source": [
    "Можем так же предположить, что квартиры, в которых не указано количество парков и водоемов в радиусе 3 км, не имеют их рядом, тогда пропускам в этом столбце можно присвоить значение 0. "
   ]
  },
  {
   "cell_type": "code",
   "execution_count": 12,
   "metadata": {},
   "outputs": [],
   "source": [
    "data['parks_around3000'] = data['parks_around3000'].fillna(0)\n",
    "data['ponds_around3000'] = data['ponds_around3000'].fillna(0)"
   ]
  },
  {
   "cell_type": "markdown",
   "metadata": {},
   "source": [
    "Посмотрим, как изменилось количество пропусков после заполнения некоторых из них:"
   ]
  },
  {
   "cell_type": "code",
   "execution_count": 13,
   "metadata": {
    "scrolled": false
   },
   "outputs": [
    {
     "data": {
      "text/plain": [
       "total_images                0\n",
       "last_price                  0\n",
       "total_area                  0\n",
       "first_day_exposition        0\n",
       "rooms                       0\n",
       "ceiling_height              0\n",
       "floors_total                0\n",
       "living_area              1870\n",
       "floor                       0\n",
       "is_apartment                0\n",
       "studio                      0\n",
       "open_plan                   0\n",
       "kitchen_area             2231\n",
       "balcony                     0\n",
       "locality_name              48\n",
       "airports_nearest         5532\n",
       "cityCenters_nearest      5509\n",
       "parks_around3000            0\n",
       "parks_nearest           15568\n",
       "ponds_around3000            0\n",
       "ponds_nearest           14552\n",
       "days_exposition          3172\n",
       "dtype: int64"
      ]
     },
     "execution_count": 13,
     "metadata": {},
     "output_type": "execute_result"
    }
   ],
   "source": [
    "data.isna().sum()"
   ]
  },
  {
   "cell_type": "markdown",
   "metadata": {},
   "source": [
    "Пропусков стало действительно меньше, но если заполнить остальные, то можем получить недостоверные данные. Пропуски в столбцах, обозначающих расстояния до объектов: парков, водоемов, центра города, аэропорта, могли образоваться либо из-за того, что рядом нет соответствующих объектов или же продавец решил, что указывать расстояние не нужно, так как оно не повлияет на привлекательность объявления, например, если оно слишком большое. Причины появления пропусков в колонках с площадью квартиры непонятны, так как это один из ключевых показателей для покупателя недвижимости. Пропуски в столбце площади кухни могли быть пропущены, если квартира имеет необычную планировку, например квартира студия или квартира с совмещенной кухней и гостинной. Пропущенных значений в колонках, отражающих количество этажей в доме и названия населенного пункта, мало по сравнению с общим числом строк, поэтому они не исказят исследование.  "
   ]
  },
  {
   "cell_type": "markdown",
   "metadata": {},
   "source": [
    "**Типы данных**\\\n",
    "Далее рассмотрим тип данных в каждом столбце:"
   ]
  },
  {
   "cell_type": "code",
   "execution_count": 14,
   "metadata": {
    "scrolled": true
   },
   "outputs": [
    {
     "name": "stdout",
     "output_type": "stream",
     "text": [
      "<class 'pandas.core.frame.DataFrame'>\n",
      "Int64Index: 23613 entries, 0 to 23698\n",
      "Data columns (total 22 columns):\n",
      " #   Column                Non-Null Count  Dtype  \n",
      "---  ------                --------------  -----  \n",
      " 0   total_images          23613 non-null  int64  \n",
      " 1   last_price            23613 non-null  float64\n",
      " 2   total_area            23613 non-null  float64\n",
      " 3   first_day_exposition  23613 non-null  object \n",
      " 4   rooms                 23613 non-null  int64  \n",
      " 5   ceiling_height        23613 non-null  float64\n",
      " 6   floors_total          23613 non-null  float64\n",
      " 7   living_area           21743 non-null  float64\n",
      " 8   floor                 23613 non-null  int64  \n",
      " 9   is_apartment          23613 non-null  bool   \n",
      " 10  studio                23613 non-null  bool   \n",
      " 11  open_plan             23613 non-null  bool   \n",
      " 12  kitchen_area          21382 non-null  float64\n",
      " 13  balcony               23613 non-null  float64\n",
      " 14  locality_name         23565 non-null  object \n",
      " 15  airports_nearest      18081 non-null  float64\n",
      " 16  cityCenters_nearest   18104 non-null  float64\n",
      " 17  parks_around3000      23613 non-null  float64\n",
      " 18  parks_nearest         8045 non-null   float64\n",
      " 19  ponds_around3000      23613 non-null  float64\n",
      " 20  ponds_nearest         9061 non-null   float64\n",
      " 21  days_exposition       20441 non-null  float64\n",
      "dtypes: bool(3), float64(14), int64(3), object(2)\n",
      "memory usage: 3.7+ MB\n"
     ]
    }
   ],
   "source": [
    "data.info()"
   ]
  },
  {
   "cell_type": "markdown",
   "metadata": {},
   "source": [
    "Дата публикации (first_day_exposition) имеет тип данных object. Можем перевести в тип datetime:"
   ]
  },
  {
   "cell_type": "code",
   "execution_count": 15,
   "metadata": {},
   "outputs": [],
   "source": [
    "data['first_day_exposition'] = pd.to_datetime(data['first_day_exposition'], format='%Y.%m.%dT%H:%M:%S')"
   ]
  },
  {
   "cell_type": "markdown",
   "metadata": {},
   "source": [
    "Столбец balcony, отражающий количество балконов в квартире, имеет тип данных float64, изменим его на целочисленный:"
   ]
  },
  {
   "cell_type": "code",
   "execution_count": 16,
   "metadata": {},
   "outputs": [],
   "source": [
    "data['balcony'] = data['balcony'].astype('int')"
   ]
  },
  {
   "cell_type": "markdown",
   "metadata": {},
   "source": [
    "Аналогично поступим и с количеством парков и водоемов в радиусе 3км и количеством этажей в доме:"
   ]
  },
  {
   "cell_type": "code",
   "execution_count": 17,
   "metadata": {},
   "outputs": [],
   "source": [
    "data['parks_around3000'] = data['parks_around3000'].astype('int')\n",
    "data['ponds_around3000'] = data['ponds_around3000'].astype('int')"
   ]
  },
  {
   "cell_type": "code",
   "execution_count": 18,
   "metadata": {},
   "outputs": [],
   "source": [
    "data['floors_total'] = data['floors_total'].astype('int')"
   ]
  },
  {
   "cell_type": "code",
   "execution_count": 19,
   "metadata": {
    "scrolled": true
   },
   "outputs": [
    {
     "name": "stdout",
     "output_type": "stream",
     "text": [
      "<class 'pandas.core.frame.DataFrame'>\n",
      "Int64Index: 23613 entries, 0 to 23698\n",
      "Data columns (total 22 columns):\n",
      " #   Column                Non-Null Count  Dtype         \n",
      "---  ------                --------------  -----         \n",
      " 0   total_images          23613 non-null  int64         \n",
      " 1   last_price            23613 non-null  float64       \n",
      " 2   total_area            23613 non-null  float64       \n",
      " 3   first_day_exposition  23613 non-null  datetime64[ns]\n",
      " 4   rooms                 23613 non-null  int64         \n",
      " 5   ceiling_height        23613 non-null  float64       \n",
      " 6   floors_total          23613 non-null  int64         \n",
      " 7   living_area           21743 non-null  float64       \n",
      " 8   floor                 23613 non-null  int64         \n",
      " 9   is_apartment          23613 non-null  bool          \n",
      " 10  studio                23613 non-null  bool          \n",
      " 11  open_plan             23613 non-null  bool          \n",
      " 12  kitchen_area          21382 non-null  float64       \n",
      " 13  balcony               23613 non-null  int64         \n",
      " 14  locality_name         23565 non-null  object        \n",
      " 15  airports_nearest      18081 non-null  float64       \n",
      " 16  cityCenters_nearest   18104 non-null  float64       \n",
      " 17  parks_around3000      23613 non-null  int64         \n",
      " 18  parks_nearest         8045 non-null   float64       \n",
      " 19  ponds_around3000      23613 non-null  int64         \n",
      " 20  ponds_nearest         9061 non-null   float64       \n",
      " 21  days_exposition       20441 non-null  float64       \n",
      "dtypes: bool(3), datetime64[ns](1), float64(10), int64(7), object(1)\n",
      "memory usage: 3.7+ MB\n"
     ]
    }
   ],
   "source": [
    "data.info()"
   ]
  },
  {
   "cell_type": "markdown",
   "metadata": {},
   "source": [
    "Мы изменили типы данных нескольких столбцов. Дата публикации была изменена, так как формат datetime будет удобен в дальнейшем по сравнению с типом данных object. Так же изменили тип столбцов с количеством балконов в квартире и парков и водоемов рядом, так как их значения должны быть целочисленными."
   ]
  },
  {
   "cell_type": "markdown",
   "metadata": {},
   "source": [
    "**Поиск дубликатов**\\\n",
    "Изучим уникальные значения в столбце locality_name:"
   ]
  },
  {
   "cell_type": "code",
   "execution_count": 20,
   "metadata": {},
   "outputs": [
    {
     "name": "stdout",
     "output_type": "stream",
     "text": [
      "Кол-во уникальных значений: 364\n"
     ]
    },
    {
     "data": {
      "text/plain": [
       "array(['Санкт-Петербург', 'посёлок Шушары', 'городской посёлок Янино-1',\n",
       "       'посёлок Парголово', 'посёлок Мурино', 'Ломоносов', 'Сертолово',\n",
       "       'Петергоф', 'Пушкин', 'деревня Кудрово', 'Коммунар', 'Колпино',\n",
       "       'поселок городского типа Красный Бор', 'Гатчина', 'поселок Мурино',\n",
       "       'деревня Фёдоровское', 'Выборг', 'Кронштадт', 'Кировск',\n",
       "       'деревня Новое Девяткино', 'посёлок Металлострой',\n",
       "       'посёлок городского типа Лебяжье',\n",
       "       'посёлок городского типа Сиверский', 'поселок Молодцово',\n",
       "       'поселок городского типа Кузьмоловский',\n",
       "       'садовое товарищество Новая Ропша', 'Павловск',\n",
       "       'деревня Пикколово', 'Всеволожск', 'Волхов', 'Кингисепп',\n",
       "       'Приозерск', 'Сестрорецк', 'деревня Куттузи', 'посёлок Аннино',\n",
       "       'поселок городского типа Ефимовский', 'посёлок Плодовое',\n",
       "       'деревня Заклинье', 'поселок Торковичи', 'поселок Первомайское',\n",
       "       'Красное Село', 'посёлок Понтонный', 'Сясьстрой', 'деревня Старая',\n",
       "       'деревня Лесколово', 'посёлок Новый Свет', 'Сланцы',\n",
       "       'село Путилово', 'Ивангород', 'Мурино', 'Шлиссельбург',\n",
       "       'Никольское', 'Зеленогорск', 'Сосновый Бор', 'поселок Новый Свет',\n",
       "       'деревня Оржицы', 'деревня Кальтино', 'Кудрово',\n",
       "       'поселок Романовка', 'посёлок Бугры', 'поселок Бугры',\n",
       "       'поселок городского типа Рощино', 'Кириши', 'Луга', 'Волосово',\n",
       "       'Отрадное', 'село Павлово', 'поселок Оредеж', 'село Копорье',\n",
       "       'посёлок городского типа Красный Бор', 'посёлок Молодёжное',\n",
       "       'Тихвин', 'посёлок Победа', 'деревня Нурма',\n",
       "       'поселок городского типа Синявино', 'Тосно',\n",
       "       'посёлок городского типа Кузьмоловский', 'посёлок Стрельна',\n",
       "       'Бокситогорск', 'посёлок Александровская', 'деревня Лопухинка',\n",
       "       'Пикалёво', 'поселок Терволово',\n",
       "       'поселок городского типа Советский', 'Подпорожье',\n",
       "       'посёлок Петровское', 'посёлок городского типа Токсово',\n",
       "       'поселок Сельцо', 'посёлок городского типа Вырица',\n",
       "       'деревня Кипень', 'деревня Келози', 'деревня Вартемяги',\n",
       "       'посёлок Тельмана', 'поселок Севастьяново',\n",
       "       'городской поселок Большая Ижора', nan,\n",
       "       'городской посёлок Павлово', 'деревня Агалатово',\n",
       "       'посёлок Новогорелово', 'городской посёлок Лесогорский',\n",
       "       'деревня Лаголово', 'поселок Цвелодубово',\n",
       "       'поселок городского типа Рахья', 'поселок городского типа Вырица',\n",
       "       'деревня Белогорка', 'поселок Заводской',\n",
       "       'городской посёлок Новоселье', 'деревня Большие Колпаны',\n",
       "       'деревня Горбунки', 'деревня Батово', 'деревня Заневка',\n",
       "       'деревня Иссад', 'Приморск', 'городской посёлок Фёдоровское',\n",
       "       'деревня Мистолово', 'Новая Ладога', 'поселок Зимитицы',\n",
       "       'поселок Барышево', 'деревня Разметелево',\n",
       "       'поселок городского типа имени Свердлова', 'деревня Пеники',\n",
       "       'поселок Рябово', 'деревня Пудомяги', 'поселок станции Корнево',\n",
       "       'деревня Низино', 'деревня Бегуницы', 'посёлок Поляны',\n",
       "       'городской посёлок Мга', 'поселок Елизаветино',\n",
       "       'посёлок городского типа Кузнечное', 'деревня Колтуши',\n",
       "       'поселок Запорожское', 'посёлок городского типа Рощино',\n",
       "       'деревня Гостилицы', 'деревня Малое Карлино',\n",
       "       'посёлок Мичуринское', 'посёлок городского типа имени Морозова',\n",
       "       'посёлок Песочный', 'посёлок Сосново', 'деревня Аро',\n",
       "       'поселок Ильичёво', 'посёлок городского типа Тайцы',\n",
       "       'деревня Малое Верево', 'деревня Извара', 'поселок станции Вещево',\n",
       "       'село Паша', 'деревня Калитино',\n",
       "       'посёлок городского типа Ульяновка', 'деревня Чудской Бор',\n",
       "       'поселок городского типа Дубровка', 'деревня Мины',\n",
       "       'поселок Войсковицы', 'посёлок городского типа имени Свердлова',\n",
       "       'деревня Коркино', 'посёлок Ропша',\n",
       "       'поселок городского типа Приладожский', 'посёлок Щеглово',\n",
       "       'посёлок Гаврилово', 'Лодейное Поле', 'деревня Рабитицы',\n",
       "       'поселок городского типа Никольский', 'деревня Кузьмолово',\n",
       "       'деревня Малые Колпаны', 'поселок Тельмана',\n",
       "       'посёлок Петро-Славянка', 'городской посёлок Назия',\n",
       "       'посёлок Репино', 'посёлок Ильичёво', 'поселок Углово',\n",
       "       'поселок Старая Малукса', 'садовое товарищество Рахья',\n",
       "       'поселок Аннино', 'поселок Победа', 'деревня Меньково',\n",
       "       'деревня Старые Бегуницы', 'посёлок Сапёрный', 'поселок Семрино',\n",
       "       'поселок Гаврилово', 'поселок Глажево', 'поселок Кобринское',\n",
       "       'деревня Гарболово', 'деревня Юкки',\n",
       "       'поселок станции Приветнинское', 'деревня Мануйлово',\n",
       "       'деревня Пчева', 'поселок Поляны', 'поселок Цвылёво',\n",
       "       'поселок Мельниково', 'посёлок Пудость', 'посёлок Усть-Луга',\n",
       "       'Светогорск', 'Любань', 'поселок Селезнёво',\n",
       "       'поселок городского типа Рябово', 'Каменногорск', 'деревня Кривко',\n",
       "       'поселок Глебычево', 'деревня Парицы', 'поселок Жилпосёлок',\n",
       "       'посёлок городского типа Мга', 'городской поселок Янино-1',\n",
       "       'посёлок Войскорово', 'село Никольское', 'посёлок Терволово',\n",
       "       'поселок Стеклянный', 'посёлок городского типа Важины',\n",
       "       'посёлок Мыза-Ивановка', 'село Русско-Высоцкое',\n",
       "       'поселок городского типа Лебяжье',\n",
       "       'поселок городского типа Форносово', 'село Старая Ладога',\n",
       "       'поселок Житково', 'городской посёлок Виллози', 'деревня Лампово',\n",
       "       'деревня Шпаньково', 'деревня Лаврики', 'посёлок Сумино',\n",
       "       'посёлок Возрождение', 'деревня Старосиверская',\n",
       "       'посёлок Кикерино', 'поселок Возрождение',\n",
       "       'деревня Старое Хинколово', 'посёлок Пригородный',\n",
       "       'посёлок Торфяное', 'городской посёлок Будогощь',\n",
       "       'поселок Суходолье', 'поселок Красная Долина', 'деревня Хапо-Ое',\n",
       "       'поселок городского типа Дружная Горка', 'поселок Лисий Нос',\n",
       "       'деревня Яльгелево', 'посёлок Стеклянный', 'село Рождествено',\n",
       "       'деревня Старополье', 'посёлок Левашово', 'деревня Сяськелево',\n",
       "       'деревня Камышовка',\n",
       "       'садоводческое некоммерческое товарищество Лесная Поляна',\n",
       "       'деревня Хязельки', 'поселок Жилгородок',\n",
       "       'посёлок городского типа Павлово', 'деревня Ялгино',\n",
       "       'поселок Новый Учхоз', 'городской посёлок Рощино',\n",
       "       'поселок Гончарово', 'поселок Почап', 'посёлок Сапёрное',\n",
       "       'посёлок Платформа 69-й километр', 'поселок Каложицы',\n",
       "       'деревня Фалилеево', 'деревня Пельгора',\n",
       "       'поселок городского типа Лесогорский', 'деревня Торошковичи',\n",
       "       'посёлок Белоостров', 'посёлок Алексеевка', 'поселок Серебрянский',\n",
       "       'поселок Лукаши', 'поселок Петровское', 'деревня Щеглово',\n",
       "       'поселок Мичуринское', 'деревня Тарасово', 'поселок Кингисеппский',\n",
       "       'посёлок при железнодорожной станции Вещево', 'поселок Ушаки',\n",
       "       'деревня Котлы', 'деревня Сижно', 'деревня Торосово',\n",
       "       'посёлок Форт Красная Горка', 'деревня Новолисино',\n",
       "       'посёлок станции Громово', 'деревня Глинка', 'посёлок Мельниково',\n",
       "       'поселок городского типа Назия', 'деревня Старая Пустошь',\n",
       "       'поселок Коммунары', 'поселок Починок',\n",
       "       'посёлок городского типа Вознесенье', 'деревня Разбегаево',\n",
       "       'посёлок городского типа Рябово', 'поселок Гладкое',\n",
       "       'посёлок при железнодорожной станции Приветнинское',\n",
       "       'поселок Тёсово-4', 'посёлок Жилгородок', 'деревня Бор',\n",
       "       'посёлок Коробицыно', 'деревня Большая Вруда', 'деревня Курковицы',\n",
       "       'посёлок Лисий Нос', 'городской посёлок Советский',\n",
       "       'посёлок Кобралово', 'деревня Суоранда', 'поселок Кобралово',\n",
       "       'поселок городского типа Кондратьево',\n",
       "       'коттеджный поселок Счастье', 'поселок Любань', 'деревня Реброво',\n",
       "       'деревня Зимитицы', 'деревня Тойворово', 'поселок Семиозерье',\n",
       "       'поселок Лесное', 'поселок Совхозный', 'поселок Усть-Луга',\n",
       "       'посёлок Ленинское', 'посёлок Суйда',\n",
       "       'посёлок городского типа Форносово', 'деревня Нижние Осельки',\n",
       "       'посёлок станции Свирь', 'поселок Перово', 'Высоцк',\n",
       "       'поселок Гарболово', 'село Шум', 'поселок Котельский',\n",
       "       'поселок станции Лужайка', 'деревня Большая Пустомержа',\n",
       "       'поселок Красносельское', 'деревня Вахнова Кара', 'деревня Пижма',\n",
       "       'коттеджный поселок Кивеннапа Север', 'поселок Коробицыно',\n",
       "       'поселок Ромашки', 'посёлок Перово', 'деревня Каськово',\n",
       "       'деревня Куровицы', 'посёлок Плоское', 'поселок Сумино',\n",
       "       'поселок городского типа Большая Ижора', 'поселок Кирпичное',\n",
       "       'деревня Ям-Тесово', 'деревня Раздолье', 'деревня Терпилицы',\n",
       "       'поселок городского типа Токсово', 'посёлок Шугозеро',\n",
       "       'деревня Ваганово', 'поселок Пушное', 'садовое товарищество Садко',\n",
       "       'посёлок Усть-Ижора', 'деревня Выскатка',\n",
       "       'городской посёлок Свирьстрой', 'поселок Громово',\n",
       "       'деревня Кисельня', 'посёлок Старая Малукса',\n",
       "       'деревня Трубников Бор', 'поселок Калитино',\n",
       "       'посёлок Высокоключевой', 'садовое товарищество Приладожский',\n",
       "       'посёлок Пансионат Зелёный Бор', 'деревня Ненимяки',\n",
       "       'поселок Пансионат Зелёный Бор', 'деревня Снегирёвка',\n",
       "       'деревня Рапполово', 'деревня Пустынка', 'поселок Рабитицы',\n",
       "       'деревня Большой Сабск', 'деревня Русско', 'деревня Лупполово',\n",
       "       'деревня Большое Рейзино', 'деревня Малая Романовка',\n",
       "       'поселок Дружноселье', 'поселок Пчевжа', 'поселок Володарское',\n",
       "       'деревня Нижняя', 'коттеджный посёлок Лесное', 'деревня Тихковицы',\n",
       "       'деревня Борисова Грива', 'посёлок Дзержинского'], dtype=object)"
      ]
     },
     "execution_count": 20,
     "metadata": {},
     "output_type": "execute_result"
    }
   ],
   "source": [
    "print('Кол-во уникальных значений:', data['locality_name'].nunique())\n",
    "data['locality_name'].unique()"
   ]
  },
  {
   "cell_type": "markdown",
   "metadata": {},
   "source": [
    "В названиях населенных пунктов встречается поселок, посёлок, поселок городского типа и городской поселок. Приведем все к \"поселок\" для избежания повторов. Для начала приведем все к нижнему регистру и заменим ё на е."
   ]
  },
  {
   "cell_type": "code",
   "execution_count": 21,
   "metadata": {},
   "outputs": [
    {
     "name": "stdout",
     "output_type": "stream",
     "text": [
      "Новое кол-во уникальных значений: 330\n"
     ]
    }
   ],
   "source": [
    "data['locality_name'] = data['locality_name'].str.lower()\n",
    "data['locality_name'] = data['locality_name'].str.replace('ё','е')\n",
    "print('Новое кол-во уникальных значений:', data['locality_name'].nunique())"
   ]
  },
  {
   "cell_type": "markdown",
   "metadata": {},
   "source": [
    "Оставим только названия населенных пунктов без указания его вида: деревня, село, поселок и тд:"
   ]
  },
  {
   "cell_type": "code",
   "execution_count": 22,
   "metadata": {},
   "outputs": [
    {
     "data": {
      "text/plain": [
       "305"
      ]
     },
     "execution_count": 22,
     "metadata": {},
     "output_type": "execute_result"
    }
   ],
   "source": [
    "wrong_names = ['поселок','городской', 'городского типа', 'станции', 'коттеджный', \\\n",
    "               'деревня','при железнодорожной','село','садовое товарищество',\\\n",
    "               'садоводческое некоммерческое товарищество']\n",
    "for wrong_name in wrong_names:\n",
    "    data['locality_name'] = data['locality_name'].str.replace(wrong_name, '')\n",
    "data['locality_name'] = data['locality_name'].str.lstrip()\n",
    "data['locality_name'].nunique()"
   ]
  },
  {
   "cell_type": "markdown",
   "metadata": {},
   "source": [
    "Таким образом, количесто уникальных значений снизилось с 364 до 305. Неявные дубликаты были выявлены и заменены."
   ]
  },
  {
   "cell_type": "code",
   "execution_count": 23,
   "metadata": {
    "scrolled": true
   },
   "outputs": [
    {
     "data": {
      "text/plain": [
       "array(['санкт-петербург', 'шушары', 'янино-1', 'парголово', 'мурино',\n",
       "       'ломоносов', 'сертолово', 'петергоф', 'пушкин', 'кудрово',\n",
       "       'коммунар', 'колпино', 'красный бор', 'гатчина', 'федоровское',\n",
       "       'выборг', 'кронштадт', 'кировск', 'новое девяткино',\n",
       "       'металлострой', 'лебяжье', 'сиверский', 'молодцово',\n",
       "       'кузьмоловский', 'новая ропша', 'павловск', 'пикколово',\n",
       "       'всеволожск', 'волхов', 'кингисепп', 'приозерск', 'сестрорецк',\n",
       "       'куттузи', 'аннино', 'ефимовский', 'плодовое', 'заклинье',\n",
       "       'торковичи', 'первомайское', 'красное ', 'понтонный', 'сясьстрой',\n",
       "       'старая', 'лесколово', 'новый свет', 'сланцы', 'путилово',\n",
       "       'ивангород', 'шлиссельбург', 'никольское', 'зеленогорск',\n",
       "       'сосновый бор', 'оржицы', 'кальтино', 'романовка', 'бугры',\n",
       "       'рощино', 'кириши', 'луга', 'волосово', 'отрадное', 'павлово',\n",
       "       'оредеж', 'копорье', 'молодежное', 'тихвин', 'победа', 'нурма',\n",
       "       'синявино', 'тосно', 'стрельна', 'бокситогорск', 'александровская',\n",
       "       'лопухинка', 'пикалево', 'терволово', 'советский', 'подпорожье',\n",
       "       'петровское', 'токсово', 'сельцо', 'вырица', 'кипень', 'келози',\n",
       "       'вартемяги', 'тельмана', 'севастьяново', 'большая ижора', nan,\n",
       "       'агалатово', 'новогорелово', 'лесогорский', 'лаголово',\n",
       "       'цвелодубово', 'рахья', 'белогорка', 'заводской', 'новоселье',\n",
       "       'большие колпаны', 'горбунки', 'батово', 'заневка', 'иссад',\n",
       "       'приморск', 'мистолово', 'новая ладога', 'зимитицы', 'барышево',\n",
       "       'разметелево', 'имени свердлова', 'пеники', 'рябово', 'пудомяги',\n",
       "       'корнево', 'низино', 'бегуницы', 'поляны', 'мга', 'елизаветино',\n",
       "       'кузнечное', 'колтуши', 'запорожское', 'гостилицы',\n",
       "       'малое карлино', 'мичуринское', 'имени морозова', 'песочный',\n",
       "       'сосново', 'аро', 'ильичево', 'тайцы', 'малое верево', 'извара',\n",
       "       'вещево', 'паша', 'калитино', 'ульяновка', 'чудской бор',\n",
       "       'дубровка', 'мины', 'войсковицы', 'коркино', 'ропша',\n",
       "       'приладожский', 'щеглово', 'гаврилово', 'лодейное поле',\n",
       "       'рабитицы', 'никольский', 'кузьмолово', 'малые колпаны',\n",
       "       'петро-славянка', 'назия', 'репино', 'углово', 'старая малукса',\n",
       "       'меньково', 'старые бегуницы', 'саперный', 'семрино', 'глажево',\n",
       "       'кобринское', 'гарболово', 'юкки', 'приветнинское', 'мануйлово',\n",
       "       'пчева', 'цвылево', 'мельниково', 'пудость', 'усть-луга',\n",
       "       'светогорск', 'любань', 'селезнево', 'каменногорск', 'кривко',\n",
       "       'глебычево', 'парицы', 'жил', 'войскорово', 'стеклянный', 'важины',\n",
       "       'мыза-ивановка', 'русско-высоцкое', 'форносово', 'старая ладога',\n",
       "       'житково', 'виллози', 'лампово', 'шпаньково', 'лаврики', 'сумино',\n",
       "       'возрождение', 'старосиверская', 'кикерино', 'старое хинколово',\n",
       "       'пригородный', 'торфяное', 'будогощь', 'суходолье',\n",
       "       'красная долина', 'хапо-ое', 'дружная горка', 'лисий нос',\n",
       "       'яльгелево', 'рождествено', 'старополье', 'левашово', 'сяськелево',\n",
       "       'камышовка', 'лесная поляна', 'хязельки', 'жилгородок', 'ялгино',\n",
       "       'новый учхоз', 'гончарово', 'почап', 'саперное',\n",
       "       'платформа 69-й километр', 'каложицы', 'фалилеево', 'пельгора',\n",
       "       'торошковичи', 'белоостров', 'алексеевка', 'серебрянский',\n",
       "       'лукаши', 'тарасово', 'кингисеппский', 'ушаки', 'котлы', 'сижно',\n",
       "       'торосово', 'форт красная горка', 'новолисино', 'громово',\n",
       "       'глинка', 'старая пустошь', 'коммунары', 'починок', 'вознесенье',\n",
       "       'разбегаево', 'гладкое', 'тесово-4', 'бор', 'коробицыно',\n",
       "       'большая вруда', 'курковицы', 'кобралово', 'суоранда',\n",
       "       'кондратьево', 'счастье', 'реброво', 'тойворово', 'семиозерье',\n",
       "       'лесное', 'совхозный', 'ленинское', 'суйда', 'нижние осельки',\n",
       "       'свирь', 'перово', 'высоцк', 'шум', 'котельский', 'лужайка',\n",
       "       'большая пустомержа', 'красносельское', 'вахнова кара', 'пижма',\n",
       "       'кивеннапа север', 'ромашки', 'каськово', 'куровицы', 'плоское',\n",
       "       'кирпичное', 'ям-тесово', 'раздолье', 'терпилицы', 'шугозеро',\n",
       "       'ваганово', 'пушное', 'садко', 'усть-ижора', 'выскатка',\n",
       "       'свирьстрой', 'кисельня', 'трубников бор', 'высокоключевой',\n",
       "       'пансионат зеленый бор', 'ненимяки', 'снегиревка', 'рапполово',\n",
       "       'пустынка', 'большой сабск', 'русско', 'лупполово',\n",
       "       'большое рейзино', 'малая романовка', 'дружноселье', 'пчевжа',\n",
       "       'володарское', 'нижняя', 'тихковицы', 'борисова грива',\n",
       "       'дзержинского'], dtype=object)"
      ]
     },
     "execution_count": 23,
     "metadata": {},
     "output_type": "execute_result"
    }
   ],
   "source": [
    "data['locality_name'].unique()"
   ]
  },
  {
   "cell_type": "markdown",
   "metadata": {},
   "source": [
    "**Обработка аномальных значений**"
   ]
  },
  {
   "cell_type": "markdown",
   "metadata": {},
   "source": [
    "Исслудуем столбцы датафрейма на наличие аномальных значений. Начнем с количества комнат:"
   ]
  },
  {
   "cell_type": "code",
   "execution_count": 24,
   "metadata": {},
   "outputs": [
    {
     "data": {
      "text/plain": [
       "1     8015\n",
       "2     7913\n",
       "3     5795\n",
       "4     1177\n",
       "5      325\n",
       "0      194\n",
       "6      104\n",
       "7       59\n",
       "8       12\n",
       "9        8\n",
       "10       3\n",
       "11       2\n",
       "14       2\n",
       "19       1\n",
       "16       1\n",
       "12       1\n",
       "15       1\n",
       "Name: rooms, dtype: int64"
      ]
     },
     "execution_count": 24,
     "metadata": {},
     "output_type": "execute_result"
    }
   ],
   "source": [
    "data['rooms'].value_counts()"
   ]
  },
  {
   "cell_type": "markdown",
   "metadata": {},
   "source": [
    "Квартир, где количество комнат 8 и более, очень мало по сравнению с общим числом объявлений. Эти строки можно удалить, так как на исследование они не повлияют."
   ]
  },
  {
   "cell_type": "code",
   "execution_count": 25,
   "metadata": {},
   "outputs": [],
   "source": [
    "index = data[data['rooms'] >= 8].index\n",
    "data.drop(index, inplace=True)"
   ]
  },
  {
   "cell_type": "markdown",
   "metadata": {},
   "source": [
    "Удалим аномальные значения высоты потолка:"
   ]
  },
  {
   "cell_type": "code",
   "execution_count": 26,
   "metadata": {},
   "outputs": [],
   "source": [
    "potolok = data[(data['ceiling_height'] <= 2.40) | (data['ceiling_height'] >= 4.00)].index\n",
    "data.drop(potolok, inplace=True)"
   ]
  },
  {
   "cell_type": "markdown",
   "metadata": {},
   "source": [
    "Аналогично поступим с площадью квартир. Квартир с площадью менее 15 кв.м очень мало, их отсутсвие не повлияет на исследование, так же, как и слишком большие квартиры площадью более 200 кв.м. Такие значения близки к аномальным."
   ]
  },
  {
   "cell_type": "code",
   "execution_count": 27,
   "metadata": {},
   "outputs": [
    {
     "data": {
      "text/plain": [
       "23425"
      ]
     },
     "execution_count": 27,
     "metadata": {},
     "output_type": "execute_result"
    }
   ],
   "source": [
    "# check\n",
    "data.shape[0]"
   ]
  },
  {
   "cell_type": "code",
   "execution_count": 28,
   "metadata": {},
   "outputs": [],
   "source": [
    "area = data[(data['living_area'] <= 15.00) | (data['living_area'] >= 200.00)].index\n",
    "data.drop(area, inplace=True)"
   ]
  },
  {
   "cell_type": "code",
   "execution_count": 29,
   "metadata": {},
   "outputs": [
    {
     "data": {
      "text/plain": [
       "22397"
      ]
     },
     "execution_count": 29,
     "metadata": {},
     "output_type": "execute_result"
    }
   ],
   "source": [
    "# check\n",
    "data.shape[0]"
   ]
  },
  {
   "cell_type": "code",
   "execution_count": 30,
   "metadata": {},
   "outputs": [],
   "source": [
    "tot_area = data[(data['total_area'] <= 20.00) | (data['total_area'] >= 250.00)].index\n",
    "data.drop(tot_area, inplace=True)"
   ]
  },
  {
   "cell_type": "code",
   "execution_count": 31,
   "metadata": {},
   "outputs": [
    {
     "data": {
      "text/plain": [
       "22312"
      ]
     },
     "execution_count": 31,
     "metadata": {},
     "output_type": "execute_result"
    }
   ],
   "source": [
    "# check\n",
    "data.shape[0]"
   ]
  },
  {
   "cell_type": "markdown",
   "metadata": {},
   "source": [
    "Можно предположить, что квартиры которые продаются больше 1200 дней-аномальный случай, аналогично с квартирами, \"висящими\" на сайте менее 5 дней. Таких объявлений мало, мы можем их так же удалить:"
   ]
  },
  {
   "cell_type": "code",
   "execution_count": 32,
   "metadata": {},
   "outputs": [],
   "source": [
    "fake_days = data[(data['days_exposition'] <= 0.00) | (data['days_exposition'] >= 1200.00)].index\n",
    "data.drop(fake_days, inplace=True)"
   ]
  },
  {
   "cell_type": "code",
   "execution_count": 33,
   "metadata": {},
   "outputs": [
    {
     "data": {
      "text/plain": [
       "22225"
      ]
     },
     "execution_count": 33,
     "metadata": {},
     "output_type": "execute_result"
    }
   ],
   "source": [
    "# check\n",
    "data.shape[0]"
   ]
  },
  {
   "cell_type": "markdown",
   "metadata": {},
   "source": [
    "Конечная цена на квартиры так же вызывает вопросы"
   ]
  },
  {
   "cell_type": "code",
   "execution_count": 34,
   "metadata": {
    "scrolled": true
   },
   "outputs": [
    {
     "data": {
      "text/plain": [
       "<AxesSubplot:>"
      ]
     },
     "execution_count": 34,
     "metadata": {},
     "output_type": "execute_result"
    },
    {
     "data": {
      "image/png": "[encoded data removed]",
      "text/plain": [
       "<Figure size 432x288 with 1 Axes>"
      ]
     },
     "metadata": {
      "needs_background": "light"
     },
     "output_type": "display_data"
    }
   ],
   "source": [
    "data['last_price'].hist(bins=200, range=(0,100000000))"
   ]
  },
  {
   "cell_type": "markdown",
   "metadata": {},
   "source": [
    "Удалим квартиры дешевле 1млн и дороже 200 млн рублей:"
   ]
  },
  {
   "cell_type": "code",
   "execution_count": 35,
   "metadata": {},
   "outputs": [],
   "source": [
    "flat_price = data[(data['last_price'] <= 1000000) | (data['last_price'] >= 200000000)].index\n",
    "data.drop(flat_price, inplace=True)"
   ]
  },
  {
   "cell_type": "code",
   "execution_count": 36,
   "metadata": {
    "scrolled": true
   },
   "outputs": [
    {
     "data": {
      "text/plain": [
       "21986"
      ]
     },
     "execution_count": 36,
     "metadata": {},
     "output_type": "execute_result"
    }
   ],
   "source": [
    "# check\n",
    "data.shape[0]"
   ]
  },
  {
   "cell_type": "markdown",
   "metadata": {},
   "source": [
    "Предположим, что \"нормальная\" площадь кухни: 5-50 кв м. Остальные будем считать аномальными."
   ]
  },
  {
   "cell_type": "code",
   "execution_count": 37,
   "metadata": {},
   "outputs": [],
   "source": [
    "kitchen = data[(data['kitchen_area'] <= 4.00) | (data['kitchen_area'] >= 50.00)].index\n",
    "data.drop(kitchen, inplace=True)"
   ]
  },
  {
   "cell_type": "code",
   "execution_count": 38,
   "metadata": {},
   "outputs": [
    {
     "data": {
      "text/plain": [
       "21904"
      ]
     },
     "execution_count": 38,
     "metadata": {},
     "output_type": "execute_result"
    }
   ],
   "source": [
    "# check\n",
    "data.shape[0]"
   ]
  },
  {
   "cell_type": "markdown",
   "metadata": {},
   "source": [
    "На данный момент самым высоким жк в Петербурге является ЖК «Князь Александр Невский», в котором 37 этажей. Значения больше данного можем удалить."
   ]
  },
  {
   "cell_type": "code",
   "execution_count": 39,
   "metadata": {},
   "outputs": [],
   "source": [
    "floors_tot = data[data['floors_total'] >= 38].index\n",
    "data.drop(floors_tot, inplace=True)"
   ]
  },
  {
   "cell_type": "markdown",
   "metadata": {},
   "source": [
    "Остальные данные тоже вызывают вопросы, например, 5 балконов в квартире или маленькая площадь кухни. Но не будем удалять эти значения, чтобы не лишаться ценной информации. Стоит в дальнейшем рассмотреть такие объекты детальнее."
   ]
  },
  {
   "cell_type": "markdown",
   "metadata": {},
   "source": [
    "#### check gap"
   ]
  },
  {
   "cell_type": "code",
   "execution_count": 40,
   "metadata": {
    "scrolled": false
   },
   "outputs": [
    {
     "name": "stdout",
     "output_type": "stream",
     "text": [
      "<class 'pandas.core.frame.DataFrame'>\n",
      "Int64Index: 21903 entries, 0 to 23697\n",
      "Data columns (total 22 columns):\n",
      " #   Column                Non-Null Count  Dtype         \n",
      "---  ------                --------------  -----         \n",
      " 0   total_images          21903 non-null  int64         \n",
      " 1   last_price            21903 non-null  float64       \n",
      " 2   total_area            21903 non-null  float64       \n",
      " 3   first_day_exposition  21903 non-null  datetime64[ns]\n",
      " 4   rooms                 21903 non-null  int64         \n",
      " 5   ceiling_height        21903 non-null  float64       \n",
      " 6   floors_total          21903 non-null  int64         \n",
      " 7   living_area           20125 non-null  float64       \n",
      " 8   floor                 21903 non-null  int64         \n",
      " 9   is_apartment          21903 non-null  bool          \n",
      " 10  studio                21903 non-null  bool          \n",
      " 11  open_plan             21903 non-null  bool          \n",
      " 12  kitchen_area          19860 non-null  float64       \n",
      " 13  balcony               21903 non-null  int64         \n",
      " 14  locality_name         21857 non-null  object        \n",
      " 15  airports_nearest      16999 non-null  float64       \n",
      " 16  cityCenters_nearest   17019 non-null  float64       \n",
      " 17  parks_around3000      21903 non-null  int64         \n",
      " 18  parks_nearest         7558 non-null   float64       \n",
      " 19  ponds_around3000      21903 non-null  int64         \n",
      " 20  ponds_nearest         8470 non-null   float64       \n",
      " 21  days_exposition       18941 non-null  float64       \n",
      "dtypes: bool(3), datetime64[ns](1), float64(10), int64(7), object(1)\n",
      "memory usage: 3.4+ MB\n"
     ]
    }
   ],
   "source": [
    "# check\n",
    "data.info()"
   ]
  },
  {
   "cell_type": "code",
   "execution_count": 41,
   "metadata": {
    "scrolled": false
   },
   "outputs": [
    {
     "data": {
      "text/html": [
       "<style  type=\"text/css\" >\n",
       "</style><table id=\"T_8a0e8_\" ><thead>    <tr>        <th class=\"blank level0\" ></th>        <th class=\"col_heading level0 col0\" >rooms</th>        <th class=\"col_heading level0 col1\" >total_area</th>        <th class=\"col_heading level0 col2\" >ceiling_height</th>        <th class=\"col_heading level0 col3\" >days_exposition</th>        <th class=\"col_heading level0 col4\" >last_price</th>        <th class=\"col_heading level0 col5\" >living_area</th>        <th class=\"col_heading level0 col6\" >kitchen_area</th>        <th class=\"col_heading level0 col7\" >floor</th>        <th class=\"col_heading level0 col8\" >floors_total</th>    </tr></thead><tbody>\n",
       "                <tr>\n",
       "                        <th id=\"T_8a0e8_level0_row0\" class=\"row_heading level0 row0\" >count</th>\n",
       "                        <td id=\"T_8a0e8_row0_col0\" class=\"data row0 col0\" >21,903.00</td>\n",
       "                        <td id=\"T_8a0e8_row0_col1\" class=\"data row0 col1\" >21,903.00</td>\n",
       "                        <td id=\"T_8a0e8_row0_col2\" class=\"data row0 col2\" >21,903.00</td>\n",
       "                        <td id=\"T_8a0e8_row0_col3\" class=\"data row0 col3\" >18,941.00</td>\n",
       "                        <td id=\"T_8a0e8_row0_col4\" class=\"data row0 col4\" >21,903.00</td>\n",
       "                        <td id=\"T_8a0e8_row0_col5\" class=\"data row0 col5\" >20,125.00</td>\n",
       "                        <td id=\"T_8a0e8_row0_col6\" class=\"data row0 col6\" >19,860.00</td>\n",
       "                        <td id=\"T_8a0e8_row0_col7\" class=\"data row0 col7\" >21,903.00</td>\n",
       "                        <td id=\"T_8a0e8_row0_col8\" class=\"data row0 col8\" >21,903.00</td>\n",
       "            </tr>\n",
       "            <tr>\n",
       "                        <th id=\"T_8a0e8_level0_row1\" class=\"row_heading level0 row1\" >min</th>\n",
       "                        <td id=\"T_8a0e8_row1_col0\" class=\"data row1 col0\" >0.00</td>\n",
       "                        <td id=\"T_8a0e8_row1_col1\" class=\"data row1 col1\" >20.10</td>\n",
       "                        <td id=\"T_8a0e8_row1_col2\" class=\"data row1 col2\" >2.45</td>\n",
       "                        <td id=\"T_8a0e8_row1_col3\" class=\"data row1 col3\" >1.00</td>\n",
       "                        <td id=\"T_8a0e8_row1_col4\" class=\"data row1 col4\" >1,010,000.00</td>\n",
       "                        <td id=\"T_8a0e8_row1_col5\" class=\"data row1 col5\" >15.01</td>\n",
       "                        <td id=\"T_8a0e8_row1_col6\" class=\"data row1 col6\" >4.10</td>\n",
       "                        <td id=\"T_8a0e8_row1_col7\" class=\"data row1 col7\" >1.00</td>\n",
       "                        <td id=\"T_8a0e8_row1_col8\" class=\"data row1 col8\" >1.00</td>\n",
       "            </tr>\n",
       "            <tr>\n",
       "                        <th id=\"T_8a0e8_level0_row2\" class=\"row_heading level0 row2\" >max</th>\n",
       "                        <td id=\"T_8a0e8_row2_col0\" class=\"data row2 col0\" >7.00</td>\n",
       "                        <td id=\"T_8a0e8_row2_col1\" class=\"data row2 col1\" >249.00</td>\n",
       "                        <td id=\"T_8a0e8_row2_col2\" class=\"data row2 col2\" >3.98</td>\n",
       "                        <td id=\"T_8a0e8_row2_col3\" class=\"data row2 col3\" >1,199.00</td>\n",
       "                        <td id=\"T_8a0e8_row2_col4\" class=\"data row2 col4\" >160,000,000.00</td>\n",
       "                        <td id=\"T_8a0e8_row2_col5\" class=\"data row2 col5\" >184.00</td>\n",
       "                        <td id=\"T_8a0e8_row2_col6\" class=\"data row2 col6\" >49.40</td>\n",
       "                        <td id=\"T_8a0e8_row2_col7\" class=\"data row2 col7\" >33.00</td>\n",
       "                        <td id=\"T_8a0e8_row2_col8\" class=\"data row2 col8\" >36.00</td>\n",
       "            </tr>\n",
       "    </tbody></table>"
      ],
      "text/plain": [
       "<pandas.io.formats.style.Styler at 0x7faecbb6ce80>"
      ]
     },
     "execution_count": 41,
     "metadata": {},
     "output_type": "execute_result"
    }
   ],
   "source": [
    "# check\n",
    "\n",
    "# Показатели о кол-ве объявлений в датасете, минимальных и максимальных значениях \n",
    "# в выбранных параметрах о продаже квартир\n",
    "# сырые данные\n",
    "\n",
    "(\n",
    "    data[['rooms', 'total_area', 'ceiling_height', 'days_exposition', 'last_price', 'living_area',  'kitchen_area',\n",
    "          'floor', 'floors_total']]\n",
    "    .apply (['count', 'min', 'max'])   \n",
    "    .style.format(\"{:,.2f}\")\n",
    ")"
   ]
  },
  {
   "cell_type": "code",
   "execution_count": 42,
   "metadata": {},
   "outputs": [
    {
     "data": {
      "image/png": "[encoded data removed]",
      "text/plain": [
       "<Figure size 1080x216 with 1 Axes>"
      ]
     },
     "metadata": {
      "needs_background": "light"
     },
     "output_type": "display_data"
    },
    {
     "data": {
      "image/png": "[encoded data removed]",
      "text/plain": [
       "<Figure size 1080x216 with 1 Axes>"
      ]
     },
     "metadata": {
      "needs_background": "light"
     },
     "output_type": "display_data"
    }
   ],
   "source": [
    "# check\n",
    "data.hist(column = 'days_exposition', bins = 50, figsize = (15,3), range = (0,5));\n",
    "\n",
    "data.hist(column = 'days_exposition', bins = 50, figsize = (15,3), range = (0,5))\n",
    "plt.ylim(0, 40);"
   ]
  },
  {
   "cell_type": "code",
   "execution_count": 43,
   "metadata": {},
   "outputs": [],
   "source": [
    "# check\n",
    "\n",
    "try:\n",
    "    df_check = pd.read_csv('https://code.s3.yandex.net/datasets/real_estate_data.csv', sep='\\t')\n",
    "# если не получилось прочитать файл из локальной папки, то загружаем данные из сети\n",
    "except:\n",
    "    df_check = pd.read_csv('real_estate_data.csv', sep='\\t')"
   ]
  },
  {
   "cell_type": "code",
   "execution_count": 44,
   "metadata": {},
   "outputs": [
    {
     "data": {
      "text/html": [
       "<div>\n",
       "<style scoped>\n",
       "    .dataframe tbody tr th:only-of-type {\n",
       "        vertical-align: middle;\n",
       "    }\n",
       "\n",
       "    .dataframe tbody tr th {\n",
       "        vertical-align: top;\n",
       "    }\n",
       "\n",
       "    .dataframe thead th {\n",
       "        text-align: right;\n",
       "    }\n",
       "</style>\n",
       "<table border=\"1\" class=\"dataframe\">\n",
       "  <thead>\n",
       "    <tr style=\"text-align: right;\">\n",
       "      <th></th>\n",
       "      <th>rooms</th>\n",
       "    </tr>\n",
       "  </thead>\n",
       "  <tbody>\n",
       "    <tr>\n",
       "      <th>1</th>\n",
       "      <td>8047</td>\n",
       "    </tr>\n",
       "    <tr>\n",
       "      <th>2</th>\n",
       "      <td>7940</td>\n",
       "    </tr>\n",
       "    <tr>\n",
       "      <th>3</th>\n",
       "      <td>5814</td>\n",
       "    </tr>\n",
       "    <tr>\n",
       "      <th>4</th>\n",
       "      <td>1180</td>\n",
       "    </tr>\n",
       "    <tr>\n",
       "      <th>5</th>\n",
       "      <td>326</td>\n",
       "    </tr>\n",
       "    <tr>\n",
       "      <th>0</th>\n",
       "      <td>197</td>\n",
       "    </tr>\n",
       "    <tr>\n",
       "      <th>6</th>\n",
       "      <td>105</td>\n",
       "    </tr>\n",
       "    <tr>\n",
       "      <th>7</th>\n",
       "      <td>59</td>\n",
       "    </tr>\n",
       "    <tr>\n",
       "      <th>8</th>\n",
       "      <td>12</td>\n",
       "    </tr>\n",
       "    <tr>\n",
       "      <th>9</th>\n",
       "      <td>8</td>\n",
       "    </tr>\n",
       "    <tr>\n",
       "      <th>10</th>\n",
       "      <td>3</td>\n",
       "    </tr>\n",
       "    <tr>\n",
       "      <th>11</th>\n",
       "      <td>2</td>\n",
       "    </tr>\n",
       "    <tr>\n",
       "      <th>14</th>\n",
       "      <td>2</td>\n",
       "    </tr>\n",
       "    <tr>\n",
       "      <th>19</th>\n",
       "      <td>1</td>\n",
       "    </tr>\n",
       "    <tr>\n",
       "      <th>16</th>\n",
       "      <td>1</td>\n",
       "    </tr>\n",
       "    <tr>\n",
       "      <th>12</th>\n",
       "      <td>1</td>\n",
       "    </tr>\n",
       "    <tr>\n",
       "      <th>15</th>\n",
       "      <td>1</td>\n",
       "    </tr>\n",
       "  </tbody>\n",
       "</table>\n",
       "</div>"
      ],
      "text/plain": [
       "    rooms\n",
       "1    8047\n",
       "2    7940\n",
       "3    5814\n",
       "4    1180\n",
       "5     326\n",
       "0     197\n",
       "6     105\n",
       "7      59\n",
       "8      12\n",
       "9       8\n",
       "10      3\n",
       "11      2\n",
       "14      2\n",
       "19      1\n",
       "16      1\n",
       "12      1\n",
       "15      1"
      ]
     },
     "execution_count": 44,
     "metadata": {},
     "output_type": "execute_result"
    }
   ],
   "source": [
    "# check\n",
    "df_check.rooms.value_counts().to_frame()"
   ]
  },
  {
   "cell_type": "code",
   "execution_count": 45,
   "metadata": {
    "scrolled": false
   },
   "outputs": [
    {
     "data": {
      "image/png": "[encoded data removed]",
      "text/plain": [
       "<Figure size 1080x216 with 1 Axes>"
      ]
     },
     "metadata": {
      "needs_background": "light"
     },
     "output_type": "display_data"
    }
   ],
   "source": [
    "# check\n",
    "df_check.total_area.hist(bins = 150, figsize = (15,3));"
   ]
  },
  {
   "cell_type": "code",
   "execution_count": 46,
   "metadata": {
    "scrolled": true
   },
   "outputs": [
    {
     "data": {
      "image/png": "[encoded data removed]",
      "text/plain": [
       "<Figure size 1080x216 with 1 Axes>"
      ]
     },
     "metadata": {
      "needs_background": "light"
     },
     "output_type": "display_data"
    }
   ],
   "source": [
    "# check\n",
    "df_check.total_area.hist(bins = 150, figsize = (15,3), range = (180,500));"
   ]
  },
  {
   "cell_type": "code",
   "execution_count": 47,
   "metadata": {
    "scrolled": false
   },
   "outputs": [
    {
     "data": {
      "image/png": "[encoded data removed]",
      "text/plain": [
       "<Figure size 1080x216 with 1 Axes>"
      ]
     },
     "metadata": {
      "needs_background": "light"
     },
     "output_type": "display_data"
    }
   ],
   "source": [
    "# check\n",
    "df_check.total_area.hist(bins = 15, figsize = (15,3), range = (180,500));"
   ]
  },
  {
   "cell_type": "code",
   "execution_count": 48,
   "metadata": {
    "scrolled": false
   },
   "outputs": [
    {
     "data": {
      "image/png": "[encoded data removed]",
      "text/plain": [
       "<Figure size 1080x216 with 1 Axes>"
      ]
     },
     "metadata": {
      "needs_background": "light"
     },
     "output_type": "display_data"
    }
   ],
   "source": [
    "# check\n",
    "df_check.total_area.hist(bins = 15, figsize = (15,3), range = (0,25));"
   ]
  },
  {
   "cell_type": "code",
   "execution_count": 49,
   "metadata": {},
   "outputs": [
    {
     "data": {
      "text/html": [
       "<style  type=\"text/css\" >\n",
       "</style><table id=\"T_c5378_\" ><thead>    <tr>        <th class=\"blank level0\" ></th>        <th class=\"col_heading level0 col0\" >rooms</th>        <th class=\"col_heading level0 col1\" >total_area</th>        <th class=\"col_heading level0 col2\" >ceiling_height</th>        <th class=\"col_heading level0 col3\" >days_exposition</th>        <th class=\"col_heading level0 col4\" >last_price</th>        <th class=\"col_heading level0 col5\" >living_area</th>        <th class=\"col_heading level0 col6\" >kitchen_area</th>        <th class=\"col_heading level0 col7\" >floor</th>        <th class=\"col_heading level0 col8\" >floors_total</th>    </tr></thead><tbody>\n",
       "                <tr>\n",
       "                        <th id=\"T_c5378_level0_row0\" class=\"row_heading level0 row0\" >0.0012</th>\n",
       "                        <td id=\"T_c5378_row0_col0\" class=\"data row0 col0\" >0.00</td>\n",
       "                        <td id=\"T_c5378_row0_col1\" class=\"data row0 col1\" >23.00</td>\n",
       "                        <td id=\"T_c5378_row0_col2\" class=\"data row0 col2\" >2.48</td>\n",
       "                        <td id=\"T_c5378_row0_col3\" class=\"data row0 col3\" >3.00</td>\n",
       "                        <td id=\"T_c5378_row0_col4\" class=\"data row0 col4\" >1,072,824.00</td>\n",
       "                        <td id=\"T_c5378_row0_col5\" class=\"data row0 col5\" >15.10</td>\n",
       "                        <td id=\"T_c5378_row0_col6\" class=\"data row0 col6\" >4.80</td>\n",
       "                        <td id=\"T_c5378_row0_col7\" class=\"data row0 col7\" >1.00</td>\n",
       "                        <td id=\"T_c5378_row0_col8\" class=\"data row0 col8\" >2.00</td>\n",
       "            </tr>\n",
       "            <tr>\n",
       "                        <th id=\"T_c5378_level0_row1\" class=\"row_heading level0 row1\" >0.01</th>\n",
       "                        <td id=\"T_c5378_row1_col0\" class=\"data row1 col0\" >1.00</td>\n",
       "                        <td id=\"T_c5378_row1_col1\" class=\"data row1 col1\" >27.55</td>\n",
       "                        <td id=\"T_c5378_row1_col2\" class=\"data row1 col2\" >2.50</td>\n",
       "                        <td id=\"T_c5378_row1_col3\" class=\"data row1 col3\" >4.00</td>\n",
       "                        <td id=\"T_c5378_row1_col4\" class=\"data row1 col4\" >1,300,000.00</td>\n",
       "                        <td id=\"T_c5378_row1_col5\" class=\"data row1 col5\" >15.40</td>\n",
       "                        <td id=\"T_c5378_row1_col6\" class=\"data row1 col6\" >5.00</td>\n",
       "                        <td id=\"T_c5378_row1_col7\" class=\"data row1 col7\" >1.00</td>\n",
       "                        <td id=\"T_c5378_row1_col8\" class=\"data row1 col8\" >2.00</td>\n",
       "            </tr>\n",
       "            <tr>\n",
       "                        <th id=\"T_c5378_level0_row2\" class=\"row_heading level0 row2\" >0.5</th>\n",
       "                        <td id=\"T_c5378_row2_col0\" class=\"data row2 col0\" >2.00</td>\n",
       "                        <td id=\"T_c5378_row2_col1\" class=\"data row2 col1\" >53.30</td>\n",
       "                        <td id=\"T_c5378_row2_col2\" class=\"data row2 col2\" >2.65</td>\n",
       "                        <td id=\"T_c5378_row2_col3\" class=\"data row2 col3\" >95.00</td>\n",
       "                        <td id=\"T_c5378_row2_col4\" class=\"data row2 col4\" >4,700,000.00</td>\n",
       "                        <td id=\"T_c5378_row2_col5\" class=\"data row2 col5\" >30.70</td>\n",
       "                        <td id=\"T_c5378_row2_col6\" class=\"data row2 col6\" >9.00</td>\n",
       "                        <td id=\"T_c5378_row2_col7\" class=\"data row2 col7\" >4.00</td>\n",
       "                        <td id=\"T_c5378_row2_col8\" class=\"data row2 col8\" >9.00</td>\n",
       "            </tr>\n",
       "            <tr>\n",
       "                        <th id=\"T_c5378_level0_row3\" class=\"row_heading level0 row3\" >0.99</th>\n",
       "                        <td id=\"T_c5378_row3_col0\" class=\"data row3 col0\" >5.00</td>\n",
       "                        <td id=\"T_c5378_row3_col1\" class=\"data row3 col1\" >170.00</td>\n",
       "                        <td id=\"T_c5378_row3_col2\" class=\"data row3 col2\" >3.50</td>\n",
       "                        <td id=\"T_c5378_row3_col3\" class=\"data row3 col3\" >979.60</td>\n",
       "                        <td id=\"T_c5378_row3_col4\" class=\"data row3 col4\" >29,000,000.00</td>\n",
       "                        <td id=\"T_c5378_row3_col5\" class=\"data row3 col5\" >103.08</td>\n",
       "                        <td id=\"T_c5378_row3_col6\" class=\"data row3 col6\" >32.00</td>\n",
       "                        <td id=\"T_c5378_row3_col7\" class=\"data row3 col7\" >22.00</td>\n",
       "                        <td id=\"T_c5378_row3_col8\" class=\"data row3 col8\" >26.00</td>\n",
       "            </tr>\n",
       "            <tr>\n",
       "                        <th id=\"T_c5378_level0_row4\" class=\"row_heading level0 row4\" >0.9988</th>\n",
       "                        <td id=\"T_c5378_row4_col0\" class=\"data row4 col0\" >7.00</td>\n",
       "                        <td id=\"T_c5378_row4_col1\" class=\"data row4 col1\" >230.00</td>\n",
       "                        <td id=\"T_c5378_row4_col2\" class=\"data row4 col2\" >3.80</td>\n",
       "                        <td id=\"T_c5378_row4_col3\" class=\"data row4 col3\" >1,161.54</td>\n",
       "                        <td id=\"T_c5378_row4_col4\" class=\"data row4 col4\" >67,000,000.00</td>\n",
       "                        <td id=\"T_c5378_row4_col5\" class=\"data row4 col5\" >153.70</td>\n",
       "                        <td id=\"T_c5378_row4_col6\" class=\"data row4 col6\" >44.12</td>\n",
       "                        <td id=\"T_c5378_row4_col7\" class=\"data row4 col7\" >26.00</td>\n",
       "                        <td id=\"T_c5378_row4_col8\" class=\"data row4 col8\" >28.00</td>\n",
       "            </tr>\n",
       "    </tbody></table>"
      ],
      "text/plain": [
       "<pandas.io.formats.style.Styler at 0x7faecaeb7fd0>"
      ]
     },
     "execution_count": 49,
     "metadata": {},
     "output_type": "execute_result"
    }
   ],
   "source": [
    "# check\n",
    "\n",
    "# Значения параметров объектов недвижимости на разных квантилях\n",
    "\n",
    "(\n",
    "    data[['rooms', 'total_area', 'ceiling_height', 'days_exposition', 'last_price', 'living_area',  \n",
    "        'kitchen_area', 'floor',   'floors_total']]\n",
    "    .quantile([0.0012, 0.01, .5, .99, .9988]) # выбираем размах в 0,9976 квантилей \n",
    "    .style.format(\"{:,.2f}\")\n",
    ")"
   ]
  },
  {
   "cell_type": "markdown",
   "metadata": {},
   "source": [
    "### Посчитайте и добавьте в таблицу новые столбцы"
   ]
  },
  {
   "cell_type": "markdown",
   "metadata": {},
   "source": [
    "1) Найдем цену одного квадратного метра и добавим этот столбец в исходную таблицу:"
   ]
  },
  {
   "cell_type": "code",
   "execution_count": 50,
   "metadata": {},
   "outputs": [
    {
     "data": {
      "text/html": [
       "<div>\n",
       "<style scoped>\n",
       "    .dataframe tbody tr th:only-of-type {\n",
       "        vertical-align: middle;\n",
       "    }\n",
       "\n",
       "    .dataframe tbody tr th {\n",
       "        vertical-align: top;\n",
       "    }\n",
       "\n",
       "    .dataframe thead th {\n",
       "        text-align: right;\n",
       "    }\n",
       "</style>\n",
       "<table border=\"1\" class=\"dataframe\">\n",
       "  <thead>\n",
       "    <tr style=\"text-align: right;\">\n",
       "      <th></th>\n",
       "      <th>total_images</th>\n",
       "      <th>last_price</th>\n",
       "      <th>total_area</th>\n",
       "      <th>first_day_exposition</th>\n",
       "      <th>rooms</th>\n",
       "      <th>ceiling_height</th>\n",
       "      <th>floors_total</th>\n",
       "      <th>living_area</th>\n",
       "      <th>floor</th>\n",
       "      <th>is_apartment</th>\n",
       "      <th>...</th>\n",
       "      <th>balcony</th>\n",
       "      <th>locality_name</th>\n",
       "      <th>airports_nearest</th>\n",
       "      <th>cityCenters_nearest</th>\n",
       "      <th>parks_around3000</th>\n",
       "      <th>parks_nearest</th>\n",
       "      <th>ponds_around3000</th>\n",
       "      <th>ponds_nearest</th>\n",
       "      <th>days_exposition</th>\n",
       "      <th>metеr_price</th>\n",
       "    </tr>\n",
       "  </thead>\n",
       "  <tbody>\n",
       "    <tr>\n",
       "      <th>0</th>\n",
       "      <td>20</td>\n",
       "      <td>13000000.0</td>\n",
       "      <td>108.00</td>\n",
       "      <td>2019-03-07</td>\n",
       "      <td>3</td>\n",
       "      <td>2.70</td>\n",
       "      <td>16</td>\n",
       "      <td>51.00</td>\n",
       "      <td>8</td>\n",
       "      <td>True</td>\n",
       "      <td>...</td>\n",
       "      <td>0</td>\n",
       "      <td>санкт-петербург</td>\n",
       "      <td>18863.0</td>\n",
       "      <td>16028.0</td>\n",
       "      <td>1</td>\n",
       "      <td>482.0</td>\n",
       "      <td>2</td>\n",
       "      <td>755.0</td>\n",
       "      <td>NaN</td>\n",
       "      <td>120370.370370</td>\n",
       "    </tr>\n",
       "    <tr>\n",
       "      <th>1</th>\n",
       "      <td>7</td>\n",
       "      <td>3350000.0</td>\n",
       "      <td>40.40</td>\n",
       "      <td>2018-12-04</td>\n",
       "      <td>1</td>\n",
       "      <td>2.65</td>\n",
       "      <td>11</td>\n",
       "      <td>18.60</td>\n",
       "      <td>1</td>\n",
       "      <td>True</td>\n",
       "      <td>...</td>\n",
       "      <td>2</td>\n",
       "      <td>шушары</td>\n",
       "      <td>12817.0</td>\n",
       "      <td>18603.0</td>\n",
       "      <td>0</td>\n",
       "      <td>NaN</td>\n",
       "      <td>0</td>\n",
       "      <td>NaN</td>\n",
       "      <td>81.0</td>\n",
       "      <td>82920.792079</td>\n",
       "    </tr>\n",
       "    <tr>\n",
       "      <th>2</th>\n",
       "      <td>10</td>\n",
       "      <td>5196000.0</td>\n",
       "      <td>56.00</td>\n",
       "      <td>2015-08-20</td>\n",
       "      <td>2</td>\n",
       "      <td>2.65</td>\n",
       "      <td>5</td>\n",
       "      <td>34.30</td>\n",
       "      <td>4</td>\n",
       "      <td>True</td>\n",
       "      <td>...</td>\n",
       "      <td>0</td>\n",
       "      <td>санкт-петербург</td>\n",
       "      <td>21741.0</td>\n",
       "      <td>13933.0</td>\n",
       "      <td>1</td>\n",
       "      <td>90.0</td>\n",
       "      <td>2</td>\n",
       "      <td>574.0</td>\n",
       "      <td>558.0</td>\n",
       "      <td>92785.714286</td>\n",
       "    </tr>\n",
       "    <tr>\n",
       "      <th>3</th>\n",
       "      <td>0</td>\n",
       "      <td>64900000.0</td>\n",
       "      <td>159.00</td>\n",
       "      <td>2015-07-24</td>\n",
       "      <td>3</td>\n",
       "      <td>2.65</td>\n",
       "      <td>14</td>\n",
       "      <td>NaN</td>\n",
       "      <td>9</td>\n",
       "      <td>True</td>\n",
       "      <td>...</td>\n",
       "      <td>0</td>\n",
       "      <td>санкт-петербург</td>\n",
       "      <td>28098.0</td>\n",
       "      <td>6800.0</td>\n",
       "      <td>2</td>\n",
       "      <td>84.0</td>\n",
       "      <td>3</td>\n",
       "      <td>234.0</td>\n",
       "      <td>424.0</td>\n",
       "      <td>408176.100629</td>\n",
       "    </tr>\n",
       "    <tr>\n",
       "      <th>4</th>\n",
       "      <td>2</td>\n",
       "      <td>10000000.0</td>\n",
       "      <td>100.00</td>\n",
       "      <td>2018-06-19</td>\n",
       "      <td>2</td>\n",
       "      <td>3.03</td>\n",
       "      <td>14</td>\n",
       "      <td>32.00</td>\n",
       "      <td>13</td>\n",
       "      <td>True</td>\n",
       "      <td>...</td>\n",
       "      <td>0</td>\n",
       "      <td>санкт-петербург</td>\n",
       "      <td>31856.0</td>\n",
       "      <td>8098.0</td>\n",
       "      <td>2</td>\n",
       "      <td>112.0</td>\n",
       "      <td>1</td>\n",
       "      <td>48.0</td>\n",
       "      <td>121.0</td>\n",
       "      <td>100000.000000</td>\n",
       "    </tr>\n",
       "    <tr>\n",
       "      <th>7</th>\n",
       "      <td>5</td>\n",
       "      <td>7915000.0</td>\n",
       "      <td>71.60</td>\n",
       "      <td>2019-04-18</td>\n",
       "      <td>2</td>\n",
       "      <td>2.65</td>\n",
       "      <td>24</td>\n",
       "      <td>NaN</td>\n",
       "      <td>22</td>\n",
       "      <td>True</td>\n",
       "      <td>...</td>\n",
       "      <td>2</td>\n",
       "      <td>санкт-петербург</td>\n",
       "      <td>23982.0</td>\n",
       "      <td>11634.0</td>\n",
       "      <td>0</td>\n",
       "      <td>NaN</td>\n",
       "      <td>0</td>\n",
       "      <td>NaN</td>\n",
       "      <td>NaN</td>\n",
       "      <td>110544.692737</td>\n",
       "    </tr>\n",
       "    <tr>\n",
       "      <th>8</th>\n",
       "      <td>20</td>\n",
       "      <td>2900000.0</td>\n",
       "      <td>33.16</td>\n",
       "      <td>2018-05-23</td>\n",
       "      <td>1</td>\n",
       "      <td>2.65</td>\n",
       "      <td>27</td>\n",
       "      <td>15.43</td>\n",
       "      <td>26</td>\n",
       "      <td>True</td>\n",
       "      <td>...</td>\n",
       "      <td>0</td>\n",
       "      <td>мурино</td>\n",
       "      <td>NaN</td>\n",
       "      <td>NaN</td>\n",
       "      <td>0</td>\n",
       "      <td>NaN</td>\n",
       "      <td>0</td>\n",
       "      <td>NaN</td>\n",
       "      <td>189.0</td>\n",
       "      <td>87454.764777</td>\n",
       "    </tr>\n",
       "    <tr>\n",
       "      <th>9</th>\n",
       "      <td>18</td>\n",
       "      <td>5400000.0</td>\n",
       "      <td>61.00</td>\n",
       "      <td>2017-02-26</td>\n",
       "      <td>3</td>\n",
       "      <td>2.50</td>\n",
       "      <td>9</td>\n",
       "      <td>43.60</td>\n",
       "      <td>7</td>\n",
       "      <td>True</td>\n",
       "      <td>...</td>\n",
       "      <td>2</td>\n",
       "      <td>санкт-петербург</td>\n",
       "      <td>50898.0</td>\n",
       "      <td>15008.0</td>\n",
       "      <td>0</td>\n",
       "      <td>NaN</td>\n",
       "      <td>0</td>\n",
       "      <td>NaN</td>\n",
       "      <td>289.0</td>\n",
       "      <td>88524.590164</td>\n",
       "    </tr>\n",
       "    <tr>\n",
       "      <th>10</th>\n",
       "      <td>5</td>\n",
       "      <td>5050000.0</td>\n",
       "      <td>39.60</td>\n",
       "      <td>2017-11-16</td>\n",
       "      <td>1</td>\n",
       "      <td>2.67</td>\n",
       "      <td>12</td>\n",
       "      <td>20.30</td>\n",
       "      <td>3</td>\n",
       "      <td>True</td>\n",
       "      <td>...</td>\n",
       "      <td>0</td>\n",
       "      <td>санкт-петербург</td>\n",
       "      <td>38357.0</td>\n",
       "      <td>13878.0</td>\n",
       "      <td>1</td>\n",
       "      <td>310.0</td>\n",
       "      <td>2</td>\n",
       "      <td>553.0</td>\n",
       "      <td>137.0</td>\n",
       "      <td>127525.252525</td>\n",
       "    </tr>\n",
       "    <tr>\n",
       "      <th>11</th>\n",
       "      <td>9</td>\n",
       "      <td>3300000.0</td>\n",
       "      <td>44.00</td>\n",
       "      <td>2018-08-27</td>\n",
       "      <td>2</td>\n",
       "      <td>2.65</td>\n",
       "      <td>5</td>\n",
       "      <td>31.00</td>\n",
       "      <td>4</td>\n",
       "      <td>False</td>\n",
       "      <td>...</td>\n",
       "      <td>1</td>\n",
       "      <td>ломоносов</td>\n",
       "      <td>48252.0</td>\n",
       "      <td>51677.0</td>\n",
       "      <td>0</td>\n",
       "      <td>NaN</td>\n",
       "      <td>0</td>\n",
       "      <td>NaN</td>\n",
       "      <td>7.0</td>\n",
       "      <td>75000.000000</td>\n",
       "    </tr>\n",
       "    <tr>\n",
       "      <th>12</th>\n",
       "      <td>10</td>\n",
       "      <td>3890000.0</td>\n",
       "      <td>54.00</td>\n",
       "      <td>2016-06-30</td>\n",
       "      <td>2</td>\n",
       "      <td>2.65</td>\n",
       "      <td>5</td>\n",
       "      <td>30.00</td>\n",
       "      <td>5</td>\n",
       "      <td>True</td>\n",
       "      <td>...</td>\n",
       "      <td>0</td>\n",
       "      <td>сертолово</td>\n",
       "      <td>NaN</td>\n",
       "      <td>NaN</td>\n",
       "      <td>0</td>\n",
       "      <td>NaN</td>\n",
       "      <td>0</td>\n",
       "      <td>NaN</td>\n",
       "      <td>90.0</td>\n",
       "      <td>72037.037037</td>\n",
       "    </tr>\n",
       "    <tr>\n",
       "      <th>13</th>\n",
       "      <td>20</td>\n",
       "      <td>3550000.0</td>\n",
       "      <td>42.80</td>\n",
       "      <td>2017-07-01</td>\n",
       "      <td>2</td>\n",
       "      <td>2.56</td>\n",
       "      <td>5</td>\n",
       "      <td>27.00</td>\n",
       "      <td>5</td>\n",
       "      <td>True</td>\n",
       "      <td>...</td>\n",
       "      <td>1</td>\n",
       "      <td>петергоф</td>\n",
       "      <td>37868.0</td>\n",
       "      <td>33058.0</td>\n",
       "      <td>1</td>\n",
       "      <td>294.0</td>\n",
       "      <td>3</td>\n",
       "      <td>298.0</td>\n",
       "      <td>366.0</td>\n",
       "      <td>82943.925234</td>\n",
       "    </tr>\n",
       "    <tr>\n",
       "      <th>14</th>\n",
       "      <td>1</td>\n",
       "      <td>4400000.0</td>\n",
       "      <td>36.00</td>\n",
       "      <td>2016-06-23</td>\n",
       "      <td>1</td>\n",
       "      <td>2.65</td>\n",
       "      <td>6</td>\n",
       "      <td>17.00</td>\n",
       "      <td>1</td>\n",
       "      <td>True</td>\n",
       "      <td>...</td>\n",
       "      <td>0</td>\n",
       "      <td>пушкин</td>\n",
       "      <td>20782.0</td>\n",
       "      <td>30759.0</td>\n",
       "      <td>0</td>\n",
       "      <td>NaN</td>\n",
       "      <td>1</td>\n",
       "      <td>96.0</td>\n",
       "      <td>203.0</td>\n",
       "      <td>122222.222222</td>\n",
       "    </tr>\n",
       "    <tr>\n",
       "      <th>15</th>\n",
       "      <td>16</td>\n",
       "      <td>4650000.0</td>\n",
       "      <td>39.00</td>\n",
       "      <td>2017-11-18</td>\n",
       "      <td>1</td>\n",
       "      <td>2.65</td>\n",
       "      <td>14</td>\n",
       "      <td>20.50</td>\n",
       "      <td>5</td>\n",
       "      <td>True</td>\n",
       "      <td>...</td>\n",
       "      <td>1</td>\n",
       "      <td>санкт-петербург</td>\n",
       "      <td>12900.0</td>\n",
       "      <td>14259.0</td>\n",
       "      <td>1</td>\n",
       "      <td>590.0</td>\n",
       "      <td>1</td>\n",
       "      <td>296.0</td>\n",
       "      <td>19.0</td>\n",
       "      <td>119230.769231</td>\n",
       "    </tr>\n",
       "    <tr>\n",
       "      <th>16</th>\n",
       "      <td>11</td>\n",
       "      <td>6700000.0</td>\n",
       "      <td>82.00</td>\n",
       "      <td>2017-11-23</td>\n",
       "      <td>3</td>\n",
       "      <td>3.05</td>\n",
       "      <td>5</td>\n",
       "      <td>55.60</td>\n",
       "      <td>1</td>\n",
       "      <td>True</td>\n",
       "      <td>...</td>\n",
       "      <td>0</td>\n",
       "      <td>санкт-петербург</td>\n",
       "      <td>22108.0</td>\n",
       "      <td>10698.0</td>\n",
       "      <td>3</td>\n",
       "      <td>420.0</td>\n",
       "      <td>0</td>\n",
       "      <td>NaN</td>\n",
       "      <td>397.0</td>\n",
       "      <td>81707.317073</td>\n",
       "    </tr>\n",
       "    <tr>\n",
       "      <th>17</th>\n",
       "      <td>6</td>\n",
       "      <td>4180000.0</td>\n",
       "      <td>36.00</td>\n",
       "      <td>2016-09-09</td>\n",
       "      <td>1</td>\n",
       "      <td>2.65</td>\n",
       "      <td>17</td>\n",
       "      <td>16.50</td>\n",
       "      <td>7</td>\n",
       "      <td>True</td>\n",
       "      <td>...</td>\n",
       "      <td>1</td>\n",
       "      <td>санкт-петербург</td>\n",
       "      <td>33564.0</td>\n",
       "      <td>14616.0</td>\n",
       "      <td>0</td>\n",
       "      <td>NaN</td>\n",
       "      <td>1</td>\n",
       "      <td>859.0</td>\n",
       "      <td>571.0</td>\n",
       "      <td>116111.111111</td>\n",
       "    </tr>\n",
       "    <tr>\n",
       "      <th>18</th>\n",
       "      <td>8</td>\n",
       "      <td>3250000.0</td>\n",
       "      <td>31.00</td>\n",
       "      <td>2017-01-27</td>\n",
       "      <td>1</td>\n",
       "      <td>2.50</td>\n",
       "      <td>5</td>\n",
       "      <td>19.40</td>\n",
       "      <td>2</td>\n",
       "      <td>True</td>\n",
       "      <td>...</td>\n",
       "      <td>1</td>\n",
       "      <td>санкт-петербург</td>\n",
       "      <td>44060.0</td>\n",
       "      <td>10842.0</td>\n",
       "      <td>1</td>\n",
       "      <td>759.0</td>\n",
       "      <td>0</td>\n",
       "      <td>NaN</td>\n",
       "      <td>168.0</td>\n",
       "      <td>104838.709677</td>\n",
       "    </tr>\n",
       "    <tr>\n",
       "      <th>19</th>\n",
       "      <td>16</td>\n",
       "      <td>14200000.0</td>\n",
       "      <td>121.00</td>\n",
       "      <td>2019-01-09</td>\n",
       "      <td>3</td>\n",
       "      <td>2.75</td>\n",
       "      <td>16</td>\n",
       "      <td>76.00</td>\n",
       "      <td>8</td>\n",
       "      <td>True</td>\n",
       "      <td>...</td>\n",
       "      <td>0</td>\n",
       "      <td>санкт-петербург</td>\n",
       "      <td>38900.0</td>\n",
       "      <td>12843.0</td>\n",
       "      <td>0</td>\n",
       "      <td>NaN</td>\n",
       "      <td>0</td>\n",
       "      <td>NaN</td>\n",
       "      <td>97.0</td>\n",
       "      <td>117355.371901</td>\n",
       "    </tr>\n",
       "    <tr>\n",
       "      <th>20</th>\n",
       "      <td>12</td>\n",
       "      <td>6120000.0</td>\n",
       "      <td>80.00</td>\n",
       "      <td>2017-09-28</td>\n",
       "      <td>3</td>\n",
       "      <td>2.70</td>\n",
       "      <td>27</td>\n",
       "      <td>48.00</td>\n",
       "      <td>11</td>\n",
       "      <td>True</td>\n",
       "      <td>...</td>\n",
       "      <td>2</td>\n",
       "      <td>парголово</td>\n",
       "      <td>53134.0</td>\n",
       "      <td>19311.0</td>\n",
       "      <td>0</td>\n",
       "      <td>NaN</td>\n",
       "      <td>0</td>\n",
       "      <td>NaN</td>\n",
       "      <td>74.0</td>\n",
       "      <td>76500.000000</td>\n",
       "    </tr>\n",
       "    <tr>\n",
       "      <th>21</th>\n",
       "      <td>13</td>\n",
       "      <td>3200000.0</td>\n",
       "      <td>31.60</td>\n",
       "      <td>2018-03-14</td>\n",
       "      <td>1</td>\n",
       "      <td>2.65</td>\n",
       "      <td>5</td>\n",
       "      <td>16.90</td>\n",
       "      <td>2</td>\n",
       "      <td>True</td>\n",
       "      <td>...</td>\n",
       "      <td>1</td>\n",
       "      <td>санкт-петербург</td>\n",
       "      <td>36064.0</td>\n",
       "      <td>9722.0</td>\n",
       "      <td>1</td>\n",
       "      <td>248.0</td>\n",
       "      <td>0</td>\n",
       "      <td>NaN</td>\n",
       "      <td>310.0</td>\n",
       "      <td>101265.822785</td>\n",
       "    </tr>\n",
       "  </tbody>\n",
       "</table>\n",
       "<p>20 rows × 23 columns</p>\n",
       "</div>"
      ],
      "text/plain": [
       "    total_images  last_price  total_area first_day_exposition  rooms  \\\n",
       "0             20  13000000.0      108.00           2019-03-07      3   \n",
       "1              7   3350000.0       40.40           2018-12-04      1   \n",
       "2             10   5196000.0       56.00           2015-08-20      2   \n",
       "3              0  64900000.0      159.00           2015-07-24      3   \n",
       "4              2  10000000.0      100.00           2018-06-19      2   \n",
       "7              5   7915000.0       71.60           2019-04-18      2   \n",
       "8             20   2900000.0       33.16           2018-05-23      1   \n",
       "9             18   5400000.0       61.00           2017-02-26      3   \n",
       "10             5   5050000.0       39.60           2017-11-16      1   \n",
       "11             9   3300000.0       44.00           2018-08-27      2   \n",
       "12            10   3890000.0       54.00           2016-06-30      2   \n",
       "13            20   3550000.0       42.80           2017-07-01      2   \n",
       "14             1   4400000.0       36.00           2016-06-23      1   \n",
       "15            16   4650000.0       39.00           2017-11-18      1   \n",
       "16            11   6700000.0       82.00           2017-11-23      3   \n",
       "17             6   4180000.0       36.00           2016-09-09      1   \n",
       "18             8   3250000.0       31.00           2017-01-27      1   \n",
       "19            16  14200000.0      121.00           2019-01-09      3   \n",
       "20            12   6120000.0       80.00           2017-09-28      3   \n",
       "21            13   3200000.0       31.60           2018-03-14      1   \n",
       "\n",
       "    ceiling_height  floors_total  living_area  floor  is_apartment  ...  \\\n",
       "0             2.70            16        51.00      8          True  ...   \n",
       "1             2.65            11        18.60      1          True  ...   \n",
       "2             2.65             5        34.30      4          True  ...   \n",
       "3             2.65            14          NaN      9          True  ...   \n",
       "4             3.03            14        32.00     13          True  ...   \n",
       "7             2.65            24          NaN     22          True  ...   \n",
       "8             2.65            27        15.43     26          True  ...   \n",
       "9             2.50             9        43.60      7          True  ...   \n",
       "10            2.67            12        20.30      3          True  ...   \n",
       "11            2.65             5        31.00      4         False  ...   \n",
       "12            2.65             5        30.00      5          True  ...   \n",
       "13            2.56             5        27.00      5          True  ...   \n",
       "14            2.65             6        17.00      1          True  ...   \n",
       "15            2.65            14        20.50      5          True  ...   \n",
       "16            3.05             5        55.60      1          True  ...   \n",
       "17            2.65            17        16.50      7          True  ...   \n",
       "18            2.50             5        19.40      2          True  ...   \n",
       "19            2.75            16        76.00      8          True  ...   \n",
       "20            2.70            27        48.00     11          True  ...   \n",
       "21            2.65             5        16.90      2          True  ...   \n",
       "\n",
       "    balcony    locality_name  airports_nearest  cityCenters_nearest  \\\n",
       "0         0  санкт-петербург           18863.0              16028.0   \n",
       "1         2           шушары           12817.0              18603.0   \n",
       "2         0  санкт-петербург           21741.0              13933.0   \n",
       "3         0  санкт-петербург           28098.0               6800.0   \n",
       "4         0  санкт-петербург           31856.0               8098.0   \n",
       "7         2  санкт-петербург           23982.0              11634.0   \n",
       "8         0           мурино               NaN                  NaN   \n",
       "9         2  санкт-петербург           50898.0              15008.0   \n",
       "10        0  санкт-петербург           38357.0              13878.0   \n",
       "11        1        ломоносов           48252.0              51677.0   \n",
       "12        0        сертолово               NaN                  NaN   \n",
       "13        1         петергоф           37868.0              33058.0   \n",
       "14        0           пушкин           20782.0              30759.0   \n",
       "15        1  санкт-петербург           12900.0              14259.0   \n",
       "16        0  санкт-петербург           22108.0              10698.0   \n",
       "17        1  санкт-петербург           33564.0              14616.0   \n",
       "18        1  санкт-петербург           44060.0              10842.0   \n",
       "19        0  санкт-петербург           38900.0              12843.0   \n",
       "20        2        парголово           53134.0              19311.0   \n",
       "21        1  санкт-петербург           36064.0               9722.0   \n",
       "\n",
       "   parks_around3000  parks_nearest  ponds_around3000  ponds_nearest  \\\n",
       "0                 1          482.0                 2          755.0   \n",
       "1                 0            NaN                 0            NaN   \n",
       "2                 1           90.0                 2          574.0   \n",
       "3                 2           84.0                 3          234.0   \n",
       "4                 2          112.0                 1           48.0   \n",
       "7                 0            NaN                 0            NaN   \n",
       "8                 0            NaN                 0            NaN   \n",
       "9                 0            NaN                 0            NaN   \n",
       "10                1          310.0                 2          553.0   \n",
       "11                0            NaN                 0            NaN   \n",
       "12                0            NaN                 0            NaN   \n",
       "13                1          294.0                 3          298.0   \n",
       "14                0            NaN                 1           96.0   \n",
       "15                1          590.0                 1          296.0   \n",
       "16                3          420.0                 0            NaN   \n",
       "17                0            NaN                 1          859.0   \n",
       "18                1          759.0                 0            NaN   \n",
       "19                0            NaN                 0            NaN   \n",
       "20                0            NaN                 0            NaN   \n",
       "21                1          248.0                 0            NaN   \n",
       "\n",
       "    days_exposition    metеr_price  \n",
       "0               NaN  120370.370370  \n",
       "1              81.0   82920.792079  \n",
       "2             558.0   92785.714286  \n",
       "3             424.0  408176.100629  \n",
       "4             121.0  100000.000000  \n",
       "7               NaN  110544.692737  \n",
       "8             189.0   87454.764777  \n",
       "9             289.0   88524.590164  \n",
       "10            137.0  127525.252525  \n",
       "11              7.0   75000.000000  \n",
       "12             90.0   72037.037037  \n",
       "13            366.0   82943.925234  \n",
       "14            203.0  122222.222222  \n",
       "15             19.0  119230.769231  \n",
       "16            397.0   81707.317073  \n",
       "17            571.0  116111.111111  \n",
       "18            168.0  104838.709677  \n",
       "19             97.0  117355.371901  \n",
       "20             74.0   76500.000000  \n",
       "21            310.0  101265.822785  \n",
       "\n",
       "[20 rows x 23 columns]"
      ]
     },
     "execution_count": 50,
     "metadata": {},
     "output_type": "execute_result"
    }
   ],
   "source": [
    "data['metеr_price'] = data['last_price'] / data['total_area']\n",
    "data.head(20)"
   ]
  },
  {
   "cell_type": "markdown",
   "metadata": {},
   "source": [
    "2) Создадим столбец с днем недели публикации (понедельник-0, вторник-1 и так далее):"
   ]
  },
  {
   "cell_type": "code",
   "execution_count": 51,
   "metadata": {},
   "outputs": [],
   "source": [
    "data['weekday'] = data['first_day_exposition'].dt.weekday"
   ]
  },
  {
   "cell_type": "markdown",
   "metadata": {},
   "source": [
    "3) Так же найдем и добавим месяц и год публикации объявления:"
   ]
  },
  {
   "cell_type": "code",
   "execution_count": 52,
   "metadata": {},
   "outputs": [],
   "source": [
    "data['month'] = data['first_day_exposition'].dt.month\n",
    "data['year'] = data['first_day_exposition'].dt.year"
   ]
  },
  {
   "cell_type": "markdown",
   "metadata": {},
   "source": [
    "4) Добавим столбец с типом этажа, поделив их на первый, последний и другой:"
   ]
  },
  {
   "cell_type": "code",
   "execution_count": 53,
   "metadata": {},
   "outputs": [],
   "source": [
    "def floor_type(data):\n",
    "    if data['floor'] == 1:\n",
    "        return 'первый'\n",
    "    if data['floor'] == data['floors_total']:\n",
    "        return 'последний'\n",
    "    return 'другой'\n",
    "\n",
    "data['floor_type'] = data.apply(floor_type, axis=1)"
   ]
  },
  {
   "cell_type": "markdown",
   "metadata": {},
   "source": [
    "5) И наконец, добавим столбец, показывающий расстояние до центра города в километрах"
   ]
  },
  {
   "cell_type": "code",
   "execution_count": 54,
   "metadata": {},
   "outputs": [
    {
     "data": {
      "text/html": [
       "<div>\n",
       "<style scoped>\n",
       "    .dataframe tbody tr th:only-of-type {\n",
       "        vertical-align: middle;\n",
       "    }\n",
       "\n",
       "    .dataframe tbody tr th {\n",
       "        vertical-align: top;\n",
       "    }\n",
       "\n",
       "    .dataframe thead th {\n",
       "        text-align: right;\n",
       "    }\n",
       "</style>\n",
       "<table border=\"1\" class=\"dataframe\">\n",
       "  <thead>\n",
       "    <tr style=\"text-align: right;\">\n",
       "      <th></th>\n",
       "      <th>total_images</th>\n",
       "      <th>last_price</th>\n",
       "      <th>total_area</th>\n",
       "      <th>first_day_exposition</th>\n",
       "      <th>rooms</th>\n",
       "      <th>ceiling_height</th>\n",
       "      <th>floors_total</th>\n",
       "      <th>living_area</th>\n",
       "      <th>floor</th>\n",
       "      <th>is_apartment</th>\n",
       "      <th>...</th>\n",
       "      <th>parks_nearest</th>\n",
       "      <th>ponds_around3000</th>\n",
       "      <th>ponds_nearest</th>\n",
       "      <th>days_exposition</th>\n",
       "      <th>metеr_price</th>\n",
       "      <th>weekday</th>\n",
       "      <th>month</th>\n",
       "      <th>year</th>\n",
       "      <th>floor_type</th>\n",
       "      <th>centre_km</th>\n",
       "    </tr>\n",
       "  </thead>\n",
       "  <tbody>\n",
       "    <tr>\n",
       "      <th>0</th>\n",
       "      <td>20</td>\n",
       "      <td>13000000.0</td>\n",
       "      <td>108.0</td>\n",
       "      <td>2019-03-07</td>\n",
       "      <td>3</td>\n",
       "      <td>2.70</td>\n",
       "      <td>16</td>\n",
       "      <td>51.0</td>\n",
       "      <td>8</td>\n",
       "      <td>True</td>\n",
       "      <td>...</td>\n",
       "      <td>482.0</td>\n",
       "      <td>2</td>\n",
       "      <td>755.0</td>\n",
       "      <td>NaN</td>\n",
       "      <td>120370.370370</td>\n",
       "      <td>3</td>\n",
       "      <td>3</td>\n",
       "      <td>2019</td>\n",
       "      <td>другой</td>\n",
       "      <td>16.0</td>\n",
       "    </tr>\n",
       "    <tr>\n",
       "      <th>1</th>\n",
       "      <td>7</td>\n",
       "      <td>3350000.0</td>\n",
       "      <td>40.4</td>\n",
       "      <td>2018-12-04</td>\n",
       "      <td>1</td>\n",
       "      <td>2.65</td>\n",
       "      <td>11</td>\n",
       "      <td>18.6</td>\n",
       "      <td>1</td>\n",
       "      <td>True</td>\n",
       "      <td>...</td>\n",
       "      <td>NaN</td>\n",
       "      <td>0</td>\n",
       "      <td>NaN</td>\n",
       "      <td>81.0</td>\n",
       "      <td>82920.792079</td>\n",
       "      <td>1</td>\n",
       "      <td>12</td>\n",
       "      <td>2018</td>\n",
       "      <td>первый</td>\n",
       "      <td>19.0</td>\n",
       "    </tr>\n",
       "    <tr>\n",
       "      <th>2</th>\n",
       "      <td>10</td>\n",
       "      <td>5196000.0</td>\n",
       "      <td>56.0</td>\n",
       "      <td>2015-08-20</td>\n",
       "      <td>2</td>\n",
       "      <td>2.65</td>\n",
       "      <td>5</td>\n",
       "      <td>34.3</td>\n",
       "      <td>4</td>\n",
       "      <td>True</td>\n",
       "      <td>...</td>\n",
       "      <td>90.0</td>\n",
       "      <td>2</td>\n",
       "      <td>574.0</td>\n",
       "      <td>558.0</td>\n",
       "      <td>92785.714286</td>\n",
       "      <td>3</td>\n",
       "      <td>8</td>\n",
       "      <td>2015</td>\n",
       "      <td>другой</td>\n",
       "      <td>14.0</td>\n",
       "    </tr>\n",
       "    <tr>\n",
       "      <th>3</th>\n",
       "      <td>0</td>\n",
       "      <td>64900000.0</td>\n",
       "      <td>159.0</td>\n",
       "      <td>2015-07-24</td>\n",
       "      <td>3</td>\n",
       "      <td>2.65</td>\n",
       "      <td>14</td>\n",
       "      <td>NaN</td>\n",
       "      <td>9</td>\n",
       "      <td>True</td>\n",
       "      <td>...</td>\n",
       "      <td>84.0</td>\n",
       "      <td>3</td>\n",
       "      <td>234.0</td>\n",
       "      <td>424.0</td>\n",
       "      <td>408176.100629</td>\n",
       "      <td>4</td>\n",
       "      <td>7</td>\n",
       "      <td>2015</td>\n",
       "      <td>другой</td>\n",
       "      <td>7.0</td>\n",
       "    </tr>\n",
       "    <tr>\n",
       "      <th>4</th>\n",
       "      <td>2</td>\n",
       "      <td>10000000.0</td>\n",
       "      <td>100.0</td>\n",
       "      <td>2018-06-19</td>\n",
       "      <td>2</td>\n",
       "      <td>3.03</td>\n",
       "      <td>14</td>\n",
       "      <td>32.0</td>\n",
       "      <td>13</td>\n",
       "      <td>True</td>\n",
       "      <td>...</td>\n",
       "      <td>112.0</td>\n",
       "      <td>1</td>\n",
       "      <td>48.0</td>\n",
       "      <td>121.0</td>\n",
       "      <td>100000.000000</td>\n",
       "      <td>1</td>\n",
       "      <td>6</td>\n",
       "      <td>2018</td>\n",
       "      <td>другой</td>\n",
       "      <td>8.0</td>\n",
       "    </tr>\n",
       "  </tbody>\n",
       "</table>\n",
       "<p>5 rows × 28 columns</p>\n",
       "</div>"
      ],
      "text/plain": [
       "   total_images  last_price  total_area first_day_exposition  rooms  \\\n",
       "0            20  13000000.0       108.0           2019-03-07      3   \n",
       "1             7   3350000.0        40.4           2018-12-04      1   \n",
       "2            10   5196000.0        56.0           2015-08-20      2   \n",
       "3             0  64900000.0       159.0           2015-07-24      3   \n",
       "4             2  10000000.0       100.0           2018-06-19      2   \n",
       "\n",
       "   ceiling_height  floors_total  living_area  floor  is_apartment  ...  \\\n",
       "0            2.70            16         51.0      8          True  ...   \n",
       "1            2.65            11         18.6      1          True  ...   \n",
       "2            2.65             5         34.3      4          True  ...   \n",
       "3            2.65            14          NaN      9          True  ...   \n",
       "4            3.03            14         32.0     13          True  ...   \n",
       "\n",
       "   parks_nearest  ponds_around3000  ponds_nearest  days_exposition  \\\n",
       "0          482.0                 2          755.0              NaN   \n",
       "1            NaN                 0            NaN             81.0   \n",
       "2           90.0                 2          574.0            558.0   \n",
       "3           84.0                 3          234.0            424.0   \n",
       "4          112.0                 1           48.0            121.0   \n",
       "\n",
       "     metеr_price  weekday  month  year  floor_type  centre_km  \n",
       "0  120370.370370        3      3  2019      другой       16.0  \n",
       "1   82920.792079        1     12  2018      первый       19.0  \n",
       "2   92785.714286        3      8  2015      другой       14.0  \n",
       "3  408176.100629        4      7  2015      другой        7.0  \n",
       "4  100000.000000        1      6  2018      другой        8.0  \n",
       "\n",
       "[5 rows x 28 columns]"
      ]
     },
     "execution_count": 54,
     "metadata": {},
     "output_type": "execute_result"
    }
   ],
   "source": [
    "data['centre_km'] = round(data['cityCenters_nearest'] / 1000)\n",
    "data.head()"
   ]
  },
  {
   "cell_type": "markdown",
   "metadata": {},
   "source": [
    "### Проведите исследовательский анализ данных"
   ]
  },
  {
   "cell_type": "markdown",
   "metadata": {},
   "source": [
    "Построим гистограммы для каждого параметра\n",
    "1. Общая площадь"
   ]
  },
  {
   "cell_type": "code",
   "execution_count": 55,
   "metadata": {},
   "outputs": [
    {
     "data": {
      "text/plain": [
       "<AxesSubplot:>"
      ]
     },
     "execution_count": 55,
     "metadata": {},
     "output_type": "execute_result"
    },
    {
     "data": {
      "image/png": "[encoded data removed]",
      "text/plain": [
       "<Figure size 720x360 with 1 Axes>"
      ]
     },
     "metadata": {
      "needs_background": "light"
     },
     "output_type": "display_data"
    }
   ],
   "source": [
    "data['total_area'].hist(figsize=(10,5), bins=30)"
   ]
  },
  {
   "cell_type": "markdown",
   "metadata": {},
   "source": [
    "Больше всего квартир 40-70 кв.м. Квартиры площадью менее 100 кв.м составляют малую долю среди всех квартир.\\\n",
    "2. Жилая площадь"
   ]
  },
  {
   "cell_type": "code",
   "execution_count": 56,
   "metadata": {
    "scrolled": true
   },
   "outputs": [
    {
     "data": {
      "text/plain": [
       "<AxesSubplot:>"
      ]
     },
     "execution_count": 56,
     "metadata": {},
     "output_type": "execute_result"
    },
    {
     "data": {
      "image/png": "[encoded data removed]",
      "text/plain": [
       "<Figure size 720x360 with 1 Axes>"
      ]
     },
     "metadata": {
      "needs_background": "light"
     },
     "output_type": "display_data"
    }
   ],
   "source": [
    "data['living_area'].hist(figsize=(10,5), bins=30)"
   ]
  },
  {
   "cell_type": "markdown",
   "metadata": {},
   "source": [
    "Самая часто встречающаяся жилая площадь ~ 15 кв.м. Далее ~ 30 кв.м. Квартиры с жилой площадью более 50 кв.м. встречаются редко.\\\n",
    "3. Площадь кухни"
   ]
  },
  {
   "cell_type": "code",
   "execution_count": 57,
   "metadata": {
    "scrolled": true
   },
   "outputs": [
    {
     "data": {
      "text/plain": [
       "<AxesSubplot:>"
      ]
     },
     "execution_count": 57,
     "metadata": {},
     "output_type": "execute_result"
    },
    {
     "data": {
      "image/png": "[encoded data removed]",
      "text/plain": [
       "<Figure size 720x360 with 1 Axes>"
      ]
     },
     "metadata": {
      "needs_background": "light"
     },
     "output_type": "display_data"
    }
   ],
   "source": [
    "data['kitchen_area'].hist(figsize=(10,5), bins=30)"
   ]
  },
  {
   "cell_type": "markdown",
   "metadata": {},
   "source": [
    "Самая распространенная площадь кухни от 5 до 10 кв.м. Кухни площадью более 15 кв.м. редко продают.\\\n",
    "4. Цена объекта"
   ]
  },
  {
   "cell_type": "code",
   "execution_count": 58,
   "metadata": {},
   "outputs": [
    {
     "data": {
      "text/plain": [
       "<AxesSubplot:>"
      ]
     },
     "execution_count": 58,
     "metadata": {},
     "output_type": "execute_result"
    },
    {
     "data": {
      "image/png": "[encoded data removed]",
      "text/plain": [
       "<Figure size 720x360 with 1 Axes>"
      ]
     },
     "metadata": {
      "needs_background": "light"
     },
     "output_type": "display_data"
    }
   ],
   "source": [
    "data['last_price'].hist(figsize=(10,5), bins=100)"
   ]
  },
  {
   "cell_type": "markdown",
   "metadata": {},
   "source": [
    "График не понятен, но очень интересен.\\\n",
    "5. Количество комнат"
   ]
  },
  {
   "cell_type": "code",
   "execution_count": 59,
   "metadata": {},
   "outputs": [
    {
     "data": {
      "text/plain": [
       "<AxesSubplot:>"
      ]
     },
     "execution_count": 59,
     "metadata": {},
     "output_type": "execute_result"
    },
    {
     "data": {
      "image/png": "[encoded data removed]",
      "text/plain": [
       "<Figure size 720x360 with 1 Axes>"
      ]
     },
     "metadata": {
      "needs_background": "light"
     },
     "output_type": "display_data"
    }
   ],
   "source": [
    "data['rooms'].hist(figsize=(10,5), bins=30)"
   ]
  },
  {
   "cell_type": "markdown",
   "metadata": {},
   "source": [
    "Квартир с одной, двумя и тремя комнатами на рынке больше всего.\\\n",
    "6. Высота потолков"
   ]
  },
  {
   "cell_type": "code",
   "execution_count": 60,
   "metadata": {
    "scrolled": false
   },
   "outputs": [
    {
     "data": {
      "text/plain": [
       "<AxesSubplot:>"
      ]
     },
     "execution_count": 60,
     "metadata": {},
     "output_type": "execute_result"
    },
    {
     "data": {
      "image/png": "[encoded data removed]",
      "text/plain": [
       "<Figure size 720x360 with 1 Axes>"
      ]
     },
     "metadata": {
      "needs_background": "light"
     },
     "output_type": "display_data"
    }
   ],
   "source": [
    "data['ceiling_height'].hist(figsize=(10,5), bins=30)"
   ]
  },
  {
   "cell_type": "markdown",
   "metadata": {},
   "source": [
    "Больше всего объявлений на квартиры с высотой 2.6 метров.\\\n",
    "7. Этаж квартиры"
   ]
  },
  {
   "cell_type": "code",
   "execution_count": 61,
   "metadata": {
    "scrolled": true
   },
   "outputs": [
    {
     "data": {
      "text/plain": [
       "<AxesSubplot:>"
      ]
     },
     "execution_count": 61,
     "metadata": {},
     "output_type": "execute_result"
    },
    {
     "data": {
      "image/png": "[encoded data removed]",
      "text/plain": [
       "<Figure size 720x360 with 1 Axes>"
      ]
     },
     "metadata": {
      "needs_background": "light"
     },
     "output_type": "display_data"
    }
   ],
   "source": [
    "data['floor'].hist(figsize=(10,5), bins=60)"
   ]
  },
  {
   "cell_type": "markdown",
   "metadata": {},
   "source": [
    "На рынке продается очень много квартир на первом этаже, а также со 2 по 5. Квартир на других этажах значительно меньше.\\\n",
    "8. Тип этажа квартиры"
   ]
  },
  {
   "cell_type": "code",
   "execution_count": 62,
   "metadata": {
    "scrolled": true
   },
   "outputs": [
    {
     "data": {
      "text/plain": [
       "<AxesSubplot:>"
      ]
     },
     "execution_count": 62,
     "metadata": {},
     "output_type": "execute_result"
    },
    {
     "data": {
      "image/png": "[encoded data removed]",
      "text/plain": [
       "<Figure size 720x360 with 1 Axes>"
      ]
     },
     "metadata": {
      "needs_background": "light"
     },
     "output_type": "display_data"
    }
   ],
   "source": [
    "data['floor'].hist(figsize=(10,5), bins=72)"
   ]
  },
  {
   "cell_type": "code",
   "execution_count": 63,
   "metadata": {
    "scrolled": false
   },
   "outputs": [
    {
     "data": {
      "text/plain": [
       "<AxesSubplot:>"
      ]
     },
     "execution_count": 63,
     "metadata": {},
     "output_type": "execute_result"
    },
    {
     "data": {
      "image/png": "[encoded data removed]",
      "text/plain": [
       "<Figure size 720x360 with 1 Axes>"
      ]
     },
     "metadata": {
      "needs_background": "light"
     },
     "output_type": "display_data"
    }
   ],
   "source": [
    "data['floor_type'].hist(figsize=(10,5), bins=5)"
   ]
  },
  {
   "cell_type": "markdown",
   "metadata": {},
   "source": [
    "Здесь уже видно, что квартир на первых и последних этажах на рынке меньше, чем на других, что вполне логично.\\\n",
    "9. Общее количество этажей в доме"
   ]
  },
  {
   "cell_type": "code",
   "execution_count": 64,
   "metadata": {
    "scrolled": false
   },
   "outputs": [
    {
     "data": {
      "text/plain": [
       "<AxesSubplot:>"
      ]
     },
     "execution_count": 64,
     "metadata": {},
     "output_type": "execute_result"
    },
    {
     "data": {
      "image/png": "[encoded data removed]",
      "text/plain": [
       "<Figure size 720x360 with 1 Axes>"
      ]
     },
     "metadata": {
      "needs_background": "light"
     },
     "output_type": "display_data"
    }
   ],
   "source": [
    "data['floors_total'].hist(figsize=(10,5), bins=50)"
   ]
  },
  {
   "cell_type": "markdown",
   "metadata": {},
   "source": [
    "Большая доля рассматриваемых квартир находится в пятиэтажках и девятиэтажных домах.\\\n",
    "10. Расстояние до центра города в метрах"
   ]
  },
  {
   "cell_type": "code",
   "execution_count": 65,
   "metadata": {
    "scrolled": true
   },
   "outputs": [
    {
     "data": {
      "text/plain": [
       "<AxesSubplot:>"
      ]
     },
     "execution_count": 65,
     "metadata": {},
     "output_type": "execute_result"
    },
    {
     "data": {
      "image/png": "[encoded data removed]",
      "text/plain": [
       "<Figure size 720x360 with 1 Axes>"
      ]
     },
     "metadata": {
      "needs_background": "light"
     },
     "output_type": "display_data"
    }
   ],
   "source": [
    "data['cityCenters_nearest'].hist(figsize=(10,5), bins=30)"
   ]
  },
  {
   "cell_type": "markdown",
   "metadata": {},
   "source": [
    "Большинство квартир находится на расстоянии 10000-15000 м от центра города.\\\n",
    "11. Расстояние до ближайшего аэропорта"
   ]
  },
  {
   "cell_type": "code",
   "execution_count": 66,
   "metadata": {
    "scrolled": true
   },
   "outputs": [
    {
     "data": {
      "text/plain": [
       "<AxesSubplot:>"
      ]
     },
     "execution_count": 66,
     "metadata": {},
     "output_type": "execute_result"
    },
    {
     "data": {
      "image/png": "[encoded data removed]",
      "text/plain": [
       "<Figure size 720x360 with 1 Axes>"
      ]
     },
     "metadata": {
      "needs_background": "light"
     },
     "output_type": "display_data"
    }
   ],
   "source": [
    "data['airports_nearest'].hist(figsize=(10,5), bins=30)"
   ]
  },
  {
   "cell_type": "markdown",
   "metadata": {},
   "source": [
    "Аэропорт находится в 20 км от большинства выставленных на продажу квартир. Распределение расстояний до центра похоже на распределение Пуассона.\\\n",
    "12. Расстояние до ближайшего парка"
   ]
  },
  {
   "cell_type": "code",
   "execution_count": 67,
   "metadata": {
    "scrolled": true
   },
   "outputs": [
    {
     "data": {
      "text/plain": [
       "<AxesSubplot:>"
      ]
     },
     "execution_count": 67,
     "metadata": {},
     "output_type": "execute_result"
    },
    {
     "data": {
      "image/png": "[encoded data removed]",
      "text/plain": [
       "<Figure size 720x360 with 1 Axes>"
      ]
     },
     "metadata": {
      "needs_background": "light"
     },
     "output_type": "display_data"
    }
   ],
   "source": [
    "data['parks_nearest'].hist(figsize=(10,5), bins=30)"
   ]
  },
  {
   "cell_type": "markdown",
   "metadata": {},
   "source": [
    "У большей части квартир парк находится на расстоянии 500 метров. Можно сказать, что почти у всех из представленных квартир в шаговой доступности (5-15 минут) есть парк.\\\n",
    "13. День публикации объявления"
   ]
  },
  {
   "cell_type": "code",
   "execution_count": 68,
   "metadata": {
    "scrolled": true
   },
   "outputs": [
    {
     "data": {
      "text/plain": [
       "<AxesSubplot:>"
      ]
     },
     "execution_count": 68,
     "metadata": {},
     "output_type": "execute_result"
    },
    {
     "data": {
      "image/png": "[encoded data removed]",
      "text/plain": [
       "<Figure size 720x360 with 1 Axes>"
      ]
     },
     "metadata": {
      "needs_background": "light"
     },
     "output_type": "display_data"
    }
   ],
   "source": [
    "data['weekday'].hist(figsize=(10,5), bins=15)"
   ]
  },
  {
   "cell_type": "markdown",
   "metadata": {},
   "source": [
    "Чаще всего квартиры выставляют на продажу в будни.\\\n",
    "14. Месяц публикации объявления"
   ]
  },
  {
   "cell_type": "code",
   "execution_count": 69,
   "metadata": {
    "scrolled": true
   },
   "outputs": [
    {
     "data": {
      "text/plain": [
       "<AxesSubplot:>"
      ]
     },
     "execution_count": 69,
     "metadata": {},
     "output_type": "execute_result"
    },
    {
     "data": {
      "image/png": "[encoded data removed]",
      "text/plain": [
       "<Figure size 720x360 with 1 Axes>"
      ]
     },
     "metadata": {
      "needs_background": "light"
     },
     "output_type": "display_data"
    }
   ],
   "source": [
    "data['month'].hist(figsize=(10,5), bins=30)"
   ]
  },
  {
   "cell_type": "markdown",
   "metadata": {},
   "source": [
    "Больше объявлений о продаже недвижимости в начале и в конце года, а именно фераль-март и октябрь-ноябрь."
   ]
  },
  {
   "cell_type": "markdown",
   "metadata": {},
   "source": [
    "**Рассмотрим как быстро продавались квартиры:**\\\n",
    "Построим гистограмму, показывающую, сколько дней было размещено каждое объявление"
   ]
  },
  {
   "cell_type": "code",
   "execution_count": 70,
   "metadata": {
    "scrolled": false
   },
   "outputs": [
    {
     "data": {
      "text/plain": [
       "<AxesSubplot:>"
      ]
     },
     "execution_count": 70,
     "metadata": {},
     "output_type": "execute_result"
    },
    {
     "data": {
      "image/png": "[encoded data removed]",
      "text/plain": [
       "<Figure size 720x360 with 1 Axes>"
      ]
     },
     "metadata": {
      "needs_background": "light"
     },
     "output_type": "display_data"
    }
   ],
   "source": [
    "data['days_exposition'].hist(figsize=(10,5), bins=100)"
   ]
  },
  {
   "cell_type": "markdown",
   "metadata": {},
   "source": [
    "По графику видно, что большая часть квартир продавалась менее, чем за 100 дней со дня подачи объявления. Случаев продажи объекта после 200 дней размещения объявления довольно мало.\\\n",
    "Подтвердим наши предположения и найдем среднее значение и медиану:"
   ]
  },
  {
   "cell_type": "code",
   "execution_count": 71,
   "metadata": {
    "scrolled": true
   },
   "outputs": [
    {
     "name": "stdout",
     "output_type": "stream",
     "text": [
      "Среднее кол-во дней размещения объявления: 176\n",
      "Медианное кол-во дней размещения объявления: 95\n"
     ]
    }
   ],
   "source": [
    "days_exposition_mean = data['days_exposition'].mean()\n",
    "days_exposition_median = data['days_exposition'].median()\n",
    "print('Среднее кол-во дней размещения объявления:', round(days_exposition_mean))\n",
    "print('Медианное кол-во дней размещения объявления:', round(days_exposition_median))"
   ]
  },
  {
   "cell_type": "markdown",
   "metadata": {},
   "source": [
    "Медианное значение отличается от среднего почти в два раза. Это можно объяснить тем, что есть объявления, которые были размещены более 4 лет, что является очень большой разницей с теми которые продавались за 3 месяца. Тем не менее, в большинство квартир размещены на сайте Яндекс Недвижимость около 100 дней, из-за чего медианное значение равно 96 дням. Продажи до 96 дней можно считать быстрыми, а те, которые \"висят\" на сайте больше-долгими. "
   ]
  },
  {
   "cell_type": "markdown",
   "metadata": {},
   "source": [
    "**Влияние факторов на конечную стоимость**\\\n",
    "**1. Зависимость цены от общей площади**"
   ]
  },
  {
   "cell_type": "code",
   "execution_count": 72,
   "metadata": {
    "scrolled": true
   },
   "outputs": [
    {
     "data": {
      "text/plain": [
       "<AxesSubplot:xlabel='total_area'>"
      ]
     },
     "execution_count": 72,
     "metadata": {},
     "output_type": "execute_result"
    },
    {
     "data": {
      "image/png": "[encoded data removed]",
      "text/plain": [
       "<Figure size 432x288 with 1 Axes>"
      ]
     },
     "metadata": {
      "needs_background": "light"
     },
     "output_type": "display_data"
    }
   ],
   "source": [
    "(\n",
    "    data.pivot_table(index='total_area', values='last_price')\n",
    "    .plot(style='o', alpha=0.7)\n",
    ")"
   ]
  },
  {
   "cell_type": "markdown",
   "metadata": {},
   "source": [
    "Чем больше общая площадь квартиры, тем больше ее конечная цена. Найдем коэффициент корреляции, показывающий взаимосвязь двух величин:"
   ]
  },
  {
   "cell_type": "code",
   "execution_count": 73,
   "metadata": {
    "scrolled": false
   },
   "outputs": [
    {
     "data": {
      "text/plain": [
       "0.7192339911950909"
      ]
     },
     "execution_count": 73,
     "metadata": {},
     "output_type": "execute_result"
    }
   ],
   "source": [
    "data['total_area'].corr(data['last_price'])"
   ]
  },
  {
   "cell_type": "markdown",
   "metadata": {},
   "source": [
    "Корреляция положительная, то есть действительно большая площадь квартиры соответствует большей цене за нее."
   ]
  },
  {
   "cell_type": "markdown",
   "metadata": {},
   "source": [
    "**2. Зависимость цены от жилой площади**"
   ]
  },
  {
   "cell_type": "code",
   "execution_count": 74,
   "metadata": {
    "scrolled": false
   },
   "outputs": [
    {
     "data": {
      "text/plain": [
       "<AxesSubplot:xlabel='living_area'>"
      ]
     },
     "execution_count": 74,
     "metadata": {},
     "output_type": "execute_result"
    },
    {
     "data": {
      "image/png": "[encoded data removed]",
      "text/plain": [
       "<Figure size 432x288 with 1 Axes>"
      ]
     },
     "metadata": {
      "needs_background": "light"
     },
     "output_type": "display_data"
    }
   ],
   "source": [
    "(\n",
    "    data.pivot_table(index='living_area', values='last_price')\n",
    "    .plot(style='o', alpha=0.7)\n",
    ")"
   ]
  },
  {
   "cell_type": "markdown",
   "metadata": {},
   "source": [
    "Цена растет с увеличением жилой площади, но не так значительно, как в предыдущем случае. Найдем корреляцию:"
   ]
  },
  {
   "cell_type": "code",
   "execution_count": 75,
   "metadata": {},
   "outputs": [
    {
     "data": {
      "text/plain": [
       "0.632178796920704"
      ]
     },
     "execution_count": 75,
     "metadata": {},
     "output_type": "execute_result"
    }
   ],
   "source": [
    "data['living_area'].corr(data['last_price'])"
   ]
  },
  {
   "cell_type": "markdown",
   "metadata": {},
   "source": [
    "**3. Зависимость цены от площади кухни**"
   ]
  },
  {
   "cell_type": "code",
   "execution_count": 76,
   "metadata": {
    "scrolled": false
   },
   "outputs": [
    {
     "data": {
      "text/plain": [
       "<AxesSubplot:xlabel='kitchen_area'>"
      ]
     },
     "execution_count": 76,
     "metadata": {},
     "output_type": "execute_result"
    },
    {
     "data": {
      "image/png": "[encoded data removed]",
      "text/plain": [
       "<Figure size 432x288 with 1 Axes>"
      ]
     },
     "metadata": {
      "needs_background": "light"
     },
     "output_type": "display_data"
    }
   ],
   "source": [
    "(\n",
    "    data.pivot_table(index='kitchen_area', values='last_price')\n",
    "    .plot(style='o', alpha=0.7)\n",
    ")"
   ]
  },
  {
   "cell_type": "markdown",
   "metadata": {},
   "source": [
    "Здесь так же положительная корреляция, цена тем больше, чем больше площадь кухни."
   ]
  },
  {
   "cell_type": "code",
   "execution_count": 77,
   "metadata": {
    "scrolled": false
   },
   "outputs": [
    {
     "data": {
      "text/plain": [
       "0.5315123650789345"
      ]
     },
     "execution_count": 77,
     "metadata": {},
     "output_type": "execute_result"
    }
   ],
   "source": [
    "data['kitchen_area'].corr(data['last_price'])"
   ]
  },
  {
   "cell_type": "markdown",
   "metadata": {},
   "source": [
    "**4. Зависимость цены от количества комнат**"
   ]
  },
  {
   "cell_type": "code",
   "execution_count": 78,
   "metadata": {
    "scrolled": true
   },
   "outputs": [
    {
     "data": {
      "text/plain": [
       "<AxesSubplot:xlabel='rooms'>"
      ]
     },
     "execution_count": 78,
     "metadata": {},
     "output_type": "execute_result"
    },
    {
     "data": {
      "image/png": "[encoded data removed]",
      "text/plain": [
       "<Figure size 432x288 with 1 Axes>"
      ]
     },
     "metadata": {
      "needs_background": "light"
     },
     "output_type": "display_data"
    }
   ],
   "source": [
    "(\n",
    "    data.pivot_table(index='rooms', values='last_price')\n",
    "    .plot(style='o-', alpha=0.7)\n",
    ")"
   ]
  },
  {
   "cell_type": "code",
   "execution_count": 79,
   "metadata": {},
   "outputs": [
    {
     "data": {
      "text/plain": [
       "0.428856762766338"
      ]
     },
     "execution_count": 79,
     "metadata": {},
     "output_type": "execute_result"
    }
   ],
   "source": [
    "data['rooms'].corr(data['last_price'])"
   ]
  },
  {
   "cell_type": "markdown",
   "metadata": {},
   "source": [
    "Чем больше количество комнат, тем быстрее растет цена квартиры. Но если комнат более 6, то изменение цены меняет свой характер. "
   ]
  },
  {
   "cell_type": "markdown",
   "metadata": {},
   "source": [
    "**5. Зависимость цены от этажа квартиры**"
   ]
  },
  {
   "cell_type": "code",
   "execution_count": 80,
   "metadata": {
    "scrolled": true
   },
   "outputs": [
    {
     "data": {
      "text/plain": [
       "<AxesSubplot:xlabel='floor_type'>"
      ]
     },
     "execution_count": 80,
     "metadata": {},
     "output_type": "execute_result"
    },
    {
     "data": {
      "image/png": "[encoded data removed]",
      "text/plain": [
       "<Figure size 432x288 with 1 Axes>"
      ]
     },
     "metadata": {
      "needs_background": "light"
     },
     "output_type": "display_data"
    }
   ],
   "source": [
    "(\n",
    "    data.pivot_table(index='floor_type', values='last_price')\n",
    "    .plot(style='o-', alpha=0.7)\n",
    ")"
   ]
  },
  {
   "cell_type": "markdown",
   "metadata": {},
   "source": [
    "Квартиры на первом этаже имеют самую низкую цену. Квартиры на последнем и других этажах дороже."
   ]
  },
  {
   "cell_type": "markdown",
   "metadata": {},
   "source": [
    "**6. Зависимость цены от даты размещения**\\\n",
    "**6.1 День недели**"
   ]
  },
  {
   "cell_type": "code",
   "execution_count": 81,
   "metadata": {
    "scrolled": true
   },
   "outputs": [
    {
     "data": {
      "text/plain": [
       "<AxesSubplot:xlabel='weekday'>"
      ]
     },
     "execution_count": 81,
     "metadata": {},
     "output_type": "execute_result"
    },
    {
     "data": {
      "image/png": "[encoded data removed]",
      "text/plain": [
       "<Figure size 432x288 with 1 Axes>"
      ]
     },
     "metadata": {
      "needs_background": "light"
     },
     "output_type": "display_data"
    }
   ],
   "source": [
    "(\n",
    "    data.pivot_table(index='weekday', values='last_price')\n",
    "    .plot(style='o-', alpha=0.7)\n",
    ")"
   ]
  },
  {
   "cell_type": "code",
   "execution_count": 82,
   "metadata": {},
   "outputs": [
    {
     "data": {
      "text/plain": [
       "-0.005904108540176944"
      ]
     },
     "execution_count": 82,
     "metadata": {},
     "output_type": "execute_result"
    }
   ],
   "source": [
    "data['weekday'].corr(data['last_price'])"
   ]
  },
  {
   "cell_type": "markdown",
   "metadata": {},
   "source": [
    "Ничего не понятно. Можно сказать, что в среднем в начале недели цены на квартиры повышаются, а начиная с четверга, они становятся ниже."
   ]
  },
  {
   "cell_type": "markdown",
   "metadata": {},
   "source": [
    "**6.2. Месяц подачи объявления**"
   ]
  },
  {
   "cell_type": "code",
   "execution_count": 83,
   "metadata": {
    "scrolled": true
   },
   "outputs": [
    {
     "data": {
      "text/plain": [
       "<AxesSubplot:xlabel='month'>"
      ]
     },
     "execution_count": 83,
     "metadata": {},
     "output_type": "execute_result"
    },
    {
     "data": {
      "image/png": "[encoded data removed]",
      "text/plain": [
       "<Figure size 432x288 with 1 Axes>"
      ]
     },
     "metadata": {
      "needs_background": "light"
     },
     "output_type": "display_data"
    }
   ],
   "source": [
    "(\n",
    "    data.pivot_table(index='month', values='last_price')\n",
    "    .plot(style='o-', alpha=0.7)\n",
    ")"
   ]
  },
  {
   "cell_type": "code",
   "execution_count": 84,
   "metadata": {},
   "outputs": [
    {
     "data": {
      "text/plain": [
       "0.010969818096897628"
      ]
     },
     "execution_count": 84,
     "metadata": {},
     "output_type": "execute_result"
    }
   ],
   "source": [
    "data['month'].corr(data['last_price'])"
   ]
  },
  {
   "cell_type": "markdown",
   "metadata": {},
   "source": [
    "Еще больше непонятна связь. Цена то повышается, то понижается"
   ]
  },
  {
   "cell_type": "markdown",
   "metadata": {},
   "source": [
    "**6.3 Год подачи объявления**"
   ]
  },
  {
   "cell_type": "code",
   "execution_count": 85,
   "metadata": {
    "scrolled": true
   },
   "outputs": [
    {
     "data": {
      "text/plain": [
       "<AxesSubplot:xlabel='year'>"
      ]
     },
     "execution_count": 85,
     "metadata": {},
     "output_type": "execute_result"
    },
    {
     "data": {
      "image/png": "[encoded data removed]",
      "text/plain": [
       "<Figure size 432x288 with 1 Axes>"
      ]
     },
     "metadata": {
      "needs_background": "light"
     },
     "output_type": "display_data"
    }
   ],
   "source": [
    "(\n",
    "    data.pivot_table(index='year', values='last_price')\n",
    "    .plot(style='o-', alpha=0.7)\n",
    ")"
   ]
  },
  {
   "cell_type": "code",
   "execution_count": 86,
   "metadata": {
    "scrolled": true
   },
   "outputs": [
    {
     "data": {
      "text/plain": [
       "-0.04832153650984017"
      ]
     },
     "execution_count": 86,
     "metadata": {},
     "output_type": "execute_result"
    }
   ],
   "source": [
    "data['year'].corr(data['last_price'])"
   ]
  },
  {
   "cell_type": "markdown",
   "metadata": {},
   "source": [
    "Корреляция близка к 0, то есть влияние фактора \"год\" на конечную цену квартиры отсутствует. По графику заметна тенденция снижения цены на недвижимость до 2018 года, после 2018 цены начали расти. Чтобы понять такую закономерность необходимо изучить влияние других факторов, ведь, по факту, стоимость аналогичных квартир могла вести себя абсолютно иначе. Составим сводную таблицу по годам."
   ]
  },
  {
   "cell_type": "code",
   "execution_count": 87,
   "metadata": {
    "scrolled": false
   },
   "outputs": [
    {
     "data": {
      "text/html": [
       "<div>\n",
       "<style scoped>\n",
       "    .dataframe tbody tr th:only-of-type {\n",
       "        vertical-align: middle;\n",
       "    }\n",
       "\n",
       "    .dataframe tbody tr th {\n",
       "        vertical-align: top;\n",
       "    }\n",
       "\n",
       "    .dataframe thead th {\n",
       "        text-align: right;\n",
       "    }\n",
       "</style>\n",
       "<table border=\"1\" class=\"dataframe\">\n",
       "  <thead>\n",
       "    <tr style=\"text-align: right;\">\n",
       "      <th></th>\n",
       "      <th>count_price</th>\n",
       "      <th>count_area</th>\n",
       "      <th>mean_price</th>\n",
       "      <th>mean_area</th>\n",
       "    </tr>\n",
       "    <tr>\n",
       "      <th>year</th>\n",
       "      <th></th>\n",
       "      <th></th>\n",
       "      <th></th>\n",
       "      <th></th>\n",
       "    </tr>\n",
       "  </thead>\n",
       "  <tbody>\n",
       "    <tr>\n",
       "      <th>2014</th>\n",
       "      <td>113</td>\n",
       "      <td>113</td>\n",
       "      <td>1.145561e+07</td>\n",
       "      <td>83.403451</td>\n",
       "    </tr>\n",
       "    <tr>\n",
       "      <th>2015</th>\n",
       "      <td>1039</td>\n",
       "      <td>1039</td>\n",
       "      <td>7.841152e+06</td>\n",
       "      <td>68.769827</td>\n",
       "    </tr>\n",
       "    <tr>\n",
       "      <th>2016</th>\n",
       "      <td>2579</td>\n",
       "      <td>2579</td>\n",
       "      <td>6.351112e+06</td>\n",
       "      <td>61.821241</td>\n",
       "    </tr>\n",
       "    <tr>\n",
       "      <th>2017</th>\n",
       "      <td>7616</td>\n",
       "      <td>7616</td>\n",
       "      <td>6.112598e+06</td>\n",
       "      <td>59.926614</td>\n",
       "    </tr>\n",
       "    <tr>\n",
       "      <th>2018</th>\n",
       "      <td>7864</td>\n",
       "      <td>7864</td>\n",
       "      <td>5.876701e+06</td>\n",
       "      <td>58.047246</td>\n",
       "    </tr>\n",
       "    <tr>\n",
       "      <th>2019</th>\n",
       "      <td>2692</td>\n",
       "      <td>2692</td>\n",
       "      <td>6.503622e+06</td>\n",
       "      <td>58.565431</td>\n",
       "    </tr>\n",
       "  </tbody>\n",
       "</table>\n",
       "</div>"
      ],
      "text/plain": [
       "      count_price  count_area    mean_price  mean_area\n",
       "year                                                  \n",
       "2014          113         113  1.145561e+07  83.403451\n",
       "2015         1039        1039  7.841152e+06  68.769827\n",
       "2016         2579        2579  6.351112e+06  61.821241\n",
       "2017         7616        7616  6.112598e+06  59.926614\n",
       "2018         7864        7864  5.876701e+06  58.047246\n",
       "2019         2692        2692  6.503622e+06  58.565431"
      ]
     },
     "execution_count": 87,
     "metadata": {},
     "output_type": "execute_result"
    }
   ],
   "source": [
    "year_pivot = data.pivot_table(index='year', values=['total_area','last_price'], aggfunc=['count','mean'])\n",
    "year_pivot.columns = ['count_price','count_area','mean_price','mean_area']\n",
    "year_pivot"
   ]
  },
  {
   "cell_type": "code",
   "execution_count": 88,
   "metadata": {},
   "outputs": [
    {
     "data": {
      "text/plain": [
       "<AxesSubplot:xlabel='year'>"
      ]
     },
     "execution_count": 88,
     "metadata": {},
     "output_type": "execute_result"
    },
    {
     "data": {
      "image/png": "[encoded data removed]",
      "text/plain": [
       "<Figure size 432x288 with 1 Axes>"
      ]
     },
     "metadata": {
      "needs_background": "light"
     },
     "output_type": "display_data"
    }
   ],
   "source": [
    "year_pivot.plot(y='mean_area')"
   ]
  },
  {
   "cell_type": "markdown",
   "metadata": {},
   "source": [
    "По сводной таблице видно что пик размещения объявлений был в 2018 году, количество объявлений увеличилось практически в 400 раз с 2014 года. При этом видно, что средняя площадь продаваемых квартир снизилась почти в два раза. Этим можно объяснить то, что конечная стоимость квартир снижалась до 2018 года. Если бы мы рассматривали аналогичное количество объявлений и площади квартир результат был бы совсем другим."
   ]
  },
  {
   "cell_type": "markdown",
   "metadata": {},
   "source": [
    "**Найдем среднюю цену одного квадратного метра в 10 населённых пунктах с наибольшим числом объявлений. Выделим населённые пункты с самой высокой и низкой стоимостью квадратного метра.**"
   ]
  },
  {
   "cell_type": "code",
   "execution_count": 89,
   "metadata": {
    "scrolled": true
   },
   "outputs": [
    {
     "name": "stdout",
     "output_type": "stream",
     "text": [
      "                 count           mean\n",
      "locality_name                        \n",
      "санкт-петербург  14753  112805.594780\n",
      "мурино             476   84407.298975\n",
      "кудрово            413   94301.172920\n",
      "шушары             394   76944.355213\n",
      "всеволожск         362   68554.764343\n",
      "пушкин             344  102809.978797\n",
      "колпино            327   75054.243801\n",
      "гатчина            302   69084.927814\n",
      "парголово          256   86987.809126\n",
      "выборг             225   58574.987005\n"
     ]
    }
   ],
   "source": [
    "locality_name_pivot_table = data.pivot_table(index='locality_name', values='metеr_price', aggfunc=['count', 'mean'])\n",
    "locality_name_pivot_table.columns = ['count','mean']\n",
    "locality_name_pivot_table = locality_name_pivot_table.sort_values('count', ascending=False).head(10)\n",
    "print(locality_name_pivot_table)"
   ]
  },
  {
   "cell_type": "markdown",
   "metadata": {},
   "source": [
    "Для наглядности построим график:"
   ]
  },
  {
   "cell_type": "code",
   "execution_count": 90,
   "metadata": {},
   "outputs": [
    {
     "data": {
      "text/plain": [
       "<AxesSubplot:ylabel='locality_name'>"
      ]
     },
     "execution_count": 90,
     "metadata": {},
     "output_type": "execute_result"
    },
    {
     "data": {
      "image/png": "[encoded data removed]",
      "text/plain": [
       "<Figure size 1368x432 with 1 Axes>"
      ]
     },
     "metadata": {
      "needs_background": "light"
     },
     "output_type": "display_data"
    }
   ],
   "source": [
    "locality_name_pivot_table.sort_values('mean', ascending=False)\\\n",
    ".plot(kind = 'barh', y='mean', figsize = (19,6), fontsize = 16)"
   ]
  },
  {
   "cell_type": "code",
   "execution_count": 91,
   "metadata": {
    "scrolled": true
   },
   "outputs": [
    {
     "name": "stdout",
     "output_type": "stream",
     "text": [
      "Самая высокая цена за кв.м:                  count          mean\n",
      "locality_name                       \n",
      "санкт-петербург  14753  112805.59478\n",
      "\n",
      "Самая низкая цена за кв.м:                count          mean\n",
      "locality_name                     \n",
      "выборг           225  58574.987005\n"
     ]
    }
   ],
   "source": [
    "locality_name_pivot_table_max = locality_name_pivot_table[locality_name_pivot_table['mean'] == locality_name_pivot_table['mean'].max()]\n",
    "print('Самая высокая цена за кв.м:', locality_name_pivot_table_max)\n",
    "print()\n",
    "locality_name_pivot_table_min = locality_name_pivot_table[locality_name_pivot_table['mean'] == locality_name_pivot_table['mean'].min()]\n",
    "print('Самая низкая цена за кв.м:', locality_name_pivot_table_min)\n"
   ]
  },
  {
   "cell_type": "markdown",
   "metadata": {},
   "source": [
    "Самая высокая цена за квадратный метр в Санкт-Петербурге, она составляет почти 113 тыс.рублей. Самая низкая цена из 10 населенных пунктов, в которых большее количество объявлений, в Всеволжске - почти 70 тыс.рублей за квадратный метр."
   ]
  },
  {
   "cell_type": "markdown",
   "metadata": {},
   "source": [
    "**Вычисление средней цены каждого километра от центра.\\\n",
    "Зависимость стоимости объектов от расстояния до центра города.**"
   ]
  },
  {
   "cell_type": "code",
   "execution_count": 92,
   "metadata": {
    "scrolled": false
   },
   "outputs": [
    {
     "data": {
      "text/html": [
       "<div>\n",
       "<style scoped>\n",
       "    .dataframe tbody tr th:only-of-type {\n",
       "        vertical-align: middle;\n",
       "    }\n",
       "\n",
       "    .dataframe tbody tr th {\n",
       "        vertical-align: top;\n",
       "    }\n",
       "\n",
       "    .dataframe thead th {\n",
       "        text-align: right;\n",
       "    }\n",
       "</style>\n",
       "<table border=\"1\" class=\"dataframe\">\n",
       "  <thead>\n",
       "    <tr style=\"text-align: right;\">\n",
       "      <th></th>\n",
       "      <th>last_price</th>\n",
       "    </tr>\n",
       "    <tr>\n",
       "      <th>centre_km</th>\n",
       "      <th></th>\n",
       "    </tr>\n",
       "  </thead>\n",
       "  <tbody>\n",
       "    <tr>\n",
       "      <th>0.0</th>\n",
       "      <td>2.239515e+07</td>\n",
       "    </tr>\n",
       "    <tr>\n",
       "      <th>1.0</th>\n",
       "      <td>1.609230e+07</td>\n",
       "    </tr>\n",
       "    <tr>\n",
       "      <th>2.0</th>\n",
       "      <td>1.546425e+07</td>\n",
       "    </tr>\n",
       "    <tr>\n",
       "      <th>3.0</th>\n",
       "      <td>1.043763e+07</td>\n",
       "    </tr>\n",
       "    <tr>\n",
       "      <th>4.0</th>\n",
       "      <td>1.135324e+07</td>\n",
       "    </tr>\n",
       "    <tr>\n",
       "      <th>5.0</th>\n",
       "      <td>1.196314e+07</td>\n",
       "    </tr>\n",
       "    <tr>\n",
       "      <th>6.0</th>\n",
       "      <td>1.240767e+07</td>\n",
       "    </tr>\n",
       "    <tr>\n",
       "      <th>7.0</th>\n",
       "      <td>1.362297e+07</td>\n",
       "    </tr>\n",
       "    <tr>\n",
       "      <th>8.0</th>\n",
       "      <td>9.043280e+06</td>\n",
       "    </tr>\n",
       "    <tr>\n",
       "      <th>9.0</th>\n",
       "      <td>7.025534e+06</td>\n",
       "    </tr>\n",
       "    <tr>\n",
       "      <th>10.0</th>\n",
       "      <td>6.489059e+06</td>\n",
       "    </tr>\n",
       "    <tr>\n",
       "      <th>11.0</th>\n",
       "      <td>6.193396e+06</td>\n",
       "    </tr>\n",
       "    <tr>\n",
       "      <th>12.0</th>\n",
       "      <td>5.864959e+06</td>\n",
       "    </tr>\n",
       "    <tr>\n",
       "      <th>13.0</th>\n",
       "      <td>6.104413e+06</td>\n",
       "    </tr>\n",
       "    <tr>\n",
       "      <th>14.0</th>\n",
       "      <td>5.651911e+06</td>\n",
       "    </tr>\n",
       "    <tr>\n",
       "      <th>15.0</th>\n",
       "      <td>5.845930e+06</td>\n",
       "    </tr>\n",
       "    <tr>\n",
       "      <th>16.0</th>\n",
       "      <td>5.444490e+06</td>\n",
       "    </tr>\n",
       "    <tr>\n",
       "      <th>17.0</th>\n",
       "      <td>5.278028e+06</td>\n",
       "    </tr>\n",
       "    <tr>\n",
       "      <th>18.0</th>\n",
       "      <td>4.979586e+06</td>\n",
       "    </tr>\n",
       "    <tr>\n",
       "      <th>19.0</th>\n",
       "      <td>5.149276e+06</td>\n",
       "    </tr>\n",
       "  </tbody>\n",
       "</table>\n",
       "</div>"
      ],
      "text/plain": [
       "             last_price\n",
       "centre_km              \n",
       "0.0        2.239515e+07\n",
       "1.0        1.609230e+07\n",
       "2.0        1.546425e+07\n",
       "3.0        1.043763e+07\n",
       "4.0        1.135324e+07\n",
       "5.0        1.196314e+07\n",
       "6.0        1.240767e+07\n",
       "7.0        1.362297e+07\n",
       "8.0        9.043280e+06\n",
       "9.0        7.025534e+06\n",
       "10.0       6.489059e+06\n",
       "11.0       6.193396e+06\n",
       "12.0       5.864959e+06\n",
       "13.0       6.104413e+06\n",
       "14.0       5.651911e+06\n",
       "15.0       5.845930e+06\n",
       "16.0       5.444490e+06\n",
       "17.0       5.278028e+06\n",
       "18.0       4.979586e+06\n",
       "19.0       5.149276e+06"
      ]
     },
     "execution_count": 92,
     "metadata": {},
     "output_type": "execute_result"
    }
   ],
   "source": [
    "centre_km_pivot =(\n",
    "    data.query('locality_name == \"санкт-петербург\"')\n",
    "    .pivot_table(index='centre_km', values='last_price', aggfunc='mean')\n",
    ")\n",
    "centre_km_pivot.head(20)"
   ]
  },
  {
   "cell_type": "markdown",
   "metadata": {},
   "source": [
    "Пока тяжело однозначно сказать, как влияет удаленность от центра города на цену квартиры. Построим график, чтобы нагляднее посмотреть на зависимость:"
   ]
  },
  {
   "cell_type": "code",
   "execution_count": 93,
   "metadata": {
    "scrolled": true
   },
   "outputs": [
    {
     "data": {
      "text/plain": [
       "<AxesSubplot:xlabel='centre_km'>"
      ]
     },
     "execution_count": 93,
     "metadata": {},
     "output_type": "execute_result"
    },
    {
     "data": {
      "image/png": "[encoded data removed]",
      "text/plain": [
       "<Figure size 432x288 with 1 Axes>"
      ]
     },
     "metadata": {
      "needs_background": "light"
     },
     "output_type": "display_data"
    }
   ],
   "source": [
    "centre_km_pivot.plot()"
   ]
  },
  {
   "cell_type": "markdown",
   "metadata": {},
   "source": [
    "В целом, можно сказать, что чем ближе квартира находится к центру, тем выше средняя цена каждого километра. Тем не менее, есть необъяснимые скачки в радиусе 6 км и 27 км. Это можно объяснить, что мы учитываем только фактор удаленности от центра. Возможно, в этом радиусе продаются большие и дорогие квартиры, цена которых сместила среднее значение. Рассмотрим такие случаи подробнее."
   ]
  },
  {
   "cell_type": "code",
   "execution_count": 94,
   "metadata": {},
   "outputs": [
    {
     "data": {
      "text/html": [
       "<div>\n",
       "<style scoped>\n",
       "    .dataframe tbody tr th:only-of-type {\n",
       "        vertical-align: middle;\n",
       "    }\n",
       "\n",
       "    .dataframe tbody tr th {\n",
       "        vertical-align: top;\n",
       "    }\n",
       "\n",
       "    .dataframe thead th {\n",
       "        text-align: right;\n",
       "    }\n",
       "</style>\n",
       "<table border=\"1\" class=\"dataframe\">\n",
       "  <thead>\n",
       "    <tr style=\"text-align: right;\">\n",
       "      <th></th>\n",
       "      <th>count</th>\n",
       "      <th>count_area</th>\n",
       "      <th>mean_price</th>\n",
       "      <th>mean_area</th>\n",
       "      <th>max_price</th>\n",
       "      <th>max_area</th>\n",
       "    </tr>\n",
       "    <tr>\n",
       "      <th>centre_km</th>\n",
       "      <th></th>\n",
       "      <th></th>\n",
       "      <th></th>\n",
       "      <th></th>\n",
       "      <th></th>\n",
       "      <th></th>\n",
       "    </tr>\n",
       "  </thead>\n",
       "  <tbody>\n",
       "    <tr>\n",
       "      <th>21.0</th>\n",
       "      <td>113</td>\n",
       "      <td>113</td>\n",
       "      <td>5.555471e+06</td>\n",
       "      <td>59.241770</td>\n",
       "      <td>11620701.0</td>\n",
       "      <td>122.3</td>\n",
       "    </tr>\n",
       "    <tr>\n",
       "      <th>22.0</th>\n",
       "      <td>198</td>\n",
       "      <td>198</td>\n",
       "      <td>5.453138e+06</td>\n",
       "      <td>60.817626</td>\n",
       "      <td>16471698.0</td>\n",
       "      <td>187.3</td>\n",
       "    </tr>\n",
       "    <tr>\n",
       "      <th>23.0</th>\n",
       "      <td>82</td>\n",
       "      <td>82</td>\n",
       "      <td>5.037402e+06</td>\n",
       "      <td>57.419634</td>\n",
       "      <td>18250000.0</td>\n",
       "      <td>210.4</td>\n",
       "    </tr>\n",
       "    <tr>\n",
       "      <th>24.0</th>\n",
       "      <td>20</td>\n",
       "      <td>20</td>\n",
       "      <td>4.033258e+06</td>\n",
       "      <td>48.345500</td>\n",
       "      <td>5970000.0</td>\n",
       "      <td>82.0</td>\n",
       "    </tr>\n",
       "    <tr>\n",
       "      <th>25.0</th>\n",
       "      <td>23</td>\n",
       "      <td>23</td>\n",
       "      <td>4.121957e+06</td>\n",
       "      <td>48.091304</td>\n",
       "      <td>6200000.0</td>\n",
       "      <td>87.0</td>\n",
       "    </tr>\n",
       "    <tr>\n",
       "      <th>26.0</th>\n",
       "      <td>26</td>\n",
       "      <td>26</td>\n",
       "      <td>4.499950e+06</td>\n",
       "      <td>54.080769</td>\n",
       "      <td>7900000.0</td>\n",
       "      <td>100.0</td>\n",
       "    </tr>\n",
       "    <tr>\n",
       "      <th>27.0</th>\n",
       "      <td>2</td>\n",
       "      <td>2</td>\n",
       "      <td>8.300000e+06</td>\n",
       "      <td>53.000000</td>\n",
       "      <td>14350000.0</td>\n",
       "      <td>74.0</td>\n",
       "    </tr>\n",
       "    <tr>\n",
       "      <th>28.0</th>\n",
       "      <td>7</td>\n",
       "      <td>7</td>\n",
       "      <td>5.026429e+06</td>\n",
       "      <td>65.428571</td>\n",
       "      <td>7600000.0</td>\n",
       "      <td>111.0</td>\n",
       "    </tr>\n",
       "  </tbody>\n",
       "</table>\n",
       "</div>"
      ],
      "text/plain": [
       "           count  count_area    mean_price  mean_area   max_price  max_area\n",
       "centre_km                                                                  \n",
       "21.0         113         113  5.555471e+06  59.241770  11620701.0     122.3\n",
       "22.0         198         198  5.453138e+06  60.817626  16471698.0     187.3\n",
       "23.0          82          82  5.037402e+06  57.419634  18250000.0     210.4\n",
       "24.0          20          20  4.033258e+06  48.345500   5970000.0      82.0\n",
       "25.0          23          23  4.121957e+06  48.091304   6200000.0      87.0\n",
       "26.0          26          26  4.499950e+06  54.080769   7900000.0     100.0\n",
       "27.0           2           2  8.300000e+06  53.000000  14350000.0      74.0\n",
       "28.0           7           7  5.026429e+06  65.428571   7600000.0     111.0"
      ]
     },
     "execution_count": 94,
     "metadata": {},
     "output_type": "execute_result"
    }
   ],
   "source": [
    "data_27km = (\n",
    "    data.query('centre_km < 29 and centre_km > 20 and locality_name == \"санкт-петербург\"')\n",
    "    .pivot_table(index='centre_km', values=['last_price', 'total_area'], aggfunc=['count','mean','max'])\n",
    ")\n",
    "data_27km.columns = ['count', 'count_area', 'mean_price', 'mean_area', 'max_price', 'max_area']\n",
    "data_27km"
   ]
  },
  {
   "cell_type": "markdown",
   "metadata": {},
   "source": [
    "Квартир, которые находятся в 27 км от центра города всего 2, что крайне мало среди общего числа рассматриваемых квартир. При этом средняя площадь квартир схожа с остальными. Бросается в глаза максимальная стоимость одной из квартир по заданному параметру, которая составляет 14,35 млн рублей. Вероятнее всего эта цена сместила среднее значение."
   ]
  },
  {
   "cell_type": "markdown",
   "metadata": {},
   "source": [
    "По графику так же заметен пик на 6-7 км и провал на 3 км от центра. Рассмотрим эти значения поподробнее:"
   ]
  },
  {
   "cell_type": "code",
   "execution_count": 95,
   "metadata": {
    "scrolled": false
   },
   "outputs": [
    {
     "data": {
      "text/html": [
       "<div>\n",
       "<style scoped>\n",
       "    .dataframe tbody tr th:only-of-type {\n",
       "        vertical-align: middle;\n",
       "    }\n",
       "\n",
       "    .dataframe tbody tr th {\n",
       "        vertical-align: top;\n",
       "    }\n",
       "\n",
       "    .dataframe thead tr th {\n",
       "        text-align: left;\n",
       "    }\n",
       "\n",
       "    .dataframe thead tr:last-of-type th {\n",
       "        text-align: right;\n",
       "    }\n",
       "</style>\n",
       "<table border=\"1\" class=\"dataframe\">\n",
       "  <thead>\n",
       "    <tr>\n",
       "      <th></th>\n",
       "      <th colspan=\"3\" halign=\"left\">count</th>\n",
       "      <th colspan=\"3\" halign=\"left\">mean</th>\n",
       "      <th colspan=\"3\" halign=\"left\">max</th>\n",
       "    </tr>\n",
       "    <tr>\n",
       "      <th></th>\n",
       "      <th>last_price</th>\n",
       "      <th>rooms</th>\n",
       "      <th>total_area</th>\n",
       "      <th>last_price</th>\n",
       "      <th>rooms</th>\n",
       "      <th>total_area</th>\n",
       "      <th>last_price</th>\n",
       "      <th>rooms</th>\n",
       "      <th>total_area</th>\n",
       "    </tr>\n",
       "    <tr>\n",
       "      <th>centre_km</th>\n",
       "      <th></th>\n",
       "      <th></th>\n",
       "      <th></th>\n",
       "      <th></th>\n",
       "      <th></th>\n",
       "      <th></th>\n",
       "      <th></th>\n",
       "      <th></th>\n",
       "      <th></th>\n",
       "    </tr>\n",
       "  </thead>\n",
       "  <tbody>\n",
       "    <tr>\n",
       "      <th>3.0</th>\n",
       "      <td>323</td>\n",
       "      <td>323</td>\n",
       "      <td>323</td>\n",
       "      <td>1.043763e+07</td>\n",
       "      <td>2.969040</td>\n",
       "      <td>87.596904</td>\n",
       "      <td>82000000.0</td>\n",
       "      <td>7</td>\n",
       "      <td>248.0</td>\n",
       "    </tr>\n",
       "    <tr>\n",
       "      <th>4.0</th>\n",
       "      <td>636</td>\n",
       "      <td>636</td>\n",
       "      <td>636</td>\n",
       "      <td>1.135324e+07</td>\n",
       "      <td>2.921384</td>\n",
       "      <td>88.841667</td>\n",
       "      <td>140000000.0</td>\n",
       "      <td>7</td>\n",
       "      <td>244.0</td>\n",
       "    </tr>\n",
       "    <tr>\n",
       "      <th>5.0</th>\n",
       "      <td>826</td>\n",
       "      <td>826</td>\n",
       "      <td>826</td>\n",
       "      <td>1.196314e+07</td>\n",
       "      <td>2.746973</td>\n",
       "      <td>87.197143</td>\n",
       "      <td>98000000.0</td>\n",
       "      <td>7</td>\n",
       "      <td>239.0</td>\n",
       "    </tr>\n",
       "    <tr>\n",
       "      <th>6.0</th>\n",
       "      <td>558</td>\n",
       "      <td>558</td>\n",
       "      <td>558</td>\n",
       "      <td>1.240767e+07</td>\n",
       "      <td>2.505376</td>\n",
       "      <td>82.078154</td>\n",
       "      <td>90000000.0</td>\n",
       "      <td>7</td>\n",
       "      <td>249.0</td>\n",
       "    </tr>\n",
       "    <tr>\n",
       "      <th>7.0</th>\n",
       "      <td>392</td>\n",
       "      <td>392</td>\n",
       "      <td>392</td>\n",
       "      <td>1.362297e+07</td>\n",
       "      <td>2.438776</td>\n",
       "      <td>78.549566</td>\n",
       "      <td>86738800.0</td>\n",
       "      <td>6</td>\n",
       "      <td>237.8</td>\n",
       "    </tr>\n",
       "  </tbody>\n",
       "</table>\n",
       "</div>"
      ],
      "text/plain": [
       "               count                           mean                       \\\n",
       "          last_price rooms total_area    last_price     rooms total_area   \n",
       "centre_km                                                                  \n",
       "3.0              323   323        323  1.043763e+07  2.969040  87.596904   \n",
       "4.0              636   636        636  1.135324e+07  2.921384  88.841667   \n",
       "5.0              826   826        826  1.196314e+07  2.746973  87.197143   \n",
       "6.0              558   558        558  1.240767e+07  2.505376  82.078154   \n",
       "7.0              392   392        392  1.362297e+07  2.438776  78.549566   \n",
       "\n",
       "                   max                   \n",
       "            last_price rooms total_area  \n",
       "centre_km                                \n",
       "3.0         82000000.0     7      248.0  \n",
       "4.0        140000000.0     7      244.0  \n",
       "5.0         98000000.0     7      239.0  \n",
       "6.0         90000000.0     7      249.0  \n",
       "7.0         86738800.0     6      237.8  "
      ]
     },
     "execution_count": 95,
     "metadata": {},
     "output_type": "execute_result"
    }
   ],
   "source": [
    "data_centre = (\n",
    "    data.query('centre_km < 8 and centre_km > 2 and locality_name == \"санкт-петербург\"')\n",
    "    .pivot_table(index='centre_km', values=['last_price', 'total_area', 'rooms'], aggfunc=['count','mean','max'])\n",
    ")\n",
    "#data_centre.columns = ['count', 'count_area', 'mean_price', 'mean_area', 'max_price', 'max_area']\n",
    "data_centre"
   ]
  },
  {
   "cell_type": "markdown",
   "metadata": {},
   "source": [
    "Здесь так же видно, что максимальные цены квартир сильно влияют на среднее значение для конкретного клилометра от центра. Максимальная цена на 7 км почти в 2 раза больше чем на 3км. Это сильно повлияло на среднее значение, но пока непонятно почему, ведь средняя площадь квартир на 3 км даже больше чем на 7 и расстояние до центра меньше, что должно быть привлекательнее для потенциальных покупателей."
   ]
  },
  {
   "cell_type": "code",
   "execution_count": 96,
   "metadata": {
    "scrolled": true
   },
   "outputs": [
    {
     "name": "stdout",
     "output_type": "stream",
     "text": [
      "                count          mean\n",
      "           last_price    last_price\n",
      "floor_type                         \n",
      "другой            197  1.136279e+07\n",
      "первый             52  7.575383e+06\n",
      "последний          74  9.986002e+06\n",
      "\n",
      "                count          mean\n",
      "           last_price    last_price\n",
      "floor_type                         \n",
      "другой            304  1.438979e+07\n",
      "первый             30  9.461857e+06\n",
      "последний          58  1.175608e+07\n"
     ]
    }
   ],
   "source": [
    "centre_3km = (\n",
    "    data.query('centre_km == 3 and locality_name == \"санкт-петербург\"')\n",
    "    .pivot_table(index='floor_type', values=['last_price'], aggfunc=['count','mean'])\n",
    ")\n",
    "centre_7km = (\n",
    "    data.query('centre_km == 7 and locality_name == \"санкт-петербург\"')\n",
    "    .pivot_table(index='floor_type', values=['last_price'], aggfunc=['count','mean'])\n",
    ")\n",
    "print(centre_3km)\n",
    "print()\n",
    "print(centre_7km)"
   ]
  },
  {
   "cell_type": "markdown",
   "metadata": {},
   "source": [
    "В обоих случаях больше квартир на \"другом\" этаже, но средняя цена на них больше у квартир, находящихся в 7км от центра. Стоит отметить, что и остальные средние цены на квартиры на первом и последнем этажах так же больше на 7 км от центра. Квартир на \"другом\" этаже при этом 77% от общего числа, что больше чем у сравниваемой категории. Отсюда и разница в средних ценах за каждый километр от центра."
   ]
  },
  {
   "cell_type": "markdown",
   "metadata": {},
   "source": [
    "### Общий вывод"
   ]
  },
  {
   "cell_type": "markdown",
   "metadata": {},
   "source": [
    "    В ходе проекта были изучены данные сервиса Яндекс Недвижимость. Была проведена предобработка данных, в которой:\n",
    "-пропуски в столбце is_apartment были заменены на True\\\n",
    "-пропуски в столбце balcony были заменены на 0\\\n",
    "-пропуски в столбце с высотой квартиры были заменены медианным значением\\\n",
    "-кол-во парков и водоемов в радиусе 3км было так же заменено на 0\\\n",
    "-были изменены типы данных столбцов даты размещения объявлений и количества балконов\\\n",
    "-были удалены неявные дубликаты в названии населенных пунктов, а также аномальные значения по столбцам rooms, ceiling_height, living_area, total_area, kitchen_area, last_price, days_exposition, floors_total.\n",
    "\n",
    "    В таблицу были добавлены новые столбцы: цена за кв.м, день недели, месяц и год размещения объявления, тип этажа и расстояние до центра в километрах.\n",
    "    \n",
    "    Был проведен исследовательский анализ данных на выявление зависимости различных факторов на конечную цену квартиры. Было выявлено, за сколько дней в среднем продается квартира. Результат-96 дней. Быстрыми продажами считаются те, срок размещения объявлений которых меньше этого числа, долгими- те, срок размещения которых больше 96 дней.\n",
    "    \n",
    "    Была изучена зависимость цены от общей площади, жилой площади, площади кухни, количества комнат, типа этажа квартиры и даты размещения объявления. Практически во всех случаев, за исключением типа этажа и даты размещения объявления, корреляция положительна, то есть цена растет пропорционально увеличению площади или количества комнат.\n",
    "    \n",
    "    Была найдена средняя цена одного квадратного метра в 10 населенных пунктах с наибольшим числом объявлений. Самая высокая цена за кв.м в Санкт-Петербурге, а самая низкая - в Всеволжске.\n",
    "    \n",
    "    Была так же вычислена средння цена каждого километра от центра Санкт-Петербурга. Оказалось, что средняя цена каждого километра все меньше при удалении от центра.\n",
    "    \n",
    "    Таким образом, можно сказать, что на цену квартиры влияет совокупность факторов, таких как, количество комнат, площадь квартиры, этаж, удаленность от центра и другие. "
   ]
  }
 ],
 "metadata": {
  "ExecuteTimeLog": [
   {
    "duration": 1262,
    "start_time": "2023-07-17T12:34:08.156Z"
   },
   {
    "duration": 122,
    "start_time": "2023-07-17T12:34:55.310Z"
   },
   {
    "duration": 97,
    "start_time": "2023-07-17T12:40:53.848Z"
   },
   {
    "duration": 13,
    "start_time": "2023-07-17T12:46:31.209Z"
   },
   {
    "duration": 550,
    "start_time": "2023-07-17T12:47:01.121Z"
   },
   {
    "duration": 321,
    "start_time": "2023-07-17T12:47:01.673Z"
   },
   {
    "duration": 18,
    "start_time": "2023-07-17T12:48:13.701Z"
   },
   {
    "duration": 138,
    "start_time": "2023-07-17T12:49:33.493Z"
   },
   {
    "duration": 35,
    "start_time": "2023-07-17T12:49:42.064Z"
   },
   {
    "duration": 2489,
    "start_time": "2023-07-17T12:50:09.698Z"
   },
   {
    "duration": 55,
    "start_time": "2023-07-17T13:00:22.543Z"
   },
   {
    "duration": 13,
    "start_time": "2023-07-17T13:01:17.544Z"
   },
   {
    "duration": 74,
    "start_time": "2023-07-17T13:15:02.717Z"
   },
   {
    "duration": 8,
    "start_time": "2023-07-17T13:15:45.616Z"
   },
   {
    "duration": 6,
    "start_time": "2023-07-17T13:23:54.248Z"
   },
   {
    "duration": 11,
    "start_time": "2023-07-17T13:28:38.252Z"
   },
   {
    "duration": 575,
    "start_time": "2023-07-17T13:28:55.220Z"
   },
   {
    "duration": 2674,
    "start_time": "2023-07-17T13:28:55.797Z"
   },
   {
    "duration": 11,
    "start_time": "2023-07-17T13:28:58.473Z"
   },
   {
    "duration": 17,
    "start_time": "2023-07-17T13:28:58.486Z"
   },
   {
    "duration": 21,
    "start_time": "2023-07-17T13:28:58.508Z"
   },
   {
    "duration": 11,
    "start_time": "2023-07-17T13:28:58.531Z"
   },
   {
    "duration": 16,
    "start_time": "2023-07-17T13:31:23.317Z"
   },
   {
    "duration": 9,
    "start_time": "2023-07-17T13:31:30.775Z"
   },
   {
    "duration": 6,
    "start_time": "2023-07-17T13:31:35.042Z"
   },
   {
    "duration": 10,
    "start_time": "2023-07-17T13:31:39.043Z"
   },
   {
    "duration": 38,
    "start_time": "2023-07-17T13:32:06.183Z"
   },
   {
    "duration": 9,
    "start_time": "2023-07-17T13:32:29.081Z"
   },
   {
    "duration": 8,
    "start_time": "2023-07-17T13:32:33.476Z"
   },
   {
    "duration": 5,
    "start_time": "2023-07-17T13:32:42.944Z"
   },
   {
    "duration": 48,
    "start_time": "2023-07-17T13:32:45.416Z"
   },
   {
    "duration": 10,
    "start_time": "2023-07-17T13:33:04.344Z"
   },
   {
    "duration": 801,
    "start_time": "2023-07-17T14:50:48.231Z"
   },
   {
    "duration": 708,
    "start_time": "2023-07-17T14:51:36.356Z"
   },
   {
    "duration": 643,
    "start_time": "2023-07-17T14:52:03.532Z"
   },
   {
    "duration": 2914,
    "start_time": "2023-07-17T14:52:04.177Z"
   },
   {
    "duration": 11,
    "start_time": "2023-07-17T14:52:07.094Z"
   },
   {
    "duration": 82,
    "start_time": "2023-07-17T14:52:07.107Z"
   },
   {
    "duration": 171,
    "start_time": "2023-07-17T14:52:07.191Z"
   },
   {
    "duration": 783,
    "start_time": "2023-07-17T14:52:07.364Z"
   },
   {
    "duration": 8,
    "start_time": "2023-07-17T14:52:41.893Z"
   },
   {
    "duration": 11,
    "start_time": "2023-07-17T14:52:58.468Z"
   },
   {
    "duration": 6,
    "start_time": "2023-07-17T14:59:31.248Z"
   },
   {
    "duration": 11,
    "start_time": "2023-07-17T14:59:36.087Z"
   },
   {
    "duration": 10,
    "start_time": "2023-07-17T15:00:39.204Z"
   },
   {
    "duration": 9,
    "start_time": "2023-07-17T15:11:49.676Z"
   },
   {
    "duration": 12,
    "start_time": "2023-07-17T15:11:58.104Z"
   },
   {
    "duration": 5,
    "start_time": "2023-07-17T15:12:04.475Z"
   },
   {
    "duration": 16,
    "start_time": "2023-07-17T15:12:16.425Z"
   },
   {
    "duration": 41,
    "start_time": "2023-07-17T15:19:17.960Z"
   },
   {
    "duration": 9,
    "start_time": "2023-07-17T15:22:29.690Z"
   },
   {
    "duration": 44,
    "start_time": "2023-07-17T15:22:39.259Z"
   },
   {
    "duration": 12,
    "start_time": "2023-07-17T15:23:11.590Z"
   },
   {
    "duration": 13,
    "start_time": "2023-07-17T15:24:05.145Z"
   },
   {
    "duration": 21,
    "start_time": "2023-07-17T15:25:46.353Z"
   },
   {
    "duration": 15,
    "start_time": "2023-07-17T15:25:59.377Z"
   },
   {
    "duration": 13,
    "start_time": "2023-07-17T15:27:28.249Z"
   },
   {
    "duration": 6,
    "start_time": "2023-07-17T15:28:23.865Z"
   },
   {
    "duration": 4,
    "start_time": "2023-07-17T15:28:35.310Z"
   },
   {
    "duration": 54,
    "start_time": "2023-07-17T15:28:45.849Z"
   },
   {
    "duration": 4,
    "start_time": "2023-07-17T15:29:00.950Z"
   },
   {
    "duration": 10,
    "start_time": "2023-07-17T15:30:23.805Z"
   },
   {
    "duration": 17,
    "start_time": "2023-07-17T15:31:17.569Z"
   },
   {
    "duration": 16,
    "start_time": "2023-07-17T15:32:25.561Z"
   },
   {
    "duration": 4,
    "start_time": "2023-07-17T15:32:48.769Z"
   },
   {
    "duration": 11,
    "start_time": "2023-07-17T15:42:13.781Z"
   },
   {
    "duration": 47,
    "start_time": "2023-07-18T11:13:05.619Z"
   },
   {
    "duration": 593,
    "start_time": "2023-07-18T11:13:13.583Z"
   },
   {
    "duration": 2198,
    "start_time": "2023-07-18T11:13:14.178Z"
   },
   {
    "duration": 9,
    "start_time": "2023-07-18T11:13:16.377Z"
   },
   {
    "duration": 5,
    "start_time": "2023-07-18T11:13:16.388Z"
   },
   {
    "duration": 8,
    "start_time": "2023-07-18T11:13:16.395Z"
   },
   {
    "duration": 10,
    "start_time": "2023-07-18T11:13:16.404Z"
   },
   {
    "duration": 10,
    "start_time": "2023-07-18T11:13:16.416Z"
   },
   {
    "duration": 9,
    "start_time": "2023-07-18T11:13:16.428Z"
   },
   {
    "duration": 29,
    "start_time": "2023-07-18T11:13:16.439Z"
   },
   {
    "duration": 7,
    "start_time": "2023-07-18T11:13:16.471Z"
   },
   {
    "duration": 19,
    "start_time": "2023-07-18T11:13:16.480Z"
   },
   {
    "duration": 7,
    "start_time": "2023-07-18T11:13:16.500Z"
   },
   {
    "duration": 12,
    "start_time": "2023-07-18T11:13:16.509Z"
   },
   {
    "duration": 6,
    "start_time": "2023-07-18T11:13:16.523Z"
   },
   {
    "duration": 83,
    "start_time": "2023-07-18T11:13:16.530Z"
   },
   {
    "duration": 8,
    "start_time": "2023-07-18T11:13:59.359Z"
   },
   {
    "duration": 50,
    "start_time": "2023-07-18T11:14:41.259Z"
   },
   {
    "duration": 9,
    "start_time": "2023-07-18T11:15:15.414Z"
   },
   {
    "duration": 47,
    "start_time": "2023-07-18T11:15:53.063Z"
   },
   {
    "duration": 20,
    "start_time": "2023-07-18T11:16:52.376Z"
   },
   {
    "duration": 40,
    "start_time": "2023-07-18T11:18:37.008Z"
   },
   {
    "duration": 7,
    "start_time": "2023-07-18T11:20:34.818Z"
   },
   {
    "duration": 8,
    "start_time": "2023-07-18T11:20:52.919Z"
   },
   {
    "duration": 11,
    "start_time": "2023-07-18T11:23:07.054Z"
   },
   {
    "duration": 6,
    "start_time": "2023-07-18T11:23:09.222Z"
   },
   {
    "duration": 8,
    "start_time": "2023-07-18T11:26:43.180Z"
   },
   {
    "duration": 8,
    "start_time": "2023-07-18T11:26:45.968Z"
   },
   {
    "duration": 8,
    "start_time": "2023-07-18T11:28:08.313Z"
   },
   {
    "duration": 7,
    "start_time": "2023-07-18T11:28:09.788Z"
   },
   {
    "duration": 8,
    "start_time": "2023-07-18T11:28:58.287Z"
   },
   {
    "duration": 7,
    "start_time": "2023-07-18T11:31:01.512Z"
   },
   {
    "duration": 44,
    "start_time": "2023-07-18T11:32:32.557Z"
   },
   {
    "duration": 9,
    "start_time": "2023-07-18T11:35:55.122Z"
   },
   {
    "duration": 10,
    "start_time": "2023-07-18T11:36:13.464Z"
   },
   {
    "duration": 38,
    "start_time": "2023-07-18T11:37:15.292Z"
   },
   {
    "duration": 40,
    "start_time": "2023-07-18T11:39:16.769Z"
   },
   {
    "duration": 12,
    "start_time": "2023-07-18T11:40:09.572Z"
   },
   {
    "duration": 10,
    "start_time": "2023-07-18T11:40:50.669Z"
   },
   {
    "duration": 117,
    "start_time": "2023-07-18T11:42:07.704Z"
   },
   {
    "duration": 128,
    "start_time": "2023-07-18T11:42:20.605Z"
   },
   {
    "duration": 9,
    "start_time": "2023-07-18T11:42:48.763Z"
   },
   {
    "duration": 10,
    "start_time": "2023-07-18T11:43:32.246Z"
   },
   {
    "duration": 127,
    "start_time": "2023-07-18T11:46:11.285Z"
   },
   {
    "duration": 50,
    "start_time": "2023-07-18T11:46:21.792Z"
   },
   {
    "duration": 49,
    "start_time": "2023-07-18T11:47:08.048Z"
   },
   {
    "duration": 33,
    "start_time": "2023-07-18T11:50:55.975Z"
   },
   {
    "duration": 6,
    "start_time": "2023-07-18T11:51:35.051Z"
   },
   {
    "duration": 34,
    "start_time": "2023-07-18T11:55:32.608Z"
   },
   {
    "duration": 41,
    "start_time": "2023-07-18T11:55:52.556Z"
   },
   {
    "duration": 39,
    "start_time": "2023-07-18T11:56:11.110Z"
   },
   {
    "duration": 34,
    "start_time": "2023-07-18T12:09:36.528Z"
   },
   {
    "duration": 37,
    "start_time": "2023-07-18T12:13:53.106Z"
   },
   {
    "duration": 79,
    "start_time": "2023-07-18T12:14:55.157Z"
   },
   {
    "duration": 18,
    "start_time": "2023-07-18T12:15:03.882Z"
   },
   {
    "duration": 8,
    "start_time": "2023-07-18T12:16:13.824Z"
   },
   {
    "duration": 9,
    "start_time": "2023-07-18T12:16:39.360Z"
   },
   {
    "duration": 8,
    "start_time": "2023-07-18T12:18:05.280Z"
   },
   {
    "duration": 19,
    "start_time": "2023-07-18T12:19:08.875Z"
   },
   {
    "duration": 9,
    "start_time": "2023-07-18T12:20:48.886Z"
   },
   {
    "duration": 10,
    "start_time": "2023-07-18T12:21:24.583Z"
   },
   {
    "duration": 9,
    "start_time": "2023-07-18T12:21:32.428Z"
   },
   {
    "duration": 29,
    "start_time": "2023-07-18T12:34:03.327Z"
   },
   {
    "duration": 77,
    "start_time": "2023-07-18T15:29:54.255Z"
   },
   {
    "duration": 10,
    "start_time": "2023-07-18T15:29:57.097Z"
   },
   {
    "duration": 69,
    "start_time": "2023-07-18T15:31:10.500Z"
   },
   {
    "duration": 7,
    "start_time": "2023-07-18T15:31:12.182Z"
   },
   {
    "duration": 69,
    "start_time": "2023-07-18T15:31:37.953Z"
   },
   {
    "duration": 6,
    "start_time": "2023-07-18T15:31:38.836Z"
   },
   {
    "duration": 67,
    "start_time": "2023-07-18T15:32:25.752Z"
   },
   {
    "duration": 7,
    "start_time": "2023-07-18T15:32:26.400Z"
   },
   {
    "duration": 61,
    "start_time": "2023-07-18T15:32:47.902Z"
   },
   {
    "duration": 10,
    "start_time": "2023-07-18T15:32:55.134Z"
   },
   {
    "duration": 66,
    "start_time": "2023-07-18T15:34:10.282Z"
   },
   {
    "duration": 499,
    "start_time": "2023-07-18T15:34:17.387Z"
   },
   {
    "duration": 2032,
    "start_time": "2023-07-18T15:34:17.888Z"
   },
   {
    "duration": 9,
    "start_time": "2023-07-18T15:34:19.922Z"
   },
   {
    "duration": 5,
    "start_time": "2023-07-18T15:34:19.933Z"
   },
   {
    "duration": 36,
    "start_time": "2023-07-18T15:34:19.940Z"
   },
   {
    "duration": 26,
    "start_time": "2023-07-18T15:34:19.978Z"
   },
   {
    "duration": 29,
    "start_time": "2023-07-18T15:34:20.006Z"
   },
   {
    "duration": 37,
    "start_time": "2023-07-18T15:34:20.036Z"
   },
   {
    "duration": 20,
    "start_time": "2023-07-18T15:34:20.075Z"
   },
   {
    "duration": 24,
    "start_time": "2023-07-18T15:34:20.098Z"
   },
   {
    "duration": 19,
    "start_time": "2023-07-18T15:34:20.123Z"
   },
   {
    "duration": 20,
    "start_time": "2023-07-18T15:34:20.144Z"
   },
   {
    "duration": 14,
    "start_time": "2023-07-18T15:34:20.165Z"
   },
   {
    "duration": 321,
    "start_time": "2023-07-18T15:34:20.181Z"
   },
   {
    "duration": 26,
    "start_time": "2023-07-18T15:34:20.504Z"
   },
   {
    "duration": 87,
    "start_time": "2023-07-18T15:34:20.532Z"
   },
   {
    "duration": 0,
    "start_time": "2023-07-18T15:34:20.621Z"
   },
   {
    "duration": 8,
    "start_time": "2023-07-18T15:35:09.786Z"
   },
   {
    "duration": 54,
    "start_time": "2023-07-18T15:38:12.768Z"
   },
   {
    "duration": 49,
    "start_time": "2023-07-18T15:38:22.604Z"
   },
   {
    "duration": 8,
    "start_time": "2023-07-18T15:38:28.147Z"
   },
   {
    "duration": 6,
    "start_time": "2023-07-18T15:38:40.191Z"
   },
   {
    "duration": 6,
    "start_time": "2023-07-18T15:38:54.422Z"
   },
   {
    "duration": 54,
    "start_time": "2023-07-18T15:40:08.781Z"
   },
   {
    "duration": 7,
    "start_time": "2023-07-18T15:40:13.160Z"
   },
   {
    "duration": 49,
    "start_time": "2023-07-18T15:40:21.627Z"
   },
   {
    "duration": 7,
    "start_time": "2023-07-18T15:40:25.404Z"
   },
   {
    "duration": 71,
    "start_time": "2023-07-18T15:41:33.954Z"
   },
   {
    "duration": 7,
    "start_time": "2023-07-18T15:41:35.166Z"
   },
   {
    "duration": 49,
    "start_time": "2023-07-18T15:42:51.452Z"
   },
   {
    "duration": 8,
    "start_time": "2023-07-18T15:42:53.475Z"
   },
   {
    "duration": 514,
    "start_time": "2023-07-18T15:42:59.555Z"
   },
   {
    "duration": 2153,
    "start_time": "2023-07-18T15:43:00.071Z"
   },
   {
    "duration": 9,
    "start_time": "2023-07-18T15:43:02.226Z"
   },
   {
    "duration": 30,
    "start_time": "2023-07-18T15:43:02.237Z"
   },
   {
    "duration": 19,
    "start_time": "2023-07-18T15:43:02.269Z"
   },
   {
    "duration": 44,
    "start_time": "2023-07-18T15:43:02.290Z"
   },
   {
    "duration": 54,
    "start_time": "2023-07-18T15:43:02.336Z"
   },
   {
    "duration": 61,
    "start_time": "2023-07-18T15:43:02.392Z"
   },
   {
    "duration": 34,
    "start_time": "2023-07-18T15:43:02.455Z"
   },
   {
    "duration": 29,
    "start_time": "2023-07-18T15:43:02.491Z"
   },
   {
    "duration": 51,
    "start_time": "2023-07-18T15:43:02.522Z"
   },
   {
    "duration": 44,
    "start_time": "2023-07-18T15:43:02.575Z"
   },
   {
    "duration": 27,
    "start_time": "2023-07-18T15:43:02.620Z"
   },
   {
    "duration": 34,
    "start_time": "2023-07-18T15:43:02.649Z"
   },
   {
    "duration": 16,
    "start_time": "2023-07-18T15:43:02.684Z"
   },
   {
    "duration": 48,
    "start_time": "2023-07-18T15:43:02.702Z"
   },
   {
    "duration": 50,
    "start_time": "2023-07-18T15:43:02.752Z"
   },
   {
    "duration": 7,
    "start_time": "2023-07-18T15:43:02.803Z"
   },
   {
    "duration": 66,
    "start_time": "2023-07-18T15:43:40.863Z"
   },
   {
    "duration": 7,
    "start_time": "2023-07-18T15:44:22.816Z"
   },
   {
    "duration": 521,
    "start_time": "2023-07-18T15:46:55.574Z"
   },
   {
    "duration": 2163,
    "start_time": "2023-07-18T15:46:56.096Z"
   },
   {
    "duration": 10,
    "start_time": "2023-07-18T15:46:58.261Z"
   },
   {
    "duration": 8,
    "start_time": "2023-07-18T15:46:58.273Z"
   },
   {
    "duration": 4,
    "start_time": "2023-07-18T15:46:58.282Z"
   },
   {
    "duration": 8,
    "start_time": "2023-07-18T15:46:58.288Z"
   },
   {
    "duration": 10,
    "start_time": "2023-07-18T15:46:58.298Z"
   },
   {
    "duration": 12,
    "start_time": "2023-07-18T15:46:58.310Z"
   },
   {
    "duration": 12,
    "start_time": "2023-07-18T15:46:58.324Z"
   },
   {
    "duration": 29,
    "start_time": "2023-07-18T15:46:58.339Z"
   },
   {
    "duration": 6,
    "start_time": "2023-07-18T15:46:58.369Z"
   },
   {
    "duration": 10,
    "start_time": "2023-07-18T15:46:58.376Z"
   },
   {
    "duration": 7,
    "start_time": "2023-07-18T15:46:58.387Z"
   },
   {
    "duration": 30,
    "start_time": "2023-07-18T15:46:58.395Z"
   },
   {
    "duration": 13,
    "start_time": "2023-07-18T15:46:58.427Z"
   },
   {
    "duration": 37,
    "start_time": "2023-07-18T15:46:58.441Z"
   },
   {
    "duration": 141,
    "start_time": "2023-07-18T15:46:58.480Z"
   },
   {
    "duration": 7,
    "start_time": "2023-07-18T15:46:58.623Z"
   },
   {
    "duration": 115,
    "start_time": "2023-07-18T15:47:39.454Z"
   },
   {
    "duration": 6,
    "start_time": "2023-07-18T15:47:40.807Z"
   },
   {
    "duration": 6,
    "start_time": "2023-07-18T15:48:02.092Z"
   },
   {
    "duration": 531,
    "start_time": "2023-07-18T15:48:13.952Z"
   },
   {
    "duration": 2082,
    "start_time": "2023-07-18T15:48:14.486Z"
   },
   {
    "duration": 10,
    "start_time": "2023-07-18T15:48:16.569Z"
   },
   {
    "duration": 8,
    "start_time": "2023-07-18T15:48:16.581Z"
   },
   {
    "duration": 9,
    "start_time": "2023-07-18T15:48:16.590Z"
   },
   {
    "duration": 21,
    "start_time": "2023-07-18T15:48:16.601Z"
   },
   {
    "duration": 10,
    "start_time": "2023-07-18T15:48:16.624Z"
   },
   {
    "duration": 11,
    "start_time": "2023-07-18T15:48:16.636Z"
   },
   {
    "duration": 21,
    "start_time": "2023-07-18T15:48:16.648Z"
   },
   {
    "duration": 8,
    "start_time": "2023-07-18T15:48:16.672Z"
   },
   {
    "duration": 8,
    "start_time": "2023-07-18T15:48:16.682Z"
   },
   {
    "duration": 11,
    "start_time": "2023-07-18T15:48:16.691Z"
   },
   {
    "duration": 9,
    "start_time": "2023-07-18T15:48:16.704Z"
   },
   {
    "duration": 17,
    "start_time": "2023-07-18T15:48:16.715Z"
   },
   {
    "duration": 35,
    "start_time": "2023-07-18T15:48:16.734Z"
   },
   {
    "duration": 29,
    "start_time": "2023-07-18T15:48:16.771Z"
   },
   {
    "duration": 129,
    "start_time": "2023-07-18T15:48:21.189Z"
   },
   {
    "duration": 8,
    "start_time": "2023-07-18T15:48:31.658Z"
   },
   {
    "duration": 114,
    "start_time": "2023-07-18T15:50:39.996Z"
   },
   {
    "duration": 7,
    "start_time": "2023-07-18T15:50:41.659Z"
   },
   {
    "duration": 106,
    "start_time": "2023-07-18T15:50:55.251Z"
   },
   {
    "duration": 7,
    "start_time": "2023-07-18T15:50:57.431Z"
   },
   {
    "duration": 463,
    "start_time": "2023-07-18T15:51:10.507Z"
   },
   {
    "duration": 2080,
    "start_time": "2023-07-18T15:51:10.972Z"
   },
   {
    "duration": 10,
    "start_time": "2023-07-18T15:51:13.054Z"
   },
   {
    "duration": 21,
    "start_time": "2023-07-18T15:51:13.066Z"
   },
   {
    "duration": 36,
    "start_time": "2023-07-18T15:51:13.088Z"
   },
   {
    "duration": 23,
    "start_time": "2023-07-18T15:51:13.126Z"
   },
   {
    "duration": 30,
    "start_time": "2023-07-18T15:51:13.151Z"
   },
   {
    "duration": 30,
    "start_time": "2023-07-18T15:51:13.183Z"
   },
   {
    "duration": 41,
    "start_time": "2023-07-18T15:51:13.215Z"
   },
   {
    "duration": 11,
    "start_time": "2023-07-18T15:51:13.259Z"
   },
   {
    "duration": 19,
    "start_time": "2023-07-18T15:51:13.271Z"
   },
   {
    "duration": 36,
    "start_time": "2023-07-18T15:51:13.292Z"
   },
   {
    "duration": 21,
    "start_time": "2023-07-18T15:51:13.329Z"
   },
   {
    "duration": 26,
    "start_time": "2023-07-18T15:51:13.351Z"
   },
   {
    "duration": 18,
    "start_time": "2023-07-18T15:51:13.378Z"
   },
   {
    "duration": 53,
    "start_time": "2023-07-18T15:51:13.397Z"
   },
   {
    "duration": 112,
    "start_time": "2023-07-18T15:51:13.452Z"
   },
   {
    "duration": 8,
    "start_time": "2023-07-18T15:51:13.565Z"
   },
   {
    "duration": 517,
    "start_time": "2023-07-18T15:51:41.573Z"
   },
   {
    "duration": 2256,
    "start_time": "2023-07-18T15:51:42.092Z"
   },
   {
    "duration": 10,
    "start_time": "2023-07-18T15:51:44.350Z"
   },
   {
    "duration": 17,
    "start_time": "2023-07-18T15:51:44.362Z"
   },
   {
    "duration": 21,
    "start_time": "2023-07-18T15:51:44.381Z"
   },
   {
    "duration": 10,
    "start_time": "2023-07-18T15:51:44.404Z"
   },
   {
    "duration": 4,
    "start_time": "2023-07-18T15:51:44.416Z"
   },
   {
    "duration": 15,
    "start_time": "2023-07-18T15:51:44.421Z"
   },
   {
    "duration": 14,
    "start_time": "2023-07-18T15:51:44.438Z"
   },
   {
    "duration": 15,
    "start_time": "2023-07-18T15:51:44.455Z"
   },
   {
    "duration": 15,
    "start_time": "2023-07-18T15:51:44.472Z"
   },
   {
    "duration": 28,
    "start_time": "2023-07-18T15:51:44.489Z"
   },
   {
    "duration": 13,
    "start_time": "2023-07-18T15:51:44.519Z"
   },
   {
    "duration": 33,
    "start_time": "2023-07-18T15:51:44.533Z"
   },
   {
    "duration": 8,
    "start_time": "2023-07-18T15:51:44.568Z"
   },
   {
    "duration": 48,
    "start_time": "2023-07-18T15:51:44.577Z"
   },
   {
    "duration": 10,
    "start_time": "2023-07-18T15:51:44.627Z"
   },
   {
    "duration": 109,
    "start_time": "2023-07-18T15:52:40.823Z"
   },
   {
    "duration": 8,
    "start_time": "2023-07-18T15:52:44.295Z"
   },
   {
    "duration": 507,
    "start_time": "2023-07-18T15:52:57.749Z"
   },
   {
    "duration": 1982,
    "start_time": "2023-07-18T15:52:58.258Z"
   },
   {
    "duration": 9,
    "start_time": "2023-07-18T15:53:00.241Z"
   },
   {
    "duration": 54,
    "start_time": "2023-07-18T15:53:00.252Z"
   },
   {
    "duration": 81,
    "start_time": "2023-07-18T15:53:00.307Z"
   },
   {
    "duration": 50,
    "start_time": "2023-07-18T15:53:00.390Z"
   },
   {
    "duration": 40,
    "start_time": "2023-07-18T15:53:00.441Z"
   },
   {
    "duration": 47,
    "start_time": "2023-07-18T15:53:00.483Z"
   },
   {
    "duration": 39,
    "start_time": "2023-07-18T15:53:00.532Z"
   },
   {
    "duration": 30,
    "start_time": "2023-07-18T15:53:00.574Z"
   },
   {
    "duration": 39,
    "start_time": "2023-07-18T15:53:00.606Z"
   },
   {
    "duration": 38,
    "start_time": "2023-07-18T15:53:00.647Z"
   },
   {
    "duration": 51,
    "start_time": "2023-07-18T15:53:00.687Z"
   },
   {
    "duration": 40,
    "start_time": "2023-07-18T15:53:00.740Z"
   },
   {
    "duration": 29,
    "start_time": "2023-07-18T15:53:00.782Z"
   },
   {
    "duration": 49,
    "start_time": "2023-07-18T15:53:00.814Z"
   },
   {
    "duration": 32,
    "start_time": "2023-07-18T15:53:00.865Z"
   },
   {
    "duration": 149,
    "start_time": "2023-07-18T15:54:03.964Z"
   },
   {
    "duration": 118,
    "start_time": "2023-07-18T15:54:52.186Z"
   },
   {
    "duration": 139,
    "start_time": "2023-07-18T15:55:45.438Z"
   },
   {
    "duration": 162,
    "start_time": "2023-07-18T15:57:14.128Z"
   },
   {
    "duration": 28,
    "start_time": "2023-07-18T15:57:41.428Z"
   },
   {
    "duration": 476,
    "start_time": "2023-07-18T15:57:48.499Z"
   },
   {
    "duration": 2039,
    "start_time": "2023-07-18T15:57:48.977Z"
   },
   {
    "duration": 9,
    "start_time": "2023-07-18T15:57:51.017Z"
   },
   {
    "duration": 15,
    "start_time": "2023-07-18T15:57:51.028Z"
   },
   {
    "duration": 40,
    "start_time": "2023-07-18T15:57:51.045Z"
   },
   {
    "duration": 15,
    "start_time": "2023-07-18T15:57:51.087Z"
   },
   {
    "duration": 4,
    "start_time": "2023-07-18T15:57:51.103Z"
   },
   {
    "duration": 9,
    "start_time": "2023-07-18T15:57:51.108Z"
   },
   {
    "duration": 12,
    "start_time": "2023-07-18T15:57:51.119Z"
   },
   {
    "duration": 8,
    "start_time": "2023-07-18T15:57:51.133Z"
   },
   {
    "duration": 8,
    "start_time": "2023-07-18T15:57:51.142Z"
   },
   {
    "duration": 14,
    "start_time": "2023-07-18T15:57:51.151Z"
   },
   {
    "duration": 6,
    "start_time": "2023-07-18T15:57:51.168Z"
   },
   {
    "duration": 22,
    "start_time": "2023-07-18T15:57:51.175Z"
   },
   {
    "duration": 6,
    "start_time": "2023-07-18T15:57:51.199Z"
   },
   {
    "duration": 36,
    "start_time": "2023-07-18T15:57:51.207Z"
   },
   {
    "duration": 155,
    "start_time": "2023-07-18T15:57:51.245Z"
   },
   {
    "duration": 8,
    "start_time": "2023-07-18T15:57:51.401Z"
   },
   {
    "duration": 11,
    "start_time": "2023-07-18T16:00:29.747Z"
   },
   {
    "duration": 512,
    "start_time": "2023-07-18T16:00:34.589Z"
   },
   {
    "duration": 2289,
    "start_time": "2023-07-18T16:00:35.103Z"
   },
   {
    "duration": 10,
    "start_time": "2023-07-18T16:00:37.393Z"
   },
   {
    "duration": 14,
    "start_time": "2023-07-18T16:00:37.405Z"
   },
   {
    "duration": 5,
    "start_time": "2023-07-18T16:00:37.421Z"
   },
   {
    "duration": 8,
    "start_time": "2023-07-18T16:00:37.428Z"
   },
   {
    "duration": 4,
    "start_time": "2023-07-18T16:00:37.438Z"
   },
   {
    "duration": 11,
    "start_time": "2023-07-18T16:00:37.444Z"
   },
   {
    "duration": 25,
    "start_time": "2023-07-18T16:00:37.456Z"
   },
   {
    "duration": 7,
    "start_time": "2023-07-18T16:00:37.483Z"
   },
   {
    "duration": 15,
    "start_time": "2023-07-18T16:00:37.492Z"
   },
   {
    "duration": 15,
    "start_time": "2023-07-18T16:00:37.508Z"
   },
   {
    "duration": 6,
    "start_time": "2023-07-18T16:00:37.525Z"
   },
   {
    "duration": 36,
    "start_time": "2023-07-18T16:00:37.533Z"
   },
   {
    "duration": 11,
    "start_time": "2023-07-18T16:00:37.571Z"
   },
   {
    "duration": 33,
    "start_time": "2023-07-18T16:00:37.583Z"
   },
   {
    "duration": 169,
    "start_time": "2023-07-18T16:00:37.618Z"
   },
   {
    "duration": 40,
    "start_time": "2023-07-18T16:03:31.466Z"
   },
   {
    "duration": 24,
    "start_time": "2023-07-18T16:06:18.635Z"
   },
   {
    "duration": 8,
    "start_time": "2023-07-18T16:07:14.050Z"
   },
   {
    "duration": 5,
    "start_time": "2023-07-18T16:07:31.972Z"
   },
   {
    "duration": 5,
    "start_time": "2023-07-18T16:08:08.479Z"
   },
   {
    "duration": 8,
    "start_time": "2023-07-18T16:08:29.405Z"
   },
   {
    "duration": 11,
    "start_time": "2023-07-18T16:12:23.100Z"
   },
   {
    "duration": 5,
    "start_time": "2023-07-18T16:12:32.605Z"
   },
   {
    "duration": 25,
    "start_time": "2023-07-18T16:13:29.601Z"
   },
   {
    "duration": 6,
    "start_time": "2023-07-18T16:14:05.918Z"
   },
   {
    "duration": 4,
    "start_time": "2023-07-18T16:14:19.173Z"
   },
   {
    "duration": 4,
    "start_time": "2023-07-18T16:14:28.003Z"
   },
   {
    "duration": 68,
    "start_time": "2023-07-18T16:14:56.585Z"
   },
   {
    "duration": 7,
    "start_time": "2023-07-18T16:15:00.991Z"
   },
   {
    "duration": 5,
    "start_time": "2023-07-18T16:15:32.423Z"
   },
   {
    "duration": 10,
    "start_time": "2023-07-18T16:19:13.557Z"
   },
   {
    "duration": 153,
    "start_time": "2023-07-18T16:19:35.442Z"
   },
   {
    "duration": 13,
    "start_time": "2023-07-18T16:19:59.442Z"
   },
   {
    "duration": 7,
    "start_time": "2023-07-18T16:20:45.861Z"
   },
   {
    "duration": 26,
    "start_time": "2023-07-18T16:21:26.152Z"
   },
   {
    "duration": 72,
    "start_time": "2023-07-18T16:24:15.533Z"
   },
   {
    "duration": 6,
    "start_time": "2023-07-18T16:24:21.274Z"
   },
   {
    "duration": 4,
    "start_time": "2023-07-18T16:24:29.553Z"
   },
   {
    "duration": 5,
    "start_time": "2023-07-18T16:25:38.217Z"
   },
   {
    "duration": 26,
    "start_time": "2023-07-18T16:26:11.975Z"
   },
   {
    "duration": 11,
    "start_time": "2023-07-18T16:27:02.908Z"
   },
   {
    "duration": 6,
    "start_time": "2023-07-18T16:27:21.487Z"
   },
   {
    "duration": 13,
    "start_time": "2023-07-18T16:27:24.982Z"
   },
   {
    "duration": 6,
    "start_time": "2023-07-18T16:28:08.817Z"
   },
   {
    "duration": 5,
    "start_time": "2023-07-18T16:28:40.154Z"
   },
   {
    "duration": 1689,
    "start_time": "2023-07-18T16:29:37.011Z"
   },
   {
    "duration": 6,
    "start_time": "2023-07-18T16:29:53.346Z"
   },
   {
    "duration": 6,
    "start_time": "2023-07-18T16:31:13.638Z"
   },
   {
    "duration": 4,
    "start_time": "2023-07-18T16:31:20.554Z"
   },
   {
    "duration": 5,
    "start_time": "2023-07-18T16:31:33.524Z"
   },
   {
    "duration": 13,
    "start_time": "2023-07-18T16:33:28.713Z"
   },
   {
    "duration": 47,
    "start_time": "2023-07-19T13:23:51.028Z"
   },
   {
    "duration": 618,
    "start_time": "2023-07-19T13:24:00.650Z"
   },
   {
    "duration": 2367,
    "start_time": "2023-07-19T13:24:01.270Z"
   },
   {
    "duration": 10,
    "start_time": "2023-07-19T13:24:03.639Z"
   },
   {
    "duration": 22,
    "start_time": "2023-07-19T13:24:03.651Z"
   },
   {
    "duration": 27,
    "start_time": "2023-07-19T13:24:03.674Z"
   },
   {
    "duration": 54,
    "start_time": "2023-07-19T13:24:03.703Z"
   },
   {
    "duration": 31,
    "start_time": "2023-07-19T13:24:03.759Z"
   },
   {
    "duration": 28,
    "start_time": "2023-07-19T13:24:03.791Z"
   },
   {
    "duration": 30,
    "start_time": "2023-07-19T13:24:03.820Z"
   },
   {
    "duration": 9,
    "start_time": "2023-07-19T13:24:03.853Z"
   },
   {
    "duration": 33,
    "start_time": "2023-07-19T13:24:03.864Z"
   },
   {
    "duration": 38,
    "start_time": "2023-07-19T13:24:03.899Z"
   },
   {
    "duration": 20,
    "start_time": "2023-07-19T13:24:03.939Z"
   },
   {
    "duration": 33,
    "start_time": "2023-07-19T13:24:03.961Z"
   },
   {
    "duration": 16,
    "start_time": "2023-07-19T13:24:03.996Z"
   },
   {
    "duration": 45,
    "start_time": "2023-07-19T13:24:04.015Z"
   },
   {
    "duration": 144,
    "start_time": "2023-07-19T13:24:04.062Z"
   },
   {
    "duration": 6,
    "start_time": "2023-07-19T13:24:04.207Z"
   },
   {
    "duration": 25,
    "start_time": "2023-07-19T13:24:04.215Z"
   },
   {
    "duration": 27,
    "start_time": "2023-07-19T13:24:04.242Z"
   },
   {
    "duration": 14,
    "start_time": "2023-07-19T13:24:04.271Z"
   },
   {
    "duration": 45,
    "start_time": "2023-07-19T13:24:04.286Z"
   },
   {
    "duration": 5,
    "start_time": "2023-07-19T13:24:04.333Z"
   },
   {
    "duration": 27,
    "start_time": "2023-07-19T13:24:20.541Z"
   },
   {
    "duration": 5,
    "start_time": "2023-07-19T13:27:31.749Z"
   },
   {
    "duration": 6,
    "start_time": "2023-07-19T13:34:38.088Z"
   },
   {
    "duration": 27,
    "start_time": "2023-07-19T13:34:48.675Z"
   },
   {
    "duration": 69,
    "start_time": "2023-07-19T13:34:57.003Z"
   },
   {
    "duration": 29,
    "start_time": "2023-07-19T13:34:59.993Z"
   },
   {
    "duration": 6,
    "start_time": "2023-07-19T13:35:10.524Z"
   },
   {
    "duration": 6,
    "start_time": "2023-07-19T13:37:17.360Z"
   },
   {
    "duration": 28,
    "start_time": "2023-07-19T13:37:23.334Z"
   },
   {
    "duration": 25,
    "start_time": "2023-07-19T13:37:42.032Z"
   },
   {
    "duration": 29,
    "start_time": "2023-07-19T13:38:10.850Z"
   },
   {
    "duration": 8,
    "start_time": "2023-07-19T13:38:38.451Z"
   },
   {
    "duration": 479,
    "start_time": "2023-07-19T13:51:33.821Z"
   },
   {
    "duration": 17,
    "start_time": "2023-07-19T13:59:56.716Z"
   },
   {
    "duration": 2333,
    "start_time": "2023-07-19T14:01:01.825Z"
   },
   {
    "duration": 16,
    "start_time": "2023-07-19T14:03:00.901Z"
   },
   {
    "duration": 1400,
    "start_time": "2023-07-19T14:05:25.461Z"
   },
   {
    "duration": 923,
    "start_time": "2023-07-19T14:07:18.309Z"
   },
   {
    "duration": 450,
    "start_time": "2023-07-19T14:09:13.745Z"
   },
   {
    "duration": 339,
    "start_time": "2023-07-19T14:12:45.123Z"
   },
   {
    "duration": 369,
    "start_time": "2023-07-19T14:13:18.004Z"
   },
   {
    "duration": 25,
    "start_time": "2023-07-19T14:34:55.993Z"
   },
   {
    "duration": 16,
    "start_time": "2023-07-19T14:36:42.878Z"
   },
   {
    "duration": 9,
    "start_time": "2023-07-19T14:37:59.799Z"
   },
   {
    "duration": 27,
    "start_time": "2023-07-19T14:38:31.461Z"
   },
   {
    "duration": 205,
    "start_time": "2023-07-19T15:43:49.002Z"
   },
   {
    "duration": 151,
    "start_time": "2023-07-19T15:43:59.013Z"
   },
   {
    "duration": 145,
    "start_time": "2023-07-19T15:44:05.846Z"
   },
   {
    "duration": 149,
    "start_time": "2023-07-19T15:44:18.652Z"
   },
   {
    "duration": 152,
    "start_time": "2023-07-19T15:44:55.558Z"
   },
   {
    "duration": 147,
    "start_time": "2023-07-19T15:45:04.250Z"
   },
   {
    "duration": 135,
    "start_time": "2023-07-19T15:45:22.661Z"
   },
   {
    "duration": 141,
    "start_time": "2023-07-19T15:45:30.262Z"
   },
   {
    "duration": 159,
    "start_time": "2023-07-19T15:45:37.346Z"
   },
   {
    "duration": 174,
    "start_time": "2023-07-19T15:50:21.758Z"
   },
   {
    "duration": 162,
    "start_time": "2023-07-19T15:54:01.660Z"
   },
   {
    "duration": 237,
    "start_time": "2023-07-19T15:54:50.754Z"
   },
   {
    "duration": 200,
    "start_time": "2023-07-19T15:54:58.756Z"
   },
   {
    "duration": 172,
    "start_time": "2023-07-19T15:57:14.709Z"
   },
   {
    "duration": 239,
    "start_time": "2023-07-19T15:57:20.160Z"
   },
   {
    "duration": 198,
    "start_time": "2023-07-19T15:57:46.119Z"
   },
   {
    "duration": 238,
    "start_time": "2023-07-19T15:57:51.452Z"
   },
   {
    "duration": 175,
    "start_time": "2023-07-19T15:58:50.047Z"
   },
   {
    "duration": 142,
    "start_time": "2023-07-19T15:58:56.616Z"
   },
   {
    "duration": 275,
    "start_time": "2023-07-19T15:59:01.786Z"
   },
   {
    "duration": 162,
    "start_time": "2023-07-19T15:59:46.591Z"
   },
   {
    "duration": 156,
    "start_time": "2023-07-19T16:01:37.960Z"
   },
   {
    "duration": 167,
    "start_time": "2023-07-19T16:03:27.096Z"
   },
   {
    "duration": 149,
    "start_time": "2023-07-19T16:05:21.520Z"
   },
   {
    "duration": 167,
    "start_time": "2023-07-19T16:07:34.973Z"
   },
   {
    "duration": 116,
    "start_time": "2023-07-19T16:09:26.544Z"
   },
   {
    "duration": 119,
    "start_time": "2023-07-19T16:09:45.775Z"
   },
   {
    "duration": 125,
    "start_time": "2023-07-19T16:09:50.748Z"
   },
   {
    "duration": 526,
    "start_time": "2023-07-20T15:48:01.112Z"
   },
   {
    "duration": 2467,
    "start_time": "2023-07-20T15:48:01.639Z"
   },
   {
    "duration": 8,
    "start_time": "2023-07-20T15:48:04.108Z"
   },
   {
    "duration": 11,
    "start_time": "2023-07-20T15:48:04.117Z"
   },
   {
    "duration": 13,
    "start_time": "2023-07-20T15:48:04.129Z"
   },
   {
    "duration": 34,
    "start_time": "2023-07-20T15:48:04.144Z"
   },
   {
    "duration": 12,
    "start_time": "2023-07-20T15:48:04.179Z"
   },
   {
    "duration": 18,
    "start_time": "2023-07-20T15:48:04.192Z"
   },
   {
    "duration": 26,
    "start_time": "2023-07-20T15:48:04.212Z"
   },
   {
    "duration": 8,
    "start_time": "2023-07-20T15:48:04.240Z"
   },
   {
    "duration": 25,
    "start_time": "2023-07-20T15:48:04.250Z"
   },
   {
    "duration": 30,
    "start_time": "2023-07-20T15:48:04.277Z"
   },
   {
    "duration": 18,
    "start_time": "2023-07-20T15:48:04.308Z"
   },
   {
    "duration": 26,
    "start_time": "2023-07-20T15:48:04.327Z"
   },
   {
    "duration": 20,
    "start_time": "2023-07-20T15:48:04.355Z"
   },
   {
    "duration": 75,
    "start_time": "2023-07-20T15:48:04.377Z"
   },
   {
    "duration": 114,
    "start_time": "2023-07-20T15:48:04.454Z"
   },
   {
    "duration": 4,
    "start_time": "2023-07-20T15:48:04.570Z"
   },
   {
    "duration": 23,
    "start_time": "2023-07-20T15:48:04.576Z"
   },
   {
    "duration": 9,
    "start_time": "2023-07-20T15:48:04.601Z"
   },
   {
    "duration": 7,
    "start_time": "2023-07-20T15:48:04.612Z"
   },
   {
    "duration": 17,
    "start_time": "2023-07-20T15:48:04.620Z"
   },
   {
    "duration": 14,
    "start_time": "2023-07-20T15:48:04.638Z"
   },
   {
    "duration": 33,
    "start_time": "2023-07-20T15:48:04.653Z"
   },
   {
    "duration": 274,
    "start_time": "2023-07-20T15:48:04.687Z"
   },
   {
    "duration": 24,
    "start_time": "2023-07-20T15:48:04.962Z"
   },
   {
    "duration": 142,
    "start_time": "2023-07-20T15:48:04.987Z"
   },
   {
    "duration": 145,
    "start_time": "2023-07-20T15:48:05.132Z"
   },
   {
    "duration": 204,
    "start_time": "2023-07-20T15:48:05.278Z"
   },
   {
    "duration": 241,
    "start_time": "2023-07-20T15:48:05.483Z"
   },
   {
    "duration": 171,
    "start_time": "2023-07-20T15:48:05.725Z"
   },
   {
    "duration": 148,
    "start_time": "2023-07-20T15:48:05.898Z"
   },
   {
    "duration": 146,
    "start_time": "2023-07-20T15:48:06.048Z"
   },
   {
    "duration": 135,
    "start_time": "2023-07-20T15:48:06.196Z"
   },
   {
    "duration": 149,
    "start_time": "2023-07-20T15:48:06.333Z"
   },
   {
    "duration": 206,
    "start_time": "2023-07-20T15:50:38.657Z"
   },
   {
    "duration": 134,
    "start_time": "2023-07-20T15:50:47.842Z"
   },
   {
    "duration": 137,
    "start_time": "2023-07-20T15:55:35.408Z"
   },
   {
    "duration": 210,
    "start_time": "2023-07-20T15:55:44.701Z"
   },
   {
    "duration": 143,
    "start_time": "2023-07-20T16:00:33.137Z"
   },
   {
    "duration": 147,
    "start_time": "2023-07-20T16:03:34.034Z"
   },
   {
    "duration": 124,
    "start_time": "2023-07-20T16:04:05.575Z"
   },
   {
    "duration": 131,
    "start_time": "2023-07-20T16:04:09.121Z"
   },
   {
    "duration": 114,
    "start_time": "2023-07-20T16:04:25.566Z"
   },
   {
    "duration": 151,
    "start_time": "2023-07-20T16:04:56.523Z"
   },
   {
    "duration": 146,
    "start_time": "2023-07-20T16:05:05.047Z"
   },
   {
    "duration": 127,
    "start_time": "2023-07-20T16:05:09.758Z"
   },
   {
    "duration": 507,
    "start_time": "2023-07-20T16:07:38.160Z"
   },
   {
    "duration": 1880,
    "start_time": "2023-07-20T16:07:38.669Z"
   },
   {
    "duration": 9,
    "start_time": "2023-07-20T16:07:40.550Z"
   },
   {
    "duration": 16,
    "start_time": "2023-07-20T16:07:40.561Z"
   },
   {
    "duration": 27,
    "start_time": "2023-07-20T16:07:40.578Z"
   },
   {
    "duration": 21,
    "start_time": "2023-07-20T16:07:40.606Z"
   },
   {
    "duration": 34,
    "start_time": "2023-07-20T16:07:40.628Z"
   },
   {
    "duration": 26,
    "start_time": "2023-07-20T16:07:40.663Z"
   },
   {
    "duration": 23,
    "start_time": "2023-07-20T16:07:40.690Z"
   },
   {
    "duration": 34,
    "start_time": "2023-07-20T16:07:40.717Z"
   },
   {
    "duration": 24,
    "start_time": "2023-07-20T16:07:40.752Z"
   },
   {
    "duration": 27,
    "start_time": "2023-07-20T16:07:40.778Z"
   },
   {
    "duration": 19,
    "start_time": "2023-07-20T16:07:40.807Z"
   },
   {
    "duration": 38,
    "start_time": "2023-07-20T16:07:40.827Z"
   },
   {
    "duration": 12,
    "start_time": "2023-07-20T16:07:40.867Z"
   },
   {
    "duration": 40,
    "start_time": "2023-07-20T16:07:40.881Z"
   },
   {
    "duration": 133,
    "start_time": "2023-07-20T16:07:40.923Z"
   },
   {
    "duration": 5,
    "start_time": "2023-07-20T16:07:41.057Z"
   },
   {
    "duration": 19,
    "start_time": "2023-07-20T16:07:41.064Z"
   },
   {
    "duration": 25,
    "start_time": "2023-07-20T16:07:41.085Z"
   },
   {
    "duration": 14,
    "start_time": "2023-07-20T16:07:41.112Z"
   },
   {
    "duration": 25,
    "start_time": "2023-07-20T16:07:41.128Z"
   },
   {
    "duration": 8,
    "start_time": "2023-07-20T16:07:41.154Z"
   },
   {
    "duration": 23,
    "start_time": "2023-07-20T16:07:41.164Z"
   },
   {
    "duration": 295,
    "start_time": "2023-07-20T16:07:41.189Z"
   },
   {
    "duration": 30,
    "start_time": "2023-07-20T16:07:41.486Z"
   },
   {
    "duration": 137,
    "start_time": "2023-07-20T16:07:41.517Z"
   },
   {
    "duration": 150,
    "start_time": "2023-07-20T16:07:41.657Z"
   },
   {
    "duration": 147,
    "start_time": "2023-07-20T16:07:41.809Z"
   },
   {
    "duration": 280,
    "start_time": "2023-07-20T16:07:41.958Z"
   },
   {
    "duration": 160,
    "start_time": "2023-07-20T16:07:42.239Z"
   },
   {
    "duration": 229,
    "start_time": "2023-07-20T16:07:42.412Z"
   },
   {
    "duration": 159,
    "start_time": "2023-07-20T16:07:42.643Z"
   },
   {
    "duration": 113,
    "start_time": "2023-07-20T16:07:42.806Z"
   },
   {
    "duration": 150,
    "start_time": "2023-07-20T16:07:42.921Z"
   },
   {
    "duration": 150,
    "start_time": "2023-07-20T16:07:43.072Z"
   },
   {
    "duration": 159,
    "start_time": "2023-07-20T16:07:43.224Z"
   },
   {
    "duration": 150,
    "start_time": "2023-07-20T16:07:43.385Z"
   },
   {
    "duration": 149,
    "start_time": "2023-07-20T16:07:43.537Z"
   },
   {
    "duration": 245,
    "start_time": "2023-07-20T16:07:43.688Z"
   },
   {
    "duration": 152,
    "start_time": "2023-07-20T16:09:35.992Z"
   },
   {
    "duration": 205,
    "start_time": "2023-07-20T16:09:47.355Z"
   },
   {
    "duration": 216,
    "start_time": "2023-07-20T16:11:15.214Z"
   },
   {
    "duration": 5,
    "start_time": "2023-07-20T16:15:51.443Z"
   },
   {
    "duration": 5,
    "start_time": "2023-07-20T16:16:28.133Z"
   },
   {
    "duration": 6,
    "start_time": "2023-07-20T16:16:40.600Z"
   },
   {
    "duration": 464,
    "start_time": "2023-07-21T17:08:47.408Z"
   },
   {
    "duration": 1887,
    "start_time": "2023-07-21T17:08:47.874Z"
   },
   {
    "duration": 8,
    "start_time": "2023-07-21T17:08:49.762Z"
   },
   {
    "duration": 7,
    "start_time": "2023-07-21T17:08:49.772Z"
   },
   {
    "duration": 13,
    "start_time": "2023-07-21T17:08:49.780Z"
   },
   {
    "duration": 9,
    "start_time": "2023-07-21T17:08:49.794Z"
   },
   {
    "duration": 3,
    "start_time": "2023-07-21T17:08:49.804Z"
   },
   {
    "duration": 11,
    "start_time": "2023-07-21T17:08:49.809Z"
   },
   {
    "duration": 29,
    "start_time": "2023-07-21T17:08:49.821Z"
   },
   {
    "duration": 6,
    "start_time": "2023-07-21T17:08:49.853Z"
   },
   {
    "duration": 7,
    "start_time": "2023-07-21T17:08:49.861Z"
   },
   {
    "duration": 9,
    "start_time": "2023-07-21T17:08:49.869Z"
   },
   {
    "duration": 5,
    "start_time": "2023-07-21T17:08:49.879Z"
   },
   {
    "duration": 18,
    "start_time": "2023-07-21T17:08:49.885Z"
   },
   {
    "duration": 12,
    "start_time": "2023-07-21T17:08:49.904Z"
   },
   {
    "duration": 26,
    "start_time": "2023-07-21T17:08:49.917Z"
   },
   {
    "duration": 122,
    "start_time": "2023-07-21T17:08:49.945Z"
   },
   {
    "duration": 5,
    "start_time": "2023-07-21T17:08:50.069Z"
   },
   {
    "duration": 33,
    "start_time": "2023-07-21T17:08:50.076Z"
   },
   {
    "duration": 23,
    "start_time": "2023-07-21T17:08:50.110Z"
   },
   {
    "duration": 7,
    "start_time": "2023-07-21T17:08:50.134Z"
   },
   {
    "duration": 4,
    "start_time": "2023-07-21T17:08:50.142Z"
   },
   {
    "duration": 7,
    "start_time": "2023-07-21T17:08:50.147Z"
   },
   {
    "duration": 7,
    "start_time": "2023-07-21T17:08:50.156Z"
   },
   {
    "duration": 272,
    "start_time": "2023-07-21T17:08:50.164Z"
   },
   {
    "duration": 23,
    "start_time": "2023-07-21T17:08:50.437Z"
   },
   {
    "duration": 136,
    "start_time": "2023-07-21T17:08:50.462Z"
   },
   {
    "duration": 149,
    "start_time": "2023-07-21T17:08:50.607Z"
   },
   {
    "duration": 146,
    "start_time": "2023-07-21T17:08:50.757Z"
   },
   {
    "duration": 283,
    "start_time": "2023-07-21T17:08:50.906Z"
   },
   {
    "duration": 154,
    "start_time": "2023-07-21T17:08:51.191Z"
   },
   {
    "duration": 147,
    "start_time": "2023-07-21T17:08:51.346Z"
   },
   {
    "duration": 147,
    "start_time": "2023-07-21T17:08:51.494Z"
   },
   {
    "duration": 117,
    "start_time": "2023-07-21T17:08:51.642Z"
   },
   {
    "duration": 145,
    "start_time": "2023-07-21T17:08:51.761Z"
   },
   {
    "duration": 141,
    "start_time": "2023-07-21T17:08:51.907Z"
   },
   {
    "duration": 168,
    "start_time": "2023-07-21T17:08:52.049Z"
   },
   {
    "duration": 151,
    "start_time": "2023-07-21T17:08:52.219Z"
   },
   {
    "duration": 180,
    "start_time": "2023-07-21T17:08:52.372Z"
   },
   {
    "duration": 235,
    "start_time": "2023-07-21T17:08:52.554Z"
   },
   {
    "duration": 209,
    "start_time": "2023-07-21T17:08:52.791Z"
   },
   {
    "duration": 7,
    "start_time": "2023-07-21T17:08:53.001Z"
   },
   {
    "duration": 150,
    "start_time": "2023-07-21T17:18:09.335Z"
   },
   {
    "duration": 126,
    "start_time": "2023-07-21T17:19:34.824Z"
   },
   {
    "duration": 81,
    "start_time": "2023-07-21T17:19:45.604Z"
   },
   {
    "duration": 108,
    "start_time": "2023-07-21T17:21:28.976Z"
   },
   {
    "duration": 1752,
    "start_time": "2023-07-21T17:21:34.490Z"
   },
   {
    "duration": 1974,
    "start_time": "2023-07-21T17:21:52.939Z"
   },
   {
    "duration": 3,
    "start_time": "2023-07-21T17:22:47.304Z"
   },
   {
    "duration": 256,
    "start_time": "2023-07-21T17:22:51.041Z"
   },
   {
    "duration": 273,
    "start_time": "2023-07-21T17:23:59.714Z"
   },
   {
    "duration": 199,
    "start_time": "2023-07-21T17:25:27.422Z"
   },
   {
    "duration": 212,
    "start_time": "2023-07-21T17:25:36.107Z"
   },
   {
    "duration": 211,
    "start_time": "2023-07-21T17:27:07.133Z"
   },
   {
    "duration": 10,
    "start_time": "2023-07-21T17:30:39.585Z"
   },
   {
    "duration": 213,
    "start_time": "2023-07-21T17:30:46.082Z"
   },
   {
    "duration": 223,
    "start_time": "2023-07-21T17:30:54.110Z"
   },
   {
    "duration": 134,
    "start_time": "2023-07-21T17:38:00.225Z"
   },
   {
    "duration": 5,
    "start_time": "2023-07-21T17:41:50.531Z"
   },
   {
    "duration": 121,
    "start_time": "2023-07-21T17:43:14.964Z"
   },
   {
    "duration": 225,
    "start_time": "2023-07-21T17:44:57.656Z"
   },
   {
    "duration": 131,
    "start_time": "2023-07-21T17:45:49.604Z"
   },
   {
    "duration": 151,
    "start_time": "2023-07-21T17:46:27.221Z"
   },
   {
    "duration": 9,
    "start_time": "2023-07-21T17:47:40.871Z"
   },
   {
    "duration": 126,
    "start_time": "2023-07-21T17:48:36.725Z"
   },
   {
    "duration": 138,
    "start_time": "2023-07-21T17:49:33.605Z"
   },
   {
    "duration": 6,
    "start_time": "2023-07-21T17:50:51.260Z"
   },
   {
    "duration": 127,
    "start_time": "2023-07-21T17:51:11.373Z"
   },
   {
    "duration": 5,
    "start_time": "2023-07-21T17:53:03.179Z"
   },
   {
    "duration": 116,
    "start_time": "2023-07-21T17:54:43.456Z"
   },
   {
    "duration": 6,
    "start_time": "2023-07-21T17:55:08.378Z"
   },
   {
    "duration": 143,
    "start_time": "2023-07-21T18:03:23.565Z"
   },
   {
    "duration": 5,
    "start_time": "2023-07-21T18:04:24.064Z"
   },
   {
    "duration": 100,
    "start_time": "2023-07-21T18:06:12.226Z"
   },
   {
    "duration": 98,
    "start_time": "2023-07-21T18:07:29.248Z"
   },
   {
    "duration": 150,
    "start_time": "2023-07-21T18:08:02.342Z"
   },
   {
    "duration": 105,
    "start_time": "2023-07-21T18:08:40.696Z"
   },
   {
    "duration": 121,
    "start_time": "2023-07-21T18:10:57.964Z"
   },
   {
    "duration": 528,
    "start_time": "2023-07-21T18:11:26.124Z"
   },
   {
    "duration": 458,
    "start_time": "2023-07-21T18:11:45.616Z"
   },
   {
    "duration": 113,
    "start_time": "2023-07-21T18:17:04.877Z"
   },
   {
    "duration": 4,
    "start_time": "2023-07-21T18:17:38.676Z"
   },
   {
    "duration": 116,
    "start_time": "2023-07-21T18:22:28.422Z"
   },
   {
    "duration": 121,
    "start_time": "2023-07-21T18:22:33.552Z"
   },
   {
    "duration": 4,
    "start_time": "2023-07-21T18:22:50.692Z"
   },
   {
    "duration": 124,
    "start_time": "2023-07-21T18:25:24.436Z"
   },
   {
    "duration": 5,
    "start_time": "2023-07-21T18:25:47.977Z"
   },
   {
    "duration": 9,
    "start_time": "2023-07-21T18:59:22.826Z"
   },
   {
    "duration": 8,
    "start_time": "2023-07-21T18:59:34.571Z"
   },
   {
    "duration": 464,
    "start_time": "2023-07-21T18:59:52.045Z"
   },
   {
    "duration": 2006,
    "start_time": "2023-07-21T18:59:52.511Z"
   },
   {
    "duration": 8,
    "start_time": "2023-07-21T18:59:54.518Z"
   },
   {
    "duration": 8,
    "start_time": "2023-07-21T18:59:54.527Z"
   },
   {
    "duration": 7,
    "start_time": "2023-07-21T18:59:54.537Z"
   },
   {
    "duration": 9,
    "start_time": "2023-07-21T18:59:54.546Z"
   },
   {
    "duration": 7,
    "start_time": "2023-07-21T18:59:54.556Z"
   },
   {
    "duration": 8,
    "start_time": "2023-07-21T18:59:54.564Z"
   },
   {
    "duration": 11,
    "start_time": "2023-07-21T18:59:54.574Z"
   },
   {
    "duration": 6,
    "start_time": "2023-07-21T18:59:54.587Z"
   },
   {
    "duration": 19,
    "start_time": "2023-07-21T18:59:54.595Z"
   },
   {
    "duration": 24,
    "start_time": "2023-07-21T18:59:54.616Z"
   },
   {
    "duration": 17,
    "start_time": "2023-07-21T18:59:54.641Z"
   },
   {
    "duration": 12,
    "start_time": "2023-07-21T18:59:54.660Z"
   },
   {
    "duration": 8,
    "start_time": "2023-07-21T18:59:54.673Z"
   },
   {
    "duration": 39,
    "start_time": "2023-07-21T18:59:54.682Z"
   },
   {
    "duration": 121,
    "start_time": "2023-07-21T18:59:54.723Z"
   },
   {
    "duration": 4,
    "start_time": "2023-07-21T18:59:54.846Z"
   },
   {
    "duration": 29,
    "start_time": "2023-07-21T18:59:54.851Z"
   },
   {
    "duration": 12,
    "start_time": "2023-07-21T18:59:54.881Z"
   },
   {
    "duration": 9,
    "start_time": "2023-07-21T18:59:54.894Z"
   },
   {
    "duration": 14,
    "start_time": "2023-07-21T18:59:54.904Z"
   },
   {
    "duration": 25,
    "start_time": "2023-07-21T18:59:54.919Z"
   },
   {
    "duration": 8,
    "start_time": "2023-07-21T18:59:54.946Z"
   },
   {
    "duration": 270,
    "start_time": "2023-07-21T18:59:54.955Z"
   },
   {
    "duration": 23,
    "start_time": "2023-07-21T18:59:55.227Z"
   },
   {
    "duration": 147,
    "start_time": "2023-07-21T18:59:55.252Z"
   },
   {
    "duration": 154,
    "start_time": "2023-07-21T18:59:55.401Z"
   },
   {
    "duration": 156,
    "start_time": "2023-07-21T18:59:55.556Z"
   },
   {
    "duration": 281,
    "start_time": "2023-07-21T18:59:55.714Z"
   },
   {
    "duration": 159,
    "start_time": "2023-07-21T18:59:55.997Z"
   },
   {
    "duration": 150,
    "start_time": "2023-07-21T18:59:56.158Z"
   },
   {
    "duration": 148,
    "start_time": "2023-07-21T18:59:56.310Z"
   },
   {
    "duration": 119,
    "start_time": "2023-07-21T18:59:56.460Z"
   },
   {
    "duration": 158,
    "start_time": "2023-07-21T18:59:56.581Z"
   },
   {
    "duration": 139,
    "start_time": "2023-07-21T18:59:56.741Z"
   },
   {
    "duration": 148,
    "start_time": "2023-07-21T18:59:56.882Z"
   },
   {
    "duration": 150,
    "start_time": "2023-07-21T18:59:57.031Z"
   },
   {
    "duration": 133,
    "start_time": "2023-07-21T18:59:57.183Z"
   },
   {
    "duration": 233,
    "start_time": "2023-07-21T18:59:57.317Z"
   },
   {
    "duration": 257,
    "start_time": "2023-07-21T18:59:57.554Z"
   },
   {
    "duration": 5,
    "start_time": "2023-07-21T18:59:57.812Z"
   },
   {
    "duration": 171,
    "start_time": "2023-07-21T18:59:57.819Z"
   },
   {
    "duration": 15,
    "start_time": "2023-07-21T18:59:57.992Z"
   },
   {
    "duration": 175,
    "start_time": "2023-07-21T18:59:58.009Z"
   },
   {
    "duration": 5,
    "start_time": "2023-07-21T18:59:58.186Z"
   },
   {
    "duration": 147,
    "start_time": "2023-07-21T18:59:58.206Z"
   },
   {
    "duration": 5,
    "start_time": "2023-07-21T18:59:58.354Z"
   },
   {
    "duration": 169,
    "start_time": "2023-07-21T18:59:58.361Z"
   },
   {
    "duration": 6,
    "start_time": "2023-07-21T18:59:58.532Z"
   },
   {
    "duration": 178,
    "start_time": "2023-07-21T18:59:58.539Z"
   },
   {
    "duration": 161,
    "start_time": "2023-07-21T18:59:58.719Z"
   },
   {
    "duration": 5,
    "start_time": "2023-07-21T18:59:58.882Z"
   },
   {
    "duration": 147,
    "start_time": "2023-07-21T18:59:58.889Z"
   },
   {
    "duration": 5,
    "start_time": "2023-07-21T18:59:59.038Z"
   },
   {
    "duration": 159,
    "start_time": "2023-07-21T18:59:59.045Z"
   },
   {
    "duration": 5,
    "start_time": "2023-07-21T18:59:59.206Z"
   },
   {
    "duration": 77,
    "start_time": "2023-07-21T18:59:59.212Z"
   },
   {
    "duration": 23,
    "start_time": "2023-07-21T19:00:27.575Z"
   },
   {
    "duration": 21,
    "start_time": "2023-07-21T19:00:35.279Z"
   },
   {
    "duration": 25,
    "start_time": "2023-07-21T19:02:24.665Z"
   },
   {
    "duration": 22,
    "start_time": "2023-07-21T19:03:14.560Z"
   },
   {
    "duration": 20,
    "start_time": "2023-07-21T19:03:19.245Z"
   },
   {
    "duration": 19,
    "start_time": "2023-07-21T19:03:29.699Z"
   },
   {
    "duration": 6,
    "start_time": "2023-07-21T19:05:24.543Z"
   },
   {
    "duration": 12,
    "start_time": "2023-07-21T19:06:15.830Z"
   },
   {
    "duration": 6,
    "start_time": "2023-07-21T19:07:10.256Z"
   },
   {
    "duration": 5,
    "start_time": "2023-07-21T19:08:21.257Z"
   },
   {
    "duration": 1706,
    "start_time": "2023-07-21T19:08:35.357Z"
   },
   {
    "duration": 10,
    "start_time": "2023-07-21T19:08:42.851Z"
   },
   {
    "duration": 1839,
    "start_time": "2023-07-21T19:09:36.664Z"
   },
   {
    "duration": 1758,
    "start_time": "2023-07-21T19:09:51.933Z"
   },
   {
    "duration": 8,
    "start_time": "2023-07-21T19:12:41.777Z"
   },
   {
    "duration": 8,
    "start_time": "2023-07-21T19:12:48.696Z"
   },
   {
    "duration": 8,
    "start_time": "2023-07-21T19:13:05.609Z"
   },
   {
    "duration": 19,
    "start_time": "2023-07-21T19:23:06.046Z"
   },
   {
    "duration": 22,
    "start_time": "2023-07-21T19:24:24.888Z"
   },
   {
    "duration": 112,
    "start_time": "2023-07-21T19:26:20.169Z"
   },
   {
    "duration": 128,
    "start_time": "2023-07-21T19:26:30.105Z"
   },
   {
    "duration": 112,
    "start_time": "2023-07-21T19:26:37.549Z"
   },
   {
    "duration": 3,
    "start_time": "2023-07-21T19:58:57.450Z"
   },
   {
    "duration": 511,
    "start_time": "2023-07-21T20:22:22.985Z"
   },
   {
    "duration": 4156,
    "start_time": "2023-07-21T20:22:23.498Z"
   },
   {
    "duration": 62,
    "start_time": "2023-07-21T20:22:27.655Z"
   },
   {
    "duration": 6,
    "start_time": "2023-07-21T20:22:27.719Z"
   },
   {
    "duration": 8,
    "start_time": "2023-07-21T20:22:27.727Z"
   },
   {
    "duration": 11,
    "start_time": "2023-07-21T20:22:27.737Z"
   },
   {
    "duration": 4,
    "start_time": "2023-07-21T20:22:27.750Z"
   },
   {
    "duration": 60,
    "start_time": "2023-07-21T20:22:27.756Z"
   },
   {
    "duration": 15,
    "start_time": "2023-07-21T20:22:27.817Z"
   },
   {
    "duration": 9,
    "start_time": "2023-07-21T20:22:27.834Z"
   },
   {
    "duration": 5,
    "start_time": "2023-07-21T20:22:27.844Z"
   },
   {
    "duration": 67,
    "start_time": "2023-07-21T20:22:27.851Z"
   },
   {
    "duration": 7,
    "start_time": "2023-07-21T20:22:27.919Z"
   },
   {
    "duration": 28,
    "start_time": "2023-07-21T20:22:27.927Z"
   },
   {
    "duration": 11,
    "start_time": "2023-07-21T20:22:27.956Z"
   },
   {
    "duration": 28,
    "start_time": "2023-07-21T20:22:28.014Z"
   },
   {
    "duration": 311,
    "start_time": "2023-07-21T20:22:28.044Z"
   },
   {
    "duration": 58,
    "start_time": "2023-07-21T20:22:28.356Z"
   },
   {
    "duration": 21,
    "start_time": "2023-07-21T20:22:28.416Z"
   },
   {
    "duration": 12,
    "start_time": "2023-07-21T20:22:28.439Z"
   },
   {
    "duration": 60,
    "start_time": "2023-07-21T20:22:28.453Z"
   },
   {
    "duration": 13,
    "start_time": "2023-07-21T20:22:28.516Z"
   },
   {
    "duration": 110,
    "start_time": "2023-07-21T20:22:28.531Z"
   },
   {
    "duration": 342,
    "start_time": "2023-07-21T20:22:28.643Z"
   },
   {
    "duration": 12,
    "start_time": "2023-07-21T20:22:28.987Z"
   },
   {
    "duration": 475,
    "start_time": "2023-07-21T20:22:29.001Z"
   },
   {
    "duration": 602,
    "start_time": "2023-07-21T20:22:29.478Z"
   },
   {
    "duration": 411,
    "start_time": "2023-07-21T20:22:30.086Z"
   },
   {
    "duration": 337,
    "start_time": "2023-07-21T20:22:30.499Z"
   },
   {
    "duration": 17,
    "start_time": "2023-07-21T20:22:30.838Z"
   },
   {
    "duration": 307,
    "start_time": "2023-07-21T20:22:30.856Z"
   },
   {
    "duration": 79,
    "start_time": "2023-07-21T20:22:31.165Z"
   },
   {
    "duration": 67,
    "start_time": "2023-07-21T20:22:31.246Z"
   },
   {
    "duration": 460,
    "start_time": "2023-07-21T20:22:31.315Z"
   },
   {
    "duration": 38,
    "start_time": "2023-07-21T20:22:31.777Z"
   },
   {
    "duration": 416,
    "start_time": "2023-07-21T20:22:31.817Z"
   },
   {
    "duration": 365,
    "start_time": "2023-07-21T20:22:32.235Z"
   },
   {
    "duration": 349,
    "start_time": "2023-07-21T20:22:32.602Z"
   },
   {
    "duration": 429,
    "start_time": "2023-07-21T20:22:32.953Z"
   },
   {
    "duration": 398,
    "start_time": "2023-07-21T20:22:33.383Z"
   },
   {
    "duration": 359,
    "start_time": "2023-07-21T20:22:33.783Z"
   },
   {
    "duration": 361,
    "start_time": "2023-07-21T20:22:34.144Z"
   },
   {
    "duration": 284,
    "start_time": "2023-07-21T20:22:34.513Z"
   },
   {
    "duration": 428,
    "start_time": "2023-07-21T20:22:34.799Z"
   },
   {
    "duration": 317,
    "start_time": "2023-07-21T20:22:35.229Z"
   },
   {
    "duration": 378,
    "start_time": "2023-07-21T20:22:35.548Z"
   },
   {
    "duration": 343,
    "start_time": "2023-07-21T20:22:35.927Z"
   },
   {
    "duration": 359,
    "start_time": "2023-07-21T20:22:36.272Z"
   },
   {
    "duration": 318,
    "start_time": "2023-07-21T20:22:36.633Z"
   },
   {
    "duration": 417,
    "start_time": "2023-07-21T20:22:36.953Z"
   },
   {
    "duration": 5,
    "start_time": "2023-07-21T20:22:37.372Z"
   },
   {
    "duration": 364,
    "start_time": "2023-07-21T20:22:37.379Z"
   },
   {
    "duration": 5,
    "start_time": "2023-07-21T20:22:37.744Z"
   },
   {
    "duration": 301,
    "start_time": "2023-07-21T20:22:37.751Z"
   },
   {
    "duration": 5,
    "start_time": "2023-07-21T20:22:38.054Z"
   },
   {
    "duration": 362,
    "start_time": "2023-07-21T20:22:38.061Z"
   },
   {
    "duration": 5,
    "start_time": "2023-07-21T20:22:38.425Z"
   },
   {
    "duration": 313,
    "start_time": "2023-07-21T20:22:38.431Z"
   },
   {
    "duration": 5,
    "start_time": "2023-07-21T20:22:38.746Z"
   },
   {
    "duration": 280,
    "start_time": "2023-07-21T20:22:38.753Z"
   },
   {
    "duration": 319,
    "start_time": "2023-07-21T20:22:39.034Z"
   },
   {
    "duration": 6,
    "start_time": "2023-07-21T20:22:39.354Z"
   },
   {
    "duration": 327,
    "start_time": "2023-07-21T20:22:39.361Z"
   },
   {
    "duration": 7,
    "start_time": "2023-07-21T20:22:39.690Z"
   },
   {
    "duration": 347,
    "start_time": "2023-07-21T20:22:39.699Z"
   },
   {
    "duration": 5,
    "start_time": "2023-07-21T20:22:40.047Z"
   },
   {
    "duration": 29,
    "start_time": "2023-07-21T20:22:40.054Z"
   },
   {
    "duration": 9,
    "start_time": "2023-07-21T20:22:40.085Z"
   },
   {
    "duration": 40,
    "start_time": "2023-07-21T20:22:40.095Z"
   },
   {
    "duration": 435,
    "start_time": "2023-07-21T20:22:40.136Z"
   },
   {
    "duration": 4,
    "start_time": "2023-07-21T20:22:40.572Z"
   },
   {
    "duration": 7,
    "start_time": "2023-07-21T21:29:53.492Z"
   },
   {
    "duration": 485,
    "start_time": "2023-07-21T21:39:55.760Z"
   },
   {
    "duration": 3684,
    "start_time": "2023-07-21T21:39:56.247Z"
   },
   {
    "duration": 10,
    "start_time": "2023-07-21T21:39:59.934Z"
   },
   {
    "duration": 6,
    "start_time": "2023-07-21T21:39:59.946Z"
   },
   {
    "duration": 471,
    "start_time": "2023-07-21T21:39:59.953Z"
   },
   {
    "duration": 6,
    "start_time": "2023-07-21T21:40:00.426Z"
   },
   {
    "duration": 199,
    "start_time": "2023-07-21T21:40:00.433Z"
   },
   {
    "duration": 41,
    "start_time": "2023-07-21T21:40:00.634Z"
   },
   {
    "duration": 54,
    "start_time": "2023-07-21T21:40:00.678Z"
   },
   {
    "duration": 46,
    "start_time": "2023-07-21T21:40:00.736Z"
   },
   {
    "duration": 50,
    "start_time": "2023-07-21T21:40:00.784Z"
   },
   {
    "duration": 26,
    "start_time": "2023-07-21T21:40:00.836Z"
   },
   {
    "duration": 32,
    "start_time": "2023-07-21T21:40:00.863Z"
   },
   {
    "duration": 49,
    "start_time": "2023-07-21T21:40:00.897Z"
   },
   {
    "duration": 21,
    "start_time": "2023-07-21T21:40:00.948Z"
   },
   {
    "duration": 54,
    "start_time": "2023-07-21T21:40:00.971Z"
   },
   {
    "duration": 39,
    "start_time": "2023-07-21T21:40:01.026Z"
   },
   {
    "duration": 53,
    "start_time": "2023-07-21T21:40:01.067Z"
   },
   {
    "duration": 156,
    "start_time": "2023-07-21T21:40:01.122Z"
   },
   {
    "duration": 8,
    "start_time": "2023-07-21T21:40:01.279Z"
   },
   {
    "duration": 44,
    "start_time": "2023-07-21T21:40:01.288Z"
   },
   {
    "duration": 23,
    "start_time": "2023-07-21T21:40:01.334Z"
   },
   {
    "duration": 19,
    "start_time": "2023-07-21T21:40:01.359Z"
   },
   {
    "duration": 42,
    "start_time": "2023-07-21T21:40:01.380Z"
   },
   {
    "duration": 69,
    "start_time": "2023-07-21T21:40:01.424Z"
   },
   {
    "duration": 99,
    "start_time": "2023-07-21T21:40:01.495Z"
   },
   {
    "duration": 265,
    "start_time": "2023-07-21T21:40:01.596Z"
   },
   {
    "duration": 11,
    "start_time": "2023-07-21T21:40:01.865Z"
   },
   {
    "duration": 509,
    "start_time": "2023-07-21T21:40:01.878Z"
   },
   {
    "duration": 666,
    "start_time": "2023-07-21T21:40:02.389Z"
   },
   {
    "duration": 283,
    "start_time": "2023-07-21T21:40:03.057Z"
   },
   {
    "duration": 285,
    "start_time": "2023-07-21T21:40:03.342Z"
   },
   {
    "duration": 17,
    "start_time": "2023-07-21T21:40:03.629Z"
   },
   {
    "duration": 70,
    "start_time": "2023-07-21T21:40:03.648Z"
   },
   {
    "duration": 28,
    "start_time": "2023-07-21T21:40:03.720Z"
   },
   {
    "duration": 61,
    "start_time": "2023-07-21T21:40:03.750Z"
   },
   {
    "duration": 340,
    "start_time": "2023-07-21T21:40:03.812Z"
   },
   {
    "duration": 28,
    "start_time": "2023-07-21T21:40:04.154Z"
   },
   {
    "duration": 331,
    "start_time": "2023-07-21T21:40:04.184Z"
   },
   {
    "duration": 326,
    "start_time": "2023-07-21T21:40:04.517Z"
   },
   {
    "duration": 347,
    "start_time": "2023-07-21T21:40:04.844Z"
   },
   {
    "duration": 455,
    "start_time": "2023-07-21T21:40:05.193Z"
   },
   {
    "duration": 380,
    "start_time": "2023-07-21T21:40:05.649Z"
   },
   {
    "duration": 312,
    "start_time": "2023-07-21T21:40:06.031Z"
   },
   {
    "duration": 358,
    "start_time": "2023-07-21T21:40:06.345Z"
   },
   {
    "duration": 375,
    "start_time": "2023-07-21T21:40:06.705Z"
   },
   {
    "duration": 338,
    "start_time": "2023-07-21T21:40:07.082Z"
   },
   {
    "duration": 324,
    "start_time": "2023-07-21T21:40:07.422Z"
   },
   {
    "duration": 366,
    "start_time": "2023-07-21T21:40:07.748Z"
   },
   {
    "duration": 332,
    "start_time": "2023-07-21T21:40:08.116Z"
   },
   {
    "duration": 315,
    "start_time": "2023-07-21T21:40:08.449Z"
   },
   {
    "duration": 340,
    "start_time": "2023-07-21T21:40:08.767Z"
   },
   {
    "duration": 425,
    "start_time": "2023-07-21T21:40:09.113Z"
   },
   {
    "duration": 6,
    "start_time": "2023-07-21T21:40:09.540Z"
   },
   {
    "duration": 412,
    "start_time": "2023-07-21T21:40:09.547Z"
   },
   {
    "duration": 6,
    "start_time": "2023-07-21T21:40:09.961Z"
   },
   {
    "duration": 319,
    "start_time": "2023-07-21T21:40:09.968Z"
   },
   {
    "duration": 6,
    "start_time": "2023-07-21T21:40:10.289Z"
   },
   {
    "duration": 328,
    "start_time": "2023-07-21T21:40:10.296Z"
   },
   {
    "duration": 6,
    "start_time": "2023-07-21T21:40:10.625Z"
   },
   {
    "duration": 312,
    "start_time": "2023-07-21T21:40:10.632Z"
   },
   {
    "duration": 6,
    "start_time": "2023-07-21T21:40:10.946Z"
   },
   {
    "duration": 304,
    "start_time": "2023-07-21T21:40:10.954Z"
   },
   {
    "duration": 283,
    "start_time": "2023-07-21T21:40:11.260Z"
   },
   {
    "duration": 5,
    "start_time": "2023-07-21T21:40:11.544Z"
   },
   {
    "duration": 298,
    "start_time": "2023-07-21T21:40:11.551Z"
   },
   {
    "duration": 5,
    "start_time": "2023-07-21T21:40:11.850Z"
   },
   {
    "duration": 466,
    "start_time": "2023-07-21T21:40:11.857Z"
   },
   {
    "duration": 5,
    "start_time": "2023-07-21T21:40:12.324Z"
   },
   {
    "duration": 25,
    "start_time": "2023-07-21T21:40:12.331Z"
   },
   {
    "duration": 33,
    "start_time": "2023-07-21T21:40:12.358Z"
   },
   {
    "duration": 42,
    "start_time": "2023-07-21T21:40:12.393Z"
   },
   {
    "duration": 302,
    "start_time": "2023-07-21T21:40:12.437Z"
   },
   {
    "duration": 3,
    "start_time": "2023-07-21T21:40:12.741Z"
   },
   {
    "duration": 582,
    "start_time": "2023-07-22T09:58:31.665Z"
   },
   {
    "duration": 283,
    "start_time": "2023-07-22T09:58:32.250Z"
   },
   {
    "duration": 2940,
    "start_time": "2023-07-22T09:58:32.535Z"
   },
   {
    "duration": 22,
    "start_time": "2023-07-22T09:58:35.478Z"
   },
   {
    "duration": 6,
    "start_time": "2023-07-22T09:58:35.502Z"
   },
   {
    "duration": 283,
    "start_time": "2023-07-22T09:58:35.510Z"
   },
   {
    "duration": 13,
    "start_time": "2023-07-22T09:58:35.798Z"
   },
   {
    "duration": 8,
    "start_time": "2023-07-22T09:58:35.814Z"
   },
   {
    "duration": 8,
    "start_time": "2023-07-22T09:58:35.824Z"
   },
   {
    "duration": 8,
    "start_time": "2023-07-22T09:58:35.835Z"
   },
   {
    "duration": 26,
    "start_time": "2023-07-22T09:58:35.845Z"
   },
   {
    "duration": 30,
    "start_time": "2023-07-22T09:58:35.873Z"
   },
   {
    "duration": 17,
    "start_time": "2023-07-22T09:58:35.905Z"
   },
   {
    "duration": 13,
    "start_time": "2023-07-22T09:58:35.923Z"
   },
   {
    "duration": 22,
    "start_time": "2023-07-22T09:58:35.938Z"
   },
   {
    "duration": 7,
    "start_time": "2023-07-22T09:58:35.962Z"
   },
   {
    "duration": 21,
    "start_time": "2023-07-22T09:58:35.971Z"
   },
   {
    "duration": 15,
    "start_time": "2023-07-22T09:58:35.994Z"
   },
   {
    "duration": 61,
    "start_time": "2023-07-22T09:58:36.011Z"
   },
   {
    "duration": 234,
    "start_time": "2023-07-22T09:58:36.074Z"
   },
   {
    "duration": 12,
    "start_time": "2023-07-22T09:58:36.310Z"
   },
   {
    "duration": 8,
    "start_time": "2023-07-22T09:58:36.324Z"
   },
   {
    "duration": 14,
    "start_time": "2023-07-22T09:58:36.334Z"
   },
   {
    "duration": 23,
    "start_time": "2023-07-22T09:58:36.352Z"
   },
   {
    "duration": 14,
    "start_time": "2023-07-22T09:58:36.377Z"
   },
   {
    "duration": 22,
    "start_time": "2023-07-22T09:58:36.393Z"
   },
   {
    "duration": 78,
    "start_time": "2023-07-22T09:58:36.422Z"
   },
   {
    "duration": 283,
    "start_time": "2023-07-22T09:58:36.506Z"
   },
   {
    "duration": 14,
    "start_time": "2023-07-22T09:58:36.793Z"
   },
   {
    "duration": 340,
    "start_time": "2023-07-22T09:58:36.809Z"
   },
   {
    "duration": 430,
    "start_time": "2023-07-22T09:58:37.154Z"
   },
   {
    "duration": 133,
    "start_time": "2023-07-22T09:58:37.589Z"
   },
   {
    "duration": 136,
    "start_time": "2023-07-22T09:58:37.724Z"
   },
   {
    "duration": 33,
    "start_time": "2023-07-22T09:58:37.861Z"
   },
   {
    "duration": 6,
    "start_time": "2023-07-22T09:58:37.896Z"
   },
   {
    "duration": 8,
    "start_time": "2023-07-22T09:58:37.904Z"
   },
   {
    "duration": 11,
    "start_time": "2023-07-22T09:58:37.915Z"
   },
   {
    "duration": 393,
    "start_time": "2023-07-22T09:58:37.928Z"
   },
   {
    "duration": 25,
    "start_time": "2023-07-22T09:58:38.323Z"
   },
   {
    "duration": 171,
    "start_time": "2023-07-22T09:58:38.350Z"
   },
   {
    "duration": 178,
    "start_time": "2023-07-22T09:58:38.523Z"
   },
   {
    "duration": 218,
    "start_time": "2023-07-22T09:58:38.703Z"
   },
   {
    "duration": 415,
    "start_time": "2023-07-22T09:58:38.923Z"
   },
   {
    "duration": 239,
    "start_time": "2023-07-22T09:58:39.339Z"
   },
   {
    "duration": 261,
    "start_time": "2023-07-22T09:58:39.580Z"
   },
   {
    "duration": 182,
    "start_time": "2023-07-22T09:58:39.843Z"
   },
   {
    "duration": 216,
    "start_time": "2023-07-22T09:58:40.027Z"
   },
   {
    "duration": 216,
    "start_time": "2023-07-22T09:58:40.245Z"
   },
   {
    "duration": 239,
    "start_time": "2023-07-22T09:58:40.463Z"
   },
   {
    "duration": 208,
    "start_time": "2023-07-22T09:58:40.704Z"
   },
   {
    "duration": 192,
    "start_time": "2023-07-22T09:58:40.913Z"
   },
   {
    "duration": 187,
    "start_time": "2023-07-22T09:58:41.108Z"
   },
   {
    "duration": 232,
    "start_time": "2023-07-22T09:58:41.299Z"
   },
   {
    "duration": 465,
    "start_time": "2023-07-22T09:58:41.533Z"
   },
   {
    "duration": 9,
    "start_time": "2023-07-22T09:58:42.000Z"
   },
   {
    "duration": 167,
    "start_time": "2023-07-22T09:58:42.011Z"
   },
   {
    "duration": 5,
    "start_time": "2023-07-22T09:58:42.179Z"
   },
   {
    "duration": 170,
    "start_time": "2023-07-22T09:58:42.186Z"
   },
   {
    "duration": 29,
    "start_time": "2023-07-22T09:58:42.358Z"
   },
   {
    "duration": 177,
    "start_time": "2023-07-22T09:58:42.389Z"
   },
   {
    "duration": 7,
    "start_time": "2023-07-22T09:58:42.572Z"
   },
   {
    "duration": 264,
    "start_time": "2023-07-22T09:58:42.589Z"
   },
   {
    "duration": 23,
    "start_time": "2023-07-22T09:58:42.856Z"
   },
   {
    "duration": 246,
    "start_time": "2023-07-22T09:58:42.882Z"
   },
   {
    "duration": 227,
    "start_time": "2023-07-22T09:58:43.131Z"
   },
   {
    "duration": 17,
    "start_time": "2023-07-22T09:58:43.361Z"
   },
   {
    "duration": 240,
    "start_time": "2023-07-22T09:58:43.381Z"
   },
   {
    "duration": 7,
    "start_time": "2023-07-22T09:58:43.623Z"
   },
   {
    "duration": 218,
    "start_time": "2023-07-22T09:58:43.633Z"
   },
   {
    "duration": 28,
    "start_time": "2023-07-22T09:58:43.853Z"
   },
   {
    "duration": 24,
    "start_time": "2023-07-22T09:58:43.887Z"
   },
   {
    "duration": 10,
    "start_time": "2023-07-22T09:58:43.914Z"
   },
   {
    "duration": 49,
    "start_time": "2023-07-22T09:58:43.926Z"
   },
   {
    "duration": 247,
    "start_time": "2023-07-22T09:58:43.977Z"
   },
   {
    "duration": 5,
    "start_time": "2023-07-22T09:58:44.226Z"
   },
   {
    "duration": 26,
    "start_time": "2023-07-22T09:59:38.403Z"
   },
   {
    "duration": 481,
    "start_time": "2023-07-22T09:59:54.045Z"
   },
   {
    "duration": 134,
    "start_time": "2023-07-22T09:59:54.528Z"
   },
   {
    "duration": 30,
    "start_time": "2023-07-22T09:59:54.664Z"
   },
   {
    "duration": 2236,
    "start_time": "2023-07-22T09:59:54.696Z"
   },
   {
    "duration": 12,
    "start_time": "2023-07-22T09:59:56.934Z"
   },
   {
    "duration": 5,
    "start_time": "2023-07-22T09:59:56.948Z"
   },
   {
    "duration": 267,
    "start_time": "2023-07-22T09:59:56.955Z"
   },
   {
    "duration": 6,
    "start_time": "2023-07-22T09:59:57.224Z"
   },
   {
    "duration": 7,
    "start_time": "2023-07-22T09:59:57.233Z"
   },
   {
    "duration": 26,
    "start_time": "2023-07-22T09:59:57.244Z"
   },
   {
    "duration": 6,
    "start_time": "2023-07-22T09:59:57.273Z"
   },
   {
    "duration": 17,
    "start_time": "2023-07-22T09:59:57.282Z"
   },
   {
    "duration": 17,
    "start_time": "2023-07-22T09:59:57.301Z"
   },
   {
    "duration": 10,
    "start_time": "2023-07-22T09:59:57.320Z"
   },
   {
    "duration": 42,
    "start_time": "2023-07-22T09:59:57.332Z"
   },
   {
    "duration": 15,
    "start_time": "2023-07-22T09:59:57.376Z"
   },
   {
    "duration": 7,
    "start_time": "2023-07-22T09:59:57.393Z"
   },
   {
    "duration": 16,
    "start_time": "2023-07-22T09:59:57.402Z"
   },
   {
    "duration": 17,
    "start_time": "2023-07-22T09:59:57.420Z"
   },
   {
    "duration": 78,
    "start_time": "2023-07-22T09:59:57.439Z"
   },
   {
    "duration": 181,
    "start_time": "2023-07-22T09:59:57.519Z"
   },
   {
    "duration": 13,
    "start_time": "2023-07-22T09:59:57.702Z"
   },
   {
    "duration": 24,
    "start_time": "2023-07-22T09:59:57.717Z"
   },
   {
    "duration": 11,
    "start_time": "2023-07-22T09:59:57.743Z"
   },
   {
    "duration": 19,
    "start_time": "2023-07-22T09:59:57.756Z"
   },
   {
    "duration": 10,
    "start_time": "2023-07-22T09:59:57.777Z"
   },
   {
    "duration": 27,
    "start_time": "2023-07-22T09:59:57.788Z"
   },
   {
    "duration": 111,
    "start_time": "2023-07-22T09:59:57.821Z"
   },
   {
    "duration": 190,
    "start_time": "2023-07-22T09:59:57.934Z"
   },
   {
    "duration": 11,
    "start_time": "2023-07-22T09:59:58.127Z"
   },
   {
    "duration": 407,
    "start_time": "2023-07-22T09:59:58.141Z"
   },
   {
    "duration": 463,
    "start_time": "2023-07-22T09:59:58.550Z"
   },
   {
    "duration": 174,
    "start_time": "2023-07-22T09:59:59.014Z"
   },
   {
    "duration": 159,
    "start_time": "2023-07-22T09:59:59.189Z"
   },
   {
    "duration": 31,
    "start_time": "2023-07-22T09:59:59.351Z"
   },
   {
    "duration": 7,
    "start_time": "2023-07-22T09:59:59.383Z"
   },
   {
    "duration": 6,
    "start_time": "2023-07-22T09:59:59.392Z"
   },
   {
    "duration": 12,
    "start_time": "2023-07-22T09:59:59.400Z"
   },
   {
    "duration": 381,
    "start_time": "2023-07-22T09:59:59.413Z"
   },
   {
    "duration": 29,
    "start_time": "2023-07-22T09:59:59.796Z"
   },
   {
    "duration": 221,
    "start_time": "2023-07-22T09:59:59.827Z"
   },
   {
    "duration": 209,
    "start_time": "2023-07-22T10:00:00.052Z"
   },
   {
    "duration": 200,
    "start_time": "2023-07-22T10:00:00.263Z"
   },
   {
    "duration": 273,
    "start_time": "2023-07-22T10:00:00.467Z"
   },
   {
    "duration": 304,
    "start_time": "2023-07-22T10:00:00.742Z"
   },
   {
    "duration": 192,
    "start_time": "2023-07-22T10:00:01.048Z"
   },
   {
    "duration": 179,
    "start_time": "2023-07-22T10:00:01.242Z"
   },
   {
    "duration": 146,
    "start_time": "2023-07-22T10:00:01.422Z"
   },
   {
    "duration": 178,
    "start_time": "2023-07-22T10:00:01.572Z"
   },
   {
    "duration": 185,
    "start_time": "2023-07-22T10:00:01.753Z"
   },
   {
    "duration": 200,
    "start_time": "2023-07-22T10:00:01.940Z"
   },
   {
    "duration": 248,
    "start_time": "2023-07-22T10:00:02.142Z"
   },
   {
    "duration": 225,
    "start_time": "2023-07-22T10:00:02.391Z"
   },
   {
    "duration": 195,
    "start_time": "2023-07-22T10:00:02.618Z"
   },
   {
    "duration": 442,
    "start_time": "2023-07-22T10:00:02.815Z"
   },
   {
    "duration": 18,
    "start_time": "2023-07-22T10:00:03.259Z"
   },
   {
    "duration": 204,
    "start_time": "2023-07-22T10:00:03.279Z"
   },
   {
    "duration": 6,
    "start_time": "2023-07-22T10:00:03.487Z"
   },
   {
    "duration": 192,
    "start_time": "2023-07-22T10:00:03.495Z"
   },
   {
    "duration": 6,
    "start_time": "2023-07-22T10:00:03.689Z"
   },
   {
    "duration": 145,
    "start_time": "2023-07-22T10:00:03.696Z"
   },
   {
    "duration": 5,
    "start_time": "2023-07-22T10:00:03.843Z"
   },
   {
    "duration": 168,
    "start_time": "2023-07-22T10:00:03.850Z"
   },
   {
    "duration": 9,
    "start_time": "2023-07-22T10:00:04.020Z"
   },
   {
    "duration": 195,
    "start_time": "2023-07-22T10:00:04.031Z"
   },
   {
    "duration": 157,
    "start_time": "2023-07-22T10:00:04.228Z"
   },
   {
    "duration": 6,
    "start_time": "2023-07-22T10:00:04.387Z"
   },
   {
    "duration": 165,
    "start_time": "2023-07-22T10:00:04.395Z"
   },
   {
    "duration": 20,
    "start_time": "2023-07-22T10:00:04.562Z"
   },
   {
    "duration": 140,
    "start_time": "2023-07-22T10:00:04.584Z"
   },
   {
    "duration": 6,
    "start_time": "2023-07-22T10:00:04.726Z"
   },
   {
    "duration": 48,
    "start_time": "2023-07-22T10:00:04.734Z"
   },
   {
    "duration": 11,
    "start_time": "2023-07-22T10:00:04.786Z"
   },
   {
    "duration": 26,
    "start_time": "2023-07-22T10:00:04.799Z"
   },
   {
    "duration": 163,
    "start_time": "2023-07-22T10:00:04.827Z"
   },
   {
    "duration": 3,
    "start_time": "2023-07-22T10:00:04.993Z"
   },
   {
    "duration": 2581,
    "start_time": "2023-07-22T10:01:47.321Z"
   },
   {
    "duration": 431,
    "start_time": "2023-07-22T10:04:04.401Z"
   },
   {
    "duration": 134,
    "start_time": "2023-07-22T10:04:04.834Z"
   },
   {
    "duration": 35,
    "start_time": "2023-07-22T10:04:04.971Z"
   },
   {
    "duration": 2468,
    "start_time": "2023-07-22T10:04:05.008Z"
   },
   {
    "duration": 9,
    "start_time": "2023-07-22T10:04:07.477Z"
   },
   {
    "duration": 10,
    "start_time": "2023-07-22T10:04:07.488Z"
   },
   {
    "duration": 274,
    "start_time": "2023-07-22T10:04:07.500Z"
   },
   {
    "duration": 6,
    "start_time": "2023-07-22T10:04:07.776Z"
   },
   {
    "duration": 28,
    "start_time": "2023-07-22T10:04:07.784Z"
   },
   {
    "duration": 11,
    "start_time": "2023-07-22T10:04:07.815Z"
   },
   {
    "duration": 7,
    "start_time": "2023-07-22T10:04:07.828Z"
   },
   {
    "duration": 19,
    "start_time": "2023-07-22T10:04:07.837Z"
   },
   {
    "duration": 19,
    "start_time": "2023-07-22T10:04:07.858Z"
   },
   {
    "duration": 11,
    "start_time": "2023-07-22T10:04:07.879Z"
   },
   {
    "duration": 10,
    "start_time": "2023-07-22T10:04:07.892Z"
   },
   {
    "duration": 17,
    "start_time": "2023-07-22T10:04:07.904Z"
   },
   {
    "duration": 8,
    "start_time": "2023-07-22T10:04:07.923Z"
   },
   {
    "duration": 37,
    "start_time": "2023-07-22T10:04:07.933Z"
   },
   {
    "duration": 10,
    "start_time": "2023-07-22T10:04:07.972Z"
   },
   {
    "duration": 32,
    "start_time": "2023-07-22T10:04:07.983Z"
   },
   {
    "duration": 179,
    "start_time": "2023-07-22T10:04:08.017Z"
   },
   {
    "duration": 8,
    "start_time": "2023-07-22T10:04:08.197Z"
   },
   {
    "duration": 7,
    "start_time": "2023-07-22T10:04:08.208Z"
   },
   {
    "duration": 19,
    "start_time": "2023-07-22T10:04:08.217Z"
   },
   {
    "duration": 11,
    "start_time": "2023-07-22T10:04:08.238Z"
   },
   {
    "duration": 24,
    "start_time": "2023-07-22T10:04:08.251Z"
   },
   {
    "duration": 14,
    "start_time": "2023-07-22T10:04:08.277Z"
   },
   {
    "duration": 79,
    "start_time": "2023-07-22T10:04:08.296Z"
   },
   {
    "duration": 236,
    "start_time": "2023-07-22T10:04:08.378Z"
   },
   {
    "duration": 14,
    "start_time": "2023-07-22T10:04:08.617Z"
   },
   {
    "duration": 277,
    "start_time": "2023-07-22T10:04:08.632Z"
   },
   {
    "duration": 385,
    "start_time": "2023-07-22T10:04:08.911Z"
   },
   {
    "duration": 151,
    "start_time": "2023-07-22T10:04:09.298Z"
   },
   {
    "duration": 157,
    "start_time": "2023-07-22T10:04:09.452Z"
   },
   {
    "duration": 19,
    "start_time": "2023-07-22T10:04:09.611Z"
   },
   {
    "duration": 5,
    "start_time": "2023-07-22T10:04:09.632Z"
   },
   {
    "duration": 8,
    "start_time": "2023-07-22T10:04:09.638Z"
   },
   {
    "duration": 31,
    "start_time": "2023-07-22T10:04:09.647Z"
   },
   {
    "duration": 283,
    "start_time": "2023-07-22T10:04:09.680Z"
   },
   {
    "duration": 26,
    "start_time": "2023-07-22T10:04:09.965Z"
   },
   {
    "duration": 165,
    "start_time": "2023-07-22T10:04:09.993Z"
   },
   {
    "duration": 172,
    "start_time": "2023-07-22T10:04:10.160Z"
   },
   {
    "duration": 175,
    "start_time": "2023-07-22T10:04:10.333Z"
   },
   {
    "duration": 271,
    "start_time": "2023-07-22T10:04:10.509Z"
   },
   {
    "duration": 252,
    "start_time": "2023-07-22T10:04:10.781Z"
   },
   {
    "duration": 186,
    "start_time": "2023-07-22T10:04:11.035Z"
   },
   {
    "duration": 163,
    "start_time": "2023-07-22T10:04:11.223Z"
   },
   {
    "duration": 163,
    "start_time": "2023-07-22T10:04:11.388Z"
   },
   {
    "duration": 162,
    "start_time": "2023-07-22T10:04:11.553Z"
   },
   {
    "duration": 171,
    "start_time": "2023-07-22T10:04:11.717Z"
   },
   {
    "duration": 171,
    "start_time": "2023-07-22T10:04:11.889Z"
   },
   {
    "duration": 178,
    "start_time": "2023-07-22T10:04:12.062Z"
   },
   {
    "duration": 161,
    "start_time": "2023-07-22T10:04:12.242Z"
   },
   {
    "duration": 148,
    "start_time": "2023-07-22T10:04:12.405Z"
   },
   {
    "duration": 416,
    "start_time": "2023-07-22T10:04:12.555Z"
   },
   {
    "duration": 6,
    "start_time": "2023-07-22T10:04:12.973Z"
   },
   {
    "duration": 192,
    "start_time": "2023-07-22T10:04:12.981Z"
   },
   {
    "duration": 6,
    "start_time": "2023-07-22T10:04:13.174Z"
   },
   {
    "duration": 164,
    "start_time": "2023-07-22T10:04:13.181Z"
   },
   {
    "duration": 6,
    "start_time": "2023-07-22T10:04:13.347Z"
   },
   {
    "duration": 169,
    "start_time": "2023-07-22T10:04:13.354Z"
   },
   {
    "duration": 6,
    "start_time": "2023-07-22T10:04:13.524Z"
   },
   {
    "duration": 148,
    "start_time": "2023-07-22T10:04:13.531Z"
   },
   {
    "duration": 7,
    "start_time": "2023-07-22T10:04:13.680Z"
   },
   {
    "duration": 152,
    "start_time": "2023-07-22T10:04:13.688Z"
   },
   {
    "duration": 235,
    "start_time": "2023-07-22T10:04:13.842Z"
   },
   {
    "duration": 6,
    "start_time": "2023-07-22T10:04:14.079Z"
   },
   {
    "duration": 179,
    "start_time": "2023-07-22T10:04:14.087Z"
   },
   {
    "duration": 7,
    "start_time": "2023-07-22T10:04:14.269Z"
   },
   {
    "duration": 152,
    "start_time": "2023-07-22T10:04:14.278Z"
   },
   {
    "duration": 5,
    "start_time": "2023-07-22T10:04:14.432Z"
   },
   {
    "duration": 32,
    "start_time": "2023-07-22T10:04:14.439Z"
   },
   {
    "duration": 7,
    "start_time": "2023-07-22T10:04:14.473Z"
   },
   {
    "duration": 25,
    "start_time": "2023-07-22T10:04:14.482Z"
   },
   {
    "duration": 148,
    "start_time": "2023-07-22T10:04:14.509Z"
   },
   {
    "duration": 3,
    "start_time": "2023-07-22T10:04:14.668Z"
   },
   {
    "duration": 87,
    "start_time": "2023-07-22T10:12:21.172Z"
   },
   {
    "duration": 5,
    "start_time": "2023-07-22T10:12:47.701Z"
   },
   {
    "duration": 23,
    "start_time": "2023-07-22T10:19:46.371Z"
   },
   {
    "duration": 46,
    "start_time": "2023-07-22T10:20:04.797Z"
   },
   {
    "duration": 41,
    "start_time": "2023-07-22T10:20:24.923Z"
   },
   {
    "duration": 450,
    "start_time": "2023-07-22T10:20:33.812Z"
   },
   {
    "duration": 128,
    "start_time": "2023-07-22T10:20:34.268Z"
   },
   {
    "duration": 30,
    "start_time": "2023-07-22T10:20:34.397Z"
   },
   {
    "duration": 2139,
    "start_time": "2023-07-22T10:20:34.429Z"
   },
   {
    "duration": 9,
    "start_time": "2023-07-22T10:20:36.570Z"
   },
   {
    "duration": 7,
    "start_time": "2023-07-22T10:20:36.581Z"
   },
   {
    "duration": 238,
    "start_time": "2023-07-22T10:20:36.589Z"
   },
   {
    "duration": 71,
    "start_time": "2023-07-22T10:20:36.829Z"
   },
   {
    "duration": 6,
    "start_time": "2023-07-22T10:20:36.902Z"
   },
   {
    "duration": 7,
    "start_time": "2023-07-22T10:20:36.909Z"
   },
   {
    "duration": 14,
    "start_time": "2023-07-22T10:20:36.918Z"
   },
   {
    "duration": 5,
    "start_time": "2023-07-22T10:20:36.933Z"
   },
   {
    "duration": 14,
    "start_time": "2023-07-22T10:20:36.939Z"
   },
   {
    "duration": 13,
    "start_time": "2023-07-22T10:20:36.969Z"
   },
   {
    "duration": 12,
    "start_time": "2023-07-22T10:20:36.983Z"
   },
   {
    "duration": 8,
    "start_time": "2023-07-22T10:20:36.997Z"
   },
   {
    "duration": 13,
    "start_time": "2023-07-22T10:20:37.006Z"
   },
   {
    "duration": 6,
    "start_time": "2023-07-22T10:20:37.020Z"
   },
   {
    "duration": 41,
    "start_time": "2023-07-22T10:20:37.027Z"
   },
   {
    "duration": 13,
    "start_time": "2023-07-22T10:20:37.070Z"
   },
   {
    "duration": 30,
    "start_time": "2023-07-22T10:20:37.084Z"
   },
   {
    "duration": 210,
    "start_time": "2023-07-22T10:20:37.116Z"
   },
   {
    "duration": 7,
    "start_time": "2023-07-22T10:20:37.327Z"
   },
   {
    "duration": 18,
    "start_time": "2023-07-22T10:20:37.336Z"
   },
   {
    "duration": 20,
    "start_time": "2023-07-22T10:20:37.355Z"
   },
   {
    "duration": 8,
    "start_time": "2023-07-22T10:20:37.377Z"
   },
   {
    "duration": 9,
    "start_time": "2023-07-22T10:20:37.387Z"
   },
   {
    "duration": 13,
    "start_time": "2023-07-22T10:20:37.398Z"
   },
   {
    "duration": 86,
    "start_time": "2023-07-22T10:20:37.412Z"
   },
   {
    "duration": 243,
    "start_time": "2023-07-22T10:20:37.499Z"
   },
   {
    "duration": 12,
    "start_time": "2023-07-22T10:20:37.744Z"
   },
   {
    "duration": 301,
    "start_time": "2023-07-22T10:20:37.758Z"
   },
   {
    "duration": 380,
    "start_time": "2023-07-22T10:20:38.061Z"
   },
   {
    "duration": 132,
    "start_time": "2023-07-22T10:20:38.443Z"
   },
   {
    "duration": 133,
    "start_time": "2023-07-22T10:20:38.577Z"
   },
   {
    "duration": 17,
    "start_time": "2023-07-22T10:20:38.711Z"
   },
   {
    "duration": 5,
    "start_time": "2023-07-22T10:20:38.729Z"
   },
   {
    "duration": 33,
    "start_time": "2023-07-22T10:20:38.735Z"
   },
   {
    "duration": 10,
    "start_time": "2023-07-22T10:20:38.770Z"
   },
   {
    "duration": 327,
    "start_time": "2023-07-22T10:20:38.782Z"
   },
   {
    "duration": 25,
    "start_time": "2023-07-22T10:20:39.113Z"
   },
   {
    "duration": 165,
    "start_time": "2023-07-22T10:20:39.139Z"
   },
   {
    "duration": 165,
    "start_time": "2023-07-22T10:20:39.305Z"
   },
   {
    "duration": 184,
    "start_time": "2023-07-22T10:20:39.472Z"
   },
   {
    "duration": 248,
    "start_time": "2023-07-22T10:20:39.658Z"
   },
   {
    "duration": 243,
    "start_time": "2023-07-22T10:20:39.909Z"
   },
   {
    "duration": 165,
    "start_time": "2023-07-22T10:20:40.154Z"
   },
   {
    "duration": 187,
    "start_time": "2023-07-22T10:20:40.320Z"
   },
   {
    "duration": 138,
    "start_time": "2023-07-22T10:20:40.510Z"
   },
   {
    "duration": 252,
    "start_time": "2023-07-22T10:20:40.650Z"
   },
   {
    "duration": 167,
    "start_time": "2023-07-22T10:20:40.904Z"
   },
   {
    "duration": 169,
    "start_time": "2023-07-22T10:20:41.073Z"
   },
   {
    "duration": 167,
    "start_time": "2023-07-22T10:20:41.244Z"
   },
   {
    "duration": 156,
    "start_time": "2023-07-22T10:20:41.413Z"
   },
   {
    "duration": 152,
    "start_time": "2023-07-22T10:20:41.571Z"
   },
   {
    "duration": 320,
    "start_time": "2023-07-22T10:20:41.725Z"
   },
   {
    "duration": 6,
    "start_time": "2023-07-22T10:20:42.047Z"
   },
   {
    "duration": 145,
    "start_time": "2023-07-22T10:20:42.068Z"
   },
   {
    "duration": 6,
    "start_time": "2023-07-22T10:20:42.215Z"
   },
   {
    "duration": 167,
    "start_time": "2023-07-22T10:20:42.224Z"
   },
   {
    "duration": 6,
    "start_time": "2023-07-22T10:20:42.393Z"
   },
   {
    "duration": 181,
    "start_time": "2023-07-22T10:20:42.401Z"
   },
   {
    "duration": 5,
    "start_time": "2023-07-22T10:20:42.583Z"
   },
   {
    "duration": 165,
    "start_time": "2023-07-22T10:20:42.590Z"
   },
   {
    "duration": 12,
    "start_time": "2023-07-22T10:20:42.757Z"
   },
   {
    "duration": 188,
    "start_time": "2023-07-22T10:20:42.771Z"
   },
   {
    "duration": 162,
    "start_time": "2023-07-22T10:20:42.961Z"
   },
   {
    "duration": 5,
    "start_time": "2023-07-22T10:20:43.125Z"
   },
   {
    "duration": 141,
    "start_time": "2023-07-22T10:20:43.132Z"
   },
   {
    "duration": 4,
    "start_time": "2023-07-22T10:20:43.275Z"
   },
   {
    "duration": 147,
    "start_time": "2023-07-22T10:20:43.281Z"
   },
   {
    "duration": 6,
    "start_time": "2023-07-22T10:20:43.429Z"
   },
   {
    "duration": 35,
    "start_time": "2023-07-22T10:20:43.436Z"
   },
   {
    "duration": 7,
    "start_time": "2023-07-22T10:20:43.473Z"
   },
   {
    "duration": 21,
    "start_time": "2023-07-22T10:20:43.482Z"
   },
   {
    "duration": 147,
    "start_time": "2023-07-22T10:20:43.505Z"
   },
   {
    "duration": 16,
    "start_time": "2023-07-22T10:20:43.653Z"
   },
   {
    "duration": 10,
    "start_time": "2023-07-22T10:21:15.665Z"
   },
   {
    "duration": 58,
    "start_time": "2023-07-22T10:22:38.795Z"
   },
   {
    "duration": 14,
    "start_time": "2023-07-22T10:22:40.830Z"
   },
   {
    "duration": 42,
    "start_time": "2023-07-22T10:24:41.677Z"
   },
   {
    "duration": 10,
    "start_time": "2023-07-22T10:24:43.244Z"
   },
   {
    "duration": 5,
    "start_time": "2023-07-22T10:25:06.271Z"
   },
   {
    "duration": 19,
    "start_time": "2023-07-22T10:28:36.846Z"
   },
   {
    "duration": 5,
    "start_time": "2023-07-22T10:28:42.074Z"
   },
   {
    "duration": 18,
    "start_time": "2023-07-22T10:28:46.997Z"
   },
   {
    "duration": 6,
    "start_time": "2023-07-22T10:28:48.959Z"
   },
   {
    "duration": 12,
    "start_time": "2023-07-22T10:28:59.232Z"
   },
   {
    "duration": 6,
    "start_time": "2023-07-22T10:29:00.204Z"
   },
   {
    "duration": 47,
    "start_time": "2023-07-22T10:29:20.224Z"
   },
   {
    "duration": 1818,
    "start_time": "2023-07-22T10:31:42.648Z"
   },
   {
    "duration": 1730,
    "start_time": "2023-07-22T10:37:50.918Z"
   },
   {
    "duration": 1819,
    "start_time": "2023-07-22T10:38:01.499Z"
   },
   {
    "duration": 883,
    "start_time": "2023-07-22T10:38:05.104Z"
   },
   {
    "duration": 4,
    "start_time": "2023-07-22T10:38:34.701Z"
   },
   {
    "duration": 18,
    "start_time": "2023-07-22T10:38:45.599Z"
   },
   {
    "duration": 4,
    "start_time": "2023-07-22T10:38:58.021Z"
   },
   {
    "duration": 385,
    "start_time": "2023-07-22T10:39:09.834Z"
   },
   {
    "duration": 105,
    "start_time": "2023-07-22T10:39:10.221Z"
   },
   {
    "duration": 42,
    "start_time": "2023-07-22T10:39:10.327Z"
   },
   {
    "duration": 2111,
    "start_time": "2023-07-22T10:39:10.372Z"
   },
   {
    "duration": 9,
    "start_time": "2023-07-22T10:39:12.485Z"
   },
   {
    "duration": 6,
    "start_time": "2023-07-22T10:39:12.496Z"
   },
   {
    "duration": 221,
    "start_time": "2023-07-22T10:39:12.504Z"
   },
   {
    "duration": 53,
    "start_time": "2023-07-22T10:39:12.726Z"
   },
   {
    "duration": 7,
    "start_time": "2023-07-22T10:39:12.780Z"
   },
   {
    "duration": 10,
    "start_time": "2023-07-22T10:39:12.790Z"
   },
   {
    "duration": 13,
    "start_time": "2023-07-22T10:39:12.801Z"
   },
   {
    "duration": 5,
    "start_time": "2023-07-22T10:39:12.816Z"
   },
   {
    "duration": 16,
    "start_time": "2023-07-22T10:39:12.823Z"
   },
   {
    "duration": 29,
    "start_time": "2023-07-22T10:39:12.840Z"
   },
   {
    "duration": 7,
    "start_time": "2023-07-22T10:39:12.871Z"
   },
   {
    "duration": 13,
    "start_time": "2023-07-22T10:39:12.880Z"
   },
   {
    "duration": 5,
    "start_time": "2023-07-22T10:39:12.894Z"
   },
   {
    "duration": 10,
    "start_time": "2023-07-22T10:39:12.900Z"
   },
   {
    "duration": 24,
    "start_time": "2023-07-22T10:39:12.911Z"
   },
   {
    "duration": 12,
    "start_time": "2023-07-22T10:39:12.937Z"
   },
   {
    "duration": 54,
    "start_time": "2023-07-22T10:39:12.950Z"
   },
   {
    "duration": 179,
    "start_time": "2023-07-22T10:39:13.006Z"
   },
   {
    "duration": 7,
    "start_time": "2023-07-22T10:39:13.186Z"
   },
   {
    "duration": 8,
    "start_time": "2023-07-22T10:39:13.195Z"
   },
   {
    "duration": 10,
    "start_time": "2023-07-22T10:39:13.204Z"
   },
   {
    "duration": 11,
    "start_time": "2023-07-22T10:39:13.216Z"
   },
   {
    "duration": 43,
    "start_time": "2023-07-22T10:39:13.229Z"
   },
   {
    "duration": 12,
    "start_time": "2023-07-22T10:39:13.276Z"
   },
   {
    "duration": 84,
    "start_time": "2023-07-22T10:39:13.290Z"
   },
   {
    "duration": 165,
    "start_time": "2023-07-22T10:39:13.376Z"
   },
   {
    "duration": 11,
    "start_time": "2023-07-22T10:39:13.544Z"
   },
   {
    "duration": 287,
    "start_time": "2023-07-22T10:39:13.557Z"
   },
   {
    "duration": 451,
    "start_time": "2023-07-22T10:39:13.845Z"
   },
   {
    "duration": 142,
    "start_time": "2023-07-22T10:39:14.298Z"
   },
   {
    "duration": 133,
    "start_time": "2023-07-22T10:39:14.442Z"
   },
   {
    "duration": 15,
    "start_time": "2023-07-22T10:39:14.577Z"
   },
   {
    "duration": 40,
    "start_time": "2023-07-22T10:39:14.593Z"
   },
   {
    "duration": 19,
    "start_time": "2023-07-22T10:39:14.634Z"
   },
   {
    "duration": 8,
    "start_time": "2023-07-22T10:39:14.655Z"
   },
   {
    "duration": 295,
    "start_time": "2023-07-22T10:39:14.664Z"
   },
   {
    "duration": 26,
    "start_time": "2023-07-22T10:39:14.961Z"
   },
   {
    "duration": 186,
    "start_time": "2023-07-22T10:39:14.989Z"
   },
   {
    "duration": 169,
    "start_time": "2023-07-22T10:39:15.177Z"
   },
   {
    "duration": 171,
    "start_time": "2023-07-22T10:39:15.348Z"
   },
   {
    "duration": 238,
    "start_time": "2023-07-22T10:39:15.522Z"
   },
   {
    "duration": 264,
    "start_time": "2023-07-22T10:39:15.762Z"
   },
   {
    "duration": 193,
    "start_time": "2023-07-22T10:39:16.028Z"
   },
   {
    "duration": 166,
    "start_time": "2023-07-22T10:39:16.223Z"
   },
   {
    "duration": 135,
    "start_time": "2023-07-22T10:39:16.391Z"
   },
   {
    "duration": 161,
    "start_time": "2023-07-22T10:39:16.527Z"
   },
   {
    "duration": 167,
    "start_time": "2023-07-22T10:39:16.690Z"
   },
   {
    "duration": 177,
    "start_time": "2023-07-22T10:39:16.858Z"
   },
   {
    "duration": 209,
    "start_time": "2023-07-22T10:39:17.036Z"
   },
   {
    "duration": 155,
    "start_time": "2023-07-22T10:39:17.247Z"
   },
   {
    "duration": 153,
    "start_time": "2023-07-22T10:39:17.404Z"
   },
   {
    "duration": 311,
    "start_time": "2023-07-22T10:39:17.559Z"
   },
   {
    "duration": 6,
    "start_time": "2023-07-22T10:39:17.872Z"
   },
   {
    "duration": 154,
    "start_time": "2023-07-22T10:39:17.879Z"
   },
   {
    "duration": 5,
    "start_time": "2023-07-22T10:39:18.035Z"
   },
   {
    "duration": 164,
    "start_time": "2023-07-22T10:39:18.042Z"
   },
   {
    "duration": 6,
    "start_time": "2023-07-22T10:39:18.208Z"
   },
   {
    "duration": 157,
    "start_time": "2023-07-22T10:39:18.215Z"
   },
   {
    "duration": 6,
    "start_time": "2023-07-22T10:39:18.374Z"
   },
   {
    "duration": 155,
    "start_time": "2023-07-22T10:39:18.381Z"
   },
   {
    "duration": 5,
    "start_time": "2023-07-22T10:39:18.538Z"
   },
   {
    "duration": 158,
    "start_time": "2023-07-22T10:39:18.544Z"
   },
   {
    "duration": 141,
    "start_time": "2023-07-22T10:39:18.704Z"
   },
   {
    "duration": 7,
    "start_time": "2023-07-22T10:39:18.846Z"
   },
   {
    "duration": 144,
    "start_time": "2023-07-22T10:39:18.854Z"
   },
   {
    "duration": 6,
    "start_time": "2023-07-22T10:39:18.999Z"
   },
   {
    "duration": 147,
    "start_time": "2023-07-22T10:39:19.006Z"
   },
   {
    "duration": 14,
    "start_time": "2023-07-22T10:39:19.155Z"
   },
   {
    "duration": 21,
    "start_time": "2023-07-22T10:39:19.171Z"
   },
   {
    "duration": 7,
    "start_time": "2023-07-22T10:39:19.194Z"
   },
   {
    "duration": 31,
    "start_time": "2023-07-22T10:39:19.203Z"
   },
   {
    "duration": 173,
    "start_time": "2023-07-22T10:39:19.235Z"
   },
   {
    "duration": 3,
    "start_time": "2023-07-22T10:39:19.412Z"
   },
   {
    "duration": 14,
    "start_time": "2023-07-22T10:40:49.650Z"
   },
   {
    "duration": 3,
    "start_time": "2023-07-22T10:41:11.002Z"
   },
   {
    "duration": 16,
    "start_time": "2023-07-22T10:41:12.990Z"
   },
   {
    "duration": 6,
    "start_time": "2023-07-22T10:42:06.633Z"
   },
   {
    "duration": 43,
    "start_time": "2023-07-22T10:46:48.886Z"
   },
   {
    "duration": 3,
    "start_time": "2023-07-22T10:46:56.345Z"
   },
   {
    "duration": 15,
    "start_time": "2023-07-22T10:47:00.402Z"
   },
   {
    "duration": 75,
    "start_time": "2023-07-22T10:47:23.669Z"
   },
   {
    "duration": 10,
    "start_time": "2023-07-22T10:48:02.445Z"
   },
   {
    "duration": 52,
    "start_time": "2023-07-22T10:49:07.454Z"
   },
   {
    "duration": 13,
    "start_time": "2023-07-22T10:49:30.973Z"
   },
   {
    "duration": 407,
    "start_time": "2023-07-22T10:55:22.112Z"
   },
   {
    "duration": 112,
    "start_time": "2023-07-22T10:55:22.521Z"
   },
   {
    "duration": 38,
    "start_time": "2023-07-22T10:55:22.634Z"
   },
   {
    "duration": 2166,
    "start_time": "2023-07-22T10:55:22.674Z"
   },
   {
    "duration": 9,
    "start_time": "2023-07-22T10:55:24.842Z"
   },
   {
    "duration": 6,
    "start_time": "2023-07-22T10:55:24.852Z"
   },
   {
    "duration": 228,
    "start_time": "2023-07-22T10:55:24.860Z"
   },
   {
    "duration": 58,
    "start_time": "2023-07-22T10:55:25.090Z"
   },
   {
    "duration": 19,
    "start_time": "2023-07-22T10:55:25.150Z"
   },
   {
    "duration": 46,
    "start_time": "2023-07-22T10:55:25.171Z"
   },
   {
    "duration": 33,
    "start_time": "2023-07-22T10:55:25.218Z"
   },
   {
    "duration": 4,
    "start_time": "2023-07-22T10:55:25.253Z"
   },
   {
    "duration": 22,
    "start_time": "2023-07-22T10:55:25.258Z"
   },
   {
    "duration": 26,
    "start_time": "2023-07-22T10:55:25.281Z"
   },
   {
    "duration": 7,
    "start_time": "2023-07-22T10:55:25.309Z"
   },
   {
    "duration": 25,
    "start_time": "2023-07-22T10:55:25.317Z"
   },
   {
    "duration": 93,
    "start_time": "2023-07-22T10:55:25.343Z"
   },
   {
    "duration": 0,
    "start_time": "2023-07-22T10:55:25.440Z"
   },
   {
    "duration": 0,
    "start_time": "2023-07-22T10:55:25.441Z"
   },
   {
    "duration": 0,
    "start_time": "2023-07-22T10:55:25.443Z"
   },
   {
    "duration": 0,
    "start_time": "2023-07-22T10:55:25.444Z"
   },
   {
    "duration": 0,
    "start_time": "2023-07-22T10:55:25.445Z"
   },
   {
    "duration": 0,
    "start_time": "2023-07-22T10:55:25.446Z"
   },
   {
    "duration": 0,
    "start_time": "2023-07-22T10:55:25.447Z"
   },
   {
    "duration": 0,
    "start_time": "2023-07-22T10:55:25.448Z"
   },
   {
    "duration": 1,
    "start_time": "2023-07-22T10:55:25.449Z"
   },
   {
    "duration": 0,
    "start_time": "2023-07-22T10:55:25.468Z"
   },
   {
    "duration": 0,
    "start_time": "2023-07-22T10:55:25.469Z"
   },
   {
    "duration": 0,
    "start_time": "2023-07-22T10:55:25.470Z"
   },
   {
    "duration": 0,
    "start_time": "2023-07-22T10:55:25.472Z"
   },
   {
    "duration": 0,
    "start_time": "2023-07-22T10:55:25.473Z"
   },
   {
    "duration": 0,
    "start_time": "2023-07-22T10:55:25.474Z"
   },
   {
    "duration": 0,
    "start_time": "2023-07-22T10:55:25.475Z"
   },
   {
    "duration": 0,
    "start_time": "2023-07-22T10:55:25.476Z"
   },
   {
    "duration": 0,
    "start_time": "2023-07-22T10:55:25.478Z"
   },
   {
    "duration": 0,
    "start_time": "2023-07-22T10:55:25.479Z"
   },
   {
    "duration": 0,
    "start_time": "2023-07-22T10:55:25.480Z"
   },
   {
    "duration": 0,
    "start_time": "2023-07-22T10:55:25.481Z"
   },
   {
    "duration": 0,
    "start_time": "2023-07-22T10:55:25.483Z"
   },
   {
    "duration": 0,
    "start_time": "2023-07-22T10:55:25.484Z"
   },
   {
    "duration": 0,
    "start_time": "2023-07-22T10:55:25.485Z"
   },
   {
    "duration": 0,
    "start_time": "2023-07-22T10:55:25.487Z"
   },
   {
    "duration": 0,
    "start_time": "2023-07-22T10:55:25.488Z"
   },
   {
    "duration": 0,
    "start_time": "2023-07-22T10:55:25.489Z"
   },
   {
    "duration": 0,
    "start_time": "2023-07-22T10:55:25.490Z"
   },
   {
    "duration": 0,
    "start_time": "2023-07-22T10:55:25.491Z"
   },
   {
    "duration": 0,
    "start_time": "2023-07-22T10:55:25.493Z"
   },
   {
    "duration": 0,
    "start_time": "2023-07-22T10:55:25.494Z"
   },
   {
    "duration": 0,
    "start_time": "2023-07-22T10:55:25.495Z"
   },
   {
    "duration": 0,
    "start_time": "2023-07-22T10:55:25.496Z"
   },
   {
    "duration": 0,
    "start_time": "2023-07-22T10:55:25.498Z"
   },
   {
    "duration": 0,
    "start_time": "2023-07-22T10:55:25.499Z"
   },
   {
    "duration": 0,
    "start_time": "2023-07-22T10:55:25.500Z"
   },
   {
    "duration": 0,
    "start_time": "2023-07-22T10:55:25.501Z"
   },
   {
    "duration": 0,
    "start_time": "2023-07-22T10:55:25.502Z"
   },
   {
    "duration": 0,
    "start_time": "2023-07-22T10:55:25.503Z"
   },
   {
    "duration": 0,
    "start_time": "2023-07-22T10:55:25.504Z"
   },
   {
    "duration": 0,
    "start_time": "2023-07-22T10:55:25.505Z"
   },
   {
    "duration": 0,
    "start_time": "2023-07-22T10:55:25.506Z"
   },
   {
    "duration": 0,
    "start_time": "2023-07-22T10:55:25.569Z"
   },
   {
    "duration": 0,
    "start_time": "2023-07-22T10:55:25.569Z"
   },
   {
    "duration": 0,
    "start_time": "2023-07-22T10:55:25.570Z"
   },
   {
    "duration": 0,
    "start_time": "2023-07-22T10:55:25.571Z"
   },
   {
    "duration": 0,
    "start_time": "2023-07-22T10:55:25.572Z"
   },
   {
    "duration": 0,
    "start_time": "2023-07-22T10:55:25.573Z"
   },
   {
    "duration": 0,
    "start_time": "2023-07-22T10:55:25.574Z"
   },
   {
    "duration": 0,
    "start_time": "2023-07-22T10:55:25.575Z"
   },
   {
    "duration": 0,
    "start_time": "2023-07-22T10:55:25.576Z"
   },
   {
    "duration": 0,
    "start_time": "2023-07-22T10:55:25.577Z"
   },
   {
    "duration": 0,
    "start_time": "2023-07-22T10:55:25.577Z"
   },
   {
    "duration": 0,
    "start_time": "2023-07-22T10:55:25.578Z"
   },
   {
    "duration": 0,
    "start_time": "2023-07-22T10:55:25.579Z"
   },
   {
    "duration": 0,
    "start_time": "2023-07-22T10:55:25.580Z"
   },
   {
    "duration": 0,
    "start_time": "2023-07-22T10:55:25.581Z"
   },
   {
    "duration": 0,
    "start_time": "2023-07-22T10:55:25.581Z"
   },
   {
    "duration": 0,
    "start_time": "2023-07-22T10:55:25.582Z"
   },
   {
    "duration": 0,
    "start_time": "2023-07-22T10:55:25.583Z"
   },
   {
    "duration": 7,
    "start_time": "2023-07-22T10:56:32.662Z"
   },
   {
    "duration": 8,
    "start_time": "2023-07-22T10:57:01.072Z"
   },
   {
    "duration": 10,
    "start_time": "2023-07-22T10:57:14.250Z"
   },
   {
    "duration": 8,
    "start_time": "2023-07-22T10:57:47.712Z"
   },
   {
    "duration": 11,
    "start_time": "2023-07-22T10:57:57.064Z"
   },
   {
    "duration": 11,
    "start_time": "2023-07-22T10:58:05.850Z"
   },
   {
    "duration": 12,
    "start_time": "2023-07-22T10:58:14.843Z"
   },
   {
    "duration": 47,
    "start_time": "2023-07-22T10:58:20.950Z"
   },
   {
    "duration": 9,
    "start_time": "2023-07-22T10:58:25.401Z"
   },
   {
    "duration": 43,
    "start_time": "2023-07-22T10:58:54.327Z"
   },
   {
    "duration": 8,
    "start_time": "2023-07-22T10:58:59.121Z"
   },
   {
    "duration": 32,
    "start_time": "2023-07-22T11:00:28.423Z"
   },
   {
    "duration": 9,
    "start_time": "2023-07-22T11:00:44.301Z"
   },
   {
    "duration": 403,
    "start_time": "2023-07-22T11:01:38.633Z"
   },
   {
    "duration": 149,
    "start_time": "2023-07-22T11:01:39.039Z"
   },
   {
    "duration": 32,
    "start_time": "2023-07-22T11:01:39.189Z"
   },
   {
    "duration": 2076,
    "start_time": "2023-07-22T11:01:39.224Z"
   },
   {
    "duration": 9,
    "start_time": "2023-07-22T11:01:41.301Z"
   },
   {
    "duration": 7,
    "start_time": "2023-07-22T11:01:41.312Z"
   },
   {
    "duration": 221,
    "start_time": "2023-07-22T11:01:41.321Z"
   },
   {
    "duration": 56,
    "start_time": "2023-07-22T11:01:41.544Z"
   },
   {
    "duration": 6,
    "start_time": "2023-07-22T11:01:41.601Z"
   },
   {
    "duration": 6,
    "start_time": "2023-07-22T11:01:41.609Z"
   },
   {
    "duration": 16,
    "start_time": "2023-07-22T11:01:41.617Z"
   },
   {
    "duration": 5,
    "start_time": "2023-07-22T11:01:41.635Z"
   },
   {
    "duration": 10,
    "start_time": "2023-07-22T11:01:41.642Z"
   },
   {
    "duration": 48,
    "start_time": "2023-07-22T11:01:41.654Z"
   },
   {
    "duration": 8,
    "start_time": "2023-07-22T11:01:41.704Z"
   },
   {
    "duration": 7,
    "start_time": "2023-07-22T11:01:41.714Z"
   },
   {
    "duration": 79,
    "start_time": "2023-07-22T11:01:41.722Z"
   },
   {
    "duration": 0,
    "start_time": "2023-07-22T11:01:41.804Z"
   },
   {
    "duration": 0,
    "start_time": "2023-07-22T11:01:41.806Z"
   },
   {
    "duration": 0,
    "start_time": "2023-07-22T11:01:41.807Z"
   },
   {
    "duration": 0,
    "start_time": "2023-07-22T11:01:41.808Z"
   },
   {
    "duration": 0,
    "start_time": "2023-07-22T11:01:41.809Z"
   },
   {
    "duration": 0,
    "start_time": "2023-07-22T11:01:41.810Z"
   },
   {
    "duration": 0,
    "start_time": "2023-07-22T11:01:41.811Z"
   },
   {
    "duration": 0,
    "start_time": "2023-07-22T11:01:41.812Z"
   },
   {
    "duration": 0,
    "start_time": "2023-07-22T11:01:41.813Z"
   },
   {
    "duration": 0,
    "start_time": "2023-07-22T11:01:41.814Z"
   },
   {
    "duration": 0,
    "start_time": "2023-07-22T11:01:41.815Z"
   },
   {
    "duration": 0,
    "start_time": "2023-07-22T11:01:41.817Z"
   },
   {
    "duration": 0,
    "start_time": "2023-07-22T11:01:41.818Z"
   },
   {
    "duration": 0,
    "start_time": "2023-07-22T11:01:41.819Z"
   },
   {
    "duration": 0,
    "start_time": "2023-07-22T11:01:41.820Z"
   },
   {
    "duration": 0,
    "start_time": "2023-07-22T11:01:41.821Z"
   },
   {
    "duration": 0,
    "start_time": "2023-07-22T11:01:41.822Z"
   },
   {
    "duration": 0,
    "start_time": "2023-07-22T11:01:41.823Z"
   },
   {
    "duration": 0,
    "start_time": "2023-07-22T11:01:41.824Z"
   },
   {
    "duration": 0,
    "start_time": "2023-07-22T11:01:41.825Z"
   },
   {
    "duration": 0,
    "start_time": "2023-07-22T11:01:41.826Z"
   },
   {
    "duration": 0,
    "start_time": "2023-07-22T11:01:41.868Z"
   },
   {
    "duration": 0,
    "start_time": "2023-07-22T11:01:41.869Z"
   },
   {
    "duration": 0,
    "start_time": "2023-07-22T11:01:41.870Z"
   },
   {
    "duration": 0,
    "start_time": "2023-07-22T11:01:41.871Z"
   },
   {
    "duration": 0,
    "start_time": "2023-07-22T11:01:41.872Z"
   },
   {
    "duration": 0,
    "start_time": "2023-07-22T11:01:41.873Z"
   },
   {
    "duration": 0,
    "start_time": "2023-07-22T11:01:41.874Z"
   },
   {
    "duration": 0,
    "start_time": "2023-07-22T11:01:41.875Z"
   },
   {
    "duration": 0,
    "start_time": "2023-07-22T11:01:41.876Z"
   },
   {
    "duration": 0,
    "start_time": "2023-07-22T11:01:41.878Z"
   },
   {
    "duration": 0,
    "start_time": "2023-07-22T11:01:41.879Z"
   },
   {
    "duration": 0,
    "start_time": "2023-07-22T11:01:41.880Z"
   },
   {
    "duration": 0,
    "start_time": "2023-07-22T11:01:41.881Z"
   },
   {
    "duration": 0,
    "start_time": "2023-07-22T11:01:41.883Z"
   },
   {
    "duration": 0,
    "start_time": "2023-07-22T11:01:41.884Z"
   },
   {
    "duration": 0,
    "start_time": "2023-07-22T11:01:41.885Z"
   },
   {
    "duration": 0,
    "start_time": "2023-07-22T11:01:41.887Z"
   },
   {
    "duration": 0,
    "start_time": "2023-07-22T11:01:41.888Z"
   },
   {
    "duration": 0,
    "start_time": "2023-07-22T11:01:41.889Z"
   },
   {
    "duration": 0,
    "start_time": "2023-07-22T11:01:41.891Z"
   },
   {
    "duration": 0,
    "start_time": "2023-07-22T11:01:41.892Z"
   },
   {
    "duration": 1,
    "start_time": "2023-07-22T11:01:41.893Z"
   },
   {
    "duration": 0,
    "start_time": "2023-07-22T11:01:41.895Z"
   },
   {
    "duration": 0,
    "start_time": "2023-07-22T11:01:41.896Z"
   },
   {
    "duration": 0,
    "start_time": "2023-07-22T11:01:41.897Z"
   },
   {
    "duration": 0,
    "start_time": "2023-07-22T11:01:41.899Z"
   },
   {
    "duration": 0,
    "start_time": "2023-07-22T11:01:41.900Z"
   },
   {
    "duration": 0,
    "start_time": "2023-07-22T11:01:41.901Z"
   },
   {
    "duration": 0,
    "start_time": "2023-07-22T11:01:41.902Z"
   },
   {
    "duration": 0,
    "start_time": "2023-07-22T11:01:41.968Z"
   },
   {
    "duration": 0,
    "start_time": "2023-07-22T11:01:41.969Z"
   },
   {
    "duration": 0,
    "start_time": "2023-07-22T11:01:41.971Z"
   },
   {
    "duration": 0,
    "start_time": "2023-07-22T11:01:41.972Z"
   },
   {
    "duration": 0,
    "start_time": "2023-07-22T11:01:41.973Z"
   },
   {
    "duration": 0,
    "start_time": "2023-07-22T11:01:41.974Z"
   },
   {
    "duration": 0,
    "start_time": "2023-07-22T11:01:41.976Z"
   },
   {
    "duration": 0,
    "start_time": "2023-07-22T11:01:41.977Z"
   },
   {
    "duration": 0,
    "start_time": "2023-07-22T11:01:41.978Z"
   },
   {
    "duration": 0,
    "start_time": "2023-07-22T11:01:41.979Z"
   },
   {
    "duration": 9,
    "start_time": "2023-07-22T11:02:32.898Z"
   },
   {
    "duration": 6,
    "start_time": "2023-07-22T11:02:59.434Z"
   },
   {
    "duration": 12,
    "start_time": "2023-07-22T11:03:07.595Z"
   },
   {
    "duration": 12,
    "start_time": "2023-07-22T11:03:21.589Z"
   },
   {
    "duration": 11,
    "start_time": "2023-07-22T11:05:35.787Z"
   },
   {
    "duration": 6,
    "start_time": "2023-07-22T11:06:41.541Z"
   },
   {
    "duration": 14,
    "start_time": "2023-07-22T11:06:44.453Z"
   },
   {
    "duration": 16,
    "start_time": "2023-07-22T11:07:39.386Z"
   },
   {
    "duration": 61,
    "start_time": "2023-07-22T11:07:58.040Z"
   },
   {
    "duration": 455,
    "start_time": "2023-07-22T11:09:37.213Z"
   },
   {
    "duration": 129,
    "start_time": "2023-07-22T11:09:37.671Z"
   },
   {
    "duration": 32,
    "start_time": "2023-07-22T11:09:37.803Z"
   },
   {
    "duration": 2283,
    "start_time": "2023-07-22T11:09:37.837Z"
   },
   {
    "duration": 10,
    "start_time": "2023-07-22T11:09:40.121Z"
   },
   {
    "duration": 9,
    "start_time": "2023-07-22T11:09:40.132Z"
   },
   {
    "duration": 244,
    "start_time": "2023-07-22T11:09:40.143Z"
   },
   {
    "duration": 47,
    "start_time": "2023-07-22T11:09:40.388Z"
   },
   {
    "duration": 5,
    "start_time": "2023-07-22T11:09:40.436Z"
   },
   {
    "duration": 21,
    "start_time": "2023-07-22T11:09:40.444Z"
   },
   {
    "duration": 12,
    "start_time": "2023-07-22T11:09:40.467Z"
   },
   {
    "duration": 6,
    "start_time": "2023-07-22T11:09:40.482Z"
   },
   {
    "duration": 12,
    "start_time": "2023-07-22T11:09:40.489Z"
   },
   {
    "duration": 13,
    "start_time": "2023-07-22T11:09:40.503Z"
   },
   {
    "duration": 8,
    "start_time": "2023-07-22T11:09:40.518Z"
   },
   {
    "duration": 4,
    "start_time": "2023-07-22T11:09:40.528Z"
   },
   {
    "duration": 9,
    "start_time": "2023-07-22T11:09:40.567Z"
   },
   {
    "duration": 8,
    "start_time": "2023-07-22T11:09:40.580Z"
   },
   {
    "duration": 15,
    "start_time": "2023-07-22T11:09:40.589Z"
   },
   {
    "duration": 10,
    "start_time": "2023-07-22T11:09:40.606Z"
   },
   {
    "duration": 66,
    "start_time": "2023-07-22T11:09:40.618Z"
   },
   {
    "duration": 146,
    "start_time": "2023-07-22T11:09:40.686Z"
   },
   {
    "duration": 6,
    "start_time": "2023-07-22T11:09:40.834Z"
   },
   {
    "duration": 18,
    "start_time": "2023-07-22T11:09:40.842Z"
   },
   {
    "duration": 28,
    "start_time": "2023-07-22T11:09:40.861Z"
   },
   {
    "duration": 13,
    "start_time": "2023-07-22T11:09:40.891Z"
   },
   {
    "duration": 24,
    "start_time": "2023-07-22T11:09:40.905Z"
   },
   {
    "duration": 20,
    "start_time": "2023-07-22T11:09:40.935Z"
   },
   {
    "duration": 68,
    "start_time": "2023-07-22T11:09:40.956Z"
   },
   {
    "duration": 524,
    "start_time": "2023-07-22T11:09:41.025Z"
   },
   {
    "duration": 8,
    "start_time": "2023-07-22T11:09:41.550Z"
   },
   {
    "duration": 309,
    "start_time": "2023-07-22T11:09:41.560Z"
   },
   {
    "duration": 410,
    "start_time": "2023-07-22T11:09:41.872Z"
   },
   {
    "duration": 133,
    "start_time": "2023-07-22T11:09:42.284Z"
   },
   {
    "duration": 145,
    "start_time": "2023-07-22T11:09:42.418Z"
   },
   {
    "duration": 33,
    "start_time": "2023-07-22T11:09:42.568Z"
   },
   {
    "duration": 4,
    "start_time": "2023-07-22T11:09:42.603Z"
   },
   {
    "duration": 9,
    "start_time": "2023-07-22T11:09:42.608Z"
   },
   {
    "duration": 10,
    "start_time": "2023-07-22T11:09:42.619Z"
   },
   {
    "duration": 761,
    "start_time": "2023-07-22T11:09:42.631Z"
   },
   {
    "duration": 0,
    "start_time": "2023-07-22T11:09:43.394Z"
   },
   {
    "duration": 0,
    "start_time": "2023-07-22T11:09:43.396Z"
   },
   {
    "duration": 0,
    "start_time": "2023-07-22T11:09:43.397Z"
   },
   {
    "duration": 0,
    "start_time": "2023-07-22T11:09:43.398Z"
   },
   {
    "duration": 0,
    "start_time": "2023-07-22T11:09:43.400Z"
   },
   {
    "duration": 0,
    "start_time": "2023-07-22T11:09:43.402Z"
   },
   {
    "duration": 0,
    "start_time": "2023-07-22T11:09:43.403Z"
   },
   {
    "duration": 0,
    "start_time": "2023-07-22T11:09:43.404Z"
   },
   {
    "duration": 0,
    "start_time": "2023-07-22T11:09:43.406Z"
   },
   {
    "duration": 0,
    "start_time": "2023-07-22T11:09:43.407Z"
   },
   {
    "duration": 0,
    "start_time": "2023-07-22T11:09:43.408Z"
   },
   {
    "duration": 0,
    "start_time": "2023-07-22T11:09:43.409Z"
   },
   {
    "duration": 0,
    "start_time": "2023-07-22T11:09:43.411Z"
   },
   {
    "duration": 0,
    "start_time": "2023-07-22T11:09:43.412Z"
   },
   {
    "duration": 0,
    "start_time": "2023-07-22T11:09:43.413Z"
   },
   {
    "duration": 0,
    "start_time": "2023-07-22T11:09:43.414Z"
   },
   {
    "duration": 0,
    "start_time": "2023-07-22T11:09:43.415Z"
   },
   {
    "duration": 0,
    "start_time": "2023-07-22T11:09:43.416Z"
   },
   {
    "duration": 0,
    "start_time": "2023-07-22T11:09:43.417Z"
   },
   {
    "duration": 0,
    "start_time": "2023-07-22T11:09:43.418Z"
   },
   {
    "duration": 0,
    "start_time": "2023-07-22T11:09:43.419Z"
   },
   {
    "duration": 0,
    "start_time": "2023-07-22T11:09:43.420Z"
   },
   {
    "duration": 0,
    "start_time": "2023-07-22T11:09:43.421Z"
   },
   {
    "duration": 0,
    "start_time": "2023-07-22T11:09:43.423Z"
   },
   {
    "duration": 0,
    "start_time": "2023-07-22T11:09:43.424Z"
   },
   {
    "duration": 0,
    "start_time": "2023-07-22T11:09:43.425Z"
   },
   {
    "duration": 0,
    "start_time": "2023-07-22T11:09:43.427Z"
   },
   {
    "duration": 0,
    "start_time": "2023-07-22T11:09:43.428Z"
   },
   {
    "duration": 0,
    "start_time": "2023-07-22T11:09:43.429Z"
   },
   {
    "duration": 0,
    "start_time": "2023-07-22T11:09:43.431Z"
   },
   {
    "duration": 0,
    "start_time": "2023-07-22T11:09:43.468Z"
   },
   {
    "duration": 0,
    "start_time": "2023-07-22T11:09:43.469Z"
   },
   {
    "duration": 0,
    "start_time": "2023-07-22T11:09:43.474Z"
   },
   {
    "duration": 0,
    "start_time": "2023-07-22T11:09:43.475Z"
   },
   {
    "duration": 0,
    "start_time": "2023-07-22T11:09:43.477Z"
   },
   {
    "duration": 0,
    "start_time": "2023-07-22T11:09:43.478Z"
   },
   {
    "duration": 0,
    "start_time": "2023-07-22T11:09:43.480Z"
   },
   {
    "duration": 14,
    "start_time": "2023-07-22T11:10:56.711Z"
   },
   {
    "duration": 406,
    "start_time": "2023-07-22T11:11:07.639Z"
   },
   {
    "duration": 119,
    "start_time": "2023-07-22T11:11:08.047Z"
   },
   {
    "duration": 40,
    "start_time": "2023-07-22T11:11:08.168Z"
   },
   {
    "duration": 2326,
    "start_time": "2023-07-22T11:11:08.210Z"
   },
   {
    "duration": 11,
    "start_time": "2023-07-22T11:11:10.538Z"
   },
   {
    "duration": 4,
    "start_time": "2023-07-22T11:11:10.550Z"
   },
   {
    "duration": 259,
    "start_time": "2023-07-22T11:11:10.555Z"
   },
   {
    "duration": 71,
    "start_time": "2023-07-22T11:11:10.816Z"
   },
   {
    "duration": 7,
    "start_time": "2023-07-22T11:11:10.890Z"
   },
   {
    "duration": 8,
    "start_time": "2023-07-22T11:11:10.900Z"
   },
   {
    "duration": 7,
    "start_time": "2023-07-22T11:11:10.909Z"
   },
   {
    "duration": 4,
    "start_time": "2023-07-22T11:11:10.918Z"
   },
   {
    "duration": 12,
    "start_time": "2023-07-22T11:11:10.923Z"
   },
   {
    "duration": 12,
    "start_time": "2023-07-22T11:11:10.936Z"
   },
   {
    "duration": 16,
    "start_time": "2023-07-22T11:11:10.971Z"
   },
   {
    "duration": 13,
    "start_time": "2023-07-22T11:11:10.989Z"
   },
   {
    "duration": 6,
    "start_time": "2023-07-22T11:11:11.003Z"
   },
   {
    "duration": 17,
    "start_time": "2023-07-22T11:11:11.011Z"
   },
   {
    "duration": 11,
    "start_time": "2023-07-22T11:11:11.029Z"
   },
   {
    "duration": 66,
    "start_time": "2023-07-22T11:11:11.042Z"
   },
   {
    "duration": 180,
    "start_time": "2023-07-22T11:11:11.110Z"
   },
   {
    "duration": 6,
    "start_time": "2023-07-22T11:11:11.291Z"
   },
   {
    "duration": 7,
    "start_time": "2023-07-22T11:11:11.299Z"
   },
   {
    "duration": 12,
    "start_time": "2023-07-22T11:11:11.307Z"
   },
   {
    "duration": 9,
    "start_time": "2023-07-22T11:11:11.321Z"
   },
   {
    "duration": 13,
    "start_time": "2023-07-22T11:11:11.331Z"
   },
   {
    "duration": 41,
    "start_time": "2023-07-22T11:11:11.346Z"
   },
   {
    "duration": 50,
    "start_time": "2023-07-22T11:11:11.392Z"
   },
   {
    "duration": 211,
    "start_time": "2023-07-22T11:11:11.444Z"
   },
   {
    "duration": 7,
    "start_time": "2023-07-22T11:11:11.656Z"
   },
   {
    "duration": 325,
    "start_time": "2023-07-22T11:11:11.664Z"
   },
   {
    "duration": 410,
    "start_time": "2023-07-22T11:11:11.991Z"
   },
   {
    "duration": 129,
    "start_time": "2023-07-22T11:11:12.402Z"
   },
   {
    "duration": 153,
    "start_time": "2023-07-22T11:11:12.532Z"
   },
   {
    "duration": 15,
    "start_time": "2023-07-22T11:11:12.687Z"
   },
   {
    "duration": 4,
    "start_time": "2023-07-22T11:11:12.703Z"
   },
   {
    "duration": 13,
    "start_time": "2023-07-22T11:11:12.708Z"
   },
   {
    "duration": 7,
    "start_time": "2023-07-22T11:11:12.723Z"
   },
   {
    "duration": 341,
    "start_time": "2023-07-22T11:11:12.732Z"
   },
   {
    "duration": 31,
    "start_time": "2023-07-22T11:11:13.075Z"
   },
   {
    "duration": 156,
    "start_time": "2023-07-22T11:11:13.108Z"
   },
   {
    "duration": 181,
    "start_time": "2023-07-22T11:11:13.267Z"
   },
   {
    "duration": 174,
    "start_time": "2023-07-22T11:11:13.450Z"
   },
   {
    "duration": 257,
    "start_time": "2023-07-22T11:11:13.625Z"
   },
   {
    "duration": 302,
    "start_time": "2023-07-22T11:11:13.884Z"
   },
   {
    "duration": 207,
    "start_time": "2023-07-22T11:11:14.189Z"
   },
   {
    "duration": 164,
    "start_time": "2023-07-22T11:11:14.398Z"
   },
   {
    "duration": 144,
    "start_time": "2023-07-22T11:11:14.564Z"
   },
   {
    "duration": 163,
    "start_time": "2023-07-22T11:11:14.709Z"
   },
   {
    "duration": 172,
    "start_time": "2023-07-22T11:11:14.875Z"
   },
   {
    "duration": 178,
    "start_time": "2023-07-22T11:11:15.050Z"
   },
   {
    "duration": 173,
    "start_time": "2023-07-22T11:11:15.230Z"
   },
   {
    "duration": 160,
    "start_time": "2023-07-22T11:11:15.405Z"
   },
   {
    "duration": 163,
    "start_time": "2023-07-22T11:11:15.569Z"
   },
   {
    "duration": 358,
    "start_time": "2023-07-22T11:11:15.733Z"
   },
   {
    "duration": 6,
    "start_time": "2023-07-22T11:11:16.093Z"
   },
   {
    "duration": 161,
    "start_time": "2023-07-22T11:11:16.100Z"
   },
   {
    "duration": 10,
    "start_time": "2023-07-22T11:11:16.263Z"
   },
   {
    "duration": 173,
    "start_time": "2023-07-22T11:11:16.276Z"
   },
   {
    "duration": 5,
    "start_time": "2023-07-22T11:11:16.450Z"
   },
   {
    "duration": 162,
    "start_time": "2023-07-22T11:11:16.457Z"
   },
   {
    "duration": 5,
    "start_time": "2023-07-22T11:11:16.620Z"
   },
   {
    "duration": 159,
    "start_time": "2023-07-22T11:11:16.627Z"
   },
   {
    "duration": 5,
    "start_time": "2023-07-22T11:11:16.788Z"
   },
   {
    "duration": 163,
    "start_time": "2023-07-22T11:11:16.794Z"
   },
   {
    "duration": 150,
    "start_time": "2023-07-22T11:11:16.958Z"
   },
   {
    "duration": 5,
    "start_time": "2023-07-22T11:11:17.110Z"
   },
   {
    "duration": 163,
    "start_time": "2023-07-22T11:11:17.117Z"
   },
   {
    "duration": 7,
    "start_time": "2023-07-22T11:11:17.282Z"
   },
   {
    "duration": 153,
    "start_time": "2023-07-22T11:11:17.291Z"
   },
   {
    "duration": 5,
    "start_time": "2023-07-22T11:11:17.445Z"
   },
   {
    "duration": 40,
    "start_time": "2023-07-22T11:11:17.451Z"
   },
   {
    "duration": 9,
    "start_time": "2023-07-22T11:11:17.492Z"
   },
   {
    "duration": 25,
    "start_time": "2023-07-22T11:11:17.502Z"
   },
   {
    "duration": 159,
    "start_time": "2023-07-22T11:11:17.529Z"
   },
   {
    "duration": 4,
    "start_time": "2023-07-22T11:11:17.689Z"
   },
   {
    "duration": 57,
    "start_time": "2023-07-22T11:11:50.260Z"
   },
   {
    "duration": 10,
    "start_time": "2023-07-22T11:11:53.754Z"
   },
   {
    "duration": 99,
    "start_time": "2023-07-22T11:13:56.307Z"
   },
   {
    "duration": 54,
    "start_time": "2023-07-22T11:14:08.454Z"
   },
   {
    "duration": 12,
    "start_time": "2023-07-22T11:14:14.825Z"
   },
   {
    "duration": 487,
    "start_time": "2023-07-22T11:14:24.748Z"
   },
   {
    "duration": 122,
    "start_time": "2023-07-22T11:14:25.237Z"
   },
   {
    "duration": 43,
    "start_time": "2023-07-22T11:14:25.360Z"
   },
   {
    "duration": 2268,
    "start_time": "2023-07-22T11:14:25.405Z"
   },
   {
    "duration": 12,
    "start_time": "2023-07-22T11:14:27.679Z"
   },
   {
    "duration": 4,
    "start_time": "2023-07-22T11:14:27.692Z"
   },
   {
    "duration": 242,
    "start_time": "2023-07-22T11:14:27.697Z"
   },
   {
    "duration": 59,
    "start_time": "2023-07-22T11:14:27.941Z"
   },
   {
    "duration": 5,
    "start_time": "2023-07-22T11:14:28.002Z"
   },
   {
    "duration": 5,
    "start_time": "2023-07-22T11:14:28.010Z"
   },
   {
    "duration": 7,
    "start_time": "2023-07-22T11:14:28.017Z"
   },
   {
    "duration": 5,
    "start_time": "2023-07-22T11:14:28.025Z"
   },
   {
    "duration": 22,
    "start_time": "2023-07-22T11:14:28.031Z"
   },
   {
    "duration": 29,
    "start_time": "2023-07-22T11:14:28.055Z"
   },
   {
    "duration": 8,
    "start_time": "2023-07-22T11:14:28.085Z"
   },
   {
    "duration": 6,
    "start_time": "2023-07-22T11:14:28.094Z"
   },
   {
    "duration": 5,
    "start_time": "2023-07-22T11:14:28.101Z"
   },
   {
    "duration": 13,
    "start_time": "2023-07-22T11:14:28.107Z"
   },
   {
    "duration": 9,
    "start_time": "2023-07-22T11:14:28.121Z"
   },
   {
    "duration": 71,
    "start_time": "2023-07-22T11:14:28.132Z"
   },
   {
    "duration": 148,
    "start_time": "2023-07-22T11:14:28.205Z"
   },
   {
    "duration": 19,
    "start_time": "2023-07-22T11:14:28.354Z"
   },
   {
    "duration": 12,
    "start_time": "2023-07-22T11:14:28.375Z"
   },
   {
    "duration": 9,
    "start_time": "2023-07-22T11:14:28.390Z"
   },
   {
    "duration": 9,
    "start_time": "2023-07-22T11:14:28.401Z"
   },
   {
    "duration": 12,
    "start_time": "2023-07-22T11:14:28.412Z"
   },
   {
    "duration": 12,
    "start_time": "2023-07-22T11:14:28.426Z"
   },
   {
    "duration": 70,
    "start_time": "2023-07-22T11:14:28.468Z"
   },
   {
    "duration": 183,
    "start_time": "2023-07-22T11:14:28.539Z"
   },
   {
    "duration": 7,
    "start_time": "2023-07-22T11:14:28.724Z"
   },
   {
    "duration": 318,
    "start_time": "2023-07-22T11:14:28.733Z"
   },
   {
    "duration": 409,
    "start_time": "2023-07-22T11:14:29.053Z"
   },
   {
    "duration": 147,
    "start_time": "2023-07-22T11:14:29.464Z"
   },
   {
    "duration": 139,
    "start_time": "2023-07-22T11:14:29.612Z"
   },
   {
    "duration": 19,
    "start_time": "2023-07-22T11:14:29.753Z"
   },
   {
    "duration": 9,
    "start_time": "2023-07-22T11:14:29.775Z"
   },
   {
    "duration": 11,
    "start_time": "2023-07-22T11:14:29.785Z"
   },
   {
    "duration": 16,
    "start_time": "2023-07-22T11:14:29.798Z"
   },
   {
    "duration": 343,
    "start_time": "2023-07-22T11:14:29.816Z"
   },
   {
    "duration": 38,
    "start_time": "2023-07-22T11:14:30.160Z"
   },
   {
    "duration": 172,
    "start_time": "2023-07-22T11:14:30.200Z"
   },
   {
    "duration": 174,
    "start_time": "2023-07-22T11:14:30.381Z"
   },
   {
    "duration": 183,
    "start_time": "2023-07-22T11:14:30.557Z"
   },
   {
    "duration": 277,
    "start_time": "2023-07-22T11:14:30.742Z"
   },
   {
    "duration": 281,
    "start_time": "2023-07-22T11:14:31.020Z"
   },
   {
    "duration": 184,
    "start_time": "2023-07-22T11:14:31.302Z"
   },
   {
    "duration": 174,
    "start_time": "2023-07-22T11:14:31.488Z"
   },
   {
    "duration": 144,
    "start_time": "2023-07-22T11:14:31.663Z"
   },
   {
    "duration": 178,
    "start_time": "2023-07-22T11:14:31.808Z"
   },
   {
    "duration": 167,
    "start_time": "2023-07-22T11:14:31.987Z"
   },
   {
    "duration": 180,
    "start_time": "2023-07-22T11:14:32.156Z"
   },
   {
    "duration": 202,
    "start_time": "2023-07-22T11:14:32.338Z"
   },
   {
    "duration": 178,
    "start_time": "2023-07-22T11:14:32.542Z"
   },
   {
    "duration": 169,
    "start_time": "2023-07-22T11:14:32.721Z"
   },
   {
    "duration": 330,
    "start_time": "2023-07-22T11:14:32.891Z"
   },
   {
    "duration": 5,
    "start_time": "2023-07-22T11:14:33.223Z"
   },
   {
    "duration": 168,
    "start_time": "2023-07-22T11:14:33.229Z"
   },
   {
    "duration": 6,
    "start_time": "2023-07-22T11:14:33.399Z"
   },
   {
    "duration": 176,
    "start_time": "2023-07-22T11:14:33.407Z"
   },
   {
    "duration": 7,
    "start_time": "2023-07-22T11:14:33.585Z"
   },
   {
    "duration": 159,
    "start_time": "2023-07-22T11:14:33.593Z"
   },
   {
    "duration": 5,
    "start_time": "2023-07-22T11:14:33.753Z"
   },
   {
    "duration": 155,
    "start_time": "2023-07-22T11:14:33.759Z"
   },
   {
    "duration": 5,
    "start_time": "2023-07-22T11:14:33.916Z"
   },
   {
    "duration": 230,
    "start_time": "2023-07-22T11:14:33.922Z"
   },
   {
    "duration": 177,
    "start_time": "2023-07-22T11:14:34.154Z"
   },
   {
    "duration": 6,
    "start_time": "2023-07-22T11:14:34.333Z"
   },
   {
    "duration": 157,
    "start_time": "2023-07-22T11:14:34.341Z"
   },
   {
    "duration": 6,
    "start_time": "2023-07-22T11:14:34.499Z"
   },
   {
    "duration": 162,
    "start_time": "2023-07-22T11:14:34.506Z"
   },
   {
    "duration": 10,
    "start_time": "2023-07-22T11:14:34.672Z"
   },
   {
    "duration": 25,
    "start_time": "2023-07-22T11:14:34.684Z"
   },
   {
    "duration": 8,
    "start_time": "2023-07-22T11:14:34.711Z"
   },
   {
    "duration": 22,
    "start_time": "2023-07-22T11:14:34.720Z"
   },
   {
    "duration": 152,
    "start_time": "2023-07-22T11:14:34.769Z"
   },
   {
    "duration": 3,
    "start_time": "2023-07-22T11:14:34.923Z"
   },
   {
    "duration": 12,
    "start_time": "2023-07-22T11:14:51.224Z"
   },
   {
    "duration": 10,
    "start_time": "2023-07-22T11:18:29.799Z"
   },
   {
    "duration": 9,
    "start_time": "2023-07-22T11:18:33.484Z"
   },
   {
    "duration": 4,
    "start_time": "2023-07-22T11:20:01.297Z"
   },
   {
    "duration": 17,
    "start_time": "2023-07-22T11:20:03.759Z"
   },
   {
    "duration": 15,
    "start_time": "2023-07-22T11:23:42.404Z"
   },
   {
    "duration": 2042,
    "start_time": "2023-07-22T11:27:10.959Z"
   },
   {
    "duration": 17,
    "start_time": "2023-07-22T11:27:18.848Z"
   },
   {
    "duration": 9,
    "start_time": "2023-07-22T11:27:30.756Z"
   },
   {
    "duration": 22,
    "start_time": "2023-07-22T11:27:35.504Z"
   },
   {
    "duration": 8,
    "start_time": "2023-07-22T11:28:08.705Z"
   },
   {
    "duration": 26,
    "start_time": "2023-07-22T11:28:12.761Z"
   },
   {
    "duration": 10,
    "start_time": "2023-07-22T11:31:10.218Z"
   },
   {
    "duration": 20,
    "start_time": "2023-07-22T11:31:13.998Z"
   },
   {
    "duration": 120,
    "start_time": "2023-07-22T11:34:34.534Z"
   },
   {
    "duration": 11,
    "start_time": "2023-07-22T11:34:49.816Z"
   },
   {
    "duration": 16,
    "start_time": "2023-07-22T11:35:00.061Z"
   },
   {
    "duration": 8,
    "start_time": "2023-07-22T11:35:10.410Z"
   },
   {
    "duration": 19,
    "start_time": "2023-07-22T11:35:16.907Z"
   },
   {
    "duration": 8,
    "start_time": "2023-07-22T11:38:20.993Z"
   },
   {
    "duration": 23,
    "start_time": "2023-07-22T11:38:26.568Z"
   },
   {
    "duration": 7,
    "start_time": "2023-07-22T11:40:39.736Z"
   },
   {
    "duration": 23,
    "start_time": "2023-07-22T11:40:44.046Z"
   },
   {
    "duration": 12,
    "start_time": "2023-07-22T11:40:54.614Z"
   },
   {
    "duration": 19,
    "start_time": "2023-07-22T11:40:57.236Z"
   },
   {
    "duration": 9,
    "start_time": "2023-07-22T11:41:05.221Z"
   },
   {
    "duration": 19,
    "start_time": "2023-07-22T11:41:08.561Z"
   },
   {
    "duration": 25,
    "start_time": "2023-07-22T11:41:16.689Z"
   },
   {
    "duration": 8,
    "start_time": "2023-07-22T11:41:30.589Z"
   },
   {
    "duration": 18,
    "start_time": "2023-07-22T11:41:33.416Z"
   },
   {
    "duration": 419,
    "start_time": "2023-07-22T11:41:46.388Z"
   },
   {
    "duration": 112,
    "start_time": "2023-07-22T11:41:46.810Z"
   },
   {
    "duration": 33,
    "start_time": "2023-07-22T11:41:46.923Z"
   },
   {
    "duration": 2197,
    "start_time": "2023-07-22T11:41:46.967Z"
   },
   {
    "duration": 13,
    "start_time": "2023-07-22T11:41:49.165Z"
   },
   {
    "duration": 21,
    "start_time": "2023-07-22T11:41:49.180Z"
   },
   {
    "duration": 247,
    "start_time": "2023-07-22T11:41:49.203Z"
   },
   {
    "duration": 9,
    "start_time": "2023-07-22T11:41:49.452Z"
   },
   {
    "duration": 12,
    "start_time": "2023-07-22T11:41:49.468Z"
   },
   {
    "duration": 6,
    "start_time": "2023-07-22T11:41:49.483Z"
   },
   {
    "duration": 19,
    "start_time": "2023-07-22T11:41:49.491Z"
   },
   {
    "duration": 5,
    "start_time": "2023-07-22T11:41:49.512Z"
   },
   {
    "duration": 13,
    "start_time": "2023-07-22T11:41:49.518Z"
   },
   {
    "duration": 14,
    "start_time": "2023-07-22T11:41:49.533Z"
   },
   {
    "duration": 9,
    "start_time": "2023-07-22T11:41:49.568Z"
   },
   {
    "duration": 19,
    "start_time": "2023-07-22T11:41:49.579Z"
   },
   {
    "duration": 29,
    "start_time": "2023-07-22T11:41:49.600Z"
   },
   {
    "duration": 24,
    "start_time": "2023-07-22T11:41:49.630Z"
   },
   {
    "duration": 27,
    "start_time": "2023-07-22T11:41:49.656Z"
   },
   {
    "duration": 13,
    "start_time": "2023-07-22T11:41:49.685Z"
   },
   {
    "duration": 40,
    "start_time": "2023-07-22T11:41:49.700Z"
   },
   {
    "duration": 166,
    "start_time": "2023-07-22T11:41:49.742Z"
   },
   {
    "duration": 8,
    "start_time": "2023-07-22T11:41:49.909Z"
   },
   {
    "duration": 16,
    "start_time": "2023-07-22T11:41:49.919Z"
   },
   {
    "duration": 13,
    "start_time": "2023-07-22T11:41:49.937Z"
   },
   {
    "duration": 24,
    "start_time": "2023-07-22T11:41:49.951Z"
   },
   {
    "duration": 17,
    "start_time": "2023-07-22T11:41:49.977Z"
   },
   {
    "duration": 12,
    "start_time": "2023-07-22T11:41:50.000Z"
   },
   {
    "duration": 25,
    "start_time": "2023-07-22T11:41:50.014Z"
   },
   {
    "duration": 9,
    "start_time": "2023-07-22T11:41:50.041Z"
   },
   {
    "duration": 6,
    "start_time": "2023-07-22T11:41:50.052Z"
   },
   {
    "duration": 15,
    "start_time": "2023-07-22T11:41:50.060Z"
   },
   {
    "duration": 18,
    "start_time": "2023-07-22T11:41:50.076Z"
   },
   {
    "duration": 52,
    "start_time": "2023-07-22T11:41:50.096Z"
   },
   {
    "duration": 191,
    "start_time": "2023-07-22T11:41:50.158Z"
   },
   {
    "duration": 8,
    "start_time": "2023-07-22T11:41:50.351Z"
   },
   {
    "duration": 285,
    "start_time": "2023-07-22T11:41:50.360Z"
   },
   {
    "duration": 410,
    "start_time": "2023-07-22T11:41:50.646Z"
   },
   {
    "duration": 135,
    "start_time": "2023-07-22T11:41:51.058Z"
   },
   {
    "duration": 135,
    "start_time": "2023-07-22T11:41:51.195Z"
   },
   {
    "duration": 13,
    "start_time": "2023-07-22T11:41:51.332Z"
   },
   {
    "duration": 5,
    "start_time": "2023-07-22T11:41:51.347Z"
   },
   {
    "duration": 25,
    "start_time": "2023-07-22T11:41:51.367Z"
   },
   {
    "duration": 22,
    "start_time": "2023-07-22T11:41:51.393Z"
   },
   {
    "duration": 230,
    "start_time": "2023-07-22T11:41:51.417Z"
   },
   {
    "duration": 31,
    "start_time": "2023-07-22T11:41:51.649Z"
   },
   {
    "duration": 170,
    "start_time": "2023-07-22T11:41:51.682Z"
   },
   {
    "duration": 194,
    "start_time": "2023-07-22T11:41:51.853Z"
   },
   {
    "duration": 158,
    "start_time": "2023-07-22T11:41:52.049Z"
   },
   {
    "duration": 269,
    "start_time": "2023-07-22T11:41:52.209Z"
   },
   {
    "duration": 171,
    "start_time": "2023-07-22T11:41:52.480Z"
   },
   {
    "duration": 275,
    "start_time": "2023-07-22T11:41:52.652Z"
   },
   {
    "duration": 180,
    "start_time": "2023-07-22T11:41:52.928Z"
   },
   {
    "duration": 147,
    "start_time": "2023-07-22T11:41:53.111Z"
   },
   {
    "duration": 183,
    "start_time": "2023-07-22T11:41:53.267Z"
   },
   {
    "duration": 166,
    "start_time": "2023-07-22T11:41:53.452Z"
   },
   {
    "duration": 162,
    "start_time": "2023-07-22T11:41:53.621Z"
   },
   {
    "duration": 187,
    "start_time": "2023-07-22T11:41:53.785Z"
   },
   {
    "duration": 199,
    "start_time": "2023-07-22T11:41:53.974Z"
   },
   {
    "duration": 181,
    "start_time": "2023-07-22T11:41:54.175Z"
   },
   {
    "duration": 221,
    "start_time": "2023-07-22T11:41:54.358Z"
   },
   {
    "duration": 6,
    "start_time": "2023-07-22T11:41:54.581Z"
   },
   {
    "duration": 227,
    "start_time": "2023-07-22T11:41:54.589Z"
   },
   {
    "duration": 6,
    "start_time": "2023-07-22T11:41:54.818Z"
   },
   {
    "duration": 169,
    "start_time": "2023-07-22T11:41:54.825Z"
   },
   {
    "duration": 7,
    "start_time": "2023-07-22T11:41:54.996Z"
   },
   {
    "duration": 151,
    "start_time": "2023-07-22T11:41:55.005Z"
   },
   {
    "duration": 12,
    "start_time": "2023-07-22T11:41:55.158Z"
   },
   {
    "duration": 159,
    "start_time": "2023-07-22T11:41:55.172Z"
   },
   {
    "duration": 5,
    "start_time": "2023-07-22T11:41:55.333Z"
   },
   {
    "duration": 140,
    "start_time": "2023-07-22T11:41:55.340Z"
   },
   {
    "duration": 201,
    "start_time": "2023-07-22T11:41:55.482Z"
   },
   {
    "duration": 6,
    "start_time": "2023-07-22T11:41:55.686Z"
   },
   {
    "duration": 173,
    "start_time": "2023-07-22T11:41:55.695Z"
   },
   {
    "duration": 6,
    "start_time": "2023-07-22T11:41:55.870Z"
   },
   {
    "duration": 158,
    "start_time": "2023-07-22T11:41:55.878Z"
   },
   {
    "duration": 6,
    "start_time": "2023-07-22T11:41:56.037Z"
   },
   {
    "duration": 33,
    "start_time": "2023-07-22T11:41:56.044Z"
   },
   {
    "duration": 12,
    "start_time": "2023-07-22T11:41:56.079Z"
   },
   {
    "duration": 34,
    "start_time": "2023-07-22T11:41:56.093Z"
   },
   {
    "duration": 181,
    "start_time": "2023-07-22T11:41:56.129Z"
   },
   {
    "duration": 4,
    "start_time": "2023-07-22T11:41:56.316Z"
   },
   {
    "duration": 9,
    "start_time": "2023-07-22T11:42:22.855Z"
   },
   {
    "duration": 476,
    "start_time": "2023-07-22T11:42:28.461Z"
   },
   {
    "duration": 114,
    "start_time": "2023-07-22T11:42:28.939Z"
   },
   {
    "duration": 40,
    "start_time": "2023-07-22T11:42:29.054Z"
   },
   {
    "duration": 2176,
    "start_time": "2023-07-22T11:42:29.096Z"
   },
   {
    "duration": 11,
    "start_time": "2023-07-22T11:42:31.276Z"
   },
   {
    "duration": 51,
    "start_time": "2023-07-22T11:42:31.289Z"
   },
   {
    "duration": 296,
    "start_time": "2023-07-22T11:42:31.342Z"
   },
   {
    "duration": 6,
    "start_time": "2023-07-22T11:42:31.640Z"
   },
   {
    "duration": 7,
    "start_time": "2023-07-22T11:42:31.648Z"
   },
   {
    "duration": 15,
    "start_time": "2023-07-22T11:42:31.656Z"
   },
   {
    "duration": 28,
    "start_time": "2023-07-22T11:42:31.674Z"
   },
   {
    "duration": 18,
    "start_time": "2023-07-22T11:42:31.704Z"
   },
   {
    "duration": 72,
    "start_time": "2023-07-22T11:42:31.724Z"
   },
   {
    "duration": 15,
    "start_time": "2023-07-22T11:42:31.800Z"
   },
   {
    "duration": 11,
    "start_time": "2023-07-22T11:42:31.817Z"
   },
   {
    "duration": 30,
    "start_time": "2023-07-22T11:42:31.829Z"
   },
   {
    "duration": 42,
    "start_time": "2023-07-22T11:42:31.860Z"
   },
   {
    "duration": 18,
    "start_time": "2023-07-22T11:42:31.904Z"
   },
   {
    "duration": 32,
    "start_time": "2023-07-22T11:42:31.923Z"
   },
   {
    "duration": 25,
    "start_time": "2023-07-22T11:42:31.956Z"
   },
   {
    "duration": 41,
    "start_time": "2023-07-22T11:42:31.983Z"
   },
   {
    "duration": 139,
    "start_time": "2023-07-22T11:42:32.026Z"
   },
   {
    "duration": 8,
    "start_time": "2023-07-22T11:42:32.167Z"
   },
   {
    "duration": 11,
    "start_time": "2023-07-22T11:42:32.177Z"
   },
   {
    "duration": 16,
    "start_time": "2023-07-22T11:42:32.189Z"
   },
   {
    "duration": 20,
    "start_time": "2023-07-22T11:42:32.207Z"
   },
   {
    "duration": 22,
    "start_time": "2023-07-22T11:42:32.229Z"
   },
   {
    "duration": 19,
    "start_time": "2023-07-22T11:42:32.253Z"
   },
   {
    "duration": 23,
    "start_time": "2023-07-22T11:42:32.275Z"
   },
   {
    "duration": 12,
    "start_time": "2023-07-22T11:42:32.301Z"
   },
   {
    "duration": 15,
    "start_time": "2023-07-22T11:42:32.315Z"
   },
   {
    "duration": 18,
    "start_time": "2023-07-22T11:42:32.332Z"
   },
   {
    "duration": 19,
    "start_time": "2023-07-22T11:42:32.352Z"
   },
   {
    "duration": 61,
    "start_time": "2023-07-22T11:42:32.374Z"
   },
   {
    "duration": 191,
    "start_time": "2023-07-22T11:42:32.437Z"
   },
   {
    "duration": 7,
    "start_time": "2023-07-22T11:42:32.630Z"
   },
   {
    "duration": 289,
    "start_time": "2023-07-22T11:42:32.638Z"
   },
   {
    "duration": 406,
    "start_time": "2023-07-22T11:42:32.928Z"
   },
   {
    "duration": 126,
    "start_time": "2023-07-22T11:42:33.335Z"
   },
   {
    "duration": 148,
    "start_time": "2023-07-22T11:42:33.468Z"
   },
   {
    "duration": 26,
    "start_time": "2023-07-22T11:42:33.622Z"
   },
   {
    "duration": 4,
    "start_time": "2023-07-22T11:42:33.650Z"
   },
   {
    "duration": 17,
    "start_time": "2023-07-22T11:42:33.656Z"
   },
   {
    "duration": 17,
    "start_time": "2023-07-22T11:42:33.675Z"
   },
   {
    "duration": 233,
    "start_time": "2023-07-22T11:42:33.694Z"
   },
   {
    "duration": 25,
    "start_time": "2023-07-22T11:42:33.929Z"
   },
   {
    "duration": 229,
    "start_time": "2023-07-22T11:42:33.956Z"
   },
   {
    "duration": 171,
    "start_time": "2023-07-22T11:42:34.187Z"
   },
   {
    "duration": 170,
    "start_time": "2023-07-22T11:42:34.359Z"
   },
   {
    "duration": 240,
    "start_time": "2023-07-22T11:42:34.531Z"
   },
   {
    "duration": 167,
    "start_time": "2023-07-22T11:42:34.773Z"
   },
   {
    "duration": 275,
    "start_time": "2023-07-22T11:42:34.942Z"
   },
   {
    "duration": 156,
    "start_time": "2023-07-22T11:42:35.219Z"
   },
   {
    "duration": 123,
    "start_time": "2023-07-22T11:42:35.376Z"
   },
   {
    "duration": 225,
    "start_time": "2023-07-22T11:42:35.501Z"
   },
   {
    "duration": 193,
    "start_time": "2023-07-22T11:42:35.727Z"
   },
   {
    "duration": 180,
    "start_time": "2023-07-22T11:42:35.921Z"
   },
   {
    "duration": 192,
    "start_time": "2023-07-22T11:42:36.104Z"
   },
   {
    "duration": 163,
    "start_time": "2023-07-22T11:42:36.299Z"
   },
   {
    "duration": 178,
    "start_time": "2023-07-22T11:42:36.467Z"
   },
   {
    "duration": 281,
    "start_time": "2023-07-22T11:42:36.647Z"
   },
   {
    "duration": 6,
    "start_time": "2023-07-22T11:42:36.929Z"
   },
   {
    "duration": 267,
    "start_time": "2023-07-22T11:42:36.937Z"
   },
   {
    "duration": 12,
    "start_time": "2023-07-22T11:42:37.206Z"
   },
   {
    "duration": 158,
    "start_time": "2023-07-22T11:42:37.220Z"
   },
   {
    "duration": 5,
    "start_time": "2023-07-22T11:42:37.380Z"
   },
   {
    "duration": 187,
    "start_time": "2023-07-22T11:42:37.387Z"
   },
   {
    "duration": 6,
    "start_time": "2023-07-22T11:42:37.576Z"
   },
   {
    "duration": 163,
    "start_time": "2023-07-22T11:42:37.583Z"
   },
   {
    "duration": 5,
    "start_time": "2023-07-22T11:42:37.748Z"
   },
   {
    "duration": 157,
    "start_time": "2023-07-22T11:42:37.768Z"
   },
   {
    "duration": 162,
    "start_time": "2023-07-22T11:42:37.926Z"
   },
   {
    "duration": 7,
    "start_time": "2023-07-22T11:42:38.091Z"
   },
   {
    "duration": 150,
    "start_time": "2023-07-22T11:42:38.100Z"
   },
   {
    "duration": 5,
    "start_time": "2023-07-22T11:42:38.252Z"
   },
   {
    "duration": 153,
    "start_time": "2023-07-22T11:42:38.268Z"
   },
   {
    "duration": 5,
    "start_time": "2023-07-22T11:42:38.423Z"
   },
   {
    "duration": 21,
    "start_time": "2023-07-22T11:42:38.429Z"
   },
   {
    "duration": 27,
    "start_time": "2023-07-22T11:42:38.451Z"
   },
   {
    "duration": 21,
    "start_time": "2023-07-22T11:42:38.480Z"
   },
   {
    "duration": 174,
    "start_time": "2023-07-22T11:42:38.503Z"
   },
   {
    "duration": 4,
    "start_time": "2023-07-22T11:42:38.680Z"
   },
   {
    "duration": 221,
    "start_time": "2023-07-22T11:46:29.936Z"
   },
   {
    "duration": 290,
    "start_time": "2023-07-22T11:47:12.344Z"
   },
   {
    "duration": 202,
    "start_time": "2023-07-22T11:47:18.352Z"
   },
   {
    "duration": 381,
    "start_time": "2023-07-22T11:47:33.872Z"
   },
   {
    "duration": 278,
    "start_time": "2023-07-22T11:47:43.099Z"
   },
   {
    "duration": 186,
    "start_time": "2023-07-22T11:47:47.342Z"
   },
   {
    "duration": 199,
    "start_time": "2023-07-22T11:47:50.864Z"
   },
   {
    "duration": 274,
    "start_time": "2023-07-22T11:47:54.040Z"
   },
   {
    "duration": 216,
    "start_time": "2023-07-22T12:17:18.124Z"
   },
   {
    "duration": 264,
    "start_time": "2023-07-22T12:17:27.691Z"
   },
   {
    "duration": 21,
    "start_time": "2023-07-22T13:42:18.020Z"
   },
   {
    "duration": 21,
    "start_time": "2023-07-22T13:43:55.397Z"
   },
   {
    "duration": 20,
    "start_time": "2023-07-22T13:44:17.509Z"
   },
   {
    "duration": 69,
    "start_time": "2023-07-22T13:48:26.196Z"
   },
   {
    "duration": 1941,
    "start_time": "2023-07-22T13:50:52.214Z"
   },
   {
    "duration": 178,
    "start_time": "2023-07-22T13:51:08.551Z"
   },
   {
    "duration": 171,
    "start_time": "2023-07-22T13:51:18.785Z"
   },
   {
    "duration": 321,
    "start_time": "2023-07-22T13:51:49.085Z"
   },
   {
    "duration": 135,
    "start_time": "2023-07-22T13:52:48.883Z"
   },
   {
    "duration": 1874,
    "start_time": "2023-07-22T13:53:14.069Z"
   },
   {
    "duration": 137,
    "start_time": "2023-07-22T13:54:48.020Z"
   },
   {
    "duration": 109,
    "start_time": "2023-07-22T13:55:08.823Z"
   },
   {
    "duration": 181,
    "start_time": "2023-07-22T13:56:10.625Z"
   },
   {
    "duration": 183,
    "start_time": "2023-07-22T13:56:23.080Z"
   },
   {
    "duration": 7,
    "start_time": "2023-07-22T14:02:11.916Z"
   },
   {
    "duration": 135,
    "start_time": "2023-07-22T14:02:20.312Z"
   },
   {
    "duration": 184,
    "start_time": "2023-07-22T14:02:42.869Z"
   },
   {
    "duration": 147,
    "start_time": "2023-07-22T14:02:57.329Z"
   },
   {
    "duration": 142,
    "start_time": "2023-07-22T14:03:11.256Z"
   },
   {
    "duration": 203,
    "start_time": "2023-07-22T14:06:59.917Z"
   },
   {
    "duration": 164,
    "start_time": "2023-07-22T14:07:29.616Z"
   },
   {
    "duration": 136,
    "start_time": "2023-07-22T14:07:38.937Z"
   },
   {
    "duration": 131,
    "start_time": "2023-07-22T14:08:55.056Z"
   },
   {
    "duration": 2,
    "start_time": "2023-07-22T14:12:19.224Z"
   },
   {
    "duration": 142,
    "start_time": "2023-07-22T14:13:07.398Z"
   },
   {
    "duration": 145,
    "start_time": "2023-07-22T14:13:32.041Z"
   },
   {
    "duration": 1766,
    "start_time": "2023-07-22T14:13:51.018Z"
   },
   {
    "duration": 1903,
    "start_time": "2023-07-22T14:13:58.343Z"
   },
   {
    "duration": 1694,
    "start_time": "2023-07-22T14:14:09.492Z"
   },
   {
    "duration": 141,
    "start_time": "2023-07-22T14:14:36.428Z"
   },
   {
    "duration": 142,
    "start_time": "2023-07-22T14:15:45.653Z"
   },
   {
    "duration": 116,
    "start_time": "2023-07-22T14:17:03.737Z"
   },
   {
    "duration": 211,
    "start_time": "2023-07-22T14:18:17.566Z"
   },
   {
    "duration": 250,
    "start_time": "2023-07-22T14:18:30.845Z"
   },
   {
    "duration": 235,
    "start_time": "2023-07-22T14:18:53.180Z"
   },
   {
    "duration": 202,
    "start_time": "2023-07-22T14:19:12.993Z"
   },
   {
    "duration": 199,
    "start_time": "2023-07-22T14:19:48.863Z"
   },
   {
    "duration": 32,
    "start_time": "2023-07-22T14:21:14.264Z"
   },
   {
    "duration": 32,
    "start_time": "2023-07-22T14:30:11.812Z"
   },
   {
    "duration": 113,
    "start_time": "2023-07-22T14:31:30.934Z"
   },
   {
    "duration": 170,
    "start_time": "2023-07-22T14:31:38.059Z"
   },
   {
    "duration": 108,
    "start_time": "2023-07-22T14:32:26.658Z"
   },
   {
    "duration": 27,
    "start_time": "2023-07-22T14:32:29.929Z"
   },
   {
    "duration": 57,
    "start_time": "2023-07-22T14:33:25.375Z"
   },
   {
    "duration": 42,
    "start_time": "2023-07-22T14:34:20.688Z"
   },
   {
    "duration": 30,
    "start_time": "2023-07-22T14:34:50.389Z"
   },
   {
    "duration": 40,
    "start_time": "2023-07-22T14:35:47.367Z"
   },
   {
    "duration": 41,
    "start_time": "2023-07-22T14:42:23.919Z"
   },
   {
    "duration": 37,
    "start_time": "2023-07-22T14:44:33.310Z"
   },
   {
    "duration": 28,
    "start_time": "2023-07-22T14:44:42.551Z"
   },
   {
    "duration": 54,
    "start_time": "2023-07-22T14:44:53.372Z"
   },
   {
    "duration": 17,
    "start_time": "2023-07-22T14:45:18.941Z"
   },
   {
    "duration": 21,
    "start_time": "2023-07-22T14:48:06.154Z"
   },
   {
    "duration": 29,
    "start_time": "2023-07-22T14:48:46.120Z"
   },
   {
    "duration": 54,
    "start_time": "2023-07-22T14:50:16.975Z"
   },
   {
    "duration": 52,
    "start_time": "2023-07-22T14:51:59.898Z"
   },
   {
    "duration": 59,
    "start_time": "2023-07-22T15:00:43.983Z"
   },
   {
    "duration": 41,
    "start_time": "2023-07-22T15:00:58.084Z"
   },
   {
    "duration": 1964,
    "start_time": "2023-07-22T15:03:13.492Z"
   },
   {
    "duration": 1914,
    "start_time": "2023-07-22T15:03:17.380Z"
   },
   {
    "duration": 51,
    "start_time": "2023-07-22T15:03:33.034Z"
   },
   {
    "duration": 47,
    "start_time": "2023-07-22T15:04:03.311Z"
   },
   {
    "duration": 44,
    "start_time": "2023-07-22T15:05:04.592Z"
   },
   {
    "duration": 49,
    "start_time": "2023-07-22T15:05:10.511Z"
   },
   {
    "duration": 1031,
    "start_time": "2023-07-22T22:47:24.186Z"
   },
   {
    "duration": 93,
    "start_time": "2023-07-22T22:47:25.219Z"
   },
   {
    "duration": 657,
    "start_time": "2023-07-22T22:47:43.128Z"
   },
   {
    "duration": 689,
    "start_time": "2023-07-22T22:47:43.787Z"
   },
   {
    "duration": 29,
    "start_time": "2023-07-22T22:47:44.478Z"
   },
   {
    "duration": 1875,
    "start_time": "2023-07-22T22:47:44.509Z"
   },
   {
    "duration": 10,
    "start_time": "2023-07-22T22:47:46.386Z"
   },
   {
    "duration": 5,
    "start_time": "2023-07-22T22:47:46.398Z"
   },
   {
    "duration": 233,
    "start_time": "2023-07-22T22:47:46.405Z"
   },
   {
    "duration": 8,
    "start_time": "2023-07-22T22:47:46.640Z"
   },
   {
    "duration": 5,
    "start_time": "2023-07-22T22:47:46.650Z"
   },
   {
    "duration": 6,
    "start_time": "2023-07-22T22:47:46.657Z"
   },
   {
    "duration": 8,
    "start_time": "2023-07-22T22:47:46.664Z"
   },
   {
    "duration": 4,
    "start_time": "2023-07-22T22:47:46.673Z"
   },
   {
    "duration": 10,
    "start_time": "2023-07-22T22:47:46.678Z"
   },
   {
    "duration": 46,
    "start_time": "2023-07-22T22:47:46.689Z"
   },
   {
    "duration": 8,
    "start_time": "2023-07-22T22:47:46.736Z"
   },
   {
    "duration": 10,
    "start_time": "2023-07-22T22:47:46.745Z"
   },
   {
    "duration": 8,
    "start_time": "2023-07-22T22:47:46.756Z"
   },
   {
    "duration": 4,
    "start_time": "2023-07-22T22:47:46.766Z"
   },
   {
    "duration": 13,
    "start_time": "2023-07-22T22:47:46.772Z"
   },
   {
    "duration": 8,
    "start_time": "2023-07-22T22:47:46.787Z"
   },
   {
    "duration": 48,
    "start_time": "2023-07-22T22:47:46.797Z"
   },
   {
    "duration": 133,
    "start_time": "2023-07-22T22:47:46.846Z"
   },
   {
    "duration": 6,
    "start_time": "2023-07-22T22:47:46.981Z"
   },
   {
    "duration": 8,
    "start_time": "2023-07-22T22:47:46.988Z"
   },
   {
    "duration": 12,
    "start_time": "2023-07-22T22:47:46.997Z"
   },
   {
    "duration": 24,
    "start_time": "2023-07-22T22:47:47.011Z"
   },
   {
    "duration": 3,
    "start_time": "2023-07-22T22:47:47.037Z"
   },
   {
    "duration": 8,
    "start_time": "2023-07-22T22:47:47.044Z"
   },
   {
    "duration": 3,
    "start_time": "2023-07-22T22:47:47.053Z"
   },
   {
    "duration": 10,
    "start_time": "2023-07-22T22:47:47.057Z"
   },
   {
    "duration": 5,
    "start_time": "2023-07-22T22:47:47.068Z"
   },
   {
    "duration": 13,
    "start_time": "2023-07-22T22:47:47.074Z"
   },
   {
    "duration": 6,
    "start_time": "2023-07-22T22:47:47.089Z"
   },
   {
    "duration": 14,
    "start_time": "2023-07-22T22:47:47.097Z"
   },
   {
    "duration": 4,
    "start_time": "2023-07-22T22:47:47.132Z"
   },
   {
    "duration": 22,
    "start_time": "2023-07-22T22:47:47.137Z"
   },
   {
    "duration": 4,
    "start_time": "2023-07-22T22:47:47.161Z"
   },
   {
    "duration": 8,
    "start_time": "2023-07-22T22:47:47.167Z"
   },
   {
    "duration": 13,
    "start_time": "2023-07-22T22:47:47.177Z"
   },
   {
    "duration": 66,
    "start_time": "2023-07-22T22:47:47.191Z"
   },
   {
    "duration": 228,
    "start_time": "2023-07-22T22:47:47.258Z"
   },
   {
    "duration": 7,
    "start_time": "2023-07-22T22:47:47.488Z"
   },
   {
    "duration": 297,
    "start_time": "2023-07-22T22:47:47.497Z"
   },
   {
    "duration": 389,
    "start_time": "2023-07-22T22:47:47.795Z"
   },
   {
    "duration": 136,
    "start_time": "2023-07-22T22:47:48.185Z"
   },
   {
    "duration": 134,
    "start_time": "2023-07-22T22:47:48.322Z"
   },
   {
    "duration": 13,
    "start_time": "2023-07-22T22:47:48.458Z"
   },
   {
    "duration": 3,
    "start_time": "2023-07-22T22:47:48.473Z"
   },
   {
    "duration": 13,
    "start_time": "2023-07-22T22:47:48.478Z"
   },
   {
    "duration": 18,
    "start_time": "2023-07-22T22:47:48.493Z"
   },
   {
    "duration": 237,
    "start_time": "2023-07-22T22:47:48.513Z"
   },
   {
    "duration": 23,
    "start_time": "2023-07-22T22:47:48.752Z"
   },
   {
    "duration": 160,
    "start_time": "2023-07-22T22:47:48.777Z"
   },
   {
    "duration": 158,
    "start_time": "2023-07-22T22:47:48.939Z"
   },
   {
    "duration": 148,
    "start_time": "2023-07-22T22:47:49.098Z"
   },
   {
    "duration": 243,
    "start_time": "2023-07-22T22:47:49.247Z"
   },
   {
    "duration": 194,
    "start_time": "2023-07-22T22:47:49.492Z"
   },
   {
    "duration": 257,
    "start_time": "2023-07-22T22:47:49.688Z"
   },
   {
    "duration": 194,
    "start_time": "2023-07-22T22:47:49.947Z"
   },
   {
    "duration": 199,
    "start_time": "2023-07-22T22:47:50.143Z"
   },
   {
    "duration": 119,
    "start_time": "2023-07-22T22:47:50.344Z"
   },
   {
    "duration": 198,
    "start_time": "2023-07-22T22:47:50.465Z"
   },
   {
    "duration": 159,
    "start_time": "2023-07-22T22:47:50.665Z"
   },
   {
    "duration": 150,
    "start_time": "2023-07-22T22:47:50.825Z"
   },
   {
    "duration": 156,
    "start_time": "2023-07-22T22:47:50.977Z"
   },
   {
    "duration": 226,
    "start_time": "2023-07-22T22:47:51.135Z"
   },
   {
    "duration": 165,
    "start_time": "2023-07-22T22:47:51.363Z"
   },
   {
    "duration": 238,
    "start_time": "2023-07-22T22:47:51.532Z"
   },
   {
    "duration": 5,
    "start_time": "2023-07-22T22:47:51.771Z"
   },
   {
    "duration": 139,
    "start_time": "2023-07-22T22:47:51.778Z"
   },
   {
    "duration": 4,
    "start_time": "2023-07-22T22:47:51.919Z"
   },
   {
    "duration": 136,
    "start_time": "2023-07-22T22:47:51.932Z"
   },
   {
    "duration": 5,
    "start_time": "2023-07-22T22:47:52.070Z"
   },
   {
    "duration": 133,
    "start_time": "2023-07-22T22:47:52.076Z"
   },
   {
    "duration": 5,
    "start_time": "2023-07-22T22:47:52.210Z"
   },
   {
    "duration": 150,
    "start_time": "2023-07-22T22:47:52.217Z"
   },
   {
    "duration": 4,
    "start_time": "2023-07-22T22:47:52.368Z"
   },
   {
    "duration": 135,
    "start_time": "2023-07-22T22:47:52.373Z"
   },
   {
    "duration": 146,
    "start_time": "2023-07-22T22:47:52.509Z"
   },
   {
    "duration": 6,
    "start_time": "2023-07-22T22:47:52.656Z"
   },
   {
    "duration": 144,
    "start_time": "2023-07-22T22:47:52.663Z"
   },
   {
    "duration": 4,
    "start_time": "2023-07-22T22:47:52.812Z"
   },
   {
    "duration": 141,
    "start_time": "2023-07-22T22:47:52.817Z"
   },
   {
    "duration": 5,
    "start_time": "2023-07-22T22:47:52.960Z"
   },
   {
    "duration": 23,
    "start_time": "2023-07-22T22:47:52.966Z"
   },
   {
    "duration": 125,
    "start_time": "2023-07-22T22:47:52.991Z"
   },
   {
    "duration": 27,
    "start_time": "2023-07-22T22:47:53.118Z"
   },
   {
    "duration": 285,
    "start_time": "2023-07-22T22:47:53.146Z"
   },
   {
    "duration": 10,
    "start_time": "2023-07-22T22:47:53.433Z"
   },
   {
    "duration": 26,
    "start_time": "2023-07-22T22:47:53.444Z"
   },
   {
    "duration": 144,
    "start_time": "2023-07-22T22:47:53.472Z"
   },
   {
    "duration": 34,
    "start_time": "2023-07-22T22:47:53.618Z"
   },
   {
    "duration": 40,
    "start_time": "2023-07-22T22:47:53.654Z"
   },
   {
    "duration": 52,
    "start_time": "2023-07-22T22:47:53.696Z"
   },
   {
    "duration": 420,
    "start_time": "2023-07-22T22:47:53.750Z"
   },
   {
    "duration": 101,
    "start_time": "2023-07-22T22:47:54.171Z"
   },
   {
    "duration": 0,
    "start_time": "2023-07-22T22:47:54.274Z"
   },
   {
    "duration": 0,
    "start_time": "2023-07-22T22:47:54.275Z"
   },
   {
    "duration": 0,
    "start_time": "2023-07-22T22:47:54.276Z"
   },
   {
    "duration": 3395,
    "start_time": "2023-07-22T22:50:33.691Z"
   },
   {
    "duration": 507,
    "start_time": "2023-07-22T22:50:38.358Z"
   },
   {
    "duration": 173,
    "start_time": "2023-07-22T22:50:40.671Z"
   },
   {
    "duration": 681,
    "start_time": "2023-07-22T22:52:06.432Z"
   },
   {
    "duration": 109,
    "start_time": "2023-07-22T22:52:07.115Z"
   },
   {
    "duration": 29,
    "start_time": "2023-07-22T22:52:07.225Z"
   },
   {
    "duration": 1868,
    "start_time": "2023-07-22T22:52:07.256Z"
   },
   {
    "duration": 10,
    "start_time": "2023-07-22T22:52:09.131Z"
   },
   {
    "duration": 15,
    "start_time": "2023-07-22T22:52:09.143Z"
   },
   {
    "duration": 246,
    "start_time": "2023-07-22T22:52:09.160Z"
   },
   {
    "duration": 9,
    "start_time": "2023-07-22T22:52:09.408Z"
   },
   {
    "duration": 19,
    "start_time": "2023-07-22T22:52:09.418Z"
   },
   {
    "duration": 17,
    "start_time": "2023-07-22T22:52:09.438Z"
   },
   {
    "duration": 10,
    "start_time": "2023-07-22T22:52:09.456Z"
   },
   {
    "duration": 26,
    "start_time": "2023-07-22T22:52:09.467Z"
   },
   {
    "duration": 29,
    "start_time": "2023-07-22T22:52:09.495Z"
   },
   {
    "duration": 13,
    "start_time": "2023-07-22T22:52:09.527Z"
   },
   {
    "duration": 8,
    "start_time": "2023-07-22T22:52:09.541Z"
   },
   {
    "duration": 9,
    "start_time": "2023-07-22T22:52:09.550Z"
   },
   {
    "duration": 14,
    "start_time": "2023-07-22T22:52:09.560Z"
   },
   {
    "duration": 3,
    "start_time": "2023-07-22T22:52:09.576Z"
   },
   {
    "duration": 14,
    "start_time": "2023-07-22T22:52:09.581Z"
   },
   {
    "duration": 12,
    "start_time": "2023-07-22T22:52:09.597Z"
   },
   {
    "duration": 39,
    "start_time": "2023-07-22T22:52:09.611Z"
   },
   {
    "duration": 146,
    "start_time": "2023-07-22T22:52:09.651Z"
   },
   {
    "duration": 7,
    "start_time": "2023-07-22T22:52:09.798Z"
   },
   {
    "duration": 9,
    "start_time": "2023-07-22T22:52:09.807Z"
   },
   {
    "duration": 24,
    "start_time": "2023-07-22T22:52:09.817Z"
   },
   {
    "duration": 15,
    "start_time": "2023-07-22T22:52:09.843Z"
   },
   {
    "duration": 12,
    "start_time": "2023-07-22T22:52:09.859Z"
   },
   {
    "duration": 17,
    "start_time": "2023-07-22T22:52:09.872Z"
   },
   {
    "duration": 17,
    "start_time": "2023-07-22T22:52:09.890Z"
   },
   {
    "duration": 16,
    "start_time": "2023-07-22T22:52:09.909Z"
   },
   {
    "duration": 5,
    "start_time": "2023-07-22T22:52:09.926Z"
   },
   {
    "duration": 19,
    "start_time": "2023-07-22T22:52:09.933Z"
   },
   {
    "duration": 4,
    "start_time": "2023-07-22T22:52:09.953Z"
   },
   {
    "duration": 26,
    "start_time": "2023-07-22T22:52:09.958Z"
   },
   {
    "duration": 4,
    "start_time": "2023-07-22T22:52:09.986Z"
   },
   {
    "duration": 13,
    "start_time": "2023-07-22T22:52:09.992Z"
   },
   {
    "duration": 14,
    "start_time": "2023-07-22T22:52:10.007Z"
   },
   {
    "duration": 19,
    "start_time": "2023-07-22T22:52:10.023Z"
   },
   {
    "duration": 14,
    "start_time": "2023-07-22T22:52:10.043Z"
   },
   {
    "duration": 50,
    "start_time": "2023-07-22T22:52:10.059Z"
   },
   {
    "duration": 203,
    "start_time": "2023-07-22T22:52:10.114Z"
   },
   {
    "duration": 8,
    "start_time": "2023-07-22T22:52:10.319Z"
   },
   {
    "duration": 295,
    "start_time": "2023-07-22T22:52:10.328Z"
   },
   {
    "duration": 373,
    "start_time": "2023-07-22T22:52:10.624Z"
   },
   {
    "duration": 128,
    "start_time": "2023-07-22T22:52:10.999Z"
   },
   {
    "duration": 128,
    "start_time": "2023-07-22T22:52:11.131Z"
   },
   {
    "duration": 14,
    "start_time": "2023-07-22T22:52:11.261Z"
   },
   {
    "duration": 4,
    "start_time": "2023-07-22T22:52:11.276Z"
   },
   {
    "duration": 13,
    "start_time": "2023-07-22T22:52:11.281Z"
   },
   {
    "duration": 12,
    "start_time": "2023-07-22T22:52:11.295Z"
   },
   {
    "duration": 226,
    "start_time": "2023-07-22T22:52:11.309Z"
   },
   {
    "duration": 24,
    "start_time": "2023-07-22T22:52:11.537Z"
   },
   {
    "duration": 155,
    "start_time": "2023-07-22T22:52:11.563Z"
   },
   {
    "duration": 164,
    "start_time": "2023-07-22T22:52:11.719Z"
   },
   {
    "duration": 155,
    "start_time": "2023-07-22T22:52:11.885Z"
   },
   {
    "duration": 237,
    "start_time": "2023-07-22T22:52:12.042Z"
   },
   {
    "duration": 169,
    "start_time": "2023-07-22T22:52:12.281Z"
   },
   {
    "duration": 259,
    "start_time": "2023-07-22T22:52:12.452Z"
   },
   {
    "duration": 205,
    "start_time": "2023-07-22T22:52:12.713Z"
   },
   {
    "duration": 216,
    "start_time": "2023-07-22T22:52:12.920Z"
   },
   {
    "duration": 125,
    "start_time": "2023-07-22T22:52:13.138Z"
   },
   {
    "duration": 221,
    "start_time": "2023-07-22T22:52:13.265Z"
   },
   {
    "duration": 166,
    "start_time": "2023-07-22T22:52:13.487Z"
   },
   {
    "duration": 191,
    "start_time": "2023-07-22T22:52:13.655Z"
   },
   {
    "duration": 179,
    "start_time": "2023-07-22T22:52:13.848Z"
   },
   {
    "duration": 243,
    "start_time": "2023-07-22T22:52:14.031Z"
   },
   {
    "duration": 177,
    "start_time": "2023-07-22T22:52:14.276Z"
   },
   {
    "duration": 322,
    "start_time": "2023-07-22T22:52:14.454Z"
   },
   {
    "duration": 6,
    "start_time": "2023-07-22T22:52:14.778Z"
   },
   {
    "duration": 173,
    "start_time": "2023-07-22T22:52:14.786Z"
   },
   {
    "duration": 5,
    "start_time": "2023-07-22T22:52:14.961Z"
   },
   {
    "duration": 157,
    "start_time": "2023-07-22T22:52:14.968Z"
   },
   {
    "duration": 7,
    "start_time": "2023-07-22T22:52:15.127Z"
   },
   {
    "duration": 153,
    "start_time": "2023-07-22T22:52:15.136Z"
   },
   {
    "duration": 5,
    "start_time": "2023-07-22T22:52:15.290Z"
   },
   {
    "duration": 167,
    "start_time": "2023-07-22T22:52:15.297Z"
   },
   {
    "duration": 6,
    "start_time": "2023-07-22T22:52:15.466Z"
   },
   {
    "duration": 160,
    "start_time": "2023-07-22T22:52:15.473Z"
   },
   {
    "duration": 153,
    "start_time": "2023-07-22T22:52:15.635Z"
   },
   {
    "duration": 5,
    "start_time": "2023-07-22T22:52:15.790Z"
   },
   {
    "duration": 144,
    "start_time": "2023-07-22T22:52:15.796Z"
   },
   {
    "duration": 7,
    "start_time": "2023-07-22T22:52:15.941Z"
   },
   {
    "duration": 147,
    "start_time": "2023-07-22T22:52:15.949Z"
   },
   {
    "duration": 6,
    "start_time": "2023-07-22T22:52:16.097Z"
   },
   {
    "duration": 37,
    "start_time": "2023-07-22T22:52:16.105Z"
   },
   {
    "duration": 134,
    "start_time": "2023-07-22T22:52:16.143Z"
   },
   {
    "duration": 21,
    "start_time": "2023-07-22T22:52:16.279Z"
   },
   {
    "duration": 298,
    "start_time": "2023-07-22T22:52:16.301Z"
   },
   {
    "duration": 8,
    "start_time": "2023-07-22T22:52:16.601Z"
   },
   {
    "duration": 27,
    "start_time": "2023-07-22T22:52:16.611Z"
   },
   {
    "duration": 151,
    "start_time": "2023-07-22T22:52:16.639Z"
   },
   {
    "duration": 44,
    "start_time": "2023-07-22T22:52:16.792Z"
   },
   {
    "duration": 37,
    "start_time": "2023-07-22T22:52:16.838Z"
   },
   {
    "duration": 32,
    "start_time": "2023-07-22T22:52:16.876Z"
   },
   {
    "duration": 469,
    "start_time": "2023-07-22T22:52:16.910Z"
   },
   {
    "duration": 3332,
    "start_time": "2023-07-22T22:52:17.380Z"
   },
   {
    "duration": 527,
    "start_time": "2023-07-22T22:52:20.713Z"
   },
   {
    "duration": 176,
    "start_time": "2023-07-22T22:52:21.242Z"
   },
   {
    "duration": 3,
    "start_time": "2023-07-22T22:52:21.419Z"
   },
   {
    "duration": 73,
    "start_time": "2023-07-23T09:50:56.402Z"
   },
   {
    "duration": 1035,
    "start_time": "2023-07-23T09:51:02.565Z"
   },
   {
    "duration": 998,
    "start_time": "2023-07-23T09:51:03.602Z"
   },
   {
    "duration": 36,
    "start_time": "2023-07-23T09:51:04.602Z"
   },
   {
    "duration": 2557,
    "start_time": "2023-07-23T09:51:04.644Z"
   },
   {
    "duration": 9,
    "start_time": "2023-07-23T09:51:07.203Z"
   },
   {
    "duration": 82,
    "start_time": "2023-07-23T09:51:07.214Z"
   },
   {
    "duration": 378,
    "start_time": "2023-07-23T09:51:07.298Z"
   },
   {
    "duration": 8,
    "start_time": "2023-07-23T09:51:07.678Z"
   },
   {
    "duration": 116,
    "start_time": "2023-07-23T09:51:07.688Z"
   },
   {
    "duration": 47,
    "start_time": "2023-07-23T09:51:07.805Z"
   },
   {
    "duration": 60,
    "start_time": "2023-07-23T09:51:07.854Z"
   },
   {
    "duration": 74,
    "start_time": "2023-07-23T09:51:07.916Z"
   },
   {
    "duration": 45,
    "start_time": "2023-07-23T09:51:07.992Z"
   },
   {
    "duration": 57,
    "start_time": "2023-07-23T09:51:08.041Z"
   },
   {
    "duration": 14,
    "start_time": "2023-07-23T09:51:08.100Z"
   },
   {
    "duration": 70,
    "start_time": "2023-07-23T09:51:08.115Z"
   },
   {
    "duration": 93,
    "start_time": "2023-07-23T09:51:08.187Z"
   },
   {
    "duration": 125,
    "start_time": "2023-07-23T09:51:08.282Z"
   },
   {
    "duration": 125,
    "start_time": "2023-07-23T09:51:08.409Z"
   },
   {
    "duration": 65,
    "start_time": "2023-07-23T09:51:08.536Z"
   },
   {
    "duration": 86,
    "start_time": "2023-07-23T09:51:08.604Z"
   },
   {
    "duration": 203,
    "start_time": "2023-07-23T09:51:08.692Z"
   },
   {
    "duration": 7,
    "start_time": "2023-07-23T09:51:08.897Z"
   },
   {
    "duration": 50,
    "start_time": "2023-07-23T09:51:08.905Z"
   },
   {
    "duration": 37,
    "start_time": "2023-07-23T09:51:08.965Z"
   },
   {
    "duration": 89,
    "start_time": "2023-07-23T09:51:09.004Z"
   },
   {
    "duration": 92,
    "start_time": "2023-07-23T09:51:09.094Z"
   },
   {
    "duration": 22,
    "start_time": "2023-07-23T09:51:09.188Z"
   },
   {
    "duration": 60,
    "start_time": "2023-07-23T09:51:09.212Z"
   },
   {
    "duration": 28,
    "start_time": "2023-07-23T09:51:09.274Z"
   },
   {
    "duration": 11,
    "start_time": "2023-07-23T09:51:09.304Z"
   },
   {
    "duration": 72,
    "start_time": "2023-07-23T09:51:09.318Z"
   },
   {
    "duration": 10,
    "start_time": "2023-07-23T09:51:09.392Z"
   },
   {
    "duration": 77,
    "start_time": "2023-07-23T09:51:09.404Z"
   },
   {
    "duration": 12,
    "start_time": "2023-07-23T09:51:09.482Z"
   },
   {
    "duration": 15,
    "start_time": "2023-07-23T09:51:09.495Z"
   },
   {
    "duration": 38,
    "start_time": "2023-07-23T09:51:09.511Z"
   },
   {
    "duration": 46,
    "start_time": "2023-07-23T09:51:09.550Z"
   },
   {
    "duration": 51,
    "start_time": "2023-07-23T09:51:09.597Z"
   },
   {
    "duration": 130,
    "start_time": "2023-07-23T09:51:09.650Z"
   },
   {
    "duration": 306,
    "start_time": "2023-07-23T09:51:09.787Z"
   },
   {
    "duration": 9,
    "start_time": "2023-07-23T09:51:10.095Z"
   },
   {
    "duration": 400,
    "start_time": "2023-07-23T09:51:10.105Z"
   },
   {
    "duration": 524,
    "start_time": "2023-07-23T09:51:10.506Z"
   },
   {
    "duration": 173,
    "start_time": "2023-07-23T09:51:11.032Z"
   },
   {
    "duration": 172,
    "start_time": "2023-07-23T09:51:11.206Z"
   },
   {
    "duration": 14,
    "start_time": "2023-07-23T09:51:11.380Z"
   },
   {
    "duration": 74,
    "start_time": "2023-07-23T09:51:11.396Z"
   },
   {
    "duration": 38,
    "start_time": "2023-07-23T09:51:11.472Z"
   },
   {
    "duration": 68,
    "start_time": "2023-07-23T09:51:11.512Z"
   },
   {
    "duration": 409,
    "start_time": "2023-07-23T09:51:11.581Z"
   },
   {
    "duration": 33,
    "start_time": "2023-07-23T09:51:11.995Z"
   },
   {
    "duration": 250,
    "start_time": "2023-07-23T09:51:12.034Z"
   },
   {
    "duration": 212,
    "start_time": "2023-07-23T09:51:12.286Z"
   },
   {
    "duration": 247,
    "start_time": "2023-07-23T09:51:12.500Z"
   },
   {
    "duration": 354,
    "start_time": "2023-07-23T09:51:12.749Z"
   },
   {
    "duration": 285,
    "start_time": "2023-07-23T09:51:13.105Z"
   },
   {
    "duration": 223,
    "start_time": "2023-07-23T09:51:13.391Z"
   },
   {
    "duration": 273,
    "start_time": "2023-07-23T09:51:13.615Z"
   },
   {
    "duration": 245,
    "start_time": "2023-07-23T09:51:13.890Z"
   },
   {
    "duration": 148,
    "start_time": "2023-07-23T09:51:14.136Z"
   },
   {
    "duration": 217,
    "start_time": "2023-07-23T09:51:14.286Z"
   },
   {
    "duration": 242,
    "start_time": "2023-07-23T09:51:14.504Z"
   },
   {
    "duration": 199,
    "start_time": "2023-07-23T09:51:14.757Z"
   },
   {
    "duration": 235,
    "start_time": "2023-07-23T09:51:14.957Z"
   },
   {
    "duration": 308,
    "start_time": "2023-07-23T09:51:15.195Z"
   },
   {
    "duration": 206,
    "start_time": "2023-07-23T09:51:15.504Z"
   },
   {
    "duration": 354,
    "start_time": "2023-07-23T09:51:15.712Z"
   },
   {
    "duration": 7,
    "start_time": "2023-07-23T09:51:16.068Z"
   },
   {
    "duration": 278,
    "start_time": "2023-07-23T09:51:16.077Z"
   },
   {
    "duration": 15,
    "start_time": "2023-07-23T09:51:16.359Z"
   },
   {
    "duration": 155,
    "start_time": "2023-07-23T09:51:16.376Z"
   },
   {
    "duration": 13,
    "start_time": "2023-07-23T09:51:16.532Z"
   },
   {
    "duration": 164,
    "start_time": "2023-07-23T09:51:16.553Z"
   },
   {
    "duration": 13,
    "start_time": "2023-07-23T09:51:16.719Z"
   },
   {
    "duration": 227,
    "start_time": "2023-07-23T09:51:16.734Z"
   },
   {
    "duration": 7,
    "start_time": "2023-07-23T09:51:16.963Z"
   },
   {
    "duration": 222,
    "start_time": "2023-07-23T09:51:16.971Z"
   },
   {
    "duration": 206,
    "start_time": "2023-07-23T09:51:17.195Z"
   },
   {
    "duration": 4,
    "start_time": "2023-07-23T09:51:17.403Z"
   },
   {
    "duration": 236,
    "start_time": "2023-07-23T09:51:17.409Z"
   },
   {
    "duration": 6,
    "start_time": "2023-07-23T09:51:17.647Z"
   },
   {
    "duration": 199,
    "start_time": "2023-07-23T09:51:17.655Z"
   },
   {
    "duration": 13,
    "start_time": "2023-07-23T09:51:17.859Z"
   },
   {
    "duration": 48,
    "start_time": "2023-07-23T09:51:17.877Z"
   },
   {
    "duration": 213,
    "start_time": "2023-07-23T09:51:17.928Z"
   },
   {
    "duration": 35,
    "start_time": "2023-07-23T09:51:18.144Z"
   },
   {
    "duration": 419,
    "start_time": "2023-07-23T09:51:18.180Z"
   },
   {
    "duration": 8,
    "start_time": "2023-07-23T09:51:18.601Z"
   },
   {
    "duration": 88,
    "start_time": "2023-07-23T09:51:18.611Z"
   },
   {
    "duration": 182,
    "start_time": "2023-07-23T09:51:18.701Z"
   },
   {
    "duration": 29,
    "start_time": "2023-07-23T09:51:18.887Z"
   },
   {
    "duration": 92,
    "start_time": "2023-07-23T09:51:18.923Z"
   },
   {
    "duration": 75,
    "start_time": "2023-07-23T09:51:19.018Z"
   },
   {
    "duration": 568,
    "start_time": "2023-07-23T09:51:19.095Z"
   },
   {
    "duration": 4276,
    "start_time": "2023-07-23T09:51:19.664Z"
   },
   {
    "duration": 625,
    "start_time": "2023-07-23T09:51:23.943Z"
   },
   {
    "duration": 217,
    "start_time": "2023-07-23T09:51:24.571Z"
   },
   {
    "duration": 3,
    "start_time": "2023-07-23T09:51:24.790Z"
   },
   {
    "duration": 9,
    "start_time": "2023-07-23T09:53:46.888Z"
   },
   {
    "duration": 3,
    "start_time": "2023-07-23T09:53:47.406Z"
   },
   {
    "duration": 9,
    "start_time": "2023-07-23T09:54:00.264Z"
   },
   {
    "duration": 3,
    "start_time": "2023-07-23T09:54:01.899Z"
   },
   {
    "duration": 792,
    "start_time": "2023-07-23T09:54:11.035Z"
   },
   {
    "duration": 156,
    "start_time": "2023-07-23T09:54:11.829Z"
   },
   {
    "duration": 30,
    "start_time": "2023-07-23T09:54:11.987Z"
   },
   {
    "duration": 2290,
    "start_time": "2023-07-23T09:54:12.019Z"
   },
   {
    "duration": 9,
    "start_time": "2023-07-23T09:54:14.311Z"
   },
   {
    "duration": 54,
    "start_time": "2023-07-23T09:54:14.321Z"
   },
   {
    "duration": 299,
    "start_time": "2023-07-23T09:54:14.377Z"
   },
   {
    "duration": 8,
    "start_time": "2023-07-23T09:54:14.678Z"
   },
   {
    "duration": 18,
    "start_time": "2023-07-23T09:54:14.688Z"
   },
   {
    "duration": 17,
    "start_time": "2023-07-23T09:54:14.710Z"
   },
   {
    "duration": 55,
    "start_time": "2023-07-23T09:54:14.729Z"
   },
   {
    "duration": 13,
    "start_time": "2023-07-23T09:54:14.786Z"
   },
   {
    "duration": 31,
    "start_time": "2023-07-23T09:54:14.802Z"
   },
   {
    "duration": 60,
    "start_time": "2023-07-23T09:54:14.834Z"
   },
   {
    "duration": 9,
    "start_time": "2023-07-23T09:54:14.896Z"
   },
   {
    "duration": 55,
    "start_time": "2023-07-23T09:54:14.907Z"
   },
   {
    "duration": 35,
    "start_time": "2023-07-23T09:54:14.964Z"
   },
   {
    "duration": 84,
    "start_time": "2023-07-23T09:54:15.002Z"
   },
   {
    "duration": 100,
    "start_time": "2023-07-23T09:54:15.089Z"
   },
   {
    "duration": 21,
    "start_time": "2023-07-23T09:54:15.191Z"
   },
   {
    "duration": 99,
    "start_time": "2023-07-23T09:54:15.214Z"
   },
   {
    "duration": 218,
    "start_time": "2023-07-23T09:54:15.315Z"
   },
   {
    "duration": 9,
    "start_time": "2023-07-23T09:54:15.535Z"
   },
   {
    "duration": 51,
    "start_time": "2023-07-23T09:54:15.546Z"
   },
   {
    "duration": 29,
    "start_time": "2023-07-23T09:54:15.599Z"
   },
   {
    "duration": 82,
    "start_time": "2023-07-23T09:54:15.629Z"
   },
   {
    "duration": 35,
    "start_time": "2023-07-23T09:54:15.713Z"
   },
   {
    "duration": 40,
    "start_time": "2023-07-23T09:54:15.753Z"
   },
   {
    "duration": 25,
    "start_time": "2023-07-23T09:54:15.795Z"
   },
   {
    "duration": 74,
    "start_time": "2023-07-23T09:54:15.821Z"
   },
   {
    "duration": 51,
    "start_time": "2023-07-23T09:54:15.897Z"
   },
   {
    "duration": 54,
    "start_time": "2023-07-23T09:54:15.949Z"
   },
   {
    "duration": 87,
    "start_time": "2023-07-23T09:54:16.004Z"
   },
   {
    "duration": 21,
    "start_time": "2023-07-23T09:54:16.093Z"
   },
   {
    "duration": 59,
    "start_time": "2023-07-23T09:54:16.116Z"
   },
   {
    "duration": 51,
    "start_time": "2023-07-23T09:54:16.177Z"
   },
   {
    "duration": 72,
    "start_time": "2023-07-23T09:54:16.230Z"
   },
   {
    "duration": 79,
    "start_time": "2023-07-23T09:54:16.304Z"
   },
   {
    "duration": 27,
    "start_time": "2023-07-23T09:54:16.385Z"
   },
   {
    "duration": 82,
    "start_time": "2023-07-23T09:54:16.413Z"
   },
   {
    "duration": 281,
    "start_time": "2023-07-23T09:54:16.497Z"
   },
   {
    "duration": 9,
    "start_time": "2023-07-23T09:54:16.780Z"
   },
   {
    "duration": 413,
    "start_time": "2023-07-23T09:54:16.791Z"
   },
   {
    "duration": 464,
    "start_time": "2023-07-23T09:54:17.206Z"
   },
   {
    "duration": 156,
    "start_time": "2023-07-23T09:54:17.672Z"
   },
   {
    "duration": 163,
    "start_time": "2023-07-23T09:54:17.833Z"
   },
   {
    "duration": 16,
    "start_time": "2023-07-23T09:54:17.998Z"
   },
   {
    "duration": 50,
    "start_time": "2023-07-23T09:54:18.028Z"
   },
   {
    "duration": 14,
    "start_time": "2023-07-23T09:54:18.080Z"
   },
   {
    "duration": 8,
    "start_time": "2023-07-23T09:54:18.095Z"
   },
   {
    "duration": 371,
    "start_time": "2023-07-23T09:54:18.105Z"
   },
   {
    "duration": 23,
    "start_time": "2023-07-23T09:54:18.478Z"
   },
   {
    "duration": 188,
    "start_time": "2023-07-23T09:54:18.502Z"
   },
   {
    "duration": 189,
    "start_time": "2023-07-23T09:54:18.692Z"
   },
   {
    "duration": 206,
    "start_time": "2023-07-23T09:54:18.883Z"
   },
   {
    "duration": 303,
    "start_time": "2023-07-23T09:54:19.090Z"
   },
   {
    "duration": 287,
    "start_time": "2023-07-23T09:54:19.395Z"
   },
   {
    "duration": 203,
    "start_time": "2023-07-23T09:54:19.684Z"
   },
   {
    "duration": 204,
    "start_time": "2023-07-23T09:54:19.888Z"
   },
   {
    "duration": 228,
    "start_time": "2023-07-23T09:54:20.094Z"
   },
   {
    "duration": 155,
    "start_time": "2023-07-23T09:54:20.324Z"
   },
   {
    "duration": 211,
    "start_time": "2023-07-23T09:54:20.481Z"
   },
   {
    "duration": 202,
    "start_time": "2023-07-23T09:54:20.694Z"
   },
   {
    "duration": 184,
    "start_time": "2023-07-23T09:54:20.898Z"
   },
   {
    "duration": 208,
    "start_time": "2023-07-23T09:54:21.084Z"
   },
   {
    "duration": 271,
    "start_time": "2023-07-23T09:54:21.294Z"
   },
   {
    "duration": 174,
    "start_time": "2023-07-23T09:54:21.567Z"
   },
   {
    "duration": 264,
    "start_time": "2023-07-23T09:54:21.742Z"
   },
   {
    "duration": 5,
    "start_time": "2023-07-23T09:54:22.008Z"
   },
   {
    "duration": 238,
    "start_time": "2023-07-23T09:54:22.015Z"
   },
   {
    "duration": 7,
    "start_time": "2023-07-23T09:54:22.254Z"
   },
   {
    "duration": 203,
    "start_time": "2023-07-23T09:54:22.263Z"
   },
   {
    "duration": 9,
    "start_time": "2023-07-23T09:54:22.469Z"
   },
   {
    "duration": 184,
    "start_time": "2023-07-23T09:54:22.482Z"
   },
   {
    "duration": 16,
    "start_time": "2023-07-23T09:54:22.669Z"
   },
   {
    "duration": 217,
    "start_time": "2023-07-23T09:54:22.687Z"
   },
   {
    "duration": 6,
    "start_time": "2023-07-23T09:54:22.905Z"
   },
   {
    "duration": 255,
    "start_time": "2023-07-23T09:54:22.912Z"
   },
   {
    "duration": 165,
    "start_time": "2023-07-23T09:54:23.168Z"
   },
   {
    "duration": 7,
    "start_time": "2023-07-23T09:54:23.335Z"
   },
   {
    "duration": 214,
    "start_time": "2023-07-23T09:54:23.344Z"
   },
   {
    "duration": 7,
    "start_time": "2023-07-23T09:54:23.566Z"
   },
   {
    "duration": 196,
    "start_time": "2023-07-23T09:54:23.577Z"
   },
   {
    "duration": 4,
    "start_time": "2023-07-23T09:54:23.779Z"
   },
   {
    "duration": 134,
    "start_time": "2023-07-23T09:54:23.785Z"
   },
   {
    "duration": 197,
    "start_time": "2023-07-23T09:54:23.922Z"
   },
   {
    "duration": 37,
    "start_time": "2023-07-23T09:54:24.121Z"
   },
   {
    "duration": 438,
    "start_time": "2023-07-23T09:54:24.165Z"
   },
   {
    "duration": 9,
    "start_time": "2023-07-23T09:54:24.604Z"
   },
   {
    "duration": 65,
    "start_time": "2023-07-23T09:54:24.614Z"
   },
   {
    "duration": 173,
    "start_time": "2023-07-23T09:54:24.681Z"
   },
   {
    "duration": 38,
    "start_time": "2023-07-23T09:54:24.856Z"
   },
   {
    "duration": 46,
    "start_time": "2023-07-23T09:54:24.896Z"
   },
   {
    "duration": 46,
    "start_time": "2023-07-23T09:54:24.944Z"
   },
   {
    "duration": 499,
    "start_time": "2023-07-23T09:54:24.992Z"
   },
   {
    "duration": 4176,
    "start_time": "2023-07-23T09:54:25.493Z"
   },
   {
    "duration": 622,
    "start_time": "2023-07-23T09:54:29.671Z"
   },
   {
    "duration": 216,
    "start_time": "2023-07-23T09:54:30.295Z"
   },
   {
    "duration": 21,
    "start_time": "2023-07-23T09:54:30.512Z"
   },
   {
    "duration": 155,
    "start_time": "2023-07-23T09:55:18.738Z"
   },
   {
    "duration": 221,
    "start_time": "2023-07-23T09:55:30.567Z"
   },
   {
    "duration": 133,
    "start_time": "2023-07-23T09:58:40.347Z"
   },
   {
    "duration": 737,
    "start_time": "2023-07-23T10:00:35.668Z"
   },
   {
    "duration": 122,
    "start_time": "2023-07-23T10:00:36.407Z"
   },
   {
    "duration": 47,
    "start_time": "2023-07-23T10:00:36.531Z"
   },
   {
    "duration": 2130,
    "start_time": "2023-07-23T10:00:36.579Z"
   },
   {
    "duration": 15,
    "start_time": "2023-07-23T10:00:38.711Z"
   },
   {
    "duration": 54,
    "start_time": "2023-07-23T10:00:38.728Z"
   },
   {
    "duration": 278,
    "start_time": "2023-07-23T10:00:38.783Z"
   },
   {
    "duration": 17,
    "start_time": "2023-07-23T10:00:39.063Z"
   },
   {
    "duration": 104,
    "start_time": "2023-07-23T10:00:39.083Z"
   },
   {
    "duration": 86,
    "start_time": "2023-07-23T10:00:39.189Z"
   },
   {
    "duration": 178,
    "start_time": "2023-07-23T10:00:39.277Z"
   },
   {
    "duration": 62,
    "start_time": "2023-07-23T10:00:39.457Z"
   },
   {
    "duration": 142,
    "start_time": "2023-07-23T10:00:39.528Z"
   },
   {
    "duration": 124,
    "start_time": "2023-07-23T10:00:39.673Z"
   },
   {
    "duration": 113,
    "start_time": "2023-07-23T10:00:39.799Z"
   },
   {
    "duration": 296,
    "start_time": "2023-07-23T10:00:39.914Z"
   },
   {
    "duration": 78,
    "start_time": "2023-07-23T10:00:40.211Z"
   },
   {
    "duration": 26,
    "start_time": "2023-07-23T10:00:40.290Z"
   },
   {
    "duration": 87,
    "start_time": "2023-07-23T10:00:40.318Z"
   },
   {
    "duration": 20,
    "start_time": "2023-07-23T10:00:40.407Z"
   },
   {
    "duration": 91,
    "start_time": "2023-07-23T10:00:40.428Z"
   },
   {
    "duration": 206,
    "start_time": "2023-07-23T10:00:40.520Z"
   },
   {
    "duration": 14,
    "start_time": "2023-07-23T10:00:40.739Z"
   },
   {
    "duration": 29,
    "start_time": "2023-07-23T10:00:40.755Z"
   },
   {
    "duration": 13,
    "start_time": "2023-07-23T10:00:40.785Z"
   },
   {
    "duration": 7,
    "start_time": "2023-07-23T10:00:40.800Z"
   },
   {
    "duration": 4,
    "start_time": "2023-07-23T10:00:40.809Z"
   },
   {
    "duration": 23,
    "start_time": "2023-07-23T10:00:40.814Z"
   },
   {
    "duration": 44,
    "start_time": "2023-07-23T10:00:40.839Z"
   },
   {
    "duration": 14,
    "start_time": "2023-07-23T10:00:40.884Z"
   },
   {
    "duration": 3,
    "start_time": "2023-07-23T10:00:40.900Z"
   },
   {
    "duration": 10,
    "start_time": "2023-07-23T10:00:40.904Z"
   },
   {
    "duration": 14,
    "start_time": "2023-07-23T10:00:40.915Z"
   },
   {
    "duration": 812,
    "start_time": "2023-07-23T10:02:22.170Z"
   },
   {
    "duration": 136,
    "start_time": "2023-07-23T10:02:22.989Z"
   },
   {
    "duration": 49,
    "start_time": "2023-07-23T10:02:23.126Z"
   },
   {
    "duration": 2426,
    "start_time": "2023-07-23T10:02:23.179Z"
   },
   {
    "duration": 21,
    "start_time": "2023-07-23T10:02:25.607Z"
   },
   {
    "duration": 61,
    "start_time": "2023-07-23T10:02:25.636Z"
   },
   {
    "duration": 277,
    "start_time": "2023-07-23T10:02:25.699Z"
   },
   {
    "duration": 7,
    "start_time": "2023-07-23T10:02:25.978Z"
   },
   {
    "duration": 24,
    "start_time": "2023-07-23T10:02:25.986Z"
   },
   {
    "duration": 60,
    "start_time": "2023-07-23T10:02:26.012Z"
   },
   {
    "duration": 35,
    "start_time": "2023-07-23T10:02:26.074Z"
   },
   {
    "duration": 82,
    "start_time": "2023-07-23T10:02:26.111Z"
   },
   {
    "duration": 38,
    "start_time": "2023-07-23T10:02:26.195Z"
   },
   {
    "duration": 53,
    "start_time": "2023-07-23T10:02:26.234Z"
   },
   {
    "duration": 24,
    "start_time": "2023-07-23T10:02:26.289Z"
   },
   {
    "duration": 85,
    "start_time": "2023-07-23T10:02:26.315Z"
   },
   {
    "duration": 67,
    "start_time": "2023-07-23T10:02:26.401Z"
   },
   {
    "duration": 29,
    "start_time": "2023-07-23T10:02:26.470Z"
   },
   {
    "duration": 91,
    "start_time": "2023-07-23T10:02:26.500Z"
   },
   {
    "duration": 14,
    "start_time": "2023-07-23T10:02:26.593Z"
   },
   {
    "duration": 88,
    "start_time": "2023-07-23T10:02:26.609Z"
   },
   {
    "duration": 185,
    "start_time": "2023-07-23T10:02:26.699Z"
   },
   {
    "duration": 9,
    "start_time": "2023-07-23T10:02:26.885Z"
   },
   {
    "duration": 81,
    "start_time": "2023-07-23T10:02:26.896Z"
   },
   {
    "duration": 75,
    "start_time": "2023-07-23T10:02:26.979Z"
   },
   {
    "duration": 45,
    "start_time": "2023-07-23T10:02:27.056Z"
   },
   {
    "duration": 100,
    "start_time": "2023-07-23T10:02:27.102Z"
   },
   {
    "duration": 76,
    "start_time": "2023-07-23T10:02:27.205Z"
   },
   {
    "duration": 96,
    "start_time": "2023-07-23T10:02:27.283Z"
   },
   {
    "duration": 21,
    "start_time": "2023-07-23T10:02:27.381Z"
   },
   {
    "duration": 69,
    "start_time": "2023-07-23T10:02:27.404Z"
   },
   {
    "duration": 34,
    "start_time": "2023-07-23T10:02:27.475Z"
   },
   {
    "duration": 61,
    "start_time": "2023-07-23T10:02:27.511Z"
   },
   {
    "duration": 309,
    "start_time": "2023-07-23T10:02:27.573Z"
   },
   {
    "duration": 10,
    "start_time": "2023-07-23T10:02:27.885Z"
   },
   {
    "duration": 76,
    "start_time": "2023-07-23T10:02:27.897Z"
   },
   {
    "duration": 28,
    "start_time": "2023-07-23T10:02:27.975Z"
   },
   {
    "duration": 74,
    "start_time": "2023-07-23T10:02:28.004Z"
   },
   {
    "duration": 34,
    "start_time": "2023-07-23T10:02:28.080Z"
   },
   {
    "duration": 55,
    "start_time": "2023-07-23T10:02:28.115Z"
   },
   {
    "duration": 77,
    "start_time": "2023-07-23T10:02:28.171Z"
   },
   {
    "duration": 284,
    "start_time": "2023-07-23T10:02:28.250Z"
   },
   {
    "duration": 11,
    "start_time": "2023-07-23T10:02:28.537Z"
   },
   {
    "duration": 406,
    "start_time": "2023-07-23T10:02:28.550Z"
   },
   {
    "duration": 531,
    "start_time": "2023-07-23T10:02:28.970Z"
   },
   {
    "duration": 178,
    "start_time": "2023-07-23T10:02:29.502Z"
   },
   {
    "duration": 180,
    "start_time": "2023-07-23T10:02:29.684Z"
   },
   {
    "duration": 14,
    "start_time": "2023-07-23T10:02:29.866Z"
   },
   {
    "duration": 6,
    "start_time": "2023-07-23T10:02:29.881Z"
   },
   {
    "duration": 10,
    "start_time": "2023-07-23T10:02:29.888Z"
   },
   {
    "duration": 14,
    "start_time": "2023-07-23T10:02:29.899Z"
   },
   {
    "duration": 380,
    "start_time": "2023-07-23T10:02:29.914Z"
   },
   {
    "duration": 33,
    "start_time": "2023-07-23T10:02:30.296Z"
   },
   {
    "duration": 232,
    "start_time": "2023-07-23T10:02:30.330Z"
   },
   {
    "duration": 183,
    "start_time": "2023-07-23T10:02:30.564Z"
   },
   {
    "duration": 198,
    "start_time": "2023-07-23T10:02:30.749Z"
   },
   {
    "duration": 379,
    "start_time": "2023-07-23T10:02:30.949Z"
   },
   {
    "duration": 247,
    "start_time": "2023-07-23T10:02:31.329Z"
   },
   {
    "duration": 212,
    "start_time": "2023-07-23T10:02:31.580Z"
   },
   {
    "duration": 203,
    "start_time": "2023-07-23T10:02:31.793Z"
   },
   {
    "duration": 246,
    "start_time": "2023-07-23T10:02:31.998Z"
   },
   {
    "duration": 156,
    "start_time": "2023-07-23T10:02:32.246Z"
   },
   {
    "duration": 222,
    "start_time": "2023-07-23T10:02:32.403Z"
   },
   {
    "duration": 226,
    "start_time": "2023-07-23T10:02:32.627Z"
   },
   {
    "duration": 210,
    "start_time": "2023-07-23T10:02:32.855Z"
   },
   {
    "duration": 273,
    "start_time": "2023-07-23T10:02:33.067Z"
   },
   {
    "duration": 175,
    "start_time": "2023-07-23T10:02:33.342Z"
   },
   {
    "duration": 178,
    "start_time": "2023-07-23T10:02:33.518Z"
   },
   {
    "duration": 297,
    "start_time": "2023-07-23T10:02:33.697Z"
   },
   {
    "duration": 6,
    "start_time": "2023-07-23T10:02:33.996Z"
   },
   {
    "duration": 178,
    "start_time": "2023-07-23T10:02:34.004Z"
   },
   {
    "duration": 5,
    "start_time": "2023-07-23T10:02:34.184Z"
   },
   {
    "duration": 195,
    "start_time": "2023-07-23T10:02:34.191Z"
   },
   {
    "duration": 5,
    "start_time": "2023-07-23T10:02:34.387Z"
   },
   {
    "duration": 149,
    "start_time": "2023-07-23T10:02:34.393Z"
   },
   {
    "duration": 6,
    "start_time": "2023-07-23T10:02:34.543Z"
   },
   {
    "duration": 197,
    "start_time": "2023-07-23T10:02:34.550Z"
   },
   {
    "duration": 24,
    "start_time": "2023-07-23T10:02:34.749Z"
   },
   {
    "duration": 225,
    "start_time": "2023-07-23T10:02:34.774Z"
   },
   {
    "duration": 194,
    "start_time": "2023-07-23T10:02:35.001Z"
   },
   {
    "duration": 7,
    "start_time": "2023-07-23T10:02:35.197Z"
   },
   {
    "duration": 198,
    "start_time": "2023-07-23T10:02:35.210Z"
   },
   {
    "duration": 4,
    "start_time": "2023-07-23T10:02:35.409Z"
   },
   {
    "duration": 311,
    "start_time": "2023-07-23T10:02:35.415Z"
   },
   {
    "duration": 9,
    "start_time": "2023-07-23T10:02:35.729Z"
   },
   {
    "duration": 101,
    "start_time": "2023-07-23T10:02:35.744Z"
   },
   {
    "duration": 168,
    "start_time": "2023-07-23T10:02:35.846Z"
   },
   {
    "duration": 30,
    "start_time": "2023-07-23T10:02:36.015Z"
   },
   {
    "duration": 252,
    "start_time": "2023-07-23T10:02:36.047Z"
   },
   {
    "duration": 8,
    "start_time": "2023-07-23T10:02:36.301Z"
   },
   {
    "duration": 86,
    "start_time": "2023-07-23T10:02:36.311Z"
   },
   {
    "duration": 145,
    "start_time": "2023-07-23T10:02:36.399Z"
   },
   {
    "duration": 39,
    "start_time": "2023-07-23T10:02:36.545Z"
   },
   {
    "duration": 91,
    "start_time": "2023-07-23T10:02:36.585Z"
   },
   {
    "duration": 53,
    "start_time": "2023-07-23T10:02:36.679Z"
   },
   {
    "duration": 510,
    "start_time": "2023-07-23T10:02:36.734Z"
   },
   {
    "duration": 4367,
    "start_time": "2023-07-23T10:02:37.249Z"
   },
   {
    "duration": 517,
    "start_time": "2023-07-23T10:02:41.620Z"
   },
   {
    "duration": 221,
    "start_time": "2023-07-23T10:02:42.147Z"
   },
   {
    "duration": 6,
    "start_time": "2023-07-23T10:02:42.374Z"
   },
   {
    "duration": 200,
    "start_time": "2023-07-23T10:04:56.500Z"
   },
   {
    "duration": 211,
    "start_time": "2023-07-23T10:05:06.955Z"
   },
   {
    "duration": 304,
    "start_time": "2023-07-23T10:05:26.143Z"
   },
   {
    "duration": 322,
    "start_time": "2023-07-23T10:07:30.163Z"
   },
   {
    "duration": 11,
    "start_time": "2023-07-23T10:07:45.063Z"
   },
   {
    "duration": 753,
    "start_time": "2023-07-23T10:09:22.062Z"
   },
   {
    "duration": 155,
    "start_time": "2023-07-23T10:09:22.817Z"
   },
   {
    "duration": 38,
    "start_time": "2023-07-23T10:09:22.974Z"
   },
   {
    "duration": 2387,
    "start_time": "2023-07-23T10:09:23.014Z"
   },
   {
    "duration": 8,
    "start_time": "2023-07-23T10:09:25.403Z"
   },
   {
    "duration": 4,
    "start_time": "2023-07-23T10:09:25.413Z"
   },
   {
    "duration": 286,
    "start_time": "2023-07-23T10:09:25.418Z"
   },
   {
    "duration": 20,
    "start_time": "2023-07-23T10:09:25.706Z"
   },
   {
    "duration": 7,
    "start_time": "2023-07-23T10:09:25.730Z"
   },
   {
    "duration": 30,
    "start_time": "2023-07-23T10:09:25.743Z"
   },
   {
    "duration": 20,
    "start_time": "2023-07-23T10:09:25.775Z"
   },
   {
    "duration": 11,
    "start_time": "2023-07-23T10:09:25.797Z"
   },
   {
    "duration": 11,
    "start_time": "2023-07-23T10:09:25.809Z"
   },
   {
    "duration": 40,
    "start_time": "2023-07-23T10:09:25.828Z"
   },
   {
    "duration": 9,
    "start_time": "2023-07-23T10:09:25.869Z"
   },
   {
    "duration": 8,
    "start_time": "2023-07-23T10:09:25.880Z"
   },
   {
    "duration": 8,
    "start_time": "2023-07-23T10:09:25.890Z"
   },
   {
    "duration": 13,
    "start_time": "2023-07-23T10:09:25.899Z"
   },
   {
    "duration": 22,
    "start_time": "2023-07-23T10:09:25.913Z"
   },
   {
    "duration": 32,
    "start_time": "2023-07-23T10:09:25.942Z"
   },
   {
    "duration": 28,
    "start_time": "2023-07-23T10:09:25.975Z"
   },
   {
    "duration": 185,
    "start_time": "2023-07-23T10:09:26.004Z"
   },
   {
    "duration": 7,
    "start_time": "2023-07-23T10:09:26.191Z"
   },
   {
    "duration": 59,
    "start_time": "2023-07-23T10:09:26.200Z"
   },
   {
    "duration": 12,
    "start_time": "2023-07-23T10:09:26.261Z"
   },
   {
    "duration": 23,
    "start_time": "2023-07-23T10:09:26.274Z"
   },
   {
    "duration": 28,
    "start_time": "2023-07-23T10:09:26.298Z"
   },
   {
    "duration": 36,
    "start_time": "2023-07-23T10:09:26.333Z"
   },
   {
    "duration": 9,
    "start_time": "2023-07-23T10:09:26.371Z"
   },
   {
    "duration": 21,
    "start_time": "2023-07-23T10:09:26.381Z"
   },
   {
    "duration": 9,
    "start_time": "2023-07-23T10:09:26.404Z"
   },
   {
    "duration": 45,
    "start_time": "2023-07-23T10:09:26.415Z"
   },
   {
    "duration": 25,
    "start_time": "2023-07-23T10:09:26.465Z"
   },
   {
    "duration": 317,
    "start_time": "2023-07-23T10:09:26.492Z"
   },
   {
    "duration": 11,
    "start_time": "2023-07-23T10:09:26.810Z"
   },
   {
    "duration": 50,
    "start_time": "2023-07-23T10:09:26.822Z"
   },
   {
    "duration": 9,
    "start_time": "2023-07-23T10:09:26.874Z"
   },
   {
    "duration": 30,
    "start_time": "2023-07-23T10:09:26.885Z"
   },
   {
    "duration": 68,
    "start_time": "2023-07-23T10:09:26.916Z"
   },
   {
    "duration": 28,
    "start_time": "2023-07-23T10:09:26.986Z"
   },
   {
    "duration": 65,
    "start_time": "2023-07-23T10:09:27.015Z"
   },
   {
    "duration": 78,
    "start_time": "2023-07-23T10:09:27.082Z"
   },
   {
    "duration": 277,
    "start_time": "2023-07-23T10:09:27.166Z"
   },
   {
    "duration": 15,
    "start_time": "2023-07-23T10:09:27.444Z"
   },
   {
    "duration": 368,
    "start_time": "2023-07-23T10:09:27.461Z"
   },
   {
    "duration": 472,
    "start_time": "2023-07-23T10:09:27.831Z"
   },
   {
    "duration": 170,
    "start_time": "2023-07-23T10:09:28.304Z"
   },
   {
    "duration": 152,
    "start_time": "2023-07-23T10:09:28.476Z"
   },
   {
    "duration": 23,
    "start_time": "2023-07-23T10:09:28.630Z"
   },
   {
    "duration": 37,
    "start_time": "2023-07-23T10:09:28.654Z"
   },
   {
    "duration": 35,
    "start_time": "2023-07-23T10:09:28.692Z"
   },
   {
    "duration": 62,
    "start_time": "2023-07-23T10:09:28.729Z"
   },
   {
    "duration": 379,
    "start_time": "2023-07-23T10:09:28.792Z"
   },
   {
    "duration": 25,
    "start_time": "2023-07-23T10:09:29.173Z"
   },
   {
    "duration": 203,
    "start_time": "2023-07-23T10:09:29.199Z"
   },
   {
    "duration": 184,
    "start_time": "2023-07-23T10:09:29.404Z"
   },
   {
    "duration": 197,
    "start_time": "2023-07-23T10:09:29.591Z"
   },
   {
    "duration": 380,
    "start_time": "2023-07-23T10:09:29.791Z"
   },
   {
    "duration": 235,
    "start_time": "2023-07-23T10:09:30.173Z"
   },
   {
    "duration": 220,
    "start_time": "2023-07-23T10:09:30.409Z"
   },
   {
    "duration": 256,
    "start_time": "2023-07-23T10:09:30.631Z"
   },
   {
    "duration": 254,
    "start_time": "2023-07-23T10:09:30.889Z"
   },
   {
    "duration": 153,
    "start_time": "2023-07-23T10:09:31.144Z"
   },
   {
    "duration": 217,
    "start_time": "2023-07-23T10:09:31.299Z"
   },
   {
    "duration": 207,
    "start_time": "2023-07-23T10:09:31.524Z"
   },
   {
    "duration": 191,
    "start_time": "2023-07-23T10:09:31.733Z"
   },
   {
    "duration": 271,
    "start_time": "2023-07-23T10:09:31.926Z"
   },
   {
    "duration": 218,
    "start_time": "2023-07-23T10:09:32.199Z"
   },
   {
    "duration": 196,
    "start_time": "2023-07-23T10:09:32.418Z"
   },
   {
    "duration": 319,
    "start_time": "2023-07-23T10:09:32.616Z"
   },
   {
    "duration": 10,
    "start_time": "2023-07-23T10:09:32.939Z"
   },
   {
    "duration": 179,
    "start_time": "2023-07-23T10:09:32.952Z"
   },
   {
    "duration": 7,
    "start_time": "2023-07-23T10:09:33.133Z"
   },
   {
    "duration": 173,
    "start_time": "2023-07-23T10:09:33.142Z"
   },
   {
    "duration": 16,
    "start_time": "2023-07-23T10:09:33.316Z"
   },
   {
    "duration": 173,
    "start_time": "2023-07-23T10:09:33.335Z"
   },
   {
    "duration": 5,
    "start_time": "2023-07-23T10:09:33.510Z"
   },
   {
    "duration": 201,
    "start_time": "2023-07-23T10:09:33.516Z"
   },
   {
    "duration": 10,
    "start_time": "2023-07-23T10:09:33.719Z"
   },
   {
    "duration": 309,
    "start_time": "2023-07-23T10:09:33.731Z"
   },
   {
    "duration": 234,
    "start_time": "2023-07-23T10:09:34.042Z"
   },
   {
    "duration": 6,
    "start_time": "2023-07-23T10:09:34.281Z"
   },
   {
    "duration": 155,
    "start_time": "2023-07-23T10:09:34.288Z"
   },
   {
    "duration": 6,
    "start_time": "2023-07-23T10:09:34.444Z"
   },
   {
    "duration": 480,
    "start_time": "2023-07-23T10:09:34.452Z"
   },
   {
    "duration": 11,
    "start_time": "2023-07-23T10:09:34.936Z"
   },
   {
    "duration": 56,
    "start_time": "2023-07-23T10:09:34.951Z"
   },
   {
    "duration": 185,
    "start_time": "2023-07-23T10:09:35.009Z"
   },
   {
    "duration": 29,
    "start_time": "2023-07-23T10:09:35.196Z"
   },
   {
    "duration": 265,
    "start_time": "2023-07-23T10:09:35.227Z"
   },
   {
    "duration": 69,
    "start_time": "2023-07-23T10:09:35.493Z"
   },
   {
    "duration": 92,
    "start_time": "2023-07-23T10:09:35.563Z"
   },
   {
    "duration": 186,
    "start_time": "2023-07-23T10:09:35.661Z"
   },
   {
    "duration": 37,
    "start_time": "2023-07-23T10:09:35.849Z"
   },
   {
    "duration": 63,
    "start_time": "2023-07-23T10:09:35.888Z"
   },
   {
    "duration": 32,
    "start_time": "2023-07-23T10:09:35.955Z"
   },
   {
    "duration": 482,
    "start_time": "2023-07-23T10:09:35.988Z"
   },
   {
    "duration": 4286,
    "start_time": "2023-07-23T10:09:36.471Z"
   },
   {
    "duration": 472,
    "start_time": "2023-07-23T10:09:40.760Z"
   },
   {
    "duration": 237,
    "start_time": "2023-07-23T10:09:41.235Z"
   },
   {
    "duration": 3,
    "start_time": "2023-07-23T10:09:41.474Z"
   },
   {
    "duration": 236,
    "start_time": "2023-07-23T10:10:26.547Z"
   },
   {
    "duration": 243,
    "start_time": "2023-07-23T10:10:34.049Z"
   },
   {
    "duration": 408,
    "start_time": "2023-07-23T10:10:47.746Z"
   },
   {
    "duration": 9,
    "start_time": "2023-07-23T10:13:19.944Z"
   },
   {
    "duration": 4,
    "start_time": "2023-07-23T10:13:21.258Z"
   },
   {
    "duration": 705,
    "start_time": "2023-07-23T10:13:39.657Z"
   },
   {
    "duration": 125,
    "start_time": "2023-07-23T10:13:40.363Z"
   },
   {
    "duration": 45,
    "start_time": "2023-07-23T10:13:40.489Z"
   },
   {
    "duration": 2361,
    "start_time": "2023-07-23T10:13:40.536Z"
   },
   {
    "duration": 11,
    "start_time": "2023-07-23T10:13:42.899Z"
   },
   {
    "duration": 45,
    "start_time": "2023-07-23T10:13:42.913Z"
   },
   {
    "duration": 303,
    "start_time": "2023-07-23T10:13:42.960Z"
   },
   {
    "duration": 7,
    "start_time": "2023-07-23T10:13:43.265Z"
   },
   {
    "duration": 25,
    "start_time": "2023-07-23T10:13:43.273Z"
   },
   {
    "duration": 47,
    "start_time": "2023-07-23T10:13:43.301Z"
   },
   {
    "duration": 62,
    "start_time": "2023-07-23T10:13:43.350Z"
   },
   {
    "duration": 60,
    "start_time": "2023-07-23T10:13:43.414Z"
   },
   {
    "duration": 32,
    "start_time": "2023-07-23T10:13:43.475Z"
   },
   {
    "duration": 78,
    "start_time": "2023-07-23T10:13:43.508Z"
   },
   {
    "duration": 65,
    "start_time": "2023-07-23T10:13:43.588Z"
   },
   {
    "duration": 39,
    "start_time": "2023-07-23T10:13:43.654Z"
   },
   {
    "duration": 82,
    "start_time": "2023-07-23T10:13:43.695Z"
   },
   {
    "duration": 67,
    "start_time": "2023-07-23T10:13:43.779Z"
   },
   {
    "duration": 41,
    "start_time": "2023-07-23T10:13:43.847Z"
   },
   {
    "duration": 44,
    "start_time": "2023-07-23T10:13:43.890Z"
   },
   {
    "duration": 68,
    "start_time": "2023-07-23T10:13:43.936Z"
   },
   {
    "duration": 168,
    "start_time": "2023-07-23T10:13:44.006Z"
   },
   {
    "duration": 6,
    "start_time": "2023-07-23T10:13:44.176Z"
   },
   {
    "duration": 31,
    "start_time": "2023-07-23T10:13:44.183Z"
   },
   {
    "duration": 78,
    "start_time": "2023-07-23T10:13:44.215Z"
   },
   {
    "duration": 22,
    "start_time": "2023-07-23T10:13:44.295Z"
   },
   {
    "duration": 52,
    "start_time": "2023-07-23T10:13:44.319Z"
   },
   {
    "duration": 77,
    "start_time": "2023-07-23T10:13:44.376Z"
   },
   {
    "duration": 45,
    "start_time": "2023-07-23T10:13:44.455Z"
   },
   {
    "duration": 81,
    "start_time": "2023-07-23T10:13:44.502Z"
   },
   {
    "duration": 25,
    "start_time": "2023-07-23T10:13:44.585Z"
   },
   {
    "duration": 69,
    "start_time": "2023-07-23T10:13:44.611Z"
   },
   {
    "duration": 19,
    "start_time": "2023-07-23T10:13:44.682Z"
   },
   {
    "duration": 566,
    "start_time": "2023-07-23T10:13:44.702Z"
   },
   {
    "duration": 10,
    "start_time": "2023-07-23T10:13:45.270Z"
   },
   {
    "duration": 36,
    "start_time": "2023-07-23T10:13:45.281Z"
   },
   {
    "duration": 40,
    "start_time": "2023-07-23T10:13:45.318Z"
   },
   {
    "duration": 45,
    "start_time": "2023-07-23T10:13:45.360Z"
   },
   {
    "duration": 41,
    "start_time": "2023-07-23T10:13:45.407Z"
   },
   {
    "duration": 46,
    "start_time": "2023-07-23T10:13:45.450Z"
   },
   {
    "duration": 116,
    "start_time": "2023-07-23T10:13:45.497Z"
   },
   {
    "duration": 143,
    "start_time": "2023-07-23T10:13:45.615Z"
   },
   {
    "duration": 280,
    "start_time": "2023-07-23T10:13:45.760Z"
   },
   {
    "duration": 11,
    "start_time": "2023-07-23T10:13:46.042Z"
   },
   {
    "duration": 413,
    "start_time": "2023-07-23T10:13:46.055Z"
   },
   {
    "duration": 370,
    "start_time": "2023-07-23T10:13:46.469Z"
   },
   {
    "duration": 149,
    "start_time": "2023-07-23T10:13:46.841Z"
   },
   {
    "duration": 162,
    "start_time": "2023-07-23T10:13:46.991Z"
   },
   {
    "duration": 15,
    "start_time": "2023-07-23T10:13:47.155Z"
   },
   {
    "duration": 89,
    "start_time": "2023-07-23T10:13:47.171Z"
   },
   {
    "duration": 21,
    "start_time": "2023-07-23T10:13:47.262Z"
   },
   {
    "duration": 70,
    "start_time": "2023-07-23T10:13:47.284Z"
   },
   {
    "duration": 368,
    "start_time": "2023-07-23T10:13:47.357Z"
   },
   {
    "duration": 40,
    "start_time": "2023-07-23T10:13:47.728Z"
   },
   {
    "duration": 218,
    "start_time": "2023-07-23T10:13:47.770Z"
   },
   {
    "duration": 188,
    "start_time": "2023-07-23T10:13:47.990Z"
   },
   {
    "duration": 276,
    "start_time": "2023-07-23T10:13:48.179Z"
   },
   {
    "duration": 293,
    "start_time": "2023-07-23T10:13:48.457Z"
   },
   {
    "duration": 202,
    "start_time": "2023-07-23T10:13:48.752Z"
   },
   {
    "duration": 203,
    "start_time": "2023-07-23T10:13:48.955Z"
   },
   {
    "duration": 214,
    "start_time": "2023-07-23T10:13:49.160Z"
   },
   {
    "duration": 230,
    "start_time": "2023-07-23T10:13:49.375Z"
   },
   {
    "duration": 149,
    "start_time": "2023-07-23T10:13:49.606Z"
   },
   {
    "duration": 200,
    "start_time": "2023-07-23T10:13:49.756Z"
   },
   {
    "duration": 273,
    "start_time": "2023-07-23T10:13:49.957Z"
   },
   {
    "duration": 165,
    "start_time": "2023-07-23T10:13:50.236Z"
   },
   {
    "duration": 179,
    "start_time": "2023-07-23T10:13:50.403Z"
   },
   {
    "duration": 180,
    "start_time": "2023-07-23T10:13:50.583Z"
   },
   {
    "duration": 177,
    "start_time": "2023-07-23T10:13:50.764Z"
   },
   {
    "duration": 255,
    "start_time": "2023-07-23T10:13:50.943Z"
   },
   {
    "duration": 6,
    "start_time": "2023-07-23T10:13:51.200Z"
   },
   {
    "duration": 218,
    "start_time": "2023-07-23T10:13:51.207Z"
   },
   {
    "duration": 6,
    "start_time": "2023-07-23T10:13:51.426Z"
   },
   {
    "duration": 196,
    "start_time": "2023-07-23T10:13:51.434Z"
   },
   {
    "duration": 8,
    "start_time": "2023-07-23T10:13:51.633Z"
   },
   {
    "duration": 170,
    "start_time": "2023-07-23T10:13:51.643Z"
   },
   {
    "duration": 11,
    "start_time": "2023-07-23T10:13:51.815Z"
   },
   {
    "duration": 221,
    "start_time": "2023-07-23T10:13:51.828Z"
   },
   {
    "duration": 5,
    "start_time": "2023-07-23T10:13:52.051Z"
   },
   {
    "duration": 313,
    "start_time": "2023-07-23T10:13:52.058Z"
   },
   {
    "duration": 158,
    "start_time": "2023-07-23T10:13:52.373Z"
   },
   {
    "duration": 9,
    "start_time": "2023-07-23T10:13:52.540Z"
   },
   {
    "duration": 153,
    "start_time": "2023-07-23T10:13:52.551Z"
   },
   {
    "duration": 5,
    "start_time": "2023-07-23T10:13:52.705Z"
   },
   {
    "duration": 192,
    "start_time": "2023-07-23T10:13:52.712Z"
   },
   {
    "duration": 6,
    "start_time": "2023-07-23T10:13:52.907Z"
   },
   {
    "duration": 51,
    "start_time": "2023-07-23T10:13:52.915Z"
   },
   {
    "duration": 129,
    "start_time": "2023-07-23T10:13:52.968Z"
   },
   {
    "duration": 25,
    "start_time": "2023-07-23T10:13:53.099Z"
   },
   {
    "duration": 217,
    "start_time": "2023-07-23T10:13:53.127Z"
   },
   {
    "duration": 13,
    "start_time": "2023-07-23T10:13:53.345Z"
   },
   {
    "duration": 42,
    "start_time": "2023-07-23T10:13:53.360Z"
   },
   {
    "duration": 166,
    "start_time": "2023-07-23T10:13:53.404Z"
   },
   {
    "duration": 31,
    "start_time": "2023-07-23T10:13:53.572Z"
   },
   {
    "duration": 58,
    "start_time": "2023-07-23T10:13:53.605Z"
   },
   {
    "duration": 32,
    "start_time": "2023-07-23T10:13:53.664Z"
   },
   {
    "duration": 493,
    "start_time": "2023-07-23T10:13:53.698Z"
   },
   {
    "duration": 4572,
    "start_time": "2023-07-23T10:13:54.193Z"
   },
   {
    "duration": 436,
    "start_time": "2023-07-23T10:13:58.767Z"
   },
   {
    "duration": 230,
    "start_time": "2023-07-23T10:13:59.205Z"
   },
   {
    "duration": 4,
    "start_time": "2023-07-23T10:13:59.444Z"
   },
   {
    "duration": 9,
    "start_time": "2023-07-23T10:15:28.089Z"
   },
   {
    "duration": 3,
    "start_time": "2023-07-23T10:15:30.464Z"
   },
   {
    "duration": 10,
    "start_time": "2023-07-23T10:15:36.265Z"
   },
   {
    "duration": 4,
    "start_time": "2023-07-23T10:15:37.849Z"
   },
   {
    "duration": 9,
    "start_time": "2023-07-23T10:16:13.890Z"
   },
   {
    "duration": 5,
    "start_time": "2023-07-23T10:16:14.745Z"
   },
   {
    "duration": 10,
    "start_time": "2023-07-23T10:17:46.739Z"
   },
   {
    "duration": 3,
    "start_time": "2023-07-23T10:17:48.496Z"
   },
   {
    "duration": 4,
    "start_time": "2023-07-23T10:23:21.485Z"
   },
   {
    "duration": 792,
    "start_time": "2023-07-23T10:23:36.801Z"
   },
   {
    "duration": 111,
    "start_time": "2023-07-23T10:23:37.595Z"
   },
   {
    "duration": 35,
    "start_time": "2023-07-23T10:23:37.707Z"
   },
   {
    "duration": 2005,
    "start_time": "2023-07-23T10:23:37.744Z"
   },
   {
    "duration": 11,
    "start_time": "2023-07-23T10:23:39.752Z"
   },
   {
    "duration": 14,
    "start_time": "2023-07-23T10:23:39.765Z"
   },
   {
    "duration": 252,
    "start_time": "2023-07-23T10:23:39.781Z"
   },
   {
    "duration": 13,
    "start_time": "2023-07-23T10:23:40.035Z"
   },
   {
    "duration": 13,
    "start_time": "2023-07-23T10:23:40.050Z"
   },
   {
    "duration": 17,
    "start_time": "2023-07-23T10:23:40.065Z"
   },
   {
    "duration": 27,
    "start_time": "2023-07-23T10:23:40.083Z"
   },
   {
    "duration": 40,
    "start_time": "2023-07-23T10:23:40.112Z"
   },
   {
    "duration": 20,
    "start_time": "2023-07-23T10:23:40.154Z"
   },
   {
    "duration": 37,
    "start_time": "2023-07-23T10:23:40.175Z"
   },
   {
    "duration": 18,
    "start_time": "2023-07-23T10:23:40.214Z"
   },
   {
    "duration": 26,
    "start_time": "2023-07-23T10:23:40.233Z"
   },
   {
    "duration": 21,
    "start_time": "2023-07-23T10:23:40.260Z"
   },
   {
    "duration": 16,
    "start_time": "2023-07-23T10:23:40.283Z"
   },
   {
    "duration": 31,
    "start_time": "2023-07-23T10:23:40.301Z"
   },
   {
    "duration": 11,
    "start_time": "2023-07-23T10:23:40.334Z"
   },
   {
    "duration": 37,
    "start_time": "2023-07-23T10:23:40.347Z"
   },
   {
    "duration": 152,
    "start_time": "2023-07-23T10:23:40.386Z"
   },
   {
    "duration": 8,
    "start_time": "2023-07-23T10:23:40.540Z"
   },
   {
    "duration": 19,
    "start_time": "2023-07-23T10:23:40.550Z"
   },
   {
    "duration": 17,
    "start_time": "2023-07-23T10:23:40.570Z"
   },
   {
    "duration": 21,
    "start_time": "2023-07-23T10:23:40.589Z"
   },
   {
    "duration": 29,
    "start_time": "2023-07-23T10:23:40.611Z"
   },
   {
    "duration": 22,
    "start_time": "2023-07-23T10:23:40.645Z"
   },
   {
    "duration": 15,
    "start_time": "2023-07-23T10:23:40.668Z"
   },
   {
    "duration": 14,
    "start_time": "2023-07-23T10:23:40.685Z"
   },
   {
    "duration": 35,
    "start_time": "2023-07-23T10:23:40.700Z"
   },
   {
    "duration": 29,
    "start_time": "2023-07-23T10:23:40.737Z"
   },
   {
    "duration": 18,
    "start_time": "2023-07-23T10:23:40.768Z"
   },
   {
    "duration": 404,
    "start_time": "2023-07-23T10:23:40.788Z"
   },
   {
    "duration": 9,
    "start_time": "2023-07-23T10:23:41.194Z"
   },
   {
    "duration": 37,
    "start_time": "2023-07-23T10:23:41.205Z"
   },
   {
    "duration": 31,
    "start_time": "2023-07-23T10:23:41.243Z"
   },
   {
    "duration": 31,
    "start_time": "2023-07-23T10:23:41.276Z"
   },
   {
    "duration": 51,
    "start_time": "2023-07-23T10:23:41.309Z"
   },
   {
    "duration": 28,
    "start_time": "2023-07-23T10:23:41.361Z"
   },
   {
    "duration": 66,
    "start_time": "2023-07-23T10:23:41.391Z"
   },
   {
    "duration": 80,
    "start_time": "2023-07-23T10:23:41.459Z"
   },
   {
    "duration": 201,
    "start_time": "2023-07-23T10:23:41.541Z"
   },
   {
    "duration": 10,
    "start_time": "2023-07-23T10:23:41.744Z"
   },
   {
    "duration": 539,
    "start_time": "2023-07-23T10:23:41.756Z"
   },
   {
    "duration": 351,
    "start_time": "2023-07-23T10:23:42.296Z"
   },
   {
    "duration": 184,
    "start_time": "2023-07-23T10:23:42.648Z"
   },
   {
    "duration": 159,
    "start_time": "2023-07-23T10:23:42.838Z"
   },
   {
    "duration": 33,
    "start_time": "2023-07-23T10:23:42.999Z"
   },
   {
    "duration": 11,
    "start_time": "2023-07-23T10:23:43.034Z"
   },
   {
    "duration": 35,
    "start_time": "2023-07-23T10:23:43.047Z"
   },
   {
    "duration": 21,
    "start_time": "2023-07-23T10:23:43.083Z"
   },
   {
    "duration": 330,
    "start_time": "2023-07-23T10:23:43.106Z"
   },
   {
    "duration": 24,
    "start_time": "2023-07-23T10:23:43.438Z"
   },
   {
    "duration": 220,
    "start_time": "2023-07-23T10:23:43.464Z"
   },
   {
    "duration": 179,
    "start_time": "2023-07-23T10:23:43.686Z"
   },
   {
    "duration": 266,
    "start_time": "2023-07-23T10:23:43.866Z"
   },
   {
    "duration": 291,
    "start_time": "2023-07-23T10:23:44.135Z"
   },
   {
    "duration": 193,
    "start_time": "2023-07-23T10:23:44.432Z"
   },
   {
    "duration": 216,
    "start_time": "2023-07-23T10:23:44.626Z"
   },
   {
    "duration": 281,
    "start_time": "2023-07-23T10:23:44.844Z"
   },
   {
    "duration": 248,
    "start_time": "2023-07-23T10:23:45.127Z"
   },
   {
    "duration": 167,
    "start_time": "2023-07-23T10:23:45.377Z"
   },
   {
    "duration": 229,
    "start_time": "2023-07-23T10:23:45.545Z"
   },
   {
    "duration": 293,
    "start_time": "2023-07-23T10:23:45.775Z"
   },
   {
    "duration": 189,
    "start_time": "2023-07-23T10:23:46.070Z"
   },
   {
    "duration": 185,
    "start_time": "2023-07-23T10:23:46.260Z"
   },
   {
    "duration": 159,
    "start_time": "2023-07-23T10:23:46.446Z"
   },
   {
    "duration": 169,
    "start_time": "2023-07-23T10:23:46.607Z"
   },
   {
    "duration": 272,
    "start_time": "2023-07-23T10:23:46.777Z"
   },
   {
    "duration": 5,
    "start_time": "2023-07-23T10:23:47.050Z"
   },
   {
    "duration": 228,
    "start_time": "2023-07-23T10:23:47.057Z"
   },
   {
    "duration": 6,
    "start_time": "2023-07-23T10:23:47.288Z"
   },
   {
    "duration": 204,
    "start_time": "2023-07-23T10:23:47.297Z"
   },
   {
    "duration": 6,
    "start_time": "2023-07-23T10:23:47.502Z"
   },
   {
    "duration": 177,
    "start_time": "2023-07-23T10:23:47.510Z"
   },
   {
    "duration": 5,
    "start_time": "2023-07-23T10:23:47.689Z"
   },
   {
    "duration": 202,
    "start_time": "2023-07-23T10:23:47.696Z"
   },
   {
    "duration": 6,
    "start_time": "2023-07-23T10:23:47.899Z"
   },
   {
    "duration": 301,
    "start_time": "2023-07-23T10:23:47.906Z"
   },
   {
    "duration": 168,
    "start_time": "2023-07-23T10:23:48.209Z"
   },
   {
    "duration": 6,
    "start_time": "2023-07-23T10:23:48.382Z"
   },
   {
    "duration": 169,
    "start_time": "2023-07-23T10:23:48.389Z"
   },
   {
    "duration": 5,
    "start_time": "2023-07-23T10:23:48.560Z"
   },
   {
    "duration": 232,
    "start_time": "2023-07-23T10:23:48.566Z"
   },
   {
    "duration": 6,
    "start_time": "2023-07-23T10:23:48.799Z"
   },
   {
    "duration": 51,
    "start_time": "2023-07-23T10:23:48.806Z"
   },
   {
    "duration": 132,
    "start_time": "2023-07-23T10:23:48.859Z"
   },
   {
    "duration": 20,
    "start_time": "2023-07-23T10:23:48.993Z"
   },
   {
    "duration": 244,
    "start_time": "2023-07-23T10:23:49.014Z"
   },
   {
    "duration": 9,
    "start_time": "2023-07-23T10:23:49.260Z"
   },
   {
    "duration": 47,
    "start_time": "2023-07-23T10:23:49.270Z"
   },
   {
    "duration": 161,
    "start_time": "2023-07-23T10:23:49.319Z"
   },
   {
    "duration": 28,
    "start_time": "2023-07-23T10:23:49.482Z"
   },
   {
    "duration": 41,
    "start_time": "2023-07-23T10:23:49.524Z"
   },
   {
    "duration": 35,
    "start_time": "2023-07-23T10:23:49.567Z"
   },
   {
    "duration": 611,
    "start_time": "2023-07-23T10:23:49.604Z"
   },
   {
    "duration": 4619,
    "start_time": "2023-07-23T10:23:50.224Z"
   },
   {
    "duration": 445,
    "start_time": "2023-07-23T10:23:54.844Z"
   },
   {
    "duration": 210,
    "start_time": "2023-07-23T10:23:55.291Z"
   },
   {
    "duration": 3,
    "start_time": "2023-07-23T10:23:55.502Z"
   },
   {
    "duration": 677,
    "start_time": "2023-07-23T10:26:40.656Z"
   },
   {
    "duration": 111,
    "start_time": "2023-07-23T10:26:41.335Z"
   },
   {
    "duration": 27,
    "start_time": "2023-07-23T10:26:41.448Z"
   },
   {
    "duration": 1992,
    "start_time": "2023-07-23T10:26:41.477Z"
   },
   {
    "duration": 12,
    "start_time": "2023-07-23T10:26:43.471Z"
   },
   {
    "duration": 9,
    "start_time": "2023-07-23T10:26:43.485Z"
   },
   {
    "duration": 268,
    "start_time": "2023-07-23T10:26:43.496Z"
   },
   {
    "duration": 9,
    "start_time": "2023-07-23T10:26:43.766Z"
   },
   {
    "duration": 8,
    "start_time": "2023-07-23T10:26:43.777Z"
   },
   {
    "duration": 11,
    "start_time": "2023-07-23T10:26:43.788Z"
   },
   {
    "duration": 49,
    "start_time": "2023-07-23T10:26:43.801Z"
   },
   {
    "duration": 16,
    "start_time": "2023-07-23T10:26:43.851Z"
   },
   {
    "duration": 12,
    "start_time": "2023-07-23T10:26:43.868Z"
   },
   {
    "duration": 19,
    "start_time": "2023-07-23T10:26:43.882Z"
   },
   {
    "duration": 8,
    "start_time": "2023-07-23T10:26:43.903Z"
   },
   {
    "duration": 17,
    "start_time": "2023-07-23T10:26:43.912Z"
   },
   {
    "duration": 13,
    "start_time": "2023-07-23T10:26:43.931Z"
   },
   {
    "duration": 8,
    "start_time": "2023-07-23T10:26:43.945Z"
   },
   {
    "duration": 27,
    "start_time": "2023-07-23T10:26:43.954Z"
   },
   {
    "duration": 18,
    "start_time": "2023-07-23T10:26:43.983Z"
   },
   {
    "duration": 59,
    "start_time": "2023-07-23T10:26:44.002Z"
   },
   {
    "duration": 173,
    "start_time": "2023-07-23T10:26:44.063Z"
   },
   {
    "duration": 8,
    "start_time": "2023-07-23T10:26:44.238Z"
   },
   {
    "duration": 11,
    "start_time": "2023-07-23T10:26:44.248Z"
   },
   {
    "duration": 9,
    "start_time": "2023-07-23T10:26:44.260Z"
   },
   {
    "duration": 12,
    "start_time": "2023-07-23T10:26:44.271Z"
   },
   {
    "duration": 4,
    "start_time": "2023-07-23T10:26:44.285Z"
   },
   {
    "duration": 41,
    "start_time": "2023-07-23T10:26:44.293Z"
   },
   {
    "duration": 4,
    "start_time": "2023-07-23T10:26:44.336Z"
   },
   {
    "duration": 10,
    "start_time": "2023-07-23T10:26:44.342Z"
   },
   {
    "duration": 19,
    "start_time": "2023-07-23T10:26:44.353Z"
   },
   {
    "duration": 79,
    "start_time": "2023-07-23T10:26:44.373Z"
   },
   {
    "duration": 44,
    "start_time": "2023-07-23T10:26:44.454Z"
   },
   {
    "duration": 440,
    "start_time": "2023-07-23T10:26:44.500Z"
   },
   {
    "duration": 8,
    "start_time": "2023-07-23T10:26:44.942Z"
   },
   {
    "duration": 5,
    "start_time": "2023-07-23T10:26:44.952Z"
   },
   {
    "duration": 17,
    "start_time": "2023-07-23T10:26:44.959Z"
   },
   {
    "duration": 5,
    "start_time": "2023-07-23T10:26:44.977Z"
   },
   {
    "duration": 11,
    "start_time": "2023-07-23T10:26:44.983Z"
   },
   {
    "duration": 36,
    "start_time": "2023-07-23T10:26:44.995Z"
   },
   {
    "duration": 89,
    "start_time": "2023-07-23T10:26:45.034Z"
   },
   {
    "duration": 176,
    "start_time": "2023-07-23T10:26:45.125Z"
   },
   {
    "duration": 8,
    "start_time": "2023-07-23T10:26:45.303Z"
   },
   {
    "duration": 525,
    "start_time": "2023-07-23T10:26:45.313Z"
   },
   {
    "duration": 303,
    "start_time": "2023-07-23T10:26:45.841Z"
   },
   {
    "duration": 136,
    "start_time": "2023-07-23T10:26:46.145Z"
   },
   {
    "duration": 145,
    "start_time": "2023-07-23T10:26:46.282Z"
   },
   {
    "duration": 17,
    "start_time": "2023-07-23T10:26:46.428Z"
   },
   {
    "duration": 33,
    "start_time": "2023-07-23T10:26:46.446Z"
   },
   {
    "duration": 18,
    "start_time": "2023-07-23T10:26:46.481Z"
   },
   {
    "duration": 63,
    "start_time": "2023-07-23T10:26:46.500Z"
   },
   {
    "duration": 323,
    "start_time": "2023-07-23T10:26:46.565Z"
   },
   {
    "duration": 40,
    "start_time": "2023-07-23T10:26:46.890Z"
   },
   {
    "duration": 175,
    "start_time": "2023-07-23T10:26:46.935Z"
   },
   {
    "duration": 182,
    "start_time": "2023-07-23T10:26:47.112Z"
   },
   {
    "duration": 268,
    "start_time": "2023-07-23T10:26:47.295Z"
   },
   {
    "duration": 283,
    "start_time": "2023-07-23T10:26:47.565Z"
   },
   {
    "duration": 202,
    "start_time": "2023-07-23T10:26:47.849Z"
   },
   {
    "duration": 189,
    "start_time": "2023-07-23T10:26:48.054Z"
   },
   {
    "duration": 216,
    "start_time": "2023-07-23T10:26:48.244Z"
   },
   {
    "duration": 226,
    "start_time": "2023-07-23T10:26:48.462Z"
   },
   {
    "duration": 146,
    "start_time": "2023-07-23T10:26:48.690Z"
   },
   {
    "duration": 199,
    "start_time": "2023-07-23T10:26:48.838Z"
   },
   {
    "duration": 253,
    "start_time": "2023-07-23T10:26:49.041Z"
   },
   {
    "duration": 162,
    "start_time": "2023-07-23T10:26:49.295Z"
   },
   {
    "duration": 178,
    "start_time": "2023-07-23T10:26:49.459Z"
   },
   {
    "duration": 158,
    "start_time": "2023-07-23T10:26:49.639Z"
   },
   {
    "duration": 173,
    "start_time": "2023-07-23T10:26:49.798Z"
   },
   {
    "duration": 280,
    "start_time": "2023-07-23T10:26:49.973Z"
   },
   {
    "duration": 6,
    "start_time": "2023-07-23T10:26:50.254Z"
   },
   {
    "duration": 181,
    "start_time": "2023-07-23T10:26:50.262Z"
   },
   {
    "duration": 6,
    "start_time": "2023-07-23T10:26:50.445Z"
   },
   {
    "duration": 198,
    "start_time": "2023-07-23T10:26:50.452Z"
   },
   {
    "duration": 6,
    "start_time": "2023-07-23T10:26:50.652Z"
   },
   {
    "duration": 319,
    "start_time": "2023-07-23T10:26:50.659Z"
   },
   {
    "duration": 5,
    "start_time": "2023-07-23T10:26:50.979Z"
   },
   {
    "duration": 208,
    "start_time": "2023-07-23T10:26:50.986Z"
   },
   {
    "duration": 5,
    "start_time": "2023-07-23T10:26:51.196Z"
   },
   {
    "duration": 272,
    "start_time": "2023-07-23T10:26:51.203Z"
   },
   {
    "duration": 157,
    "start_time": "2023-07-23T10:26:51.477Z"
   },
   {
    "duration": 8,
    "start_time": "2023-07-23T10:26:51.637Z"
   },
   {
    "duration": 153,
    "start_time": "2023-07-23T10:26:51.651Z"
   },
   {
    "duration": 5,
    "start_time": "2023-07-23T10:26:51.806Z"
   },
   {
    "duration": 224,
    "start_time": "2023-07-23T10:26:51.820Z"
   },
   {
    "duration": 5,
    "start_time": "2023-07-23T10:26:52.046Z"
   },
   {
    "duration": 66,
    "start_time": "2023-07-23T10:26:52.053Z"
   },
   {
    "duration": 174,
    "start_time": "2023-07-23T10:26:52.128Z"
   },
   {
    "duration": 69,
    "start_time": "2023-07-23T10:26:52.304Z"
   },
   {
    "duration": 429,
    "start_time": "2023-07-23T10:26:52.374Z"
   },
   {
    "duration": 27,
    "start_time": "2023-07-23T10:26:52.805Z"
   },
   {
    "duration": 78,
    "start_time": "2023-07-23T10:26:52.833Z"
   },
   {
    "duration": 181,
    "start_time": "2023-07-23T10:26:52.912Z"
   },
   {
    "duration": 46,
    "start_time": "2023-07-23T10:26:53.095Z"
   },
   {
    "duration": 89,
    "start_time": "2023-07-23T10:26:53.142Z"
   },
   {
    "duration": 50,
    "start_time": "2023-07-23T10:26:53.234Z"
   },
   {
    "duration": 471,
    "start_time": "2023-07-23T10:26:53.286Z"
   },
   {
    "duration": 4228,
    "start_time": "2023-07-23T10:26:53.758Z"
   },
   {
    "duration": 414,
    "start_time": "2023-07-23T10:26:57.988Z"
   },
   {
    "duration": 186,
    "start_time": "2023-07-23T10:26:58.403Z"
   },
   {
    "duration": 3,
    "start_time": "2023-07-23T10:26:58.591Z"
   },
   {
    "duration": 2313,
    "start_time": "2023-07-23T22:32:22.533Z"
   },
   {
    "duration": 900,
    "start_time": "2023-07-23T22:32:24.851Z"
   },
   {
    "duration": 31,
    "start_time": "2023-07-23T22:32:25.752Z"
   },
   {
    "duration": 2441,
    "start_time": "2023-07-23T22:32:25.786Z"
   },
   {
    "duration": 12,
    "start_time": "2023-07-23T22:32:28.229Z"
   },
   {
    "duration": 17,
    "start_time": "2023-07-23T22:32:28.243Z"
   },
   {
    "duration": 307,
    "start_time": "2023-07-23T22:32:28.263Z"
   },
   {
    "duration": 10,
    "start_time": "2023-07-23T22:32:28.573Z"
   },
   {
    "duration": 25,
    "start_time": "2023-07-23T22:32:28.585Z"
   },
   {
    "duration": 28,
    "start_time": "2023-07-23T22:32:28.614Z"
   },
   {
    "duration": 13,
    "start_time": "2023-07-23T22:32:28.645Z"
   },
   {
    "duration": 6,
    "start_time": "2023-07-23T22:32:28.660Z"
   },
   {
    "duration": 12,
    "start_time": "2023-07-23T22:32:28.667Z"
   },
   {
    "duration": 32,
    "start_time": "2023-07-23T22:32:28.681Z"
   },
   {
    "duration": 18,
    "start_time": "2023-07-23T22:32:28.714Z"
   },
   {
    "duration": 9,
    "start_time": "2023-07-23T22:32:28.741Z"
   },
   {
    "duration": 7,
    "start_time": "2023-07-23T22:32:28.752Z"
   },
   {
    "duration": 5,
    "start_time": "2023-07-23T22:32:28.761Z"
   },
   {
    "duration": 16,
    "start_time": "2023-07-23T22:32:28.768Z"
   },
   {
    "duration": 31,
    "start_time": "2023-07-23T22:32:28.786Z"
   },
   {
    "duration": 48,
    "start_time": "2023-07-23T22:32:28.818Z"
   },
   {
    "duration": 166,
    "start_time": "2023-07-23T22:32:28.868Z"
   },
   {
    "duration": 9,
    "start_time": "2023-07-23T22:32:29.035Z"
   },
   {
    "duration": 29,
    "start_time": "2023-07-23T22:32:29.048Z"
   },
   {
    "duration": 15,
    "start_time": "2023-07-23T22:32:29.079Z"
   },
   {
    "duration": 15,
    "start_time": "2023-07-23T22:32:29.096Z"
   },
   {
    "duration": 31,
    "start_time": "2023-07-23T22:32:29.120Z"
   },
   {
    "duration": 11,
    "start_time": "2023-07-23T22:32:29.156Z"
   },
   {
    "duration": 5,
    "start_time": "2023-07-23T22:32:29.169Z"
   },
   {
    "duration": 16,
    "start_time": "2023-07-23T22:32:29.176Z"
   },
   {
    "duration": 6,
    "start_time": "2023-07-23T22:32:29.194Z"
   },
   {
    "duration": 46,
    "start_time": "2023-07-23T22:32:29.204Z"
   },
   {
    "duration": 4,
    "start_time": "2023-07-23T22:32:29.253Z"
   },
   {
    "duration": 407,
    "start_time": "2023-07-23T22:32:29.259Z"
   },
   {
    "duration": 9,
    "start_time": "2023-07-23T22:32:29.668Z"
   },
   {
    "duration": 18,
    "start_time": "2023-07-23T22:32:29.679Z"
   },
   {
    "duration": 38,
    "start_time": "2023-07-23T22:32:29.710Z"
   },
   {
    "duration": 14,
    "start_time": "2023-07-23T22:32:29.750Z"
   },
   {
    "duration": 19,
    "start_time": "2023-07-23T22:32:29.766Z"
   },
   {
    "duration": 26,
    "start_time": "2023-07-23T22:32:29.787Z"
   },
   {
    "duration": 76,
    "start_time": "2023-07-23T22:32:29.816Z"
   },
   {
    "duration": 237,
    "start_time": "2023-07-23T22:32:29.894Z"
   },
   {
    "duration": 12,
    "start_time": "2023-07-23T22:32:30.136Z"
   },
   {
    "duration": 594,
    "start_time": "2023-07-23T22:32:30.150Z"
   },
   {
    "duration": 402,
    "start_time": "2023-07-23T22:32:30.746Z"
   },
   {
    "duration": 175,
    "start_time": "2023-07-23T22:32:31.151Z"
   },
   {
    "duration": 169,
    "start_time": "2023-07-23T22:32:31.330Z"
   },
   {
    "duration": 26,
    "start_time": "2023-07-23T22:32:31.501Z"
   },
   {
    "duration": 38,
    "start_time": "2023-07-23T22:32:31.529Z"
   },
   {
    "duration": 61,
    "start_time": "2023-07-23T22:32:31.569Z"
   },
   {
    "duration": 49,
    "start_time": "2023-07-23T22:32:31.633Z"
   },
   {
    "duration": 389,
    "start_time": "2023-07-23T22:32:31.684Z"
   },
   {
    "duration": 53,
    "start_time": "2023-07-23T22:32:32.075Z"
   },
   {
    "duration": 242,
    "start_time": "2023-07-23T22:32:32.130Z"
   },
   {
    "duration": 215,
    "start_time": "2023-07-23T22:32:32.374Z"
   },
   {
    "duration": 360,
    "start_time": "2023-07-23T22:32:32.591Z"
   },
   {
    "duration": 327,
    "start_time": "2023-07-23T22:32:32.953Z"
   },
   {
    "duration": 258,
    "start_time": "2023-07-23T22:32:33.283Z"
   },
   {
    "duration": 208,
    "start_time": "2023-07-23T22:32:33.544Z"
   },
   {
    "duration": 285,
    "start_time": "2023-07-23T22:32:33.754Z"
   },
   {
    "duration": 246,
    "start_time": "2023-07-23T22:32:34.042Z"
   },
   {
    "duration": 164,
    "start_time": "2023-07-23T22:32:34.290Z"
   },
   {
    "duration": 257,
    "start_time": "2023-07-23T22:32:34.456Z"
   },
   {
    "duration": 288,
    "start_time": "2023-07-23T22:32:34.716Z"
   },
   {
    "duration": 205,
    "start_time": "2023-07-23T22:32:35.005Z"
   },
   {
    "duration": 210,
    "start_time": "2023-07-23T22:32:35.222Z"
   },
   {
    "duration": 199,
    "start_time": "2023-07-23T22:32:35.438Z"
   },
   {
    "duration": 201,
    "start_time": "2023-07-23T22:32:35.639Z"
   },
   {
    "duration": 297,
    "start_time": "2023-07-23T22:32:35.844Z"
   },
   {
    "duration": 7,
    "start_time": "2023-07-23T22:32:36.143Z"
   },
   {
    "duration": 218,
    "start_time": "2023-07-23T22:32:36.152Z"
   },
   {
    "duration": 5,
    "start_time": "2023-07-23T22:32:36.372Z"
   },
   {
    "duration": 191,
    "start_time": "2023-07-23T22:32:36.379Z"
   },
   {
    "duration": 6,
    "start_time": "2023-07-23T22:32:36.572Z"
   },
   {
    "duration": 170,
    "start_time": "2023-07-23T22:32:36.580Z"
   },
   {
    "duration": 6,
    "start_time": "2023-07-23T22:32:36.752Z"
   },
   {
    "duration": 191,
    "start_time": "2023-07-23T22:32:36.759Z"
   },
   {
    "duration": 5,
    "start_time": "2023-07-23T22:32:36.952Z"
   },
   {
    "duration": 304,
    "start_time": "2023-07-23T22:32:36.959Z"
   },
   {
    "duration": 182,
    "start_time": "2023-07-23T22:32:37.264Z"
   },
   {
    "duration": 6,
    "start_time": "2023-07-23T22:32:37.448Z"
   },
   {
    "duration": 166,
    "start_time": "2023-07-23T22:32:37.459Z"
   },
   {
    "duration": 10,
    "start_time": "2023-07-23T22:32:37.632Z"
   },
   {
    "duration": 193,
    "start_time": "2023-07-23T22:32:37.644Z"
   },
   {
    "duration": 7,
    "start_time": "2023-07-23T22:32:37.839Z"
   },
   {
    "duration": 32,
    "start_time": "2023-07-23T22:32:37.848Z"
   },
   {
    "duration": 182,
    "start_time": "2023-07-23T22:32:37.882Z"
   },
   {
    "duration": 26,
    "start_time": "2023-07-23T22:32:38.067Z"
   },
   {
    "duration": 268,
    "start_time": "2023-07-23T22:32:38.108Z"
   },
   {
    "duration": 11,
    "start_time": "2023-07-23T22:32:38.378Z"
   },
   {
    "duration": 74,
    "start_time": "2023-07-23T22:32:38.407Z"
   },
   {
    "duration": 203,
    "start_time": "2023-07-23T22:32:38.483Z"
   },
   {
    "duration": 54,
    "start_time": "2023-07-23T22:32:38.688Z"
   },
   {
    "duration": 51,
    "start_time": "2023-07-23T22:32:38.748Z"
   },
   {
    "duration": 56,
    "start_time": "2023-07-23T22:32:38.801Z"
   },
   {
    "duration": 580,
    "start_time": "2023-07-23T22:32:38.859Z"
   },
   {
    "duration": 5293,
    "start_time": "2023-07-23T22:32:39.441Z"
   },
   {
    "duration": 458,
    "start_time": "2023-07-23T22:32:44.736Z"
   },
   {
    "duration": 239,
    "start_time": "2023-07-23T22:32:45.197Z"
   },
   {
    "duration": 4,
    "start_time": "2023-07-23T22:32:45.438Z"
   },
   {
    "duration": 456,
    "start_time": "2023-07-23T22:32:59.698Z"
   },
   {
    "duration": 50,
    "start_time": "2023-08-19T08:17:27.888Z"
   },
   {
    "duration": 942,
    "start_time": "2023-08-19T08:17:35.980Z"
   },
   {
    "duration": 192,
    "start_time": "2023-08-19T08:17:36.925Z"
   },
   {
    "duration": 31,
    "start_time": "2023-08-19T08:17:37.118Z"
   },
   {
    "duration": 2187,
    "start_time": "2023-08-19T08:17:37.150Z"
   },
   {
    "duration": 11,
    "start_time": "2023-08-19T08:17:39.339Z"
   },
   {
    "duration": 6,
    "start_time": "2023-08-19T08:17:39.352Z"
   },
   {
    "duration": 259,
    "start_time": "2023-08-19T08:17:39.364Z"
   },
   {
    "duration": 9,
    "start_time": "2023-08-19T08:17:39.625Z"
   },
   {
    "duration": 44,
    "start_time": "2023-08-19T08:17:39.636Z"
   },
   {
    "duration": 5,
    "start_time": "2023-08-19T08:17:39.684Z"
   },
   {
    "duration": 13,
    "start_time": "2023-08-19T08:17:39.691Z"
   },
   {
    "duration": 5,
    "start_time": "2023-08-19T08:17:39.706Z"
   },
   {
    "duration": 17,
    "start_time": "2023-08-19T08:17:39.712Z"
   },
   {
    "duration": 14,
    "start_time": "2023-08-19T08:17:39.732Z"
   },
   {
    "duration": 8,
    "start_time": "2023-08-19T08:17:39.748Z"
   },
   {
    "duration": 13,
    "start_time": "2023-08-19T08:17:39.759Z"
   },
   {
    "duration": 18,
    "start_time": "2023-08-19T08:17:39.773Z"
   },
   {
    "duration": 8,
    "start_time": "2023-08-19T08:17:39.793Z"
   },
   {
    "duration": 13,
    "start_time": "2023-08-19T08:17:39.802Z"
   },
   {
    "duration": 17,
    "start_time": "2023-08-19T08:17:39.817Z"
   },
   {
    "duration": 55,
    "start_time": "2023-08-19T08:17:39.835Z"
   },
   {
    "duration": 165,
    "start_time": "2023-08-19T08:17:39.893Z"
   },
   {
    "duration": 11,
    "start_time": "2023-08-19T08:17:40.062Z"
   },
   {
    "duration": 22,
    "start_time": "2023-08-19T08:17:40.074Z"
   },
   {
    "duration": 14,
    "start_time": "2023-08-19T08:17:40.098Z"
   },
   {
    "duration": 18,
    "start_time": "2023-08-19T08:17:40.114Z"
   },
   {
    "duration": 4,
    "start_time": "2023-08-19T08:17:40.135Z"
   },
   {
    "duration": 20,
    "start_time": "2023-08-19T08:17:40.141Z"
   },
   {
    "duration": 6,
    "start_time": "2023-08-19T08:17:40.163Z"
   },
   {
    "duration": 29,
    "start_time": "2023-08-19T08:17:40.170Z"
   },
   {
    "duration": 9,
    "start_time": "2023-08-19T08:17:40.201Z"
   },
   {
    "duration": 22,
    "start_time": "2023-08-19T08:17:40.211Z"
   },
   {
    "duration": 5,
    "start_time": "2023-08-19T08:17:40.235Z"
   },
   {
    "duration": 389,
    "start_time": "2023-08-19T08:17:40.241Z"
   },
   {
    "duration": 9,
    "start_time": "2023-08-19T08:17:40.632Z"
   },
   {
    "duration": 3,
    "start_time": "2023-08-19T08:17:40.643Z"
   },
   {
    "duration": 12,
    "start_time": "2023-08-19T08:17:40.659Z"
   },
   {
    "duration": 17,
    "start_time": "2023-08-19T08:17:40.677Z"
   },
   {
    "duration": 8,
    "start_time": "2023-08-19T08:17:40.695Z"
   },
   {
    "duration": 21,
    "start_time": "2023-08-19T08:17:40.705Z"
   },
   {
    "duration": 73,
    "start_time": "2023-08-19T08:17:40.732Z"
   },
   {
    "duration": 583,
    "start_time": "2023-08-19T08:17:40.807Z"
   },
   {
    "duration": 195,
    "start_time": "2023-08-19T08:17:41.395Z"
   },
   {
    "duration": 9,
    "start_time": "2023-08-19T08:17:41.592Z"
   },
   {
    "duration": 389,
    "start_time": "2023-08-19T08:17:41.603Z"
   },
   {
    "duration": 348,
    "start_time": "2023-08-19T08:17:41.994Z"
   },
   {
    "duration": 181,
    "start_time": "2023-08-19T08:17:42.343Z"
   },
   {
    "duration": 169,
    "start_time": "2023-08-19T08:17:42.525Z"
   },
   {
    "duration": 15,
    "start_time": "2023-08-19T08:17:42.696Z"
   },
   {
    "duration": 144,
    "start_time": "2023-08-19T08:17:42.713Z"
   },
   {
    "duration": 88,
    "start_time": "2023-08-19T08:17:42.862Z"
   },
   {
    "duration": 29,
    "start_time": "2023-08-19T08:17:42.952Z"
   },
   {
    "duration": 450,
    "start_time": "2023-08-19T08:17:42.985Z"
   },
   {
    "duration": 42,
    "start_time": "2023-08-19T08:17:43.437Z"
   },
   {
    "duration": 170,
    "start_time": "2023-08-19T08:17:43.480Z"
   },
   {
    "duration": 185,
    "start_time": "2023-08-19T08:17:43.667Z"
   },
   {
    "duration": 199,
    "start_time": "2023-08-19T08:17:43.854Z"
   },
   {
    "duration": 352,
    "start_time": "2023-08-19T08:17:44.059Z"
   },
   {
    "duration": 214,
    "start_time": "2023-08-19T08:17:44.417Z"
   },
   {
    "duration": 197,
    "start_time": "2023-08-19T08:17:44.632Z"
   },
   {
    "duration": 231,
    "start_time": "2023-08-19T08:17:44.830Z"
   },
   {
    "duration": 356,
    "start_time": "2023-08-19T08:17:45.070Z"
   },
   {
    "duration": 166,
    "start_time": "2023-08-19T08:17:45.428Z"
   },
   {
    "duration": 217,
    "start_time": "2023-08-19T08:17:45.596Z"
   },
   {
    "duration": 209,
    "start_time": "2023-08-19T08:17:45.814Z"
   },
   {
    "duration": 211,
    "start_time": "2023-08-19T08:17:46.025Z"
   },
   {
    "duration": 214,
    "start_time": "2023-08-19T08:17:46.238Z"
   },
   {
    "duration": 180,
    "start_time": "2023-08-19T08:17:46.463Z"
   },
   {
    "duration": 193,
    "start_time": "2023-08-19T08:17:46.645Z"
   },
   {
    "duration": 293,
    "start_time": "2023-08-19T08:17:46.840Z"
   },
   {
    "duration": 6,
    "start_time": "2023-08-19T08:17:47.135Z"
   },
   {
    "duration": 192,
    "start_time": "2023-08-19T08:17:47.143Z"
   },
   {
    "duration": 5,
    "start_time": "2023-08-19T08:17:47.337Z"
   },
   {
    "duration": 305,
    "start_time": "2023-08-19T08:17:47.344Z"
   },
   {
    "duration": 24,
    "start_time": "2023-08-19T08:17:47.651Z"
   },
   {
    "duration": 151,
    "start_time": "2023-08-19T08:17:47.683Z"
   },
   {
    "duration": 6,
    "start_time": "2023-08-19T08:17:47.836Z"
   },
   {
    "duration": 193,
    "start_time": "2023-08-19T08:17:47.844Z"
   },
   {
    "duration": 6,
    "start_time": "2023-08-19T08:17:48.039Z"
   },
   {
    "duration": 181,
    "start_time": "2023-08-19T08:17:48.047Z"
   },
   {
    "duration": 169,
    "start_time": "2023-08-19T08:17:48.229Z"
   },
   {
    "duration": 5,
    "start_time": "2023-08-19T08:17:48.400Z"
   },
   {
    "duration": 150,
    "start_time": "2023-08-19T08:17:48.407Z"
   },
   {
    "duration": 21,
    "start_time": "2023-08-19T08:17:48.559Z"
   },
   {
    "duration": 149,
    "start_time": "2023-08-19T08:17:48.590Z"
   },
   {
    "duration": 5,
    "start_time": "2023-08-19T08:17:48.741Z"
   },
   {
    "duration": 44,
    "start_time": "2023-08-19T08:17:48.748Z"
   },
   {
    "duration": 145,
    "start_time": "2023-08-19T08:17:48.797Z"
   },
   {
    "duration": 49,
    "start_time": "2023-08-19T08:17:48.944Z"
   },
   {
    "duration": 226,
    "start_time": "2023-08-19T08:17:48.995Z"
   },
   {
    "duration": 10,
    "start_time": "2023-08-19T08:17:49.223Z"
   },
   {
    "duration": 47,
    "start_time": "2023-08-19T08:17:49.235Z"
   },
   {
    "duration": 170,
    "start_time": "2023-08-19T08:17:49.284Z"
   },
   {
    "duration": 52,
    "start_time": "2023-08-19T08:17:49.462Z"
   },
   {
    "duration": 75,
    "start_time": "2023-08-19T08:17:49.516Z"
   },
   {
    "duration": 39,
    "start_time": "2023-08-19T08:17:49.595Z"
   },
   {
    "duration": 670,
    "start_time": "2023-08-19T08:17:49.635Z"
   },
   {
    "duration": 5045,
    "start_time": "2023-08-19T08:17:50.307Z"
   },
   {
    "duration": 471,
    "start_time": "2023-08-19T08:17:55.358Z"
   },
   {
    "duration": 258,
    "start_time": "2023-08-19T08:17:55.831Z"
   },
   {
    "duration": 6,
    "start_time": "2023-08-19T08:17:56.091Z"
   }
  ],
  "kernelspec": {
   "display_name": "Python 3 (ipykernel)",
   "language": "python",
   "name": "python3"
  },
  "language_info": {
   "codemirror_mode": {
    "name": "ipython",
    "version": 3
   },
   "file_extension": ".py",
   "mimetype": "text/x-python",
   "name": "python",
   "nbconvert_exporter": "python",
   "pygments_lexer": "ipython3",
   "version": "3.11.5"
  },
  "toc": {
   "base_numbering": 1,
   "nav_menu": {},
   "number_sections": true,
   "sideBar": true,
   "skip_h1_title": true,
   "title_cell": "Table of Contents",
   "title_sidebar": "Contents",
   "toc_cell": false,
   "toc_position": {
    "height": "518px",
    "left": "73px",
    "top": "110.525px",
    "width": "164.988px"
   },
   "toc_section_display": true,
   "toc_window_display": true
  }
 },
 "nbformat": 4,
 "nbformat_minor": 2
}
