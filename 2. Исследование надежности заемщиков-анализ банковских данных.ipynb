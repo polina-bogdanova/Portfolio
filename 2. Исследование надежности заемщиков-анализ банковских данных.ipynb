{
 "cells": [
  {
   "cell_type": "markdown",
   "id": "4f11de00",
   "metadata": {
    "deletable": false,
    "editable": false,
    "id": "4f11de00"
   },
   "source": [
    "# Исследование надежности заемщиков"
   ]
  },
  {
   "cell_type": "markdown",
   "id": "f09d6878",
   "metadata": {
    "deletable": false,
    "editable": false,
    "id": "f09d6878"
   },
   "source": [
    "Это первая часть проекта, она будет проверена автоматически. Вторую часть проверит ревьюер. "
   ]
  },
  {
   "cell_type": "markdown",
   "id": "516620ee",
   "metadata": {
    "deletable": false,
    "editable": false,
    "id": "516620ee"
   },
   "source": [
    "## Откройте таблицу и изучите общую информацию о данных"
   ]
  },
  {
   "cell_type": "markdown",
   "id": "76a8a9ce",
   "metadata": {
    "deletable": false,
    "editable": false,
    "id": "76a8a9ce",
    "tags": [
     "start_task"
    ]
   },
   "source": [
    "**Задание 1. Импортируйте библиотеку pandas. Считайте данные из csv-файла в датафрейм и сохраните в переменную `data`. Путь к файлу:**\n",
    "\n",
    "`/datasets/data.csv`"
   ]
  },
  {
   "cell_type": "code",
   "execution_count": 1,
   "id": "fab207d0",
   "metadata": {
    "id": "fab207d0"
   },
   "outputs": [],
   "source": [
    "import pandas as pd # импортируйте библиотеку pandas"
   ]
  },
  {
   "cell_type": "code",
   "execution_count": 2,
   "id": "6c82b607",
   "metadata": {
    "id": "6c82b607"
   },
   "outputs": [],
   "source": [
    "data = pd.read_csv('https://code.s3.yandex.net/datasets/data.csv') # прочитайте csv-файл"
   ]
  },
  {
   "cell_type": "markdown",
   "id": "08bbb5b3",
   "metadata": {
    "deletable": false,
    "editable": false,
    "id": "08bbb5b3",
    "tags": [
     "start_task"
    ]
   },
   "source": [
    "**Задание 2. Выведите первые 20 строчек датафрейма `data` на экран.**"
   ]
  },
  {
   "cell_type": "code",
   "execution_count": 3,
   "id": "4ff33b36",
   "metadata": {
    "id": "4ff33b36"
   },
   "outputs": [
    {
     "name": "stdout",
     "output_type": "stream",
     "text": [
      "    children  days_employed  dob_years            education  education_id  \\\n",
      "0          1   -8437.673028         42               высшее             0   \n",
      "1          1   -4024.803754         36              среднее             1   \n",
      "2          0   -5623.422610         33              Среднее             1   \n",
      "3          3   -4124.747207         32              среднее             1   \n",
      "4          0  340266.072047         53              среднее             1   \n",
      "5          0    -926.185831         27               высшее             0   \n",
      "6          0   -2879.202052         43               высшее             0   \n",
      "7          0    -152.779569         50              СРЕДНЕЕ             1   \n",
      "8          2   -6929.865299         35               ВЫСШЕЕ             0   \n",
      "9          0   -2188.756445         41              среднее             1   \n",
      "10         2   -4171.483647         36               высшее             0   \n",
      "11         0    -792.701887         40              среднее             1   \n",
      "12         0            NaN         65              среднее             1   \n",
      "13         0   -1846.641941         54  неоконченное высшее             2   \n",
      "14         0   -1844.956182         56               высшее             0   \n",
      "15         1    -972.364419         26              среднее             1   \n",
      "16         0   -1719.934226         35              среднее             1   \n",
      "17         0   -2369.999720         33               высшее             0   \n",
      "18         0  400281.136913         53              среднее             1   \n",
      "19         0  -10038.818549         48              СРЕДНЕЕ             1   \n",
      "\n",
      "       family_status  family_status_id gender income_type  debt  \\\n",
      "0    женат / замужем                 0      F   сотрудник     0   \n",
      "1    женат / замужем                 0      F   сотрудник     0   \n",
      "2    женат / замужем                 0      M   сотрудник     0   \n",
      "3    женат / замужем                 0      M   сотрудник     0   \n",
      "4   гражданский брак                 1      F   пенсионер     0   \n",
      "5   гражданский брак                 1      M   компаньон     0   \n",
      "6    женат / замужем                 0      F   компаньон     0   \n",
      "7    женат / замужем                 0      M   сотрудник     0   \n",
      "8   гражданский брак                 1      F   сотрудник     0   \n",
      "9    женат / замужем                 0      M   сотрудник     0   \n",
      "10   женат / замужем                 0      M   компаньон     0   \n",
      "11   женат / замужем                 0      F   сотрудник     0   \n",
      "12  гражданский брак                 1      M   пенсионер     0   \n",
      "13   женат / замужем                 0      F   сотрудник     0   \n",
      "14  гражданский брак                 1      F   компаньон     1   \n",
      "15   женат / замужем                 0      F   сотрудник     0   \n",
      "16   женат / замужем                 0      F   сотрудник     0   \n",
      "17  гражданский брак                 1      M   сотрудник     0   \n",
      "18    вдовец / вдова                 2      F   пенсионер     0   \n",
      "19         в разводе                 3      F   сотрудник     0   \n",
      "\n",
      "     total_income                                 purpose  \n",
      "0   253875.639453                           покупка жилья  \n",
      "1   112080.014102                 приобретение автомобиля  \n",
      "2   145885.952297                           покупка жилья  \n",
      "3   267628.550329              дополнительное образование  \n",
      "4   158616.077870                         сыграть свадьбу  \n",
      "5   255763.565419                           покупка жилья  \n",
      "6   240525.971920                       операции с жильем  \n",
      "7   135823.934197                             образование  \n",
      "8    95856.832424                   на проведение свадьбы  \n",
      "9   144425.938277                 покупка жилья для семьи  \n",
      "10  113943.491460                    покупка недвижимости  \n",
      "11   77069.234271       покупка коммерческой недвижимости  \n",
      "12            NaN                         сыграть свадьбу  \n",
      "13  130458.228857                 приобретение автомобиля  \n",
      "14  165127.911772              покупка жилой недвижимости  \n",
      "15  116820.904450  строительство собственной недвижимости  \n",
      "16  289202.704229                            недвижимость  \n",
      "17   90410.586745              строительство недвижимости  \n",
      "18   56823.777243      на покупку подержанного автомобиля  \n",
      "19  242831.107982            на покупку своего автомобиля  \n"
     ]
    }
   ],
   "source": [
    "print(data.head(20)) # ваш код здесь"
   ]
  },
  {
   "cell_type": "markdown",
   "id": "c8f382ae",
   "metadata": {
    "deletable": false,
    "editable": false,
    "id": "c8f382ae",
    "tags": [
     "start_task"
    ]
   },
   "source": [
    "**Задание 3. Выведите основную информацию о датафрейме с помощью метода `info()`.**"
   ]
  },
  {
   "cell_type": "code",
   "execution_count": 4,
   "id": "e1ed9908",
   "metadata": {
    "id": "e1ed9908"
   },
   "outputs": [
    {
     "name": "stdout",
     "output_type": "stream",
     "text": [
      "<class 'pandas.core.frame.DataFrame'>\n",
      "RangeIndex: 21525 entries, 0 to 21524\n",
      "Data columns (total 12 columns):\n",
      " #   Column            Non-Null Count  Dtype  \n",
      "---  ------            --------------  -----  \n",
      " 0   children          21525 non-null  int64  \n",
      " 1   days_employed     19351 non-null  float64\n",
      " 2   dob_years         21525 non-null  int64  \n",
      " 3   education         21525 non-null  object \n",
      " 4   education_id      21525 non-null  int64  \n",
      " 5   family_status     21525 non-null  object \n",
      " 6   family_status_id  21525 non-null  int64  \n",
      " 7   gender            21525 non-null  object \n",
      " 8   income_type       21525 non-null  object \n",
      " 9   debt              21525 non-null  int64  \n",
      " 10  total_income      19351 non-null  float64\n",
      " 11  purpose           21525 non-null  object \n",
      "dtypes: float64(2), int64(5), object(5)\n",
      "memory usage: 2.0+ MB\n"
     ]
    }
   ],
   "source": [
    "data.info() # ваш код здесь"
   ]
  },
  {
   "cell_type": "markdown",
   "id": "f969a1cd",
   "metadata": {
    "deletable": false,
    "editable": false,
    "id": "f969a1cd"
   },
   "source": [
    "## Предобработка данных"
   ]
  },
  {
   "cell_type": "markdown",
   "id": "7283e864",
   "metadata": {
    "deletable": false,
    "editable": false,
    "id": "7283e864"
   },
   "source": [
    "### Удаление пропусков"
   ]
  },
  {
   "cell_type": "markdown",
   "id": "c9a0745e",
   "metadata": {
    "deletable": false,
    "editable": false,
    "id": "c9a0745e",
    "tags": [
     "start_task"
    ]
   },
   "source": [
    "**Задание 4. Выведите количество пропущенных значений для каждого столбца. Используйте комбинацию двух методов.**"
   ]
  },
  {
   "cell_type": "code",
   "execution_count": 5,
   "id": "b7a096e1",
   "metadata": {
    "id": "b7a096e1"
   },
   "outputs": [
    {
     "data": {
      "text/plain": [
       "children               0\n",
       "days_employed       2174\n",
       "dob_years              0\n",
       "education              0\n",
       "education_id           0\n",
       "family_status          0\n",
       "family_status_id       0\n",
       "gender                 0\n",
       "income_type            0\n",
       "debt                   0\n",
       "total_income        2174\n",
       "purpose                0\n",
       "dtype: int64"
      ]
     },
     "execution_count": 5,
     "metadata": {},
     "output_type": "execute_result"
    }
   ],
   "source": [
    "data.isna().sum() # ваш код здесь"
   ]
  },
  {
   "cell_type": "markdown",
   "id": "c2578616",
   "metadata": {
    "deletable": false,
    "editable": false,
    "id": "c2578616",
    "tags": [
     "start_task"
    ]
   },
   "source": [
    "**Задание 5. В двух столбцах есть пропущенные значения. Один из них — `days_employed`. Пропуски в этом столбце вы обработаете на следующем этапе. Другой столбец с пропущенными значениями — `total_income` — хранит данные о доходах. На сумму дохода сильнее всего влияет тип занятости, поэтому заполнить пропуски в этом столбце нужно медианным значением по каждому типу из столбца `income_type`. Например, у человека с типом занятости `сотрудник` пропуск в столбце `total_income` должен быть заполнен медианным доходом среди всех записей с тем же типом.**"
   ]
  },
  {
   "cell_type": "code",
   "execution_count": 6,
   "id": "e8afc4bc",
   "metadata": {
    "id": "e8afc4bc"
   },
   "outputs": [
    {
     "name": "stdout",
     "output_type": "stream",
     "text": [
      "   children  days_employed  dob_years education  education_id  \\\n",
      "0         1   -8437.673028         42    высшее             0   \n",
      "1         1   -4024.803754         36   среднее             1   \n",
      "2         0   -5623.422610         33   Среднее             1   \n",
      "3         3   -4124.747207         32   среднее             1   \n",
      "4         0  340266.072047         53   среднее             1   \n",
      "\n",
      "      family_status  family_status_id gender income_type  debt   total_income  \\\n",
      "0   женат / замужем                 0      F   сотрудник     0  253875.639453   \n",
      "1   женат / замужем                 0      F   сотрудник     0  112080.014102   \n",
      "2   женат / замужем                 0      M   сотрудник     0  145885.952297   \n",
      "3   женат / замужем                 0      M   сотрудник     0  267628.550329   \n",
      "4  гражданский брак                 1      F   пенсионер     0  158616.077870   \n",
      "\n",
      "                      purpose  \n",
      "0               покупка жилья  \n",
      "1     приобретение автомобиля  \n",
      "2               покупка жилья  \n",
      "3  дополнительное образование  \n",
      "4             сыграть свадьбу  \n"
     ]
    },
    {
     "data": {
      "text/html": [
       "<div>\n",
       "<style scoped>\n",
       "    .dataframe tbody tr th:only-of-type {\n",
       "        vertical-align: middle;\n",
       "    }\n",
       "\n",
       "    .dataframe tbody tr th {\n",
       "        vertical-align: top;\n",
       "    }\n",
       "\n",
       "    .dataframe thead th {\n",
       "        text-align: right;\n",
       "    }\n",
       "</style>\n",
       "<table border=\"1\" class=\"dataframe\">\n",
       "  <thead>\n",
       "    <tr style=\"text-align: right;\">\n",
       "      <th></th>\n",
       "      <th>children</th>\n",
       "      <th>days_employed</th>\n",
       "      <th>dob_years</th>\n",
       "      <th>education</th>\n",
       "      <th>education_id</th>\n",
       "      <th>family_status</th>\n",
       "      <th>family_status_id</th>\n",
       "      <th>gender</th>\n",
       "      <th>income_type</th>\n",
       "      <th>debt</th>\n",
       "      <th>total_income</th>\n",
       "      <th>purpose</th>\n",
       "    </tr>\n",
       "  </thead>\n",
       "  <tbody>\n",
       "    <tr>\n",
       "      <th>0</th>\n",
       "      <td>1</td>\n",
       "      <td>-8437.673028</td>\n",
       "      <td>42</td>\n",
       "      <td>высшее</td>\n",
       "      <td>0</td>\n",
       "      <td>женат / замужем</td>\n",
       "      <td>0</td>\n",
       "      <td>F</td>\n",
       "      <td>сотрудник</td>\n",
       "      <td>0</td>\n",
       "      <td>253875.639453</td>\n",
       "      <td>покупка жилья</td>\n",
       "    </tr>\n",
       "    <tr>\n",
       "      <th>1</th>\n",
       "      <td>1</td>\n",
       "      <td>-4024.803754</td>\n",
       "      <td>36</td>\n",
       "      <td>среднее</td>\n",
       "      <td>1</td>\n",
       "      <td>женат / замужем</td>\n",
       "      <td>0</td>\n",
       "      <td>F</td>\n",
       "      <td>сотрудник</td>\n",
       "      <td>0</td>\n",
       "      <td>112080.014102</td>\n",
       "      <td>приобретение автомобиля</td>\n",
       "    </tr>\n",
       "    <tr>\n",
       "      <th>2</th>\n",
       "      <td>0</td>\n",
       "      <td>-5623.422610</td>\n",
       "      <td>33</td>\n",
       "      <td>Среднее</td>\n",
       "      <td>1</td>\n",
       "      <td>женат / замужем</td>\n",
       "      <td>0</td>\n",
       "      <td>M</td>\n",
       "      <td>сотрудник</td>\n",
       "      <td>0</td>\n",
       "      <td>145885.952297</td>\n",
       "      <td>покупка жилья</td>\n",
       "    </tr>\n",
       "    <tr>\n",
       "      <th>3</th>\n",
       "      <td>3</td>\n",
       "      <td>-4124.747207</td>\n",
       "      <td>32</td>\n",
       "      <td>среднее</td>\n",
       "      <td>1</td>\n",
       "      <td>женат / замужем</td>\n",
       "      <td>0</td>\n",
       "      <td>M</td>\n",
       "      <td>сотрудник</td>\n",
       "      <td>0</td>\n",
       "      <td>267628.550329</td>\n",
       "      <td>дополнительное образование</td>\n",
       "    </tr>\n",
       "    <tr>\n",
       "      <th>4</th>\n",
       "      <td>0</td>\n",
       "      <td>340266.072047</td>\n",
       "      <td>53</td>\n",
       "      <td>среднее</td>\n",
       "      <td>1</td>\n",
       "      <td>гражданский брак</td>\n",
       "      <td>1</td>\n",
       "      <td>F</td>\n",
       "      <td>пенсионер</td>\n",
       "      <td>0</td>\n",
       "      <td>158616.077870</td>\n",
       "      <td>сыграть свадьбу</td>\n",
       "    </tr>\n",
       "  </tbody>\n",
       "</table>\n",
       "</div>"
      ],
      "text/plain": [
       "   children  days_employed  dob_years education  education_id  \\\n",
       "0         1   -8437.673028         42    высшее             0   \n",
       "1         1   -4024.803754         36   среднее             1   \n",
       "2         0   -5623.422610         33   Среднее             1   \n",
       "3         3   -4124.747207         32   среднее             1   \n",
       "4         0  340266.072047         53   среднее             1   \n",
       "\n",
       "      family_status  family_status_id gender income_type  debt   total_income  \\\n",
       "0   женат / замужем                 0      F   сотрудник     0  253875.639453   \n",
       "1   женат / замужем                 0      F   сотрудник     0  112080.014102   \n",
       "2   женат / замужем                 0      M   сотрудник     0  145885.952297   \n",
       "3   женат / замужем                 0      M   сотрудник     0  267628.550329   \n",
       "4  гражданский брак                 1      F   пенсионер     0  158616.077870   \n",
       "\n",
       "                      purpose  \n",
       "0               покупка жилья  \n",
       "1     приобретение автомобиля  \n",
       "2               покупка жилья  \n",
       "3  дополнительное образование  \n",
       "4             сыграть свадьбу  "
      ]
     },
     "execution_count": 6,
     "metadata": {},
     "output_type": "execute_result"
    }
   ],
   "source": [
    "data['total_income'] = data.groupby('income_type')['total_income'].transform(lambda x: x.fillna(x.median()))\n",
    "print(data.head())\n",
    "data.head()"
   ]
  },
  {
   "cell_type": "markdown",
   "id": "ae986d46",
   "metadata": {
    "deletable": false,
    "editable": false,
    "id": "ae986d46"
   },
   "source": [
    "### Обработка аномальных значений"
   ]
  },
  {
   "cell_type": "markdown",
   "id": "b049cbae",
   "metadata": {
    "deletable": false,
    "editable": false,
    "id": "b049cbae",
    "tags": [
     "start_task"
    ]
   },
   "source": [
    "**Задание 6. В данных могут встречаться артефакты (аномалии) — значения, которые не отражают действительность и появились по какой-то ошибке. Таким артефактом будет отрицательное количество дней трудового стажа в столбце `days_employed`. Для реальных данных это нормально. Обработайте значения в этом столбце: замените все отрицательные значения положительными с помощью метода `abs()`.**"
   ]
  },
  {
   "cell_type": "code",
   "execution_count": 7,
   "id": "187779b0",
   "metadata": {
    "id": "187779b0",
    "scrolled": true
   },
   "outputs": [
    {
     "data": {
      "text/html": [
       "<div>\n",
       "<style scoped>\n",
       "    .dataframe tbody tr th:only-of-type {\n",
       "        vertical-align: middle;\n",
       "    }\n",
       "\n",
       "    .dataframe tbody tr th {\n",
       "        vertical-align: top;\n",
       "    }\n",
       "\n",
       "    .dataframe thead th {\n",
       "        text-align: right;\n",
       "    }\n",
       "</style>\n",
       "<table border=\"1\" class=\"dataframe\">\n",
       "  <thead>\n",
       "    <tr style=\"text-align: right;\">\n",
       "      <th></th>\n",
       "      <th>children</th>\n",
       "      <th>days_employed</th>\n",
       "      <th>dob_years</th>\n",
       "      <th>education</th>\n",
       "      <th>education_id</th>\n",
       "      <th>family_status</th>\n",
       "      <th>family_status_id</th>\n",
       "      <th>gender</th>\n",
       "      <th>income_type</th>\n",
       "      <th>debt</th>\n",
       "      <th>total_income</th>\n",
       "      <th>purpose</th>\n",
       "    </tr>\n",
       "  </thead>\n",
       "  <tbody>\n",
       "    <tr>\n",
       "      <th>0</th>\n",
       "      <td>1</td>\n",
       "      <td>8437.673028</td>\n",
       "      <td>42</td>\n",
       "      <td>высшее</td>\n",
       "      <td>0</td>\n",
       "      <td>женат / замужем</td>\n",
       "      <td>0</td>\n",
       "      <td>F</td>\n",
       "      <td>сотрудник</td>\n",
       "      <td>0</td>\n",
       "      <td>253875.639453</td>\n",
       "      <td>покупка жилья</td>\n",
       "    </tr>\n",
       "    <tr>\n",
       "      <th>1</th>\n",
       "      <td>1</td>\n",
       "      <td>4024.803754</td>\n",
       "      <td>36</td>\n",
       "      <td>среднее</td>\n",
       "      <td>1</td>\n",
       "      <td>женат / замужем</td>\n",
       "      <td>0</td>\n",
       "      <td>F</td>\n",
       "      <td>сотрудник</td>\n",
       "      <td>0</td>\n",
       "      <td>112080.014102</td>\n",
       "      <td>приобретение автомобиля</td>\n",
       "    </tr>\n",
       "    <tr>\n",
       "      <th>2</th>\n",
       "      <td>0</td>\n",
       "      <td>5623.422610</td>\n",
       "      <td>33</td>\n",
       "      <td>Среднее</td>\n",
       "      <td>1</td>\n",
       "      <td>женат / замужем</td>\n",
       "      <td>0</td>\n",
       "      <td>M</td>\n",
       "      <td>сотрудник</td>\n",
       "      <td>0</td>\n",
       "      <td>145885.952297</td>\n",
       "      <td>покупка жилья</td>\n",
       "    </tr>\n",
       "    <tr>\n",
       "      <th>3</th>\n",
       "      <td>3</td>\n",
       "      <td>4124.747207</td>\n",
       "      <td>32</td>\n",
       "      <td>среднее</td>\n",
       "      <td>1</td>\n",
       "      <td>женат / замужем</td>\n",
       "      <td>0</td>\n",
       "      <td>M</td>\n",
       "      <td>сотрудник</td>\n",
       "      <td>0</td>\n",
       "      <td>267628.550329</td>\n",
       "      <td>дополнительное образование</td>\n",
       "    </tr>\n",
       "    <tr>\n",
       "      <th>4</th>\n",
       "      <td>0</td>\n",
       "      <td>340266.072047</td>\n",
       "      <td>53</td>\n",
       "      <td>среднее</td>\n",
       "      <td>1</td>\n",
       "      <td>гражданский брак</td>\n",
       "      <td>1</td>\n",
       "      <td>F</td>\n",
       "      <td>пенсионер</td>\n",
       "      <td>0</td>\n",
       "      <td>158616.077870</td>\n",
       "      <td>сыграть свадьбу</td>\n",
       "    </tr>\n",
       "    <tr>\n",
       "      <th>5</th>\n",
       "      <td>0</td>\n",
       "      <td>926.185831</td>\n",
       "      <td>27</td>\n",
       "      <td>высшее</td>\n",
       "      <td>0</td>\n",
       "      <td>гражданский брак</td>\n",
       "      <td>1</td>\n",
       "      <td>M</td>\n",
       "      <td>компаньон</td>\n",
       "      <td>0</td>\n",
       "      <td>255763.565419</td>\n",
       "      <td>покупка жилья</td>\n",
       "    </tr>\n",
       "    <tr>\n",
       "      <th>6</th>\n",
       "      <td>0</td>\n",
       "      <td>2879.202052</td>\n",
       "      <td>43</td>\n",
       "      <td>высшее</td>\n",
       "      <td>0</td>\n",
       "      <td>женат / замужем</td>\n",
       "      <td>0</td>\n",
       "      <td>F</td>\n",
       "      <td>компаньон</td>\n",
       "      <td>0</td>\n",
       "      <td>240525.971920</td>\n",
       "      <td>операции с жильем</td>\n",
       "    </tr>\n",
       "    <tr>\n",
       "      <th>7</th>\n",
       "      <td>0</td>\n",
       "      <td>152.779569</td>\n",
       "      <td>50</td>\n",
       "      <td>СРЕДНЕЕ</td>\n",
       "      <td>1</td>\n",
       "      <td>женат / замужем</td>\n",
       "      <td>0</td>\n",
       "      <td>M</td>\n",
       "      <td>сотрудник</td>\n",
       "      <td>0</td>\n",
       "      <td>135823.934197</td>\n",
       "      <td>образование</td>\n",
       "    </tr>\n",
       "    <tr>\n",
       "      <th>8</th>\n",
       "      <td>2</td>\n",
       "      <td>6929.865299</td>\n",
       "      <td>35</td>\n",
       "      <td>ВЫСШЕЕ</td>\n",
       "      <td>0</td>\n",
       "      <td>гражданский брак</td>\n",
       "      <td>1</td>\n",
       "      <td>F</td>\n",
       "      <td>сотрудник</td>\n",
       "      <td>0</td>\n",
       "      <td>95856.832424</td>\n",
       "      <td>на проведение свадьбы</td>\n",
       "    </tr>\n",
       "    <tr>\n",
       "      <th>9</th>\n",
       "      <td>0</td>\n",
       "      <td>2188.756445</td>\n",
       "      <td>41</td>\n",
       "      <td>среднее</td>\n",
       "      <td>1</td>\n",
       "      <td>женат / замужем</td>\n",
       "      <td>0</td>\n",
       "      <td>M</td>\n",
       "      <td>сотрудник</td>\n",
       "      <td>0</td>\n",
       "      <td>144425.938277</td>\n",
       "      <td>покупка жилья для семьи</td>\n",
       "    </tr>\n",
       "  </tbody>\n",
       "</table>\n",
       "</div>"
      ],
      "text/plain": [
       "   children  days_employed  dob_years education  education_id  \\\n",
       "0         1    8437.673028         42    высшее             0   \n",
       "1         1    4024.803754         36   среднее             1   \n",
       "2         0    5623.422610         33   Среднее             1   \n",
       "3         3    4124.747207         32   среднее             1   \n",
       "4         0  340266.072047         53   среднее             1   \n",
       "5         0     926.185831         27    высшее             0   \n",
       "6         0    2879.202052         43    высшее             0   \n",
       "7         0     152.779569         50   СРЕДНЕЕ             1   \n",
       "8         2    6929.865299         35    ВЫСШЕЕ             0   \n",
       "9         0    2188.756445         41   среднее             1   \n",
       "\n",
       "      family_status  family_status_id gender income_type  debt   total_income  \\\n",
       "0   женат / замужем                 0      F   сотрудник     0  253875.639453   \n",
       "1   женат / замужем                 0      F   сотрудник     0  112080.014102   \n",
       "2   женат / замужем                 0      M   сотрудник     0  145885.952297   \n",
       "3   женат / замужем                 0      M   сотрудник     0  267628.550329   \n",
       "4  гражданский брак                 1      F   пенсионер     0  158616.077870   \n",
       "5  гражданский брак                 1      M   компаньон     0  255763.565419   \n",
       "6   женат / замужем                 0      F   компаньон     0  240525.971920   \n",
       "7   женат / замужем                 0      M   сотрудник     0  135823.934197   \n",
       "8  гражданский брак                 1      F   сотрудник     0   95856.832424   \n",
       "9   женат / замужем                 0      M   сотрудник     0  144425.938277   \n",
       "\n",
       "                      purpose  \n",
       "0               покупка жилья  \n",
       "1     приобретение автомобиля  \n",
       "2               покупка жилья  \n",
       "3  дополнительное образование  \n",
       "4             сыграть свадьбу  \n",
       "5               покупка жилья  \n",
       "6           операции с жильем  \n",
       "7                 образование  \n",
       "8       на проведение свадьбы  \n",
       "9     покупка жилья для семьи  "
      ]
     },
     "execution_count": 7,
     "metadata": {},
     "output_type": "execute_result"
    }
   ],
   "source": [
    "data['days_employed'] = abs(data['days_employed'])\n",
    "data.head(10)"
   ]
  },
  {
   "cell_type": "markdown",
   "id": "a13054c2",
   "metadata": {
    "deletable": false,
    "editable": false,
    "id": "a13054c2",
    "tags": [
     "start_task"
    ]
   },
   "source": [
    "**Задание 7. Для каждого типа занятости выведите медианное значение трудового стажа `days_employed` в днях.**"
   ]
  },
  {
   "cell_type": "code",
   "execution_count": 8,
   "id": "f3f5810c",
   "metadata": {
    "id": "f3f5810c"
   },
   "outputs": [
    {
     "data": {
      "text/plain": [
       "income_type\n",
       "безработный        366413.652744\n",
       "в декрете            3296.759962\n",
       "госслужащий          2689.368353\n",
       "компаньон            1547.382223\n",
       "пенсионер          365213.306266\n",
       "предприниматель       520.848083\n",
       "сотрудник            1574.202821\n",
       "студент               578.751554\n",
       "Name: days_employed, dtype: float64"
      ]
     },
     "execution_count": 8,
     "metadata": {},
     "output_type": "execute_result"
    }
   ],
   "source": [
    "data.groupby('income_type')['days_employed'].median() # ваш код здесь"
   ]
  },
  {
   "cell_type": "markdown",
   "id": "dbc3168c",
   "metadata": {
    "deletable": false,
    "editable": false,
    "id": "dbc3168c"
   },
   "source": [
    "У двух типов (безработные и пенсионеры) получатся аномально большие значения. Исправить такие значения сложно, поэтому оставьте их как есть."
   ]
  },
  {
   "cell_type": "markdown",
   "id": "ff4378c2",
   "metadata": {
    "deletable": false,
    "editable": false,
    "id": "ff4378c2",
    "tags": [
     "start_task"
    ]
   },
   "source": [
    "**Задание 8. Выведите перечень уникальных значений столбца `children`.**"
   ]
  },
  {
   "cell_type": "code",
   "execution_count": 9,
   "id": "9bd0c232",
   "metadata": {
    "id": "9bd0c232"
   },
   "outputs": [
    {
     "data": {
      "text/plain": [
       "array([ 1,  0,  3,  2, -1,  4, 20,  5], dtype=int64)"
      ]
     },
     "execution_count": 9,
     "metadata": {},
     "output_type": "execute_result"
    }
   ],
   "source": [
    "data['children'].unique() # ваш код здесь"
   ]
  },
  {
   "cell_type": "markdown",
   "id": "8e911990",
   "metadata": {
    "deletable": false,
    "editable": false,
    "id": "8e911990",
    "tags": [
     "start_task"
    ]
   },
   "source": [
    "**Задание 9. В столбце `children` есть два аномальных значения. Удалите строки, в которых встречаются такие аномальные значения из датафрейма `data`.**"
   ]
  },
  {
   "cell_type": "code",
   "execution_count": 10,
   "id": "6d5ba289",
   "metadata": {
    "id": "6d5ba289"
   },
   "outputs": [],
   "source": [
    "index = data[(data['children'] == -1) | (data['children'] == 20)].index\n",
    "data.drop(index, inplace=True)"
   ]
  },
  {
   "cell_type": "markdown",
   "id": "18d77455",
   "metadata": {
    "deletable": false,
    "editable": false,
    "id": "18d77455",
    "tags": [
     "start_task"
    ]
   },
   "source": [
    "**Задание 10. Ещё раз выведите перечень уникальных значений столбца `children`, чтобы убедиться, что артефакты удалены.**"
   ]
  },
  {
   "cell_type": "code",
   "execution_count": 11,
   "id": "2c5fa92c",
   "metadata": {
    "id": "2c5fa92c"
   },
   "outputs": [
    {
     "data": {
      "text/plain": [
       "array([1, 0, 3, 2, 4, 5], dtype=int64)"
      ]
     },
     "execution_count": 11,
     "metadata": {},
     "output_type": "execute_result"
    }
   ],
   "source": [
    "data['children'].unique() # ваш код здесь"
   ]
  },
  {
   "cell_type": "markdown",
   "id": "0ec07dee",
   "metadata": {
    "deletable": false,
    "editable": false,
    "id": "0ec07dee"
   },
   "source": [
    "### Удаление пропусков (продолжение)"
   ]
  },
  {
   "cell_type": "markdown",
   "id": "0fc3ae3f",
   "metadata": {
    "deletable": false,
    "editable": false,
    "id": "0fc3ae3f",
    "tags": [
     "start_task"
    ]
   },
   "source": [
    "**Задание 11. Заполните пропуски в столбце `days_employed` медианными значениями по каждому типу занятости `income_type`.**"
   ]
  },
  {
   "cell_type": "code",
   "execution_count": 12,
   "id": "e2aea7ac",
   "metadata": {
    "id": "e2aea7ac"
   },
   "outputs": [
    {
     "name": "stdout",
     "output_type": "stream",
     "text": [
      "    children  days_employed  dob_years            education  education_id  \\\n",
      "0          1    8437.673028         42               высшее             0   \n",
      "1          1    4024.803754         36              среднее             1   \n",
      "2          0    5623.422610         33              Среднее             1   \n",
      "3          3    4124.747207         32              среднее             1   \n",
      "4          0  340266.072047         53              среднее             1   \n",
      "5          0     926.185831         27               высшее             0   \n",
      "6          0    2879.202052         43               высшее             0   \n",
      "7          0     152.779569         50              СРЕДНЕЕ             1   \n",
      "8          2    6929.865299         35               ВЫСШЕЕ             0   \n",
      "9          0    2188.756445         41              среднее             1   \n",
      "10         2    4171.483647         36               высшее             0   \n",
      "11         0     792.701887         40              среднее             1   \n",
      "12         0  365286.622650         65              среднее             1   \n",
      "13         0    1846.641941         54  неоконченное высшее             2   \n",
      "14         0    1844.956182         56               высшее             0   \n",
      "15         1     972.364419         26              среднее             1   \n",
      "16         0    1719.934226         35              среднее             1   \n",
      "17         0    2369.999720         33               высшее             0   \n",
      "18         0  400281.136913         53              среднее             1   \n",
      "19         0   10038.818549         48              СРЕДНЕЕ             1   \n",
      "\n",
      "       family_status  family_status_id gender income_type  debt  \\\n",
      "0    женат / замужем                 0      F   сотрудник     0   \n",
      "1    женат / замужем                 0      F   сотрудник     0   \n",
      "2    женат / замужем                 0      M   сотрудник     0   \n",
      "3    женат / замужем                 0      M   сотрудник     0   \n",
      "4   гражданский брак                 1      F   пенсионер     0   \n",
      "5   гражданский брак                 1      M   компаньон     0   \n",
      "6    женат / замужем                 0      F   компаньон     0   \n",
      "7    женат / замужем                 0      M   сотрудник     0   \n",
      "8   гражданский брак                 1      F   сотрудник     0   \n",
      "9    женат / замужем                 0      M   сотрудник     0   \n",
      "10   женат / замужем                 0      M   компаньон     0   \n",
      "11   женат / замужем                 0      F   сотрудник     0   \n",
      "12  гражданский брак                 1      M   пенсионер     0   \n",
      "13   женат / замужем                 0      F   сотрудник     0   \n",
      "14  гражданский брак                 1      F   компаньон     1   \n",
      "15   женат / замужем                 0      F   сотрудник     0   \n",
      "16   женат / замужем                 0      F   сотрудник     0   \n",
      "17  гражданский брак                 1      M   сотрудник     0   \n",
      "18    вдовец / вдова                 2      F   пенсионер     0   \n",
      "19         в разводе                 3      F   сотрудник     0   \n",
      "\n",
      "     total_income                                 purpose  \n",
      "0   253875.639453                           покупка жилья  \n",
      "1   112080.014102                 приобретение автомобиля  \n",
      "2   145885.952297                           покупка жилья  \n",
      "3   267628.550329              дополнительное образование  \n",
      "4   158616.077870                         сыграть свадьбу  \n",
      "5   255763.565419                           покупка жилья  \n",
      "6   240525.971920                       операции с жильем  \n",
      "7   135823.934197                             образование  \n",
      "8    95856.832424                   на проведение свадьбы  \n",
      "9   144425.938277                 покупка жилья для семьи  \n",
      "10  113943.491460                    покупка недвижимости  \n",
      "11   77069.234271       покупка коммерческой недвижимости  \n",
      "12  118514.486412                         сыграть свадьбу  \n",
      "13  130458.228857                 приобретение автомобиля  \n",
      "14  165127.911772              покупка жилой недвижимости  \n",
      "15  116820.904450  строительство собственной недвижимости  \n",
      "16  289202.704229                            недвижимость  \n",
      "17   90410.586745              строительство недвижимости  \n",
      "18   56823.777243      на покупку подержанного автомобиля  \n",
      "19  242831.107982            на покупку своего автомобиля  \n"
     ]
    }
   ],
   "source": [
    "data['days_employed'] = data.groupby('income_type')['days_employed'].transform(lambda x: x.fillna(x.median())) # ваш код здесь\n",
    "print(data.head(20))"
   ]
  },
  {
   "cell_type": "markdown",
   "id": "97b0b795",
   "metadata": {
    "deletable": false,
    "editable": false,
    "id": "97b0b795",
    "tags": [
     "start_task"
    ]
   },
   "source": [
    "**Задание 12. Убедитесь, что все пропуски заполнены. Проверьте себя и ещё раз выведите количество пропущенных значений для каждого столбца с помощью двух методов.**"
   ]
  },
  {
   "cell_type": "code",
   "execution_count": 13,
   "id": "79632a21",
   "metadata": {
    "id": "79632a21"
   },
   "outputs": [
    {
     "data": {
      "text/plain": [
       "children            0\n",
       "days_employed       0\n",
       "dob_years           0\n",
       "education           0\n",
       "education_id        0\n",
       "family_status       0\n",
       "family_status_id    0\n",
       "gender              0\n",
       "income_type         0\n",
       "debt                0\n",
       "total_income        0\n",
       "purpose             0\n",
       "dtype: int64"
      ]
     },
     "execution_count": 13,
     "metadata": {},
     "output_type": "execute_result"
    }
   ],
   "source": [
    "data.isna().sum() # ваш код здесь"
   ]
  },
  {
   "cell_type": "markdown",
   "id": "bd4aeb20",
   "metadata": {
    "deletable": false,
    "editable": false,
    "id": "bd4aeb20"
   },
   "source": [
    "### Изменение типов данных"
   ]
  },
  {
   "cell_type": "markdown",
   "id": "963bfa58",
   "metadata": {
    "deletable": false,
    "editable": false,
    "id": "963bfa58",
    "tags": [
     "start_task"
    ]
   },
   "source": [
    "**Задание 13. Замените вещественный тип данных в столбце `total_income` на целочисленный с помощью метода `astype()`.**"
   ]
  },
  {
   "cell_type": "code",
   "execution_count": 14,
   "id": "73da6ea0",
   "metadata": {
    "id": "73da6ea0"
   },
   "outputs": [],
   "source": [
    "data['total_income'] = data['total_income'].astype('int') # ваш код здесь"
   ]
  },
  {
   "cell_type": "markdown",
   "id": "d290239e",
   "metadata": {
    "deletable": false,
    "editable": false,
    "id": "d290239e"
   },
   "source": [
    "### Обработка дубликатов"
   ]
  },
  {
   "cell_type": "markdown",
   "id": "1b5844fd",
   "metadata": {
    "deletable": false,
    "editable": false,
    "id": "1b5844fd",
    "tags": [
     "start_task"
    ]
   },
   "source": [
    "**Задание 14. Обработайте неявные дубликаты в столбце `education`. В этом столбце есть одни и те же значения, но записанные по-разному: с использованием заглавных и строчных букв. Приведите их к нижнему регистру.**"
   ]
  },
  {
   "cell_type": "code",
   "execution_count": 15,
   "id": "3f2504b3",
   "metadata": {
    "id": "3f2504b3"
   },
   "outputs": [],
   "source": [
    "data['education'] = data['education'].str.lower() # ваш код здесь"
   ]
  },
  {
   "cell_type": "markdown",
   "id": "4c22acbc",
   "metadata": {
    "deletable": false,
    "editable": false,
    "id": "4c22acbc",
    "tags": [
     "start_task"
    ]
   },
   "source": [
    "**Задание 15. Выведите на экран количество строк-дубликатов в данных. Если такие строки присутствуют, удалите их.**"
   ]
  },
  {
   "cell_type": "code",
   "execution_count": 16,
   "id": "d34a4325",
   "metadata": {
    "id": "d34a4325"
   },
   "outputs": [
    {
     "data": {
      "text/plain": [
       "71"
      ]
     },
     "execution_count": 16,
     "metadata": {},
     "output_type": "execute_result"
    }
   ],
   "source": [
    "data.duplicated().sum() # посчитайте дубликаты"
   ]
  },
  {
   "cell_type": "code",
   "execution_count": 17,
   "id": "6e1a6499",
   "metadata": {
    "id": "6e1a6499"
   },
   "outputs": [],
   "source": [
    "data = data.drop_duplicates() # удалите дубликаты"
   ]
  },
  {
   "cell_type": "markdown",
   "id": "e5686ccc",
   "metadata": {
    "deletable": false,
    "editable": false,
    "id": "e5686ccc"
   },
   "source": [
    "### Категоризация данных"
   ]
  },
  {
   "cell_type": "markdown",
   "id": "636e9acd",
   "metadata": {
    "deletable": false,
    "editable": false,
    "id": "636e9acd",
    "tags": [
     "start_task"
    ]
   },
   "source": [
    "**Задание 16. На основании диапазонов, указанных ниже, создайте в датафрейме `data` столбец `total_income_category` с категориями:**\n",
    "\n",
    "- 0–30000 — `'E'`;\n",
    "- 30001–50000 — `'D'`;\n",
    "- 50001–200000 — `'C'`;\n",
    "- 200001–1000000 — `'B'`;\n",
    "- 1000001 и выше — `'A'`.\n",
    "\n",
    "\n",
    "**Например, кредитополучателю с доходом 25000 нужно назначить категорию `'E'`, а клиенту, получающему 235000, — `'B'`. Используйте собственную функцию с именем `categorize_income()` и метод `apply()`.**"
   ]
  },
  {
   "cell_type": "code",
   "execution_count": 18,
   "id": "880a77e5",
   "metadata": {
    "id": "880a77e5"
   },
   "outputs": [],
   "source": [
    "def categorize_income(total_income):\n",
    "    if total_income <= 30000:\n",
    "        return 'E'\n",
    "    if total_income <= 50000:\n",
    "        return 'D'\n",
    "    if total_income <= 200000:\n",
    "        return 'C'\n",
    "    if total_income <= 1000000:\n",
    "        return 'B'\n",
    "    return 'A'"
   ]
  },
  {
   "cell_type": "code",
   "execution_count": 19,
   "id": "6f25f161",
   "metadata": {
    "id": "6f25f161"
   },
   "outputs": [],
   "source": [
    "data['total_income_category'] = data['total_income'].apply(categorize_income) # примените функцию методом apply()"
   ]
  },
  {
   "cell_type": "markdown",
   "id": "3363b685",
   "metadata": {
    "deletable": false,
    "editable": false,
    "id": "3363b685",
    "tags": [
     "start_task"
    ]
   },
   "source": [
    "**Задание 17. Выведите на экран перечень уникальных целей взятия кредита из столбца `purpose`.**"
   ]
  },
  {
   "cell_type": "code",
   "execution_count": 20,
   "id": "e59f2c15",
   "metadata": {
    "id": "e59f2c15"
   },
   "outputs": [
    {
     "data": {
      "text/plain": [
       "array(['покупка жилья', 'приобретение автомобиля',\n",
       "       'дополнительное образование', 'сыграть свадьбу',\n",
       "       'операции с жильем', 'образование', 'на проведение свадьбы',\n",
       "       'покупка жилья для семьи', 'покупка недвижимости',\n",
       "       'покупка коммерческой недвижимости', 'покупка жилой недвижимости',\n",
       "       'строительство собственной недвижимости', 'недвижимость',\n",
       "       'строительство недвижимости', 'на покупку подержанного автомобиля',\n",
       "       'на покупку своего автомобиля',\n",
       "       'операции с коммерческой недвижимостью',\n",
       "       'строительство жилой недвижимости', 'жилье',\n",
       "       'операции со своей недвижимостью', 'автомобили',\n",
       "       'заняться образованием', 'сделка с подержанным автомобилем',\n",
       "       'получение образования', 'автомобиль', 'свадьба',\n",
       "       'получение дополнительного образования', 'покупка своего жилья',\n",
       "       'операции с недвижимостью', 'получение высшего образования',\n",
       "       'свой автомобиль', 'сделка с автомобилем',\n",
       "       'профильное образование', 'высшее образование',\n",
       "       'покупка жилья для сдачи', 'на покупку автомобиля', 'ремонт жилью',\n",
       "       'заняться высшим образованием'], dtype=object)"
      ]
     },
     "execution_count": 20,
     "metadata": {},
     "output_type": "execute_result"
    }
   ],
   "source": [
    "data['purpose'].unique() # ваш код здесь"
   ]
  },
  {
   "cell_type": "markdown",
   "id": "bb33e847",
   "metadata": {
    "deletable": false,
    "editable": false,
    "id": "bb33e847",
    "tags": [
     "start_task"
    ]
   },
   "source": [
    "**Задание 18. Создайте функцию, которая на основании данных из столбца `purpose` сформирует новый столбец `purpose_category`, в который войдут следующие категории:**\n",
    "\n",
    "- `'операции с автомобилем'`,\n",
    "- `'операции с недвижимостью'`,\n",
    "- `'проведение свадьбы'`,\n",
    "- `'получение образования'`.\n",
    "\n",
    "**Например, если в столбце `purpose` находится подстрока `'на покупку автомобиля'`, то в столбце `purpose_category` должна появиться строка `'операции с автомобилем'`.**\n",
    "\n",
    "**Используйте собственную функцию с именем `categorize_purpose()` и метод `apply()`. Изучите данные в столбце `purpose` и определите, какие подстроки помогут вам правильно определить категорию.**"
   ]
  },
  {
   "cell_type": "code",
   "execution_count": 21,
   "id": "63909b83",
   "metadata": {
    "id": "63909b83"
   },
   "outputs": [],
   "source": [
    "def categorize_purpose(row):\n",
    "    if 'авто' in row:\n",
    "        return 'операции с автомобилем'\n",
    "    if 'недвижим' in row:\n",
    "        return 'операции с недвижимостью'\n",
    "    if 'жил' in row:\n",
    "        return 'операции с недвижимостью'\n",
    "    if 'свадьб' in row:\n",
    "        return 'проведение свадьбы'\n",
    "    if 'образован' in row:\n",
    "        return 'получение образования'"
   ]
  },
  {
   "cell_type": "code",
   "execution_count": 22,
   "id": "7cb4a81d",
   "metadata": {
    "id": "7cb4a81d"
   },
   "outputs": [],
   "source": [
    "data['purpose_category'] = data['purpose'].apply(categorize_purpose) # примените функцию методом apply()"
   ]
  },
  {
   "cell_type": "code",
   "execution_count": 23,
   "id": "ca96d42f",
   "metadata": {
    "scrolled": true
   },
   "outputs": [
    {
     "name": "stdout",
     "output_type": "stream",
     "text": [
      "    children  days_employed  dob_years            education  education_id  \\\n",
      "0          1    8437.673028         42               высшее             0   \n",
      "1          1    4024.803754         36              среднее             1   \n",
      "2          0    5623.422610         33              среднее             1   \n",
      "3          3    4124.747207         32              среднее             1   \n",
      "4          0  340266.072047         53              среднее             1   \n",
      "5          0     926.185831         27               высшее             0   \n",
      "6          0    2879.202052         43               высшее             0   \n",
      "7          0     152.779569         50              среднее             1   \n",
      "8          2    6929.865299         35               высшее             0   \n",
      "9          0    2188.756445         41              среднее             1   \n",
      "10         2    4171.483647         36               высшее             0   \n",
      "11         0     792.701887         40              среднее             1   \n",
      "12         0  365286.622650         65              среднее             1   \n",
      "13         0    1846.641941         54  неоконченное высшее             2   \n",
      "14         0    1844.956182         56               высшее             0   \n",
      "15         1     972.364419         26              среднее             1   \n",
      "16         0    1719.934226         35              среднее             1   \n",
      "17         0    2369.999720         33               высшее             0   \n",
      "18         0  400281.136913         53              среднее             1   \n",
      "19         0   10038.818549         48              среднее             1   \n",
      "\n",
      "       family_status  family_status_id gender income_type  debt  total_income  \\\n",
      "0    женат / замужем                 0      F   сотрудник     0        253875   \n",
      "1    женат / замужем                 0      F   сотрудник     0        112080   \n",
      "2    женат / замужем                 0      M   сотрудник     0        145885   \n",
      "3    женат / замужем                 0      M   сотрудник     0        267628   \n",
      "4   гражданский брак                 1      F   пенсионер     0        158616   \n",
      "5   гражданский брак                 1      M   компаньон     0        255763   \n",
      "6    женат / замужем                 0      F   компаньон     0        240525   \n",
      "7    женат / замужем                 0      M   сотрудник     0        135823   \n",
      "8   гражданский брак                 1      F   сотрудник     0         95856   \n",
      "9    женат / замужем                 0      M   сотрудник     0        144425   \n",
      "10   женат / замужем                 0      M   компаньон     0        113943   \n",
      "11   женат / замужем                 0      F   сотрудник     0         77069   \n",
      "12  гражданский брак                 1      M   пенсионер     0        118514   \n",
      "13   женат / замужем                 0      F   сотрудник     0        130458   \n",
      "14  гражданский брак                 1      F   компаньон     1        165127   \n",
      "15   женат / замужем                 0      F   сотрудник     0        116820   \n",
      "16   женат / замужем                 0      F   сотрудник     0        289202   \n",
      "17  гражданский брак                 1      M   сотрудник     0         90410   \n",
      "18    вдовец / вдова                 2      F   пенсионер     0         56823   \n",
      "19         в разводе                 3      F   сотрудник     0        242831   \n",
      "\n",
      "                                   purpose total_income_category  \\\n",
      "0                            покупка жилья                     B   \n",
      "1                  приобретение автомобиля                     C   \n",
      "2                            покупка жилья                     C   \n",
      "3               дополнительное образование                     B   \n",
      "4                          сыграть свадьбу                     C   \n",
      "5                            покупка жилья                     B   \n",
      "6                        операции с жильем                     B   \n",
      "7                              образование                     C   \n",
      "8                    на проведение свадьбы                     C   \n",
      "9                  покупка жилья для семьи                     C   \n",
      "10                    покупка недвижимости                     C   \n",
      "11       покупка коммерческой недвижимости                     C   \n",
      "12                         сыграть свадьбу                     C   \n",
      "13                 приобретение автомобиля                     C   \n",
      "14              покупка жилой недвижимости                     C   \n",
      "15  строительство собственной недвижимости                     C   \n",
      "16                            недвижимость                     B   \n",
      "17              строительство недвижимости                     C   \n",
      "18      на покупку подержанного автомобиля                     C   \n",
      "19            на покупку своего автомобиля                     B   \n",
      "\n",
      "            purpose_category  \n",
      "0   операции с недвижимостью  \n",
      "1     операции с автомобилем  \n",
      "2   операции с недвижимостью  \n",
      "3      получение образования  \n",
      "4         проведение свадьбы  \n",
      "5   операции с недвижимостью  \n",
      "6   операции с недвижимостью  \n",
      "7      получение образования  \n",
      "8         проведение свадьбы  \n",
      "9   операции с недвижимостью  \n",
      "10  операции с недвижимостью  \n",
      "11  операции с недвижимостью  \n",
      "12        проведение свадьбы  \n",
      "13    операции с автомобилем  \n",
      "14  операции с недвижимостью  \n",
      "15  операции с недвижимостью  \n",
      "16  операции с недвижимостью  \n",
      "17  операции с недвижимостью  \n",
      "18    операции с автомобилем  \n",
      "19    операции с автомобилем  \n"
     ]
    }
   ],
   "source": [
    "print(data.head(20))"
   ]
  },
  {
   "cell_type": "markdown",
   "id": "4673db74",
   "metadata": {},
   "source": [
    "# Вторая часть"
   ]
  },
  {
   "cell_type": "markdown",
   "id": "3fbef3b3",
   "metadata": {},
   "source": [
    "## Откройте таблицу и изучите общую информацию о данных"
   ]
  },
  {
   "cell_type": "markdown",
   "id": "692dca7b",
   "metadata": {},
   "source": [
    "**Задание 1. Импортируйте библиотеку pandas. Считайте данные из csv-файла в датафрейм и сохраните в переменную `data`. Путь к файлу:**\n",
    "\n",
    "`/datasets/data.csv`"
   ]
  },
  {
   "cell_type": "code",
   "execution_count": 24,
   "id": "aea69e0c",
   "metadata": {},
   "outputs": [],
   "source": [
    "import pandas as pd\n",
    "\n",
    "try:\n",
    "    data = pd.read_csv('/datasets/data.csv')\n",
    "except:\n",
    "    data = pd.read_csv('https://code.s3.yandex.net/datasets/data.csv')"
   ]
  },
  {
   "cell_type": "markdown",
   "id": "457d9c92",
   "metadata": {},
   "source": [
    "**Задание 2. Выведите первые 20 строчек датафрейма `data` на экран.**"
   ]
  },
  {
   "cell_type": "code",
   "execution_count": 25,
   "id": "e70edf52",
   "metadata": {},
   "outputs": [
    {
     "data": {
      "text/html": [
       "<div>\n",
       "<style scoped>\n",
       "    .dataframe tbody tr th:only-of-type {\n",
       "        vertical-align: middle;\n",
       "    }\n",
       "\n",
       "    .dataframe tbody tr th {\n",
       "        vertical-align: top;\n",
       "    }\n",
       "\n",
       "    .dataframe thead th {\n",
       "        text-align: right;\n",
       "    }\n",
       "</style>\n",
       "<table border=\"1\" class=\"dataframe\">\n",
       "  <thead>\n",
       "    <tr style=\"text-align: right;\">\n",
       "      <th></th>\n",
       "      <th>children</th>\n",
       "      <th>days_employed</th>\n",
       "      <th>dob_years</th>\n",
       "      <th>education</th>\n",
       "      <th>education_id</th>\n",
       "      <th>family_status</th>\n",
       "      <th>family_status_id</th>\n",
       "      <th>gender</th>\n",
       "      <th>income_type</th>\n",
       "      <th>debt</th>\n",
       "      <th>total_income</th>\n",
       "      <th>purpose</th>\n",
       "    </tr>\n",
       "  </thead>\n",
       "  <tbody>\n",
       "    <tr>\n",
       "      <th>0</th>\n",
       "      <td>1</td>\n",
       "      <td>-8437.673028</td>\n",
       "      <td>42</td>\n",
       "      <td>высшее</td>\n",
       "      <td>0</td>\n",
       "      <td>женат / замужем</td>\n",
       "      <td>0</td>\n",
       "      <td>F</td>\n",
       "      <td>сотрудник</td>\n",
       "      <td>0</td>\n",
       "      <td>253875.639453</td>\n",
       "      <td>покупка жилья</td>\n",
       "    </tr>\n",
       "    <tr>\n",
       "      <th>1</th>\n",
       "      <td>1</td>\n",
       "      <td>-4024.803754</td>\n",
       "      <td>36</td>\n",
       "      <td>среднее</td>\n",
       "      <td>1</td>\n",
       "      <td>женат / замужем</td>\n",
       "      <td>0</td>\n",
       "      <td>F</td>\n",
       "      <td>сотрудник</td>\n",
       "      <td>0</td>\n",
       "      <td>112080.014102</td>\n",
       "      <td>приобретение автомобиля</td>\n",
       "    </tr>\n",
       "    <tr>\n",
       "      <th>2</th>\n",
       "      <td>0</td>\n",
       "      <td>-5623.422610</td>\n",
       "      <td>33</td>\n",
       "      <td>Среднее</td>\n",
       "      <td>1</td>\n",
       "      <td>женат / замужем</td>\n",
       "      <td>0</td>\n",
       "      <td>M</td>\n",
       "      <td>сотрудник</td>\n",
       "      <td>0</td>\n",
       "      <td>145885.952297</td>\n",
       "      <td>покупка жилья</td>\n",
       "    </tr>\n",
       "    <tr>\n",
       "      <th>3</th>\n",
       "      <td>3</td>\n",
       "      <td>-4124.747207</td>\n",
       "      <td>32</td>\n",
       "      <td>среднее</td>\n",
       "      <td>1</td>\n",
       "      <td>женат / замужем</td>\n",
       "      <td>0</td>\n",
       "      <td>M</td>\n",
       "      <td>сотрудник</td>\n",
       "      <td>0</td>\n",
       "      <td>267628.550329</td>\n",
       "      <td>дополнительное образование</td>\n",
       "    </tr>\n",
       "    <tr>\n",
       "      <th>4</th>\n",
       "      <td>0</td>\n",
       "      <td>340266.072047</td>\n",
       "      <td>53</td>\n",
       "      <td>среднее</td>\n",
       "      <td>1</td>\n",
       "      <td>гражданский брак</td>\n",
       "      <td>1</td>\n",
       "      <td>F</td>\n",
       "      <td>пенсионер</td>\n",
       "      <td>0</td>\n",
       "      <td>158616.077870</td>\n",
       "      <td>сыграть свадьбу</td>\n",
       "    </tr>\n",
       "    <tr>\n",
       "      <th>5</th>\n",
       "      <td>0</td>\n",
       "      <td>-926.185831</td>\n",
       "      <td>27</td>\n",
       "      <td>высшее</td>\n",
       "      <td>0</td>\n",
       "      <td>гражданский брак</td>\n",
       "      <td>1</td>\n",
       "      <td>M</td>\n",
       "      <td>компаньон</td>\n",
       "      <td>0</td>\n",
       "      <td>255763.565419</td>\n",
       "      <td>покупка жилья</td>\n",
       "    </tr>\n",
       "    <tr>\n",
       "      <th>6</th>\n",
       "      <td>0</td>\n",
       "      <td>-2879.202052</td>\n",
       "      <td>43</td>\n",
       "      <td>высшее</td>\n",
       "      <td>0</td>\n",
       "      <td>женат / замужем</td>\n",
       "      <td>0</td>\n",
       "      <td>F</td>\n",
       "      <td>компаньон</td>\n",
       "      <td>0</td>\n",
       "      <td>240525.971920</td>\n",
       "      <td>операции с жильем</td>\n",
       "    </tr>\n",
       "    <tr>\n",
       "      <th>7</th>\n",
       "      <td>0</td>\n",
       "      <td>-152.779569</td>\n",
       "      <td>50</td>\n",
       "      <td>СРЕДНЕЕ</td>\n",
       "      <td>1</td>\n",
       "      <td>женат / замужем</td>\n",
       "      <td>0</td>\n",
       "      <td>M</td>\n",
       "      <td>сотрудник</td>\n",
       "      <td>0</td>\n",
       "      <td>135823.934197</td>\n",
       "      <td>образование</td>\n",
       "    </tr>\n",
       "    <tr>\n",
       "      <th>8</th>\n",
       "      <td>2</td>\n",
       "      <td>-6929.865299</td>\n",
       "      <td>35</td>\n",
       "      <td>ВЫСШЕЕ</td>\n",
       "      <td>0</td>\n",
       "      <td>гражданский брак</td>\n",
       "      <td>1</td>\n",
       "      <td>F</td>\n",
       "      <td>сотрудник</td>\n",
       "      <td>0</td>\n",
       "      <td>95856.832424</td>\n",
       "      <td>на проведение свадьбы</td>\n",
       "    </tr>\n",
       "    <tr>\n",
       "      <th>9</th>\n",
       "      <td>0</td>\n",
       "      <td>-2188.756445</td>\n",
       "      <td>41</td>\n",
       "      <td>среднее</td>\n",
       "      <td>1</td>\n",
       "      <td>женат / замужем</td>\n",
       "      <td>0</td>\n",
       "      <td>M</td>\n",
       "      <td>сотрудник</td>\n",
       "      <td>0</td>\n",
       "      <td>144425.938277</td>\n",
       "      <td>покупка жилья для семьи</td>\n",
       "    </tr>\n",
       "    <tr>\n",
       "      <th>10</th>\n",
       "      <td>2</td>\n",
       "      <td>-4171.483647</td>\n",
       "      <td>36</td>\n",
       "      <td>высшее</td>\n",
       "      <td>0</td>\n",
       "      <td>женат / замужем</td>\n",
       "      <td>0</td>\n",
       "      <td>M</td>\n",
       "      <td>компаньон</td>\n",
       "      <td>0</td>\n",
       "      <td>113943.491460</td>\n",
       "      <td>покупка недвижимости</td>\n",
       "    </tr>\n",
       "    <tr>\n",
       "      <th>11</th>\n",
       "      <td>0</td>\n",
       "      <td>-792.701887</td>\n",
       "      <td>40</td>\n",
       "      <td>среднее</td>\n",
       "      <td>1</td>\n",
       "      <td>женат / замужем</td>\n",
       "      <td>0</td>\n",
       "      <td>F</td>\n",
       "      <td>сотрудник</td>\n",
       "      <td>0</td>\n",
       "      <td>77069.234271</td>\n",
       "      <td>покупка коммерческой недвижимости</td>\n",
       "    </tr>\n",
       "    <tr>\n",
       "      <th>12</th>\n",
       "      <td>0</td>\n",
       "      <td>NaN</td>\n",
       "      <td>65</td>\n",
       "      <td>среднее</td>\n",
       "      <td>1</td>\n",
       "      <td>гражданский брак</td>\n",
       "      <td>1</td>\n",
       "      <td>M</td>\n",
       "      <td>пенсионер</td>\n",
       "      <td>0</td>\n",
       "      <td>NaN</td>\n",
       "      <td>сыграть свадьбу</td>\n",
       "    </tr>\n",
       "    <tr>\n",
       "      <th>13</th>\n",
       "      <td>0</td>\n",
       "      <td>-1846.641941</td>\n",
       "      <td>54</td>\n",
       "      <td>неоконченное высшее</td>\n",
       "      <td>2</td>\n",
       "      <td>женат / замужем</td>\n",
       "      <td>0</td>\n",
       "      <td>F</td>\n",
       "      <td>сотрудник</td>\n",
       "      <td>0</td>\n",
       "      <td>130458.228857</td>\n",
       "      <td>приобретение автомобиля</td>\n",
       "    </tr>\n",
       "    <tr>\n",
       "      <th>14</th>\n",
       "      <td>0</td>\n",
       "      <td>-1844.956182</td>\n",
       "      <td>56</td>\n",
       "      <td>высшее</td>\n",
       "      <td>0</td>\n",
       "      <td>гражданский брак</td>\n",
       "      <td>1</td>\n",
       "      <td>F</td>\n",
       "      <td>компаньон</td>\n",
       "      <td>1</td>\n",
       "      <td>165127.911772</td>\n",
       "      <td>покупка жилой недвижимости</td>\n",
       "    </tr>\n",
       "    <tr>\n",
       "      <th>15</th>\n",
       "      <td>1</td>\n",
       "      <td>-972.364419</td>\n",
       "      <td>26</td>\n",
       "      <td>среднее</td>\n",
       "      <td>1</td>\n",
       "      <td>женат / замужем</td>\n",
       "      <td>0</td>\n",
       "      <td>F</td>\n",
       "      <td>сотрудник</td>\n",
       "      <td>0</td>\n",
       "      <td>116820.904450</td>\n",
       "      <td>строительство собственной недвижимости</td>\n",
       "    </tr>\n",
       "    <tr>\n",
       "      <th>16</th>\n",
       "      <td>0</td>\n",
       "      <td>-1719.934226</td>\n",
       "      <td>35</td>\n",
       "      <td>среднее</td>\n",
       "      <td>1</td>\n",
       "      <td>женат / замужем</td>\n",
       "      <td>0</td>\n",
       "      <td>F</td>\n",
       "      <td>сотрудник</td>\n",
       "      <td>0</td>\n",
       "      <td>289202.704229</td>\n",
       "      <td>недвижимость</td>\n",
       "    </tr>\n",
       "    <tr>\n",
       "      <th>17</th>\n",
       "      <td>0</td>\n",
       "      <td>-2369.999720</td>\n",
       "      <td>33</td>\n",
       "      <td>высшее</td>\n",
       "      <td>0</td>\n",
       "      <td>гражданский брак</td>\n",
       "      <td>1</td>\n",
       "      <td>M</td>\n",
       "      <td>сотрудник</td>\n",
       "      <td>0</td>\n",
       "      <td>90410.586745</td>\n",
       "      <td>строительство недвижимости</td>\n",
       "    </tr>\n",
       "    <tr>\n",
       "      <th>18</th>\n",
       "      <td>0</td>\n",
       "      <td>400281.136913</td>\n",
       "      <td>53</td>\n",
       "      <td>среднее</td>\n",
       "      <td>1</td>\n",
       "      <td>вдовец / вдова</td>\n",
       "      <td>2</td>\n",
       "      <td>F</td>\n",
       "      <td>пенсионер</td>\n",
       "      <td>0</td>\n",
       "      <td>56823.777243</td>\n",
       "      <td>на покупку подержанного автомобиля</td>\n",
       "    </tr>\n",
       "    <tr>\n",
       "      <th>19</th>\n",
       "      <td>0</td>\n",
       "      <td>-10038.818549</td>\n",
       "      <td>48</td>\n",
       "      <td>СРЕДНЕЕ</td>\n",
       "      <td>1</td>\n",
       "      <td>в разводе</td>\n",
       "      <td>3</td>\n",
       "      <td>F</td>\n",
       "      <td>сотрудник</td>\n",
       "      <td>0</td>\n",
       "      <td>242831.107982</td>\n",
       "      <td>на покупку своего автомобиля</td>\n",
       "    </tr>\n",
       "  </tbody>\n",
       "</table>\n",
       "</div>"
      ],
      "text/plain": [
       "    children  days_employed  dob_years            education  education_id  \\\n",
       "0          1   -8437.673028         42               высшее             0   \n",
       "1          1   -4024.803754         36              среднее             1   \n",
       "2          0   -5623.422610         33              Среднее             1   \n",
       "3          3   -4124.747207         32              среднее             1   \n",
       "4          0  340266.072047         53              среднее             1   \n",
       "5          0    -926.185831         27               высшее             0   \n",
       "6          0   -2879.202052         43               высшее             0   \n",
       "7          0    -152.779569         50              СРЕДНЕЕ             1   \n",
       "8          2   -6929.865299         35               ВЫСШЕЕ             0   \n",
       "9          0   -2188.756445         41              среднее             1   \n",
       "10         2   -4171.483647         36               высшее             0   \n",
       "11         0    -792.701887         40              среднее             1   \n",
       "12         0            NaN         65              среднее             1   \n",
       "13         0   -1846.641941         54  неоконченное высшее             2   \n",
       "14         0   -1844.956182         56               высшее             0   \n",
       "15         1    -972.364419         26              среднее             1   \n",
       "16         0   -1719.934226         35              среднее             1   \n",
       "17         0   -2369.999720         33               высшее             0   \n",
       "18         0  400281.136913         53              среднее             1   \n",
       "19         0  -10038.818549         48              СРЕДНЕЕ             1   \n",
       "\n",
       "       family_status  family_status_id gender income_type  debt  \\\n",
       "0    женат / замужем                 0      F   сотрудник     0   \n",
       "1    женат / замужем                 0      F   сотрудник     0   \n",
       "2    женат / замужем                 0      M   сотрудник     0   \n",
       "3    женат / замужем                 0      M   сотрудник     0   \n",
       "4   гражданский брак                 1      F   пенсионер     0   \n",
       "5   гражданский брак                 1      M   компаньон     0   \n",
       "6    женат / замужем                 0      F   компаньон     0   \n",
       "7    женат / замужем                 0      M   сотрудник     0   \n",
       "8   гражданский брак                 1      F   сотрудник     0   \n",
       "9    женат / замужем                 0      M   сотрудник     0   \n",
       "10   женат / замужем                 0      M   компаньон     0   \n",
       "11   женат / замужем                 0      F   сотрудник     0   \n",
       "12  гражданский брак                 1      M   пенсионер     0   \n",
       "13   женат / замужем                 0      F   сотрудник     0   \n",
       "14  гражданский брак                 1      F   компаньон     1   \n",
       "15   женат / замужем                 0      F   сотрудник     0   \n",
       "16   женат / замужем                 0      F   сотрудник     0   \n",
       "17  гражданский брак                 1      M   сотрудник     0   \n",
       "18    вдовец / вдова                 2      F   пенсионер     0   \n",
       "19         в разводе                 3      F   сотрудник     0   \n",
       "\n",
       "     total_income                                 purpose  \n",
       "0   253875.639453                           покупка жилья  \n",
       "1   112080.014102                 приобретение автомобиля  \n",
       "2   145885.952297                           покупка жилья  \n",
       "3   267628.550329              дополнительное образование  \n",
       "4   158616.077870                         сыграть свадьбу  \n",
       "5   255763.565419                           покупка жилья  \n",
       "6   240525.971920                       операции с жильем  \n",
       "7   135823.934197                             образование  \n",
       "8    95856.832424                   на проведение свадьбы  \n",
       "9   144425.938277                 покупка жилья для семьи  \n",
       "10  113943.491460                    покупка недвижимости  \n",
       "11   77069.234271       покупка коммерческой недвижимости  \n",
       "12            NaN                         сыграть свадьбу  \n",
       "13  130458.228857                 приобретение автомобиля  \n",
       "14  165127.911772              покупка жилой недвижимости  \n",
       "15  116820.904450  строительство собственной недвижимости  \n",
       "16  289202.704229                            недвижимость  \n",
       "17   90410.586745              строительство недвижимости  \n",
       "18   56823.777243      на покупку подержанного автомобиля  \n",
       "19  242831.107982            на покупку своего автомобиля  "
      ]
     },
     "execution_count": 25,
     "metadata": {},
     "output_type": "execute_result"
    }
   ],
   "source": [
    "data.head(20)"
   ]
  },
  {
   "cell_type": "markdown",
   "id": "b73872c5",
   "metadata": {},
   "source": [
    "**Задание 3. Выведите основную информацию о датафрейме с помощью метода `info()`.**"
   ]
  },
  {
   "cell_type": "code",
   "execution_count": 26,
   "id": "4d097f6b",
   "metadata": {},
   "outputs": [
    {
     "name": "stdout",
     "output_type": "stream",
     "text": [
      "<class 'pandas.core.frame.DataFrame'>\n",
      "RangeIndex: 21525 entries, 0 to 21524\n",
      "Data columns (total 12 columns):\n",
      " #   Column            Non-Null Count  Dtype  \n",
      "---  ------            --------------  -----  \n",
      " 0   children          21525 non-null  int64  \n",
      " 1   days_employed     19351 non-null  float64\n",
      " 2   dob_years         21525 non-null  int64  \n",
      " 3   education         21525 non-null  object \n",
      " 4   education_id      21525 non-null  int64  \n",
      " 5   family_status     21525 non-null  object \n",
      " 6   family_status_id  21525 non-null  int64  \n",
      " 7   gender            21525 non-null  object \n",
      " 8   income_type       21525 non-null  object \n",
      " 9   debt              21525 non-null  int64  \n",
      " 10  total_income      19351 non-null  float64\n",
      " 11  purpose           21525 non-null  object \n",
      "dtypes: float64(2), int64(5), object(5)\n",
      "memory usage: 2.0+ MB\n"
     ]
    }
   ],
   "source": [
    "data.info()"
   ]
  },
  {
   "cell_type": "markdown",
   "id": "a78b7753",
   "metadata": {},
   "source": [
    "## Предобработка данных"
   ]
  },
  {
   "cell_type": "markdown",
   "id": "2e0f5b7b",
   "metadata": {},
   "source": [
    "### Удаление пропусков"
   ]
  },
  {
   "cell_type": "markdown",
   "id": "7752802e",
   "metadata": {},
   "source": [
    "**Задание 4. Выведите количество пропущенных значений для каждого столбца. Используйте комбинацию двух методов.**"
   ]
  },
  {
   "cell_type": "code",
   "execution_count": 27,
   "id": "ed13aec2",
   "metadata": {},
   "outputs": [
    {
     "data": {
      "text/plain": [
       "children               0\n",
       "days_employed       2174\n",
       "dob_years              0\n",
       "education              0\n",
       "education_id           0\n",
       "family_status          0\n",
       "family_status_id       0\n",
       "gender                 0\n",
       "income_type            0\n",
       "debt                   0\n",
       "total_income        2174\n",
       "purpose                0\n",
       "dtype: int64"
      ]
     },
     "execution_count": 27,
     "metadata": {},
     "output_type": "execute_result"
    }
   ],
   "source": [
    "data.isna().sum()"
   ]
  },
  {
   "cell_type": "markdown",
   "id": "4a8cae6d",
   "metadata": {},
   "source": [
    "**Задание 5. В двух столбцах есть пропущенные значения. Один из них — `days_employed`. Пропуски в этом столбце вы обработаете на следующем этапе. Другой столбец с пропущенными значениями — `total_income` — хранит данные о доходах. На сумму дохода сильнее всего влияет тип занятости, поэтому заполнить пропуски в этом столбце нужно медианным значением по каждому типу из столбца `income_type`. Например, у человека с типом занятости `сотрудник` пропуск в столбце `total_income` должен быть заполнен медианным доходом среди всех записей с тем же типом.**"
   ]
  },
  {
   "cell_type": "code",
   "execution_count": 29,
   "id": "d6907d37",
   "metadata": {},
   "outputs": [],
   "source": [
    "for t in data['income_type'].unique():\n",
    "    data.loc[(data['income_type'] == t) & (data['total_income'].isna()), 'total_income'] = \\\n",
    "    data.loc[(data['income_type'] == t), 'total_income'].median()"
   ]
  },
  {
   "cell_type": "markdown",
   "id": "ccf8837c",
   "metadata": {},
   "source": [
    "### Обработка аномальных значений"
   ]
  },
  {
   "cell_type": "markdown",
   "id": "a87606cb",
   "metadata": {
    "deletable": false,
    "editable": false,
    "id": "a87606cb"
   },
   "source": [
    "**Задание 6. В данных могут встречаться артефакты (аномалии) — значения, которые не отражают действительность и появились по какой-то ошибке. таким артефактом будет отрицательное количество дней трудового стажа в столбце `days_employed`. Для реальных данных это нормально. Обработайте значения в этом столбце: замените все отрицательные значения положительными с помощью метода `abs()`.**"
   ]
  },
  {
   "cell_type": "code",
   "execution_count": 30,
   "id": "a5b1f962",
   "metadata": {},
   "outputs": [],
   "source": [
    "data['days_employed'] = data['days_employed'].abs()"
   ]
  },
  {
   "cell_type": "markdown",
   "id": "d5d90614",
   "metadata": {},
   "source": [
    "**Задание 7. Для каждого типа занятости выведите медианное значение трудового стажа `days_employed` в днях.**"
   ]
  },
  {
   "cell_type": "code",
   "execution_count": 31,
   "id": "2624489f",
   "metadata": {},
   "outputs": [
    {
     "data": {
      "text/plain": [
       "income_type\n",
       "безработный        366413.652744\n",
       "в декрете            3296.759962\n",
       "госслужащий          2689.368353\n",
       "компаньон            1547.382223\n",
       "пенсионер          365213.306266\n",
       "предприниматель       520.848083\n",
       "сотрудник            1574.202821\n",
       "студент               578.751554\n",
       "Name: days_employed, dtype: float64"
      ]
     },
     "execution_count": 31,
     "metadata": {},
     "output_type": "execute_result"
    }
   ],
   "source": [
    "data.groupby('income_type')['days_employed'].agg('median')"
   ]
  },
  {
   "cell_type": "markdown",
   "id": "1d579dd6",
   "metadata": {},
   "source": [
    "У двух типов (безработные и пенсионеры) получатся аномально большие значения. Исправить такие значения сложно, поэтому оставьте их как есть."
   ]
  },
  {
   "cell_type": "markdown",
   "id": "53cba9a2",
   "metadata": {},
   "source": [
    "**Задание 8. Выведите перечень уникальных значений столбца `children`.**"
   ]
  },
  {
   "cell_type": "code",
   "execution_count": 32,
   "id": "85a36408",
   "metadata": {},
   "outputs": [
    {
     "data": {
      "text/plain": [
       "array([ 1,  0,  3,  2, -1,  4, 20,  5], dtype=int64)"
      ]
     },
     "execution_count": 32,
     "metadata": {},
     "output_type": "execute_result"
    }
   ],
   "source": [
    "data['children'].unique()"
   ]
  },
  {
   "cell_type": "markdown",
   "id": "4aaa740c",
   "metadata": {},
   "source": [
    "**Задание 9. В столбце `children` есть два аномальных значения. Удалите строки, в которых встречаются такие аномальные значения из датафрейма `data`.**"
   ]
  },
  {
   "cell_type": "code",
   "execution_count": 33,
   "id": "cea33d07",
   "metadata": {},
   "outputs": [],
   "source": [
    "data = data[(data['children'] != -1) & (data['children'] != 20)]"
   ]
  },
  {
   "cell_type": "markdown",
   "id": "870345ac",
   "metadata": {},
   "source": [
    "**Задание 10. Ещё раз выведите перечень уникальных значений столбца `children`, чтобы убедиться, что артефакты удалены.**"
   ]
  },
  {
   "cell_type": "code",
   "execution_count": 34,
   "id": "f8afaf67",
   "metadata": {},
   "outputs": [
    {
     "data": {
      "text/plain": [
       "array([1, 0, 3, 2, 4, 5], dtype=int64)"
      ]
     },
     "execution_count": 34,
     "metadata": {},
     "output_type": "execute_result"
    }
   ],
   "source": [
    "data['children'].unique()"
   ]
  },
  {
   "cell_type": "markdown",
   "id": "480a9019",
   "metadata": {},
   "source": [
    "### Удаление пропусков (продолжение)"
   ]
  },
  {
   "cell_type": "markdown",
   "id": "8323e17f",
   "metadata": {},
   "source": [
    "**Задание 11. Заполните пропуски в столбце `days_employed` медианными значениями по каждого типа занятости `income_type`.**"
   ]
  },
  {
   "cell_type": "code",
   "execution_count": 35,
   "id": "333b8ff5",
   "metadata": {},
   "outputs": [],
   "source": [
    "for t in data['income_type'].unique():\n",
    "    data.loc[(data['income_type'] == t) & (data['days_employed'].isna()), 'days_employed'] = \\\n",
    "    data.loc[(data['income_type'] == t), 'days_employed'].median()"
   ]
  },
  {
   "cell_type": "markdown",
   "id": "3614f376",
   "metadata": {},
   "source": [
    "**Задание 12. Убедитесь, что все пропуски заполнены. Проверьте себя и ещё раз выведите количество пропущенных значений для каждого столбца с помощью двух методов.**"
   ]
  },
  {
   "cell_type": "code",
   "execution_count": 36,
   "id": "6f0b67e5",
   "metadata": {},
   "outputs": [
    {
     "data": {
      "text/plain": [
       "children            0\n",
       "days_employed       0\n",
       "dob_years           0\n",
       "education           0\n",
       "education_id        0\n",
       "family_status       0\n",
       "family_status_id    0\n",
       "gender              0\n",
       "income_type         0\n",
       "debt                0\n",
       "total_income        0\n",
       "purpose             0\n",
       "dtype: int64"
      ]
     },
     "execution_count": 36,
     "metadata": {},
     "output_type": "execute_result"
    }
   ],
   "source": [
    "data.isna().sum()"
   ]
  },
  {
   "cell_type": "markdown",
   "id": "6583204d",
   "metadata": {},
   "source": [
    "### Изменение типов данных"
   ]
  },
  {
   "cell_type": "markdown",
   "id": "1055fdb5",
   "metadata": {},
   "source": [
    "**Задание 13. Замените вещественный тип данных в столбце `total_income` на целочисленный с помощью метода `astype()`.**"
   ]
  },
  {
   "cell_type": "code",
   "execution_count": 37,
   "id": "4798e3fa",
   "metadata": {},
   "outputs": [],
   "source": [
    "data['total_income'] = data['total_income'].astype(int)"
   ]
  },
  {
   "cell_type": "markdown",
   "id": "00fedefe",
   "metadata": {},
   "source": [
    "### Обработка дубликатов"
   ]
  },
  {
   "cell_type": "markdown",
   "id": "27cd9b92",
   "metadata": {},
   "source": [
    "**Задание 14. Обработайте неявные дубликаты в столбце `education`. В этом столбце есть одни и те же значения, но записанные по-разному: с использованием заглавных и строчных букв. Приведите их к нижнему регистру.**"
   ]
  },
  {
   "cell_type": "code",
   "execution_count": 38,
   "id": "ced9c22f",
   "metadata": {},
   "outputs": [],
   "source": [
    "data['education'] = data['education'].str.lower()"
   ]
  },
  {
   "cell_type": "markdown",
   "id": "21184fcf",
   "metadata": {},
   "source": [
    "**Задание 15. Выведите на экран количество строк-дубликатов в данных. Если такие строки присутствуют, удалите их.**"
   ]
  },
  {
   "cell_type": "code",
   "execution_count": 39,
   "id": "61b31c32",
   "metadata": {},
   "outputs": [
    {
     "data": {
      "text/plain": [
       "71"
      ]
     },
     "execution_count": 39,
     "metadata": {},
     "output_type": "execute_result"
    }
   ],
   "source": [
    "data.duplicated().sum()"
   ]
  },
  {
   "cell_type": "code",
   "execution_count": 40,
   "id": "5e7f34b6",
   "metadata": {},
   "outputs": [],
   "source": [
    "data = data.drop_duplicates()"
   ]
  },
  {
   "cell_type": "markdown",
   "id": "8a3a240f",
   "metadata": {},
   "source": [
    "### Категоризация данных"
   ]
  },
  {
   "cell_type": "markdown",
   "id": "4e448863",
   "metadata": {},
   "source": [
    "**Задание 16. На основании диапазонов, указанных ниже, создайте в датафрейме `data` столбец `total_income_category` с категориями:**\n",
    "\n",
    "- 0–30000 — `'E'`;\n",
    "- 30001–50000 — `'D'`;\n",
    "- 50001–200000 — `'C'`;\n",
    "- 200001–1000000 — `'B'`;\n",
    "- 1000001 и выше — `'A'`.\n",
    "\n",
    "\n",
    "**Например, кредитополучателю с доходом 25000 нужно назначить категорию `'E'`, а клиенту, получающему 235000, — `'B'`. Используйте собственную функцию с именем `categorize_income()` и метод `apply()`.**"
   ]
  },
  {
   "cell_type": "code",
   "execution_count": 42,
   "id": "f115fc22",
   "metadata": {},
   "outputs": [],
   "source": [
    "def categorize_income(income):\n",
    "    try:\n",
    "        if 0 <= income <= 30000:\n",
    "            return 'E'\n",
    "        elif 30001 <= income <= 50000:\n",
    "            return 'D'\n",
    "        elif 50001 <= income <= 200000:\n",
    "            return 'C'\n",
    "        elif 200001 <= income <= 1000000:\n",
    "            return 'B'\n",
    "        elif income >= 1000001:\n",
    "            return 'A'\n",
    "    except:\n",
    "        pass"
   ]
  },
  {
   "cell_type": "code",
   "execution_count": 43,
   "id": "6fe38d96",
   "metadata": {},
   "outputs": [],
   "source": [
    "data['total_income_category'] = data['total_income'].apply(categorize_income)"
   ]
  },
  {
   "cell_type": "markdown",
   "id": "d8018eef",
   "metadata": {},
   "source": [
    "**Задание 17. Выведите на экран перечень уникальных целей взятия кредита из столбца `purpose`.**"
   ]
  },
  {
   "cell_type": "code",
   "execution_count": 44,
   "id": "ee07b65e",
   "metadata": {
    "deletable": false,
    "id": "ee07b65e",
    "outputId": "673c12d9-7d7e-4ae0-9812-c622c89dd244"
   },
   "outputs": [
    {
     "data": {
      "text/plain": [
       "array(['покупка жилья', 'приобретение автомобиля',\n",
       "       'дополнительное образование', 'сыграть свадьбу',\n",
       "       'операции с жильем', 'образование', 'на проведение свадьбы',\n",
       "       'покупка жилья для семьи', 'покупка недвижимости',\n",
       "       'покупка коммерческой недвижимости', 'покупка жилой недвижимости',\n",
       "       'строительство собственной недвижимости', 'недвижимость',\n",
       "       'строительство недвижимости', 'на покупку подержанного автомобиля',\n",
       "       'на покупку своего автомобиля',\n",
       "       'операции с коммерческой недвижимостью',\n",
       "       'строительство жилой недвижимости', 'жилье',\n",
       "       'операции со своей недвижимостью', 'автомобили',\n",
       "       'заняться образованием', 'сделка с подержанным автомобилем',\n",
       "       'получение образования', 'автомобиль', 'свадьба',\n",
       "       'получение дополнительного образования', 'покупка своего жилья',\n",
       "       'операции с недвижимостью', 'получение высшего образования',\n",
       "       'свой автомобиль', 'сделка с автомобилем',\n",
       "       'профильное образование', 'высшее образование',\n",
       "       'покупка жилья для сдачи', 'на покупку автомобиля', 'ремонт жилью',\n",
       "       'заняться высшим образованием'], dtype=object)"
      ]
     },
     "execution_count": 44,
     "metadata": {},
     "output_type": "execute_result"
    }
   ],
   "source": [
    "data['purpose'].unique()"
   ]
  },
  {
   "cell_type": "markdown",
   "id": "40af51fa",
   "metadata": {},
   "source": [
    "**Задание 18. Создайте функцию, которая на основании данных из столбца `purpose` сформирует новый столбец `purpose_category`, в который войдут следующие категории:**\n",
    "\n",
    "- `'операции с автомобилем'`,\n",
    "- `'операции с недвижимостью'`,\n",
    "- `'проведение свадьбы'`,\n",
    "- `'получение образования'`.\n",
    "\n",
    "**Например, если в столбце `purpose` находится подстрока `'на покупку автомобиля'`, то в столбце `purpose_category` должна появиться строка `'операции с автомобилем'`.**\n",
    "\n",
    "**Используйте собственную функцию с именем `categorize_purpose()` и метод `apply()`. Изучите данные в столбце `purpose` и определите, какие подстроки помогут вам правильно определить категорию.**"
   ]
  },
  {
   "cell_type": "code",
   "execution_count": 46,
   "id": "c9bf2d53",
   "metadata": {},
   "outputs": [],
   "source": [
    "def categorize_purpose(row):\n",
    "    try:\n",
    "        if 'автом' in row:\n",
    "            return 'операции с автомобилем'\n",
    "        elif 'жил' in row or 'недвиж' in row:\n",
    "            return 'операции с недвижимостью'\n",
    "        elif 'свад' in row:\n",
    "            return 'проведение свадьбы'\n",
    "        elif 'образов' in row:\n",
    "            return 'получение образования'\n",
    "    except:\n",
    "        return 'нет категории'"
   ]
  },
  {
   "cell_type": "code",
   "execution_count": 47,
   "id": "f97c007a",
   "metadata": {},
   "outputs": [],
   "source": [
    "data['purpose_category'] = data['purpose'].apply(categorize_purpose)"
   ]
  },
  {
   "cell_type": "markdown",
   "id": "90377a50",
   "metadata": {},
   "source": [
    "### Шаг 3. Исследуйте данные и ответьте на вопросы"
   ]
  },
  {
   "cell_type": "markdown",
   "id": "77188b31",
   "metadata": {},
   "source": [
    "#### 3.1 Есть ли зависимость между количеством детей и возвратом кредита в срок?"
   ]
  },
  {
   "cell_type": "code",
   "execution_count": 48,
   "id": "a35d6b94",
   "metadata": {
    "scrolled": true
   },
   "outputs": [
    {
     "data": {
      "text/html": [
       "<div>\n",
       "<style scoped>\n",
       "    .dataframe tbody tr th:only-of-type {\n",
       "        vertical-align: middle;\n",
       "    }\n",
       "\n",
       "    .dataframe tbody tr th {\n",
       "        vertical-align: top;\n",
       "    }\n",
       "\n",
       "    .dataframe thead tr th {\n",
       "        text-align: left;\n",
       "    }\n",
       "\n",
       "    .dataframe thead tr:last-of-type th {\n",
       "        text-align: right;\n",
       "    }\n",
       "</style>\n",
       "<table border=\"1\" class=\"dataframe\">\n",
       "  <thead>\n",
       "    <tr>\n",
       "      <th></th>\n",
       "      <th colspan=\"3\" halign=\"left\">debt</th>\n",
       "    </tr>\n",
       "    <tr>\n",
       "      <th></th>\n",
       "      <th>sum</th>\n",
       "      <th>count</th>\n",
       "      <th>mean</th>\n",
       "    </tr>\n",
       "    <tr>\n",
       "      <th>children</th>\n",
       "      <th></th>\n",
       "      <th></th>\n",
       "      <th></th>\n",
       "    </tr>\n",
       "  </thead>\n",
       "  <tbody>\n",
       "    <tr>\n",
       "      <th>0</th>\n",
       "      <td>1063</td>\n",
       "      <td>14091</td>\n",
       "      <td>0.075438</td>\n",
       "    </tr>\n",
       "    <tr>\n",
       "      <th>1</th>\n",
       "      <td>444</td>\n",
       "      <td>4808</td>\n",
       "      <td>0.092346</td>\n",
       "    </tr>\n",
       "    <tr>\n",
       "      <th>2</th>\n",
       "      <td>194</td>\n",
       "      <td>2052</td>\n",
       "      <td>0.094542</td>\n",
       "    </tr>\n",
       "    <tr>\n",
       "      <th>3</th>\n",
       "      <td>27</td>\n",
       "      <td>330</td>\n",
       "      <td>0.081818</td>\n",
       "    </tr>\n",
       "    <tr>\n",
       "      <th>4</th>\n",
       "      <td>4</td>\n",
       "      <td>41</td>\n",
       "      <td>0.097561</td>\n",
       "    </tr>\n",
       "    <tr>\n",
       "      <th>5</th>\n",
       "      <td>0</td>\n",
       "      <td>9</td>\n",
       "      <td>0.000000</td>\n",
       "    </tr>\n",
       "  </tbody>\n",
       "</table>\n",
       "</div>"
      ],
      "text/plain": [
       "          debt                 \n",
       "           sum  count      mean\n",
       "children                       \n",
       "0         1063  14091  0.075438\n",
       "1          444   4808  0.092346\n",
       "2          194   2052  0.094542\n",
       "3           27    330  0.081818\n",
       "4            4     41  0.097561\n",
       "5            0      9  0.000000"
      ]
     },
     "execution_count": 48,
     "metadata": {},
     "output_type": "execute_result"
    }
   ],
   "source": [
    "children_dependence = data.groupby('children').agg({'debt' : ('sum','count','mean')})\n",
    "children_dependence"
   ]
  },
  {
   "cell_type": "markdown",
   "id": "3faab783",
   "metadata": {},
   "source": [
    "**Вывод:** \n",
    "По полученным данным, можно сказать, что меньше всего должников среди клиентов без детей, их доля составляет 7,5% от общего числа заемщиков. Среди людей, имеющих 1-2 ребенка, 9 человек из 100 могут стать потенциальными должниками. Клиентов, у которых 3 и более детей слишком мало по сравнению с остальными категориями кредитополучателей, чтобы проанализировать их задолженности, поэтому мы не можем брать их в расчет. "
   ]
  },
  {
   "cell_type": "markdown",
   "id": "71aa64e7",
   "metadata": {},
   "source": [
    "#### 3.2 Есть ли зависимость между семейным положением и возвратом кредита в срок?"
   ]
  },
  {
   "cell_type": "code",
   "execution_count": 49,
   "id": "0a81ad67",
   "metadata": {},
   "outputs": [
    {
     "data": {
      "text/html": [
       "<div>\n",
       "<style scoped>\n",
       "    .dataframe tbody tr th:only-of-type {\n",
       "        vertical-align: middle;\n",
       "    }\n",
       "\n",
       "    .dataframe tbody tr th {\n",
       "        vertical-align: top;\n",
       "    }\n",
       "\n",
       "    .dataframe thead tr th {\n",
       "        text-align: left;\n",
       "    }\n",
       "\n",
       "    .dataframe thead tr:last-of-type th {\n",
       "        text-align: right;\n",
       "    }\n",
       "</style>\n",
       "<table border=\"1\" class=\"dataframe\">\n",
       "  <thead>\n",
       "    <tr>\n",
       "      <th></th>\n",
       "      <th colspan=\"3\" halign=\"left\">debt</th>\n",
       "    </tr>\n",
       "    <tr>\n",
       "      <th></th>\n",
       "      <th>sum</th>\n",
       "      <th>count</th>\n",
       "      <th>mean</th>\n",
       "    </tr>\n",
       "    <tr>\n",
       "      <th>family_status</th>\n",
       "      <th></th>\n",
       "      <th></th>\n",
       "      <th></th>\n",
       "    </tr>\n",
       "  </thead>\n",
       "  <tbody>\n",
       "    <tr>\n",
       "      <th>Не женат / не замужем</th>\n",
       "      <td>273</td>\n",
       "      <td>2796</td>\n",
       "      <td>0.097639</td>\n",
       "    </tr>\n",
       "    <tr>\n",
       "      <th>в разводе</th>\n",
       "      <td>84</td>\n",
       "      <td>1189</td>\n",
       "      <td>0.070648</td>\n",
       "    </tr>\n",
       "    <tr>\n",
       "      <th>вдовец / вдова</th>\n",
       "      <td>63</td>\n",
       "      <td>951</td>\n",
       "      <td>0.066246</td>\n",
       "    </tr>\n",
       "    <tr>\n",
       "      <th>гражданский брак</th>\n",
       "      <td>385</td>\n",
       "      <td>4134</td>\n",
       "      <td>0.093130</td>\n",
       "    </tr>\n",
       "    <tr>\n",
       "      <th>женат / замужем</th>\n",
       "      <td>927</td>\n",
       "      <td>12261</td>\n",
       "      <td>0.075606</td>\n",
       "    </tr>\n",
       "  </tbody>\n",
       "</table>\n",
       "</div>"
      ],
      "text/plain": [
       "                      debt                 \n",
       "                       sum  count      mean\n",
       "family_status                              \n",
       "Не женат / не замужем  273   2796  0.097639\n",
       "в разводе               84   1189  0.070648\n",
       "вдовец / вдова          63    951  0.066246\n",
       "гражданский брак       385   4134  0.093130\n",
       "женат / замужем        927  12261  0.075606"
      ]
     },
     "execution_count": 49,
     "metadata": {},
     "output_type": "execute_result"
    }
   ],
   "source": [
    "famstatus_dependence = data.groupby('family_status').agg({'debt' : ('sum','count','mean')})\n",
    "famstatus_dependence"
   ]
  },
  {
   "cell_type": "markdown",
   "id": "80de7449",
   "metadata": {},
   "source": [
    "**Вывод:** Прослеживается тенденция наличия задолженности по кредиту у людей, находящихся в гражданском браке, не женатые и не замужние ялвяются лидерами по задолженностям. Средний показатель по возврату кредита в срок наблюдается у женатых и замужних людей, доля должников к общему числу заемщиков составляет примерно 7,5% и совпадает с долей задолженностей у людей, находящихся в разводе. Самыми ответственными плательщиками по кредиту являются вдовы и вдовцы."
   ]
  },
  {
   "cell_type": "markdown",
   "id": "c9c8b2e5",
   "metadata": {},
   "source": [
    "#### 3.3 Есть ли зависимость между уровнем дохода и возвратом кредита в срок?"
   ]
  },
  {
   "cell_type": "code",
   "execution_count": 50,
   "id": "d8e5eb0a",
   "metadata": {},
   "outputs": [
    {
     "data": {
      "text/html": [
       "<div>\n",
       "<style scoped>\n",
       "    .dataframe tbody tr th:only-of-type {\n",
       "        vertical-align: middle;\n",
       "    }\n",
       "\n",
       "    .dataframe tbody tr th {\n",
       "        vertical-align: top;\n",
       "    }\n",
       "\n",
       "    .dataframe thead tr th {\n",
       "        text-align: left;\n",
       "    }\n",
       "\n",
       "    .dataframe thead tr:last-of-type th {\n",
       "        text-align: right;\n",
       "    }\n",
       "</style>\n",
       "<table border=\"1\" class=\"dataframe\">\n",
       "  <thead>\n",
       "    <tr>\n",
       "      <th></th>\n",
       "      <th colspan=\"3\" halign=\"left\">debt</th>\n",
       "    </tr>\n",
       "    <tr>\n",
       "      <th></th>\n",
       "      <th>sum</th>\n",
       "      <th>count</th>\n",
       "      <th>mean</th>\n",
       "    </tr>\n",
       "    <tr>\n",
       "      <th>total_income_category</th>\n",
       "      <th></th>\n",
       "      <th></th>\n",
       "      <th></th>\n",
       "    </tr>\n",
       "  </thead>\n",
       "  <tbody>\n",
       "    <tr>\n",
       "      <th>A</th>\n",
       "      <td>2</td>\n",
       "      <td>25</td>\n",
       "      <td>0.080000</td>\n",
       "    </tr>\n",
       "    <tr>\n",
       "      <th>B</th>\n",
       "      <td>354</td>\n",
       "      <td>5014</td>\n",
       "      <td>0.070602</td>\n",
       "    </tr>\n",
       "    <tr>\n",
       "      <th>C</th>\n",
       "      <td>1353</td>\n",
       "      <td>15921</td>\n",
       "      <td>0.084982</td>\n",
       "    </tr>\n",
       "    <tr>\n",
       "      <th>D</th>\n",
       "      <td>21</td>\n",
       "      <td>349</td>\n",
       "      <td>0.060172</td>\n",
       "    </tr>\n",
       "    <tr>\n",
       "      <th>E</th>\n",
       "      <td>2</td>\n",
       "      <td>22</td>\n",
       "      <td>0.090909</td>\n",
       "    </tr>\n",
       "  </tbody>\n",
       "</table>\n",
       "</div>"
      ],
      "text/plain": [
       "                       debt                 \n",
       "                        sum  count      mean\n",
       "total_income_category                       \n",
       "A                         2     25  0.080000\n",
       "B                       354   5014  0.070602\n",
       "C                      1353  15921  0.084982\n",
       "D                        21    349  0.060172\n",
       "E                         2     22  0.090909"
      ]
     },
     "execution_count": 50,
     "metadata": {},
     "output_type": "execute_result"
    }
   ],
   "source": [
    "income_dependence = famstatus_dependence = data.groupby('total_income_category').agg({'debt' : ('sum','count','mean')})\n",
    "income_dependence"
   ]
  },
  {
   "cell_type": "markdown",
   "id": "54109475",
   "metadata": {},
   "source": [
    "**Вывод:** Однозначный вывод о зависимости уровня дохода и возврата кредита в срок сделать сложно. В категориях с максимальным и минимальными доходами (A, D, E) находится слишком мало людей, чтобы четко сфорировать мнение о погашении ими кредита в срок. Что касается остальных, клиенты, имеющие средний доход (50001-200000) чаще остальных оказываются должниками, они составляют 8,5% от общего числа кредитополучателей в этой категории. Люди, получающие от 200001 и до 1000000 рублей в месяц, выплачивают кредит исправнее. Доля задолженностей среди них всего 7%. "
   ]
  },
  {
   "cell_type": "markdown",
   "id": "f7f7f6a3",
   "metadata": {},
   "source": [
    "#### 3.4 Как разные цели кредита влияют на его возврат в срок?"
   ]
  },
  {
   "cell_type": "code",
   "execution_count": 51,
   "id": "f7bf2d36",
   "metadata": {},
   "outputs": [
    {
     "data": {
      "text/html": [
       "<div>\n",
       "<style scoped>\n",
       "    .dataframe tbody tr th:only-of-type {\n",
       "        vertical-align: middle;\n",
       "    }\n",
       "\n",
       "    .dataframe tbody tr th {\n",
       "        vertical-align: top;\n",
       "    }\n",
       "\n",
       "    .dataframe thead tr th {\n",
       "        text-align: left;\n",
       "    }\n",
       "\n",
       "    .dataframe thead tr:last-of-type th {\n",
       "        text-align: right;\n",
       "    }\n",
       "</style>\n",
       "<table border=\"1\" class=\"dataframe\">\n",
       "  <thead>\n",
       "    <tr>\n",
       "      <th></th>\n",
       "      <th colspan=\"3\" halign=\"left\">debt</th>\n",
       "    </tr>\n",
       "    <tr>\n",
       "      <th></th>\n",
       "      <th>sum</th>\n",
       "      <th>count</th>\n",
       "      <th>mean</th>\n",
       "    </tr>\n",
       "    <tr>\n",
       "      <th>purpose_category</th>\n",
       "      <th></th>\n",
       "      <th></th>\n",
       "      <th></th>\n",
       "    </tr>\n",
       "  </thead>\n",
       "  <tbody>\n",
       "    <tr>\n",
       "      <th>операции с автомобилем</th>\n",
       "      <td>400</td>\n",
       "      <td>4279</td>\n",
       "      <td>0.093480</td>\n",
       "    </tr>\n",
       "    <tr>\n",
       "      <th>операции с недвижимостью</th>\n",
       "      <td>780</td>\n",
       "      <td>10751</td>\n",
       "      <td>0.072551</td>\n",
       "    </tr>\n",
       "    <tr>\n",
       "      <th>получение образования</th>\n",
       "      <td>369</td>\n",
       "      <td>3988</td>\n",
       "      <td>0.092528</td>\n",
       "    </tr>\n",
       "    <tr>\n",
       "      <th>проведение свадьбы</th>\n",
       "      <td>183</td>\n",
       "      <td>2313</td>\n",
       "      <td>0.079118</td>\n",
       "    </tr>\n",
       "  </tbody>\n",
       "</table>\n",
       "</div>"
      ],
      "text/plain": [
       "                         debt                 \n",
       "                          sum  count      mean\n",
       "purpose_category                              \n",
       "операции с автомобилем    400   4279  0.093480\n",
       "операции с недвижимостью  780  10751  0.072551\n",
       "получение образования     369   3988  0.092528\n",
       "проведение свадьбы        183   2313  0.079118"
      ]
     },
     "execution_count": 51,
     "metadata": {},
     "output_type": "execute_result"
    }
   ],
   "source": [
    "purpose_dependence = data.groupby('purpose_category').agg({'debt' : ('sum','count','mean')})\n",
    "purpose_dependence"
   ]
  },
  {
   "cell_type": "markdown",
   "id": "d38d6760",
   "metadata": {},
   "source": [
    "**Вывод:** Больше всего должников находится в категории людей, берущих кредит на операции с автомобилем и на получение образования, где доля - по 9% в каждой категории. Почти 8% людей, берущих кредит на проведение свадьбы так же оказываются в числе должников по кредиту. Операции с недвижимостью - цель кредита с минимальной долей задолженностей из представленных категорий."
   ]
  },
  {
   "cell_type": "markdown",
   "id": "e1978e4f",
   "metadata": {},
   "source": [
    "#### 3.5 Приведите возможные причины появления пропусков в исходных данных."
   ]
  },
  {
   "cell_type": "markdown",
   "id": "f661d98a",
   "metadata": {},
   "source": [
    "**Возможные причины появления пропусков в данных:**\n",
    "1) Человеческий фактор. Люди могут не оставлять информацию о себе, если считают это уместным.\n",
    "\n",
    "2) Технический фактор. Сбой при смене формата или переносе данных. "
   ]
  },
  {
   "cell_type": "markdown",
   "id": "c23b5063",
   "metadata": {},
   "source": [
    "#### 3.6 Объясните, почему заполнить пропуски медианным значением — лучшее решение для количественных переменных."
   ]
  },
  {
   "cell_type": "markdown",
   "id": "03613b5a",
   "metadata": {},
   "source": [
    "Данные будут представлены более корректно, так как разрыв в данных может быть слишком большой и среднее значение может исказить наше представление о наборе данных. Медианное значение показывает более объективное значение и лучше подходит для пропусков в количественных переменных."
   ]
  },
  {
   "cell_type": "markdown",
   "id": "199683c5",
   "metadata": {},
   "source": [
    "### Шаг 4: Общий вывод."
   ]
  },
  {
   "cell_type": "markdown",
   "id": "66a635ed",
   "metadata": {},
   "source": [
    "\n",
    "   В ходе проекта было проведено исследование с целью выявления влияния факторов, таких как семейное положение, количество детей, целей и дохода за месяц, на факт погашения кредита в срок.\n",
    "   \n",
    "На первом этапе была проделана работа по предобработке данных. Пропуски в столбце ежемесячного дохода были заполнены медианным значением по типу занятости; тип данных был заменен на целочисленный. Отрицательные значения в столбце с количеством дней трудового стажа были заменены положительными, а пропуски были заполнены медианными значениями, аналогично доходу за месяц. Из колонки с количеством детей были удалены аномальные значения: -1 и 20. Столбец с образованием был приведен к нижнему регистру, дубликаты удалены.\n",
    "\n",
    "   Для удобства данные по ежемесячному доходу и целям получения кредита были разбиты по категориям.\n",
    "    \n",
    "   Исследование зависимости между количеством детей и возвратом кредита в срок показало, что меньшая доля должников среди клиентов без детей, несмотря на то, что таких клиентов больше по сравнению с остальными, доля задолженностей составляет 7,5%, что является наименьшим значением. Задолженностей среди людей с 1-2 детьми больше, их доля почти на 2% превышает задолженности бездетных клиентов. \n",
    "    \n",
    "   Анализ зависимости семейного положения и возврата кредита в срок показал, что заемщики, состоящие или состоявшие в браке реже допускают просрочку по кредиту. Аналогичный показатель у свободных людей или находящихся в гражданском браке на 2-3% больше.\n",
    "    \n",
    "   В ходе исследования выяснилось, что чаще берут кредит люди, имеющие доход от 50001 до 1000000 рублей в месяц, при этом доля задолженностей от общего числа кредитов составляет 7-8,5%. Более ответственными являются клиенты с доходом 200001-1000000 рублей в месяц. Проанализировать остальные группы по доходу не удалось, так как данных по ним крайне мало для получения выводов. \n",
    "    \n",
    "   Самой обширной категорией по цели получения кредита являются клиенты, приобретающие недвижимость, при этом они оказались самыми ответственными, среди них меньше всего должников, на втором месте оказались кредитополучатели, целью которых было проведение свадьбы, их показатель отличается всего на 0,5 процента\n",
    "    \n",
    "   Таким образом, были проанализированы зависимости разных критериев и погашение кредита в срок и выявлены самые ответственным клиенты в каждой категории."
   ]
  }
 ],
 "metadata": {
  "ExecuteTimeLog": [
   {
    "duration": 76,
    "start_time": "2023-06-30T11:59:53.807Z"
   },
   {
    "duration": 489,
    "start_time": "2023-06-30T11:59:57.344Z"
   },
   {
    "duration": 243,
    "start_time": "2023-06-30T11:59:58.950Z"
   },
   {
    "duration": 13,
    "start_time": "2023-06-30T12:00:01.360Z"
   },
   {
    "duration": 23,
    "start_time": "2023-06-30T12:00:24.498Z"
   },
   {
    "duration": 51,
    "start_time": "2023-06-30T12:01:19.711Z"
   },
   {
    "duration": 22,
    "start_time": "2023-06-30T12:01:34.339Z"
   },
   {
    "duration": 54,
    "start_time": "2023-06-30T12:04:01.591Z"
   },
   {
    "duration": 9,
    "start_time": "2023-06-30T12:05:00.200Z"
   },
   {
    "duration": 10,
    "start_time": "2023-06-30T12:07:03.699Z"
   },
   {
    "duration": 11,
    "start_time": "2023-06-30T12:07:06.952Z"
   },
   {
    "duration": 14,
    "start_time": "2023-06-30T12:07:19.195Z"
   },
   {
    "duration": 35,
    "start_time": "2023-06-30T12:17:10.858Z"
   },
   {
    "duration": 25,
    "start_time": "2023-06-30T12:18:06.157Z"
   },
   {
    "duration": 41,
    "start_time": "2023-06-30T12:19:15.856Z"
   },
   {
    "duration": 94,
    "start_time": "2023-06-30T12:22:49.543Z"
   },
   {
    "duration": 96,
    "start_time": "2023-06-30T12:22:57.899Z"
   },
   {
    "duration": 21,
    "start_time": "2023-06-30T12:23:04.811Z"
   },
   {
    "duration": 8,
    "start_time": "2023-06-30T12:23:45.563Z"
   },
   {
    "duration": 49,
    "start_time": "2023-07-02T11:52:15.059Z"
   },
   {
    "duration": 401,
    "start_time": "2023-07-02T11:53:18.838Z"
   },
   {
    "duration": 309,
    "start_time": "2023-07-02T11:53:19.241Z"
   },
   {
    "duration": 11,
    "start_time": "2023-07-02T11:53:19.551Z"
   },
   {
    "duration": 17,
    "start_time": "2023-07-02T11:53:19.564Z"
   },
   {
    "duration": 14,
    "start_time": "2023-07-02T11:53:19.584Z"
   },
   {
    "duration": 29,
    "start_time": "2023-07-02T11:53:19.600Z"
   },
   {
    "duration": 4,
    "start_time": "2023-07-02T11:53:19.631Z"
   },
   {
    "duration": 165,
    "start_time": "2023-07-02T11:53:19.637Z"
   },
   {
    "duration": 7,
    "start_time": "2023-07-02T11:53:19.804Z"
   },
   {
    "duration": 17,
    "start_time": "2023-07-02T11:53:19.813Z"
   },
   {
    "duration": 17,
    "start_time": "2023-07-02T11:53:19.832Z"
   },
   {
    "duration": 15,
    "start_time": "2023-07-02T11:53:19.851Z"
   },
   {
    "duration": 17,
    "start_time": "2023-07-02T11:53:19.867Z"
   },
   {
    "duration": 9,
    "start_time": "2023-07-02T11:53:19.888Z"
   },
   {
    "duration": 6,
    "start_time": "2023-07-02T11:53:19.898Z"
   },
   {
    "duration": 4,
    "start_time": "2023-07-02T11:53:19.907Z"
   },
   {
    "duration": 9,
    "start_time": "2023-07-02T11:53:19.913Z"
   },
   {
    "duration": 8,
    "start_time": "2023-07-02T11:53:19.923Z"
   },
   {
    "duration": 4,
    "start_time": "2023-07-02T11:53:19.933Z"
   },
   {
    "duration": 6,
    "start_time": "2023-07-02T11:53:19.939Z"
   },
   {
    "duration": 5,
    "start_time": "2023-07-02T11:53:19.947Z"
   },
   {
    "duration": 8,
    "start_time": "2023-07-02T11:53:19.953Z"
   },
   {
    "duration": 16,
    "start_time": "2023-07-02T11:53:33.927Z"
   },
   {
    "duration": 8,
    "start_time": "2023-07-02T11:55:40.728Z"
   },
   {
    "duration": 5,
    "start_time": "2023-07-02T11:56:13.759Z"
   },
   {
    "duration": 4,
    "start_time": "2023-07-02T12:03:31.361Z"
   },
   {
    "duration": 9,
    "start_time": "2023-07-02T12:03:46.914Z"
   },
   {
    "duration": 11,
    "start_time": "2023-07-02T12:03:54.694Z"
   },
   {
    "duration": 4,
    "start_time": "2023-07-02T12:04:15.244Z"
   },
   {
    "duration": 21,
    "start_time": "2023-07-02T12:06:41.718Z"
   },
   {
    "duration": 11,
    "start_time": "2023-07-02T12:07:56.410Z"
   },
   {
    "duration": 5,
    "start_time": "2023-07-02T12:08:54.725Z"
   },
   {
    "duration": 11,
    "start_time": "2023-07-02T12:09:52.160Z"
   },
   {
    "duration": 22,
    "start_time": "2023-07-02T12:10:46.583Z"
   },
   {
    "duration": 19,
    "start_time": "2023-07-02T12:11:43.003Z"
   },
   {
    "duration": 20,
    "start_time": "2023-07-02T12:12:26.120Z"
   },
   {
    "duration": 18,
    "start_time": "2023-07-02T12:12:27.694Z"
   },
   {
    "duration": 81,
    "start_time": "2023-07-02T12:16:56.789Z"
   },
   {
    "duration": 3,
    "start_time": "2023-07-02T12:17:04.794Z"
   },
   {
    "duration": 10,
    "start_time": "2023-07-02T12:17:07.188Z"
   },
   {
    "duration": 7,
    "start_time": "2023-07-02T12:17:38.107Z"
   },
   {
    "duration": 3,
    "start_time": "2023-07-02T12:22:50.498Z"
   },
   {
    "duration": 8,
    "start_time": "2023-07-02T12:22:52.393Z"
   },
   {
    "duration": 4,
    "start_time": "2023-07-02T12:27:52.469Z"
   },
   {
    "duration": 8,
    "start_time": "2023-07-02T12:27:53.809Z"
   },
   {
    "duration": 9,
    "start_time": "2023-07-02T12:28:11.615Z"
   },
   {
    "duration": 3,
    "start_time": "2023-07-02T12:29:49.198Z"
   },
   {
    "duration": 8,
    "start_time": "2023-07-02T12:29:51.402Z"
   },
   {
    "duration": 9,
    "start_time": "2023-07-02T12:29:53.006Z"
   }
  ],
  "colab": {
   "provenance": []
  },
  "kernelspec": {
   "display_name": "Python 3 (ipykernel)",
   "language": "python",
   "name": "python3"
  },
  "language_info": {
   "codemirror_mode": {
    "name": "ipython",
    "version": 3
   },
   "file_extension": ".py",
   "mimetype": "text/x-python",
   "name": "python",
   "nbconvert_exporter": "python",
   "pygments_lexer": "ipython3",
   "version": "3.11.5"
  },
  "toc": {
   "base_numbering": 1,
   "nav_menu": {},
   "number_sections": true,
   "sideBar": true,
   "skip_h1_title": true,
   "title_cell": "Table of Contents",
   "title_sidebar": "Contents",
   "toc_cell": false,
   "toc_position": {},
   "toc_section_display": true,
   "toc_window_display": false
  }
 },
 "nbformat": 4,
 "nbformat_minor": 5
}
