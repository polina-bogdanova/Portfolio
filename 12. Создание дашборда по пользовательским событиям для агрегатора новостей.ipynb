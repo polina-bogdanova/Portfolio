{
 "cells": [
  {
   "cell_type": "markdown",
   "id": "f96c7aef",
   "metadata": {},
   "source": [
    "# Ссылка на дашборд"
   ]
  },
  {
   "cell_type": "markdown",
   "id": "1151f39b",
   "metadata": {},
   "source": [
    "https://public.tableau.com/views/_17008283891350/sheet21?:language=en-US&publish=yes&:sid=&:display_count=n&:origin=viz_share_link"
   ]
  }
 ],
 "metadata": {
  "kernelspec": {
   "display_name": "Python 3 (ipykernel)",
   "language": "python",
   "name": "python3"
  },
  "language_info": {
   "codemirror_mode": {
    "name": "ipython",
    "version": 3
   },
   "file_extension": ".py",
   "mimetype": "text/x-python",
   "name": "python",
   "nbconvert_exporter": "python",
   "pygments_lexer": "ipython3",
   "version": "3.11.5"
  },
  "toc": {
   "base_numbering": 1,
   "nav_menu": {},
   "number_sections": true,
   "sideBar": true,
   "skip_h1_title": true,
   "title_cell": "Table of Contents",
   "title_sidebar": "Contents",
   "toc_cell": false,
   "toc_position": {},
   "toc_section_display": true,
   "toc_window_display": false
  }
 },
 "nbformat": 4,
 "nbformat_minor": 5
}
