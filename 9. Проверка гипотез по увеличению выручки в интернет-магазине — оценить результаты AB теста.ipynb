{
 "cells": [
  {
   "cell_type": "markdown",
   "metadata": {},
   "source": [
    "# Проект \"Принятие решений в бизнесе \""
   ]
  },
  {
   "cell_type": "markdown",
   "metadata": {},
   "source": [
    "Вместе с отделом маркетинга мы подготовили список гипотез для увеличения выручки. Цель проекта - приоритизировать гипотезы, запустить A/B-тест и проанализировать результаты. "
   ]
  },
  {
   "cell_type": "markdown",
   "metadata": {},
   "source": [
    "## Предобработка данных "
   ]
  },
  {
   "cell_type": "code",
   "execution_count": 1,
   "metadata": {},
   "outputs": [],
   "source": [
    "#импортируем библиотеки\n",
    "import pandas as pd\n",
    "import numpy as np\n",
    "import matplotlib.pyplot as plt\n",
    "import scipy.stats as stats"
   ]
  },
  {
   "cell_type": "markdown",
   "metadata": {},
   "source": [
    "Подгрузим таблицы с данными:"
   ]
  },
  {
   "cell_type": "code",
   "execution_count": 2,
   "metadata": {},
   "outputs": [],
   "source": [
    "orders = pd.read_csv('/datasets/orders.csv')\n",
    "visitors = pd.read_csv('/datasets/visitors.csv')"
   ]
  },
  {
   "cell_type": "code",
   "execution_count": 3,
   "metadata": {},
   "outputs": [
    {
     "data": {
      "text/html": [
       "<div>\n",
       "<style scoped>\n",
       "    .dataframe tbody tr th:only-of-type {\n",
       "        vertical-align: middle;\n",
       "    }\n",
       "\n",
       "    .dataframe tbody tr th {\n",
       "        vertical-align: top;\n",
       "    }\n",
       "\n",
       "    .dataframe thead th {\n",
       "        text-align: right;\n",
       "    }\n",
       "</style>\n",
       "<table border=\"1\" class=\"dataframe\">\n",
       "  <thead>\n",
       "    <tr style=\"text-align: right;\">\n",
       "      <th></th>\n",
       "      <th>transactionId</th>\n",
       "      <th>visitorId</th>\n",
       "      <th>date</th>\n",
       "      <th>revenue</th>\n",
       "      <th>group</th>\n",
       "    </tr>\n",
       "  </thead>\n",
       "  <tbody>\n",
       "    <tr>\n",
       "      <th>0</th>\n",
       "      <td>3667963787</td>\n",
       "      <td>3312258926</td>\n",
       "      <td>2019-08-15</td>\n",
       "      <td>1650</td>\n",
       "      <td>B</td>\n",
       "    </tr>\n",
       "    <tr>\n",
       "      <th>1</th>\n",
       "      <td>2804400009</td>\n",
       "      <td>3642806036</td>\n",
       "      <td>2019-08-15</td>\n",
       "      <td>730</td>\n",
       "      <td>B</td>\n",
       "    </tr>\n",
       "    <tr>\n",
       "      <th>2</th>\n",
       "      <td>2961555356</td>\n",
       "      <td>4069496402</td>\n",
       "      <td>2019-08-15</td>\n",
       "      <td>400</td>\n",
       "      <td>A</td>\n",
       "    </tr>\n",
       "    <tr>\n",
       "      <th>3</th>\n",
       "      <td>3797467345</td>\n",
       "      <td>1196621759</td>\n",
       "      <td>2019-08-15</td>\n",
       "      <td>9759</td>\n",
       "      <td>B</td>\n",
       "    </tr>\n",
       "    <tr>\n",
       "      <th>4</th>\n",
       "      <td>2282983706</td>\n",
       "      <td>2322279887</td>\n",
       "      <td>2019-08-15</td>\n",
       "      <td>2308</td>\n",
       "      <td>B</td>\n",
       "    </tr>\n",
       "  </tbody>\n",
       "</table>\n",
       "</div>"
      ],
      "text/plain": [
       "   transactionId   visitorId        date  revenue group\n",
       "0     3667963787  3312258926  2019-08-15     1650     B\n",
       "1     2804400009  3642806036  2019-08-15      730     B\n",
       "2     2961555356  4069496402  2019-08-15      400     A\n",
       "3     3797467345  1196621759  2019-08-15     9759     B\n",
       "4     2282983706  2322279887  2019-08-15     2308     B"
      ]
     },
     "execution_count": 3,
     "metadata": {},
     "output_type": "execute_result"
    }
   ],
   "source": [
    "orders.head()"
   ]
  },
  {
   "cell_type": "code",
   "execution_count": 4,
   "metadata": {
    "scrolled": true
   },
   "outputs": [
    {
     "name": "stdout",
     "output_type": "stream",
     "text": [
      "<class 'pandas.core.frame.DataFrame'>\n",
      "RangeIndex: 1197 entries, 0 to 1196\n",
      "Data columns (total 5 columns):\n",
      " #   Column         Non-Null Count  Dtype \n",
      "---  ------         --------------  ----- \n",
      " 0   transactionId  1197 non-null   int64 \n",
      " 1   visitorId      1197 non-null   int64 \n",
      " 2   date           1197 non-null   object\n",
      " 3   revenue        1197 non-null   int64 \n",
      " 4   group          1197 non-null   object\n",
      "dtypes: int64(3), object(2)\n",
      "memory usage: 46.9+ KB\n",
      "<class 'pandas.core.frame.DataFrame'>\n",
      "RangeIndex: 62 entries, 0 to 61\n",
      "Data columns (total 3 columns):\n",
      " #   Column    Non-Null Count  Dtype \n",
      "---  ------    --------------  ----- \n",
      " 0   date      62 non-null     object\n",
      " 1   group     62 non-null     object\n",
      " 2   visitors  62 non-null     int64 \n",
      "dtypes: int64(1), object(2)\n",
      "memory usage: 1.6+ KB\n"
     ]
    }
   ],
   "source": [
    "#посмотрим типы данных в столбцах\n",
    "orders.info()\n",
    "visitors.info()"
   ]
  },
  {
   "cell_type": "code",
   "execution_count": 5,
   "metadata": {},
   "outputs": [],
   "source": [
    "#приведем столбцы с датой в нужный формат\n",
    "orders['date'] = pd.to_datetime(orders['date'], format='%Y-%m-%d')\n",
    "visitors['date'] = pd.to_datetime(visitors['date'], format='%Y-%m-%d')"
   ]
  },
  {
   "cell_type": "code",
   "execution_count": 6,
   "metadata": {
    "scrolled": true
   },
   "outputs": [
    {
     "name": "stdout",
     "output_type": "stream",
     "text": [
      "transactionId    0\n",
      "visitorId        0\n",
      "date             0\n",
      "revenue          0\n",
      "group            0\n",
      "dtype: int64\n"
     ]
    },
    {
     "data": {
      "text/plain": [
       "date        0\n",
       "group       0\n",
       "visitors    0\n",
       "dtype: int64"
      ]
     },
     "execution_count": 6,
     "metadata": {},
     "output_type": "execute_result"
    }
   ],
   "source": [
    "#посмотрим количество пропусков в каждой таблице\n",
    "print(orders.isna().sum())\n",
    "visitors.isna().sum()"
   ]
  },
  {
   "cell_type": "markdown",
   "metadata": {},
   "source": [
    "Пропуски отстутствуют. Проверим явные дубликаты."
   ]
  },
  {
   "cell_type": "code",
   "execution_count": 7,
   "metadata": {
    "scrolled": false
   },
   "outputs": [
    {
     "name": "stdout",
     "output_type": "stream",
     "text": [
      "0\n"
     ]
    },
    {
     "data": {
      "text/plain": [
       "0"
      ]
     },
     "execution_count": 7,
     "metadata": {},
     "output_type": "execute_result"
    }
   ],
   "source": [
    "print(orders.duplicated().sum())\n",
    "visitors.duplicated().sum()"
   ]
  },
  {
   "cell_type": "markdown",
   "metadata": {},
   "source": [
    "Явных дубликатов тоже нет, можем переходить к работе с данными."
   ]
  },
  {
   "cell_type": "markdown",
   "metadata": {},
   "source": [
    "## Приоритизация гипотез"
   ]
  },
  {
   "cell_type": "code",
   "execution_count": 8,
   "metadata": {},
   "outputs": [
    {
     "data": {
      "text/html": [
       "<div>\n",
       "<style scoped>\n",
       "    .dataframe tbody tr th:only-of-type {\n",
       "        vertical-align: middle;\n",
       "    }\n",
       "\n",
       "    .dataframe tbody tr th {\n",
       "        vertical-align: top;\n",
       "    }\n",
       "\n",
       "    .dataframe thead th {\n",
       "        text-align: right;\n",
       "    }\n",
       "</style>\n",
       "<table border=\"1\" class=\"dataframe\">\n",
       "  <thead>\n",
       "    <tr style=\"text-align: right;\">\n",
       "      <th></th>\n",
       "      <th>Hypothesis</th>\n",
       "      <th>Reach</th>\n",
       "      <th>Impact</th>\n",
       "      <th>Confidence</th>\n",
       "      <th>Efforts</th>\n",
       "    </tr>\n",
       "  </thead>\n",
       "  <tbody>\n",
       "    <tr>\n",
       "      <th>0</th>\n",
       "      <td>Добавить два новых канала привлечения трафика,...</td>\n",
       "      <td>3</td>\n",
       "      <td>10</td>\n",
       "      <td>8</td>\n",
       "      <td>6</td>\n",
       "    </tr>\n",
       "    <tr>\n",
       "      <th>1</th>\n",
       "      <td>Запустить собственную службу доставки, что сок...</td>\n",
       "      <td>2</td>\n",
       "      <td>5</td>\n",
       "      <td>4</td>\n",
       "      <td>10</td>\n",
       "    </tr>\n",
       "    <tr>\n",
       "      <th>2</th>\n",
       "      <td>Добавить блоки рекомендаций товаров на сайт ин...</td>\n",
       "      <td>8</td>\n",
       "      <td>3</td>\n",
       "      <td>7</td>\n",
       "      <td>3</td>\n",
       "    </tr>\n",
       "    <tr>\n",
       "      <th>3</th>\n",
       "      <td>Изменить структура категорий, что увеличит кон...</td>\n",
       "      <td>8</td>\n",
       "      <td>3</td>\n",
       "      <td>3</td>\n",
       "      <td>8</td>\n",
       "    </tr>\n",
       "    <tr>\n",
       "      <th>4</th>\n",
       "      <td>Изменить цвет фона главной страницы, чтобы уве...</td>\n",
       "      <td>3</td>\n",
       "      <td>1</td>\n",
       "      <td>1</td>\n",
       "      <td>1</td>\n",
       "    </tr>\n",
       "    <tr>\n",
       "      <th>5</th>\n",
       "      <td>Добавить страницу отзывов клиентов о магазине,...</td>\n",
       "      <td>3</td>\n",
       "      <td>2</td>\n",
       "      <td>2</td>\n",
       "      <td>3</td>\n",
       "    </tr>\n",
       "    <tr>\n",
       "      <th>6</th>\n",
       "      <td>Показать на главной странице баннеры с актуаль...</td>\n",
       "      <td>5</td>\n",
       "      <td>3</td>\n",
       "      <td>8</td>\n",
       "      <td>3</td>\n",
       "    </tr>\n",
       "    <tr>\n",
       "      <th>7</th>\n",
       "      <td>Добавить форму подписки на все основные страни...</td>\n",
       "      <td>10</td>\n",
       "      <td>7</td>\n",
       "      <td>8</td>\n",
       "      <td>5</td>\n",
       "    </tr>\n",
       "    <tr>\n",
       "      <th>8</th>\n",
       "      <td>Запустить акцию, дающую скидку на товар в день...</td>\n",
       "      <td>1</td>\n",
       "      <td>9</td>\n",
       "      <td>9</td>\n",
       "      <td>5</td>\n",
       "    </tr>\n",
       "  </tbody>\n",
       "</table>\n",
       "</div>"
      ],
      "text/plain": [
       "                                          Hypothesis  Reach  Impact  \\\n",
       "0  Добавить два новых канала привлечения трафика,...      3      10   \n",
       "1  Запустить собственную службу доставки, что сок...      2       5   \n",
       "2  Добавить блоки рекомендаций товаров на сайт ин...      8       3   \n",
       "3  Изменить структура категорий, что увеличит кон...      8       3   \n",
       "4  Изменить цвет фона главной страницы, чтобы уве...      3       1   \n",
       "5  Добавить страницу отзывов клиентов о магазине,...      3       2   \n",
       "6  Показать на главной странице баннеры с актуаль...      5       3   \n",
       "7  Добавить форму подписки на все основные страни...     10       7   \n",
       "8  Запустить акцию, дающую скидку на товар в день...      1       9   \n",
       "\n",
       "   Confidence  Efforts  \n",
       "0           8        6  \n",
       "1           4       10  \n",
       "2           7        3  \n",
       "3           3        8  \n",
       "4           1        1  \n",
       "5           2        3  \n",
       "6           8        3  \n",
       "7           8        5  \n",
       "8           9        5  "
      ]
     },
     "execution_count": 8,
     "metadata": {},
     "output_type": "execute_result"
    }
   ],
   "source": [
    "hypothesis = pd.read_csv('/datasets/hypothesis.csv')\n",
    "hypothesis"
   ]
  },
  {
   "cell_type": "markdown",
   "metadata": {},
   "source": [
    "В таблице 9 гипотез по увеличению выручки интернет-магазина с указанными параметрами Reach, Impact, Confidence, Effort. Визуально заметно, что в таблице нет пропусков и дубликатов, поэтому можно продолжать работать с данными. "
   ]
  },
  {
   "cell_type": "markdown",
   "metadata": {},
   "source": [
    "###  Применение ICE для приоритизации гипотез"
   ]
  },
  {
   "cell_type": "code",
   "execution_count": 9,
   "metadata": {
    "scrolled": true
   },
   "outputs": [
    {
     "name": "stdout",
     "output_type": "stream",
     "text": [
      "                                          Hypothesis        ICE\n",
      "8  Запустить акцию, дающую скидку на товар в день...  16.200000\n",
      "0  Добавить два новых канала привлечения трафика,...  13.333333\n",
      "7  Добавить форму подписки на все основные страни...  11.200000\n",
      "6  Показать на главной странице баннеры с актуаль...   8.000000\n",
      "2  Добавить блоки рекомендаций товаров на сайт ин...   7.000000\n",
      "1  Запустить собственную службу доставки, что сок...   2.000000\n",
      "5  Добавить страницу отзывов клиентов о магазине,...   1.333333\n",
      "3  Изменить структура категорий, что увеличит кон...   1.125000\n",
      "4  Изменить цвет фона главной страницы, чтобы уве...   1.000000\n"
     ]
    }
   ],
   "source": [
    "hypothesis['ICE'] = hypothesis['Impact'] * hypothesis['Confidence'] / hypothesis['Efforts']\n",
    "print(hypothesis[['Hypothesis', 'ICE']].sort_values(by='ICE', ascending=False))"
   ]
  },
  {
   "cell_type": "markdown",
   "metadata": {},
   "source": [
    "Наиболее перспективные гипотезы по ICE: 8, 0, 7."
   ]
  },
  {
   "cell_type": "markdown",
   "metadata": {},
   "source": [
    "### Применение RICE для приоритизации гипотез"
   ]
  },
  {
   "cell_type": "code",
   "execution_count": 10,
   "metadata": {
    "scrolled": true
   },
   "outputs": [
    {
     "name": "stdout",
     "output_type": "stream",
     "text": [
      "                                          Hypothesis   RICE\n",
      "7  Добавить форму подписки на все основные страни...  112.0\n",
      "2  Добавить блоки рекомендаций товаров на сайт ин...   56.0\n",
      "0  Добавить два новых канала привлечения трафика,...   40.0\n",
      "6  Показать на главной странице баннеры с актуаль...   40.0\n",
      "8  Запустить акцию, дающую скидку на товар в день...   16.2\n",
      "3  Изменить структура категорий, что увеличит кон...    9.0\n",
      "1  Запустить собственную службу доставки, что сок...    4.0\n",
      "5  Добавить страницу отзывов клиентов о магазине,...    4.0\n",
      "4  Изменить цвет фона главной страницы, чтобы уве...    3.0\n"
     ]
    }
   ],
   "source": [
    "hypothesis['RICE'] = hypothesis['Reach'] * hypothesis['Impact'] * hypothesis['Confidence'] / hypothesis['Efforts']\n",
    "\n",
    "print(hypothesis[['Hypothesis', 'RICE']].sort_values(by='RICE', ascending=False))"
   ]
  },
  {
   "cell_type": "markdown",
   "metadata": {},
   "source": [
    "Наиболее перспктивные гипотезы по RICE 7, 2, 0, 6. Появились гипотезы 2 и 7, а также поменялись приоритеты 0 и 7 гипотез. Гипотеза 7 теперь на первом месте, это произошло из-за того, что ее параметр Reach равен 10, что намного больше чем у остальных гипотез."
   ]
  },
  {
   "cell_type": "markdown",
   "metadata": {},
   "source": [
    "Изменение приоритетов гипотез произошло из-за того, что в случае применения фреймворка ICE мы не учитывали охват изменений, хотя это важная часть оценки гипотез.\n",
    "\n",
    "Таким образом, приоритетными гипотезами для нас будут 7, 2 и 0."
   ]
  },
  {
   "cell_type": "markdown",
   "metadata": {},
   "source": [
    "## Анализ A/B-теста"
   ]
  },
  {
   "cell_type": "markdown",
   "metadata": {},
   "source": [
    "После проведения A/B-теста мы получили результаты, которые описаны в файлах /datasets/orders.csv и /datasets/visitors.csv. Теперь необходимо выявить закономерности и сделать выводы по результатам А/В-теста."
   ]
  },
  {
   "cell_type": "markdown",
   "metadata": {},
   "source": [
    "### Построение графика кумулятивной выручки по группам"
   ]
  },
  {
   "cell_type": "markdown",
   "metadata": {},
   "source": [
    "Получим таблицу с кумулятивными значениями, сгруппированными по дате и группе:"
   ]
  },
  {
   "cell_type": "code",
   "execution_count": 11,
   "metadata": {
    "scrolled": true
   },
   "outputs": [
    {
     "name": "stdout",
     "output_type": "stream",
     "text": [
      "        date group  orders  buyers  revenue  visitors\n",
      "0 2019-08-01     A      24      20   148579       719\n",
      "1 2019-08-01     B      21      20   101217       713\n",
      "2 2019-08-02     A      44      38   242401      1338\n",
      "3 2019-08-02     B      45      43   266748      1294\n",
      "4 2019-08-03     A      68      62   354874      1845\n"
     ]
    }
   ],
   "source": [
    "datesGroups = orders[['date', 'group']].drop_duplicates()\n",
    "\n",
    "ordersAggregated = datesGroups.apply(\n",
    "    lambda x: orders[\n",
    "        np.logical_and(\n",
    "            orders['date'] <= x['date'], orders['group'] == x['group']\n",
    "        )\n",
    "    ].agg(\n",
    "        {\n",
    "            'date': 'max',\n",
    "            'group': 'max',\n",
    "            'transactionId': 'nunique',\n",
    "            'visitorId': 'nunique',\n",
    "            'revenue': 'sum',\n",
    "        }\n",
    "    ),\n",
    "    axis=1,\n",
    ").sort_values(by=['date', 'group'])\n",
    "\n",
    "visitorsAggregated = datesGroups.apply(\n",
    "    lambda x: visitors[\n",
    "        np.logical_and(\n",
    "            visitors['date'] <= x['date'], visitors['group'] == x['group']\n",
    "        )\n",
    "    ].agg({'date': 'max', 'group': 'max', 'visitors': 'sum'}),\n",
    "    axis=1,\n",
    ").sort_values(by=['date', 'group'])\n",
    "\n",
    "cumulativeData = ordersAggregated.merge(\n",
    "    visitorsAggregated, left_on=['date', 'group'], right_on=['date', 'group']\n",
    ")\n",
    "cumulativeData.columns = [\n",
    "    'date',\n",
    "    'group',\n",
    "    'orders',\n",
    "    'buyers',\n",
    "    'revenue',\n",
    "    'visitors',\n",
    "]\n",
    "print(cumulativeData.head(5))"
   ]
  },
  {
   "cell_type": "markdown",
   "metadata": {},
   "source": [
    "Разделим данные по группам и для каждой группы построим график выручки:"
   ]
  },
  {
   "cell_type": "code",
   "execution_count": 12,
   "metadata": {
    "scrolled": false
   },
   "outputs": [
    {
     "data": {
      "image/png": "[encoded data removed]",
      "text/plain": [
       "<Figure size 864x432 with 1 Axes>"
      ]
     },
     "metadata": {
      "needs_background": "light"
     },
     "output_type": "display_data"
    }
   ],
   "source": [
    "cumulativeDataA = cumulativeData[cumulativeData['group'] == 'A']\n",
    "cumulativeDataB = cumulativeData[cumulativeData['group'] == 'B']\n",
    "plt.figure(figsize=(12,6))\n",
    "plt.plot(cumulativeDataA['date'], cumulativeDataA['revenue'], label = 'A')\n",
    "plt.plot(cumulativeDataB['date'], cumulativeDataB['revenue'], label = 'B')\n",
    "plt.legend()\n",
    "plt.xlabel('Дата')\n",
    "plt.ylabel('Выручка')\n",
    "plt.title('График кумумлятивной выручки по группам')\n",
    "plt.show()"
   ]
  },
  {
   "cell_type": "markdown",
   "metadata": {},
   "source": [
    "По графику можно сделать вывод, что показатели выручки группы В практически всегда лучше, чем у группы А. Единственное исключение - 13 августа 2019 года, там кумулятивная выручка практически одинаковая. А в целом, группа В пока показывает неплохие результаты. "
   ]
  },
  {
   "cell_type": "markdown",
   "metadata": {},
   "source": [
    "### Построение графика кумулятивного среднего чека по группам"
   ]
  },
  {
   "cell_type": "code",
   "execution_count": 13,
   "metadata": {
    "scrolled": false
   },
   "outputs": [
    {
     "data": {
      "image/png": "[encoded data removed]",
      "text/plain": [
       "<Figure size 864x432 with 1 Axes>"
      ]
     },
     "metadata": {
      "needs_background": "light"
     },
     "output_type": "display_data"
    }
   ],
   "source": [
    "plt.figure(figsize=(12,6))\n",
    "plt.plot(cumulativeDataA['date'], cumulativeDataA['revenue']/cumulativeDataA['orders'], label='A')\n",
    "plt.plot(cumulativeDataB['date'], cumulativeDataB['revenue']/cumulativeDataB['orders'], label='B')\n",
    "plt.legend()\n",
    "plt.xlabel('Дата')\n",
    "plt.ylabel('Средний чек')\n",
    "plt.title('График кумумлятивного среднего чека по группам')\n",
    "plt.show()"
   ]
  },
  {
   "cell_type": "markdown",
   "metadata": {},
   "source": [
    "В данном случае график уже не такой очевидный, но все же кумулятивный средний чек группы В почти всегда выше, чем у группы А, за исключением 13 августа 2019 года (снова эта дата выбивается). Возможно, в этот дент что-то заставило посетителей покупать меньше. После 17 августа средний чек резко вырос, возможно этот скачок не совсем правдивый, позже изучим аномалии."
   ]
  },
  {
   "cell_type": "markdown",
   "metadata": {},
   "source": [
    "### Построение графика относительного изменения кумулятивного среднего чека группы B к группе A"
   ]
  },
  {
   "cell_type": "code",
   "execution_count": 14,
   "metadata": {},
   "outputs": [
    {
     "data": {
      "image/png": "[encoded data removed]",
      "text/plain": [
       "<Figure size 864x432 with 1 Axes>"
      ]
     },
     "metadata": {
      "needs_background": "light"
     },
     "output_type": "display_data"
    }
   ],
   "source": [
    "mergedCumulativeData = cumulativeDataA.merge(cumulativeDataB, left_on='date', right_on='date', how='left', suffixes=['A', 'B']) \n",
    "plt.figure(figsize=(12,6))\n",
    "plt.plot(mergedCumulativeData['date'], (mergedCumulativeData['revenueB']/mergedCumulativeData['ordersB'])/(mergedCumulativeData['revenueA']/mergedCumulativeData['ordersA'])-1)\n",
    "plt.axhline(y=0, color='black', linestyle='--')\n",
    "plt.xlabel('Дата')\n",
    "plt.ylabel('Изменение кумулятивного среднего чека')\n",
    "plt.title('График относительного изменения кумулятивного среднего чека группы В к группе А')\n",
    "plt.show()"
   ]
  },
  {
   "cell_type": "markdown",
   "metadata": {},
   "source": [
    "В несколько дат результаты теста значительно менялись. Скорее всего, именно в те даты были совершены аномальные заказы."
   ]
  },
  {
   "cell_type": "markdown",
   "metadata": {},
   "source": [
    "### Построение графика кумулятивного среднего количества заказов на посетителя по группам"
   ]
  },
  {
   "cell_type": "code",
   "execution_count": 15,
   "metadata": {
    "scrolled": false
   },
   "outputs": [
    {
     "data": {
      "image/png": "[encoded data removed]",
      "text/plain": [
       "<Figure size 864x432 with 1 Axes>"
      ]
     },
     "metadata": {
      "needs_background": "light"
     },
     "output_type": "display_data"
    }
   ],
   "source": [
    "cumulativeData['conversion'] = cumulativeData['orders']/cumulativeData['visitors']\n",
    "cumulativeDataConvA = cumulativeData[cumulativeData['group']=='A']\n",
    "cumulativeDataConvB = cumulativeData[cumulativeData['group']=='B']\n",
    "plt.figure(figsize=(12,6))\n",
    "plt.plot(cumulativeDataConvA['date'], cumulativeDataConvA['conversion'], label='A')\n",
    "plt.plot(cumulativeDataConvB['date'], cumulativeDataConvB['conversion'], label='B')\n",
    "plt.legend()\n",
    "plt.xlabel('Дата')\n",
    "plt.ylabel('Среднее кол-во заказов')\n",
    "plt.title('График кумулятивного среднего количества заказов на посетителя')\n",
    "plt.show()"
   ]
  },
  {
   "cell_type": "markdown",
   "metadata": {},
   "source": [
    "Сначала группа А имела большее значение среднего кол-ва заказов на посетителя, но затем после 06.08.2019 группа В сравнялась с группой А и стала заметно расти. Показатель сегмента В зафиксировался выше сегмента А, при этом колебания не очень большие- в пределах 2-3 процентов."
   ]
  },
  {
   "cell_type": "markdown",
   "metadata": {},
   "source": [
    "### Построение графика относительного изменения кумулятивного среднего количества заказов на посетителя группы B к группе A"
   ]
  },
  {
   "cell_type": "code",
   "execution_count": 16,
   "metadata": {},
   "outputs": [
    {
     "data": {
      "image/png": "[encoded data removed]",
      "text/plain": [
       "<Figure size 864x432 with 1 Axes>"
      ]
     },
     "metadata": {
      "needs_background": "light"
     },
     "output_type": "display_data"
    }
   ],
   "source": [
    "mergedCumulativeConversions = cumulativeDataConvA[['date','conversion']].merge(cumulativeDataConvB[['date','conversion']], left_on='date', right_on='date', how='left', suffixes=['A', 'B'])\n",
    "plt.figure(figsize=(12,6))\n",
    "plt.plot(mergedCumulativeConversions['date'], mergedCumulativeConversions['conversionB']/mergedCumulativeConversions['conversionA']-1, label=\"Относительный прирост конверсии группы B относительно группы A\")\n",
    "plt.xlabel('Дата')\n",
    "plt.ylabel('Изменение кумумлятивного среднего кол-ва заказов')\n",
    "plt.title('График относительного изменения кумулятивного среднего количества заказов на посетителя группы B к группе A')\n",
    "plt.axhline(y=0, color='black', linestyle='--')\n",
    "plt.axhline(y=0.15, color='pink', linestyle='--')\n",
    "plt.axhline(y=0.2, color='grey', linestyle='--')\n",
    "plt.show()"
   ]
  },
  {
   "cell_type": "markdown",
   "metadata": {},
   "source": [
    "Почти сразу группа В лидирует по среднему количеству заказов, относительный прирост растет до 15 августа. Максимальное значение прироста около 20%, но затем он все же немного снижается, но все-таки больше 10%."
   ]
  },
  {
   "cell_type": "markdown",
   "metadata": {},
   "source": [
    "### Построение точечного графика количества заказов по пользователям"
   ]
  },
  {
   "cell_type": "code",
   "execution_count": 27,
   "metadata": {},
   "outputs": [
    {
     "data": {
      "image/png": "[encoded data removed]",
      "text/plain": [
       "<Figure size 864x432 with 1 Axes>"
      ]
     },
     "metadata": {
      "needs_background": "light"
     },
     "output_type": "display_data"
    }
   ],
   "source": [
    "ordersByUsers = (\n",
    "    orders.groupby('visitorId', as_index=False)\n",
    "    .agg({'transactionId': 'nunique'})\n",
    ")\n",
    "ordersByUsers.columns = ['visitorId', 'orders']\n",
    "plt.figure(figsize=(12,6))\n",
    "x_values = pd.Series(range(0, len(ordersByUsers)))\n",
    "plt.scatter(x_values, ordersByUsers['orders'])\n",
    "plt.title('Количество заказов по пользователям')\n",
    "plt.ylabel('Количество заказов')\n",
    "plt.xlabel('Cгенерированные номера наблюдений')\n",
    "plt.show()"
   ]
  },
  {
   "cell_type": "markdown",
   "metadata": {},
   "source": [
    "Основная часть клиентов заказывает не более двух заказов; тех, кто заказывает больше, совсем немного. Такие заказы и могут быть аномальными. Чтобы понять 2 заказа- это много или мало- необходимо посчитать перцентили."
   ]
  },
  {
   "cell_type": "code",
   "execution_count": 18,
   "metadata": {},
   "outputs": [
    {
     "data": {
      "text/plain": [
       "array([2., 4.])"
      ]
     },
     "execution_count": 18,
     "metadata": {},
     "output_type": "execute_result"
    }
   ],
   "source": [
    "np.percentile(ordersByUsers['orders'], [95,99])"
   ]
  },
  {
   "cell_type": "markdown",
   "metadata": {},
   "source": [
    "Не больше 5 процентов пользователей совершали более 2 заказов. И не более 1 процента - больше 4 заказов. Границей для определения аномальных пользователей будет значение заказов больше двух."
   ]
  },
  {
   "cell_type": "markdown",
   "metadata": {},
   "source": [
    "### Построение точечного графика стоимостей заказов"
   ]
  },
  {
   "cell_type": "code",
   "execution_count": 28,
   "metadata": {
    "scrolled": false
   },
   "outputs": [
    {
     "data": {
      "image/png": "[encoded data removed]",
      "text/plain": [
       "<Figure size 864x432 with 1 Axes>"
      ]
     },
     "metadata": {
      "needs_background": "light"
     },
     "output_type": "display_data"
    }
   ],
   "source": [
    "x_values = pd.Series(range(0, len(orders)))\n",
    "plt.figure(figsize=(12,6))\n",
    "plt.scatter(x_values, orders['revenue'])\n",
    "plt.title('Стоимости заказов на одного пользователя')\n",
    "plt.axis([0, 1200, 0, 120000])\n",
    "plt.ylabel('Стоимость заказа')\n",
    "plt.xlabel('Cгенерированные номера наблюдений')\n",
    "plt.show()"
   ]
  },
  {
   "cell_type": "markdown",
   "metadata": {},
   "source": [
    "График неоднозначный, нельзя точно оценить, где граница определения аномалий. Заказов стоимостью больше 40000 мало. Есть выбросы и около 100000. Необходимо определить перцентили: 95-й и 99-й."
   ]
  },
  {
   "cell_type": "code",
   "execution_count": 20,
   "metadata": {},
   "outputs": [
    {
     "data": {
      "text/plain": [
       "array([28000. , 58233.2])"
      ]
     },
     "execution_count": 20,
     "metadata": {},
     "output_type": "execute_result"
    }
   ],
   "source": [
    "np.percentile(orders['revenue'], [95,99])"
   ]
  },
  {
   "cell_type": "markdown",
   "metadata": {},
   "source": [
    "Не более 5% пользователей тратят больше 28000. И не больше, чем у 1% чек дороже 58233. Довольно большая разница, но определим как границу - значение 95-го перцентиля, то есть 28000."
   ]
  },
  {
   "cell_type": "markdown",
   "metadata": {},
   "source": [
    "### Подсчет статистической значимости различий в среднем количестве заказов на посетителя между группами по «сырым» данным"
   ]
  },
  {
   "cell_type": "markdown",
   "metadata": {},
   "source": [
    "Сформулируем нулевую гипотезу: Статистически значимых различий в среднем числе заказов между группами нет. Альтернативная гипотеза - различие в среднем числе заказов есть. \n",
    "\n",
    "Уровень значимости возьмем равным 0.05.\n",
    "\n",
    "Для проверки гипотезы будем использовать критерий Манна-Уитни. К этому методу мы прибегаем, так как работа с самими значениями невозможна из-за выбросов, сильно сдвигающих параметрические результаты."
   ]
  },
  {
   "cell_type": "code",
   "execution_count": 21,
   "metadata": {},
   "outputs": [
    {
     "name": "stdout",
     "output_type": "stream",
     "text": [
      "        date  ordersPerDateA  revenuePerDateA  ordersPerDateB  \\\n",
      "0 2019-08-01              20           148579              20   \n",
      "1 2019-08-02              19            93822              23   \n",
      "2 2019-08-03              24           112473              16   \n",
      "3 2019-08-04              15            70825              16   \n",
      "4 2019-08-05              25           124218              23   \n",
      "\n",
      "   revenuePerDateB  ordersCummulativeA  revenueCummulativeA  \\\n",
      "0           101217                  20               148579   \n",
      "1           165531                  39               242401   \n",
      "2           114248                  63               354874   \n",
      "3           108571                  78               425699   \n",
      "4            92428                 103               549917   \n",
      "\n",
      "   ordersCummulativeB  revenueCummulativeB  visitorsPerDateA  \\\n",
      "0                  20               101217               719   \n",
      "1                  43               266748               619   \n",
      "2                  59               380996               507   \n",
      "3                  75               489567               717   \n",
      "4                  98               581995               756   \n",
      "\n",
      "   visitorsPerDateB  visitorsCummulativeA  visitorsCummulativeB  \n",
      "0               713                   719                   713  \n",
      "1               581                  1338                  1294  \n",
      "2               509                  1845                  1803  \n",
      "3               770                  2562                  2573  \n",
      "4               707                  3318                  3280  \n"
     ]
    }
   ],
   "source": [
    "# подготовим данные\n",
    "visitorsADaily = visitors[visitors['group'] == 'A'][['date', 'visitors']]\n",
    "visitorsADaily.columns = ['date', 'visitorsPerDateA']\n",
    "\n",
    "visitorsACummulative = visitorsADaily.apply(\n",
    "    lambda x: visitorsADaily[visitorsADaily['date'] <= x['date']].agg(\n",
    "        {'date': 'max', 'visitorsPerDateA': 'sum'}\n",
    "    ),\n",
    "    axis=1,\n",
    ")\n",
    "visitorsACummulative.columns = ['date', 'visitorsCummulativeA']\n",
    "\n",
    "visitorsBDaily = visitors[visitors['group'] == 'B'][['date', 'visitors']]\n",
    "visitorsBDaily.columns = ['date', 'visitorsPerDateB']\n",
    "\n",
    "visitorsBCummulative = visitorsBDaily.apply(\n",
    "    lambda x: visitorsBDaily[visitorsBDaily['date'] <= x['date']].agg(\n",
    "        {'date': 'max', 'visitorsPerDateB': 'sum'}\n",
    "    ),\n",
    "    axis=1,\n",
    ")\n",
    "visitorsBCummulative.columns = ['date', 'visitorsCummulativeB']\n",
    "\n",
    "ordersADaily = (\n",
    "    orders[orders['group'] == 'A'][['date', 'transactionId', 'visitorId', 'revenue']]\n",
    "    .groupby('date', as_index=False)\n",
    "    .agg({'visitorId': pd.Series.nunique, 'revenue': 'sum'})\n",
    ")\n",
    "ordersADaily.columns = ['date', 'ordersPerDateA', 'revenuePerDateA']\n",
    "\n",
    "ordersACummulative = ordersADaily.apply(\n",
    "    lambda x: ordersADaily[ordersADaily['date'] <= x['date']].agg(\n",
    "        {'date': 'max', 'ordersPerDateA': 'sum', 'revenuePerDateA': 'sum'}\n",
    "    ),\n",
    "    axis=1,\n",
    ").sort_values(by=['date'])\n",
    "ordersACummulative.columns = [\n",
    "    'date',\n",
    "    'ordersCummulativeA',\n",
    "    'revenueCummulativeA',\n",
    "]\n",
    "\n",
    "ordersBDaily = (\n",
    "    orders[orders['group'] == 'B'][['date', 'transactionId', 'visitorId', 'revenue']]\n",
    "    .groupby('date', as_index=False)\n",
    "    .agg({'visitorId': pd.Series.nunique, 'revenue': 'sum'})\n",
    ")\n",
    "ordersBDaily.columns = ['date', 'ordersPerDateB', 'revenuePerDateB']\n",
    "\n",
    "ordersBCummulative = ordersBDaily.apply(\n",
    "    lambda x: ordersBDaily[ordersBDaily['date'] <= x['date']].agg(\n",
    "        {'date': 'max', 'ordersPerDateB': 'sum', 'revenuePerDateB': 'sum'}\n",
    "    ),\n",
    "    axis=1,\n",
    ").sort_values(by=['date'])\n",
    "ordersBCummulative.columns = [\n",
    "    'date',\n",
    "    'ordersCummulativeB',\n",
    "    'revenueCummulativeB',\n",
    "]\n",
    "\n",
    "data = (\n",
    "    ordersADaily.merge(\n",
    "        ordersBDaily, left_on='date', right_on='date', how='left'\n",
    "    )\n",
    "    .merge(ordersACummulative, left_on='date', right_on='date', how='left')\n",
    "    .merge(ordersBCummulative, left_on='date', right_on='date', how='left')\n",
    "    .merge(visitorsADaily, left_on='date', right_on='date', how='left')\n",
    "    .merge(visitorsBDaily, left_on='date', right_on='date', how='left')\n",
    "    .merge(visitorsACummulative, left_on='date', right_on='date', how='left')\n",
    "    .merge(visitorsBCummulative, left_on='date', right_on='date', how='left')\n",
    ")\n",
    "\n",
    "print(data.head(5))\n",
    "ordersByUsersA = (\n",
    "    orders[orders['group'] == 'A']\n",
    "    .groupby('visitorId', as_index=False)\n",
    "    .agg({'transactionId':pd.Series.nunique})\n",
    ")\n",
    "ordersByUsersA.columns = ['visitorId', 'orders']\n",
    "ordersByUsersB = (\n",
    "    orders[orders['group'] == 'B']\n",
    "    .groupby('visitorId', as_index=False)\n",
    "    .agg({'transactionId':pd.Series.nunique})\n",
    ")\n",
    "ordersByUsersB.columns = ['visitorId', 'orders']\n",
    "sampleA = pd.concat([ordersByUsersA['orders'],pd.Series(0, index=np.arange(data['visitorsPerDateA'].sum() - len(ordersByUsersA['orders'])), name='orders')],axis=0)\n",
    "\n",
    "sampleB = pd.concat([ordersByUsersB['orders'],pd.Series(0, index=np.arange(data['visitorsPerDateB'].sum() - len(ordersByUsersB['orders'])), name='orders')],axis=0)"
   ]
  },
  {
   "cell_type": "code",
   "execution_count": 22,
   "metadata": {
    "scrolled": true
   },
   "outputs": [
    {
     "name": "stdout",
     "output_type": "stream",
     "text": [
      "0.01679\n",
      "0.146\n"
     ]
    }
   ],
   "source": [
    "print(\"{0:.5f}\".format(stats.mannwhitneyu(sampleA, sampleB)[1]))\n",
    "\n",
    "\n",
    "print(\"{0:.3f}\".format((data['ordersPerDateB'].sum()/data['visitorsPerDateB'].sum())/(data['ordersPerDateA'].sum()/data['visitorsPerDateA'].sum())-1))"
   ]
  },
  {
   "cell_type": "markdown",
   "metadata": {},
   "source": [
    "В среднем количестве заказов между двумя группами есть статистически значимые различия. Относительный прирост среднего группы В к значению группы А равен 14.6%. P-value равно 0.01679, что меньше уровня значимости (0.05), то есть есть основания отвергать нулевую гипотезу, различия в среднем количестве заказов статистически значимы."
   ]
  },
  {
   "cell_type": "markdown",
   "metadata": {},
   "source": [
    "### Подсчет статистической значимости различий в среднем чеке заказа между группами по «сырым» данным"
   ]
  },
  {
   "cell_type": "markdown",
   "metadata": {},
   "source": [
    "Сформулируем нулевую гипотезу: различий в среднем чеке между группами нет. Альтернативная гипотеза -различия в среднем чеке между группами есть.\n",
    "\n",
    "Уровень значимости снова возьмем равным 0.05.\n",
    "\n",
    "Для проверки гипотезы будем также использовать критерий Манна-Уитни. К этому методу мы прибегаем, так как работа с самими значениями невозможна из-за выбросов, сильно сдвигающих параметрические результаты."
   ]
  },
  {
   "cell_type": "code",
   "execution_count": 23,
   "metadata": {},
   "outputs": [
    {
     "name": "stdout",
     "output_type": "stream",
     "text": [
      "0.729\n",
      "0.259\n"
     ]
    }
   ],
   "source": [
    "print('{0:.3f}'.format(stats.mannwhitneyu(orders[orders['group']=='A']['revenue'], orders[orders['group']=='B']['revenue'])[1]))\n",
    "print('{0:.3f}'.format(orders[orders['group']=='B']['revenue'].mean()/orders[orders['group']=='A']['revenue'].mean()-1))"
   ]
  },
  {
   "cell_type": "markdown",
   "metadata": {},
   "source": [
    "P-value больше 0.05, значит статистически значимых отличий в среднем чеке между группами А и В нет. Относительное различие между сегментами - 25.9%. Нет оснований отвергать нулевую гипотезу, то есть различий в среднем чеке между группами нет."
   ]
  },
  {
   "cell_type": "markdown",
   "metadata": {},
   "source": [
    "### Подсчет статистической значимости различий в среднем количестве заказов на посетителя между группами по «очищенным» данным"
   ]
  },
  {
   "cell_type": "markdown",
   "metadata": {},
   "source": [
    "Сформулируем нулевую гипотезу: различий в среднем количестве заказов на посетителя по \"очищенным\" данным между группами нет. Альтернативная гипотеза -различия в среднем количестве заказов между группами есть.\n",
    "\n",
    "Уровень значимости снова возьмем равным 0.05.\n",
    "\n",
    "Для проверки гипотезы будем также использовать критерий Манна-Уитни. Он используется для оценки различий между двумя независимыми выборками по уровню какого-либо признака, измеренного количественно."
   ]
  },
  {
   "cell_type": "markdown",
   "metadata": {},
   "source": [
    "Ранее мы определили, что границами для определения аномалий будут следующие значеня:\n",
    "- более 2 заказов;\n",
    "- сумма заказа более 28000\n",
    "\n",
    "Почистим данные, удалив аномалии:"
   ]
  },
  {
   "cell_type": "code",
   "execution_count": 24,
   "metadata": {},
   "outputs": [],
   "source": [
    "# подготовим данные \n",
    "usersWithManyOrders = pd.concat(\n",
    "    [\n",
    "        ordersByUsersA[ordersByUsersA['orders'] > np.percentile(ordersByUsers['orders'], 95)]['visitorId'],\n",
    "        ordersByUsersB[ordersByUsersB['orders'] > np.percentile(ordersByUsers['orders'], 95)]['visitorId'],\n",
    "    ],\n",
    "    axis=0,\n",
    ")\n",
    "usersWithExpensiveOrders = orders[orders['revenue'] > np.percentile(orders['revenue'], 95)]['visitorId']\n",
    "abnormalUsers = (\n",
    "    pd.concat([usersWithManyOrders, usersWithExpensiveOrders], axis=0)\n",
    "    .drop_duplicates()\n",
    "    .sort_values()\n",
    ")\n",
    "sampleAFiltered = pd.concat(\n",
    "    [\n",
    "        ordersByUsersA[\n",
    "            np.logical_not(ordersByUsersA['visitorId'].isin(abnormalUsers))\n",
    "        ]['orders'],\n",
    "        pd.Series(\n",
    "            0,\n",
    "            index=np.arange(\n",
    "                data['visitorsPerDateA'].sum() - len(ordersByUsersA['orders'])\n",
    "            ),\n",
    "            name='orders',\n",
    "        ),\n",
    "    ],\n",
    "    axis=0,\n",
    ")\n",
    "\n",
    "sampleBFiltered = pd.concat(\n",
    "    [\n",
    "        ordersByUsersB[\n",
    "            np.logical_not(ordersByUsersB['visitorId'].isin(abnormalUsers))\n",
    "        ]['orders'],\n",
    "        pd.Series(\n",
    "            0,\n",
    "            index=np.arange(\n",
    "                data['visitorsPerDateB'].sum() - len(ordersByUsersB['orders'])\n",
    "            ),\n",
    "            name='orders',\n",
    "        ),\n",
    "    ],\n",
    "    axis=0,\n",
    ")"
   ]
  },
  {
   "cell_type": "code",
   "execution_count": 25,
   "metadata": {
    "scrolled": true
   },
   "outputs": [
    {
     "name": "stdout",
     "output_type": "stream",
     "text": [
      "0.01304\n",
      "0.173\n"
     ]
    }
   ],
   "source": [
    "# подсчет p-value и прироста конверсии\n",
    "print('{0:.5f}'.format(stats.mannwhitneyu(sampleAFiltered, sampleBFiltered)[1]))\n",
    "print('{0:.3f}'.format(sampleBFiltered.mean()/sampleAFiltered.mean()-1))"
   ]
  },
  {
   "cell_type": "markdown",
   "metadata": {},
   "source": [
    "В среднем количестве заказов между двумя группами есть статистически значимые различия, как и по сырым данным. Относительный прирост среднего группы В к конверсии группы А равен 17.3%. P-value равно 0.01304, что меньше уровня значимости (0.05), то есть есть основания отвергать нулевую гипотезу, различия в конверсии снова статистически значимы. Сегмент В значительно лучше сегмента А."
   ]
  },
  {
   "cell_type": "markdown",
   "metadata": {},
   "source": [
    "### Подсчет статистической значимости различий в среднем чеке заказа между группами по «очищенным» данным"
   ]
  },
  {
   "cell_type": "markdown",
   "metadata": {},
   "source": [
    "Сформулируем нулевую гипотезу: различий в среднем чеке заказа по \"очищенным\" данным между группами нет. Альтернативная гипотеза -различия в среднем чеке заказа между группами есть.\n",
    "\n",
    "Уровень значимости снова возьмем равным 0.05.\n",
    "\n",
    "Для проверки гипотезы будем также использовать критерий Манна-Уитни. Он используется для оценки различий между двумя независимыми выборками по уровню какого-либо признака, измеренного количественно."
   ]
  },
  {
   "cell_type": "code",
   "execution_count": 26,
   "metadata": {
    "scrolled": true
   },
   "outputs": [
    {
     "name": "stdout",
     "output_type": "stream",
     "text": [
      "0.738\n",
      "-0.020\n"
     ]
    }
   ],
   "source": [
    "print(\n",
    "    '{0:.3f}'.format(\n",
    "        stats.mannwhitneyu(\n",
    "            orders[\n",
    "                np.logical_and(\n",
    "                    orders['group'] == 'A',\n",
    "                    np.logical_not(orders['visitorId'].isin(abnormalUsers)),\n",
    "                )\n",
    "            ]['revenue'],\n",
    "            orders[\n",
    "                np.logical_and(\n",
    "                    orders['group'] == 'B',\n",
    "                    np.logical_not(orders['visitorId'].isin(abnormalUsers)),\n",
    "                )\n",
    "            ]['revenue'],\n",
    "        )[1]\n",
    "    )\n",
    ")\n",
    "\n",
    "print(\n",
    "    \"{0:.3f}\".format(\n",
    "        orders[\n",
    "            np.logical_and(\n",
    "                orders['group'] == 'B',\n",
    "                np.logical_not(orders['visitorId'].isin(abnormalUsers)),\n",
    "            )\n",
    "        ]['revenue'].mean()\n",
    "        / orders[\n",
    "            np.logical_and(\n",
    "                orders['group'] == 'A',\n",
    "                np.logical_not(orders['visitorId'].isin(abnormalUsers)),\n",
    "            )\n",
    "        ]['revenue'].mean()\n",
    "        - 1\n",
    "    )\n",
    ")"
   ]
  },
  {
   "cell_type": "markdown",
   "metadata": {},
   "source": [
    "Относительное различие между сегментами близко к нулю (-2%). P-value значительно больше 0.05, то есть нет оснований отвергнуть нулевую гипотезу, значит статистически значимых отличий в среднем чеке между группами А и В нет."
   ]
  },
  {
   "cell_type": "markdown",
   "metadata": {},
   "source": [
    "### Принятие решения"
   ]
  },
  {
   "cell_type": "markdown",
   "metadata": {},
   "source": [
    "Промежуточные выводы по анализу А/В-теста:\n",
    "1. Есть статистически значимое различие по конверсии между группами как по сырым данным, так и после фильтрации аномалий.\n",
    "2. Статистически значимых отличий по среднему чеку как по сырым данным, так и после удаления аномалий нет. \n",
    "3. График различия конверсии между группами сообщает, что результаты группы B лучше группы A: имеют тенденцию к росту, либо зафиксировались около среднего значения (0.1).\n",
    "4. График различия среднего чека колеблется: он-то и позволил нам найти аномалии. Сделать из этого графика определённые выводы нельзя.\n",
    "\n",
    "Таким образом, тест можно считать успешным. Рекомендую остановить тест, признать его успешным и перейти к проверке следующей гипотезы. Признаем победу группы В. "
   ]
  }
 ],
 "metadata": {
  "ExecuteTimeLog": [
   {
    "duration": 196,
    "start_time": "2023-10-14T15:17:56.635Z"
   },
   {
    "duration": 420,
    "start_time": "2023-10-14T15:18:07.147Z"
   },
   {
    "duration": 72,
    "start_time": "2023-10-14T15:18:42.391Z"
   },
   {
    "duration": 35,
    "start_time": "2023-10-14T15:21:20.560Z"
   },
   {
    "duration": 6,
    "start_time": "2023-10-14T16:28:08.176Z"
   },
   {
    "duration": 10,
    "start_time": "2023-10-14T16:28:20.065Z"
   },
   {
    "duration": 9,
    "start_time": "2023-10-14T16:29:33.965Z"
   },
   {
    "duration": 13,
    "start_time": "2023-10-14T16:43:44.707Z"
   },
   {
    "duration": 2,
    "start_time": "2023-10-14T17:15:27.913Z"
   },
   {
    "duration": 3,
    "start_time": "2023-10-14T17:16:00.623Z"
   },
   {
    "duration": 142,
    "start_time": "2023-10-14T17:19:50.306Z"
   },
   {
    "duration": 80,
    "start_time": "2023-10-14T17:21:07.499Z"
   },
   {
    "duration": 8,
    "start_time": "2023-10-14T17:21:22.440Z"
   },
   {
    "duration": 18,
    "start_time": "2023-10-14T17:21:45.661Z"
   },
   {
    "duration": 18,
    "start_time": "2023-10-14T17:23:03.748Z"
   },
   {
    "duration": 12,
    "start_time": "2023-10-14T17:30:00.042Z"
   },
   {
    "duration": 82,
    "start_time": "2023-10-14T17:30:07.316Z"
   },
   {
    "duration": 5,
    "start_time": "2023-10-14T17:30:13.868Z"
   },
   {
    "duration": 8,
    "start_time": "2023-10-14T17:30:17.522Z"
   },
   {
    "duration": 15,
    "start_time": "2023-10-14T17:30:26.812Z"
   },
   {
    "duration": 25,
    "start_time": "2023-10-14T17:33:32.146Z"
   },
   {
    "duration": 6,
    "start_time": "2023-10-14T17:33:43.212Z"
   },
   {
    "duration": 6,
    "start_time": "2023-10-14T17:33:46.385Z"
   },
   {
    "duration": 7,
    "start_time": "2023-10-14T17:34:20.258Z"
   },
   {
    "duration": 9,
    "start_time": "2023-10-14T17:34:39.687Z"
   },
   {
    "duration": 6,
    "start_time": "2023-10-14T17:35:33.676Z"
   },
   {
    "duration": 10,
    "start_time": "2023-10-14T17:35:48.800Z"
   },
   {
    "duration": 407,
    "start_time": "2023-10-16T18:24:36.114Z"
   },
   {
    "duration": 139,
    "start_time": "2023-10-16T18:24:36.523Z"
   },
   {
    "duration": 22,
    "start_time": "2023-10-16T18:24:36.664Z"
   },
   {
    "duration": 24,
    "start_time": "2023-10-16T18:24:36.689Z"
   },
   {
    "duration": 15,
    "start_time": "2023-10-16T18:24:36.715Z"
   },
   {
    "duration": 17,
    "start_time": "2023-10-16T18:24:36.731Z"
   },
   {
    "duration": 14,
    "start_time": "2023-10-16T18:24:36.749Z"
   },
   {
    "duration": 53,
    "start_time": "2023-10-16T18:24:36.765Z"
   },
   {
    "duration": 11,
    "start_time": "2023-10-16T18:24:36.819Z"
   },
   {
    "duration": 26,
    "start_time": "2023-10-16T18:24:36.833Z"
   },
   {
    "duration": 109,
    "start_time": "2023-10-16T18:36:06.322Z"
   },
   {
    "duration": 90,
    "start_time": "2023-10-16T18:40:47.438Z"
   },
   {
    "duration": 117,
    "start_time": "2023-10-16T18:42:16.671Z"
   },
   {
    "duration": 93,
    "start_time": "2023-10-16T18:44:01.023Z"
   },
   {
    "duration": 10,
    "start_time": "2023-10-16T18:44:07.598Z"
   },
   {
    "duration": 2,
    "start_time": "2023-10-16T18:44:14.469Z"
   },
   {
    "duration": 93,
    "start_time": "2023-10-16T18:44:18.082Z"
   },
   {
    "duration": 292,
    "start_time": "2023-10-16T18:44:19.903Z"
   },
   {
    "duration": 282,
    "start_time": "2023-10-16T18:44:30.673Z"
   },
   {
    "duration": 22,
    "start_time": "2023-10-16T18:49:18.021Z"
   },
   {
    "duration": 436,
    "start_time": "2023-10-16T18:49:39.932Z"
   },
   {
    "duration": 266,
    "start_time": "2023-10-16T18:49:44.813Z"
   },
   {
    "duration": 24,
    "start_time": "2023-10-16T18:51:57.999Z"
   },
   {
    "duration": 194,
    "start_time": "2023-10-16T18:52:17.592Z"
   },
   {
    "duration": 13,
    "start_time": "2023-10-16T18:53:15.613Z"
   },
   {
    "duration": 256,
    "start_time": "2023-10-16T18:53:35.311Z"
   },
   {
    "duration": 241,
    "start_time": "2023-10-16T18:53:53.622Z"
   },
   {
    "duration": 244,
    "start_time": "2023-10-16T18:54:01.437Z"
   },
   {
    "duration": 258,
    "start_time": "2023-10-16T18:54:05.888Z"
   },
   {
    "duration": 199,
    "start_time": "2023-10-16T18:54:12.760Z"
   },
   {
    "duration": 222,
    "start_time": "2023-10-16T18:54:25.282Z"
   },
   {
    "duration": 193,
    "start_time": "2023-10-16T18:54:35.366Z"
   },
   {
    "duration": 207,
    "start_time": "2023-10-16T18:54:52.531Z"
   },
   {
    "duration": 226,
    "start_time": "2023-10-16T18:54:58.077Z"
   },
   {
    "duration": 229,
    "start_time": "2023-10-16T18:55:06.917Z"
   },
   {
    "duration": 203,
    "start_time": "2023-10-16T18:55:12.468Z"
   },
   {
    "duration": 347,
    "start_time": "2023-10-16T19:02:09.484Z"
   },
   {
    "duration": 192,
    "start_time": "2023-10-16T19:02:34.262Z"
   },
   {
    "duration": 367,
    "start_time": "2023-10-16T19:12:34.388Z"
   },
   {
    "duration": 366,
    "start_time": "2023-10-16T19:14:02.131Z"
   },
   {
    "duration": 300,
    "start_time": "2023-10-16T19:14:07.336Z"
   },
   {
    "duration": 6,
    "start_time": "2023-10-16T19:18:52.418Z"
   },
   {
    "duration": 14,
    "start_time": "2023-10-16T19:18:58.452Z"
   },
   {
    "duration": 18,
    "start_time": "2023-10-16T19:19:03.206Z"
   },
   {
    "duration": 16,
    "start_time": "2023-10-16T19:20:24.790Z"
   },
   {
    "duration": 179,
    "start_time": "2023-10-16T19:21:13.117Z"
   },
   {
    "duration": 218,
    "start_time": "2023-10-16T19:21:26.821Z"
   },
   {
    "duration": 223,
    "start_time": "2023-10-16T19:22:45.627Z"
   },
   {
    "duration": 324,
    "start_time": "2023-10-16T19:30:41.597Z"
   },
   {
    "duration": 365,
    "start_time": "2023-10-16T19:31:36.304Z"
   },
   {
    "duration": 322,
    "start_time": "2023-10-16T19:31:59.117Z"
   },
   {
    "duration": 458,
    "start_time": "2023-10-16T19:32:07.303Z"
   },
   {
    "duration": 316,
    "start_time": "2023-10-16T19:34:29.919Z"
   },
   {
    "duration": 152,
    "start_time": "2023-10-16T19:43:10.101Z"
   },
   {
    "duration": 1208,
    "start_time": "2023-10-16T19:48:43.719Z"
   },
   {
    "duration": 5,
    "start_time": "2023-10-16T19:49:07.365Z"
   },
   {
    "duration": 187,
    "start_time": "2023-10-16T19:56:34.924Z"
   },
   {
    "duration": 155,
    "start_time": "2023-10-16T19:57:12.880Z"
   },
   {
    "duration": 136,
    "start_time": "2023-10-16T19:57:21.059Z"
   },
   {
    "duration": 139,
    "start_time": "2023-10-16T19:57:28.219Z"
   },
   {
    "duration": 136,
    "start_time": "2023-10-16T19:57:33.159Z"
   },
   {
    "duration": 168,
    "start_time": "2023-10-16T19:57:42.990Z"
   },
   {
    "duration": 152,
    "start_time": "2023-10-16T19:57:49.337Z"
   },
   {
    "duration": 7,
    "start_time": "2023-10-16T20:01:27.825Z"
   },
   {
    "duration": 6,
    "start_time": "2023-10-16T20:01:34.822Z"
   },
   {
    "duration": 1590,
    "start_time": "2023-10-16T20:01:44.409Z"
   },
   {
    "duration": 6,
    "start_time": "2023-10-16T20:01:55.664Z"
   },
   {
    "duration": 183,
    "start_time": "2023-10-16T20:06:15.022Z"
   },
   {
    "duration": 144,
    "start_time": "2023-10-16T20:06:47.945Z"
   },
   {
    "duration": 178,
    "start_time": "2023-10-16T20:06:56.965Z"
   },
   {
    "duration": 107,
    "start_time": "2023-10-17T06:35:51.815Z"
   },
   {
    "duration": 150,
    "start_time": "2023-10-17T06:36:08.301Z"
   },
   {
    "duration": 115,
    "start_time": "2023-10-17T06:36:13.062Z"
   },
   {
    "duration": 57,
    "start_time": "2023-10-17T06:36:17.584Z"
   },
   {
    "duration": 1272,
    "start_time": "2023-10-17T06:36:25.012Z"
   },
   {
    "duration": 300,
    "start_time": "2023-10-17T06:36:26.287Z"
   },
   {
    "duration": 20,
    "start_time": "2023-10-17T06:36:26.589Z"
   },
   {
    "duration": 32,
    "start_time": "2023-10-17T06:36:26.612Z"
   },
   {
    "duration": 18,
    "start_time": "2023-10-17T06:36:26.646Z"
   },
   {
    "duration": 15,
    "start_time": "2023-10-17T06:36:26.668Z"
   },
   {
    "duration": 18,
    "start_time": "2023-10-17T06:36:26.685Z"
   },
   {
    "duration": 114,
    "start_time": "2023-10-17T06:36:26.707Z"
   },
   {
    "duration": 24,
    "start_time": "2023-10-17T06:36:26.828Z"
   },
   {
    "duration": 21,
    "start_time": "2023-10-17T06:36:26.864Z"
   },
   {
    "duration": 385,
    "start_time": "2023-10-17T06:36:26.891Z"
   },
   {
    "duration": 368,
    "start_time": "2023-10-17T06:36:27.279Z"
   },
   {
    "duration": 297,
    "start_time": "2023-10-17T06:36:27.649Z"
   },
   {
    "duration": 444,
    "start_time": "2023-10-17T06:36:27.949Z"
   },
   {
    "duration": 383,
    "start_time": "2023-10-17T06:36:28.400Z"
   },
   {
    "duration": 441,
    "start_time": "2023-10-17T06:36:28.785Z"
   },
   {
    "duration": 215,
    "start_time": "2023-10-17T06:36:29.228Z"
   },
   {
    "duration": 7,
    "start_time": "2023-10-17T06:36:29.445Z"
   },
   {
    "duration": 310,
    "start_time": "2023-10-17T06:36:29.454Z"
   },
   {
    "duration": 15,
    "start_time": "2023-10-17T06:36:29.766Z"
   },
   {
    "duration": 2455,
    "start_time": "2023-10-17T06:36:29.783Z"
   },
   {
    "duration": 1927,
    "start_time": "2023-10-17T06:36:32.552Z"
   },
   {
    "duration": 21,
    "start_time": "2023-10-17T06:37:26.950Z"
   },
   {
    "duration": 48,
    "start_time": "2023-10-17T06:37:35.720Z"
   },
   {
    "duration": 11,
    "start_time": "2023-10-17T06:39:32.568Z"
   },
   {
    "duration": 379,
    "start_time": "2023-10-17T06:47:24.896Z"
   },
   {
    "duration": 401,
    "start_time": "2023-10-17T06:48:19.515Z"
   },
   {
    "duration": 13,
    "start_time": "2023-10-17T06:49:29.390Z"
   },
   {
    "duration": 428,
    "start_time": "2023-10-17T06:49:35.168Z"
   },
   {
    "duration": 26,
    "start_time": "2023-10-17T06:49:38.482Z"
   },
   {
    "duration": 12,
    "start_time": "2023-10-17T06:56:40.779Z"
   },
   {
    "duration": 1394,
    "start_time": "2023-10-17T07:05:40.137Z"
   },
   {
    "duration": 10,
    "start_time": "2023-10-17T07:06:03.162Z"
   },
   {
    "duration": 15,
    "start_time": "2023-10-17T07:06:16.500Z"
   },
   {
    "duration": 17,
    "start_time": "2023-10-17T07:07:40.175Z"
   },
   {
    "duration": 12,
    "start_time": "2023-10-17T07:07:48.188Z"
   },
   {
    "duration": 43,
    "start_time": "2023-10-17T07:08:09.924Z"
   },
   {
    "duration": 53,
    "start_time": "2023-10-17T07:09:09.718Z"
   },
   {
    "duration": 15,
    "start_time": "2023-10-17T07:13:58.074Z"
   },
   {
    "duration": 16,
    "start_time": "2023-10-17T07:18:22.906Z"
   },
   {
    "duration": 41,
    "start_time": "2023-10-17T07:18:24.712Z"
   },
   {
    "duration": 15,
    "start_time": "2023-10-17T07:18:49.083Z"
   },
   {
    "duration": 27,
    "start_time": "2023-10-17T07:20:42.273Z"
   },
   {
    "duration": 62,
    "start_time": "2023-10-17T07:20:42.302Z"
   },
   {
    "duration": 14,
    "start_time": "2023-10-17T07:20:53.253Z"
   },
   {
    "duration": 14,
    "start_time": "2023-10-17T07:21:10.861Z"
   },
   {
    "duration": 25,
    "start_time": "2023-10-17T07:21:12.486Z"
   },
   {
    "duration": 14,
    "start_time": "2023-10-17T07:21:54.602Z"
   },
   {
    "duration": 1166,
    "start_time": "2023-10-17T08:32:25.841Z"
   },
   {
    "duration": 65,
    "start_time": "2023-10-17T08:32:27.009Z"
   },
   {
    "duration": 13,
    "start_time": "2023-10-17T08:32:27.076Z"
   },
   {
    "duration": 18,
    "start_time": "2023-10-17T08:32:27.090Z"
   },
   {
    "duration": 10,
    "start_time": "2023-10-17T08:32:27.110Z"
   },
   {
    "duration": 24,
    "start_time": "2023-10-17T08:32:27.122Z"
   },
   {
    "duration": 10,
    "start_time": "2023-10-17T08:32:27.147Z"
   },
   {
    "duration": 27,
    "start_time": "2023-10-17T08:32:27.158Z"
   },
   {
    "duration": 9,
    "start_time": "2023-10-17T08:32:27.186Z"
   },
   {
    "duration": 11,
    "start_time": "2023-10-17T08:32:27.196Z"
   },
   {
    "duration": 300,
    "start_time": "2023-10-17T08:32:27.209Z"
   },
   {
    "duration": 301,
    "start_time": "2023-10-17T08:32:27.511Z"
   },
   {
    "duration": 205,
    "start_time": "2023-10-17T08:32:27.814Z"
   },
   {
    "duration": 333,
    "start_time": "2023-10-17T08:32:28.032Z"
   },
   {
    "duration": 226,
    "start_time": "2023-10-17T08:32:28.367Z"
   },
   {
    "duration": 388,
    "start_time": "2023-10-17T08:32:28.595Z"
   },
   {
    "duration": 151,
    "start_time": "2023-10-17T08:32:28.985Z"
   },
   {
    "duration": 5,
    "start_time": "2023-10-17T08:32:29.138Z"
   },
   {
    "duration": 166,
    "start_time": "2023-10-17T08:32:29.145Z"
   },
   {
    "duration": 15,
    "start_time": "2023-10-17T08:32:29.312Z"
   },
   {
    "duration": 360,
    "start_time": "2023-10-17T08:32:29.329Z"
   },
   {
    "duration": 25,
    "start_time": "2023-10-17T08:32:29.691Z"
   },
   {
    "duration": 14,
    "start_time": "2023-10-17T08:32:29.729Z"
   },
   {
    "duration": 22,
    "start_time": "2023-10-17T08:32:29.745Z"
   },
   {
    "duration": 28,
    "start_time": "2023-10-17T08:32:29.769Z"
   },
   {
    "duration": 14,
    "start_time": "2023-10-17T08:32:29.798Z"
   },
   {
    "duration": 418,
    "start_time": "2023-10-17T08:42:20.174Z"
   },
   {
    "duration": 1128,
    "start_time": "2023-10-17T08:42:26.180Z"
   },
   {
    "duration": 69,
    "start_time": "2023-10-17T08:42:27.313Z"
   },
   {
    "duration": 15,
    "start_time": "2023-10-17T08:42:27.384Z"
   },
   {
    "duration": 20,
    "start_time": "2023-10-17T08:42:27.401Z"
   },
   {
    "duration": 17,
    "start_time": "2023-10-17T08:42:27.425Z"
   },
   {
    "duration": 16,
    "start_time": "2023-10-17T08:42:27.444Z"
   },
   {
    "duration": 24,
    "start_time": "2023-10-17T08:42:27.462Z"
   },
   {
    "duration": 33,
    "start_time": "2023-10-17T08:42:27.487Z"
   },
   {
    "duration": 22,
    "start_time": "2023-10-17T08:42:27.522Z"
   },
   {
    "duration": 8,
    "start_time": "2023-10-17T08:42:27.545Z"
   },
   {
    "duration": 304,
    "start_time": "2023-10-17T08:42:27.555Z"
   },
   {
    "duration": 309,
    "start_time": "2023-10-17T08:42:27.861Z"
   },
   {
    "duration": 228,
    "start_time": "2023-10-17T08:42:28.172Z"
   },
   {
    "duration": 342,
    "start_time": "2023-10-17T08:42:28.402Z"
   },
   {
    "duration": 249,
    "start_time": "2023-10-17T08:42:28.746Z"
   },
   {
    "duration": 408,
    "start_time": "2023-10-17T08:42:28.996Z"
   },
   {
    "duration": 149,
    "start_time": "2023-10-17T08:42:29.405Z"
   },
   {
    "duration": 5,
    "start_time": "2023-10-17T08:42:29.556Z"
   },
   {
    "duration": 173,
    "start_time": "2023-10-17T08:42:29.563Z"
   },
   {
    "duration": 5,
    "start_time": "2023-10-17T08:42:29.738Z"
   },
   {
    "duration": 391,
    "start_time": "2023-10-17T08:42:29.746Z"
   },
   {
    "duration": 24,
    "start_time": "2023-10-17T08:42:30.140Z"
   },
   {
    "duration": 107,
    "start_time": "2023-10-17T08:42:30.166Z"
   },
   {
    "duration": 276,
    "start_time": "2023-10-17T08:42:30.276Z"
   },
   {
    "duration": 93,
    "start_time": "2023-10-17T08:42:30.555Z"
   },
   {
    "duration": 14,
    "start_time": "2023-10-17T08:42:30.650Z"
   },
   {
    "duration": 1291,
    "start_time": "2023-10-17T10:21:35.474Z"
   },
   {
    "duration": 148,
    "start_time": "2023-10-17T10:21:36.766Z"
   },
   {
    "duration": 14,
    "start_time": "2023-10-17T10:21:36.915Z"
   },
   {
    "duration": 35,
    "start_time": "2023-10-17T10:21:36.931Z"
   },
   {
    "duration": 14,
    "start_time": "2023-10-17T10:21:36.967Z"
   },
   {
    "duration": 15,
    "start_time": "2023-10-17T10:21:36.983Z"
   },
   {
    "duration": 9,
    "start_time": "2023-10-17T10:21:37.000Z"
   },
   {
    "duration": 66,
    "start_time": "2023-10-17T10:21:37.010Z"
   },
   {
    "duration": 11,
    "start_time": "2023-10-17T10:21:37.078Z"
   },
   {
    "duration": 8,
    "start_time": "2023-10-17T10:21:37.092Z"
   },
   {
    "duration": 283,
    "start_time": "2023-10-17T10:21:37.101Z"
   },
   {
    "duration": 313,
    "start_time": "2023-10-17T10:21:37.385Z"
   },
   {
    "duration": 204,
    "start_time": "2023-10-17T10:21:37.699Z"
   },
   {
    "duration": 399,
    "start_time": "2023-10-17T10:21:37.905Z"
   },
   {
    "duration": 218,
    "start_time": "2023-10-17T10:21:38.306Z"
   },
   {
    "duration": 356,
    "start_time": "2023-10-17T10:21:38.526Z"
   },
   {
    "duration": 146,
    "start_time": "2023-10-17T10:21:38.883Z"
   },
   {
    "duration": 19,
    "start_time": "2023-10-17T10:21:39.031Z"
   },
   {
    "duration": 153,
    "start_time": "2023-10-17T10:21:39.052Z"
   },
   {
    "duration": 4,
    "start_time": "2023-10-17T10:21:39.207Z"
   },
   {
    "duration": 439,
    "start_time": "2023-10-17T10:21:39.213Z"
   },
   {
    "duration": 27,
    "start_time": "2023-10-17T10:21:39.665Z"
   },
   {
    "duration": 14,
    "start_time": "2023-10-17T10:21:39.694Z"
   },
   {
    "duration": 16,
    "start_time": "2023-10-17T10:21:39.710Z"
   },
   {
    "duration": 53,
    "start_time": "2023-10-17T10:21:39.727Z"
   },
   {
    "duration": 17,
    "start_time": "2023-10-17T10:21:39.785Z"
   },
   {
    "duration": 244,
    "start_time": "2023-10-17T10:21:53.776Z"
   },
   {
    "duration": 188,
    "start_time": "2023-10-17T10:22:00.751Z"
   },
   {
    "duration": 209,
    "start_time": "2023-10-17T10:22:04.721Z"
   },
   {
    "duration": 211,
    "start_time": "2023-10-17T10:22:17.231Z"
   },
   {
    "duration": 220,
    "start_time": "2023-10-17T10:22:44.849Z"
   },
   {
    "duration": 333,
    "start_time": "2023-10-17T10:23:14.944Z"
   },
   {
    "duration": 317,
    "start_time": "2023-10-17T10:24:15.569Z"
   },
   {
    "duration": 252,
    "start_time": "2023-10-17T10:25:02.124Z"
   },
   {
    "duration": 359,
    "start_time": "2023-10-17T10:27:59.675Z"
   },
   {
    "duration": 317,
    "start_time": "2023-10-17T10:28:05.588Z"
   },
   {
    "duration": 313,
    "start_time": "2023-10-17T10:28:11.269Z"
   },
   {
    "duration": 307,
    "start_time": "2023-10-17T10:29:02.889Z"
   },
   {
    "duration": 368,
    "start_time": "2023-10-17T10:29:17.524Z"
   },
   {
    "duration": 154,
    "start_time": "2023-10-17T10:31:51.772Z"
   },
   {
    "duration": 160,
    "start_time": "2023-10-17T10:33:25.137Z"
   },
   {
    "duration": 156,
    "start_time": "2023-10-17T10:33:32.902Z"
   },
   {
    "duration": 165,
    "start_time": "2023-10-17T10:35:12.799Z"
   },
   {
    "duration": 60,
    "start_time": "2023-10-17T15:37:06.803Z"
   },
   {
    "duration": 1368,
    "start_time": "2023-10-17T15:37:12.254Z"
   },
   {
    "duration": 148,
    "start_time": "2023-10-17T15:37:13.624Z"
   },
   {
    "duration": 14,
    "start_time": "2023-10-17T15:37:13.774Z"
   },
   {
    "duration": 23,
    "start_time": "2023-10-17T15:37:13.789Z"
   },
   {
    "duration": 6,
    "start_time": "2023-10-17T15:37:13.815Z"
   },
   {
    "duration": 23,
    "start_time": "2023-10-17T15:37:13.823Z"
   },
   {
    "duration": 12,
    "start_time": "2023-10-17T15:37:13.855Z"
   },
   {
    "duration": 71,
    "start_time": "2023-10-17T15:37:13.870Z"
   },
   {
    "duration": 23,
    "start_time": "2023-10-17T15:37:13.943Z"
   },
   {
    "duration": 9,
    "start_time": "2023-10-17T15:37:13.968Z"
   },
   {
    "duration": 368,
    "start_time": "2023-10-17T15:37:13.978Z"
   },
   {
    "duration": 336,
    "start_time": "2023-10-17T15:37:14.354Z"
   },
   {
    "duration": 225,
    "start_time": "2023-10-17T15:37:14.691Z"
   },
   {
    "duration": 405,
    "start_time": "2023-10-17T15:37:14.919Z"
   },
   {
    "duration": 250,
    "start_time": "2023-10-17T15:37:15.326Z"
   },
   {
    "duration": 321,
    "start_time": "2023-10-17T15:37:15.577Z"
   },
   {
    "duration": 173,
    "start_time": "2023-10-17T15:37:15.900Z"
   },
   {
    "duration": 7,
    "start_time": "2023-10-17T15:37:16.075Z"
   },
   {
    "duration": 225,
    "start_time": "2023-10-17T15:37:16.084Z"
   },
   {
    "duration": 8,
    "start_time": "2023-10-17T15:37:16.311Z"
   },
   {
    "duration": 364,
    "start_time": "2023-10-17T15:37:16.321Z"
   },
   {
    "duration": 40,
    "start_time": "2023-10-17T15:37:16.687Z"
   },
   {
    "duration": 31,
    "start_time": "2023-10-17T15:37:16.729Z"
   },
   {
    "duration": 14,
    "start_time": "2023-10-17T15:37:16.762Z"
   },
   {
    "duration": 63,
    "start_time": "2023-10-17T15:37:16.778Z"
   },
   {
    "duration": 21,
    "start_time": "2023-10-17T15:37:16.842Z"
   },
   {
    "duration": 15,
    "start_time": "2023-10-17T15:50:09.534Z"
   },
   {
    "duration": 49,
    "start_time": "2023-10-17T15:50:17.558Z"
   },
   {
    "duration": 15,
    "start_time": "2023-10-17T15:51:24.896Z"
   },
   {
    "duration": 1229,
    "start_time": "2023-10-17T16:04:51.475Z"
   },
   {
    "duration": 146,
    "start_time": "2023-10-17T16:04:52.706Z"
   },
   {
    "duration": 13,
    "start_time": "2023-10-17T16:04:52.853Z"
   },
   {
    "duration": 15,
    "start_time": "2023-10-17T16:04:52.867Z"
   },
   {
    "duration": 16,
    "start_time": "2023-10-17T16:04:52.884Z"
   },
   {
    "duration": 19,
    "start_time": "2023-10-17T16:04:52.902Z"
   },
   {
    "duration": 9,
    "start_time": "2023-10-17T16:04:52.923Z"
   },
   {
    "duration": 56,
    "start_time": "2023-10-17T16:04:52.933Z"
   },
   {
    "duration": 8,
    "start_time": "2023-10-17T16:04:52.990Z"
   },
   {
    "duration": 15,
    "start_time": "2023-10-17T16:04:52.999Z"
   },
   {
    "duration": 277,
    "start_time": "2023-10-17T16:04:53.015Z"
   },
   {
    "duration": 287,
    "start_time": "2023-10-17T16:04:53.293Z"
   },
   {
    "duration": 229,
    "start_time": "2023-10-17T16:04:53.582Z"
   },
   {
    "duration": 367,
    "start_time": "2023-10-17T16:04:53.813Z"
   },
   {
    "duration": 207,
    "start_time": "2023-10-17T16:04:54.182Z"
   },
   {
    "duration": 276,
    "start_time": "2023-10-17T16:04:54.390Z"
   },
   {
    "duration": 124,
    "start_time": "2023-10-17T16:04:54.668Z"
   },
   {
    "duration": 5,
    "start_time": "2023-10-17T16:04:54.793Z"
   },
   {
    "duration": 144,
    "start_time": "2023-10-17T16:04:54.799Z"
   },
   {
    "duration": 4,
    "start_time": "2023-10-17T16:04:54.945Z"
   },
   {
    "duration": 330,
    "start_time": "2023-10-17T16:04:54.950Z"
   },
   {
    "duration": 21,
    "start_time": "2023-10-17T16:04:55.282Z"
   },
   {
    "duration": 12,
    "start_time": "2023-10-17T16:04:55.304Z"
   },
   {
    "duration": 27,
    "start_time": "2023-10-17T16:04:55.318Z"
   },
   {
    "duration": 20,
    "start_time": "2023-10-17T16:04:55.347Z"
   },
   {
    "duration": 13,
    "start_time": "2023-10-17T16:04:55.368Z"
   },
   {
    "duration": 1328,
    "start_time": "2023-10-17T18:28:54.411Z"
   },
   {
    "duration": 154,
    "start_time": "2023-10-17T18:28:55.742Z"
   },
   {
    "duration": 16,
    "start_time": "2023-10-17T18:28:55.898Z"
   },
   {
    "duration": 32,
    "start_time": "2023-10-17T18:28:55.916Z"
   },
   {
    "duration": 53,
    "start_time": "2023-10-17T18:28:55.950Z"
   },
   {
    "duration": 34,
    "start_time": "2023-10-17T18:28:56.005Z"
   },
   {
    "duration": 25,
    "start_time": "2023-10-17T18:28:56.042Z"
   },
   {
    "duration": 88,
    "start_time": "2023-10-17T18:28:56.070Z"
   },
   {
    "duration": 10,
    "start_time": "2023-10-17T18:28:56.159Z"
   },
   {
    "duration": 18,
    "start_time": "2023-10-17T18:28:56.172Z"
   },
   {
    "duration": 362,
    "start_time": "2023-10-17T18:28:56.192Z"
   },
   {
    "duration": 311,
    "start_time": "2023-10-17T18:28:56.556Z"
   },
   {
    "duration": 268,
    "start_time": "2023-10-17T18:28:56.869Z"
   },
   {
    "duration": 353,
    "start_time": "2023-10-17T18:28:57.139Z"
   },
   {
    "duration": 238,
    "start_time": "2023-10-17T18:28:57.494Z"
   },
   {
    "duration": 343,
    "start_time": "2023-10-17T18:28:57.738Z"
   },
   {
    "duration": 159,
    "start_time": "2023-10-17T18:28:58.083Z"
   },
   {
    "duration": 5,
    "start_time": "2023-10-17T18:28:58.243Z"
   },
   {
    "duration": 229,
    "start_time": "2023-10-17T18:28:58.250Z"
   },
   {
    "duration": 4,
    "start_time": "2023-10-17T18:28:58.481Z"
   },
   {
    "duration": 378,
    "start_time": "2023-10-17T18:28:58.487Z"
   },
   {
    "duration": 32,
    "start_time": "2023-10-17T18:28:58.867Z"
   },
   {
    "duration": 160,
    "start_time": "2023-10-17T18:28:58.901Z"
   },
   {
    "duration": 30,
    "start_time": "2023-10-17T18:28:59.063Z"
   },
   {
    "duration": 71,
    "start_time": "2023-10-17T18:28:59.095Z"
   },
   {
    "duration": 16,
    "start_time": "2023-10-17T18:28:59.168Z"
   },
   {
    "duration": 161,
    "start_time": "2023-10-17T18:33:32.207Z"
   },
   {
    "duration": 259,
    "start_time": "2023-10-17T18:33:57.500Z"
   }
  ],
  "kernelspec": {
   "display_name": "Python 3 (ipykernel)",
   "language": "python",
   "name": "python3"
  },
  "language_info": {
   "codemirror_mode": {
    "name": "ipython",
    "version": 3
   },
   "file_extension": ".py",
   "mimetype": "text/x-python",
   "name": "python",
   "nbconvert_exporter": "python",
   "pygments_lexer": "ipython3",
   "version": "3.11.5"
  },
  "toc": {
   "base_numbering": 1,
   "nav_menu": {},
   "number_sections": true,
   "sideBar": true,
   "skip_h1_title": true,
   "title_cell": "Table of Contents",
   "title_sidebar": "Contents",
   "toc_cell": false,
   "toc_position": {},
   "toc_section_display": true,
   "toc_window_display": false
  }
 },
 "nbformat": 4,
 "nbformat_minor": 2
}
