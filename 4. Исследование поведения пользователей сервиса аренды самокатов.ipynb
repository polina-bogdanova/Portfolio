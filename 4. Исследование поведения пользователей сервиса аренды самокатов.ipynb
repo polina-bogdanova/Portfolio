{
 "cells": [
  {
   "cell_type": "markdown",
   "id": "98302151",
   "metadata": {},
   "source": [
    "# Анализ данных сервиса аренды самокатов GoFast"
   ]
  },
  {
   "cell_type": "markdown",
   "id": "8a2cea3e",
   "metadata": {},
   "source": [
    "В ходе проекта нам предстоит проанализировать данные сервиса аренды самокатов GoFast и проверить некоторые гипотезы, которые могут помочь бизнесу вырасти.\\\n",
    "Начнем с изучения данных:"
   ]
  },
  {
   "cell_type": "code",
   "execution_count": 1,
   "id": "ebffdc86",
   "metadata": {},
   "outputs": [],
   "source": [
    "#импортируем необходимые библиотеки\n",
    "import pandas as pd\n",
    "import numpy as np\n",
    "from scipy import stats as st\n",
    "import matplotlib.pyplot as plt"
   ]
  },
  {
   "cell_type": "markdown",
   "id": "c42cbe00",
   "metadata": {},
   "source": [
    "#### Шаг 1. Загрузка данных"
   ]
  },
  {
   "cell_type": "code",
   "execution_count": 2,
   "id": "eff9f206",
   "metadata": {
    "scrolled": false
   },
   "outputs": [
    {
     "name": "stdout",
     "output_type": "stream",
     "text": [
      "<class 'pandas.core.frame.DataFrame'>\n",
      "RangeIndex: 1565 entries, 0 to 1564\n",
      "Data columns (total 5 columns):\n",
      " #   Column             Non-Null Count  Dtype \n",
      "---  ------             --------------  ----- \n",
      " 0   user_id            1565 non-null   int64 \n",
      " 1   name               1565 non-null   object\n",
      " 2   age                1565 non-null   int64 \n",
      " 3   city               1565 non-null   object\n",
      " 4   subscription_type  1565 non-null   object\n",
      "dtypes: int64(2), object(3)\n",
      "memory usage: 61.3+ KB\n",
      "None\n"
     ]
    },
    {
     "data": {
      "text/html": [
       "<div>\n",
       "<style scoped>\n",
       "    .dataframe tbody tr th:only-of-type {\n",
       "        vertical-align: middle;\n",
       "    }\n",
       "\n",
       "    .dataframe tbody tr th {\n",
       "        vertical-align: top;\n",
       "    }\n",
       "\n",
       "    .dataframe thead th {\n",
       "        text-align: right;\n",
       "    }\n",
       "</style>\n",
       "<table border=\"1\" class=\"dataframe\">\n",
       "  <thead>\n",
       "    <tr style=\"text-align: right;\">\n",
       "      <th></th>\n",
       "      <th>user_id</th>\n",
       "      <th>name</th>\n",
       "      <th>age</th>\n",
       "      <th>city</th>\n",
       "      <th>subscription_type</th>\n",
       "    </tr>\n",
       "  </thead>\n",
       "  <tbody>\n",
       "    <tr>\n",
       "      <th>0</th>\n",
       "      <td>1</td>\n",
       "      <td>Кира</td>\n",
       "      <td>22</td>\n",
       "      <td>Тюмень</td>\n",
       "      <td>ultra</td>\n",
       "    </tr>\n",
       "    <tr>\n",
       "      <th>1</th>\n",
       "      <td>2</td>\n",
       "      <td>Станислав</td>\n",
       "      <td>31</td>\n",
       "      <td>Омск</td>\n",
       "      <td>ultra</td>\n",
       "    </tr>\n",
       "    <tr>\n",
       "      <th>2</th>\n",
       "      <td>3</td>\n",
       "      <td>Алексей</td>\n",
       "      <td>20</td>\n",
       "      <td>Москва</td>\n",
       "      <td>ultra</td>\n",
       "    </tr>\n",
       "    <tr>\n",
       "      <th>3</th>\n",
       "      <td>4</td>\n",
       "      <td>Константин</td>\n",
       "      <td>26</td>\n",
       "      <td>Ростов-на-Дону</td>\n",
       "      <td>ultra</td>\n",
       "    </tr>\n",
       "    <tr>\n",
       "      <th>4</th>\n",
       "      <td>5</td>\n",
       "      <td>Адель</td>\n",
       "      <td>28</td>\n",
       "      <td>Омск</td>\n",
       "      <td>ultra</td>\n",
       "    </tr>\n",
       "  </tbody>\n",
       "</table>\n",
       "</div>"
      ],
      "text/plain": [
       "   user_id        name  age            city subscription_type\n",
       "0        1        Кира   22          Тюмень             ultra\n",
       "1        2   Станислав   31            Омск             ultra\n",
       "2        3     Алексей   20          Москва             ultra\n",
       "3        4  Константин   26  Ростов-на-Дону             ultra\n",
       "4        5       Адель   28            Омск             ultra"
      ]
     },
     "execution_count": 2,
     "metadata": {},
     "output_type": "execute_result"
    }
   ],
   "source": [
    "users = pd.read_csv('https://code.s3.yandex.net/datasets/users_go.csv')\n",
    "print(users.info())\n",
    "users.head()"
   ]
  },
  {
   "cell_type": "markdown",
   "id": "0f7f8e51",
   "metadata": {},
   "source": [
    "В первом датафрейме содержится основная информация о пользователях приложения: уникальный идентификатор пользователя, имя, возраст, город и тип подписки. Всего в таблице 1565 пользователей. "
   ]
  },
  {
   "cell_type": "code",
   "execution_count": 3,
   "id": "7e34f5d4",
   "metadata": {
    "scrolled": true
   },
   "outputs": [
    {
     "name": "stdout",
     "output_type": "stream",
     "text": [
      "<class 'pandas.core.frame.DataFrame'>\n",
      "RangeIndex: 18068 entries, 0 to 18067\n",
      "Data columns (total 4 columns):\n",
      " #   Column    Non-Null Count  Dtype  \n",
      "---  ------    --------------  -----  \n",
      " 0   user_id   18068 non-null  int64  \n",
      " 1   distance  18068 non-null  float64\n",
      " 2   duration  18068 non-null  float64\n",
      " 3   date      18068 non-null  object \n",
      "dtypes: float64(2), int64(1), object(1)\n",
      "memory usage: 564.8+ KB\n",
      "None\n"
     ]
    },
    {
     "data": {
      "text/html": [
       "<div>\n",
       "<style scoped>\n",
       "    .dataframe tbody tr th:only-of-type {\n",
       "        vertical-align: middle;\n",
       "    }\n",
       "\n",
       "    .dataframe tbody tr th {\n",
       "        vertical-align: top;\n",
       "    }\n",
       "\n",
       "    .dataframe thead th {\n",
       "        text-align: right;\n",
       "    }\n",
       "</style>\n",
       "<table border=\"1\" class=\"dataframe\">\n",
       "  <thead>\n",
       "    <tr style=\"text-align: right;\">\n",
       "      <th></th>\n",
       "      <th>user_id</th>\n",
       "      <th>distance</th>\n",
       "      <th>duration</th>\n",
       "      <th>date</th>\n",
       "    </tr>\n",
       "  </thead>\n",
       "  <tbody>\n",
       "    <tr>\n",
       "      <th>0</th>\n",
       "      <td>1</td>\n",
       "      <td>4409.919140</td>\n",
       "      <td>25.599769</td>\n",
       "      <td>2021-01-01</td>\n",
       "    </tr>\n",
       "    <tr>\n",
       "      <th>1</th>\n",
       "      <td>1</td>\n",
       "      <td>2617.592153</td>\n",
       "      <td>15.816871</td>\n",
       "      <td>2021-01-18</td>\n",
       "    </tr>\n",
       "    <tr>\n",
       "      <th>2</th>\n",
       "      <td>1</td>\n",
       "      <td>754.159807</td>\n",
       "      <td>6.232113</td>\n",
       "      <td>2021-04-20</td>\n",
       "    </tr>\n",
       "    <tr>\n",
       "      <th>3</th>\n",
       "      <td>1</td>\n",
       "      <td>2694.783254</td>\n",
       "      <td>18.511000</td>\n",
       "      <td>2021-08-11</td>\n",
       "    </tr>\n",
       "    <tr>\n",
       "      <th>4</th>\n",
       "      <td>1</td>\n",
       "      <td>4028.687306</td>\n",
       "      <td>26.265803</td>\n",
       "      <td>2021-08-28</td>\n",
       "    </tr>\n",
       "  </tbody>\n",
       "</table>\n",
       "</div>"
      ],
      "text/plain": [
       "   user_id     distance   duration        date\n",
       "0        1  4409.919140  25.599769  2021-01-01\n",
       "1        1  2617.592153  15.816871  2021-01-18\n",
       "2        1   754.159807   6.232113  2021-04-20\n",
       "3        1  2694.783254  18.511000  2021-08-11\n",
       "4        1  4028.687306  26.265803  2021-08-28"
      ]
     },
     "execution_count": 3,
     "metadata": {},
     "output_type": "execute_result"
    }
   ],
   "source": [
    "rides = pd.read_csv('https://code.s3.yandex.net/datasets/rides_go.csv')\n",
    "print(rides.info())\n",
    "rides.head()"
   ]
  },
  {
   "cell_type": "markdown",
   "id": "41d17c69",
   "metadata": {},
   "source": [
    "Во втором датафрейме представлена информация о поездках: уникальный идентификатор пользователя, расстояние в метрах, время в минутах и дата поездки. В данной таблице стоит изменить тип данных даты со строки на дату pandas."
   ]
  },
  {
   "cell_type": "code",
   "execution_count": 4,
   "id": "35a1a67d",
   "metadata": {},
   "outputs": [
    {
     "name": "stdout",
     "output_type": "stream",
     "text": [
      "<class 'pandas.core.frame.DataFrame'>\n",
      "RangeIndex: 2 entries, 0 to 1\n",
      "Data columns (total 4 columns):\n",
      " #   Column             Non-Null Count  Dtype \n",
      "---  ------             --------------  ----- \n",
      " 0   subscription_type  2 non-null      object\n",
      " 1   minute_price       2 non-null      int64 \n",
      " 2   start_ride_price   2 non-null      int64 \n",
      " 3   subscription_fee   2 non-null      int64 \n",
      "dtypes: int64(3), object(1)\n",
      "memory usage: 196.0+ bytes\n",
      "None\n"
     ]
    },
    {
     "data": {
      "text/html": [
       "<div>\n",
       "<style scoped>\n",
       "    .dataframe tbody tr th:only-of-type {\n",
       "        vertical-align: middle;\n",
       "    }\n",
       "\n",
       "    .dataframe tbody tr th {\n",
       "        vertical-align: top;\n",
       "    }\n",
       "\n",
       "    .dataframe thead th {\n",
       "        text-align: right;\n",
       "    }\n",
       "</style>\n",
       "<table border=\"1\" class=\"dataframe\">\n",
       "  <thead>\n",
       "    <tr style=\"text-align: right;\">\n",
       "      <th></th>\n",
       "      <th>subscription_type</th>\n",
       "      <th>minute_price</th>\n",
       "      <th>start_ride_price</th>\n",
       "      <th>subscription_fee</th>\n",
       "    </tr>\n",
       "  </thead>\n",
       "  <tbody>\n",
       "    <tr>\n",
       "      <th>0</th>\n",
       "      <td>free</td>\n",
       "      <td>8</td>\n",
       "      <td>50</td>\n",
       "      <td>0</td>\n",
       "    </tr>\n",
       "    <tr>\n",
       "      <th>1</th>\n",
       "      <td>ultra</td>\n",
       "      <td>6</td>\n",
       "      <td>0</td>\n",
       "      <td>199</td>\n",
       "    </tr>\n",
       "  </tbody>\n",
       "</table>\n",
       "</div>"
      ],
      "text/plain": [
       "  subscription_type  minute_price  start_ride_price  subscription_fee\n",
       "0              free             8                50                 0\n",
       "1             ultra             6                 0               199"
      ]
     },
     "execution_count": 4,
     "metadata": {},
     "output_type": "execute_result"
    }
   ],
   "source": [
    "subscriptions = pd.read_csv('https://code.s3.yandex.net/datasets/subscriptions_go.csv')\n",
    "print(subscriptions.info())\n",
    "subscriptions.head()"
   ]
  },
  {
   "cell_type": "markdown",
   "id": "c07a8399",
   "metadata": {},
   "source": [
    "В последнем датафрейме содержится информация о типах подписки. Их всего 2: free и ultra, также описаны отличительные черты каждого типа подписки: стоимость одной минуты поездки, стоимость начала поездки и стоимость ежемесячного платежа."
   ]
  },
  {
   "cell_type": "markdown",
   "id": "e95ebca7",
   "metadata": {},
   "source": [
    "#### Шаг 2. Предобработка данных"
   ]
  },
  {
   "cell_type": "markdown",
   "id": "6ba242fe",
   "metadata": {},
   "source": [
    "2.1. Приведем столбец date из таблицы rides к типу даты pandas. "
   ]
  },
  {
   "cell_type": "code",
   "execution_count": 5,
   "id": "92225b3c",
   "metadata": {
    "scrolled": true
   },
   "outputs": [
    {
     "name": "stdout",
     "output_type": "stream",
     "text": [
      "<class 'pandas.core.frame.DataFrame'>\n",
      "RangeIndex: 18068 entries, 0 to 18067\n",
      "Data columns (total 4 columns):\n",
      " #   Column    Non-Null Count  Dtype         \n",
      "---  ------    --------------  -----         \n",
      " 0   user_id   18068 non-null  int64         \n",
      " 1   distance  18068 non-null  float64       \n",
      " 2   duration  18068 non-null  float64       \n",
      " 3   date      18068 non-null  datetime64[ns]\n",
      "dtypes: datetime64[ns](1), float64(2), int64(1)\n",
      "memory usage: 564.8 KB\n"
     ]
    }
   ],
   "source": [
    "rides['date'] = pd.to_datetime(rides['date'], format='%Y-%m-%d')\n",
    "rides.info()"
   ]
  },
  {
   "cell_type": "markdown",
   "id": "df6bfd43",
   "metadata": {},
   "source": [
    "2.2. Создадим новый столбец с номером месяца на основе столбца date в таблице rides."
   ]
  },
  {
   "cell_type": "code",
   "execution_count": 6,
   "id": "74073da7",
   "metadata": {
    "scrolled": true
   },
   "outputs": [
    {
     "data": {
      "text/html": [
       "<div>\n",
       "<style scoped>\n",
       "    .dataframe tbody tr th:only-of-type {\n",
       "        vertical-align: middle;\n",
       "    }\n",
       "\n",
       "    .dataframe tbody tr th {\n",
       "        vertical-align: top;\n",
       "    }\n",
       "\n",
       "    .dataframe thead th {\n",
       "        text-align: right;\n",
       "    }\n",
       "</style>\n",
       "<table border=\"1\" class=\"dataframe\">\n",
       "  <thead>\n",
       "    <tr style=\"text-align: right;\">\n",
       "      <th></th>\n",
       "      <th>user_id</th>\n",
       "      <th>distance</th>\n",
       "      <th>duration</th>\n",
       "      <th>date</th>\n",
       "      <th>month</th>\n",
       "    </tr>\n",
       "  </thead>\n",
       "  <tbody>\n",
       "    <tr>\n",
       "      <th>0</th>\n",
       "      <td>1</td>\n",
       "      <td>4409.919140</td>\n",
       "      <td>25.599769</td>\n",
       "      <td>2021-01-01</td>\n",
       "      <td>1</td>\n",
       "    </tr>\n",
       "    <tr>\n",
       "      <th>1</th>\n",
       "      <td>1</td>\n",
       "      <td>2617.592153</td>\n",
       "      <td>15.816871</td>\n",
       "      <td>2021-01-18</td>\n",
       "      <td>1</td>\n",
       "    </tr>\n",
       "    <tr>\n",
       "      <th>2</th>\n",
       "      <td>1</td>\n",
       "      <td>754.159807</td>\n",
       "      <td>6.232113</td>\n",
       "      <td>2021-04-20</td>\n",
       "      <td>4</td>\n",
       "    </tr>\n",
       "    <tr>\n",
       "      <th>3</th>\n",
       "      <td>1</td>\n",
       "      <td>2694.783254</td>\n",
       "      <td>18.511000</td>\n",
       "      <td>2021-08-11</td>\n",
       "      <td>8</td>\n",
       "    </tr>\n",
       "    <tr>\n",
       "      <th>4</th>\n",
       "      <td>1</td>\n",
       "      <td>4028.687306</td>\n",
       "      <td>26.265803</td>\n",
       "      <td>2021-08-28</td>\n",
       "      <td>8</td>\n",
       "    </tr>\n",
       "  </tbody>\n",
       "</table>\n",
       "</div>"
      ],
      "text/plain": [
       "   user_id     distance   duration       date  month\n",
       "0        1  4409.919140  25.599769 2021-01-01      1\n",
       "1        1  2617.592153  15.816871 2021-01-18      1\n",
       "2        1   754.159807   6.232113 2021-04-20      4\n",
       "3        1  2694.783254  18.511000 2021-08-11      8\n",
       "4        1  4028.687306  26.265803 2021-08-28      8"
      ]
     },
     "execution_count": 6,
     "metadata": {},
     "output_type": "execute_result"
    }
   ],
   "source": [
    "rides['month'] = rides['date'].dt.month\n",
    "rides.head()"
   ]
  },
  {
   "cell_type": "markdown",
   "id": "8e951fa0",
   "metadata": {},
   "source": [
    "2.3. Проверим наличие пропущенных значений и дубликатов в датафреймах. "
   ]
  },
  {
   "cell_type": "code",
   "execution_count": 7,
   "id": "286b30ce",
   "metadata": {
    "scrolled": true
   },
   "outputs": [
    {
     "data": {
      "text/plain": [
       "user_id              0\n",
       "name                 0\n",
       "age                  0\n",
       "city                 0\n",
       "subscription_type    0\n",
       "dtype: int64"
      ]
     },
     "execution_count": 7,
     "metadata": {},
     "output_type": "execute_result"
    }
   ],
   "source": [
    "users.isna().sum()"
   ]
  },
  {
   "cell_type": "markdown",
   "id": "ee496e2b",
   "metadata": {},
   "source": [
    "Пропущенные значения отсутствуют, проверим явные дубликаты и неявные в столбце city:"
   ]
  },
  {
   "cell_type": "code",
   "execution_count": 8,
   "id": "ae237b71",
   "metadata": {},
   "outputs": [
    {
     "data": {
      "text/plain": [
       "31"
      ]
     },
     "execution_count": 8,
     "metadata": {},
     "output_type": "execute_result"
    }
   ],
   "source": [
    "#посчитаем количесвто дубликатов \n",
    "users.duplicated().sum()"
   ]
  },
  {
   "cell_type": "code",
   "execution_count": 9,
   "id": "52acb125",
   "metadata": {},
   "outputs": [],
   "source": [
    "#удалим явные дубликаты\n",
    "users = users.drop_duplicates()"
   ]
  },
  {
   "cell_type": "code",
   "execution_count": 10,
   "id": "7be3d75a",
   "metadata": {
    "scrolled": true
   },
   "outputs": [
    {
     "data": {
      "text/plain": [
       "array(['Тюмень', 'Омск', 'Москва', 'Ростов-на-Дону', 'Краснодар',\n",
       "       'Пятигорск', 'Екатеринбург', 'Сочи'], dtype=object)"
      ]
     },
     "execution_count": 10,
     "metadata": {},
     "output_type": "execute_result"
    }
   ],
   "source": [
    "users['city'].unique()"
   ]
  },
  {
   "cell_type": "markdown",
   "id": "a7ac6dd0",
   "metadata": {},
   "source": [
    "Неявных дубликатов в столбце с городами тоже нет. Перейдем у изучению таблицы с поездками. "
   ]
  },
  {
   "cell_type": "code",
   "execution_count": 11,
   "id": "80f1781c",
   "metadata": {
    "scrolled": true
   },
   "outputs": [
    {
     "data": {
      "text/plain": [
       "user_id     0\n",
       "distance    0\n",
       "duration    0\n",
       "date        0\n",
       "month       0\n",
       "dtype: int64"
      ]
     },
     "execution_count": 11,
     "metadata": {},
     "output_type": "execute_result"
    }
   ],
   "source": [
    "rides.isna().sum()"
   ]
  },
  {
   "cell_type": "markdown",
   "id": "b9df31cf",
   "metadata": {},
   "source": [
    "Пропуски отсутствуют, посмотрим дубликаты:"
   ]
  },
  {
   "cell_type": "code",
   "execution_count": 12,
   "id": "26ba571d",
   "metadata": {
    "scrolled": true
   },
   "outputs": [
    {
     "data": {
      "text/plain": [
       "0"
      ]
     },
     "execution_count": 12,
     "metadata": {},
     "output_type": "execute_result"
    }
   ],
   "source": [
    "rides.duplicated().sum()"
   ]
  },
  {
   "cell_type": "markdown",
   "id": "b28d239a",
   "metadata": {},
   "source": [
    "Все в порядке. Исследовать последнюю таблицу не нужно, так как там всего 2 строки и 4 столбца, там нет ни пропусков, ни дубликатов."
   ]
  },
  {
   "cell_type": "markdown",
   "id": "212593c7",
   "metadata": {},
   "source": [
    "#### Шаг 3. Исследовательский анализ данных"
   ]
  },
  {
   "cell_type": "markdown",
   "id": "0e27c382",
   "metadata": {},
   "source": [
    "Опишем и визуализируем общую информацию о пользователях и поездках:\n",
    "\n",
    "3.1 частота встречаемости городов"
   ]
  },
  {
   "cell_type": "code",
   "execution_count": 13,
   "id": "7ffd5bed",
   "metadata": {},
   "outputs": [
    {
     "data": {
      "text/plain": [
       "city\n",
       "Пятигорск         219\n",
       "Екатеринбург      204\n",
       "Ростов-на-Дону    198\n",
       "Краснодар         193\n",
       "Сочи              189\n",
       "Омск              183\n",
       "Тюмень            180\n",
       "Москва            168\n",
       "Name: count, dtype: int64"
      ]
     },
     "execution_count": 13,
     "metadata": {},
     "output_type": "execute_result"
    }
   ],
   "source": [
    "users['city'].value_counts()"
   ]
  },
  {
   "cell_type": "code",
   "execution_count": 36,
   "id": "5e413def",
   "metadata": {
    "scrolled": false
   },
   "outputs": [
    {
     "data": {
      "image/png": "[encoded data removed]",
      "text/plain": [
       "<Figure size 1900x600 with 1 Axes>"
      ]
     },
     "metadata": {},
     "output_type": "display_data"
    }
   ],
   "source": [
    "city_us = users.pivot_table(index='city', values='user_id', aggfunc='count').sort_values('user_id', ascending=False)\\\n",
    ".plot(kind = 'barh', y='user_id', figsize = (19,6), fontsize = 16)\n",
    "plt.title('Частота встречаемости городов', fontsize=15)\n",
    "plt.xlabel('Кол-во пользователей', fontsize=12)\n",
    "plt.ylabel('Город', fontsize=12)\n",
    "plt.show()"
   ]
  },
  {
   "cell_type": "markdown",
   "id": "a8c2f96a",
   "metadata": {},
   "source": [
    "Как ни странно, реже всего встречается Москва, возможно, потому что там популярны другие сервисы аренды самокатов. Больше всего пользователей из Пятигорска, Екатеринбурга и Ростова-на-Дону. В целом, можно сказать, что разброс не очень большой, значения частоты встречаемости городов лежат в промежутке от 168 до 219.\n",
    "\n",
    "3.2 соотношение пользователей с подпиской и без подписки"
   ]
  },
  {
   "cell_type": "code",
   "execution_count": 15,
   "id": "ace22e76",
   "metadata": {
    "scrolled": true
   },
   "outputs": [
    {
     "name": "stdout",
     "output_type": "stream",
     "text": [
      "subscription_type\n",
      "free     835\n",
      "ultra    699\n",
      "Name: count, dtype: int64\n",
      "\n",
      "Доли категорий пользователей subscription_type\n",
      "free     0.544329\n",
      "ultra    0.455671\n",
      "Name: user_id, dtype: float64\n"
     ]
    }
   ],
   "source": [
    "print(users['subscription_type'].value_counts())\n",
    "print()\n",
    "percent = users.groupby('subscription_type')['user_id'].count() / users['user_id'].count()\n",
    "print('Доли категорий пользователей', percent)"
   ]
  },
  {
   "cell_type": "code",
   "execution_count": 35,
   "id": "71149a73",
   "metadata": {
    "scrolled": true
   },
   "outputs": [
    {
     "data": {
      "image/png": "[encoded data removed]",
      "text/plain": [
       "<Figure size 1200x600 with 1 Axes>"
      ]
     },
     "metadata": {},
     "output_type": "display_data"
    }
   ],
   "source": [
    "#users['subscription_type'].hist(figsize=(10,5), bins=4)\n",
    "sub = users.pivot_table(index='subscription_type', values='user_id', aggfunc='count').plot(\n",
    "    kind='pie', y='user_id', figsize = (12,6), fontsize = 16)\n",
    "plt.title('Cоотношение пользователей с подпиской и без подписки', fontsize=15)\n",
    "plt.show()"
   ]
  },
  {
   "cell_type": "markdown",
   "id": "175e607b",
   "metadata": {},
   "source": [
    "Больше пользователей используют сервис аренды самокатов без подписки-их 835, что почти на 20% больше, чем пользователей с подпиской ultra.\n",
    "\n",
    "3.3 возраст пользователей"
   ]
  },
  {
   "cell_type": "code",
   "execution_count": 17,
   "id": "7484324e",
   "metadata": {},
   "outputs": [
    {
     "data": {
      "text/plain": [
       "age\n",
       "25    145\n",
       "24    132\n",
       "26    131\n",
       "23    129\n",
       "22    119\n",
       "27    119\n",
       "28    112\n",
       "21     93\n",
       "20     71\n",
       "30     68\n",
       "29     68\n",
       "31     48\n",
       "19     47\n",
       "18     46\n",
       "32     41\n",
       "33     39\n",
       "17     26\n",
       "16     19\n",
       "34     19\n",
       "35     15\n",
       "15     13\n",
       "14      9\n",
       "13      8\n",
       "36      6\n",
       "12      4\n",
       "38      3\n",
       "37      2\n",
       "39      1\n",
       "43      1\n",
       "Name: count, dtype: int64"
      ]
     },
     "execution_count": 17,
     "metadata": {},
     "output_type": "execute_result"
    }
   ],
   "source": [
    "users['age'].value_counts()"
   ]
  },
  {
   "cell_type": "code",
   "execution_count": 37,
   "id": "ed799e13",
   "metadata": {
    "scrolled": true
   },
   "outputs": [
    {
     "data": {
      "image/png": "[encoded data removed]",
      "text/plain": [
       "<Figure size 1000x500 with 1 Axes>"
      ]
     },
     "metadata": {},
     "output_type": "display_data"
    }
   ],
   "source": [
    "users['age'].hist(figsize=(10,5), bins=30)\n",
    "plt.title('Возраст пользователей', fontsize=15)\n",
    "plt.xlabel('Возраст', fontsize=12)\n",
    "plt.ylabel('Кол-во пользователей', fontsize=12)\n",
    "plt.show()"
   ]
  },
  {
   "cell_type": "markdown",
   "id": "6b052c39",
   "metadata": {},
   "source": [
    "В основном сервисом пользуется молодежь, пользователи от 20 до 30 лет. Менее востребована аренда самокатов для несовершеннолетних лиц и для людей старше 30 лет.\n",
    "\n",
    "3.4 расстояние, которое пользователь преодолел за одну поездку"
   ]
  },
  {
   "cell_type": "code",
   "execution_count": 38,
   "id": "92e651c1",
   "metadata": {
    "scrolled": true
   },
   "outputs": [
    {
     "data": {
      "image/png": "[encoded data removed]",
      "text/plain": [
       "<Figure size 1000x500 with 1 Axes>"
      ]
     },
     "metadata": {},
     "output_type": "display_data"
    }
   ],
   "source": [
    "rides['distance'].hist(figsize=(10,5), bins=200)\n",
    "plt.title('Расстояние, которое пользователь преодолел за одну поездку', fontsize=15)\n",
    "plt.xlabel('Расстояние', fontsize=12)\n",
    "plt.ylabel('Кол-во пользователей', fontsize=12)\n",
    "plt.show()"
   ]
  },
  {
   "cell_type": "markdown",
   "id": "a9195cf6",
   "metadata": {},
   "source": [
    "Пользователи совершают как короткие поездки на небольшие дистанции, так и длинные. Чаще всего всречаются поездки от 2 до 5 км.\n",
    "\n",
    "3.5 продолжительность поездок"
   ]
  },
  {
   "cell_type": "code",
   "execution_count": 39,
   "id": "78d9df11",
   "metadata": {
    "scrolled": true
   },
   "outputs": [
    {
     "data": {
      "image/png": "[encoded data removed]",
      "text/plain": [
       "<Figure size 1000x500 with 1 Axes>"
      ]
     },
     "metadata": {},
     "output_type": "display_data"
    }
   ],
   "source": [
    "rides['duration'].hist(figsize=(10,5), bins=200)\n",
    "plt.title('Продолжительность поездок', fontsize=15)\n",
    "plt.xlabel('Время поездки', fontsize=12)\n",
    "plt.ylabel('Кол-во пользователей', fontsize=12)\n",
    "plt.show()"
   ]
  },
  {
   "cell_type": "markdown",
   "id": "d7971278",
   "metadata": {},
   "source": [
    "В среднем на поездку пользователи тратят от 5 до 35 минут. Чаще всего продолжительность поездки находится в промежутке от 15 до 20 минут."
   ]
  },
  {
   "cell_type": "markdown",
   "id": "4ef51331",
   "metadata": {},
   "source": [
    "#### Шаг 4. Объединение данных"
   ]
  },
  {
   "cell_type": "markdown",
   "id": "e055069e",
   "metadata": {},
   "source": [
    "4.1 Объединим данные о пользователях, поездках и подписках в один датафрейм."
   ]
  },
  {
   "cell_type": "code",
   "execution_count": 21,
   "id": "6bf288b5",
   "metadata": {
    "scrolled": false
   },
   "outputs": [
    {
     "name": "stdout",
     "output_type": "stream",
     "text": [
      "Кол-во строк новой таблицы: 18068\n",
      "\n",
      "Кол-во пропусков: user_id              0\n",
      "name                 0\n",
      "age                  0\n",
      "city                 0\n",
      "subscription_type    0\n",
      "distance             0\n",
      "duration             0\n",
      "date                 0\n",
      "month                0\n",
      "minute_price         0\n",
      "start_ride_price     0\n",
      "subscription_fee     0\n",
      "dtype: int64\n"
     ]
    },
    {
     "data": {
      "text/html": [
       "<div>\n",
       "<style scoped>\n",
       "    .dataframe tbody tr th:only-of-type {\n",
       "        vertical-align: middle;\n",
       "    }\n",
       "\n",
       "    .dataframe tbody tr th {\n",
       "        vertical-align: top;\n",
       "    }\n",
       "\n",
       "    .dataframe thead th {\n",
       "        text-align: right;\n",
       "    }\n",
       "</style>\n",
       "<table border=\"1\" class=\"dataframe\">\n",
       "  <thead>\n",
       "    <tr style=\"text-align: right;\">\n",
       "      <th></th>\n",
       "      <th>user_id</th>\n",
       "      <th>name</th>\n",
       "      <th>age</th>\n",
       "      <th>city</th>\n",
       "      <th>subscription_type</th>\n",
       "      <th>distance</th>\n",
       "      <th>duration</th>\n",
       "      <th>date</th>\n",
       "      <th>month</th>\n",
       "      <th>minute_price</th>\n",
       "      <th>start_ride_price</th>\n",
       "      <th>subscription_fee</th>\n",
       "    </tr>\n",
       "  </thead>\n",
       "  <tbody>\n",
       "    <tr>\n",
       "      <th>0</th>\n",
       "      <td>1</td>\n",
       "      <td>Кира</td>\n",
       "      <td>22</td>\n",
       "      <td>Тюмень</td>\n",
       "      <td>ultra</td>\n",
       "      <td>4409.919140</td>\n",
       "      <td>26.0</td>\n",
       "      <td>2021-01-01</td>\n",
       "      <td>1</td>\n",
       "      <td>6</td>\n",
       "      <td>0</td>\n",
       "      <td>199</td>\n",
       "    </tr>\n",
       "    <tr>\n",
       "      <th>1</th>\n",
       "      <td>1</td>\n",
       "      <td>Кира</td>\n",
       "      <td>22</td>\n",
       "      <td>Тюмень</td>\n",
       "      <td>ultra</td>\n",
       "      <td>2617.592153</td>\n",
       "      <td>16.0</td>\n",
       "      <td>2021-01-18</td>\n",
       "      <td>1</td>\n",
       "      <td>6</td>\n",
       "      <td>0</td>\n",
       "      <td>199</td>\n",
       "    </tr>\n",
       "    <tr>\n",
       "      <th>2</th>\n",
       "      <td>1</td>\n",
       "      <td>Кира</td>\n",
       "      <td>22</td>\n",
       "      <td>Тюмень</td>\n",
       "      <td>ultra</td>\n",
       "      <td>754.159807</td>\n",
       "      <td>7.0</td>\n",
       "      <td>2021-04-20</td>\n",
       "      <td>4</td>\n",
       "      <td>6</td>\n",
       "      <td>0</td>\n",
       "      <td>199</td>\n",
       "    </tr>\n",
       "    <tr>\n",
       "      <th>3</th>\n",
       "      <td>1</td>\n",
       "      <td>Кира</td>\n",
       "      <td>22</td>\n",
       "      <td>Тюмень</td>\n",
       "      <td>ultra</td>\n",
       "      <td>2694.783254</td>\n",
       "      <td>19.0</td>\n",
       "      <td>2021-08-11</td>\n",
       "      <td>8</td>\n",
       "      <td>6</td>\n",
       "      <td>0</td>\n",
       "      <td>199</td>\n",
       "    </tr>\n",
       "    <tr>\n",
       "      <th>4</th>\n",
       "      <td>1</td>\n",
       "      <td>Кира</td>\n",
       "      <td>22</td>\n",
       "      <td>Тюмень</td>\n",
       "      <td>ultra</td>\n",
       "      <td>4028.687306</td>\n",
       "      <td>27.0</td>\n",
       "      <td>2021-08-28</td>\n",
       "      <td>8</td>\n",
       "      <td>6</td>\n",
       "      <td>0</td>\n",
       "      <td>199</td>\n",
       "    </tr>\n",
       "  </tbody>\n",
       "</table>\n",
       "</div>"
      ],
      "text/plain": [
       "   user_id  name  age    city subscription_type     distance  duration  \\\n",
       "0        1  Кира   22  Тюмень             ultra  4409.919140      26.0   \n",
       "1        1  Кира   22  Тюмень             ultra  2617.592153      16.0   \n",
       "2        1  Кира   22  Тюмень             ultra   754.159807       7.0   \n",
       "3        1  Кира   22  Тюмень             ultra  2694.783254      19.0   \n",
       "4        1  Кира   22  Тюмень             ultra  4028.687306      27.0   \n",
       "\n",
       "        date  month  minute_price  start_ride_price  subscription_fee  \n",
       "0 2021-01-01      1             6                 0               199  \n",
       "1 2021-01-18      1             6                 0               199  \n",
       "2 2021-04-20      4             6                 0               199  \n",
       "3 2021-08-11      8             6                 0               199  \n",
       "4 2021-08-28      8             6                 0               199  "
      ]
     },
     "execution_count": 21,
     "metadata": {},
     "output_type": "execute_result"
    }
   ],
   "source": [
    "data = users.merge(rides, on='user_id', how='left')\n",
    "data = data.merge(subscriptions, on='subscription_type', how='left')\n",
    "data['duration'] = np.ceil(data['duration']) \n",
    "print('Кол-во строк новой таблицы:' ,data.shape[0])\n",
    "print()\n",
    "print('Кол-во пропусков:', data.isna().sum())\n",
    "data.head()"
   ]
  },
  {
   "cell_type": "markdown",
   "id": "1a5c1b3a",
   "metadata": {},
   "source": [
    "Теперь все данные находятся в одной таблице. Кол-во строк нового датаврейма совпадает с кол-вом строк таблицы с поездками. Пропусков в новой таблице нет. \n",
    "\n",
    "4.2 Создадим ещё два датафрейма из датафрейма, созданного на этапе 4.1: c данными о пользователях без подписки (data_free);\n",
    "с данными о пользователях с подпиской (data_ultra)."
   ]
  },
  {
   "cell_type": "code",
   "execution_count": 22,
   "id": "b523ffb0",
   "metadata": {
    "scrolled": true
   },
   "outputs": [
    {
     "data": {
      "text/html": [
       "<div>\n",
       "<style scoped>\n",
       "    .dataframe tbody tr th:only-of-type {\n",
       "        vertical-align: middle;\n",
       "    }\n",
       "\n",
       "    .dataframe tbody tr th {\n",
       "        vertical-align: top;\n",
       "    }\n",
       "\n",
       "    .dataframe thead th {\n",
       "        text-align: right;\n",
       "    }\n",
       "</style>\n",
       "<table border=\"1\" class=\"dataframe\">\n",
       "  <thead>\n",
       "    <tr style=\"text-align: right;\">\n",
       "      <th></th>\n",
       "      <th>user_id</th>\n",
       "      <th>name</th>\n",
       "      <th>age</th>\n",
       "      <th>city</th>\n",
       "      <th>subscription_type</th>\n",
       "      <th>distance</th>\n",
       "      <th>duration</th>\n",
       "      <th>date</th>\n",
       "      <th>month</th>\n",
       "      <th>minute_price</th>\n",
       "      <th>start_ride_price</th>\n",
       "      <th>subscription_fee</th>\n",
       "    </tr>\n",
       "  </thead>\n",
       "  <tbody>\n",
       "    <tr>\n",
       "      <th>6500</th>\n",
       "      <td>700</td>\n",
       "      <td>Айдар</td>\n",
       "      <td>22</td>\n",
       "      <td>Омск</td>\n",
       "      <td>free</td>\n",
       "      <td>2515.690719</td>\n",
       "      <td>15.0</td>\n",
       "      <td>2021-01-02</td>\n",
       "      <td>1</td>\n",
       "      <td>8</td>\n",
       "      <td>50</td>\n",
       "      <td>0</td>\n",
       "    </tr>\n",
       "    <tr>\n",
       "      <th>6501</th>\n",
       "      <td>700</td>\n",
       "      <td>Айдар</td>\n",
       "      <td>22</td>\n",
       "      <td>Омск</td>\n",
       "      <td>free</td>\n",
       "      <td>846.932642</td>\n",
       "      <td>17.0</td>\n",
       "      <td>2021-02-01</td>\n",
       "      <td>2</td>\n",
       "      <td>8</td>\n",
       "      <td>50</td>\n",
       "      <td>0</td>\n",
       "    </tr>\n",
       "    <tr>\n",
       "      <th>6502</th>\n",
       "      <td>700</td>\n",
       "      <td>Айдар</td>\n",
       "      <td>22</td>\n",
       "      <td>Омск</td>\n",
       "      <td>free</td>\n",
       "      <td>4004.434142</td>\n",
       "      <td>21.0</td>\n",
       "      <td>2021-02-04</td>\n",
       "      <td>2</td>\n",
       "      <td>8</td>\n",
       "      <td>50</td>\n",
       "      <td>0</td>\n",
       "    </tr>\n",
       "    <tr>\n",
       "      <th>6503</th>\n",
       "      <td>700</td>\n",
       "      <td>Айдар</td>\n",
       "      <td>22</td>\n",
       "      <td>Омск</td>\n",
       "      <td>free</td>\n",
       "      <td>1205.911290</td>\n",
       "      <td>10.0</td>\n",
       "      <td>2021-02-10</td>\n",
       "      <td>2</td>\n",
       "      <td>8</td>\n",
       "      <td>50</td>\n",
       "      <td>0</td>\n",
       "    </tr>\n",
       "    <tr>\n",
       "      <th>6504</th>\n",
       "      <td>700</td>\n",
       "      <td>Айдар</td>\n",
       "      <td>22</td>\n",
       "      <td>Омск</td>\n",
       "      <td>free</td>\n",
       "      <td>3047.379435</td>\n",
       "      <td>18.0</td>\n",
       "      <td>2021-02-14</td>\n",
       "      <td>2</td>\n",
       "      <td>8</td>\n",
       "      <td>50</td>\n",
       "      <td>0</td>\n",
       "    </tr>\n",
       "    <tr>\n",
       "      <th>6505</th>\n",
       "      <td>700</td>\n",
       "      <td>Айдар</td>\n",
       "      <td>22</td>\n",
       "      <td>Омск</td>\n",
       "      <td>free</td>\n",
       "      <td>4342.002254</td>\n",
       "      <td>23.0</td>\n",
       "      <td>2021-02-23</td>\n",
       "      <td>2</td>\n",
       "      <td>8</td>\n",
       "      <td>50</td>\n",
       "      <td>0</td>\n",
       "    </tr>\n",
       "    <tr>\n",
       "      <th>6506</th>\n",
       "      <td>700</td>\n",
       "      <td>Айдар</td>\n",
       "      <td>22</td>\n",
       "      <td>Омск</td>\n",
       "      <td>free</td>\n",
       "      <td>3798.334905</td>\n",
       "      <td>19.0</td>\n",
       "      <td>2021-03-03</td>\n",
       "      <td>3</td>\n",
       "      <td>8</td>\n",
       "      <td>50</td>\n",
       "      <td>0</td>\n",
       "    </tr>\n",
       "    <tr>\n",
       "      <th>6507</th>\n",
       "      <td>700</td>\n",
       "      <td>Айдар</td>\n",
       "      <td>22</td>\n",
       "      <td>Омск</td>\n",
       "      <td>free</td>\n",
       "      <td>2984.551206</td>\n",
       "      <td>16.0</td>\n",
       "      <td>2021-04-09</td>\n",
       "      <td>4</td>\n",
       "      <td>8</td>\n",
       "      <td>50</td>\n",
       "      <td>0</td>\n",
       "    </tr>\n",
       "    <tr>\n",
       "      <th>6508</th>\n",
       "      <td>700</td>\n",
       "      <td>Айдар</td>\n",
       "      <td>22</td>\n",
       "      <td>Омск</td>\n",
       "      <td>free</td>\n",
       "      <td>3360.107141</td>\n",
       "      <td>17.0</td>\n",
       "      <td>2021-06-12</td>\n",
       "      <td>6</td>\n",
       "      <td>8</td>\n",
       "      <td>50</td>\n",
       "      <td>0</td>\n",
       "    </tr>\n",
       "    <tr>\n",
       "      <th>6509</th>\n",
       "      <td>700</td>\n",
       "      <td>Айдар</td>\n",
       "      <td>22</td>\n",
       "      <td>Омск</td>\n",
       "      <td>free</td>\n",
       "      <td>2567.543847</td>\n",
       "      <td>12.0</td>\n",
       "      <td>2021-06-23</td>\n",
       "      <td>6</td>\n",
       "      <td>8</td>\n",
       "      <td>50</td>\n",
       "      <td>0</td>\n",
       "    </tr>\n",
       "    <tr>\n",
       "      <th>6510</th>\n",
       "      <td>700</td>\n",
       "      <td>Айдар</td>\n",
       "      <td>22</td>\n",
       "      <td>Омск</td>\n",
       "      <td>free</td>\n",
       "      <td>4110.232038</td>\n",
       "      <td>16.0</td>\n",
       "      <td>2021-07-08</td>\n",
       "      <td>7</td>\n",
       "      <td>8</td>\n",
       "      <td>50</td>\n",
       "      <td>0</td>\n",
       "    </tr>\n",
       "    <tr>\n",
       "      <th>6511</th>\n",
       "      <td>700</td>\n",
       "      <td>Айдар</td>\n",
       "      <td>22</td>\n",
       "      <td>Омск</td>\n",
       "      <td>free</td>\n",
       "      <td>288.974241</td>\n",
       "      <td>5.0</td>\n",
       "      <td>2021-07-18</td>\n",
       "      <td>7</td>\n",
       "      <td>8</td>\n",
       "      <td>50</td>\n",
       "      <td>0</td>\n",
       "    </tr>\n",
       "    <tr>\n",
       "      <th>6512</th>\n",
       "      <td>700</td>\n",
       "      <td>Айдар</td>\n",
       "      <td>22</td>\n",
       "      <td>Омск</td>\n",
       "      <td>free</td>\n",
       "      <td>4071.654669</td>\n",
       "      <td>17.0</td>\n",
       "      <td>2021-08-17</td>\n",
       "      <td>8</td>\n",
       "      <td>8</td>\n",
       "      <td>50</td>\n",
       "      <td>0</td>\n",
       "    </tr>\n",
       "    <tr>\n",
       "      <th>6513</th>\n",
       "      <td>700</td>\n",
       "      <td>Айдар</td>\n",
       "      <td>22</td>\n",
       "      <td>Омск</td>\n",
       "      <td>free</td>\n",
       "      <td>1920.188901</td>\n",
       "      <td>10.0</td>\n",
       "      <td>2021-10-08</td>\n",
       "      <td>10</td>\n",
       "      <td>8</td>\n",
       "      <td>50</td>\n",
       "      <td>0</td>\n",
       "    </tr>\n",
       "    <tr>\n",
       "      <th>6514</th>\n",
       "      <td>700</td>\n",
       "      <td>Айдар</td>\n",
       "      <td>22</td>\n",
       "      <td>Омск</td>\n",
       "      <td>free</td>\n",
       "      <td>4402.389717</td>\n",
       "      <td>34.0</td>\n",
       "      <td>2021-10-15</td>\n",
       "      <td>10</td>\n",
       "      <td>8</td>\n",
       "      <td>50</td>\n",
       "      <td>0</td>\n",
       "    </tr>\n",
       "    <tr>\n",
       "      <th>6515</th>\n",
       "      <td>700</td>\n",
       "      <td>Айдар</td>\n",
       "      <td>22</td>\n",
       "      <td>Омск</td>\n",
       "      <td>free</td>\n",
       "      <td>2409.555418</td>\n",
       "      <td>9.0</td>\n",
       "      <td>2021-11-03</td>\n",
       "      <td>11</td>\n",
       "      <td>8</td>\n",
       "      <td>50</td>\n",
       "      <td>0</td>\n",
       "    </tr>\n",
       "    <tr>\n",
       "      <th>6516</th>\n",
       "      <td>700</td>\n",
       "      <td>Айдар</td>\n",
       "      <td>22</td>\n",
       "      <td>Омск</td>\n",
       "      <td>free</td>\n",
       "      <td>2639.817512</td>\n",
       "      <td>9.0</td>\n",
       "      <td>2021-11-14</td>\n",
       "      <td>11</td>\n",
       "      <td>8</td>\n",
       "      <td>50</td>\n",
       "      <td>0</td>\n",
       "    </tr>\n",
       "    <tr>\n",
       "      <th>6517</th>\n",
       "      <td>700</td>\n",
       "      <td>Айдар</td>\n",
       "      <td>22</td>\n",
       "      <td>Омск</td>\n",
       "      <td>free</td>\n",
       "      <td>3686.409695</td>\n",
       "      <td>14.0</td>\n",
       "      <td>2021-11-21</td>\n",
       "      <td>11</td>\n",
       "      <td>8</td>\n",
       "      <td>50</td>\n",
       "      <td>0</td>\n",
       "    </tr>\n",
       "    <tr>\n",
       "      <th>6518</th>\n",
       "      <td>701</td>\n",
       "      <td>Иван</td>\n",
       "      <td>31</td>\n",
       "      <td>Екатеринбург</td>\n",
       "      <td>free</td>\n",
       "      <td>2676.472894</td>\n",
       "      <td>18.0</td>\n",
       "      <td>2021-01-23</td>\n",
       "      <td>1</td>\n",
       "      <td>8</td>\n",
       "      <td>50</td>\n",
       "      <td>0</td>\n",
       "    </tr>\n",
       "    <tr>\n",
       "      <th>6519</th>\n",
       "      <td>701</td>\n",
       "      <td>Иван</td>\n",
       "      <td>31</td>\n",
       "      <td>Екатеринбург</td>\n",
       "      <td>free</td>\n",
       "      <td>2743.677431</td>\n",
       "      <td>15.0</td>\n",
       "      <td>2021-02-13</td>\n",
       "      <td>2</td>\n",
       "      <td>8</td>\n",
       "      <td>50</td>\n",
       "      <td>0</td>\n",
       "    </tr>\n",
       "  </tbody>\n",
       "</table>\n",
       "</div>"
      ],
      "text/plain": [
       "      user_id   name  age          city subscription_type     distance  \\\n",
       "6500      700  Айдар   22          Омск              free  2515.690719   \n",
       "6501      700  Айдар   22          Омск              free   846.932642   \n",
       "6502      700  Айдар   22          Омск              free  4004.434142   \n",
       "6503      700  Айдар   22          Омск              free  1205.911290   \n",
       "6504      700  Айдар   22          Омск              free  3047.379435   \n",
       "6505      700  Айдар   22          Омск              free  4342.002254   \n",
       "6506      700  Айдар   22          Омск              free  3798.334905   \n",
       "6507      700  Айдар   22          Омск              free  2984.551206   \n",
       "6508      700  Айдар   22          Омск              free  3360.107141   \n",
       "6509      700  Айдар   22          Омск              free  2567.543847   \n",
       "6510      700  Айдар   22          Омск              free  4110.232038   \n",
       "6511      700  Айдар   22          Омск              free   288.974241   \n",
       "6512      700  Айдар   22          Омск              free  4071.654669   \n",
       "6513      700  Айдар   22          Омск              free  1920.188901   \n",
       "6514      700  Айдар   22          Омск              free  4402.389717   \n",
       "6515      700  Айдар   22          Омск              free  2409.555418   \n",
       "6516      700  Айдар   22          Омск              free  2639.817512   \n",
       "6517      700  Айдар   22          Омск              free  3686.409695   \n",
       "6518      701   Иван   31  Екатеринбург              free  2676.472894   \n",
       "6519      701   Иван   31  Екатеринбург              free  2743.677431   \n",
       "\n",
       "      duration       date  month  minute_price  start_ride_price  \\\n",
       "6500      15.0 2021-01-02      1             8                50   \n",
       "6501      17.0 2021-02-01      2             8                50   \n",
       "6502      21.0 2021-02-04      2             8                50   \n",
       "6503      10.0 2021-02-10      2             8                50   \n",
       "6504      18.0 2021-02-14      2             8                50   \n",
       "6505      23.0 2021-02-23      2             8                50   \n",
       "6506      19.0 2021-03-03      3             8                50   \n",
       "6507      16.0 2021-04-09      4             8                50   \n",
       "6508      17.0 2021-06-12      6             8                50   \n",
       "6509      12.0 2021-06-23      6             8                50   \n",
       "6510      16.0 2021-07-08      7             8                50   \n",
       "6511       5.0 2021-07-18      7             8                50   \n",
       "6512      17.0 2021-08-17      8             8                50   \n",
       "6513      10.0 2021-10-08     10             8                50   \n",
       "6514      34.0 2021-10-15     10             8                50   \n",
       "6515       9.0 2021-11-03     11             8                50   \n",
       "6516       9.0 2021-11-14     11             8                50   \n",
       "6517      14.0 2021-11-21     11             8                50   \n",
       "6518      18.0 2021-01-23      1             8                50   \n",
       "6519      15.0 2021-02-13      2             8                50   \n",
       "\n",
       "      subscription_fee  \n",
       "6500                 0  \n",
       "6501                 0  \n",
       "6502                 0  \n",
       "6503                 0  \n",
       "6504                 0  \n",
       "6505                 0  \n",
       "6506                 0  \n",
       "6507                 0  \n",
       "6508                 0  \n",
       "6509                 0  \n",
       "6510                 0  \n",
       "6511                 0  \n",
       "6512                 0  \n",
       "6513                 0  \n",
       "6514                 0  \n",
       "6515                 0  \n",
       "6516                 0  \n",
       "6517                 0  \n",
       "6518                 0  \n",
       "6519                 0  "
      ]
     },
     "execution_count": 22,
     "metadata": {},
     "output_type": "execute_result"
    }
   ],
   "source": [
    "data_free = data.query('subscription_type == \"free\"')\n",
    "data_free.head(20)"
   ]
  },
  {
   "cell_type": "code",
   "execution_count": 23,
   "id": "1a5f27f4",
   "metadata": {
    "scrolled": true
   },
   "outputs": [
    {
     "data": {
      "text/html": [
       "<div>\n",
       "<style scoped>\n",
       "    .dataframe tbody tr th:only-of-type {\n",
       "        vertical-align: middle;\n",
       "    }\n",
       "\n",
       "    .dataframe tbody tr th {\n",
       "        vertical-align: top;\n",
       "    }\n",
       "\n",
       "    .dataframe thead th {\n",
       "        text-align: right;\n",
       "    }\n",
       "</style>\n",
       "<table border=\"1\" class=\"dataframe\">\n",
       "  <thead>\n",
       "    <tr style=\"text-align: right;\">\n",
       "      <th></th>\n",
       "      <th>user_id</th>\n",
       "      <th>name</th>\n",
       "      <th>age</th>\n",
       "      <th>city</th>\n",
       "      <th>subscription_type</th>\n",
       "      <th>distance</th>\n",
       "      <th>duration</th>\n",
       "      <th>date</th>\n",
       "      <th>month</th>\n",
       "      <th>minute_price</th>\n",
       "      <th>start_ride_price</th>\n",
       "      <th>subscription_fee</th>\n",
       "    </tr>\n",
       "  </thead>\n",
       "  <tbody>\n",
       "    <tr>\n",
       "      <th>0</th>\n",
       "      <td>1</td>\n",
       "      <td>Кира</td>\n",
       "      <td>22</td>\n",
       "      <td>Тюмень</td>\n",
       "      <td>ultra</td>\n",
       "      <td>4409.919140</td>\n",
       "      <td>26.0</td>\n",
       "      <td>2021-01-01</td>\n",
       "      <td>1</td>\n",
       "      <td>6</td>\n",
       "      <td>0</td>\n",
       "      <td>199</td>\n",
       "    </tr>\n",
       "    <tr>\n",
       "      <th>1</th>\n",
       "      <td>1</td>\n",
       "      <td>Кира</td>\n",
       "      <td>22</td>\n",
       "      <td>Тюмень</td>\n",
       "      <td>ultra</td>\n",
       "      <td>2617.592153</td>\n",
       "      <td>16.0</td>\n",
       "      <td>2021-01-18</td>\n",
       "      <td>1</td>\n",
       "      <td>6</td>\n",
       "      <td>0</td>\n",
       "      <td>199</td>\n",
       "    </tr>\n",
       "    <tr>\n",
       "      <th>2</th>\n",
       "      <td>1</td>\n",
       "      <td>Кира</td>\n",
       "      <td>22</td>\n",
       "      <td>Тюмень</td>\n",
       "      <td>ultra</td>\n",
       "      <td>754.159807</td>\n",
       "      <td>7.0</td>\n",
       "      <td>2021-04-20</td>\n",
       "      <td>4</td>\n",
       "      <td>6</td>\n",
       "      <td>0</td>\n",
       "      <td>199</td>\n",
       "    </tr>\n",
       "    <tr>\n",
       "      <th>3</th>\n",
       "      <td>1</td>\n",
       "      <td>Кира</td>\n",
       "      <td>22</td>\n",
       "      <td>Тюмень</td>\n",
       "      <td>ultra</td>\n",
       "      <td>2694.783254</td>\n",
       "      <td>19.0</td>\n",
       "      <td>2021-08-11</td>\n",
       "      <td>8</td>\n",
       "      <td>6</td>\n",
       "      <td>0</td>\n",
       "      <td>199</td>\n",
       "    </tr>\n",
       "    <tr>\n",
       "      <th>4</th>\n",
       "      <td>1</td>\n",
       "      <td>Кира</td>\n",
       "      <td>22</td>\n",
       "      <td>Тюмень</td>\n",
       "      <td>ultra</td>\n",
       "      <td>4028.687306</td>\n",
       "      <td>27.0</td>\n",
       "      <td>2021-08-28</td>\n",
       "      <td>8</td>\n",
       "      <td>6</td>\n",
       "      <td>0</td>\n",
       "      <td>199</td>\n",
       "    </tr>\n",
       "    <tr>\n",
       "      <th>5</th>\n",
       "      <td>1</td>\n",
       "      <td>Кира</td>\n",
       "      <td>22</td>\n",
       "      <td>Тюмень</td>\n",
       "      <td>ultra</td>\n",
       "      <td>2770.890808</td>\n",
       "      <td>17.0</td>\n",
       "      <td>2021-10-09</td>\n",
       "      <td>10</td>\n",
       "      <td>6</td>\n",
       "      <td>0</td>\n",
       "      <td>199</td>\n",
       "    </tr>\n",
       "    <tr>\n",
       "      <th>6</th>\n",
       "      <td>1</td>\n",
       "      <td>Кира</td>\n",
       "      <td>22</td>\n",
       "      <td>Тюмень</td>\n",
       "      <td>ultra</td>\n",
       "      <td>3039.020292</td>\n",
       "      <td>15.0</td>\n",
       "      <td>2021-10-19</td>\n",
       "      <td>10</td>\n",
       "      <td>6</td>\n",
       "      <td>0</td>\n",
       "      <td>199</td>\n",
       "    </tr>\n",
       "    <tr>\n",
       "      <th>7</th>\n",
       "      <td>1</td>\n",
       "      <td>Кира</td>\n",
       "      <td>22</td>\n",
       "      <td>Тюмень</td>\n",
       "      <td>ultra</td>\n",
       "      <td>2842.118050</td>\n",
       "      <td>24.0</td>\n",
       "      <td>2021-11-06</td>\n",
       "      <td>11</td>\n",
       "      <td>6</td>\n",
       "      <td>0</td>\n",
       "      <td>199</td>\n",
       "    </tr>\n",
       "    <tr>\n",
       "      <th>8</th>\n",
       "      <td>1</td>\n",
       "      <td>Кира</td>\n",
       "      <td>22</td>\n",
       "      <td>Тюмень</td>\n",
       "      <td>ultra</td>\n",
       "      <td>3412.690668</td>\n",
       "      <td>16.0</td>\n",
       "      <td>2021-11-14</td>\n",
       "      <td>11</td>\n",
       "      <td>6</td>\n",
       "      <td>0</td>\n",
       "      <td>199</td>\n",
       "    </tr>\n",
       "    <tr>\n",
       "      <th>9</th>\n",
       "      <td>1</td>\n",
       "      <td>Кира</td>\n",
       "      <td>22</td>\n",
       "      <td>Тюмень</td>\n",
       "      <td>ultra</td>\n",
       "      <td>748.690645</td>\n",
       "      <td>16.0</td>\n",
       "      <td>2021-11-22</td>\n",
       "      <td>11</td>\n",
       "      <td>6</td>\n",
       "      <td>0</td>\n",
       "      <td>199</td>\n",
       "    </tr>\n",
       "    <tr>\n",
       "      <th>10</th>\n",
       "      <td>1</td>\n",
       "      <td>Кира</td>\n",
       "      <td>22</td>\n",
       "      <td>Тюмень</td>\n",
       "      <td>ultra</td>\n",
       "      <td>4031.020195</td>\n",
       "      <td>18.0</td>\n",
       "      <td>2021-12-14</td>\n",
       "      <td>12</td>\n",
       "      <td>6</td>\n",
       "      <td>0</td>\n",
       "      <td>199</td>\n",
       "    </tr>\n",
       "    <tr>\n",
       "      <th>11</th>\n",
       "      <td>1</td>\n",
       "      <td>Кира</td>\n",
       "      <td>22</td>\n",
       "      <td>Тюмень</td>\n",
       "      <td>ultra</td>\n",
       "      <td>2720.609748</td>\n",
       "      <td>10.0</td>\n",
       "      <td>2021-12-22</td>\n",
       "      <td>12</td>\n",
       "      <td>6</td>\n",
       "      <td>0</td>\n",
       "      <td>199</td>\n",
       "    </tr>\n",
       "    <tr>\n",
       "      <th>12</th>\n",
       "      <td>2</td>\n",
       "      <td>Станислав</td>\n",
       "      <td>31</td>\n",
       "      <td>Омск</td>\n",
       "      <td>ultra</td>\n",
       "      <td>3105.086678</td>\n",
       "      <td>25.0</td>\n",
       "      <td>2021-03-15</td>\n",
       "      <td>3</td>\n",
       "      <td>6</td>\n",
       "      <td>0</td>\n",
       "      <td>199</td>\n",
       "    </tr>\n",
       "    <tr>\n",
       "      <th>13</th>\n",
       "      <td>2</td>\n",
       "      <td>Станислав</td>\n",
       "      <td>31</td>\n",
       "      <td>Омск</td>\n",
       "      <td>ultra</td>\n",
       "      <td>3053.519401</td>\n",
       "      <td>12.0</td>\n",
       "      <td>2021-03-18</td>\n",
       "      <td>3</td>\n",
       "      <td>6</td>\n",
       "      <td>0</td>\n",
       "      <td>199</td>\n",
       "    </tr>\n",
       "    <tr>\n",
       "      <th>14</th>\n",
       "      <td>2</td>\n",
       "      <td>Станислав</td>\n",
       "      <td>31</td>\n",
       "      <td>Омск</td>\n",
       "      <td>ultra</td>\n",
       "      <td>4029.116927</td>\n",
       "      <td>26.0</td>\n",
       "      <td>2021-03-23</td>\n",
       "      <td>3</td>\n",
       "      <td>6</td>\n",
       "      <td>0</td>\n",
       "      <td>199</td>\n",
       "    </tr>\n",
       "    <tr>\n",
       "      <th>15</th>\n",
       "      <td>2</td>\n",
       "      <td>Станислав</td>\n",
       "      <td>31</td>\n",
       "      <td>Омск</td>\n",
       "      <td>ultra</td>\n",
       "      <td>2805.786329</td>\n",
       "      <td>21.0</td>\n",
       "      <td>2021-04-08</td>\n",
       "      <td>4</td>\n",
       "      <td>6</td>\n",
       "      <td>0</td>\n",
       "      <td>199</td>\n",
       "    </tr>\n",
       "    <tr>\n",
       "      <th>16</th>\n",
       "      <td>2</td>\n",
       "      <td>Станислав</td>\n",
       "      <td>31</td>\n",
       "      <td>Омск</td>\n",
       "      <td>ultra</td>\n",
       "      <td>3358.595495</td>\n",
       "      <td>19.0</td>\n",
       "      <td>2021-04-13</td>\n",
       "      <td>4</td>\n",
       "      <td>6</td>\n",
       "      <td>0</td>\n",
       "      <td>199</td>\n",
       "    </tr>\n",
       "    <tr>\n",
       "      <th>17</th>\n",
       "      <td>2</td>\n",
       "      <td>Станислав</td>\n",
       "      <td>31</td>\n",
       "      <td>Омск</td>\n",
       "      <td>ultra</td>\n",
       "      <td>3255.338202</td>\n",
       "      <td>14.0</td>\n",
       "      <td>2021-06-20</td>\n",
       "      <td>6</td>\n",
       "      <td>6</td>\n",
       "      <td>0</td>\n",
       "      <td>199</td>\n",
       "    </tr>\n",
       "    <tr>\n",
       "      <th>18</th>\n",
       "      <td>2</td>\n",
       "      <td>Станислав</td>\n",
       "      <td>31</td>\n",
       "      <td>Омск</td>\n",
       "      <td>ultra</td>\n",
       "      <td>3942.817648</td>\n",
       "      <td>21.0</td>\n",
       "      <td>2021-07-02</td>\n",
       "      <td>7</td>\n",
       "      <td>6</td>\n",
       "      <td>0</td>\n",
       "      <td>199</td>\n",
       "    </tr>\n",
       "    <tr>\n",
       "      <th>19</th>\n",
       "      <td>2</td>\n",
       "      <td>Станислав</td>\n",
       "      <td>31</td>\n",
       "      <td>Омск</td>\n",
       "      <td>ultra</td>\n",
       "      <td>2837.905316</td>\n",
       "      <td>27.0</td>\n",
       "      <td>2021-07-18</td>\n",
       "      <td>7</td>\n",
       "      <td>6</td>\n",
       "      <td>0</td>\n",
       "      <td>199</td>\n",
       "    </tr>\n",
       "  </tbody>\n",
       "</table>\n",
       "</div>"
      ],
      "text/plain": [
       "    user_id       name  age    city subscription_type     distance  duration  \\\n",
       "0         1       Кира   22  Тюмень             ultra  4409.919140      26.0   \n",
       "1         1       Кира   22  Тюмень             ultra  2617.592153      16.0   \n",
       "2         1       Кира   22  Тюмень             ultra   754.159807       7.0   \n",
       "3         1       Кира   22  Тюмень             ultra  2694.783254      19.0   \n",
       "4         1       Кира   22  Тюмень             ultra  4028.687306      27.0   \n",
       "5         1       Кира   22  Тюмень             ultra  2770.890808      17.0   \n",
       "6         1       Кира   22  Тюмень             ultra  3039.020292      15.0   \n",
       "7         1       Кира   22  Тюмень             ultra  2842.118050      24.0   \n",
       "8         1       Кира   22  Тюмень             ultra  3412.690668      16.0   \n",
       "9         1       Кира   22  Тюмень             ultra   748.690645      16.0   \n",
       "10        1       Кира   22  Тюмень             ultra  4031.020195      18.0   \n",
       "11        1       Кира   22  Тюмень             ultra  2720.609748      10.0   \n",
       "12        2  Станислав   31    Омск             ultra  3105.086678      25.0   \n",
       "13        2  Станислав   31    Омск             ultra  3053.519401      12.0   \n",
       "14        2  Станислав   31    Омск             ultra  4029.116927      26.0   \n",
       "15        2  Станислав   31    Омск             ultra  2805.786329      21.0   \n",
       "16        2  Станислав   31    Омск             ultra  3358.595495      19.0   \n",
       "17        2  Станислав   31    Омск             ultra  3255.338202      14.0   \n",
       "18        2  Станислав   31    Омск             ultra  3942.817648      21.0   \n",
       "19        2  Станислав   31    Омск             ultra  2837.905316      27.0   \n",
       "\n",
       "         date  month  minute_price  start_ride_price  subscription_fee  \n",
       "0  2021-01-01      1             6                 0               199  \n",
       "1  2021-01-18      1             6                 0               199  \n",
       "2  2021-04-20      4             6                 0               199  \n",
       "3  2021-08-11      8             6                 0               199  \n",
       "4  2021-08-28      8             6                 0               199  \n",
       "5  2021-10-09     10             6                 0               199  \n",
       "6  2021-10-19     10             6                 0               199  \n",
       "7  2021-11-06     11             6                 0               199  \n",
       "8  2021-11-14     11             6                 0               199  \n",
       "9  2021-11-22     11             6                 0               199  \n",
       "10 2021-12-14     12             6                 0               199  \n",
       "11 2021-12-22     12             6                 0               199  \n",
       "12 2021-03-15      3             6                 0               199  \n",
       "13 2021-03-18      3             6                 0               199  \n",
       "14 2021-03-23      3             6                 0               199  \n",
       "15 2021-04-08      4             6                 0               199  \n",
       "16 2021-04-13      4             6                 0               199  \n",
       "17 2021-06-20      6             6                 0               199  \n",
       "18 2021-07-02      7             6                 0               199  \n",
       "19 2021-07-18      7             6                 0               199  "
      ]
     },
     "execution_count": 23,
     "metadata": {},
     "output_type": "execute_result"
    }
   ],
   "source": [
    "data_ultra = data.query('subscription_type == \"ultra\"')\n",
    "data_ultra.head(20)"
   ]
  },
  {
   "cell_type": "markdown",
   "id": "8a9155af",
   "metadata": {},
   "source": [
    "4.3 Визуализируем информацию о расстоянии и времени поездок для пользователей обеих категорий."
   ]
  },
  {
   "cell_type": "code",
   "execution_count": 40,
   "id": "4d0a120d",
   "metadata": {},
   "outputs": [
    {
     "data": {
      "image/png": "[encoded data removed]",
      "text/plain": [
       "<Figure size 1000x500 with 1 Axes>"
      ]
     },
     "metadata": {},
     "output_type": "display_data"
    }
   ],
   "source": [
    "data_free['distance'].hist(figsize=(10,5), bins=200)\n",
    "plt.title('Расстояние поездок пользователей без подписки', fontsize=15)\n",
    "plt.xlabel('Расстояние', fontsize=12)\n",
    "plt.ylabel('Кол-во пользователей', fontsize=12)\n",
    "plt.show()"
   ]
  },
  {
   "cell_type": "code",
   "execution_count": 41,
   "id": "7407ffd8",
   "metadata": {
    "scrolled": false
   },
   "outputs": [
    {
     "data": {
      "image/png": "[encoded data removed]",
      "text/plain": [
       "<Figure size 1000x500 with 1 Axes>"
      ]
     },
     "metadata": {},
     "output_type": "display_data"
    }
   ],
   "source": [
    "data_ultra['distance'].hist(figsize=(10,5), bins=200)\n",
    "plt.title('Расстояние поездок пользователей c подпиской', fontsize=15)\n",
    "plt.xlabel('Расстояние', fontsize=12)\n",
    "plt.ylabel('Кол-во пользователей', fontsize=12)\n",
    "plt.show()"
   ]
  },
  {
   "cell_type": "markdown",
   "id": "729e6043",
   "metadata": {},
   "source": [
    "Расстояния поездки у пользователей без подписки самые разнообразные. Чаще оно составляет от 2 до 4,5 км. У пользователей с подпиской самая распространенная дистанция около 3 км. \n",
    "\n",
    "Посмотрим на время в пути."
   ]
  },
  {
   "cell_type": "code",
   "execution_count": 42,
   "id": "ec86d574",
   "metadata": {
    "scrolled": true
   },
   "outputs": [
    {
     "data": {
      "image/png": "[encoded data removed]",
      "text/plain": [
       "<Figure size 900x400 with 1 Axes>"
      ]
     },
     "metadata": {},
     "output_type": "display_data"
    }
   ],
   "source": [
    "data_free['duration'].hist(figsize=(9,4), bins=35)\n",
    "plt.title('Продолжительность поездок пользователей без подписки', fontsize=15)\n",
    "plt.xlabel('Время', fontsize=12)\n",
    "plt.ylabel('Кол-во пользователей', fontsize=12)\n",
    "plt.show()"
   ]
  },
  {
   "cell_type": "code",
   "execution_count": 43,
   "id": "f6edc1a4",
   "metadata": {
    "scrolled": true
   },
   "outputs": [
    {
     "data": {
      "image/png": "[encoded data removed]",
      "text/plain": [
       "<Figure size 900x400 with 1 Axes>"
      ]
     },
     "metadata": {},
     "output_type": "display_data"
    }
   ],
   "source": [
    "data_ultra['duration'].hist(figsize=(9,4), bins=35)\n",
    "plt.title('Продолжительность поездок пользователей с подпиской', fontsize=15)\n",
    "plt.xlabel('Время', fontsize=12)\n",
    "plt.ylabel('Кол-во пользователей', fontsize=12)\n",
    "plt.show()"
   ]
  },
  {
   "cell_type": "markdown",
   "id": "33d28c1d",
   "metadata": {},
   "source": [
    "Графики времени в пути похожи, но несколько отличий все же есть. Во-первых, пользователи с подпиской реже тратят меньше 5 минут, это может быть связано со случайными ошибками новичков в аренде самокатов или с тем, что люди без подписки просто хотят опробовать новое средство передвижения. Во-вторых, пользователи без подписки не трятят больше 35 минут, а у людей с подпиской ultra такие случаи есть. Средние значения у обеих категорий похожи, это примерно 15-20 минут в пути."
   ]
  },
  {
   "cell_type": "markdown",
   "id": "402d620f",
   "metadata": {},
   "source": [
    "#### Шаг 5. Подсчёт выручки"
   ]
  },
  {
   "cell_type": "markdown",
   "id": "1c30db1a",
   "metadata": {},
   "source": [
    "5.1 Создадим датафрейм с агрегированными данными о поездках на основе датафрейма с объединёнными данными из шага 4: найдем суммарное расстояние, количество поездок и суммарное время для каждого пользователя за каждый месяц."
   ]
  },
  {
   "cell_type": "code",
   "execution_count": 28,
   "id": "6cdb12ad",
   "metadata": {
    "scrolled": true
   },
   "outputs": [
    {
     "name": "stdout",
     "output_type": "stream",
     "text": [
      "Кол-во пропусков: id                      0\n",
      "месяц                   0\n",
      "суммарное расстояние    0\n",
      "кол-во поездок          0\n",
      "суммарное время         0\n",
      "цена минуты             0\n",
      "цена старта             0\n",
      "цена подписки           0\n",
      "тип_подписки            0\n",
      "dtype: int64\n"
     ]
    },
    {
     "data": {
      "text/html": [
       "<div>\n",
       "<style scoped>\n",
       "    .dataframe tbody tr th:only-of-type {\n",
       "        vertical-align: middle;\n",
       "    }\n",
       "\n",
       "    .dataframe tbody tr th {\n",
       "        vertical-align: top;\n",
       "    }\n",
       "\n",
       "    .dataframe thead th {\n",
       "        text-align: right;\n",
       "    }\n",
       "</style>\n",
       "<table border=\"1\" class=\"dataframe\">\n",
       "  <thead>\n",
       "    <tr style=\"text-align: right;\">\n",
       "      <th></th>\n",
       "      <th>id</th>\n",
       "      <th>месяц</th>\n",
       "      <th>суммарное расстояние</th>\n",
       "      <th>кол-во поездок</th>\n",
       "      <th>суммарное время</th>\n",
       "      <th>цена минуты</th>\n",
       "      <th>цена старта</th>\n",
       "      <th>цена подписки</th>\n",
       "      <th>тип_подписки</th>\n",
       "    </tr>\n",
       "  </thead>\n",
       "  <tbody>\n",
       "    <tr>\n",
       "      <th>0</th>\n",
       "      <td>1</td>\n",
       "      <td>1</td>\n",
       "      <td>7027.511294</td>\n",
       "      <td>2</td>\n",
       "      <td>42.0</td>\n",
       "      <td>6</td>\n",
       "      <td>0</td>\n",
       "      <td>199</td>\n",
       "      <td>ultra</td>\n",
       "    </tr>\n",
       "    <tr>\n",
       "      <th>1</th>\n",
       "      <td>1</td>\n",
       "      <td>4</td>\n",
       "      <td>754.159807</td>\n",
       "      <td>1</td>\n",
       "      <td>7.0</td>\n",
       "      <td>6</td>\n",
       "      <td>0</td>\n",
       "      <td>199</td>\n",
       "      <td>ultra</td>\n",
       "    </tr>\n",
       "    <tr>\n",
       "      <th>2</th>\n",
       "      <td>1</td>\n",
       "      <td>8</td>\n",
       "      <td>6723.470560</td>\n",
       "      <td>2</td>\n",
       "      <td>46.0</td>\n",
       "      <td>6</td>\n",
       "      <td>0</td>\n",
       "      <td>199</td>\n",
       "      <td>ultra</td>\n",
       "    </tr>\n",
       "    <tr>\n",
       "      <th>3</th>\n",
       "      <td>1</td>\n",
       "      <td>10</td>\n",
       "      <td>5809.911100</td>\n",
       "      <td>2</td>\n",
       "      <td>32.0</td>\n",
       "      <td>6</td>\n",
       "      <td>0</td>\n",
       "      <td>199</td>\n",
       "      <td>ultra</td>\n",
       "    </tr>\n",
       "    <tr>\n",
       "      <th>4</th>\n",
       "      <td>1</td>\n",
       "      <td>11</td>\n",
       "      <td>7003.499363</td>\n",
       "      <td>3</td>\n",
       "      <td>56.0</td>\n",
       "      <td>6</td>\n",
       "      <td>0</td>\n",
       "      <td>199</td>\n",
       "      <td>ultra</td>\n",
       "    </tr>\n",
       "    <tr>\n",
       "      <th>...</th>\n",
       "      <td>...</td>\n",
       "      <td>...</td>\n",
       "      <td>...</td>\n",
       "      <td>...</td>\n",
       "      <td>...</td>\n",
       "      <td>...</td>\n",
       "      <td>...</td>\n",
       "      <td>...</td>\n",
       "      <td>...</td>\n",
       "    </tr>\n",
       "    <tr>\n",
       "      <th>11326</th>\n",
       "      <td>1534</td>\n",
       "      <td>6</td>\n",
       "      <td>3409.468534</td>\n",
       "      <td>2</td>\n",
       "      <td>26.0</td>\n",
       "      <td>8</td>\n",
       "      <td>50</td>\n",
       "      <td>0</td>\n",
       "      <td>free</td>\n",
       "    </tr>\n",
       "    <tr>\n",
       "      <th>11327</th>\n",
       "      <td>1534</td>\n",
       "      <td>8</td>\n",
       "      <td>7622.453034</td>\n",
       "      <td>2</td>\n",
       "      <td>48.0</td>\n",
       "      <td>8</td>\n",
       "      <td>50</td>\n",
       "      <td>0</td>\n",
       "      <td>free</td>\n",
       "    </tr>\n",
       "    <tr>\n",
       "      <th>11328</th>\n",
       "      <td>1534</td>\n",
       "      <td>9</td>\n",
       "      <td>4928.173852</td>\n",
       "      <td>1</td>\n",
       "      <td>23.0</td>\n",
       "      <td>8</td>\n",
       "      <td>50</td>\n",
       "      <td>0</td>\n",
       "      <td>free</td>\n",
       "    </tr>\n",
       "    <tr>\n",
       "      <th>11329</th>\n",
       "      <td>1534</td>\n",
       "      <td>11</td>\n",
       "      <td>13350.015305</td>\n",
       "      <td>4</td>\n",
       "      <td>78.0</td>\n",
       "      <td>8</td>\n",
       "      <td>50</td>\n",
       "      <td>0</td>\n",
       "      <td>free</td>\n",
       "    </tr>\n",
       "    <tr>\n",
       "      <th>11330</th>\n",
       "      <td>1534</td>\n",
       "      <td>12</td>\n",
       "      <td>2371.711192</td>\n",
       "      <td>1</td>\n",
       "      <td>16.0</td>\n",
       "      <td>8</td>\n",
       "      <td>50</td>\n",
       "      <td>0</td>\n",
       "      <td>free</td>\n",
       "    </tr>\n",
       "  </tbody>\n",
       "</table>\n",
       "<p>11331 rows × 9 columns</p>\n",
       "</div>"
      ],
      "text/plain": [
       "         id  месяц  суммарное расстояние  кол-во поездок  суммарное время  \\\n",
       "0         1      1           7027.511294               2             42.0   \n",
       "1         1      4            754.159807               1              7.0   \n",
       "2         1      8           6723.470560               2             46.0   \n",
       "3         1     10           5809.911100               2             32.0   \n",
       "4         1     11           7003.499363               3             56.0   \n",
       "...     ...    ...                   ...             ...              ...   \n",
       "11326  1534      6           3409.468534               2             26.0   \n",
       "11327  1534      8           7622.453034               2             48.0   \n",
       "11328  1534      9           4928.173852               1             23.0   \n",
       "11329  1534     11          13350.015305               4             78.0   \n",
       "11330  1534     12           2371.711192               1             16.0   \n",
       "\n",
       "       цена минуты  цена старта  цена подписки тип_подписки  \n",
       "0                6            0            199        ultra  \n",
       "1                6            0            199        ultra  \n",
       "2                6            0            199        ultra  \n",
       "3                6            0            199        ultra  \n",
       "4                6            0            199        ultra  \n",
       "...            ...          ...            ...          ...  \n",
       "11326            8           50              0         free  \n",
       "11327            8           50              0         free  \n",
       "11328            8           50              0         free  \n",
       "11329            8           50              0         free  \n",
       "11330            8           50              0         free  \n",
       "\n",
       "[11331 rows x 9 columns]"
      ]
     },
     "execution_count": 28,
     "metadata": {},
     "output_type": "execute_result"
    }
   ],
   "source": [
    "data_new = pd.pivot_table(data, index=['user_id', 'month'],\n",
    "                          values=['distance', 'duration', 'subscription_type', 'minute_price', 'start_ride_price','subscription_fee'],\n",
    "                          aggfunc={'distance':'sum', 'duration':['sum','count'], 'subscription_type': 'first',\n",
    "                                  'minute_price':'first', 'start_ride_price':'first', 'subscription_fee':'first'}\n",
    "                         ).reset_index()\n",
    "data_new.columns = ['id','месяц', 'суммарное расстояние', 'кол-во поездок', 'суммарное время','цена минуты','цена старта','цена подписки','тип_подписки']\n",
    "print('Кол-во пропусков:', data_new.isna().sum())\n",
    "data_new"
   ]
  },
  {
   "cell_type": "markdown",
   "id": "52fba2fe",
   "metadata": {},
   "source": [
    "Пропусков в таблице нет."
   ]
  },
  {
   "cell_type": "markdown",
   "id": "398b30ad",
   "metadata": {},
   "source": [
    "5.2 В этот же датафрейм добавим столбец с помесячной выручкой, которую принёс каждый пользователь."
   ]
  },
  {
   "cell_type": "code",
   "execution_count": 29,
   "id": "9510667d",
   "metadata": {},
   "outputs": [
    {
     "data": {
      "text/html": [
       "<div>\n",
       "<style scoped>\n",
       "    .dataframe tbody tr th:only-of-type {\n",
       "        vertical-align: middle;\n",
       "    }\n",
       "\n",
       "    .dataframe tbody tr th {\n",
       "        vertical-align: top;\n",
       "    }\n",
       "\n",
       "    .dataframe thead th {\n",
       "        text-align: right;\n",
       "    }\n",
       "</style>\n",
       "<table border=\"1\" class=\"dataframe\">\n",
       "  <thead>\n",
       "    <tr style=\"text-align: right;\">\n",
       "      <th></th>\n",
       "      <th>id</th>\n",
       "      <th>месяц</th>\n",
       "      <th>суммарное расстояние</th>\n",
       "      <th>кол-во поездок</th>\n",
       "      <th>суммарное время</th>\n",
       "      <th>цена минуты</th>\n",
       "      <th>цена старта</th>\n",
       "      <th>цена подписки</th>\n",
       "      <th>тип_подписки</th>\n",
       "      <th>выручка</th>\n",
       "    </tr>\n",
       "  </thead>\n",
       "  <tbody>\n",
       "    <tr>\n",
       "      <th>0</th>\n",
       "      <td>1</td>\n",
       "      <td>1</td>\n",
       "      <td>7027.511294</td>\n",
       "      <td>2</td>\n",
       "      <td>42.0</td>\n",
       "      <td>6</td>\n",
       "      <td>0</td>\n",
       "      <td>199</td>\n",
       "      <td>ultra</td>\n",
       "      <td>451.0</td>\n",
       "    </tr>\n",
       "    <tr>\n",
       "      <th>1</th>\n",
       "      <td>1</td>\n",
       "      <td>4</td>\n",
       "      <td>754.159807</td>\n",
       "      <td>1</td>\n",
       "      <td>7.0</td>\n",
       "      <td>6</td>\n",
       "      <td>0</td>\n",
       "      <td>199</td>\n",
       "      <td>ultra</td>\n",
       "      <td>241.0</td>\n",
       "    </tr>\n",
       "    <tr>\n",
       "      <th>2</th>\n",
       "      <td>1</td>\n",
       "      <td>8</td>\n",
       "      <td>6723.470560</td>\n",
       "      <td>2</td>\n",
       "      <td>46.0</td>\n",
       "      <td>6</td>\n",
       "      <td>0</td>\n",
       "      <td>199</td>\n",
       "      <td>ultra</td>\n",
       "      <td>475.0</td>\n",
       "    </tr>\n",
       "    <tr>\n",
       "      <th>3</th>\n",
       "      <td>1</td>\n",
       "      <td>10</td>\n",
       "      <td>5809.911100</td>\n",
       "      <td>2</td>\n",
       "      <td>32.0</td>\n",
       "      <td>6</td>\n",
       "      <td>0</td>\n",
       "      <td>199</td>\n",
       "      <td>ultra</td>\n",
       "      <td>391.0</td>\n",
       "    </tr>\n",
       "    <tr>\n",
       "      <th>4</th>\n",
       "      <td>1</td>\n",
       "      <td>11</td>\n",
       "      <td>7003.499363</td>\n",
       "      <td>3</td>\n",
       "      <td>56.0</td>\n",
       "      <td>6</td>\n",
       "      <td>0</td>\n",
       "      <td>199</td>\n",
       "      <td>ultra</td>\n",
       "      <td>535.0</td>\n",
       "    </tr>\n",
       "    <tr>\n",
       "      <th>5</th>\n",
       "      <td>1</td>\n",
       "      <td>12</td>\n",
       "      <td>6751.629942</td>\n",
       "      <td>2</td>\n",
       "      <td>28.0</td>\n",
       "      <td>6</td>\n",
       "      <td>0</td>\n",
       "      <td>199</td>\n",
       "      <td>ultra</td>\n",
       "      <td>367.0</td>\n",
       "    </tr>\n",
       "    <tr>\n",
       "      <th>6</th>\n",
       "      <td>2</td>\n",
       "      <td>3</td>\n",
       "      <td>10187.723006</td>\n",
       "      <td>3</td>\n",
       "      <td>63.0</td>\n",
       "      <td>6</td>\n",
       "      <td>0</td>\n",
       "      <td>199</td>\n",
       "      <td>ultra</td>\n",
       "      <td>577.0</td>\n",
       "    </tr>\n",
       "    <tr>\n",
       "      <th>7</th>\n",
       "      <td>2</td>\n",
       "      <td>4</td>\n",
       "      <td>6164.381824</td>\n",
       "      <td>2</td>\n",
       "      <td>40.0</td>\n",
       "      <td>6</td>\n",
       "      <td>0</td>\n",
       "      <td>199</td>\n",
       "      <td>ultra</td>\n",
       "      <td>439.0</td>\n",
       "    </tr>\n",
       "    <tr>\n",
       "      <th>8</th>\n",
       "      <td>2</td>\n",
       "      <td>6</td>\n",
       "      <td>3255.338202</td>\n",
       "      <td>1</td>\n",
       "      <td>14.0</td>\n",
       "      <td>6</td>\n",
       "      <td>0</td>\n",
       "      <td>199</td>\n",
       "      <td>ultra</td>\n",
       "      <td>283.0</td>\n",
       "    </tr>\n",
       "    <tr>\n",
       "      <th>9</th>\n",
       "      <td>2</td>\n",
       "      <td>7</td>\n",
       "      <td>6780.722964</td>\n",
       "      <td>2</td>\n",
       "      <td>48.0</td>\n",
       "      <td>6</td>\n",
       "      <td>0</td>\n",
       "      <td>199</td>\n",
       "      <td>ultra</td>\n",
       "      <td>487.0</td>\n",
       "    </tr>\n",
       "  </tbody>\n",
       "</table>\n",
       "</div>"
      ],
      "text/plain": [
       "   id  месяц  суммарное расстояние  кол-во поездок  суммарное время  \\\n",
       "0   1      1           7027.511294               2             42.0   \n",
       "1   1      4            754.159807               1              7.0   \n",
       "2   1      8           6723.470560               2             46.0   \n",
       "3   1     10           5809.911100               2             32.0   \n",
       "4   1     11           7003.499363               3             56.0   \n",
       "5   1     12           6751.629942               2             28.0   \n",
       "6   2      3          10187.723006               3             63.0   \n",
       "7   2      4           6164.381824               2             40.0   \n",
       "8   2      6           3255.338202               1             14.0   \n",
       "9   2      7           6780.722964               2             48.0   \n",
       "\n",
       "   цена минуты  цена старта  цена подписки тип_подписки  выручка  \n",
       "0            6            0            199        ultra    451.0  \n",
       "1            6            0            199        ultra    241.0  \n",
       "2            6            0            199        ultra    475.0  \n",
       "3            6            0            199        ultra    391.0  \n",
       "4            6            0            199        ultra    535.0  \n",
       "5            6            0            199        ultra    367.0  \n",
       "6            6            0            199        ultra    577.0  \n",
       "7            6            0            199        ultra    439.0  \n",
       "8            6            0            199        ultra    283.0  \n",
       "9            6            0            199        ultra    487.0  "
      ]
     },
     "execution_count": 29,
     "metadata": {},
     "output_type": "execute_result"
    }
   ],
   "source": [
    "data_new['выручка'] = (data_new['цена старта'] * data_new['кол-во поездок'] +\n",
    "                       (data_new['цена минуты'] * data_new['суммарное время']) + data_new['цена подписки'])\n",
    "data_new.head(10)"
   ]
  },
  {
   "cell_type": "markdown",
   "id": "41545ac0",
   "metadata": {},
   "source": [
    "#### Шаг 6. Проверка гипотез"
   ]
  },
  {
   "cell_type": "markdown",
   "id": "82cdd0b1",
   "metadata": {},
   "source": [
    "6.1 Важно понять, тратят ли пользователи с подпиской больше времени на поездки? Если да, то пользователи с подпиской могут быть «выгоднее» для компании. Проверьте гипотезу. Используйте исходные данные о продолжительности каждой сессии — отдельно для подписчиков и тех, у кого нет подписки.\n",
    "\n",
    "Нулевая гипотеза: средние значения трат времени на поездки пользователей из двух групп равны.\\\n",
    "Альтернативная гипотеза: среднее значение трат времени на поездки пользователей с подпиской больше, чем среднее значение трат пользователей без подписки.\n",
    "\n",
    "Будем проверять одностороннюю гипотезу для средних двух генеральных совокупностей."
   ]
  },
  {
   "cell_type": "code",
   "execution_count": 30,
   "id": "70330b36",
   "metadata": {
    "scrolled": true
   },
   "outputs": [
    {
     "name": "stdout",
     "output_type": "stream",
     "text": [
      "p-value: 2.4959453720736625e-34\n",
      "Отвергаем нулевую гипотезу\n"
     ]
    }
   ],
   "source": [
    "ultra_duration = data_ultra['duration']\n",
    "free_duration = data_free['duration']\n",
    "alpha = 0.05\n",
    "results1 = st.ttest_ind(ultra_duration, free_duration, alternative='greater')\n",
    "\n",
    "print('p-value:', results1.pvalue)\n",
    "\n",
    "if results1.pvalue < alpha:\n",
    "    print('Отвергаем нулевую гипотезу')\n",
    "else:\n",
    "    print('Нет оснований отвергнуть нулевую гипотезу')"
   ]
  },
  {
   "cell_type": "markdown",
   "id": "08de0da0",
   "metadata": {},
   "source": [
    "Полученное значение p-value меньше заданного уровня значимости, поэтому можно отвергнуть нулевую гипотезу. Есть основания говорить, что пользователи с подпиской тратят больше времени на поездки в сервисе."
   ]
  },
  {
   "cell_type": "markdown",
   "id": "c3472650",
   "metadata": {},
   "source": [
    "6.2 Расстояние одной поездки в 3130 метров — оптимальное с точки зрения износа самоката. Можно ли сказать, что расстояние, которое проезжают пользователи с подпиской за одну поездку, не превышает 3130 метров? Проверьте гипотезу и сделайте выводы.\n",
    "\n",
    "Нулевая гипотеза: среднее расстояние одной поездки пользователей с подпиской равно 3130 метров.\\\n",
    "Альтернативная гипотеза: среднее расстояние одной поездки пользователей с подпиской превышает оптимальное, равное 3130 метров.\n",
    "\n",
    "Будем проверять правостороннюю гипотезу."
   ]
  },
  {
   "cell_type": "code",
   "execution_count": 31,
   "id": "23ea867b",
   "metadata": {
    "scrolled": true
   },
   "outputs": [
    {
     "name": "stdout",
     "output_type": "stream",
     "text": [
      "p-value: 0.9195368847849785\n",
      "Нет оснований отвергнуть нулевую гипотезу\n"
     ]
    }
   ],
   "source": [
    "ultra_distance = data_ultra['distance']\n",
    "normal_distance = 3130\n",
    "alpha = 0.05\n",
    "\n",
    "results2 = st.ttest_1samp(ultra_distance, normal_distance, alternative='greater')\n",
    "\n",
    "print('p-value:', results2.pvalue)\n",
    "\n",
    "if results2.pvalue < alpha:\n",
    "    print('Отвергаем нулевую гипотезу')\n",
    "else:\n",
    "    print('Нет оснований отвергнуть нулевую гипотезу')"
   ]
  },
  {
   "cell_type": "markdown",
   "id": "cc7425f1",
   "metadata": {},
   "source": [
    "Полученное значение p-value больше заданного уровня значимости, поэтому у нас нет оснований отвергнуть нулевую гипотезу. Можно сказать, что расстояние, которое проезжают пользователи с подпиской не превышает оптимальное с точки зрения износа самоката.\n"
   ]
  },
  {
   "cell_type": "markdown",
   "id": "3310a2b8",
   "metadata": {},
   "source": [
    "6.3. Проверьте гипотезу о том, будет ли помесячная выручка от пользователей с подпиской по месяцам выше, чем выручка от пользователей без подписки. Сделайте вывод.\n",
    "\n",
    "Нулевая гипотеза: средние значения принесенной помесячной выручки пользователей из двух групп равны.\\\n",
    "Альтернативная гипотеза: средние значения принесенной помесячной выручки пользователей с подпиской больше, чем средние значения пользователей без подписки.\n",
    "\n",
    "Будем проверять одностороннюю гипотезу для средних двух генеральных совокупностей (правостороннюю)."
   ]
  },
  {
   "cell_type": "code",
   "execution_count": 32,
   "id": "817a808b",
   "metadata": {
    "scrolled": true
   },
   "outputs": [
    {
     "name": "stdout",
     "output_type": "stream",
     "text": [
      "p-value: 1.8850394384715216e-31\n",
      "Отвергаем нулевую гипотезу\n"
     ]
    }
   ],
   "source": [
    "ultra = data_new.query('тип_подписки == \"ultra\"')\n",
    "ultra_gain = ultra['выручка']\n",
    "free = data_new.query('тип_подписки == \"free\"')\n",
    "free_gain = free['выручка']\n",
    "\n",
    "alpha = 0.05\n",
    "\n",
    "results3 = st.ttest_ind(ultra_gain, free_gain, alternative='greater')\n",
    "\n",
    "print('p-value:', results3.pvalue)\n",
    "\n",
    "if results3.pvalue < alpha:\n",
    "    print('Отвергаем нулевую гипотезу')\n",
    "else:\n",
    "    print('Нет оснований отвергнуть нулевую гипотезу')"
   ]
  },
  {
   "cell_type": "markdown",
   "id": "362528c7",
   "metadata": {},
   "source": [
    "Полученное значение p-value меньше заданного уровня значимости, поэтому можно отвергнуть нулевую гипотезу. Есть основания говорить, что помесячная выручка от пользователей с подпиской по месяцам выше, чем выручка от пользователей без подписки.\n",
    "\n",
    "6.4. Представьте такую ситуацию: техническая команда сервиса обновила сервера, с которыми взаимодействует мобильное приложение. Она надеется, что из-за этого количество обращений в техподдержку значимо снизилось. Некоторый файл содержит для каждого пользователя данные о количестве обращений до обновления и после него. Какой тест вам понадобился бы для проверки этой гипотезы?"
   ]
  },
  {
   "cell_type": "markdown",
   "id": "5a920b9f",
   "metadata": {},
   "source": [
    "Для проверки данной гипотезы понадобился бы t-test, а конкретно метод scipy.stats.ttest_rel(), так как эти выборки зависимые. На входе имеем 2 выборки одинакового размера до и после обновления сервера, а на выходите, аналогично предыдущим методам,- p-value для результата. Далее сравнили бы это значение с уровнем значимости и сделали бы выбор в пользу гипотезы H1 или Н0. Так как нам необходимо выяснить снизилось ли количество обращений после обновления, мы будем проверять одностороннюю, а именно левостороннюю гипотезу."
   ]
  },
  {
   "cell_type": "markdown",
   "id": "61213c5e",
   "metadata": {},
   "source": [
    "#### Общий вывод"
   ]
  },
  {
   "cell_type": "markdown",
   "id": "1e5b7b4a",
   "metadata": {},
   "source": [
    "В ходе исследования были изучены данные сервиса по аренде самокатов. \\\n",
    "Сначала была проведена предобработка данных:\n",
    "1) тип столбца date в таблице rides был изменен на тип даты\\\n",
    "2) был добавлен новый столбец с месяцем поездки\\\n",
    "3) были удалены дубликаты\n",
    "\n",
    "Далее были изучены и визуализированы данные по:\n",
    "- частоте встречаемости городов;\n",
    "- соотношению пользователей с подпиской и без подписки;\n",
    "- возрасту пользователей;\n",
    "- расстоянию, которое пользователь преодолел за одну поездку;\n",
    "- продолжительности поездок.\n",
    "\n",
    "Была создана общая таблица с данными и 2 отдельных, с данными о поездках пользователей с подпиской и без. По ним была визуализирована информация о расстоянии и и времени поездок для пользователей обеих категорий.\\\n",
    "Была найдена помесячная выручка, которую принёс каждый пользователь.\\\n",
    "Также были проверены три гипотезы и были сделаны следующие выводы:\n",
    "1. Пользователи с подпиской тратят больше времени на поездки в сервисе\n",
    "2. Расстояние, которое проезжают пользователи с подпиской не превышает оптимальное с точки зрения износа самоката\n",
    "3. Помесячная выручка от пользователей с подпиской по месяцам выше, чем выручка от пользователей без подписки.\n",
    "\n",
    "Подводя итог, можем сказать, что пользователи с подпиской действительно являются более выгодными для компании, так как они тратят больше времени на поездки и приносят больше выручки каждый месяц по сравнению с пользователями, не использующими подписку. Компании следует расширять долю пользователей с подпиской, привлекая различные рекламные кампании и акции, это поможет сервису нарастить свою прибыль и привлечь новых пользователей. "
   ]
  }
 ],
 "metadata": {
  "ExecuteTimeLog": [
   {
    "duration": 44,
    "start_time": "2023-08-06T12:33:09.798Z"
   },
   {
    "duration": 377,
    "start_time": "2023-08-06T12:33:16.391Z"
   },
   {
    "duration": 124,
    "start_time": "2023-08-06T12:33:18.241Z"
   },
   {
    "duration": 39,
    "start_time": "2023-08-06T12:33:33.738Z"
   },
   {
    "duration": 34,
    "start_time": "2023-08-06T12:33:55.433Z"
   },
   {
    "duration": 192,
    "start_time": "2023-08-06T12:34:12.046Z"
   },
   {
    "duration": 86,
    "start_time": "2023-08-06T12:35:13.782Z"
   },
   {
    "duration": 39,
    "start_time": "2023-08-06T12:44:15.118Z"
   },
   {
    "duration": 41,
    "start_time": "2023-08-06T12:44:40.518Z"
   },
   {
    "duration": 57,
    "start_time": "2023-08-06T12:45:52.166Z"
   },
   {
    "duration": 38,
    "start_time": "2023-08-06T12:46:56.109Z"
   },
   {
    "duration": 13,
    "start_time": "2023-08-06T12:50:38.825Z"
   },
   {
    "duration": 60,
    "start_time": "2023-08-06T12:50:50.097Z"
   },
   {
    "duration": 35,
    "start_time": "2023-08-06T12:52:38.091Z"
   },
   {
    "duration": 5,
    "start_time": "2023-08-06T12:54:53.493Z"
   },
   {
    "duration": 10,
    "start_time": "2023-08-06T12:55:03.743Z"
   },
   {
    "duration": 7,
    "start_time": "2023-08-06T13:11:16.204Z"
   },
   {
    "duration": 6,
    "start_time": "2023-08-06T13:12:55.826Z"
   },
   {
    "duration": 6,
    "start_time": "2023-08-06T13:14:14.166Z"
   },
   {
    "duration": 8,
    "start_time": "2023-08-06T13:16:25.041Z"
   },
   {
    "duration": 5,
    "start_time": "2023-08-06T13:17:17.252Z"
   },
   {
    "duration": 379,
    "start_time": "2023-08-06T13:17:38.441Z"
   },
   {
    "duration": 48,
    "start_time": "2023-08-06T13:17:38.822Z"
   },
   {
    "duration": 50,
    "start_time": "2023-08-06T13:17:38.872Z"
   },
   {
    "duration": 28,
    "start_time": "2023-08-06T13:17:38.924Z"
   },
   {
    "duration": 13,
    "start_time": "2023-08-06T13:17:38.953Z"
   },
   {
    "duration": 25,
    "start_time": "2023-08-06T13:17:38.968Z"
   },
   {
    "duration": 13,
    "start_time": "2023-08-06T13:17:38.998Z"
   },
   {
    "duration": 24,
    "start_time": "2023-08-06T13:17:39.013Z"
   },
   {
    "duration": 21,
    "start_time": "2023-08-06T13:17:39.038Z"
   },
   {
    "duration": 32,
    "start_time": "2023-08-06T13:17:39.062Z"
   },
   {
    "duration": 7,
    "start_time": "2023-08-06T13:18:02.950Z"
   },
   {
    "duration": 5,
    "start_time": "2023-08-06T13:19:12.829Z"
   },
   {
    "duration": 7,
    "start_time": "2023-08-06T13:19:17.418Z"
   },
   {
    "duration": 10,
    "start_time": "2023-08-06T13:21:13.398Z"
   },
   {
    "duration": 5,
    "start_time": "2023-08-06T13:27:12.238Z"
   },
   {
    "duration": 124,
    "start_time": "2023-08-06T13:29:29.120Z"
   },
   {
    "duration": 126,
    "start_time": "2023-08-06T13:30:09.403Z"
   },
   {
    "duration": 135,
    "start_time": "2023-08-06T13:30:17.555Z"
   },
   {
    "duration": 119,
    "start_time": "2023-08-06T13:30:59.632Z"
   },
   {
    "duration": 111,
    "start_time": "2023-08-06T13:31:10.395Z"
   },
   {
    "duration": 407,
    "start_time": "2023-08-06T13:31:23.094Z"
   },
   {
    "duration": 46,
    "start_time": "2023-08-06T13:31:23.503Z"
   },
   {
    "duration": 50,
    "start_time": "2023-08-06T13:31:23.551Z"
   },
   {
    "duration": 26,
    "start_time": "2023-08-06T13:31:23.602Z"
   },
   {
    "duration": 12,
    "start_time": "2023-08-06T13:31:23.630Z"
   },
   {
    "duration": 9,
    "start_time": "2023-08-06T13:31:23.644Z"
   },
   {
    "duration": 9,
    "start_time": "2023-08-06T13:31:23.654Z"
   },
   {
    "duration": 6,
    "start_time": "2023-08-06T13:31:23.664Z"
   },
   {
    "duration": 12,
    "start_time": "2023-08-06T13:31:23.676Z"
   },
   {
    "duration": 25,
    "start_time": "2023-08-06T13:31:23.689Z"
   },
   {
    "duration": 15,
    "start_time": "2023-08-06T13:31:23.715Z"
   },
   {
    "duration": 17,
    "start_time": "2023-08-06T13:31:23.731Z"
   },
   {
    "duration": 121,
    "start_time": "2023-08-06T13:31:23.750Z"
   },
   {
    "duration": 131,
    "start_time": "2023-08-06T13:31:46.909Z"
   },
   {
    "duration": 645,
    "start_time": "2023-08-06T13:31:57.093Z"
   },
   {
    "duration": 100,
    "start_time": "2023-08-06T13:32:13.759Z"
   },
   {
    "duration": 161,
    "start_time": "2023-08-06T13:33:16.746Z"
   },
   {
    "duration": 165,
    "start_time": "2023-08-06T13:33:53.239Z"
   },
   {
    "duration": 271,
    "start_time": "2023-08-06T13:33:57.536Z"
   },
   {
    "duration": 150,
    "start_time": "2023-08-06T13:34:28.206Z"
   },
   {
    "duration": 132,
    "start_time": "2023-08-06T13:34:34.602Z"
   },
   {
    "duration": 154,
    "start_time": "2023-08-06T13:34:37.307Z"
   },
   {
    "duration": 175,
    "start_time": "2023-08-06T13:34:57.073Z"
   },
   {
    "duration": 5,
    "start_time": "2023-08-06T13:35:41.439Z"
   },
   {
    "duration": 6,
    "start_time": "2023-08-06T13:36:15.410Z"
   },
   {
    "duration": 4,
    "start_time": "2023-08-06T13:36:18.134Z"
   },
   {
    "duration": 180,
    "start_time": "2023-08-06T13:36:20.248Z"
   },
   {
    "duration": 157,
    "start_time": "2023-08-06T13:36:35.615Z"
   },
   {
    "duration": 6,
    "start_time": "2023-08-06T13:36:41.203Z"
   },
   {
    "duration": 6,
    "start_time": "2023-08-06T13:41:50.831Z"
   },
   {
    "duration": 114,
    "start_time": "2023-08-06T13:42:16.422Z"
   },
   {
    "duration": 126,
    "start_time": "2023-08-06T13:42:23.908Z"
   },
   {
    "duration": 133,
    "start_time": "2023-08-06T13:42:27.571Z"
   },
   {
    "duration": 6,
    "start_time": "2023-08-06T13:45:24.499Z"
   },
   {
    "duration": 228,
    "start_time": "2023-08-06T13:46:00.278Z"
   },
   {
    "duration": 284,
    "start_time": "2023-08-06T13:46:07.682Z"
   },
   {
    "duration": 187,
    "start_time": "2023-08-06T13:46:12.251Z"
   },
   {
    "duration": 188,
    "start_time": "2023-08-06T13:46:23.482Z"
   },
   {
    "duration": 7,
    "start_time": "2023-08-06T13:49:40.921Z"
   },
   {
    "duration": 114,
    "start_time": "2023-08-06T13:50:27.350Z"
   },
   {
    "duration": 201,
    "start_time": "2023-08-06T13:50:30.102Z"
   },
   {
    "duration": 209,
    "start_time": "2023-08-06T13:50:35.938Z"
   },
   {
    "duration": 208,
    "start_time": "2023-08-06T13:50:39.744Z"
   },
   {
    "duration": 26,
    "start_time": "2023-08-06T13:51:20.641Z"
   },
   {
    "duration": 7,
    "start_time": "2023-08-06T13:51:35.012Z"
   },
   {
    "duration": 223,
    "start_time": "2023-08-06T13:54:56.326Z"
   },
   {
    "duration": 5,
    "start_time": "2023-08-06T13:55:54.753Z"
   },
   {
    "duration": 261,
    "start_time": "2023-08-06T14:21:12.204Z"
   },
   {
    "duration": 458,
    "start_time": "2023-08-06T14:22:01.093Z"
   },
   {
    "duration": 413,
    "start_time": "2023-08-06T14:24:23.719Z"
   },
   {
    "duration": 32,
    "start_time": "2023-08-06T14:29:54.063Z"
   },
   {
    "duration": 24,
    "start_time": "2023-08-06T14:31:09.492Z"
   },
   {
    "duration": 29,
    "start_time": "2023-08-06T14:31:16.211Z"
   },
   {
    "duration": 30,
    "start_time": "2023-08-06T14:31:30.569Z"
   },
   {
    "duration": 10,
    "start_time": "2023-08-06T14:33:25.851Z"
   },
   {
    "duration": 20,
    "start_time": "2023-08-06T14:33:29.132Z"
   },
   {
    "duration": 12,
    "start_time": "2023-08-06T14:35:24.370Z"
   },
   {
    "duration": 10,
    "start_time": "2023-08-06T14:35:31.453Z"
   },
   {
    "duration": 48,
    "start_time": "2023-08-06T14:35:38.225Z"
   },
   {
    "duration": 30,
    "start_time": "2023-08-06T14:35:44.575Z"
   },
   {
    "duration": 11,
    "start_time": "2023-08-06T14:35:57.114Z"
   },
   {
    "duration": 31,
    "start_time": "2023-08-06T14:36:00.756Z"
   },
   {
    "duration": 7,
    "start_time": "2023-08-06T14:36:28.820Z"
   },
   {
    "duration": 29,
    "start_time": "2023-08-06T14:36:41.291Z"
   },
   {
    "duration": 16,
    "start_time": "2023-08-06T14:37:34.511Z"
   },
   {
    "duration": 17,
    "start_time": "2023-08-06T14:37:38.500Z"
   },
   {
    "duration": 22,
    "start_time": "2023-08-06T14:37:49.766Z"
   },
   {
    "duration": 367,
    "start_time": "2023-08-06T14:42:20.917Z"
   },
   {
    "duration": 337,
    "start_time": "2023-08-06T14:42:34.128Z"
   },
   {
    "duration": 500,
    "start_time": "2023-08-06T14:49:23.951Z"
   },
   {
    "duration": 353,
    "start_time": "2023-08-06T14:49:39.440Z"
   },
   {
    "duration": 28,
    "start_time": "2023-08-06T14:58:00.642Z"
   },
   {
    "duration": 19,
    "start_time": "2023-08-06T14:59:45.918Z"
   },
   {
    "duration": 21,
    "start_time": "2023-08-06T15:01:00.907Z"
   },
   {
    "duration": 30,
    "start_time": "2023-08-06T15:01:09.173Z"
   },
   {
    "duration": 118,
    "start_time": "2023-08-06T15:01:47.027Z"
   },
   {
    "duration": 21,
    "start_time": "2023-08-06T15:01:50.918Z"
   },
   {
    "duration": 3,
    "start_time": "2023-08-06T15:10:19.391Z"
   },
   {
    "duration": 14,
    "start_time": "2023-08-06T15:15:35.696Z"
   },
   {
    "duration": 34,
    "start_time": "2023-08-06T15:15:44.333Z"
   },
   {
    "duration": 11,
    "start_time": "2023-08-06T15:16:16.618Z"
   },
   {
    "duration": 9,
    "start_time": "2023-08-06T15:16:30.241Z"
   },
   {
    "duration": 17,
    "start_time": "2023-08-06T15:17:23.905Z"
   },
   {
    "duration": 15,
    "start_time": "2023-08-06T15:17:29.301Z"
   },
   {
    "duration": 11,
    "start_time": "2023-08-06T15:17:55.889Z"
   },
   {
    "duration": 14,
    "start_time": "2023-08-06T15:18:01.117Z"
   },
   {
    "duration": 103,
    "start_time": "2023-08-06T15:19:25.632Z"
   },
   {
    "duration": 17,
    "start_time": "2023-08-06T15:19:33.350Z"
   },
   {
    "duration": 26,
    "start_time": "2023-08-06T15:20:25.188Z"
   },
   {
    "duration": 21,
    "start_time": "2023-08-06T15:20:39.153Z"
   },
   {
    "duration": 714,
    "start_time": "2023-08-06T15:23:36.471Z"
   },
   {
    "duration": 31,
    "start_time": "2023-08-06T15:23:53.591Z"
   },
   {
    "duration": 29,
    "start_time": "2023-08-06T15:24:45.402Z"
   },
   {
    "duration": 18,
    "start_time": "2023-08-06T15:27:33.213Z"
   },
   {
    "duration": 878,
    "start_time": "2023-08-06T15:27:40.073Z"
   },
   {
    "duration": 33,
    "start_time": "2023-08-06T15:27:53.101Z"
   },
   {
    "duration": 628,
    "start_time": "2023-08-06T15:28:07.844Z"
   },
   {
    "duration": 30,
    "start_time": "2023-08-06T15:28:18.459Z"
   },
   {
    "duration": 27,
    "start_time": "2023-08-06T15:28:28.531Z"
   },
   {
    "duration": 33,
    "start_time": "2023-08-06T15:28:37.514Z"
   },
   {
    "duration": 1812,
    "start_time": "2023-08-06T15:29:07.917Z"
   },
   {
    "duration": 22,
    "start_time": "2023-08-06T15:29:23.792Z"
   },
   {
    "duration": 23,
    "start_time": "2023-08-06T15:29:34.897Z"
   },
   {
    "duration": 3,
    "start_time": "2023-08-06T15:32:19.828Z"
   },
   {
    "duration": 61,
    "start_time": "2023-08-06T15:40:26.467Z"
   },
   {
    "duration": 7,
    "start_time": "2023-08-06T15:48:50.449Z"
   },
   {
    "duration": 15,
    "start_time": "2023-08-06T15:49:04.026Z"
   },
   {
    "duration": 14,
    "start_time": "2023-08-06T15:53:41.717Z"
   },
   {
    "duration": 43,
    "start_time": "2023-08-06T15:55:39.737Z"
   },
   {
    "duration": 20,
    "start_time": "2023-08-06T15:55:47.309Z"
   },
   {
    "duration": 25,
    "start_time": "2023-08-06T15:56:29.532Z"
   },
   {
    "duration": 424,
    "start_time": "2023-08-06T15:56:39.079Z"
   },
   {
    "duration": 49,
    "start_time": "2023-08-06T15:56:39.505Z"
   },
   {
    "duration": 52,
    "start_time": "2023-08-06T15:56:39.556Z"
   },
   {
    "duration": 56,
    "start_time": "2023-08-06T15:56:39.611Z"
   },
   {
    "duration": 45,
    "start_time": "2023-08-06T15:56:39.669Z"
   },
   {
    "duration": 10,
    "start_time": "2023-08-06T15:56:39.716Z"
   },
   {
    "duration": 24,
    "start_time": "2023-08-06T15:56:39.728Z"
   },
   {
    "duration": 18,
    "start_time": "2023-08-06T15:56:39.754Z"
   },
   {
    "duration": 24,
    "start_time": "2023-08-06T15:56:39.774Z"
   },
   {
    "duration": 12,
    "start_time": "2023-08-06T15:56:39.801Z"
   },
   {
    "duration": 12,
    "start_time": "2023-08-06T15:56:39.815Z"
   },
   {
    "duration": 8,
    "start_time": "2023-08-06T15:56:39.829Z"
   },
   {
    "duration": 8,
    "start_time": "2023-08-06T15:56:39.839Z"
   },
   {
    "duration": 597,
    "start_time": "2023-08-06T15:56:39.849Z"
   },
   {
    "duration": 7,
    "start_time": "2023-08-06T15:56:40.448Z"
   },
   {
    "duration": 181,
    "start_time": "2023-08-06T15:56:40.457Z"
   },
   {
    "duration": 7,
    "start_time": "2023-08-06T15:56:40.640Z"
   },
   {
    "duration": 211,
    "start_time": "2023-08-06T15:56:40.648Z"
   },
   {
    "duration": 510,
    "start_time": "2023-08-06T15:56:40.861Z"
   },
   {
    "duration": 404,
    "start_time": "2023-08-06T15:56:41.378Z"
   },
   {
    "duration": 31,
    "start_time": "2023-08-06T15:56:41.788Z"
   },
   {
    "duration": 22,
    "start_time": "2023-08-06T15:56:41.821Z"
   },
   {
    "duration": 46,
    "start_time": "2023-08-06T15:56:41.845Z"
   },
   {
    "duration": 456,
    "start_time": "2023-08-06T15:56:41.893Z"
   },
   {
    "duration": 412,
    "start_time": "2023-08-06T15:56:42.351Z"
   },
   {
    "duration": 554,
    "start_time": "2023-08-06T15:56:42.765Z"
   },
   {
    "duration": 410,
    "start_time": "2023-08-06T15:56:43.320Z"
   },
   {
    "duration": 126,
    "start_time": "2023-08-06T15:56:43.735Z"
   },
   {
    "duration": 0,
    "start_time": "2023-08-06T15:56:43.863Z"
   },
   {
    "duration": 45,
    "start_time": "2023-08-06T15:58:07.188Z"
   },
   {
    "duration": 22,
    "start_time": "2023-08-06T15:58:12.851Z"
   },
   {
    "duration": 287,
    "start_time": "2023-08-06T15:58:25.381Z"
   },
   {
    "duration": 215,
    "start_time": "2023-08-06T15:58:32.507Z"
   },
   {
    "duration": 253,
    "start_time": "2023-08-06T15:58:36.241Z"
   },
   {
    "duration": 262,
    "start_time": "2023-08-06T15:58:40.387Z"
   },
   {
    "duration": 538,
    "start_time": "2023-08-06T16:39:46.083Z"
   },
   {
    "duration": 6,
    "start_time": "2023-08-06T16:44:54.367Z"
   },
   {
    "duration": 5,
    "start_time": "2023-08-06T16:52:34.347Z"
   },
   {
    "duration": 6,
    "start_time": "2023-08-06T16:52:43.116Z"
   },
   {
    "duration": 45,
    "start_time": "2023-08-06T17:01:24.932Z"
   },
   {
    "duration": 10,
    "start_time": "2023-08-06T17:01:48.055Z"
   },
   {
    "duration": 101,
    "start_time": "2023-08-06T17:02:12.293Z"
   },
   {
    "duration": 104,
    "start_time": "2023-08-06T17:02:44.342Z"
   },
   {
    "duration": 54,
    "start_time": "2023-08-06T17:02:58.721Z"
   },
   {
    "duration": 41,
    "start_time": "2023-08-06T17:03:23.331Z"
   },
   {
    "duration": 16,
    "start_time": "2023-08-06T17:03:27.692Z"
   },
   {
    "duration": 6,
    "start_time": "2023-08-06T17:03:29.074Z"
   },
   {
    "duration": 5,
    "start_time": "2023-08-06T17:03:29.843Z"
   },
   {
    "duration": 36,
    "start_time": "2023-08-06T17:03:34.058Z"
   },
   {
    "duration": 15,
    "start_time": "2023-08-06T17:04:54.096Z"
   },
   {
    "duration": 11,
    "start_time": "2023-08-06T17:05:33.014Z"
   },
   {
    "duration": 8,
    "start_time": "2023-08-06T19:01:37.498Z"
   },
   {
    "duration": 801,
    "start_time": "2023-08-06T19:04:15.334Z"
   },
   {
    "duration": 1011,
    "start_time": "2023-08-07T06:15:37.186Z"
   },
   {
    "duration": 159,
    "start_time": "2023-08-07T06:15:38.200Z"
   },
   {
    "duration": 529,
    "start_time": "2023-08-07T06:15:38.360Z"
   },
   {
    "duration": 103,
    "start_time": "2023-08-07T06:15:38.892Z"
   },
   {
    "duration": 22,
    "start_time": "2023-08-07T06:15:39.012Z"
   },
   {
    "duration": 16,
    "start_time": "2023-08-07T06:15:39.037Z"
   },
   {
    "duration": 9,
    "start_time": "2023-08-07T06:15:39.056Z"
   },
   {
    "duration": 16,
    "start_time": "2023-08-07T06:15:39.067Z"
   },
   {
    "duration": 21,
    "start_time": "2023-08-07T06:15:39.088Z"
   },
   {
    "duration": 11,
    "start_time": "2023-08-07T06:15:39.113Z"
   },
   {
    "duration": 13,
    "start_time": "2023-08-07T06:15:39.125Z"
   },
   {
    "duration": 25,
    "start_time": "2023-08-07T06:15:39.140Z"
   },
   {
    "duration": 12,
    "start_time": "2023-08-07T06:15:39.168Z"
   },
   {
    "duration": 780,
    "start_time": "2023-08-07T06:15:39.183Z"
   },
   {
    "duration": 15,
    "start_time": "2023-08-07T06:15:39.965Z"
   },
   {
    "duration": 169,
    "start_time": "2023-08-07T06:15:39.987Z"
   },
   {
    "duration": 7,
    "start_time": "2023-08-07T06:15:40.158Z"
   },
   {
    "duration": 302,
    "start_time": "2023-08-07T06:15:40.167Z"
   },
   {
    "duration": 587,
    "start_time": "2023-08-07T06:15:40.472Z"
   },
   {
    "duration": 452,
    "start_time": "2023-08-07T06:15:41.061Z"
   },
   {
    "duration": 28,
    "start_time": "2023-08-07T06:15:41.515Z"
   },
   {
    "duration": 122,
    "start_time": "2023-08-07T06:15:41.545Z"
   },
   {
    "duration": 45,
    "start_time": "2023-08-07T06:15:41.669Z"
   },
   {
    "duration": 450,
    "start_time": "2023-08-07T06:15:41.719Z"
   },
   {
    "duration": 459,
    "start_time": "2023-08-07T06:15:42.171Z"
   },
   {
    "duration": 311,
    "start_time": "2023-08-07T06:15:42.633Z"
   },
   {
    "duration": 360,
    "start_time": "2023-08-07T06:15:42.946Z"
   },
   {
    "duration": 45,
    "start_time": "2023-08-07T06:15:43.310Z"
   },
   {
    "duration": 155,
    "start_time": "2023-08-07T06:15:43.357Z"
   },
   {
    "duration": 7,
    "start_time": "2023-08-07T06:15:43.515Z"
   },
   {
    "duration": 8,
    "start_time": "2023-08-07T06:15:43.525Z"
   },
   {
    "duration": 30,
    "start_time": "2023-08-07T06:15:43.535Z"
   },
   {
    "duration": 10,
    "start_time": "2023-08-07T06:15:43.568Z"
   },
   {
    "duration": 1094,
    "start_time": "2023-08-07T06:20:29.900Z"
   },
   {
    "duration": 73,
    "start_time": "2023-08-07T06:20:30.997Z"
   },
   {
    "duration": 65,
    "start_time": "2023-08-07T06:20:31.072Z"
   },
   {
    "duration": 28,
    "start_time": "2023-08-07T06:20:31.139Z"
   },
   {
    "duration": 35,
    "start_time": "2023-08-07T06:20:31.171Z"
   },
   {
    "duration": 26,
    "start_time": "2023-08-07T06:20:31.211Z"
   },
   {
    "duration": 31,
    "start_time": "2023-08-07T06:20:31.240Z"
   },
   {
    "duration": 49,
    "start_time": "2023-08-07T06:20:31.273Z"
   },
   {
    "duration": 48,
    "start_time": "2023-08-07T06:20:31.325Z"
   },
   {
    "duration": 46,
    "start_time": "2023-08-07T06:20:31.375Z"
   },
   {
    "duration": 33,
    "start_time": "2023-08-07T06:20:31.423Z"
   },
   {
    "duration": 54,
    "start_time": "2023-08-07T06:20:31.458Z"
   },
   {
    "duration": 22,
    "start_time": "2023-08-07T06:20:31.514Z"
   },
   {
    "duration": 521,
    "start_time": "2023-08-07T06:20:31.540Z"
   },
   {
    "duration": 18,
    "start_time": "2023-08-07T06:20:32.064Z"
   },
   {
    "duration": 138,
    "start_time": "2023-08-07T06:20:32.084Z"
   },
   {
    "duration": 10,
    "start_time": "2023-08-07T06:20:32.223Z"
   },
   {
    "duration": 207,
    "start_time": "2023-08-07T06:20:32.235Z"
   },
   {
    "duration": 451,
    "start_time": "2023-08-07T06:20:32.445Z"
   },
   {
    "duration": 415,
    "start_time": "2023-08-07T06:20:32.898Z"
   },
   {
    "duration": 39,
    "start_time": "2023-08-07T06:20:33.315Z"
   },
   {
    "duration": 42,
    "start_time": "2023-08-07T06:20:33.355Z"
   },
   {
    "duration": 20,
    "start_time": "2023-08-07T06:20:33.404Z"
   },
   {
    "duration": 615,
    "start_time": "2023-08-07T06:20:33.426Z"
   },
   {
    "duration": 418,
    "start_time": "2023-08-07T06:20:34.043Z"
   },
   {
    "duration": 251,
    "start_time": "2023-08-07T06:20:34.463Z"
   },
   {
    "duration": 217,
    "start_time": "2023-08-07T06:20:34.716Z"
   },
   {
    "duration": 66,
    "start_time": "2023-08-07T06:20:34.935Z"
   },
   {
    "duration": 16,
    "start_time": "2023-08-07T06:20:35.009Z"
   },
   {
    "duration": 18,
    "start_time": "2023-08-07T06:20:35.027Z"
   },
   {
    "duration": 60,
    "start_time": "2023-08-07T06:20:35.047Z"
   },
   {
    "duration": 132,
    "start_time": "2023-08-07T06:20:35.109Z"
   },
   {
    "duration": 54,
    "start_time": "2023-08-07T06:20:35.243Z"
   },
   {
    "duration": 824,
    "start_time": "2023-08-07T09:59:24.208Z"
   },
   {
    "duration": 107,
    "start_time": "2023-08-07T09:59:25.034Z"
   },
   {
    "duration": 82,
    "start_time": "2023-08-07T09:59:25.143Z"
   },
   {
    "duration": 65,
    "start_time": "2023-08-07T09:59:25.226Z"
   },
   {
    "duration": 13,
    "start_time": "2023-08-07T09:59:25.292Z"
   },
   {
    "duration": 9,
    "start_time": "2023-08-07T09:59:25.307Z"
   },
   {
    "duration": 7,
    "start_time": "2023-08-07T09:59:25.318Z"
   },
   {
    "duration": 15,
    "start_time": "2023-08-07T09:59:25.326Z"
   },
   {
    "duration": 25,
    "start_time": "2023-08-07T09:59:25.343Z"
   },
   {
    "duration": 15,
    "start_time": "2023-08-07T09:59:25.372Z"
   },
   {
    "duration": 11,
    "start_time": "2023-08-07T09:59:25.389Z"
   },
   {
    "duration": 11,
    "start_time": "2023-08-07T09:59:25.401Z"
   },
   {
    "duration": 15,
    "start_time": "2023-08-07T09:59:25.414Z"
   },
   {
    "duration": 621,
    "start_time": "2023-08-07T09:59:25.430Z"
   },
   {
    "duration": 7,
    "start_time": "2023-08-07T09:59:26.053Z"
   },
   {
    "duration": 189,
    "start_time": "2023-08-07T09:59:26.062Z"
   },
   {
    "duration": 10,
    "start_time": "2023-08-07T09:59:26.253Z"
   },
   {
    "duration": 202,
    "start_time": "2023-08-07T09:59:26.265Z"
   },
   {
    "duration": 321,
    "start_time": "2023-08-07T09:59:26.468Z"
   },
   {
    "duration": 321,
    "start_time": "2023-08-07T09:59:26.790Z"
   },
   {
    "duration": 24,
    "start_time": "2023-08-07T09:59:27.113Z"
   },
   {
    "duration": 97,
    "start_time": "2023-08-07T09:59:27.138Z"
   },
   {
    "duration": 18,
    "start_time": "2023-08-07T09:59:27.237Z"
   },
   {
    "duration": 355,
    "start_time": "2023-08-07T09:59:27.256Z"
   },
   {
    "duration": 323,
    "start_time": "2023-08-07T09:59:27.612Z"
   },
   {
    "duration": 199,
    "start_time": "2023-08-07T09:59:27.936Z"
   },
   {
    "duration": 188,
    "start_time": "2023-08-07T09:59:28.137Z"
   },
   {
    "duration": 32,
    "start_time": "2023-08-07T09:59:28.328Z"
   },
   {
    "duration": 61,
    "start_time": "2023-08-07T09:59:28.362Z"
   },
   {
    "duration": 40,
    "start_time": "2023-08-07T09:59:28.425Z"
   },
   {
    "duration": 27,
    "start_time": "2023-08-07T09:59:28.467Z"
   },
   {
    "duration": 53,
    "start_time": "2023-08-07T09:59:28.495Z"
   },
   {
    "duration": 41,
    "start_time": "2023-08-07T09:59:28.550Z"
   },
   {
    "duration": 7,
    "start_time": "2023-08-07T10:14:40.901Z"
   },
   {
    "duration": 6,
    "start_time": "2023-08-07T10:25:17.218Z"
   },
   {
    "duration": 1234,
    "start_time": "2023-08-07T10:53:58.217Z"
   },
   {
    "duration": 102,
    "start_time": "2023-08-07T10:57:01.912Z"
   },
   {
    "duration": 1093,
    "start_time": "2023-08-07T10:57:07.902Z"
   },
   {
    "duration": 149,
    "start_time": "2023-08-07T10:57:08.998Z"
   },
   {
    "duration": 86,
    "start_time": "2023-08-07T10:57:09.149Z"
   },
   {
    "duration": 68,
    "start_time": "2023-08-07T10:57:09.236Z"
   },
   {
    "duration": 16,
    "start_time": "2023-08-07T10:57:09.307Z"
   },
   {
    "duration": 22,
    "start_time": "2023-08-07T10:57:09.325Z"
   },
   {
    "duration": 45,
    "start_time": "2023-08-07T10:57:09.349Z"
   },
   {
    "duration": 20,
    "start_time": "2023-08-07T10:57:09.396Z"
   },
   {
    "duration": 10,
    "start_time": "2023-08-07T10:57:09.418Z"
   },
   {
    "duration": 20,
    "start_time": "2023-08-07T10:57:09.431Z"
   },
   {
    "duration": 58,
    "start_time": "2023-08-07T10:57:09.453Z"
   },
   {
    "duration": 14,
    "start_time": "2023-08-07T10:57:09.513Z"
   },
   {
    "duration": 7,
    "start_time": "2023-08-07T10:57:09.529Z"
   },
   {
    "duration": 119,
    "start_time": "2023-08-07T10:57:09.539Z"
   },
   {
    "duration": 0,
    "start_time": "2023-08-07T10:57:09.659Z"
   },
   {
    "duration": 0,
    "start_time": "2023-08-07T10:57:09.660Z"
   },
   {
    "duration": 0,
    "start_time": "2023-08-07T10:57:09.662Z"
   },
   {
    "duration": 0,
    "start_time": "2023-08-07T10:57:09.663Z"
   },
   {
    "duration": 0,
    "start_time": "2023-08-07T10:57:09.664Z"
   },
   {
    "duration": 0,
    "start_time": "2023-08-07T10:57:09.665Z"
   },
   {
    "duration": 0,
    "start_time": "2023-08-07T10:57:09.666Z"
   },
   {
    "duration": 0,
    "start_time": "2023-08-07T10:57:09.667Z"
   },
   {
    "duration": 0,
    "start_time": "2023-08-07T10:57:09.668Z"
   },
   {
    "duration": 0,
    "start_time": "2023-08-07T10:57:09.669Z"
   },
   {
    "duration": 0,
    "start_time": "2023-08-07T10:57:09.670Z"
   },
   {
    "duration": 0,
    "start_time": "2023-08-07T10:57:09.671Z"
   },
   {
    "duration": 0,
    "start_time": "2023-08-07T10:57:09.672Z"
   },
   {
    "duration": 0,
    "start_time": "2023-08-07T10:57:09.673Z"
   },
   {
    "duration": 0,
    "start_time": "2023-08-07T10:57:09.674Z"
   },
   {
    "duration": 0,
    "start_time": "2023-08-07T10:57:09.675Z"
   },
   {
    "duration": 0,
    "start_time": "2023-08-07T10:57:09.676Z"
   },
   {
    "duration": 0,
    "start_time": "2023-08-07T10:57:09.709Z"
   },
   {
    "duration": 0,
    "start_time": "2023-08-07T10:57:09.710Z"
   },
   {
    "duration": 10,
    "start_time": "2023-08-07T11:03:19.224Z"
   },
   {
    "duration": 14,
    "start_time": "2023-08-07T11:03:22.882Z"
   },
   {
    "duration": 22,
    "start_time": "2023-08-07T11:07:57.097Z"
   },
   {
    "duration": 14,
    "start_time": "2023-08-07T11:08:30.062Z"
   },
   {
    "duration": 14,
    "start_time": "2023-08-07T11:08:42.500Z"
   },
   {
    "duration": 197,
    "start_time": "2023-08-07T11:10:22.785Z"
   },
   {
    "duration": 183,
    "start_time": "2023-08-07T11:13:15.623Z"
   },
   {
    "duration": 173,
    "start_time": "2023-08-07T11:13:46.581Z"
   },
   {
    "duration": 196,
    "start_time": "2023-08-07T11:14:48.236Z"
   },
   {
    "duration": 196,
    "start_time": "2023-08-07T11:15:03.487Z"
   },
   {
    "duration": 1177,
    "start_time": "2023-08-07T11:15:48.071Z"
   },
   {
    "duration": 121,
    "start_time": "2023-08-07T11:15:49.250Z"
   },
   {
    "duration": 43,
    "start_time": "2023-08-07T11:15:49.373Z"
   },
   {
    "duration": 31,
    "start_time": "2023-08-07T11:15:49.420Z"
   },
   {
    "duration": 54,
    "start_time": "2023-08-07T11:15:49.453Z"
   },
   {
    "duration": 20,
    "start_time": "2023-08-07T11:15:49.509Z"
   },
   {
    "duration": 11,
    "start_time": "2023-08-07T11:15:49.531Z"
   },
   {
    "duration": 22,
    "start_time": "2023-08-07T11:15:49.543Z"
   },
   {
    "duration": 34,
    "start_time": "2023-08-07T11:15:49.567Z"
   },
   {
    "duration": 28,
    "start_time": "2023-08-07T11:15:49.604Z"
   },
   {
    "duration": 16,
    "start_time": "2023-08-07T11:15:49.634Z"
   },
   {
    "duration": 12,
    "start_time": "2023-08-07T11:15:49.652Z"
   },
   {
    "duration": 6,
    "start_time": "2023-08-07T11:15:49.665Z"
   },
   {
    "duration": 220,
    "start_time": "2023-08-07T11:15:49.673Z"
   },
   {
    "duration": 13,
    "start_time": "2023-08-07T11:15:49.895Z"
   },
   {
    "duration": 171,
    "start_time": "2023-08-07T11:15:49.910Z"
   },
   {
    "duration": 6,
    "start_time": "2023-08-07T11:15:50.083Z"
   },
   {
    "duration": 223,
    "start_time": "2023-08-07T11:15:50.091Z"
   },
   {
    "duration": 393,
    "start_time": "2023-08-07T11:15:50.315Z"
   },
   {
    "duration": 411,
    "start_time": "2023-08-07T11:15:50.710Z"
   },
   {
    "duration": 42,
    "start_time": "2023-08-07T11:15:51.122Z"
   },
   {
    "duration": 22,
    "start_time": "2023-08-07T11:15:51.166Z"
   },
   {
    "duration": 27,
    "start_time": "2023-08-07T11:15:51.208Z"
   },
   {
    "duration": 512,
    "start_time": "2023-08-07T11:15:51.237Z"
   },
   {
    "duration": 420,
    "start_time": "2023-08-07T11:15:51.751Z"
   },
   {
    "duration": 232,
    "start_time": "2023-08-07T11:15:52.173Z"
   },
   {
    "duration": 210,
    "start_time": "2023-08-07T11:15:52.409Z"
   },
   {
    "duration": 39,
    "start_time": "2023-08-07T11:15:52.622Z"
   },
   {
    "duration": 16,
    "start_time": "2023-08-07T11:15:52.663Z"
   },
   {
    "duration": 28,
    "start_time": "2023-08-07T11:15:52.681Z"
   },
   {
    "duration": 6,
    "start_time": "2023-08-07T11:15:52.711Z"
   },
   {
    "duration": 14,
    "start_time": "2023-08-07T11:15:52.718Z"
   },
   {
    "duration": 81,
    "start_time": "2023-08-07T11:15:52.733Z"
   },
   {
    "duration": 162,
    "start_time": "2023-08-07T11:18:53.297Z"
   },
   {
    "duration": 109,
    "start_time": "2023-08-07T11:19:29.789Z"
   },
   {
    "duration": 160,
    "start_time": "2023-08-07T11:19:33.007Z"
   },
   {
    "duration": 5,
    "start_time": "2023-08-07T11:20:56.890Z"
   },
   {
    "duration": 27,
    "start_time": "2023-08-07T11:22:47.872Z"
   },
   {
    "duration": 12,
    "start_time": "2023-08-07T11:23:33.564Z"
   },
   {
    "duration": 7,
    "start_time": "2023-08-07T11:25:39.066Z"
   },
   {
    "duration": 8,
    "start_time": "2023-08-07T11:25:51.696Z"
   },
   {
    "duration": 11,
    "start_time": "2023-08-07T11:27:33.227Z"
   },
   {
    "duration": 332,
    "start_time": "2023-08-07T11:29:05.497Z"
   },
   {
    "duration": 21,
    "start_time": "2023-08-07T11:29:15.269Z"
   },
   {
    "duration": 15,
    "start_time": "2023-08-07T11:29:30.403Z"
   },
   {
    "duration": 15,
    "start_time": "2023-08-07T11:29:48.397Z"
   },
   {
    "duration": 10,
    "start_time": "2023-08-07T11:29:57.714Z"
   },
   {
    "duration": 9,
    "start_time": "2023-08-07T11:30:45.965Z"
   },
   {
    "duration": 8,
    "start_time": "2023-08-07T11:31:21.190Z"
   },
   {
    "duration": 8,
    "start_time": "2023-08-07T11:31:58.651Z"
   },
   {
    "duration": 338,
    "start_time": "2023-08-07T11:33:56.275Z"
   },
   {
    "duration": 408,
    "start_time": "2023-08-07T11:34:53.874Z"
   },
   {
    "duration": 396,
    "start_time": "2023-08-07T11:35:00.088Z"
   },
   {
    "duration": 413,
    "start_time": "2023-08-07T11:35:39.283Z"
   },
   {
    "duration": 223,
    "start_time": "2023-08-07T11:37:01.195Z"
   },
   {
    "duration": 349,
    "start_time": "2023-08-07T11:37:04.528Z"
   },
   {
    "duration": 194,
    "start_time": "2023-08-07T11:37:09.873Z"
   },
   {
    "duration": 192,
    "start_time": "2023-08-07T11:37:15.625Z"
   },
   {
    "duration": 177,
    "start_time": "2023-08-07T11:37:32.631Z"
   },
   {
    "duration": 652,
    "start_time": "2023-08-07T11:37:37.130Z"
   },
   {
    "duration": 184,
    "start_time": "2023-08-07T11:37:42.401Z"
   },
   {
    "duration": 27,
    "start_time": "2023-08-07T11:40:14.069Z"
   },
   {
    "duration": 29,
    "start_time": "2023-08-07T11:40:59.033Z"
   },
   {
    "duration": 36,
    "start_time": "2023-08-07T11:42:00.859Z"
   },
   {
    "duration": 34,
    "start_time": "2023-08-07T11:42:58.788Z"
   },
   {
    "duration": 36,
    "start_time": "2023-08-07T11:43:21.967Z"
   },
   {
    "duration": 432,
    "start_time": "2023-08-07T11:44:39.105Z"
   },
   {
    "duration": 380,
    "start_time": "2023-08-07T11:44:58.522Z"
   },
   {
    "duration": 243,
    "start_time": "2023-08-07T11:45:35.954Z"
   },
   {
    "duration": 405,
    "start_time": "2023-08-07T11:46:13.470Z"
   },
   {
    "duration": 209,
    "start_time": "2023-08-07T11:46:46.199Z"
   },
   {
    "duration": 201,
    "start_time": "2023-08-07T11:46:53.562Z"
   },
   {
    "duration": 10,
    "start_time": "2023-08-07T11:54:56.500Z"
   },
   {
    "duration": 117,
    "start_time": "2023-08-07T11:55:13.520Z"
   },
   {
    "duration": 11,
    "start_time": "2023-08-07T11:55:32.175Z"
   },
   {
    "duration": 61,
    "start_time": "2023-08-07T12:16:46.667Z"
   },
   {
    "duration": 457,
    "start_time": "2023-08-07T12:18:57.913Z"
   },
   {
    "duration": 61,
    "start_time": "2023-08-07T12:19:21.866Z"
   },
   {
    "duration": 59,
    "start_time": "2023-08-07T12:20:29.675Z"
   },
   {
    "duration": 16,
    "start_time": "2023-08-07T12:20:59.678Z"
   },
   {
    "duration": 56,
    "start_time": "2023-08-07T12:21:29.178Z"
   },
   {
    "duration": 70,
    "start_time": "2023-08-07T12:22:18.878Z"
   },
   {
    "duration": 17,
    "start_time": "2023-08-07T12:22:32.074Z"
   },
   {
    "duration": 1352,
    "start_time": "2023-08-07T18:23:33.197Z"
   },
   {
    "duration": 230,
    "start_time": "2023-08-07T18:23:34.551Z"
   },
   {
    "duration": 211,
    "start_time": "2023-08-07T18:23:34.782Z"
   },
   {
    "duration": 74,
    "start_time": "2023-08-07T18:23:34.995Z"
   },
   {
    "duration": 23,
    "start_time": "2023-08-07T18:23:35.076Z"
   },
   {
    "duration": 14,
    "start_time": "2023-08-07T18:23:35.101Z"
   },
   {
    "duration": 7,
    "start_time": "2023-08-07T18:23:35.117Z"
   },
   {
    "duration": 15,
    "start_time": "2023-08-07T18:23:35.126Z"
   },
   {
    "duration": 20,
    "start_time": "2023-08-07T18:23:35.143Z"
   },
   {
    "duration": 7,
    "start_time": "2023-08-07T18:23:35.168Z"
   },
   {
    "duration": 16,
    "start_time": "2023-08-07T18:23:35.177Z"
   },
   {
    "duration": 10,
    "start_time": "2023-08-07T18:23:35.195Z"
   },
   {
    "duration": 19,
    "start_time": "2023-08-07T18:23:35.206Z"
   },
   {
    "duration": 268,
    "start_time": "2023-08-07T18:23:35.226Z"
   },
   {
    "duration": 9,
    "start_time": "2023-08-07T18:23:35.495Z"
   },
   {
    "duration": 188,
    "start_time": "2023-08-07T18:23:35.505Z"
   },
   {
    "duration": 5,
    "start_time": "2023-08-07T18:23:35.695Z"
   },
   {
    "duration": 213,
    "start_time": "2023-08-07T18:23:35.702Z"
   },
   {
    "duration": 452,
    "start_time": "2023-08-07T18:23:35.917Z"
   },
   {
    "duration": 429,
    "start_time": "2023-08-07T18:23:36.371Z"
   },
   {
    "duration": 32,
    "start_time": "2023-08-07T18:23:36.801Z"
   },
   {
    "duration": 44,
    "start_time": "2023-08-07T18:23:36.835Z"
   },
   {
    "duration": 20,
    "start_time": "2023-08-07T18:23:36.881Z"
   },
   {
    "duration": 536,
    "start_time": "2023-08-07T18:23:36.903Z"
   },
   {
    "duration": 427,
    "start_time": "2023-08-07T18:23:37.441Z"
   },
   {
    "duration": 225,
    "start_time": "2023-08-07T18:23:37.874Z"
   },
   {
    "duration": 234,
    "start_time": "2023-08-07T18:23:38.100Z"
   },
   {
    "duration": 81,
    "start_time": "2023-08-07T18:23:38.339Z"
   },
   {
    "duration": 16,
    "start_time": "2023-08-07T18:23:38.422Z"
   },
   {
    "duration": 23,
    "start_time": "2023-08-07T18:23:38.441Z"
   },
   {
    "duration": 15,
    "start_time": "2023-08-07T18:23:38.466Z"
   },
   {
    "duration": 18,
    "start_time": "2023-08-07T18:23:38.483Z"
   },
   {
    "duration": 2,
    "start_time": "2023-08-07T18:23:38.503Z"
   },
   {
    "duration": 8,
    "start_time": "2023-08-07T18:38:26.475Z"
   }
  ],
  "kernelspec": {
   "display_name": "Python 3 (ipykernel)",
   "language": "python",
   "name": "python3"
  },
  "language_info": {
   "codemirror_mode": {
    "name": "ipython",
    "version": 3
   },
   "file_extension": ".py",
   "mimetype": "text/x-python",
   "name": "python",
   "nbconvert_exporter": "python",
   "pygments_lexer": "ipython3",
   "version": "3.11.5"
  },
  "toc": {
   "base_numbering": 1,
   "nav_menu": {},
   "number_sections": true,
   "sideBar": true,
   "skip_h1_title": true,
   "title_cell": "Table of Contents",
   "title_sidebar": "Contents",
   "toc_cell": false,
   "toc_position": {},
   "toc_section_display": true,
   "toc_window_display": false
  },
  "widgets": {
   "application/vnd.jupyter.widget-state+json": {
    "state": {},
    "version_major": 2,
    "version_minor": 0
   }
  }
 },
 "nbformat": 4,
 "nbformat_minor": 5
}
