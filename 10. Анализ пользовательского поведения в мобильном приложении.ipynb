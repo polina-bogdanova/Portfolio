{
 "cells": [
  {
   "cell_type": "markdown",
   "metadata": {},
   "source": [
    "# Анализ пользовательского поведения в мобильном приложении"
   ]
  },
  {
   "cell_type": "markdown",
   "metadata": {},
   "source": [
    "Мы работаем в стартапе, который продаёт продукты питания. Нужно разобраться, как ведут себя пользователи мобильного приложения. \n",
    "\n",
    "**Основные цели:**\n",
    "- Изучить воронку продаж. Узнайте, как пользователи доходят до покупки. Сколько пользователей доходит до покупки, а сколько — «застревает» на предыдущих шагах? На каких именно?\n",
    "- Исследовать результаты A/A/B-эксперимента. Выяснить, какой шрифт лучше.\n",
    "\n",
    "**План работы:**\n",
    "1. Загрузить необходимые библиотеки и данные\n",
    "2. Провести предобработку данных\n",
    "3. Провести анализ событий в логе\n",
    "4. Изучить воронку событий \n",
    "5. Изучить результаты эксперимента по изменению шрифта\n",
    "6. Сделать выводы"
   ]
  },
  {
   "cell_type": "markdown",
   "metadata": {},
   "source": [
    "## Загрузка файла с данными и изучение общей информации"
   ]
  },
  {
   "cell_type": "code",
   "execution_count": 1,
   "metadata": {},
   "outputs": [],
   "source": [
    "#импортируем необходимые библиотеки\n",
    "import pandas as pd\n",
    "from datetime import datetime as dt\n",
    "import matplotlib.pyplot as plt\n",
    "from scipy import stats as st\n",
    "import numpy as np\n",
    "import math as mth"
   ]
  },
  {
   "cell_type": "code",
   "execution_count": 2,
   "metadata": {
    "scrolled": true
   },
   "outputs": [
    {
     "data": {
      "text/html": [
       "<div>\n",
       "<style scoped>\n",
       "    .dataframe tbody tr th:only-of-type {\n",
       "        vertical-align: middle;\n",
       "    }\n",
       "\n",
       "    .dataframe tbody tr th {\n",
       "        vertical-align: top;\n",
       "    }\n",
       "\n",
       "    .dataframe thead th {\n",
       "        text-align: right;\n",
       "    }\n",
       "</style>\n",
       "<table border=\"1\" class=\"dataframe\">\n",
       "  <thead>\n",
       "    <tr style=\"text-align: right;\">\n",
       "      <th></th>\n",
       "      <th>EventName</th>\n",
       "      <th>DeviceIDHash</th>\n",
       "      <th>EventTimestamp</th>\n",
       "      <th>ExpId</th>\n",
       "    </tr>\n",
       "  </thead>\n",
       "  <tbody>\n",
       "    <tr>\n",
       "      <th>0</th>\n",
       "      <td>MainScreenAppear</td>\n",
       "      <td>4575588528974610257</td>\n",
       "      <td>1564029816</td>\n",
       "      <td>246</td>\n",
       "    </tr>\n",
       "    <tr>\n",
       "      <th>1</th>\n",
       "      <td>MainScreenAppear</td>\n",
       "      <td>7416695313311560658</td>\n",
       "      <td>1564053102</td>\n",
       "      <td>246</td>\n",
       "    </tr>\n",
       "    <tr>\n",
       "      <th>2</th>\n",
       "      <td>PaymentScreenSuccessful</td>\n",
       "      <td>3518123091307005509</td>\n",
       "      <td>1564054127</td>\n",
       "      <td>248</td>\n",
       "    </tr>\n",
       "    <tr>\n",
       "      <th>3</th>\n",
       "      <td>CartScreenAppear</td>\n",
       "      <td>3518123091307005509</td>\n",
       "      <td>1564054127</td>\n",
       "      <td>248</td>\n",
       "    </tr>\n",
       "    <tr>\n",
       "      <th>4</th>\n",
       "      <td>PaymentScreenSuccessful</td>\n",
       "      <td>6217807653094995999</td>\n",
       "      <td>1564055322</td>\n",
       "      <td>248</td>\n",
       "    </tr>\n",
       "    <tr>\n",
       "      <th>5</th>\n",
       "      <td>CartScreenAppear</td>\n",
       "      <td>6217807653094995999</td>\n",
       "      <td>1564055323</td>\n",
       "      <td>248</td>\n",
       "    </tr>\n",
       "    <tr>\n",
       "      <th>6</th>\n",
       "      <td>OffersScreenAppear</td>\n",
       "      <td>8351860793733343758</td>\n",
       "      <td>1564066242</td>\n",
       "      <td>246</td>\n",
       "    </tr>\n",
       "    <tr>\n",
       "      <th>7</th>\n",
       "      <td>MainScreenAppear</td>\n",
       "      <td>5682100281902512875</td>\n",
       "      <td>1564085677</td>\n",
       "      <td>246</td>\n",
       "    </tr>\n",
       "    <tr>\n",
       "      <th>8</th>\n",
       "      <td>MainScreenAppear</td>\n",
       "      <td>1850981295691852772</td>\n",
       "      <td>1564086702</td>\n",
       "      <td>247</td>\n",
       "    </tr>\n",
       "    <tr>\n",
       "      <th>9</th>\n",
       "      <td>MainScreenAppear</td>\n",
       "      <td>5407636962369102641</td>\n",
       "      <td>1564112112</td>\n",
       "      <td>246</td>\n",
       "    </tr>\n",
       "  </tbody>\n",
       "</table>\n",
       "</div>"
      ],
      "text/plain": [
       "                 EventName         DeviceIDHash  EventTimestamp  ExpId\n",
       "0         MainScreenAppear  4575588528974610257      1564029816    246\n",
       "1         MainScreenAppear  7416695313311560658      1564053102    246\n",
       "2  PaymentScreenSuccessful  3518123091307005509      1564054127    248\n",
       "3         CartScreenAppear  3518123091307005509      1564054127    248\n",
       "4  PaymentScreenSuccessful  6217807653094995999      1564055322    248\n",
       "5         CartScreenAppear  6217807653094995999      1564055323    248\n",
       "6       OffersScreenAppear  8351860793733343758      1564066242    246\n",
       "7         MainScreenAppear  5682100281902512875      1564085677    246\n",
       "8         MainScreenAppear  1850981295691852772      1564086702    247\n",
       "9         MainScreenAppear  5407636962369102641      1564112112    246"
      ]
     },
     "execution_count": 2,
     "metadata": {},
     "output_type": "execute_result"
    }
   ],
   "source": [
    "data = pd.read_csv('/datasets/logs_exp.csv', sep='\\t')\n",
    "data.head(10)"
   ]
  },
  {
   "cell_type": "code",
   "execution_count": 3,
   "metadata": {
    "scrolled": false
   },
   "outputs": [
    {
     "name": "stdout",
     "output_type": "stream",
     "text": [
      "<class 'pandas.core.frame.DataFrame'>\n",
      "RangeIndex: 244126 entries, 0 to 244125\n",
      "Data columns (total 4 columns):\n",
      " #   Column          Non-Null Count   Dtype \n",
      "---  ------          --------------   ----- \n",
      " 0   EventName       244126 non-null  object\n",
      " 1   DeviceIDHash    244126 non-null  int64 \n",
      " 2   EventTimestamp  244126 non-null  int64 \n",
      " 3   ExpId           244126 non-null  int64 \n",
      "dtypes: int64(3), object(1)\n",
      "memory usage: 7.5+ MB\n"
     ]
    }
   ],
   "source": [
    "#выведем основную информацию о данных\n",
    "data.info()"
   ]
  },
  {
   "cell_type": "markdown",
   "metadata": {},
   "source": [
    "В таблице 244126 строк и 4 столбца:\n",
    "- EventName — название события;\n",
    "- DeviceIDHash — уникальный идентификатор пользователя;\n",
    "- EventTimestamp — время события;\n",
    "- ExpId — номер эксперимента: 246 и 247 — контрольные группы, а 248 — экспериментальная.\n",
    "\n",
    "Тип данных в столбце EventTimestamp не будем менять, так как добавим отдельные столбцы с датой и временем. Также приведем в порядок названия стобцов:приведем все к змеиному регистру. Проверим данные на наличие пропусков и дубликатов.  "
   ]
  },
  {
   "cell_type": "markdown",
   "metadata": {},
   "source": [
    "## Предобработка данных"
   ]
  },
  {
   "cell_type": "code",
   "execution_count": 4,
   "metadata": {
    "scrolled": true
   },
   "outputs": [
    {
     "data": {
      "text/plain": [
       "Index(['event_name', 'device_id_hash', 'event_timestamp', 'exp_id'], dtype='object')"
      ]
     },
     "execution_count": 4,
     "metadata": {},
     "output_type": "execute_result"
    }
   ],
   "source": [
    "#изменим названия столбцов \n",
    "data.columns = ['event_name','device_id_hash','event_timestamp', 'exp_id']\n",
    "data.columns"
   ]
  },
  {
   "cell_type": "code",
   "execution_count": 5,
   "metadata": {
    "scrolled": false
   },
   "outputs": [
    {
     "data": {
      "text/plain": [
       "event_name         0\n",
       "device_id_hash     0\n",
       "event_timestamp    0\n",
       "exp_id             0\n",
       "dtype: int64"
      ]
     },
     "execution_count": 5,
     "metadata": {},
     "output_type": "execute_result"
    }
   ],
   "source": [
    "#проверим данные на наличие пропусков\n",
    "data.isna().sum()"
   ]
  },
  {
   "cell_type": "markdown",
   "metadata": {},
   "source": [
    "В данных нет пропущенных значений, перейдем к рассмотрению дубликатов."
   ]
  },
  {
   "cell_type": "code",
   "execution_count": 6,
   "metadata": {},
   "outputs": [
    {
     "data": {
      "text/plain": [
       "413"
      ]
     },
     "execution_count": 6,
     "metadata": {},
     "output_type": "execute_result"
    }
   ],
   "source": [
    "#посчитаем сколько дубликатов в таблице \n",
    "data.duplicated().sum()"
   ]
  },
  {
   "cell_type": "markdown",
   "metadata": {},
   "source": [
    "В таблице целых 413 явных дубликатов. Удалим их, сбросив индексы."
   ]
  },
  {
   "cell_type": "code",
   "execution_count": 7,
   "metadata": {},
   "outputs": [],
   "source": [
    "#удалим дуликаты\n",
    "data = data.drop_duplicates().reset_index(drop=True)"
   ]
  },
  {
   "cell_type": "code",
   "execution_count": 8,
   "metadata": {
    "scrolled": true
   },
   "outputs": [
    {
     "data": {
      "text/plain": [
       "0"
      ]
     },
     "execution_count": 8,
     "metadata": {},
     "output_type": "execute_result"
    }
   ],
   "source": [
    "data.duplicated().sum()"
   ]
  },
  {
   "cell_type": "markdown",
   "metadata": {},
   "source": [
    "Явные дубликаты удалены. Посмотрим также уникальные значения в столбце event_name:"
   ]
  },
  {
   "cell_type": "code",
   "execution_count": 9,
   "metadata": {
    "scrolled": true
   },
   "outputs": [
    {
     "data": {
      "text/plain": [
       "array(['MainScreenAppear', 'PaymentScreenSuccessful', 'CartScreenAppear',\n",
       "       'OffersScreenAppear', 'Tutorial'], dtype=object)"
      ]
     },
     "execution_count": 9,
     "metadata": {},
     "output_type": "execute_result"
    }
   ],
   "source": [
    "data['event_name'].unique()"
   ]
  },
  {
   "cell_type": "markdown",
   "metadata": {},
   "source": [
    "Здесь все в порядке, неявных дубликатов нет. Добавим столбец даты и времени, а также отдельный столбец дат."
   ]
  },
  {
   "cell_type": "code",
   "execution_count": 10,
   "metadata": {
    "scrolled": true
   },
   "outputs": [
    {
     "data": {
      "text/html": [
       "<div>\n",
       "<style scoped>\n",
       "    .dataframe tbody tr th:only-of-type {\n",
       "        vertical-align: middle;\n",
       "    }\n",
       "\n",
       "    .dataframe tbody tr th {\n",
       "        vertical-align: top;\n",
       "    }\n",
       "\n",
       "    .dataframe thead th {\n",
       "        text-align: right;\n",
       "    }\n",
       "</style>\n",
       "<table border=\"1\" class=\"dataframe\">\n",
       "  <thead>\n",
       "    <tr style=\"text-align: right;\">\n",
       "      <th></th>\n",
       "      <th>event_name</th>\n",
       "      <th>device_id_hash</th>\n",
       "      <th>event_timestamp</th>\n",
       "      <th>exp_id</th>\n",
       "      <th>datetime</th>\n",
       "      <th>date</th>\n",
       "    </tr>\n",
       "  </thead>\n",
       "  <tbody>\n",
       "    <tr>\n",
       "      <th>0</th>\n",
       "      <td>MainScreenAppear</td>\n",
       "      <td>4575588528974610257</td>\n",
       "      <td>1564029816</td>\n",
       "      <td>246</td>\n",
       "      <td>2019-07-25 04:43:36</td>\n",
       "      <td>2019-07-25</td>\n",
       "    </tr>\n",
       "    <tr>\n",
       "      <th>1</th>\n",
       "      <td>MainScreenAppear</td>\n",
       "      <td>7416695313311560658</td>\n",
       "      <td>1564053102</td>\n",
       "      <td>246</td>\n",
       "      <td>2019-07-25 11:11:42</td>\n",
       "      <td>2019-07-25</td>\n",
       "    </tr>\n",
       "    <tr>\n",
       "      <th>2</th>\n",
       "      <td>PaymentScreenSuccessful</td>\n",
       "      <td>3518123091307005509</td>\n",
       "      <td>1564054127</td>\n",
       "      <td>248</td>\n",
       "      <td>2019-07-25 11:28:47</td>\n",
       "      <td>2019-07-25</td>\n",
       "    </tr>\n",
       "    <tr>\n",
       "      <th>3</th>\n",
       "      <td>CartScreenAppear</td>\n",
       "      <td>3518123091307005509</td>\n",
       "      <td>1564054127</td>\n",
       "      <td>248</td>\n",
       "      <td>2019-07-25 11:28:47</td>\n",
       "      <td>2019-07-25</td>\n",
       "    </tr>\n",
       "    <tr>\n",
       "      <th>4</th>\n",
       "      <td>PaymentScreenSuccessful</td>\n",
       "      <td>6217807653094995999</td>\n",
       "      <td>1564055322</td>\n",
       "      <td>248</td>\n",
       "      <td>2019-07-25 11:48:42</td>\n",
       "      <td>2019-07-25</td>\n",
       "    </tr>\n",
       "  </tbody>\n",
       "</table>\n",
       "</div>"
      ],
      "text/plain": [
       "                event_name       device_id_hash  event_timestamp  exp_id  \\\n",
       "0         MainScreenAppear  4575588528974610257       1564029816     246   \n",
       "1         MainScreenAppear  7416695313311560658       1564053102     246   \n",
       "2  PaymentScreenSuccessful  3518123091307005509       1564054127     248   \n",
       "3         CartScreenAppear  3518123091307005509       1564054127     248   \n",
       "4  PaymentScreenSuccessful  6217807653094995999       1564055322     248   \n",
       "\n",
       "             datetime       date  \n",
       "0 2019-07-25 04:43:36 2019-07-25  \n",
       "1 2019-07-25 11:11:42 2019-07-25  \n",
       "2 2019-07-25 11:28:47 2019-07-25  \n",
       "3 2019-07-25 11:28:47 2019-07-25  \n",
       "4 2019-07-25 11:48:42 2019-07-25  "
      ]
     },
     "execution_count": 10,
     "metadata": {},
     "output_type": "execute_result"
    }
   ],
   "source": [
    "data['datetime'] = [dt.fromtimestamp(x) for x in data['event_timestamp']]\n",
    "data['date'] = data['datetime'].dt.normalize()\n",
    "data.head()"
   ]
  },
  {
   "cell_type": "code",
   "execution_count": 11,
   "metadata": {
    "scrolled": true
   },
   "outputs": [
    {
     "name": "stdout",
     "output_type": "stream",
     "text": [
      "<class 'pandas.core.frame.DataFrame'>\n",
      "RangeIndex: 243713 entries, 0 to 243712\n",
      "Data columns (total 6 columns):\n",
      " #   Column           Non-Null Count   Dtype         \n",
      "---  ------           --------------   -----         \n",
      " 0   event_name       243713 non-null  object        \n",
      " 1   device_id_hash   243713 non-null  int64         \n",
      " 2   event_timestamp  243713 non-null  int64         \n",
      " 3   exp_id           243713 non-null  int64         \n",
      " 4   datetime         243713 non-null  datetime64[ns]\n",
      " 5   date             243713 non-null  datetime64[ns]\n",
      "dtypes: datetime64[ns](2), int64(3), object(1)\n",
      "memory usage: 11.2+ MB\n"
     ]
    }
   ],
   "source": [
    "data.info()"
   ]
  },
  {
   "cell_type": "markdown",
   "metadata": {},
   "source": [
    "Также необходимо проверить попадают ли одни и те же пользователи сразу в несколько групп. "
   ]
  },
  {
   "cell_type": "code",
   "execution_count": 12,
   "metadata": {
    "scrolled": true
   },
   "outputs": [
    {
     "data": {
      "text/plain": [
       "exp_id    0\n",
       "dtype: int64"
      ]
     },
     "execution_count": 12,
     "metadata": {},
     "output_type": "execute_result"
    }
   ],
   "source": [
    "users_246_7_8 = data.groupby('device_id_hash').agg({'exp_id' : 'nunique'}).query('exp_id>1').count()\n",
    "users_246_7_8"
   ]
  },
  {
   "cell_type": "markdown",
   "metadata": {},
   "source": [
    "Сгруппировав данные по идентификатору пользователя, мы посчитали во сколько уникальных групп входит каждый пользователь. В исходных данных нет пользователей, которые попадают сразу в несколько групп."
   ]
  },
  {
   "cell_type": "markdown",
   "metadata": {},
   "source": [
    "## Анализ событий в логе"
   ]
  },
  {
   "cell_type": "markdown",
   "metadata": {},
   "source": [
    "\n",
    "Данными за какой период вы располагаете? Найдите максимальную и минимальную дату. Изучите, как меняется количество данных: постройте столбчатую диаграмму, которая отобразит количество событий в зависимости от времени в разрезе групп. Можно ли быть уверенным, что у вас одинаково полные данные за весь период? Технически в логи новых дней по некоторым пользователям могут «доезжать» события из прошлого — это может «перекашивать данные». Определите, с какого момента данные полные и отбросьте более старые. Данными за какой период времени вы располагаете на самом деле?\n",
    "Много ли событий и пользователей вы потеряли, отбросив старые данные?\n",
    "Проверьте, что у вас есть пользователи из всех трёх экспериментальных групп."
   ]
  },
  {
   "cell_type": "markdown",
   "metadata": {},
   "source": [
    "### Подсчет событий и пользователей в логе"
   ]
  },
  {
   "cell_type": "code",
   "execution_count": 13,
   "metadata": {
    "scrolled": true
   },
   "outputs": [
    {
     "name": "stdout",
     "output_type": "stream",
     "text": [
      "Кол-во событий в логе: 243713\n"
     ]
    }
   ],
   "source": [
    "print('Кол-во событий в логе:', data.shape[0])"
   ]
  },
  {
   "cell_type": "markdown",
   "metadata": {},
   "source": [
    "В логе 243723 событий, 413 повторяющихся мы уже убрали. "
   ]
  },
  {
   "cell_type": "code",
   "execution_count": 14,
   "metadata": {
    "scrolled": true
   },
   "outputs": [
    {
     "name": "stdout",
     "output_type": "stream",
     "text": [
      "Кол-во пользователей в логе: 7551\n"
     ]
    }
   ],
   "source": [
    "print('Кол-во пользователей в логе:', data['device_id_hash'].nunique())"
   ]
  },
  {
   "cell_type": "markdown",
   "metadata": {},
   "source": [
    "В логе всего 7551 уникальный пользователь. Значительно меньше чем событий, значит на каждого приходится далеко не одно событие. Посчитаем, сколько в среднем событий приходится на пользователя: "
   ]
  },
  {
   "cell_type": "code",
   "execution_count": 15,
   "metadata": {},
   "outputs": [
    {
     "name": "stdout",
     "output_type": "stream",
     "text": [
      "Кол-во событий на пользователя: 32.28\n"
     ]
    }
   ],
   "source": [
    "print('Кол-во событий на пользователя:', round(data.shape[0]/data['device_id_hash'].nunique(),2))"
   ]
  },
  {
   "cell_type": "markdown",
   "metadata": {},
   "source": [
    "В среднем на одного пользователя приходится около 32 событий."
   ]
  },
  {
   "cell_type": "markdown",
   "metadata": {},
   "source": [
    "### Анализ периода исследования"
   ]
  },
  {
   "cell_type": "markdown",
   "metadata": {},
   "source": [
    "В этом блоке узнаем, данными за какой период мы располагаете? Найдем максимальную и минимальную дату. Изучим, как меняется количество данных: построим столбчатую диаграмму, которая отобразит количество событий в зависимости от времени в разрезе групп. Проанализируем, можно ли быть уверенным, что у нас одинаково полные данные за весь период? Определим, с какого момента данные полные и отбросим более старые. Определим, данными за какой период времени мы располагаете на самом деле? Посмотрим, много ли событий и пользователей мы потеряли, отбросив старые данные? Проверим, что у нас есть пользователи из всех трёх экспериментальных групп."
   ]
  },
  {
   "cell_type": "code",
   "execution_count": 16,
   "metadata": {
    "scrolled": true
   },
   "outputs": [
    {
     "name": "stdout",
     "output_type": "stream",
     "text": [
      "Минимальная дата: 2019-07-25 00:00:00\n",
      "Максимальная дата: 2019-08-07 00:00:00\n"
     ]
    }
   ],
   "source": [
    "min_date = data['date'].min()\n",
    "max_date = data['date'].max()\n",
    "print('Минимальная дата:',min_date)\n",
    "print('Максимальная дата:', max_date)"
   ]
  },
  {
   "cell_type": "markdown",
   "metadata": {},
   "source": [
    "Мы располагаем данными за период с 25 июля 2019 года по 7 августа 2019 года. Посмотрим сколько событий приходится на каждый из существующих дней и построим столбчатую диаграмму, отражающую количество событий в зависимости от времени в разрезе групп."
   ]
  },
  {
   "cell_type": "code",
   "execution_count": 17,
   "metadata": {},
   "outputs": [
    {
     "data": {
      "text/plain": [
       "2019-08-01    36141\n",
       "2019-08-05    36058\n",
       "2019-08-06    35788\n",
       "2019-08-02    35554\n",
       "2019-08-03    33282\n",
       "2019-08-04    32968\n",
       "2019-08-07    31096\n",
       "2019-07-31     2030\n",
       "2019-07-30      412\n",
       "2019-07-29      184\n",
       "2019-07-28      105\n",
       "2019-07-27       55\n",
       "2019-07-26       31\n",
       "2019-07-25        9\n",
       "Name: date, dtype: int64"
      ]
     },
     "execution_count": 17,
     "metadata": {},
     "output_type": "execute_result"
    }
   ],
   "source": [
    "data['date'].value_counts()"
   ]
  },
  {
   "cell_type": "code",
   "execution_count": 18,
   "metadata": {},
   "outputs": [
    {
     "data": {
      "image/png": "[encoded data removed]",
      "text/plain": [
       "<Figure size 720x360 with 1 Axes>"
      ]
     },
     "metadata": {
      "needs_background": "light"
     },
     "output_type": "display_data"
    }
   ],
   "source": [
    "date_count_events = data.pivot_table(index='date',columns='exp_id', values='device_id_hash', aggfunc='count')\n",
    "date_count_events.plot(kind = 'bar', figsize = (10,5), fontsize = 10)\n",
    "plt.title('Кол-во событий в зависимости от времени', fontsize=12)\n",
    "plt.xlabel('Дата', fontsize=10)\n",
    "plt.ylabel('Кол-во событий', fontsize=10)\n",
    "plt.show()"
   ]
  },
  {
   "cell_type": "markdown",
   "metadata": {},
   "source": [
    "По графику хорошо видно, что данных за июль совсем мало. Можем сделать вывод, что полные данные у нас есть только за август. Определим 1 августа как границу и отбросим более старые данные. Создадим новый датафрейм"
   ]
  },
  {
   "cell_type": "code",
   "execution_count": 19,
   "metadata": {},
   "outputs": [
    {
     "data": {
      "text/html": [
       "<div>\n",
       "<style scoped>\n",
       "    .dataframe tbody tr th:only-of-type {\n",
       "        vertical-align: middle;\n",
       "    }\n",
       "\n",
       "    .dataframe tbody tr th {\n",
       "        vertical-align: top;\n",
       "    }\n",
       "\n",
       "    .dataframe thead th {\n",
       "        text-align: right;\n",
       "    }\n",
       "</style>\n",
       "<table border=\"1\" class=\"dataframe\">\n",
       "  <thead>\n",
       "    <tr style=\"text-align: right;\">\n",
       "      <th></th>\n",
       "      <th>event_name</th>\n",
       "      <th>device_id_hash</th>\n",
       "      <th>event_timestamp</th>\n",
       "      <th>exp_id</th>\n",
       "      <th>datetime</th>\n",
       "      <th>date</th>\n",
       "    </tr>\n",
       "  </thead>\n",
       "  <tbody>\n",
       "    <tr>\n",
       "      <th>2826</th>\n",
       "      <td>Tutorial</td>\n",
       "      <td>3737462046622621720</td>\n",
       "      <td>1564618048</td>\n",
       "      <td>246</td>\n",
       "      <td>2019-08-01 00:07:28</td>\n",
       "      <td>2019-08-01</td>\n",
       "    </tr>\n",
       "    <tr>\n",
       "      <th>2827</th>\n",
       "      <td>MainScreenAppear</td>\n",
       "      <td>3737462046622621720</td>\n",
       "      <td>1564618080</td>\n",
       "      <td>246</td>\n",
       "      <td>2019-08-01 00:08:00</td>\n",
       "      <td>2019-08-01</td>\n",
       "    </tr>\n",
       "    <tr>\n",
       "      <th>2828</th>\n",
       "      <td>MainScreenAppear</td>\n",
       "      <td>3737462046622621720</td>\n",
       "      <td>1564618135</td>\n",
       "      <td>246</td>\n",
       "      <td>2019-08-01 00:08:55</td>\n",
       "      <td>2019-08-01</td>\n",
       "    </tr>\n",
       "    <tr>\n",
       "      <th>2829</th>\n",
       "      <td>OffersScreenAppear</td>\n",
       "      <td>3737462046622621720</td>\n",
       "      <td>1564618138</td>\n",
       "      <td>246</td>\n",
       "      <td>2019-08-01 00:08:58</td>\n",
       "      <td>2019-08-01</td>\n",
       "    </tr>\n",
       "    <tr>\n",
       "      <th>2830</th>\n",
       "      <td>MainScreenAppear</td>\n",
       "      <td>1433840883824088890</td>\n",
       "      <td>1564618139</td>\n",
       "      <td>247</td>\n",
       "      <td>2019-08-01 00:08:59</td>\n",
       "      <td>2019-08-01</td>\n",
       "    </tr>\n",
       "  </tbody>\n",
       "</table>\n",
       "</div>"
      ],
      "text/plain": [
       "              event_name       device_id_hash  event_timestamp  exp_id  \\\n",
       "2826            Tutorial  3737462046622621720       1564618048     246   \n",
       "2827    MainScreenAppear  3737462046622621720       1564618080     246   \n",
       "2828    MainScreenAppear  3737462046622621720       1564618135     246   \n",
       "2829  OffersScreenAppear  3737462046622621720       1564618138     246   \n",
       "2830    MainScreenAppear  1433840883824088890       1564618139     247   \n",
       "\n",
       "                datetime       date  \n",
       "2826 2019-08-01 00:07:28 2019-08-01  \n",
       "2827 2019-08-01 00:08:00 2019-08-01  \n",
       "2828 2019-08-01 00:08:55 2019-08-01  \n",
       "2829 2019-08-01 00:08:58 2019-08-01  \n",
       "2830 2019-08-01 00:08:59 2019-08-01  "
      ]
     },
     "execution_count": 19,
     "metadata": {},
     "output_type": "execute_result"
    }
   ],
   "source": [
    "new_data = data.query('date >= \"2019-08-01\"')\n",
    "new_data.head()"
   ]
  },
  {
   "cell_type": "code",
   "execution_count": 20,
   "metadata": {},
   "outputs": [
    {
     "name": "stdout",
     "output_type": "stream",
     "text": [
      "Минимальная дата: 2019-08-01 00:00:00\n",
      "Максимальная дата: 2019-08-07 00:00:00\n"
     ]
    }
   ],
   "source": [
    "new_min_date = new_data['date'].min()\n",
    "new_max_date = new_data['date'].max()\n",
    "print('Минимальная дата:',new_min_date)\n",
    "print('Максимальная дата:', new_max_date)"
   ]
  },
  {
   "cell_type": "markdown",
   "metadata": {},
   "source": [
    "Получается, что на самом деле мы располагаем данными за период с 1 по 7 августа 2019 года.\n",
    "\n",
    "Посмотрим, много ли событий мы потеряли, отбросив старые данные? "
   ]
  },
  {
   "cell_type": "code",
   "execution_count": 21,
   "metadata": {
    "scrolled": true
   },
   "outputs": [
    {
     "name": "stdout",
     "output_type": "stream",
     "text": [
      "Кол-во событий в начале: 243713\n",
      "Кол-во событий сейчас: 240887\n",
      "Потерянные события: 2826\n",
      "Доля потерянных событий: 1.16\n"
     ]
    }
   ],
   "source": [
    "print('Кол-во событий в начале:', data.shape[0])\n",
    "print('Кол-во событий сейчас:', new_data.shape[0])\n",
    "print('Потерянные события:', data.shape[0] - new_data.shape[0])\n",
    "print('Доля потерянных событий:', round((data.shape[0] - new_data.shape[0]) / data.shape[0] * 100, 2))"
   ]
  },
  {
   "cell_type": "markdown",
   "metadata": {},
   "source": [
    "Мы потеряли чуть больше 1% событий (1.16%), но учитывая, что эти данные неполные и не совсем актуальные, то это неплохой результат.  \n",
    "\n",
    "Посмотрим, сколько пользователей мы потеряли:"
   ]
  },
  {
   "cell_type": "code",
   "execution_count": 22,
   "metadata": {
    "scrolled": true
   },
   "outputs": [
    {
     "name": "stdout",
     "output_type": "stream",
     "text": [
      "Кол-во пользователей в начале: 7551\n",
      "Кол-во пользователей сейчас: 7534\n",
      "Потерянные пользователи: 17\n",
      "Доля потерянных пользователей: 0.23\n"
     ]
    }
   ],
   "source": [
    "print('Кол-во пользователей в начале:', data['device_id_hash'].nunique())\n",
    "print('Кол-во пользователей сейчас:', new_data['device_id_hash'].nunique())\n",
    "print('Потерянные пользователи:', data['device_id_hash'].nunique() - new_data['device_id_hash'].nunique())\n",
    "print('Доля потерянных пользователей:', round((data['device_id_hash'].nunique() - new_data['device_id_hash'].nunique()) / data['device_id_hash'].nunique() * 100, 2))"
   ]
  },
  {
   "cell_type": "markdown",
   "metadata": {},
   "source": [
    "Было потеряно всего 17 пользователей, это очень мало на фоне общего числа. Всего 0.23%\n",
    "\n",
    "Проверим, что у нас есть пользователи из всех трёх экспериментальных групп. Посчитаем количество событий в каждой группе:\n"
   ]
  },
  {
   "cell_type": "code",
   "execution_count": 23,
   "metadata": {
    "scrolled": false
   },
   "outputs": [
    {
     "data": {
      "text/plain": [
       "248    84563\n",
       "246    79302\n",
       "247    77022\n",
       "Name: exp_id, dtype: int64"
      ]
     },
     "execution_count": 23,
     "metadata": {},
     "output_type": "execute_result"
    }
   ],
   "source": [
    "new_data['exp_id'].value_counts()"
   ]
  },
  {
   "cell_type": "markdown",
   "metadata": {},
   "source": [
    "В каждой группе довольно много событий, разница в их количестве незначительна. Посчитаем количество уникальных пользователей в каждой группе. "
   ]
  },
  {
   "cell_type": "code",
   "execution_count": 24,
   "metadata": {},
   "outputs": [
    {
     "data": {
      "text/plain": [
       "exp_id\n",
       "246    2484\n",
       "247    2513\n",
       "248    2537\n",
       "Name: device_id_hash, dtype: int64"
      ]
     },
     "execution_count": 24,
     "metadata": {},
     "output_type": "execute_result"
    }
   ],
   "source": [
    "new_data.groupby('exp_id')['device_id_hash'].nunique()"
   ]
  },
  {
   "cell_type": "markdown",
   "metadata": {},
   "source": [
    "Отлично, все на месте. Можем продолжать!"
   ]
  },
  {
   "cell_type": "markdown",
   "metadata": {},
   "source": [
    "## Изучение воронки событий"
   ]
  },
  {
   "cell_type": "markdown",
   "metadata": {},
   "source": [
    "### Анализ событий в логах"
   ]
  },
  {
   "cell_type": "markdown",
   "metadata": {},
   "source": [
    "Посмотрим, какие события есть в логах, как часто они встречаются. Отсортируем события по частоте."
   ]
  },
  {
   "cell_type": "code",
   "execution_count": 25,
   "metadata": {},
   "outputs": [
    {
     "data": {
      "text/plain": [
       "MainScreenAppear           117328\n",
       "OffersScreenAppear          46333\n",
       "CartScreenAppear            42303\n",
       "PaymentScreenSuccessful     33918\n",
       "Tutorial                     1005\n",
       "Name: event_name, dtype: int64"
      ]
     },
     "execution_count": 25,
     "metadata": {},
     "output_type": "execute_result"
    }
   ],
   "source": [
    "new_data['event_name'].value_counts()"
   ]
  },
  {
   "cell_type": "markdown",
   "metadata": {},
   "source": [
    "Всего в логах 5 событий:\n",
    "- Главная страница \n",
    "- Страница с предложениями\n",
    "- Корзина\n",
    "- Оформление \n",
    "- Руководство \n",
    "\n",
    "Самое часто встречающееся событие - посещение главной страницы, почти половина от общего числа событий. На втором месте - страница с предложениями - 46333 события, далее переходы в корзину - 42303 события. На оформление заказов приходится почти 34 тыс. событий. Самое редкое действие - просмотр руководства - всего 1005 событий.   \n"
   ]
  },
  {
   "cell_type": "markdown",
   "metadata": {},
   "source": [
    "### Анализ количества пользователей на событие"
   ]
  },
  {
   "cell_type": "markdown",
   "metadata": {},
   "source": [
    "Посчитаем, сколько пользователей совершали каждое из событий. Отсортируем события по числу пользователей. Посчитаем долю пользователей, которые хоть раз совершали событие."
   ]
  },
  {
   "cell_type": "code",
   "execution_count": 26,
   "metadata": {
    "scrolled": false
   },
   "outputs": [
    {
     "data": {
      "text/html": [
       "<div>\n",
       "<style scoped>\n",
       "    .dataframe tbody tr th:only-of-type {\n",
       "        vertical-align: middle;\n",
       "    }\n",
       "\n",
       "    .dataframe tbody tr th {\n",
       "        vertical-align: top;\n",
       "    }\n",
       "\n",
       "    .dataframe thead th {\n",
       "        text-align: right;\n",
       "    }\n",
       "</style>\n",
       "<table border=\"1\" class=\"dataframe\">\n",
       "  <thead>\n",
       "    <tr style=\"text-align: right;\">\n",
       "      <th></th>\n",
       "      <th>user_count</th>\n",
       "      <th>event1</th>\n",
       "    </tr>\n",
       "    <tr>\n",
       "      <th>event_name</th>\n",
       "      <th></th>\n",
       "      <th></th>\n",
       "    </tr>\n",
       "  </thead>\n",
       "  <tbody>\n",
       "    <tr>\n",
       "      <th>MainScreenAppear</th>\n",
       "      <td>7419</td>\n",
       "      <td>0.984736</td>\n",
       "    </tr>\n",
       "    <tr>\n",
       "      <th>OffersScreenAppear</th>\n",
       "      <td>4593</td>\n",
       "      <td>0.609636</td>\n",
       "    </tr>\n",
       "    <tr>\n",
       "      <th>CartScreenAppear</th>\n",
       "      <td>3734</td>\n",
       "      <td>0.495620</td>\n",
       "    </tr>\n",
       "    <tr>\n",
       "      <th>PaymentScreenSuccessful</th>\n",
       "      <td>3539</td>\n",
       "      <td>0.469737</td>\n",
       "    </tr>\n",
       "    <tr>\n",
       "      <th>Tutorial</th>\n",
       "      <td>840</td>\n",
       "      <td>0.111495</td>\n",
       "    </tr>\n",
       "  </tbody>\n",
       "</table>\n",
       "</div>"
      ],
      "text/plain": [
       "                         user_count    event1\n",
       "event_name                                   \n",
       "MainScreenAppear               7419  0.984736\n",
       "OffersScreenAppear             4593  0.609636\n",
       "CartScreenAppear               3734  0.495620\n",
       "PaymentScreenSuccessful        3539  0.469737\n",
       "Tutorial                        840  0.111495"
      ]
     },
     "execution_count": 26,
     "metadata": {},
     "output_type": "execute_result"
    }
   ],
   "source": [
    "us_count = new_data.groupby('event_name').agg({'device_id_hash':'nunique'}).sort_values(by='device_id_hash',ascending=False)\n",
    "us_count.columns = ['user_count']\n",
    "us_count['event1'] = us_count['user_count'] / new_data['device_id_hash'].nunique()\n",
    "us_count"
   ]
  },
  {
   "cell_type": "markdown",
   "metadata": {},
   "source": [
    "Больше всего пользователей приходится на главную страницу, то есть это почти все пользователи (около 98,5%). 4593 пользователя переходят на страницу с предложениями - около 61 процента. Практически 50% пользователей переходят к корзине и 47% доходят до оформления заказа. Всего 11% пользователей просматривают руководство.    "
   ]
  },
  {
   "cell_type": "markdown",
   "metadata": {},
   "source": [
    "Можно предположить, что события происходят как раз в таком порядке:\n",
    "1. Главная страница\n",
    "2. Страница с предложениями\n",
    "3. Корзина\n",
    "4. Оформление заказа\n",
    "\n",
    "Просмотр руководства сильно выделяется среди остальных событий. Почти 90% пользователей его игнорируют, поэтому не будем учитывать его при расчёте воронки."
   ]
  },
  {
   "cell_type": "markdown",
   "metadata": {},
   "source": [
    "### Анализ воронки "
   ]
  },
  {
   "cell_type": "markdown",
   "metadata": {},
   "source": [
    "По воронке событий посчитаем, какая доля пользователей проходит на следующий шаг воронки (от числа пользователей на предыдущем). То есть для последовательности событий A → B → C посчитаем отношение числа пользователей с событием B к количеству пользователей с событием A, а также отношение числа пользователей с событием C к количеству пользователей с событием B.\n",
    "Узнаем, на каком шаге теряете больше всего пользователей, а также найдем долю пользователей, которые доходят от первого события до оплаты?"
   ]
  },
  {
   "cell_type": "code",
   "execution_count": 27,
   "metadata": {
    "scrolled": true
   },
   "outputs": [
    {
     "name": "stderr",
     "output_type": "stream",
     "text": [
      "/tmp/ipykernel_436/3253003200.py:2: SettingWithCopyWarning: \n",
      "A value is trying to be set on a copy of a slice from a DataFrame.\n",
      "Try using .loc[row_indexer,col_indexer] = value instead\n",
      "\n",
      "See the caveats in the documentation: https://pandas.pydata.org/pandas-docs/stable/user_guide/indexing.html#returning-a-view-versus-a-copy\n",
      "  us_count['dolya'] = (us_count['user_count'].pct_change()) + 1\n"
     ]
    },
    {
     "data": {
      "text/html": [
       "<div>\n",
       "<style scoped>\n",
       "    .dataframe tbody tr th:only-of-type {\n",
       "        vertical-align: middle;\n",
       "    }\n",
       "\n",
       "    .dataframe tbody tr th {\n",
       "        vertical-align: top;\n",
       "    }\n",
       "\n",
       "    .dataframe thead th {\n",
       "        text-align: right;\n",
       "    }\n",
       "</style>\n",
       "<table border=\"1\" class=\"dataframe\">\n",
       "  <thead>\n",
       "    <tr style=\"text-align: right;\">\n",
       "      <th></th>\n",
       "      <th>user_count</th>\n",
       "      <th>event1</th>\n",
       "      <th>dolya</th>\n",
       "    </tr>\n",
       "    <tr>\n",
       "      <th>event_name</th>\n",
       "      <th></th>\n",
       "      <th></th>\n",
       "      <th></th>\n",
       "    </tr>\n",
       "  </thead>\n",
       "  <tbody>\n",
       "    <tr>\n",
       "      <th>MainScreenAppear</th>\n",
       "      <td>7419</td>\n",
       "      <td>0.984736</td>\n",
       "      <td>NaN</td>\n",
       "    </tr>\n",
       "    <tr>\n",
       "      <th>OffersScreenAppear</th>\n",
       "      <td>4593</td>\n",
       "      <td>0.609636</td>\n",
       "      <td>0.619086</td>\n",
       "    </tr>\n",
       "    <tr>\n",
       "      <th>CartScreenAppear</th>\n",
       "      <td>3734</td>\n",
       "      <td>0.495620</td>\n",
       "      <td>0.812976</td>\n",
       "    </tr>\n",
       "    <tr>\n",
       "      <th>PaymentScreenSuccessful</th>\n",
       "      <td>3539</td>\n",
       "      <td>0.469737</td>\n",
       "      <td>0.947777</td>\n",
       "    </tr>\n",
       "  </tbody>\n",
       "</table>\n",
       "</div>"
      ],
      "text/plain": [
       "                         user_count    event1     dolya\n",
       "event_name                                             \n",
       "MainScreenAppear               7419  0.984736       NaN\n",
       "OffersScreenAppear             4593  0.609636  0.619086\n",
       "CartScreenAppear               3734  0.495620  0.812976\n",
       "PaymentScreenSuccessful        3539  0.469737  0.947777"
      ]
     },
     "execution_count": 27,
     "metadata": {},
     "output_type": "execute_result"
    }
   ],
   "source": [
    "us_count = us_count.query('event_name != \"Tutorial\"')\n",
    "us_count['dolya'] = (us_count['user_count'].pct_change()) + 1\n",
    "us_count"
   ]
  },
  {
   "cell_type": "markdown",
   "metadata": {},
   "source": [
    "Таким образом, на второй шаг-страница предложений- переходят около 62% от числа пользователей, посетивших главную страницу. 81% из них дальше переходят в корзину. Из корзины 95%! пользователей переходят к оформлению заказа.\n",
    "\n",
    "Больше всего пользователей теряется на первом шаге при переходе с главного экрана к предложениям. Это может быть из-за того, что какая-то часть пользователей вообще не посещает главную страницу (те самые 2 процента), а сразу попадают на страницу с предложением. Или из-за нефункциональной главной страницы, по которой неудобно переходить дальше.  "
   ]
  },
  {
   "cell_type": "markdown",
   "metadata": {},
   "source": [
    "Найдем долю пользователей, которые доходят от первого события до оплаты:"
   ]
  },
  {
   "cell_type": "code",
   "execution_count": 28,
   "metadata": {
    "scrolled": true
   },
   "outputs": [
    {
     "name": "stderr",
     "output_type": "stream",
     "text": [
      "/tmp/ipykernel_436/2635003463.py:1: SettingWithCopyWarning: \n",
      "A value is trying to be set on a copy of a slice from a DataFrame.\n",
      "Try using .loc[row_indexer,col_indexer] = value instead\n",
      "\n",
      "See the caveats in the documentation: https://pandas.pydata.org/pandas-docs/stable/user_guide/indexing.html#returning-a-view-versus-a-copy\n",
      "  us_count['start_end'] = us_count['user_count'] / us_count['user_count'][0]\n"
     ]
    },
    {
     "data": {
      "text/html": [
       "<div>\n",
       "<style scoped>\n",
       "    .dataframe tbody tr th:only-of-type {\n",
       "        vertical-align: middle;\n",
       "    }\n",
       "\n",
       "    .dataframe tbody tr th {\n",
       "        vertical-align: top;\n",
       "    }\n",
       "\n",
       "    .dataframe thead th {\n",
       "        text-align: right;\n",
       "    }\n",
       "</style>\n",
       "<table border=\"1\" class=\"dataframe\">\n",
       "  <thead>\n",
       "    <tr style=\"text-align: right;\">\n",
       "      <th></th>\n",
       "      <th>user_count</th>\n",
       "      <th>event1</th>\n",
       "      <th>dolya</th>\n",
       "      <th>start_end</th>\n",
       "    </tr>\n",
       "    <tr>\n",
       "      <th>event_name</th>\n",
       "      <th></th>\n",
       "      <th></th>\n",
       "      <th></th>\n",
       "      <th></th>\n",
       "    </tr>\n",
       "  </thead>\n",
       "  <tbody>\n",
       "    <tr>\n",
       "      <th>MainScreenAppear</th>\n",
       "      <td>7419</td>\n",
       "      <td>0.984736</td>\n",
       "      <td>NaN</td>\n",
       "      <td>1.000000</td>\n",
       "    </tr>\n",
       "    <tr>\n",
       "      <th>OffersScreenAppear</th>\n",
       "      <td>4593</td>\n",
       "      <td>0.609636</td>\n",
       "      <td>0.619086</td>\n",
       "      <td>0.619086</td>\n",
       "    </tr>\n",
       "    <tr>\n",
       "      <th>CartScreenAppear</th>\n",
       "      <td>3734</td>\n",
       "      <td>0.495620</td>\n",
       "      <td>0.812976</td>\n",
       "      <td>0.503302</td>\n",
       "    </tr>\n",
       "    <tr>\n",
       "      <th>PaymentScreenSuccessful</th>\n",
       "      <td>3539</td>\n",
       "      <td>0.469737</td>\n",
       "      <td>0.947777</td>\n",
       "      <td>0.477018</td>\n",
       "    </tr>\n",
       "  </tbody>\n",
       "</table>\n",
       "</div>"
      ],
      "text/plain": [
       "                         user_count    event1     dolya  start_end\n",
       "event_name                                                        \n",
       "MainScreenAppear               7419  0.984736       NaN   1.000000\n",
       "OffersScreenAppear             4593  0.609636  0.619086   0.619086\n",
       "CartScreenAppear               3734  0.495620  0.812976   0.503302\n",
       "PaymentScreenSuccessful        3539  0.469737  0.947777   0.477018"
      ]
     },
     "execution_count": 28,
     "metadata": {},
     "output_type": "execute_result"
    }
   ],
   "source": [
    "us_count['start_end'] = us_count['user_count'] / us_count['user_count'][0] \n",
    "us_count"
   ]
  },
  {
   "cell_type": "markdown",
   "metadata": {},
   "source": [
    "С самого начала и до последнего события доходят около 48%. В принципе, это было заметно уже в начале анализа воронки, но сейчас мы получили более точные данные. "
   ]
  },
  {
   "cell_type": "markdown",
   "metadata": {},
   "source": [
    "Таким образом, мы выделили 4 события в воронке: главный экран - каталог - корзина - оформление. Была посчитана доля пользователей, которая проходит на следующий шаг воронки: с главной страницы к каталогу переходят 62%, с каталога в корзину - 81% и с корзины переходят к оформлению - около 95%. Из этого можно сделать вывод, что большая часть теряется уже на втором шаге при переходе к странице с предложениями, а дальше люди уже довольно стабильно переходят к оплате. \n",
    "\n",
    "Если рассматривать долю пользователей, которые доходят от первого события до оплаты, то хорошо заметно, что при переходе с первого на второй шаг теряется около 38% от начальных пользователей. Дальше от перехода из каталога в корзину пропадает еще 12% пользователей. И при переходе к последнему событию теряются всего 2%. В итоге с главного экрана и до корзины доходят чуть меньше половины пользователей, а точнее 47.7% пользователей."
   ]
  },
  {
   "cell_type": "markdown",
   "metadata": {},
   "source": [
    "## Анализ результатов эксперимента"
   ]
  },
  {
   "cell_type": "markdown",
   "metadata": {},
   "source": [
    "### Количество пользователей в каждой экспериментальной группе"
   ]
  },
  {
   "cell_type": "markdown",
   "metadata": {},
   "source": [
    "Посчитаем, сколько уникальных пользователей в каждой из трех групп:"
   ]
  },
  {
   "cell_type": "code",
   "execution_count": 29,
   "metadata": {
    "scrolled": true
   },
   "outputs": [
    {
     "data": {
      "text/plain": [
       "exp_id\n",
       "248    2537\n",
       "247    2513\n",
       "246    2484\n",
       "Name: device_id_hash, dtype: int64"
      ]
     },
     "execution_count": 29,
     "metadata": {},
     "output_type": "execute_result"
    }
   ],
   "source": [
    "total_us = new_data.groupby('exp_id')['device_id_hash'].nunique().sort_values(ascending=False)\n",
    "total_us"
   ]
  },
  {
   "cell_type": "markdown",
   "metadata": {},
   "source": [
    "Больше всего пользователей из экспериментальной группы 248, далее идут контрольные группы 247 и 246. В принципе, отличия в количестве пользователей незначительны."
   ]
  },
  {
   "cell_type": "markdown",
   "metadata": {},
   "source": [
    "### Проверка контрольных групп"
   ]
  },
  {
   "cell_type": "markdown",
   "metadata": {},
   "source": [
    "У нас есть 2 контрольные группы для А/А-эксперимента, чтобы проверить корректность всех механизмов и расчётов. Проверим, находят ли статистические критерии разницу между выборками 246 и 247."
   ]
  },
  {
   "cell_type": "code",
   "execution_count": 30,
   "metadata": {
    "scrolled": true
   },
   "outputs": [
    {
     "data": {
      "text/html": [
       "<div>\n",
       "<style scoped>\n",
       "    .dataframe tbody tr th:only-of-type {\n",
       "        vertical-align: middle;\n",
       "    }\n",
       "\n",
       "    .dataframe tbody tr th {\n",
       "        vertical-align: top;\n",
       "    }\n",
       "\n",
       "    .dataframe thead th {\n",
       "        text-align: right;\n",
       "    }\n",
       "</style>\n",
       "<table border=\"1\" class=\"dataframe\">\n",
       "  <thead>\n",
       "    <tr style=\"text-align: right;\">\n",
       "      <th></th>\n",
       "      <th>CartScreenAppear</th>\n",
       "      <th>MainScreenAppear</th>\n",
       "      <th>OffersScreenAppear</th>\n",
       "      <th>PaymentScreenSuccessful</th>\n",
       "      <th>device_id_hash</th>\n",
       "      <th>dolyaMainScreen</th>\n",
       "    </tr>\n",
       "    <tr>\n",
       "      <th>exp_id</th>\n",
       "      <th></th>\n",
       "      <th></th>\n",
       "      <th></th>\n",
       "      <th></th>\n",
       "      <th></th>\n",
       "      <th></th>\n",
       "    </tr>\n",
       "  </thead>\n",
       "  <tbody>\n",
       "    <tr>\n",
       "      <th>246</th>\n",
       "      <td>1266</td>\n",
       "      <td>2450</td>\n",
       "      <td>1542</td>\n",
       "      <td>1200</td>\n",
       "      <td>2484</td>\n",
       "      <td>0.986312</td>\n",
       "    </tr>\n",
       "    <tr>\n",
       "      <th>247</th>\n",
       "      <td>1238</td>\n",
       "      <td>2476</td>\n",
       "      <td>1520</td>\n",
       "      <td>1158</td>\n",
       "      <td>2513</td>\n",
       "      <td>0.985277</td>\n",
       "    </tr>\n",
       "    <tr>\n",
       "      <th>248</th>\n",
       "      <td>1230</td>\n",
       "      <td>2493</td>\n",
       "      <td>1531</td>\n",
       "      <td>1181</td>\n",
       "      <td>2537</td>\n",
       "      <td>0.982657</td>\n",
       "    </tr>\n",
       "  </tbody>\n",
       "</table>\n",
       "</div>"
      ],
      "text/plain": [
       "        CartScreenAppear  MainScreenAppear  OffersScreenAppear  \\\n",
       "exp_id                                                           \n",
       "246                 1266              2450                1542   \n",
       "247                 1238              2476                1520   \n",
       "248                 1230              2493                1531   \n",
       "\n",
       "        PaymentScreenSuccessful  device_id_hash  dolyaMainScreen  \n",
       "exp_id                                                            \n",
       "246                        1200            2484         0.986312  \n",
       "247                        1158            2513         0.985277  \n",
       "248                        1181            2537         0.982657  "
      ]
     },
     "execution_count": 30,
     "metadata": {},
     "output_type": "execute_result"
    }
   ],
   "source": [
    "#подготовим данные \n",
    "aa_test = new_data.query('event_name != \"Tutorial\"').pivot_table(\n",
    "    index='exp_id', columns='event_name', values='device_id_hash', aggfunc='nunique'\n",
    ")\n",
    "aa_test = aa_test.merge(total_us, on='exp_id', how='left')\n",
    "\n",
    "aa_test['dolyaMainScreen'] = aa_test['MainScreenAppear'] / aa_test['device_id_hash']\n",
    "aa_test"
   ]
  },
  {
   "cell_type": "markdown",
   "metadata": {},
   "source": [
    "Значения отличаются друг от друга, но не значительно, в пределах 40 уникальных пользователей. Далее проверим конкретные гипотезы для каждого из события относительно групп 246 и 247."
   ]
  },
  {
   "cell_type": "markdown",
   "metadata": {},
   "source": [
    "Мы будем проводить несколько проверок гипотез о равенстве долей. Напишем функцию для z-критерия для оптимизации процесса."
   ]
  },
  {
   "cell_type": "code",
   "execution_count": 31,
   "metadata": {},
   "outputs": [],
   "source": [
    "def z_kriterii (group1, group2, event, alpha):\n",
    "    success = np.array([new_data.query('event_name == @event and exp_id == @group1').device_id_hash.nunique(),\n",
    "                           new_data.query('event_name == @event and exp_id == @group2').device_id_hash.nunique()])\n",
    "    trials = np.array([new_data.query('exp_id == @group1').device_id_hash.nunique(),\n",
    "                           new_data.query('exp_id == @group2').device_id_hash.nunique()])\n",
    "    # пропорция успехов в первой группе:\n",
    "    p1 = success[0] / trials[0]\n",
    "    # пропорция успехов во второй группе:\n",
    "    p2 = success[1] / trials[1]\n",
    "    # пропорция успехов в комбинированном датасете:\n",
    "    p_combined = (success[0] + success[1]) / (trials[0] + trials[1])\n",
    "    # разница пропорций в датасетах\n",
    "    difference = p1 - p2\n",
    " \n",
    "    z_value = difference / mth.sqrt(p_combined *(1-p_combined) * (1/trials[0] + 1/trials[1]))\n",
    "    \n",
    "    distr = st.norm(0, 1) \n",
    "    \n",
    "    p_value = (1 - distr.cdf(abs(z_value))) * 2\n",
    "    \n",
    "    print('p-значение: ', p_value)\n",
    "    \n",
    "    if (p_value < alpha):\n",
    "        print(\"Отвергаем нулевую гипотезу: между долями есть значимая разница\")\n",
    "    else:\n",
    "        print(\"Не получилось отвергнуть нулевую гипотезу, нет оснований считать доли разными\")"
   ]
  },
  {
   "cell_type": "markdown",
   "metadata": {},
   "source": [
    "Сейчас мы будем проверять находят ли статистические критерии разницу между выборками 246 и 247. \n",
    "\n",
    "Нулевая гипотеза: Разница между долями в двух группах отсуствует. Альтернативая гипотеза - разница между долями статистически значима. \n",
    "\n",
    "В качестве уровня статистической значимости возьмем 0,05."
   ]
  },
  {
   "cell_type": "code",
   "execution_count": 32,
   "metadata": {},
   "outputs": [],
   "source": [
    "alpha = 0.05\n",
    "group1 = 246\n",
    "group2 = 247"
   ]
  },
  {
   "cell_type": "code",
   "execution_count": 33,
   "metadata": {
    "scrolled": true
   },
   "outputs": [
    {
     "name": "stdout",
     "output_type": "stream",
     "text": [
      "MainScreenAppear\n",
      "p-значение:  0.7570597232046099\n",
      "Не получилось отвергнуть нулевую гипотезу, нет оснований считать доли разными\n",
      "\n",
      "OffersScreenAppear\n",
      "p-значение:  0.2480954578522181\n",
      "Не получилось отвергнуть нулевую гипотезу, нет оснований считать доли разными\n",
      "\n",
      "CartScreenAppear\n",
      "p-значение:  0.22883372237997213\n",
      "Не получилось отвергнуть нулевую гипотезу, нет оснований считать доли разными\n",
      "\n",
      "PaymentScreenSuccessful\n",
      "p-значение:  0.11456679313141849\n",
      "Не получилось отвергнуть нулевую гипотезу, нет оснований считать доли разными\n",
      "\n"
     ]
    }
   ],
   "source": [
    "#1 событие - MainScreenAppear\n",
    "print('MainScreenAppear')\n",
    "event = 'MainScreenAppear'\n",
    "z_kriterii (group1, group2, event, alpha)\n",
    "print()\n",
    "#2 событие - OffersScreenAppear\n",
    "print('OffersScreenAppear')\n",
    "event = 'OffersScreenAppear'\n",
    "z_kriterii (group1, group2, event, alpha)\n",
    "print()\n",
    "#3 событие - CartScreenAppear\n",
    "print('CartScreenAppear')\n",
    "event = 'CartScreenAppear'\n",
    "z_kriterii (group1, group2, event, alpha)\n",
    "print()\n",
    "#4 событие - PaymentScreenSuccessful\n",
    "print('PaymentScreenSuccessful')\n",
    "event = 'PaymentScreenSuccessful'\n",
    "z_kriterii (group1, group2, event, alpha)\n",
    "print()"
   ]
  },
  {
   "cell_type": "markdown",
   "metadata": {},
   "source": [
    "Во всех случаях р-значение значительно больше уровня значимости. Не можем отвергнуть нулевую гипотезу, то есть статистически значимой разницы между группами нет. "
   ]
  },
  {
   "cell_type": "markdown",
   "metadata": {},
   "source": [
    "### Результаты проверки контрольных групп"
   ]
  },
  {
   "cell_type": "markdown",
   "metadata": {},
   "source": [
    "Теперь выберем самое популярное событие. Посчитаем число пользователей, совершивших это событие в каждой из контрольных групп. Посчитаем долю пользователей, совершивших это событие. Проверим, будет ли отличие между группами статистически достоверным. Проделаем то же самое для всех других событий. Узнаем, можно ли сказать, что разбиение на группы работает корректно?"
   ]
  },
  {
   "cell_type": "markdown",
   "metadata": {},
   "source": [
    "Ранее мы уже обозначали, что самое популярное событие - это посещение главной страницы. Кол-во пользователей, совершивших его уже есть в таблице выше. Это 2450 пользователей в 246 группе и 2476 - в 247 группе.  Доля пользователей, совершивших это событие в обоих случаях более 98% (0.986312 - для 246 группы и 0.985277- для 247 группы). Мы уже сделали проверку гипотез в разделе проверки контрольных групп и обнаружили, что разбиение на группы работает корректно, так как статистически значимых различий нет. "
   ]
  },
  {
   "cell_type": "markdown",
   "metadata": {},
   "source": [
    "### Сравнение экспериментальной группы с контрольными"
   ]
  },
  {
   "cell_type": "markdown",
   "metadata": {},
   "source": [
    "Аналогично поступим с группой с изменённым шрифтом. Сравним результаты с каждой из контрольных групп в отдельности по каждому событию. Сравним результаты с объединённой контрольной группой. \n",
    "\n",
    "Для проверки гипотез будем пользоваться написанной ранее функцией для Z-критерия.\n",
    "Нулевая гипотеза- между группами нет разницы. Альтернативная гипотеза - статистически значимые отличия между группами есть.\n",
    "\n",
    "Уровень статистической значимости останется 0.05.\n",
    "\n",
    "Начнем со сравнения групп 246 и 248:"
   ]
  },
  {
   "cell_type": "code",
   "execution_count": 34,
   "metadata": {
    "scrolled": true
   },
   "outputs": [
    {
     "name": "stdout",
     "output_type": "stream",
     "text": [
      "MainScreenAppear\n",
      "p-значение:  0.2949721933554552\n",
      "Не получилось отвергнуть нулевую гипотезу, нет оснований считать доли разными\n",
      "\n",
      "OffersScreenAppear\n",
      "p-значение:  0.20836205402738917\n",
      "Не получилось отвергнуть нулевую гипотезу, нет оснований считать доли разными\n",
      "\n",
      "CartScreenAppear\n",
      "p-значение:  0.07842923237520116\n",
      "Не получилось отвергнуть нулевую гипотезу, нет оснований считать доли разными\n",
      "\n",
      "PaymentScreenSuccessful\n",
      "p-значение:  0.2122553275697796\n",
      "Не получилось отвергнуть нулевую гипотезу, нет оснований считать доли разными\n",
      "\n"
     ]
    }
   ],
   "source": [
    "alpha = 0.05\n",
    "group1 = 246\n",
    "group2 = 248\n",
    "#1 событие - MainScreenAppear\n",
    "print('MainScreenAppear')\n",
    "event = 'MainScreenAppear'\n",
    "z_kriterii (group1, group2, event, alpha)\n",
    "print()\n",
    "#2 событие - OffersScreenAppear\n",
    "print('OffersScreenAppear')\n",
    "event = 'OffersScreenAppear'\n",
    "z_kriterii (group1, group2, event, alpha)\n",
    "print()\n",
    "#3 событие - CartScreenAppear\n",
    "print('CartScreenAppear')\n",
    "event = 'CartScreenAppear'\n",
    "z_kriterii (group1, group2, event, alpha)\n",
    "print()\n",
    "#4 событие - PaymentScreenSuccessful\n",
    "print('PaymentScreenSuccessful')\n",
    "event = 'PaymentScreenSuccessful'\n",
    "z_kriterii (group1, group2, event, alpha)\n",
    "print()"
   ]
  },
  {
   "cell_type": "markdown",
   "metadata": {},
   "source": [
    "Во всех событиях, р-значение больше уровня значимости, поэтому нулевую гипотезу отвергнуть не получается, значит статистически значимых отличий между группами 246 и 248 нет.\n",
    "\n",
    "Перейдем к сравнению групп 247 и 248:"
   ]
  },
  {
   "cell_type": "code",
   "execution_count": 35,
   "metadata": {
    "scrolled": true
   },
   "outputs": [
    {
     "name": "stdout",
     "output_type": "stream",
     "text": [
      "MainScreenAppear\n",
      "p-значение:  0.4587053616621515\n",
      "Не получилось отвергнуть нулевую гипотезу, нет оснований считать доли разными\n",
      "\n",
      "OffersScreenAppear\n",
      "p-значение:  0.9197817830592261\n",
      "Не получилось отвергнуть нулевую гипотезу, нет оснований считать доли разными\n",
      "\n",
      "CartScreenAppear\n",
      "p-значение:  0.5786197879539783\n",
      "Не получилось отвергнуть нулевую гипотезу, нет оснований считать доли разными\n",
      "\n",
      "PaymentScreenSuccessful\n",
      "p-значение:  0.7373415053803964\n",
      "Не получилось отвергнуть нулевую гипотезу, нет оснований считать доли разными\n",
      "\n"
     ]
    }
   ],
   "source": [
    "alpha = 0.05\n",
    "group1 = 247\n",
    "group2 = 248\n",
    "#1 событие - MainScreenAppear\n",
    "print('MainScreenAppear')\n",
    "event = 'MainScreenAppear'\n",
    "z_kriterii (group1, group2, event, alpha)\n",
    "print()\n",
    "#2 событие - OffersScreenAppear\n",
    "print('OffersScreenAppear')\n",
    "event = 'OffersScreenAppear'\n",
    "z_kriterii (group1, group2, event, alpha)\n",
    "print()\n",
    "#3 событие - CartScreenAppear\n",
    "print('CartScreenAppear')\n",
    "event = 'CartScreenAppear'\n",
    "z_kriterii (group1, group2, event, alpha)\n",
    "print()\n",
    "#4 событие - PaymentScreenSuccessful\n",
    "print('PaymentScreenSuccessful')\n",
    "event = 'PaymentScreenSuccessful'\n",
    "z_kriterii (group1, group2, event, alpha)\n",
    "print()"
   ]
  },
  {
   "cell_type": "markdown",
   "metadata": {},
   "source": [
    "Ситуация аналогичная: р-значение больше уровня значимости для каждого события, поэтому нулевую гипотезу отвергнуть не получается, значит статистически значимых отличий между группами 247 и 248 нет.\n",
    "\n",
    "Сравним результаты с объединённой контрольной группой:"
   ]
  },
  {
   "cell_type": "code",
   "execution_count": 36,
   "metadata": {},
   "outputs": [
    {
     "name": "stdout",
     "output_type": "stream",
     "text": [
      "MainScreenAppear\n",
      "p-значение:  0.29424526837179577\n",
      "Не получилось отвергнуть нулевую гипотезу, нет оснований считать доли разными\n",
      "\n",
      "OffersScreenAppear\n",
      "p-значение:  0.43425549655188256\n",
      "Не получилось отвергнуть нулевую гипотезу, нет оснований считать доли разными\n",
      "\n",
      "CartScreenAppear\n",
      "p-значение:  0.18175875284404386\n",
      "Не получилось отвергнуть нулевую гипотезу, нет оснований считать доли разными\n",
      "\n",
      "PaymentScreenSuccessful\n",
      "p-значение:  0.6004294282308704\n",
      "Не получилось отвергнуть нулевую гипотезу, нет оснований считать доли разными\n",
      "\n"
     ]
    }
   ],
   "source": [
    "alpha = 0.05\n",
    "group1 = [246,247]\n",
    "group2 = 248\n",
    "#1 событие - MainScreenAppear\n",
    "print('MainScreenAppear')\n",
    "event = 'MainScreenAppear'\n",
    "z_kriterii (group1, group2, event, alpha)\n",
    "print()\n",
    "#2 событие - OffersScreenAppear\n",
    "print('OffersScreenAppear')\n",
    "event = 'OffersScreenAppear'\n",
    "z_kriterii (group1, group2, event, alpha)\n",
    "print()\n",
    "#3 событие - CartScreenAppear\n",
    "print('CartScreenAppear')\n",
    "event = 'CartScreenAppear'\n",
    "z_kriterii (group1, group2, event, alpha)\n",
    "print()\n",
    "#4 событие - PaymentScreenSuccessful\n",
    "print('PaymentScreenSuccessful')\n",
    "event = 'PaymentScreenSuccessful'\n",
    "z_kriterii (group1, group2, event, alpha)\n",
    "print()"
   ]
  },
  {
   "cell_type": "markdown",
   "metadata": {},
   "source": [
    "Показатели сравнения с объединенной контрольной группой тоже печальные. Снова не можем отвергнуть нулевую гипотезу, то есть отличий между пользователями нет. "
   ]
  },
  {
   "cell_type": "markdown",
   "metadata": {},
   "source": [
    "Таким образом, все сравнения показали, что изменение шрифта никак не повлияло на активность пользователей."
   ]
  },
  {
   "cell_type": "markdown",
   "metadata": {},
   "source": [
    "### Анализ уровня значимости"
   ]
  },
  {
   "cell_type": "markdown",
   "metadata": {},
   "source": [
    "При проверке статистических гипотез мы выбрали уровень значимости 0.05. Всего было сделано 16 проверок гипотез. При уровне значимости 0.1 в 10% случаев можно ошибочно отклонить нулевую гипотезу при условии, что она верна, но мы и так использовали уровень значимости 0.5, в результате чего все гипотезы не получилось отвергнуть. Если мы проделаем все то же самое с большим уровнем значимости ничего не изменится. Таким образом, делаем вывод, что уровень значимости оптимальный. Значимых различий между контрольными группами и экспериментальной нет. "
   ]
  },
  {
   "cell_type": "markdown",
   "metadata": {},
   "source": [
    "## Выводы"
   ]
  },
  {
   "cell_type": "markdown",
   "metadata": {},
   "source": [
    "В ходе работы мы изучили поведение пользователей мобильного приложения.\n",
    "\n",
    "Сначала были изучены данные и проведена их предобработка:\n",
    "1. Были изменены названия столбцов\n",
    "2. Удалены явные дубликаты\n",
    "3. Добавлено два новых столбца с датой и врменем \n",
    "\n",
    "Также мы отсекли данные за июль, так как их было мало и они не давали полного представления о пользователях. Затем была проанализирована воронка. Воронка пользователей включает 4 события: главная страница - каталог - корзина - оформление заказа. Руководство в воронку мы не брали, так как количество пользователей, совершавших это событие мало на фоне остальных. С самого начала и до последнего события доходят около 48% пользователей приложения. Большинство пользователей отпадает на этапе перехода к странице с предложениями. \n",
    "\n",
    "Исследование результатов A/A/B-эксперимента показало, что шрифт никак не влияет на поведение пользователей. Значимых различий между контрольными и экспериментальной группами нет. "
   ]
  }
 ],
 "metadata": {
  "ExecuteTimeLog": [
   {
    "duration": 432,
    "start_time": "2023-10-20T16:50:54.036Z"
   },
   {
    "duration": 779,
    "start_time": "2023-10-20T16:52:21.472Z"
   },
   {
    "duration": 3,
    "start_time": "2023-10-20T16:52:24.315Z"
   },
   {
    "duration": 293,
    "start_time": "2023-10-20T16:52:26.090Z"
   },
   {
    "duration": 301,
    "start_time": "2023-10-20T16:52:30.861Z"
   },
   {
    "duration": 96,
    "start_time": "2023-10-20T16:52:56.849Z"
   },
   {
    "duration": 289,
    "start_time": "2023-10-20T16:53:00.639Z"
   },
   {
    "duration": 167,
    "start_time": "2023-10-20T16:53:12.009Z"
   },
   {
    "duration": 166,
    "start_time": "2023-10-20T17:31:08.356Z"
   },
   {
    "duration": 21,
    "start_time": "2023-10-20T17:32:29.396Z"
   },
   {
    "duration": 3,
    "start_time": "2023-10-20T17:48:10.635Z"
   },
   {
    "duration": 10,
    "start_time": "2023-10-20T17:48:13.788Z"
   },
   {
    "duration": 3,
    "start_time": "2023-10-20T17:48:19.415Z"
   },
   {
    "duration": 11,
    "start_time": "2023-10-20T17:56:43.995Z"
   },
   {
    "duration": 4,
    "start_time": "2023-10-20T17:57:02.777Z"
   },
   {
    "duration": 18,
    "start_time": "2023-10-20T17:57:31.810Z"
   },
   {
    "duration": 56,
    "start_time": "2023-10-20T17:58:30.175Z"
   },
   {
    "duration": 54,
    "start_time": "2023-10-20T17:58:50.231Z"
   },
   {
    "duration": 111,
    "start_time": "2023-10-20T18:00:15.016Z"
   },
   {
    "duration": 65,
    "start_time": "2023-10-20T18:00:21.696Z"
   },
   {
    "duration": 110,
    "start_time": "2023-10-20T18:00:35.318Z"
   },
   {
    "duration": 65,
    "start_time": "2023-10-20T18:00:40.622Z"
   },
   {
    "duration": 54,
    "start_time": "2023-10-20T18:01:02.358Z"
   },
   {
    "duration": 389,
    "start_time": "2023-10-20T18:01:08.757Z"
   },
   {
    "duration": 201,
    "start_time": "2023-10-20T18:01:09.148Z"
   },
   {
    "duration": 21,
    "start_time": "2023-10-20T18:01:09.350Z"
   },
   {
    "duration": 4,
    "start_time": "2023-10-20T18:01:09.373Z"
   },
   {
    "duration": 18,
    "start_time": "2023-10-20T18:01:09.379Z"
   },
   {
    "duration": 108,
    "start_time": "2023-10-20T18:01:09.398Z"
   },
   {
    "duration": 90,
    "start_time": "2023-10-20T18:01:09.508Z"
   },
   {
    "duration": 65,
    "start_time": "2023-10-20T18:01:09.599Z"
   },
   {
    "duration": 58,
    "start_time": "2023-10-20T18:02:12.946Z"
   },
   {
    "duration": 62,
    "start_time": "2023-10-20T18:02:14.059Z"
   },
   {
    "duration": 18,
    "start_time": "2023-10-20T18:03:51.504Z"
   },
   {
    "duration": 36,
    "start_time": "2023-10-20T18:26:31.863Z"
   },
   {
    "duration": 59,
    "start_time": "2023-10-20T18:26:38.835Z"
   },
   {
    "duration": 18,
    "start_time": "2023-10-20T18:26:47.357Z"
   },
   {
    "duration": 417,
    "start_time": "2023-10-20T18:28:06.827Z"
   },
   {
    "duration": 184,
    "start_time": "2023-10-20T18:28:07.246Z"
   },
   {
    "duration": 28,
    "start_time": "2023-10-20T18:28:07.432Z"
   },
   {
    "duration": 28,
    "start_time": "2023-10-20T18:28:07.462Z"
   },
   {
    "duration": 19,
    "start_time": "2023-10-20T18:28:07.492Z"
   },
   {
    "duration": 84,
    "start_time": "2023-10-20T18:28:07.512Z"
   },
   {
    "duration": 77,
    "start_time": "2023-10-20T18:28:07.598Z"
   },
   {
    "duration": 56,
    "start_time": "2023-10-20T18:28:07.677Z"
   },
   {
    "duration": 18,
    "start_time": "2023-10-20T18:28:07.743Z"
   },
   {
    "duration": 66,
    "start_time": "2023-10-20T18:28:07.763Z"
   },
   {
    "duration": 2,
    "start_time": "2023-10-20T18:28:49.756Z"
   },
   {
    "duration": 9,
    "start_time": "2023-10-20T18:28:52.457Z"
   },
   {
    "duration": 11,
    "start_time": "2023-10-20T18:28:55.740Z"
   },
   {
    "duration": 392,
    "start_time": "2023-10-20T18:28:58.568Z"
   },
   {
    "duration": 15,
    "start_time": "2023-10-20T18:29:03.767Z"
   },
   {
    "duration": 1321,
    "start_time": "2023-10-20T18:32:09.856Z"
   },
   {
    "duration": 392,
    "start_time": "2023-10-20T18:32:34.431Z"
   },
   {
    "duration": 45,
    "start_time": "2023-10-20T18:32:35.880Z"
   },
   {
    "duration": 7,
    "start_time": "2023-10-20T18:32:38.123Z"
   },
   {
    "duration": 11,
    "start_time": "2023-10-20T18:32:43.430Z"
   },
   {
    "duration": 7,
    "start_time": "2023-10-20T18:32:45.151Z"
   },
   {
    "duration": 13,
    "start_time": "2023-10-20T18:32:50.521Z"
   },
   {
    "duration": 68,
    "start_time": "2023-10-20T18:33:38.022Z"
   },
   {
    "duration": 14,
    "start_time": "2023-10-20T18:33:39.467Z"
   },
   {
    "duration": 425,
    "start_time": "2023-10-20T18:33:57.432Z"
   },
   {
    "duration": 175,
    "start_time": "2023-10-20T18:33:57.859Z"
   },
   {
    "duration": 24,
    "start_time": "2023-10-20T18:33:58.035Z"
   },
   {
    "duration": 4,
    "start_time": "2023-10-20T18:33:58.061Z"
   },
   {
    "duration": 20,
    "start_time": "2023-10-20T18:33:58.066Z"
   },
   {
    "duration": 75,
    "start_time": "2023-10-20T18:33:58.088Z"
   },
   {
    "duration": 69,
    "start_time": "2023-10-20T18:33:58.165Z"
   },
   {
    "duration": 53,
    "start_time": "2023-10-20T18:33:58.244Z"
   },
   {
    "duration": 19,
    "start_time": "2023-10-20T18:33:58.298Z"
   },
   {
    "duration": 398,
    "start_time": "2023-10-20T18:33:58.319Z"
   },
   {
    "duration": 68,
    "start_time": "2023-10-20T18:33:58.719Z"
   },
   {
    "duration": 24,
    "start_time": "2023-10-20T18:33:58.789Z"
   },
   {
    "duration": 9,
    "start_time": "2023-10-20T18:34:19.093Z"
   },
   {
    "duration": 467,
    "start_time": "2023-10-20T18:42:46.789Z"
   },
   {
    "duration": 358,
    "start_time": "2023-10-20T18:42:57.784Z"
   },
   {
    "duration": 185,
    "start_time": "2023-10-20T18:42:58.144Z"
   },
   {
    "duration": 23,
    "start_time": "2023-10-20T18:42:58.330Z"
   },
   {
    "duration": 4,
    "start_time": "2023-10-20T18:42:58.355Z"
   },
   {
    "duration": 52,
    "start_time": "2023-10-20T18:42:58.360Z"
   },
   {
    "duration": 72,
    "start_time": "2023-10-20T18:42:58.414Z"
   },
   {
    "duration": 84,
    "start_time": "2023-10-20T18:42:58.488Z"
   },
   {
    "duration": 58,
    "start_time": "2023-10-20T18:42:58.574Z"
   },
   {
    "duration": 25,
    "start_time": "2023-10-20T18:42:58.633Z"
   },
   {
    "duration": 490,
    "start_time": "2023-10-20T18:42:58.660Z"
   },
   {
    "duration": 3,
    "start_time": "2023-10-20T18:50:41.438Z"
   },
   {
    "duration": 10,
    "start_time": "2023-10-20T18:55:51.903Z"
   },
   {
    "duration": 6,
    "start_time": "2023-10-20T19:06:58.062Z"
   },
   {
    "duration": 13,
    "start_time": "2023-10-20T19:07:39.579Z"
   },
   {
    "duration": 30,
    "start_time": "2023-10-20T19:19:52.966Z"
   },
   {
    "duration": 31,
    "start_time": "2023-10-20T19:21:07.714Z"
   },
   {
    "duration": 30,
    "start_time": "2023-10-20T19:21:16.031Z"
   },
   {
    "duration": 30,
    "start_time": "2023-10-20T19:21:43.241Z"
   },
   {
    "duration": 30,
    "start_time": "2023-10-20T19:21:49.145Z"
   },
   {
    "duration": 29,
    "start_time": "2023-10-20T19:23:07.337Z"
   },
   {
    "duration": 389,
    "start_time": "2023-10-20T19:26:58.579Z"
   },
   {
    "duration": 260,
    "start_time": "2023-10-20T19:33:00.505Z"
   },
   {
    "duration": 242,
    "start_time": "2023-10-20T19:33:11.938Z"
   },
   {
    "duration": 239,
    "start_time": "2023-10-20T19:33:16.723Z"
   },
   {
    "duration": 307,
    "start_time": "2023-10-20T19:33:24.254Z"
   },
   {
    "duration": 230,
    "start_time": "2023-10-20T19:33:27.788Z"
   },
   {
    "duration": 262,
    "start_time": "2023-10-20T19:34:06.521Z"
   },
   {
    "duration": 231,
    "start_time": "2023-10-20T19:34:19.367Z"
   },
   {
    "duration": 641,
    "start_time": "2023-10-20T19:35:40.855Z"
   },
   {
    "duration": 178,
    "start_time": "2023-10-20T19:35:41.498Z"
   },
   {
    "duration": 19,
    "start_time": "2023-10-20T19:35:41.678Z"
   },
   {
    "duration": 13,
    "start_time": "2023-10-20T19:35:41.699Z"
   },
   {
    "duration": 38,
    "start_time": "2023-10-20T19:35:41.714Z"
   },
   {
    "duration": 74,
    "start_time": "2023-10-20T19:35:41.753Z"
   },
   {
    "duration": 80,
    "start_time": "2023-10-20T19:35:41.828Z"
   },
   {
    "duration": 70,
    "start_time": "2023-10-20T19:35:41.909Z"
   },
   {
    "duration": 21,
    "start_time": "2023-10-20T19:35:41.981Z"
   },
   {
    "duration": 502,
    "start_time": "2023-10-20T19:35:42.004Z"
   },
   {
    "duration": 3,
    "start_time": "2023-10-20T19:35:42.508Z"
   },
   {
    "duration": 34,
    "start_time": "2023-10-20T19:35:42.512Z"
   },
   {
    "duration": 34,
    "start_time": "2023-10-20T19:35:42.547Z"
   },
   {
    "duration": 56,
    "start_time": "2023-10-20T19:35:42.584Z"
   },
   {
    "duration": 37,
    "start_time": "2023-10-20T19:35:42.642Z"
   },
   {
    "duration": 311,
    "start_time": "2023-10-20T19:35:42.680Z"
   },
   {
    "duration": 642,
    "start_time": "2023-10-20T19:35:59.206Z"
   },
   {
    "duration": 183,
    "start_time": "2023-10-20T19:35:59.850Z"
   },
   {
    "duration": 27,
    "start_time": "2023-10-20T19:36:00.035Z"
   },
   {
    "duration": 21,
    "start_time": "2023-10-20T19:36:00.065Z"
   },
   {
    "duration": 100,
    "start_time": "2023-10-20T19:36:00.087Z"
   },
   {
    "duration": 103,
    "start_time": "2023-10-20T19:36:00.189Z"
   },
   {
    "duration": 161,
    "start_time": "2023-10-20T19:36:00.294Z"
   },
   {
    "duration": 72,
    "start_time": "2023-10-20T19:36:00.457Z"
   },
   {
    "duration": 27,
    "start_time": "2023-10-20T19:36:00.544Z"
   },
   {
    "duration": 517,
    "start_time": "2023-10-20T19:36:00.573Z"
   },
   {
    "duration": 3,
    "start_time": "2023-10-20T19:36:01.092Z"
   },
   {
    "duration": 145,
    "start_time": "2023-10-20T19:36:01.096Z"
   },
   {
    "duration": 86,
    "start_time": "2023-10-20T19:36:01.243Z"
   },
   {
    "duration": 210,
    "start_time": "2023-10-20T19:36:01.331Z"
   },
   {
    "duration": 223,
    "start_time": "2023-10-20T19:36:01.543Z"
   },
   {
    "duration": 60,
    "start_time": "2023-10-20T19:39:31.267Z"
   },
   {
    "duration": 624,
    "start_time": "2023-10-20T19:39:39.475Z"
   },
   {
    "duration": 744,
    "start_time": "2023-10-20T19:39:40.101Z"
   },
   {
    "duration": 35,
    "start_time": "2023-10-20T19:39:40.847Z"
   },
   {
    "duration": 7,
    "start_time": "2023-10-20T19:39:40.884Z"
   },
   {
    "duration": 37,
    "start_time": "2023-10-20T19:39:40.894Z"
   },
   {
    "duration": 95,
    "start_time": "2023-10-20T19:39:40.933Z"
   },
   {
    "duration": 82,
    "start_time": "2023-10-20T19:39:41.031Z"
   },
   {
    "duration": 67,
    "start_time": "2023-10-20T19:39:41.115Z"
   },
   {
    "duration": 18,
    "start_time": "2023-10-20T19:39:41.184Z"
   },
   {
    "duration": 472,
    "start_time": "2023-10-20T19:39:41.204Z"
   },
   {
    "duration": 2,
    "start_time": "2023-10-20T19:39:41.678Z"
   },
   {
    "duration": 17,
    "start_time": "2023-10-20T19:39:41.681Z"
   },
   {
    "duration": 6,
    "start_time": "2023-10-20T19:39:41.699Z"
   },
   {
    "duration": 55,
    "start_time": "2023-10-20T19:39:41.707Z"
   },
   {
    "duration": 30,
    "start_time": "2023-10-20T19:39:41.763Z"
   },
   {
    "duration": 588,
    "start_time": "2023-10-20T19:40:28.497Z"
   },
   {
    "duration": 191,
    "start_time": "2023-10-20T19:40:29.087Z"
   },
   {
    "duration": 21,
    "start_time": "2023-10-20T19:40:29.280Z"
   },
   {
    "duration": 26,
    "start_time": "2023-10-20T19:40:29.302Z"
   },
   {
    "duration": 40,
    "start_time": "2023-10-20T19:40:29.332Z"
   },
   {
    "duration": 97,
    "start_time": "2023-10-20T19:40:29.373Z"
   },
   {
    "duration": 91,
    "start_time": "2023-10-20T19:40:29.472Z"
   },
   {
    "duration": 59,
    "start_time": "2023-10-20T19:40:29.564Z"
   },
   {
    "duration": 29,
    "start_time": "2023-10-20T19:40:29.625Z"
   },
   {
    "duration": 476,
    "start_time": "2023-10-20T19:40:29.656Z"
   },
   {
    "duration": 4,
    "start_time": "2023-10-20T19:40:30.133Z"
   },
   {
    "duration": 42,
    "start_time": "2023-10-20T19:40:30.138Z"
   },
   {
    "duration": 23,
    "start_time": "2023-10-20T19:40:30.181Z"
   },
   {
    "duration": 55,
    "start_time": "2023-10-20T19:40:30.207Z"
   },
   {
    "duration": 77,
    "start_time": "2023-10-20T19:40:30.264Z"
   },
   {
    "duration": 758,
    "start_time": "2023-10-20T19:41:53.643Z"
   },
   {
    "duration": 546,
    "start_time": "2023-10-20T19:41:54.403Z"
   },
   {
    "duration": 2275,
    "start_time": "2023-10-20T19:41:54.951Z"
   },
   {
    "duration": 4,
    "start_time": "2023-10-20T19:41:57.229Z"
   },
   {
    "duration": 31,
    "start_time": "2023-10-20T19:41:57.235Z"
   },
   {
    "duration": 85,
    "start_time": "2023-10-20T19:41:57.268Z"
   },
   {
    "duration": 78,
    "start_time": "2023-10-20T19:41:57.355Z"
   },
   {
    "duration": 68,
    "start_time": "2023-10-20T19:41:57.435Z"
   },
   {
    "duration": 18,
    "start_time": "2023-10-20T19:41:57.504Z"
   },
   {
    "duration": 479,
    "start_time": "2023-10-20T19:41:57.524Z"
   },
   {
    "duration": 3,
    "start_time": "2023-10-20T19:41:58.004Z"
   },
   {
    "duration": 27,
    "start_time": "2023-10-20T19:41:58.009Z"
   },
   {
    "duration": 18,
    "start_time": "2023-10-20T19:41:58.038Z"
   },
   {
    "duration": 38,
    "start_time": "2023-10-20T19:41:58.057Z"
   },
   {
    "duration": 36,
    "start_time": "2023-10-20T19:41:58.096Z"
   },
   {
    "duration": 259,
    "start_time": "2023-10-20T19:41:58.134Z"
   },
   {
    "duration": 78,
    "start_time": "2023-10-20T19:48:13.215Z"
   },
   {
    "duration": 409,
    "start_time": "2023-10-20T19:48:22.997Z"
   },
   {
    "duration": 394,
    "start_time": "2023-10-20T19:48:58.722Z"
   },
   {
    "duration": 357,
    "start_time": "2023-10-20T19:52:56.519Z"
   },
   {
    "duration": 381,
    "start_time": "2023-10-20T19:53:12.626Z"
   },
   {
    "duration": 8,
    "start_time": "2023-10-20T19:53:45.481Z"
   },
   {
    "duration": 7,
    "start_time": "2023-10-20T19:53:56.968Z"
   },
   {
    "duration": 507,
    "start_time": "2023-10-20T19:59:28.336Z"
   },
   {
    "duration": 9,
    "start_time": "2023-10-20T20:01:12.715Z"
   },
   {
    "duration": 378,
    "start_time": "2023-10-20T20:01:26.119Z"
   },
   {
    "duration": 466,
    "start_time": "2023-10-20T20:01:33.983Z"
   },
   {
    "duration": 9,
    "start_time": "2023-10-20T20:01:40.987Z"
   },
   {
    "duration": 30,
    "start_time": "2023-10-20T20:02:30.377Z"
   },
   {
    "duration": 521,
    "start_time": "2023-10-20T20:03:39.992Z"
   },
   {
    "duration": 29,
    "start_time": "2023-10-20T20:03:42.953Z"
   },
   {
    "duration": 50,
    "start_time": "2023-10-20T20:04:12.606Z"
   },
   {
    "duration": 387,
    "start_time": "2023-10-20T20:05:10.261Z"
   },
   {
    "duration": 23,
    "start_time": "2023-10-20T20:05:21.983Z"
   },
   {
    "duration": 27,
    "start_time": "2023-10-20T20:05:38.072Z"
   },
   {
    "duration": 30,
    "start_time": "2023-10-20T20:05:45.231Z"
   },
   {
    "duration": 16,
    "start_time": "2023-10-20T20:06:07.153Z"
   },
   {
    "duration": 17,
    "start_time": "2023-10-20T20:06:16.758Z"
   },
   {
    "duration": 20,
    "start_time": "2023-10-20T20:06:30.001Z"
   },
   {
    "duration": 1198,
    "start_time": "2023-10-20T20:10:20.362Z"
   },
   {
    "duration": 328,
    "start_time": "2023-10-20T20:11:03.456Z"
   },
   {
    "duration": 10,
    "start_time": "2023-10-20T20:13:18.345Z"
   },
   {
    "duration": 6,
    "start_time": "2023-10-20T20:16:09.275Z"
   },
   {
    "duration": 7,
    "start_time": "2023-10-20T20:16:40.746Z"
   },
   {
    "duration": 4,
    "start_time": "2023-10-20T20:16:53.231Z"
   },
   {
    "duration": 4,
    "start_time": "2023-10-20T20:18:21.309Z"
   },
   {
    "duration": 4,
    "start_time": "2023-10-20T20:19:41.659Z"
   },
   {
    "duration": 6,
    "start_time": "2023-10-20T20:19:45.553Z"
   },
   {
    "duration": 5,
    "start_time": "2023-10-20T20:20:17.667Z"
   },
   {
    "duration": 5,
    "start_time": "2023-10-20T20:20:24.502Z"
   },
   {
    "duration": 102,
    "start_time": "2023-10-20T20:23:50.676Z"
   },
   {
    "duration": 18,
    "start_time": "2023-10-20T20:24:01.274Z"
   },
   {
    "duration": 7,
    "start_time": "2023-10-20T20:31:09.795Z"
   },
   {
    "duration": 6,
    "start_time": "2023-10-20T20:31:15.667Z"
   },
   {
    "duration": 40,
    "start_time": "2023-10-20T20:36:35.012Z"
   },
   {
    "duration": 913,
    "start_time": "2023-10-22T14:41:13.761Z"
   },
   {
    "duration": 574,
    "start_time": "2023-10-22T14:41:14.677Z"
   },
   {
    "duration": 23,
    "start_time": "2023-10-22T14:41:15.253Z"
   },
   {
    "duration": 26,
    "start_time": "2023-10-22T14:41:15.278Z"
   },
   {
    "duration": 30,
    "start_time": "2023-10-22T14:41:15.306Z"
   },
   {
    "duration": 77,
    "start_time": "2023-10-22T14:41:15.338Z"
   },
   {
    "duration": 89,
    "start_time": "2023-10-22T14:41:15.416Z"
   },
   {
    "duration": 60,
    "start_time": "2023-10-22T14:41:15.507Z"
   },
   {
    "duration": 39,
    "start_time": "2023-10-22T14:41:15.568Z"
   },
   {
    "duration": 450,
    "start_time": "2023-10-22T14:41:15.610Z"
   },
   {
    "duration": 24,
    "start_time": "2023-10-22T14:41:16.062Z"
   },
   {
    "duration": 26,
    "start_time": "2023-10-22T14:41:16.087Z"
   },
   {
    "duration": 16,
    "start_time": "2023-10-22T14:41:16.114Z"
   },
   {
    "duration": 11,
    "start_time": "2023-10-22T14:41:16.133Z"
   },
   {
    "duration": 13,
    "start_time": "2023-10-22T14:41:16.146Z"
   },
   {
    "duration": 9,
    "start_time": "2023-10-22T14:41:16.161Z"
   },
   {
    "duration": 372,
    "start_time": "2023-10-22T14:41:16.172Z"
   },
   {
    "duration": 26,
    "start_time": "2023-10-22T14:41:16.545Z"
   },
   {
    "duration": 10,
    "start_time": "2023-10-22T14:41:16.572Z"
   },
   {
    "duration": 28,
    "start_time": "2023-10-22T14:41:16.602Z"
   },
   {
    "duration": 31,
    "start_time": "2023-10-22T14:41:16.633Z"
   },
   {
    "duration": 8,
    "start_time": "2023-10-22T14:41:16.666Z"
   },
   {
    "duration": 37,
    "start_time": "2023-10-22T14:41:16.676Z"
   },
   {
    "duration": 28,
    "start_time": "2023-10-22T14:45:30.350Z"
   },
   {
    "duration": 29,
    "start_time": "2023-10-22T14:46:45.713Z"
   },
   {
    "duration": 55,
    "start_time": "2023-10-22T15:06:21.054Z"
   },
   {
    "duration": 54,
    "start_time": "2023-10-22T15:06:40.848Z"
   },
   {
    "duration": 54,
    "start_time": "2023-10-22T15:10:02.960Z"
   },
   {
    "duration": 70,
    "start_time": "2023-10-22T15:10:10.181Z"
   },
   {
    "duration": 51,
    "start_time": "2023-10-22T15:10:58.312Z"
   },
   {
    "duration": 54,
    "start_time": "2023-10-22T15:11:02.924Z"
   },
   {
    "duration": 58,
    "start_time": "2023-10-22T15:11:08.368Z"
   },
   {
    "duration": 57,
    "start_time": "2023-10-22T15:13:07.627Z"
   },
   {
    "duration": 85,
    "start_time": "2023-10-22T15:13:12.259Z"
   },
   {
    "duration": 136,
    "start_time": "2023-10-22T15:13:54.462Z"
   },
   {
    "duration": 413,
    "start_time": "2023-10-22T15:14:26.138Z"
   },
   {
    "duration": 61,
    "start_time": "2023-10-22T15:15:20.269Z"
   },
   {
    "duration": 492,
    "start_time": "2023-10-22T15:16:12.092Z"
   },
   {
    "duration": 87,
    "start_time": "2023-10-22T15:16:20.877Z"
   },
   {
    "duration": 85,
    "start_time": "2023-10-22T15:16:24.253Z"
   },
   {
    "duration": 71,
    "start_time": "2023-10-22T15:16:27.840Z"
   },
   {
    "duration": 76,
    "start_time": "2023-10-22T15:17:46.099Z"
   },
   {
    "duration": 65,
    "start_time": "2023-10-22T15:50:43.790Z"
   },
   {
    "duration": 93,
    "start_time": "2023-10-22T15:52:12.516Z"
   },
   {
    "duration": 105,
    "start_time": "2023-10-22T15:52:30.430Z"
   },
   {
    "duration": 81,
    "start_time": "2023-10-22T15:52:41.717Z"
   },
   {
    "duration": 10,
    "start_time": "2023-10-22T16:26:32.126Z"
   },
   {
    "duration": 92,
    "start_time": "2023-10-22T16:44:18.496Z"
   },
   {
    "duration": 1611,
    "start_time": "2023-10-22T16:44:25.184Z"
   },
   {
    "duration": 10,
    "start_time": "2023-10-22T16:45:04.064Z"
   },
   {
    "duration": 12,
    "start_time": "2023-10-22T16:45:13.838Z"
   },
   {
    "duration": 18,
    "start_time": "2023-10-22T16:45:24.270Z"
   },
   {
    "duration": 15,
    "start_time": "2023-10-22T16:47:39.051Z"
   },
   {
    "duration": 229,
    "start_time": "2023-10-22T16:48:00.270Z"
   },
   {
    "duration": 142,
    "start_time": "2023-10-22T16:48:09.434Z"
   },
   {
    "duration": 14,
    "start_time": "2023-10-22T16:48:19.679Z"
   },
   {
    "duration": 23,
    "start_time": "2023-10-22T16:50:21.221Z"
   },
   {
    "duration": 29,
    "start_time": "2023-10-22T16:50:56.888Z"
   },
   {
    "duration": 9,
    "start_time": "2023-10-22T16:54:56.199Z"
   },
   {
    "duration": 728,
    "start_time": "2023-10-22T16:55:12.752Z"
   },
   {
    "duration": 339,
    "start_time": "2023-10-22T16:55:13.482Z"
   },
   {
    "duration": 25,
    "start_time": "2023-10-22T16:55:13.822Z"
   },
   {
    "duration": 5,
    "start_time": "2023-10-22T16:55:13.850Z"
   },
   {
    "duration": 34,
    "start_time": "2023-10-22T16:55:13.857Z"
   },
   {
    "duration": 93,
    "start_time": "2023-10-22T16:55:13.893Z"
   },
   {
    "duration": 111,
    "start_time": "2023-10-22T16:55:13.988Z"
   },
   {
    "duration": 78,
    "start_time": "2023-10-22T16:55:14.101Z"
   },
   {
    "duration": 41,
    "start_time": "2023-10-22T16:55:14.181Z"
   },
   {
    "duration": 625,
    "start_time": "2023-10-22T16:55:14.226Z"
   },
   {
    "duration": 52,
    "start_time": "2023-10-22T16:55:14.854Z"
   },
   {
    "duration": 8,
    "start_time": "2023-10-22T16:55:14.910Z"
   },
   {
    "duration": 16,
    "start_time": "2023-10-22T16:55:14.927Z"
   },
   {
    "duration": 9,
    "start_time": "2023-10-22T16:55:14.945Z"
   },
   {
    "duration": 8,
    "start_time": "2023-10-22T16:55:14.956Z"
   },
   {
    "duration": 53,
    "start_time": "2023-10-22T16:55:14.967Z"
   },
   {
    "duration": 440,
    "start_time": "2023-10-22T16:55:15.022Z"
   },
   {
    "duration": 42,
    "start_time": "2023-10-22T16:55:15.464Z"
   },
   {
    "duration": 13,
    "start_time": "2023-10-22T16:55:15.511Z"
   },
   {
    "duration": 60,
    "start_time": "2023-10-22T16:55:15.526Z"
   },
   {
    "duration": 38,
    "start_time": "2023-10-22T16:55:15.589Z"
   },
   {
    "duration": 24,
    "start_time": "2023-10-22T16:55:15.630Z"
   },
   {
    "duration": 62,
    "start_time": "2023-10-22T16:55:15.656Z"
   },
   {
    "duration": 49,
    "start_time": "2023-10-22T16:55:15.721Z"
   },
   {
    "duration": 114,
    "start_time": "2023-10-22T16:55:15.771Z"
   },
   {
    "duration": 20,
    "start_time": "2023-10-22T16:55:15.887Z"
   },
   {
    "duration": 83,
    "start_time": "2023-10-22T16:56:57.765Z"
   },
   {
    "duration": 15,
    "start_time": "2023-10-22T16:57:19.097Z"
   },
   {
    "duration": 14,
    "start_time": "2023-10-22T16:57:41.721Z"
   },
   {
    "duration": 16,
    "start_time": "2023-10-22T16:57:57.477Z"
   },
   {
    "duration": 11,
    "start_time": "2023-10-22T17:15:28.771Z"
   },
   {
    "duration": 11,
    "start_time": "2023-10-22T17:19:57.064Z"
   },
   {
    "duration": 863,
    "start_time": "2023-10-23T14:07:44.293Z"
   },
   {
    "duration": 527,
    "start_time": "2023-10-23T14:07:45.158Z"
   },
   {
    "duration": 23,
    "start_time": "2023-10-23T14:07:45.687Z"
   },
   {
    "duration": 10,
    "start_time": "2023-10-23T14:07:45.713Z"
   },
   {
    "duration": 28,
    "start_time": "2023-10-23T14:07:45.724Z"
   },
   {
    "duration": 91,
    "start_time": "2023-10-23T14:07:45.754Z"
   },
   {
    "duration": 94,
    "start_time": "2023-10-23T14:07:45.847Z"
   },
   {
    "duration": 87,
    "start_time": "2023-10-23T14:07:45.943Z"
   },
   {
    "duration": 32,
    "start_time": "2023-10-23T14:07:46.032Z"
   },
   {
    "duration": 481,
    "start_time": "2023-10-23T14:07:46.069Z"
   },
   {
    "duration": 21,
    "start_time": "2023-10-23T14:07:46.551Z"
   },
   {
    "duration": 11,
    "start_time": "2023-10-23T14:07:46.574Z"
   },
   {
    "duration": 15,
    "start_time": "2023-10-23T14:07:46.587Z"
   },
   {
    "duration": 8,
    "start_time": "2023-10-23T14:07:46.603Z"
   },
   {
    "duration": 8,
    "start_time": "2023-10-23T14:07:46.623Z"
   },
   {
    "duration": 8,
    "start_time": "2023-10-23T14:07:46.633Z"
   },
   {
    "duration": 352,
    "start_time": "2023-10-23T14:07:46.642Z"
   },
   {
    "duration": 30,
    "start_time": "2023-10-23T14:07:46.996Z"
   },
   {
    "duration": 5,
    "start_time": "2023-10-23T14:07:47.028Z"
   },
   {
    "duration": 6,
    "start_time": "2023-10-23T14:07:47.035Z"
   },
   {
    "duration": 21,
    "start_time": "2023-10-23T14:07:47.042Z"
   },
   {
    "duration": 6,
    "start_time": "2023-10-23T14:07:47.064Z"
   },
   {
    "duration": 59,
    "start_time": "2023-10-23T14:07:47.071Z"
   },
   {
    "duration": 35,
    "start_time": "2023-10-23T14:07:47.132Z"
   },
   {
    "duration": 78,
    "start_time": "2023-10-23T14:07:47.168Z"
   },
   {
    "duration": 11,
    "start_time": "2023-10-23T14:07:47.247Z"
   },
   {
    "duration": 18,
    "start_time": "2023-10-23T14:07:47.260Z"
   },
   {
    "duration": 9,
    "start_time": "2023-10-23T14:08:09.270Z"
   },
   {
    "duration": 15,
    "start_time": "2023-10-23T14:09:04.341Z"
   },
   {
    "duration": 10,
    "start_time": "2023-10-23T14:09:24.185Z"
   },
   {
    "duration": 9,
    "start_time": "2023-10-23T14:09:47.838Z"
   },
   {
    "duration": 703,
    "start_time": "2023-10-23T14:10:17.027Z"
   },
   {
    "duration": 186,
    "start_time": "2023-10-23T14:10:17.731Z"
   },
   {
    "duration": 25,
    "start_time": "2023-10-23T14:10:17.918Z"
   },
   {
    "duration": 14,
    "start_time": "2023-10-23T14:10:17.945Z"
   },
   {
    "duration": 29,
    "start_time": "2023-10-23T14:10:17.961Z"
   },
   {
    "duration": 80,
    "start_time": "2023-10-23T14:10:17.992Z"
   },
   {
    "duration": 85,
    "start_time": "2023-10-23T14:10:18.073Z"
   },
   {
    "duration": 72,
    "start_time": "2023-10-23T14:10:18.159Z"
   },
   {
    "duration": 19,
    "start_time": "2023-10-23T14:10:18.233Z"
   },
   {
    "duration": 423,
    "start_time": "2023-10-23T14:10:18.255Z"
   },
   {
    "duration": 23,
    "start_time": "2023-10-23T14:10:18.679Z"
   },
   {
    "duration": 30,
    "start_time": "2023-10-23T14:10:18.703Z"
   },
   {
    "duration": 28,
    "start_time": "2023-10-23T14:10:18.734Z"
   },
   {
    "duration": 11,
    "start_time": "2023-10-23T14:10:18.764Z"
   },
   {
    "duration": 6,
    "start_time": "2023-10-23T14:10:18.777Z"
   },
   {
    "duration": 8,
    "start_time": "2023-10-23T14:10:18.785Z"
   },
   {
    "duration": 344,
    "start_time": "2023-10-23T14:10:18.794Z"
   },
   {
    "duration": 24,
    "start_time": "2023-10-23T14:10:19.140Z"
   },
   {
    "duration": 127,
    "start_time": "2023-10-23T14:10:19.167Z"
   },
   {
    "duration": 19,
    "start_time": "2023-10-23T14:10:19.296Z"
   },
   {
    "duration": 77,
    "start_time": "2023-10-23T14:10:19.317Z"
   },
   {
    "duration": 169,
    "start_time": "2023-10-23T14:10:19.396Z"
   },
   {
    "duration": 105,
    "start_time": "2023-10-23T14:10:19.567Z"
   },
   {
    "duration": 45,
    "start_time": "2023-10-23T14:10:19.674Z"
   },
   {
    "duration": 69,
    "start_time": "2023-10-23T14:10:19.721Z"
   },
   {
    "duration": 11,
    "start_time": "2023-10-23T14:10:19.792Z"
   },
   {
    "duration": 54,
    "start_time": "2023-10-23T14:10:19.805Z"
   },
   {
    "duration": 13,
    "start_time": "2023-10-23T14:12:05.218Z"
   },
   {
    "duration": 10,
    "start_time": "2023-10-23T14:12:18.133Z"
   },
   {
    "duration": 9,
    "start_time": "2023-10-23T14:13:11.486Z"
   },
   {
    "duration": 30,
    "start_time": "2023-10-23T14:16:14.920Z"
   },
   {
    "duration": 30,
    "start_time": "2023-10-23T14:16:43.960Z"
   },
   {
    "duration": 3,
    "start_time": "2023-10-23T14:53:03.040Z"
   },
   {
    "duration": 77,
    "start_time": "2023-10-23T14:53:08.562Z"
   },
   {
    "duration": 13,
    "start_time": "2023-10-23T14:53:29.341Z"
   },
   {
    "duration": 6,
    "start_time": "2023-10-23T14:53:43.046Z"
   },
   {
    "duration": 34,
    "start_time": "2023-10-23T14:53:46.223Z"
   },
   {
    "duration": 105,
    "start_time": "2023-10-23T14:56:25.937Z"
   },
   {
    "duration": 98,
    "start_time": "2023-10-23T14:56:30.169Z"
   },
   {
    "duration": 428,
    "start_time": "2023-10-23T15:01:38.551Z"
   },
   {
    "duration": 39,
    "start_time": "2023-10-23T15:04:41.898Z"
   },
   {
    "duration": 41,
    "start_time": "2023-10-23T15:04:46.666Z"
   },
   {
    "duration": 101,
    "start_time": "2023-10-23T15:06:09.950Z"
   },
   {
    "duration": 6,
    "start_time": "2023-10-23T15:34:32.979Z"
   },
   {
    "duration": 2323,
    "start_time": "2023-10-23T15:43:47.840Z"
   },
   {
    "duration": 504,
    "start_time": "2023-10-23T15:46:53.977Z"
   },
   {
    "duration": 93,
    "start_time": "2023-10-23T15:47:11.323Z"
   },
   {
    "duration": 95,
    "start_time": "2023-10-23T15:47:23.506Z"
   },
   {
    "duration": 98,
    "start_time": "2023-10-23T15:47:29.051Z"
   },
   {
    "duration": 94,
    "start_time": "2023-10-23T15:47:44.213Z"
   },
   {
    "duration": 100,
    "start_time": "2023-10-23T15:47:50.697Z"
   },
   {
    "duration": 1813,
    "start_time": "2023-10-23T15:52:04.146Z"
   },
   {
    "duration": 1850,
    "start_time": "2023-10-23T15:54:08.901Z"
   },
   {
    "duration": 1272,
    "start_time": "2023-10-23T15:54:37.393Z"
   },
   {
    "duration": 54,
    "start_time": "2023-10-23T16:03:20.437Z"
   },
   {
    "duration": 1152,
    "start_time": "2023-10-23T16:03:25.326Z"
   },
   {
    "duration": 183,
    "start_time": "2023-10-23T16:03:26.480Z"
   },
   {
    "duration": 22,
    "start_time": "2023-10-23T16:03:26.665Z"
   },
   {
    "duration": 4,
    "start_time": "2023-10-23T16:03:26.689Z"
   },
   {
    "duration": 35,
    "start_time": "2023-10-23T16:03:26.695Z"
   },
   {
    "duration": 66,
    "start_time": "2023-10-23T16:03:26.732Z"
   },
   {
    "duration": 89,
    "start_time": "2023-10-23T16:03:26.800Z"
   },
   {
    "duration": 76,
    "start_time": "2023-10-23T16:03:26.890Z"
   },
   {
    "duration": 19,
    "start_time": "2023-10-23T16:03:26.968Z"
   },
   {
    "duration": 447,
    "start_time": "2023-10-23T16:03:26.989Z"
   },
   {
    "duration": 23,
    "start_time": "2023-10-23T16:03:27.438Z"
   },
   {
    "duration": 3,
    "start_time": "2023-10-23T16:03:27.463Z"
   },
   {
    "duration": 10,
    "start_time": "2023-10-23T16:03:27.468Z"
   },
   {
    "duration": 6,
    "start_time": "2023-10-23T16:03:27.481Z"
   },
   {
    "duration": 38,
    "start_time": "2023-10-23T16:03:27.489Z"
   },
   {
    "duration": 6,
    "start_time": "2023-10-23T16:03:27.529Z"
   },
   {
    "duration": 329,
    "start_time": "2023-10-23T16:03:27.537Z"
   },
   {
    "duration": 22,
    "start_time": "2023-10-23T16:03:27.868Z"
   },
   {
    "duration": 7,
    "start_time": "2023-10-23T16:03:27.892Z"
   },
   {
    "duration": 46,
    "start_time": "2023-10-23T16:03:27.901Z"
   },
   {
    "duration": 31,
    "start_time": "2023-10-23T16:03:27.949Z"
   },
   {
    "duration": 23,
    "start_time": "2023-10-23T16:03:27.981Z"
   },
   {
    "duration": 49,
    "start_time": "2023-10-23T16:03:28.006Z"
   },
   {
    "duration": 24,
    "start_time": "2023-10-23T16:03:28.056Z"
   },
   {
    "duration": 90,
    "start_time": "2023-10-23T16:03:28.081Z"
   },
   {
    "duration": 11,
    "start_time": "2023-10-23T16:03:28.172Z"
   },
   {
    "duration": 20,
    "start_time": "2023-10-23T16:03:28.185Z"
   },
   {
    "duration": 40,
    "start_time": "2023-10-23T16:03:28.206Z"
   },
   {
    "duration": 105,
    "start_time": "2023-10-23T16:03:28.248Z"
   },
   {
    "duration": 6,
    "start_time": "2023-10-23T16:03:28.354Z"
   },
   {
    "duration": 1802,
    "start_time": "2023-10-23T16:03:28.362Z"
   },
   {
    "duration": 0,
    "start_time": "2023-10-23T16:03:30.165Z"
   },
   {
    "duration": 11,
    "start_time": "2023-10-23T16:10:19.755Z"
   },
   {
    "duration": 10,
    "start_time": "2023-10-23T16:10:23.004Z"
   },
   {
    "duration": 2,
    "start_time": "2023-10-23T16:12:39.241Z"
   },
   {
    "duration": 9,
    "start_time": "2023-10-23T16:13:25.160Z"
   },
   {
    "duration": 5,
    "start_time": "2023-10-23T16:13:30.237Z"
   },
   {
    "duration": 3,
    "start_time": "2023-10-23T16:13:32.386Z"
   },
   {
    "duration": 43,
    "start_time": "2023-10-23T16:13:32.734Z"
   },
   {
    "duration": 45,
    "start_time": "2023-10-23T16:13:59.984Z"
   },
   {
    "duration": 13,
    "start_time": "2023-10-23T16:15:08.122Z"
   },
   {
    "duration": 44,
    "start_time": "2023-10-23T16:15:26.577Z"
   },
   {
    "duration": 6,
    "start_time": "2023-10-23T16:16:03.003Z"
   },
   {
    "duration": 42,
    "start_time": "2023-10-23T16:16:42.403Z"
   },
   {
    "duration": 2,
    "start_time": "2023-10-23T16:26:47.478Z"
   },
   {
    "duration": 43,
    "start_time": "2023-10-23T16:26:55.959Z"
   },
   {
    "duration": 45,
    "start_time": "2023-10-23T16:27:23.547Z"
   },
   {
    "duration": 5,
    "start_time": "2023-10-23T16:27:55.268Z"
   },
   {
    "duration": 52,
    "start_time": "2023-10-23T16:28:00.199Z"
   },
   {
    "duration": 42,
    "start_time": "2023-10-23T16:28:49.128Z"
   },
   {
    "duration": 41,
    "start_time": "2023-10-23T16:29:22.624Z"
   },
   {
    "duration": 83,
    "start_time": "2023-10-23T16:30:20.955Z"
   },
   {
    "duration": 116,
    "start_time": "2023-10-23T16:31:06.310Z"
   },
   {
    "duration": 133,
    "start_time": "2023-10-23T16:31:53.442Z"
   },
   {
    "duration": 109,
    "start_time": "2023-10-23T16:55:19.689Z"
   },
   {
    "duration": 97,
    "start_time": "2023-10-23T16:55:24.182Z"
   },
   {
    "duration": 101,
    "start_time": "2023-10-23T16:55:43.348Z"
   },
   {
    "duration": 148,
    "start_time": "2023-10-23T17:06:16.367Z"
   },
   {
    "duration": 138,
    "start_time": "2023-10-23T17:09:19.930Z"
   },
   {
    "duration": 179,
    "start_time": "2023-10-23T17:11:00.069Z"
   },
   {
    "duration": 1120,
    "start_time": "2023-10-23T20:06:56.406Z"
   },
   {
    "duration": 655,
    "start_time": "2023-10-23T20:06:57.528Z"
   },
   {
    "duration": 21,
    "start_time": "2023-10-23T20:06:58.185Z"
   },
   {
    "duration": 51,
    "start_time": "2023-10-23T20:06:58.209Z"
   },
   {
    "duration": 28,
    "start_time": "2023-10-23T20:06:58.264Z"
   },
   {
    "duration": 85,
    "start_time": "2023-10-23T20:06:58.294Z"
   },
   {
    "duration": 84,
    "start_time": "2023-10-23T20:06:58.383Z"
   },
   {
    "duration": 61,
    "start_time": "2023-10-23T20:06:58.468Z"
   },
   {
    "duration": 27,
    "start_time": "2023-10-23T20:06:58.530Z"
   },
   {
    "duration": 522,
    "start_time": "2023-10-23T20:06:58.560Z"
   },
   {
    "duration": 22,
    "start_time": "2023-10-23T20:06:59.084Z"
   },
   {
    "duration": 3,
    "start_time": "2023-10-23T20:06:59.108Z"
   },
   {
    "duration": 24,
    "start_time": "2023-10-23T20:06:59.113Z"
   },
   {
    "duration": 18,
    "start_time": "2023-10-23T20:06:59.141Z"
   },
   {
    "duration": 28,
    "start_time": "2023-10-23T20:06:59.160Z"
   },
   {
    "duration": 19,
    "start_time": "2023-10-23T20:06:59.190Z"
   },
   {
    "duration": 374,
    "start_time": "2023-10-23T20:06:59.211Z"
   },
   {
    "duration": 22,
    "start_time": "2023-10-23T20:06:59.588Z"
   },
   {
    "duration": 7,
    "start_time": "2023-10-23T20:06:59.612Z"
   },
   {
    "duration": 28,
    "start_time": "2023-10-23T20:06:59.620Z"
   },
   {
    "duration": 29,
    "start_time": "2023-10-23T20:06:59.656Z"
   },
   {
    "duration": 19,
    "start_time": "2023-10-23T20:06:59.687Z"
   },
   {
    "duration": 31,
    "start_time": "2023-10-23T20:06:59.708Z"
   },
   {
    "duration": 46,
    "start_time": "2023-10-23T20:06:59.740Z"
   },
   {
    "duration": 70,
    "start_time": "2023-10-23T20:06:59.788Z"
   },
   {
    "duration": 17,
    "start_time": "2023-10-23T20:06:59.859Z"
   },
   {
    "duration": 10,
    "start_time": "2023-10-23T20:06:59.878Z"
   },
   {
    "duration": 38,
    "start_time": "2023-10-23T20:06:59.890Z"
   },
   {
    "duration": 125,
    "start_time": "2023-10-23T20:06:59.930Z"
   },
   {
    "duration": 15,
    "start_time": "2023-10-23T20:07:00.056Z"
   },
   {
    "duration": 44,
    "start_time": "2023-10-23T20:07:00.075Z"
   },
   {
    "duration": 196,
    "start_time": "2023-10-23T20:07:00.120Z"
   },
   {
    "duration": 163,
    "start_time": "2023-10-23T20:07:00.319Z"
   },
   {
    "duration": 176,
    "start_time": "2023-10-23T20:07:00.484Z"
   },
   {
    "duration": 233,
    "start_time": "2023-10-23T20:07:00.666Z"
   },
   {
    "duration": 1157,
    "start_time": "2023-10-23T20:23:47.064Z"
   },
   {
    "duration": 231,
    "start_time": "2023-10-23T20:23:48.223Z"
   },
   {
    "duration": 31,
    "start_time": "2023-10-23T20:23:48.456Z"
   },
   {
    "duration": 4,
    "start_time": "2023-10-23T20:23:48.488Z"
   },
   {
    "duration": 19,
    "start_time": "2023-10-23T20:23:48.494Z"
   },
   {
    "duration": 83,
    "start_time": "2023-10-23T20:23:48.515Z"
   },
   {
    "duration": 96,
    "start_time": "2023-10-23T20:23:48.600Z"
   },
   {
    "duration": 77,
    "start_time": "2023-10-23T20:23:48.698Z"
   },
   {
    "duration": 25,
    "start_time": "2023-10-23T20:23:48.776Z"
   },
   {
    "duration": 507,
    "start_time": "2023-10-23T20:23:48.803Z"
   },
   {
    "duration": 19,
    "start_time": "2023-10-23T20:23:49.312Z"
   },
   {
    "duration": 38,
    "start_time": "2023-10-23T20:23:49.333Z"
   },
   {
    "duration": 36,
    "start_time": "2023-10-23T20:23:49.372Z"
   },
   {
    "duration": 7,
    "start_time": "2023-10-23T20:23:49.410Z"
   },
   {
    "duration": 19,
    "start_time": "2023-10-23T20:23:49.419Z"
   },
   {
    "duration": 42,
    "start_time": "2023-10-23T20:23:49.440Z"
   },
   {
    "duration": 388,
    "start_time": "2023-10-23T20:23:49.484Z"
   },
   {
    "duration": 23,
    "start_time": "2023-10-23T20:23:49.876Z"
   },
   {
    "duration": 5,
    "start_time": "2023-10-23T20:23:49.901Z"
   },
   {
    "duration": 27,
    "start_time": "2023-10-23T20:23:49.908Z"
   },
   {
    "duration": 49,
    "start_time": "2023-10-23T20:23:49.937Z"
   },
   {
    "duration": 9,
    "start_time": "2023-10-23T20:23:49.988Z"
   },
   {
    "duration": 77,
    "start_time": "2023-10-23T20:23:49.999Z"
   },
   {
    "duration": 29,
    "start_time": "2023-10-23T20:23:50.077Z"
   },
   {
    "duration": 83,
    "start_time": "2023-10-23T20:23:50.108Z"
   },
   {
    "duration": 11,
    "start_time": "2023-10-23T20:23:50.192Z"
   },
   {
    "duration": 36,
    "start_time": "2023-10-23T20:23:50.205Z"
   },
   {
    "duration": 48,
    "start_time": "2023-10-23T20:23:50.242Z"
   },
   {
    "duration": 115,
    "start_time": "2023-10-23T20:23:50.291Z"
   },
   {
    "duration": 6,
    "start_time": "2023-10-23T20:23:50.407Z"
   },
   {
    "duration": 38,
    "start_time": "2023-10-23T20:23:50.415Z"
   },
   {
    "duration": 176,
    "start_time": "2023-10-23T20:23:50.455Z"
   },
   {
    "duration": 183,
    "start_time": "2023-10-23T20:23:50.633Z"
   },
   {
    "duration": 180,
    "start_time": "2023-10-23T20:23:50.818Z"
   },
   {
    "duration": 234,
    "start_time": "2023-10-23T20:23:50.999Z"
   },
   {
    "duration": 1868,
    "start_time": "2023-10-23T20:24:07.360Z"
   },
   {
    "duration": 227,
    "start_time": "2023-10-23T20:24:09.230Z"
   },
   {
    "duration": 29,
    "start_time": "2023-10-23T20:24:09.463Z"
   },
   {
    "duration": 17,
    "start_time": "2023-10-23T20:24:09.494Z"
   },
   {
    "duration": 50,
    "start_time": "2023-10-23T20:24:09.513Z"
   },
   {
    "duration": 74,
    "start_time": "2023-10-23T20:24:09.565Z"
   },
   {
    "duration": 96,
    "start_time": "2023-10-23T20:24:09.641Z"
   },
   {
    "duration": 76,
    "start_time": "2023-10-23T20:24:09.738Z"
   },
   {
    "duration": 20,
    "start_time": "2023-10-23T20:24:09.816Z"
   },
   {
    "duration": 522,
    "start_time": "2023-10-23T20:24:09.848Z"
   },
   {
    "duration": 23,
    "start_time": "2023-10-23T20:24:10.372Z"
   },
   {
    "duration": 26,
    "start_time": "2023-10-23T20:24:10.397Z"
   },
   {
    "duration": 20,
    "start_time": "2023-10-23T20:24:10.425Z"
   },
   {
    "duration": 15,
    "start_time": "2023-10-23T20:24:10.457Z"
   },
   {
    "duration": 12,
    "start_time": "2023-10-23T20:24:10.476Z"
   },
   {
    "duration": 20,
    "start_time": "2023-10-23T20:24:10.490Z"
   },
   {
    "duration": 373,
    "start_time": "2023-10-23T20:24:10.512Z"
   },
   {
    "duration": 21,
    "start_time": "2023-10-23T20:24:10.887Z"
   },
   {
    "duration": 19,
    "start_time": "2023-10-23T20:24:10.910Z"
   },
   {
    "duration": 34,
    "start_time": "2023-10-23T20:24:10.930Z"
   },
   {
    "duration": 21,
    "start_time": "2023-10-23T20:24:10.966Z"
   },
   {
    "duration": 9,
    "start_time": "2023-10-23T20:24:10.989Z"
   },
   {
    "duration": 70,
    "start_time": "2023-10-23T20:24:10.999Z"
   },
   {
    "duration": 29,
    "start_time": "2023-10-23T20:24:11.078Z"
   },
   {
    "duration": 82,
    "start_time": "2023-10-23T20:24:11.109Z"
   },
   {
    "duration": 11,
    "start_time": "2023-10-23T20:24:11.193Z"
   },
   {
    "duration": 11,
    "start_time": "2023-10-23T20:24:11.206Z"
   },
   {
    "duration": 58,
    "start_time": "2023-10-23T20:24:11.219Z"
   },
   {
    "duration": 115,
    "start_time": "2023-10-23T20:24:11.278Z"
   },
   {
    "duration": 6,
    "start_time": "2023-10-23T20:24:11.395Z"
   },
   {
    "duration": 10,
    "start_time": "2023-10-23T20:24:11.403Z"
   },
   {
    "duration": 185,
    "start_time": "2023-10-23T20:24:11.415Z"
   },
   {
    "duration": 205,
    "start_time": "2023-10-23T20:24:11.602Z"
   },
   {
    "duration": 183,
    "start_time": "2023-10-23T20:24:11.808Z"
   },
   {
    "duration": 245,
    "start_time": "2023-10-23T20:24:11.993Z"
   },
   {
    "duration": 1288,
    "start_time": "2023-10-23T21:07:26.816Z"
   },
   {
    "duration": 529,
    "start_time": "2023-10-23T21:07:28.107Z"
   },
   {
    "duration": 22,
    "start_time": "2023-10-23T21:07:28.638Z"
   },
   {
    "duration": 6,
    "start_time": "2023-10-23T21:07:28.662Z"
   },
   {
    "duration": 18,
    "start_time": "2023-10-23T21:07:28.670Z"
   },
   {
    "duration": 86,
    "start_time": "2023-10-23T21:07:28.689Z"
   },
   {
    "duration": 87,
    "start_time": "2023-10-23T21:07:28.777Z"
   },
   {
    "duration": 68,
    "start_time": "2023-10-23T21:07:28.866Z"
   },
   {
    "duration": 19,
    "start_time": "2023-10-23T21:07:28.936Z"
   },
   {
    "duration": 443,
    "start_time": "2023-10-23T21:07:28.958Z"
   },
   {
    "duration": 21,
    "start_time": "2023-10-23T21:07:29.402Z"
   },
   {
    "duration": 8,
    "start_time": "2023-10-23T21:07:29.425Z"
   },
   {
    "duration": 22,
    "start_time": "2023-10-23T21:07:29.434Z"
   },
   {
    "duration": 7,
    "start_time": "2023-10-23T21:07:29.457Z"
   },
   {
    "duration": 6,
    "start_time": "2023-10-23T21:07:29.465Z"
   },
   {
    "duration": 19,
    "start_time": "2023-10-23T21:07:29.473Z"
   },
   {
    "duration": 437,
    "start_time": "2023-10-23T21:07:29.494Z"
   },
   {
    "duration": 32,
    "start_time": "2023-10-23T21:07:29.933Z"
   },
   {
    "duration": 7,
    "start_time": "2023-10-23T21:07:29.967Z"
   },
   {
    "duration": 5,
    "start_time": "2023-10-23T21:07:29.976Z"
   },
   {
    "duration": 57,
    "start_time": "2023-10-23T21:07:29.983Z"
   },
   {
    "duration": 9,
    "start_time": "2023-10-23T21:07:30.042Z"
   },
   {
    "duration": 95,
    "start_time": "2023-10-23T21:07:30.053Z"
   },
   {
    "duration": 26,
    "start_time": "2023-10-23T21:07:30.150Z"
   },
   {
    "duration": 90,
    "start_time": "2023-10-23T21:07:30.178Z"
   },
   {
    "duration": 17,
    "start_time": "2023-10-23T21:07:30.271Z"
   },
   {
    "duration": 54,
    "start_time": "2023-10-23T21:07:30.290Z"
   },
   {
    "duration": 71,
    "start_time": "2023-10-23T21:07:30.347Z"
   },
   {
    "duration": 111,
    "start_time": "2023-10-23T21:07:30.419Z"
   },
   {
    "duration": 6,
    "start_time": "2023-10-23T21:07:30.531Z"
   },
   {
    "duration": 38,
    "start_time": "2023-10-23T21:07:30.539Z"
   },
   {
    "duration": 191,
    "start_time": "2023-10-23T21:07:30.579Z"
   },
   {
    "duration": 176,
    "start_time": "2023-10-23T21:07:30.773Z"
   },
   {
    "duration": 174,
    "start_time": "2023-10-23T21:07:30.951Z"
   },
   {
    "duration": 200,
    "start_time": "2023-10-23T21:07:31.127Z"
   },
   {
    "duration": 97,
    "start_time": "2023-10-23T21:19:47.302Z"
   },
   {
    "duration": 14,
    "start_time": "2023-10-23T21:20:50.045Z"
   },
   {
    "duration": 47,
    "start_time": "2023-10-23T21:23:20.517Z"
   },
   {
    "duration": 38,
    "start_time": "2023-10-23T21:23:25.979Z"
   },
   {
    "duration": 35,
    "start_time": "2023-10-23T21:23:46.370Z"
   },
   {
    "duration": 47,
    "start_time": "2023-10-23T21:25:29.281Z"
   },
   {
    "duration": 37,
    "start_time": "2023-10-23T21:25:38.558Z"
   },
   {
    "duration": 39,
    "start_time": "2023-10-23T21:26:18.072Z"
   },
   {
    "duration": 45,
    "start_time": "2023-10-23T21:26:23.173Z"
   },
   {
    "duration": 37,
    "start_time": "2023-10-23T21:26:25.656Z"
   },
   {
    "duration": 40,
    "start_time": "2023-10-23T21:26:33.593Z"
   },
   {
    "duration": 38,
    "start_time": "2023-10-23T21:27:58.988Z"
   },
   {
    "duration": 38,
    "start_time": "2023-10-23T21:28:34.941Z"
   },
   {
    "duration": 6,
    "start_time": "2023-10-23T21:31:57.021Z"
   },
   {
    "duration": 6,
    "start_time": "2023-10-23T21:32:18.237Z"
   },
   {
    "duration": 5,
    "start_time": "2023-10-23T21:32:55.686Z"
   },
   {
    "duration": 5,
    "start_time": "2023-10-23T21:33:16.746Z"
   },
   {
    "duration": 5,
    "start_time": "2023-10-23T21:33:31.526Z"
   },
   {
    "duration": 5,
    "start_time": "2023-10-23T21:33:34.573Z"
   },
   {
    "duration": 5,
    "start_time": "2023-10-23T21:33:57.748Z"
   },
   {
    "duration": 6,
    "start_time": "2023-10-23T21:34:10.314Z"
   },
   {
    "duration": 5,
    "start_time": "2023-10-23T21:34:47.174Z"
   },
   {
    "duration": 29,
    "start_time": "2023-10-23T21:35:48.235Z"
   },
   {
    "duration": 1198,
    "start_time": "2023-10-24T13:56:41.695Z"
   },
   {
    "duration": 193,
    "start_time": "2023-10-24T13:56:42.895Z"
   },
   {
    "duration": 31,
    "start_time": "2023-10-24T13:56:43.090Z"
   },
   {
    "duration": 5,
    "start_time": "2023-10-24T13:56:43.123Z"
   },
   {
    "duration": 27,
    "start_time": "2023-10-24T13:56:43.131Z"
   },
   {
    "duration": 110,
    "start_time": "2023-10-24T13:56:43.161Z"
   },
   {
    "duration": 91,
    "start_time": "2023-10-24T13:56:43.273Z"
   },
   {
    "duration": 73,
    "start_time": "2023-10-24T13:56:43.366Z"
   },
   {
    "duration": 18,
    "start_time": "2023-10-24T13:56:43.441Z"
   },
   {
    "duration": 444,
    "start_time": "2023-10-24T13:56:43.462Z"
   },
   {
    "duration": 22,
    "start_time": "2023-10-24T13:56:43.908Z"
   },
   {
    "duration": 53,
    "start_time": "2023-10-24T13:56:43.932Z"
   },
   {
    "duration": 4,
    "start_time": "2023-10-24T13:56:43.986Z"
   },
   {
    "duration": 23,
    "start_time": "2023-10-24T13:56:44.003Z"
   },
   {
    "duration": 22,
    "start_time": "2023-10-24T13:56:44.028Z"
   },
   {
    "duration": 19,
    "start_time": "2023-10-24T13:56:44.052Z"
   },
   {
    "duration": 9,
    "start_time": "2023-10-24T13:56:44.073Z"
   },
   {
    "duration": 366,
    "start_time": "2023-10-24T13:56:44.084Z"
   },
   {
    "duration": 24,
    "start_time": "2023-10-24T13:56:44.452Z"
   },
   {
    "duration": 23,
    "start_time": "2023-10-24T13:56:44.478Z"
   },
   {
    "duration": 5,
    "start_time": "2023-10-24T13:56:44.503Z"
   },
   {
    "duration": 58,
    "start_time": "2023-10-24T13:56:44.510Z"
   },
   {
    "duration": 8,
    "start_time": "2023-10-24T13:56:44.571Z"
   },
   {
    "duration": 59,
    "start_time": "2023-10-24T13:56:44.581Z"
   },
   {
    "duration": 35,
    "start_time": "2023-10-24T13:56:44.642Z"
   },
   {
    "duration": 97,
    "start_time": "2023-10-24T13:56:44.680Z"
   },
   {
    "duration": 21,
    "start_time": "2023-10-24T13:56:44.780Z"
   },
   {
    "duration": 24,
    "start_time": "2023-10-24T13:56:44.803Z"
   },
   {
    "duration": 47,
    "start_time": "2023-10-24T13:56:44.828Z"
   },
   {
    "duration": 115,
    "start_time": "2023-10-24T13:56:44.876Z"
   },
   {
    "duration": 9,
    "start_time": "2023-10-24T13:56:44.993Z"
   },
   {
    "duration": 100,
    "start_time": "2023-10-24T13:56:45.004Z"
   },
   {
    "duration": 189,
    "start_time": "2023-10-24T13:56:45.106Z"
   },
   {
    "duration": 180,
    "start_time": "2023-10-24T13:56:45.302Z"
   },
   {
    "duration": 188,
    "start_time": "2023-10-24T13:56:45.484Z"
   },
   {
    "duration": 235,
    "start_time": "2023-10-24T13:56:45.673Z"
   },
   {
    "duration": 1124,
    "start_time": "2023-10-24T14:14:11.451Z"
   },
   {
    "duration": 187,
    "start_time": "2023-10-24T14:14:12.577Z"
   },
   {
    "duration": 23,
    "start_time": "2023-10-24T14:14:12.766Z"
   },
   {
    "duration": 124,
    "start_time": "2023-10-24T14:14:12.802Z"
   },
   {
    "duration": 22,
    "start_time": "2023-10-24T14:14:12.927Z"
   },
   {
    "duration": 75,
    "start_time": "2023-10-24T14:14:12.951Z"
   },
   {
    "duration": 92,
    "start_time": "2023-10-24T14:14:13.028Z"
   },
   {
    "duration": 64,
    "start_time": "2023-10-24T14:14:13.122Z"
   },
   {
    "duration": 20,
    "start_time": "2023-10-24T14:14:13.201Z"
   },
   {
    "duration": 430,
    "start_time": "2023-10-24T14:14:13.224Z"
   },
   {
    "duration": 24,
    "start_time": "2023-10-24T14:14:13.656Z"
   },
   {
    "duration": 61,
    "start_time": "2023-10-24T14:14:13.682Z"
   },
   {
    "duration": 4,
    "start_time": "2023-10-24T14:14:13.745Z"
   },
   {
    "duration": 9,
    "start_time": "2023-10-24T14:14:13.751Z"
   },
   {
    "duration": 7,
    "start_time": "2023-10-24T14:14:13.762Z"
   },
   {
    "duration": 35,
    "start_time": "2023-10-24T14:14:13.771Z"
   },
   {
    "duration": 17,
    "start_time": "2023-10-24T14:14:13.808Z"
   },
   {
    "duration": 363,
    "start_time": "2023-10-24T14:14:13.827Z"
   },
   {
    "duration": 31,
    "start_time": "2023-10-24T14:14:14.192Z"
   },
   {
    "duration": 6,
    "start_time": "2023-10-24T14:14:14.225Z"
   },
   {
    "duration": 5,
    "start_time": "2023-10-24T14:14:14.233Z"
   },
   {
    "duration": 36,
    "start_time": "2023-10-24T14:14:14.239Z"
   },
   {
    "duration": 11,
    "start_time": "2023-10-24T14:14:14.300Z"
   },
   {
    "duration": 38,
    "start_time": "2023-10-24T14:14:14.313Z"
   },
   {
    "duration": 51,
    "start_time": "2023-10-24T14:14:14.353Z"
   },
   {
    "duration": 70,
    "start_time": "2023-10-24T14:14:14.405Z"
   },
   {
    "duration": 12,
    "start_time": "2023-10-24T14:14:14.477Z"
   },
   {
    "duration": 16,
    "start_time": "2023-10-24T14:14:14.493Z"
   },
   {
    "duration": 38,
    "start_time": "2023-10-24T14:14:14.511Z"
   },
   {
    "duration": 119,
    "start_time": "2023-10-24T14:14:14.551Z"
   },
   {
    "duration": 8,
    "start_time": "2023-10-24T14:14:14.671Z"
   },
   {
    "duration": 10,
    "start_time": "2023-10-24T14:14:14.681Z"
   },
   {
    "duration": 188,
    "start_time": "2023-10-24T14:14:14.693Z"
   },
   {
    "duration": 175,
    "start_time": "2023-10-24T14:14:14.882Z"
   },
   {
    "duration": 175,
    "start_time": "2023-10-24T14:14:15.059Z"
   },
   {
    "duration": 232,
    "start_time": "2023-10-24T14:14:15.235Z"
   },
   {
    "duration": 1137,
    "start_time": "2023-10-24T14:16:04.836Z"
   },
   {
    "duration": 199,
    "start_time": "2023-10-24T14:16:05.975Z"
   },
   {
    "duration": 33,
    "start_time": "2023-10-24T14:16:06.176Z"
   },
   {
    "duration": 6,
    "start_time": "2023-10-24T14:16:06.211Z"
   },
   {
    "duration": 49,
    "start_time": "2023-10-24T14:16:06.219Z"
   },
   {
    "duration": 109,
    "start_time": "2023-10-24T14:16:06.270Z"
   },
   {
    "duration": 106,
    "start_time": "2023-10-24T14:16:06.380Z"
   },
   {
    "duration": 64,
    "start_time": "2023-10-24T14:16:06.487Z"
   },
   {
    "duration": 18,
    "start_time": "2023-10-24T14:16:06.553Z"
   },
   {
    "duration": 478,
    "start_time": "2023-10-24T14:16:06.573Z"
   },
   {
    "duration": 25,
    "start_time": "2023-10-24T14:16:07.052Z"
   },
   {
    "duration": 74,
    "start_time": "2023-10-24T14:16:07.078Z"
   },
   {
    "duration": 4,
    "start_time": "2023-10-24T14:16:07.154Z"
   },
   {
    "duration": 29,
    "start_time": "2023-10-24T14:16:07.162Z"
   },
   {
    "duration": 32,
    "start_time": "2023-10-24T14:16:07.193Z"
   },
   {
    "duration": 57,
    "start_time": "2023-10-24T14:16:07.227Z"
   },
   {
    "duration": 34,
    "start_time": "2023-10-24T14:16:07.286Z"
   },
   {
    "duration": 366,
    "start_time": "2023-10-24T14:16:07.322Z"
   },
   {
    "duration": 31,
    "start_time": "2023-10-24T14:16:07.690Z"
   },
   {
    "duration": 7,
    "start_time": "2023-10-24T14:16:07.723Z"
   },
   {
    "duration": 41,
    "start_time": "2023-10-24T14:16:07.732Z"
   },
   {
    "duration": 53,
    "start_time": "2023-10-24T14:16:07.775Z"
   },
   {
    "duration": 6,
    "start_time": "2023-10-24T14:16:07.830Z"
   },
   {
    "duration": 41,
    "start_time": "2023-10-24T14:16:07.838Z"
   },
   {
    "duration": 35,
    "start_time": "2023-10-24T14:16:07.881Z"
   },
   {
    "duration": 77,
    "start_time": "2023-10-24T14:16:07.917Z"
   },
   {
    "duration": 18,
    "start_time": "2023-10-24T14:16:08.006Z"
   },
   {
    "duration": 41,
    "start_time": "2023-10-24T14:16:08.027Z"
   },
   {
    "duration": 64,
    "start_time": "2023-10-24T14:16:08.070Z"
   },
   {
    "duration": 105,
    "start_time": "2023-10-24T14:16:08.136Z"
   },
   {
    "duration": 7,
    "start_time": "2023-10-24T14:16:08.243Z"
   },
   {
    "duration": 30,
    "start_time": "2023-10-24T14:16:08.252Z"
   },
   {
    "duration": 205,
    "start_time": "2023-10-24T14:16:08.284Z"
   },
   {
    "duration": 195,
    "start_time": "2023-10-24T14:16:08.491Z"
   },
   {
    "duration": 191,
    "start_time": "2023-10-24T14:16:08.688Z"
   },
   {
    "duration": 247,
    "start_time": "2023-10-24T14:16:08.881Z"
   }
  ],
  "kernelspec": {
   "display_name": "Python 3 (ipykernel)",
   "language": "python",
   "name": "python3"
  },
  "language_info": {
   "codemirror_mode": {
    "name": "ipython",
    "version": 3
   },
   "file_extension": ".py",
   "mimetype": "text/x-python",
   "name": "python",
   "nbconvert_exporter": "python",
   "pygments_lexer": "ipython3",
   "version": "3.11.5"
  },
  "toc": {
   "base_numbering": 1,
   "nav_menu": {},
   "number_sections": true,
   "sideBar": true,
   "skip_h1_title": true,
   "title_cell": "Table of Contents",
   "title_sidebar": "Contents",
   "toc_cell": false,
   "toc_position": {},
   "toc_section_display": true,
   "toc_window_display": false
  }
 },
 "nbformat": 4,
 "nbformat_minor": 2
}
